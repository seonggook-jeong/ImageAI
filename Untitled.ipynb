{
 "cells": [
  {
   "cell_type": "code",
   "execution_count": 1,
   "metadata": {},
   "outputs": [],
   "source": [
    "handle = 'sunnydopia@live.co.kr'\n",
    "pwd = '*helloimys90'\n",
    "k = 2"
   ]
  },
  {
   "cell_type": "code",
   "execution_count": 4,
   "metadata": {},
   "outputs": [],
   "source": [
    "import pandas as pd\n",
    "from selenium import webdriver"
   ]
  },
  {
   "cell_type": "code",
   "execution_count": 5,
   "metadata": {},
   "outputs": [
    {
     "ename": "NameError",
     "evalue": "name 'time' is not defined",
     "output_type": "error",
     "traceback": [
      "\u001b[1;31m---------------------------------------------------------------------------\u001b[0m",
      "\u001b[1;31mNameError\u001b[0m                                 Traceback (most recent call last)",
      "\u001b[1;32m<ipython-input-5-37db0b7024a7>\u001b[0m in \u001b[0;36m<module>\u001b[1;34m\u001b[0m\n\u001b[0;32m      6\u001b[0m \u001b[0miurl\u001b[0m\u001b[1;33m=\u001b[0m\u001b[1;34m'https://www.instagram.com/p/B6W9LyMhTjB'\u001b[0m\u001b[1;33m\u001b[0m\u001b[1;33m\u001b[0m\u001b[0m\n\u001b[0;32m      7\u001b[0m \u001b[0mbrowser\u001b[0m\u001b[1;33m.\u001b[0m\u001b[0mget\u001b[0m\u001b[1;33m(\u001b[0m\u001b[0miurl\u001b[0m\u001b[1;33m)\u001b[0m\u001b[1;33m\u001b[0m\u001b[1;33m\u001b[0m\u001b[0m\n\u001b[1;32m----> 8\u001b[1;33m \u001b[0mtime\u001b[0m\u001b[1;33m.\u001b[0m\u001b[0msleep\u001b[0m\u001b[1;33m(\u001b[0m\u001b[1;36m3\u001b[0m\u001b[1;33m)\u001b[0m\u001b[1;33m\u001b[0m\u001b[1;33m\u001b[0m\u001b[0m\n\u001b[0m\u001b[0;32m      9\u001b[0m \u001b[0mlogin\u001b[0m \u001b[1;33m=\u001b[0m \u001b[0mbrowser\u001b[0m\u001b[1;33m.\u001b[0m\u001b[0mfind_element_by_xpath\u001b[0m\u001b[1;33m(\u001b[0m\u001b[1;34m'//*[@id=\"react-root\"]/section/nav/div[2]/div/div/div[3]/div/span/a[1]/button'\u001b[0m\u001b[1;33m)\u001b[0m\u001b[1;33m\u001b[0m\u001b[1;33m\u001b[0m\u001b[0m\n\u001b[0;32m     10\u001b[0m \u001b[0mlogin\u001b[0m\u001b[1;33m.\u001b[0m\u001b[0mclick\u001b[0m\u001b[1;33m(\u001b[0m\u001b[1;33m)\u001b[0m\u001b[1;33m\u001b[0m\u001b[1;33m\u001b[0m\u001b[0m\n",
      "\u001b[1;31mNameError\u001b[0m: name 'time' is not defined"
     ]
    }
   ],
   "source": [
    "#raw data 로드\n",
    "insta_df = pd.read_csv('testtesttest' + str(k) + '.csv', index_col=0, encoding='UTF-8')\n",
    "\n",
    "# 로그인\n",
    "browser= webdriver.Chrome()\n",
    "iurl='https://www.instagram.com/p/B6W9LyMhTjB'\n",
    "browser.get(iurl)\n",
    "time.sleep(3)\n",
    "login = browser.find_element_by_xpath('//*[@id=\"react-root\"]/section/nav/div[2]/div/div/div[3]/div/span/a[1]/button')\n",
    "login.click()\n",
    "time.sleep(3)\n",
    "user_id = browser.find_element_by_class_name('_2hvTZ.pexuQ.zyHYP')\n",
    "pw = browser.find_element_by_xpath('//*[@id=\"react-root\"]/section/main/div/article/div/div[1]/div/form/div[3]/div/label/input')\n",
    "user_id.send_keys(handle)\n",
    "pw.send_keys(pwd)\n",
    "button = browser.find_element_by_xpath('//*[@id=\"react-root\"]/section/main/div/article/div/div[1]/div/form/div[4]/button')\n",
    "button.click()\n",
    "time.sleep(3)\n",
    "\n",
    "#주소URL에서 위도, 경도 가져오기\n",
    "def grab_and_clean_selenium(url):\n",
    "    browser.get(url)\n",
    "    try:\n",
    "        lat = browser.find_element_by_xpath(\"//meta[@property='place:location:latitude']\").get_attribute(\"content\")\n",
    "        long = browser.find_element_by_xpath(\"//meta[@property='place:location:longitude']\").get_attribute(\"content\")\n",
    "    except:\n",
    "        lat = 'N/A'\n",
    "        long= 'N/A'\n",
    "    return lat,long\n",
    "\n",
    "coord = pd.DataFrame(columns=['Latitude','Longitude','Location_URL'])\n",
    "for url in insta_df['Location_URL']:\n",
    "    lat, long = grab_and_clean_selenium(url)\n",
    "    coord = coord.append({'Latitude':lat,'Longitude':long,'Location_URL':url}, ignore_index=True)\n",
    "\n",
    "insta_df_final = pd.merge(insta_df, coord)\n",
    "insta_df_final.to_csv('rawdata_final.csv')"
   ]
  },
  {
   "cell_type": "code",
   "execution_count": null,
   "metadata": {},
   "outputs": [],
   "source": []
  }
 ],
 "metadata": {
  "kernelspec": {
   "display_name": "Python 3",
   "language": "python",
   "name": "python3"
  },
  "language_info": {
   "codemirror_mode": {
    "name": "ipython",
    "version": 3
   },
   "file_extension": ".py",
   "mimetype": "text/x-python",
   "name": "python",
   "nbconvert_exporter": "python",
   "pygments_lexer": "ipython3",
   "version": "3.7.4"
  }
 },
 "nbformat": 4,
 "nbformat_minor": 2
}

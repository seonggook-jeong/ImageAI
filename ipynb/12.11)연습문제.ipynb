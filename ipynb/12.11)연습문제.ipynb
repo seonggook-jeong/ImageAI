{
 "cells": [
  {
   "cell_type": "markdown",
   "metadata": {},
   "source": [
    "1"
   ]
  },
  {
   "cell_type": "code",
   "execution_count": 16,
   "metadata": {},
   "outputs": [
    {
     "name": "stdout",
     "output_type": "stream",
     "text": [
      "Enter a number: 0\n",
      "입력값이 2개 미만입니다.\n"
     ]
    }
   ],
   "source": [
    "numbers = []\n",
    "\n",
    "while len(numbers) < 10:\n",
    "    new_number = int(input(\"Enter a number: \"))\n",
    "    if new_number == 0:\n",
    "        break\n",
    "    else:\n",
    "        numbers.append(new_number)\n",
    "        \n",
    "numbers.sort()\n",
    "\n",
    "if len(numbers)<2:\n",
    "    print('입력값이 2개 미만입니다.')\n",
    "else: \n",
    "    print(\"두번째로 큰 숫자는 %d입니다.\"%numbers[-2])"
   ]
  },
  {
   "cell_type": "markdown",
   "metadata": {},
   "source": [
    "2"
   ]
  },
  {
   "cell_type": "code",
   "execution_count": 47,
   "metadata": {},
   "outputs": [
    {
     "name": "stdout",
     "output_type": "stream",
     "text": [
      "Enter a sentence: Hello world\n",
      "가장 많이 사용된 알파벳은 l\n"
     ]
    }
   ],
   "source": [
    "s = input('Enter a sentence: ')\n",
    "\n",
    "s_lowered = s.lower()\n",
    "\n",
    "letters_used = set(list(s_lowered))\n",
    "while ' ' in letters_used:\n",
    "    letters_used.remove(' ')\n",
    "\n",
    "letter_count_dict = OrderedDict()\n",
    "\n",
    "for letter in letters_used:\n",
    "    letter_count = s_lowered.count(letter)\n",
    "    letter_count_dict[letter] = letter_count\n",
    "\n",
    "temp_k = []\n",
    "temp_v = 0\n",
    "\n",
    "for k, v in letter_count_dict.items():\n",
    "    if v > temp_v:\n",
    "        temp_k.clear()\n",
    "        temp_k.append(k)\n",
    "        temp_v = v\n",
    "    elif v == temp_v:\n",
    "        temp_k.append(k)\n",
    "    else:\n",
    "        continue\n",
    "\n",
    "if len(temp_k) == 1:\n",
    "    print('가장 많이 사용된 알파벳은 %s'%temp_k[0])\n",
    "else:\n",
    "    print('?')"
   ]
  },
  {
   "cell_type": "code",
   "execution_count": null,
   "metadata": {},
   "outputs": [],
   "source": []
  },
  {
   "cell_type": "code",
   "execution_count": 58,
   "metadata": {},
   "outputs": [
    {
     "name": "stdout",
     "output_type": "stream",
     "text": [
      "Enter a sentence: Today is a good day\n"
     ]
    },
    {
     "ename": "TypeError",
     "evalue": "'odict_keys' object is not subscriptable",
     "output_type": "error",
     "traceback": [
      "\u001b[1;31m---------------------------------------------------------------------------\u001b[0m",
      "\u001b[1;31mTypeError\u001b[0m                                 Traceback (most recent call last)",
      "\u001b[1;32m<ipython-input-58-917c4dbb76ae>\u001b[0m in \u001b[0;36m<module>\u001b[1;34m\u001b[0m\n\u001b[0;32m     19\u001b[0m \u001b[1;33m\u001b[0m\u001b[0m\n\u001b[0;32m     20\u001b[0m \u001b[0mdict_length\u001b[0m \u001b[1;33m=\u001b[0m \u001b[0mlen\u001b[0m\u001b[1;33m(\u001b[0m\u001b[0mletter_count_dict\u001b[0m\u001b[1;33m.\u001b[0m\u001b[0mitems\u001b[0m\u001b[1;33m(\u001b[0m\u001b[1;33m)\u001b[0m\u001b[1;33m)\u001b[0m\u001b[1;33m\u001b[0m\u001b[1;33m\u001b[0m\u001b[0m\n\u001b[1;32m---> 21\u001b[1;33m \u001b[0mlast_key\u001b[0m \u001b[1;33m=\u001b[0m \u001b[0mletter_count_dict\u001b[0m\u001b[1;33m.\u001b[0m\u001b[0mkeys\u001b[0m\u001b[1;33m(\u001b[0m\u001b[1;33m)\u001b[0m\u001b[1;33m[\u001b[0m\u001b[0mdict_length\u001b[0m\u001b[1;33m-\u001b[0m\u001b[1;36m1\u001b[0m\u001b[1;33m]\u001b[0m\u001b[1;33m\u001b[0m\u001b[1;33m\u001b[0m\u001b[0m\n\u001b[0m\u001b[0;32m     22\u001b[0m \u001b[0mlast_value\u001b[0m \u001b[1;33m=\u001b[0m \u001b[0mletter_count_dict\u001b[0m\u001b[1;33m.\u001b[0m\u001b[0mvalues\u001b[0m\u001b[1;33m(\u001b[0m\u001b[1;33m)\u001b[0m\u001b[1;33m[\u001b[0m\u001b[0mdict_length\u001b[0m\u001b[1;33m-\u001b[0m\u001b[1;36m1\u001b[0m\u001b[1;33m]\u001b[0m\u001b[1;33m\u001b[0m\u001b[1;33m\u001b[0m\u001b[0m\n\u001b[0;32m     23\u001b[0m \u001b[1;33m\u001b[0m\u001b[0m\n",
      "\u001b[1;31mTypeError\u001b[0m: 'odict_keys' object is not subscriptable"
     ]
    }
   ],
   "source": [
    "s = input('Enter a sentence: ')\n",
    "\n",
    "s_lowered = s.lower()\n",
    "\n",
    "letters_used = set(list(s_lowered))\n",
    "while ' ' in letters_used:\n",
    "    letters_used.remove(' ')\n",
    "\n",
    "letter_count_dict = OrderedDict()\n",
    "\n",
    "for letter in letters_used:\n",
    "    letter_count = s_lowered.count(letter)\n",
    "    letter_count_dict[letter] = letter_count\n",
    "\n",
    "temp_k = []\n",
    "temp_v = 0\n",
    "\n",
    "letter_count_dict = OrderedDict(sorted(letter_count_dict.items(), key=lambda t:t[1]))\n",
    "\n",
    "dict_length = len(letter_count_dict.items())\n",
    "last_key = letter_count_dict.keys()[dict_length-1]\n",
    "last_value = letter_count_dict.values()[dict_length-1]\n",
    "\n",
    "if last_value != letter_count_dict.values()[dict_length-2]:\n",
    "    print('가장 많이 사용된 알파벳은 %s'%last_key)\n",
    "else:\n",
    "    print('?')"
   ]
  },
  {
   "cell_type": "code",
   "execution_count": 51,
   "metadata": {},
   "outputs": [],
   "source": [
    "letter_count_dict = OrderedDict(letter_count_dict)"
   ]
  },
  {
   "cell_type": "code",
   "execution_count": 52,
   "metadata": {},
   "outputs": [
    {
     "data": {
      "text/plain": [
       "OrderedDict([('r', 1),\n",
       "             ('h', 1),\n",
       "             ('l', 3),\n",
       "             ('e', 1),\n",
       "             ('d', 1),\n",
       "             ('w', 1),\n",
       "             ('o', 2)])"
      ]
     },
     "execution_count": 52,
     "metadata": {},
     "output_type": "execute_result"
    }
   ],
   "source": [
    "letter_count_dict"
   ]
  },
  {
   "cell_type": "code",
   "execution_count": 53,
   "metadata": {},
   "outputs": [],
   "source": [
    "letter_count_dict = OrderedDict(sorted(letter_count_dict.items(), key=lambda t:t[1]))"
   ]
  },
  {
   "cell_type": "code",
   "execution_count": 55,
   "metadata": {},
   "outputs": [
    {
     "ename": "TypeError",
     "evalue": "'builtin_function_or_method' object is not iterable",
     "output_type": "error",
     "traceback": [
      "\u001b[1;31m---------------------------------------------------------------------------\u001b[0m",
      "\u001b[1;31mTypeError\u001b[0m                                 Traceback (most recent call last)",
      "\u001b[1;32m<ipython-input-55-bf7015ed283f>\u001b[0m in \u001b[0;36m<module>\u001b[1;34m\u001b[0m\n\u001b[0;32m      2\u001b[0m     \u001b[1;32mreturn\u001b[0m \u001b[0mt\u001b[0m\u001b[1;33m[\u001b[0m\u001b[1;36m0\u001b[0m\u001b[1;33m]\u001b[0m\u001b[1;33m\u001b[0m\u001b[1;33m\u001b[0m\u001b[0m\n\u001b[0;32m      3\u001b[0m \u001b[1;33m\u001b[0m\u001b[0m\n\u001b[1;32m----> 4\u001b[1;33m \u001b[1;32mfor\u001b[0m \u001b[0mk\u001b[0m\u001b[1;33m,\u001b[0m \u001b[0mv\u001b[0m \u001b[1;32min\u001b[0m \u001b[0mOrderedDict\u001b[0m\u001b[1;33m(\u001b[0m\u001b[0msorted\u001b[0m\u001b[1;33m(\u001b[0m\u001b[0mletter_count_dict\u001b[0m\u001b[1;33m.\u001b[0m\u001b[0mitems\u001b[0m\u001b[1;33m(\u001b[0m\u001b[1;33m)\u001b[0m\u001b[1;33m,\u001b[0m \u001b[0mkey\u001b[0m \u001b[1;33m=\u001b[0m \u001b[0msort_by_key\u001b[0m\u001b[1;33m)\u001b[0m\u001b[1;33m)\u001b[0m\u001b[1;33m.\u001b[0m\u001b[0mitems\u001b[0m\u001b[1;33m:\u001b[0m\u001b[1;33m\u001b[0m\u001b[1;33m\u001b[0m\u001b[0m\n\u001b[0m\u001b[0;32m      5\u001b[0m     \u001b[0mprint\u001b[0m\u001b[1;33m(\u001b[0m\u001b[0mk\u001b[0m\u001b[1;33m,\u001b[0m \u001b[0mv\u001b[0m\u001b[1;33m)\u001b[0m\u001b[1;33m\u001b[0m\u001b[1;33m\u001b[0m\u001b[0m\n",
      "\u001b[1;31mTypeError\u001b[0m: 'builtin_function_or_method' object is not iterable"
     ]
    }
   ],
   "source": [
    "def sort_by_key(t):\n",
    "    return t[0]\n",
    "\n",
    "for k, v in OrderedDict(sorted(letter_count_dict.items(), key = sort_by_key)).items:\n",
    "    print(k, v)"
   ]
  },
  {
   "cell_type": "markdown",
   "metadata": {},
   "source": [
    "4"
   ]
  },
  {
   "cell_type": "code",
   "execution_count": 36,
   "metadata": {},
   "outputs": [],
   "source": [
    "text = \"\"\"A press release is the quickest and easiest way to get free publicity. If well written, a press release can result in multiple published articles about your firm and its products. And that can mean new prospects contacting you asking you to sell to them. ….\"\"\""
   ]
  },
  {
   "cell_type": "code",
   "execution_count": 37,
   "metadata": {},
   "outputs": [
    {
     "data": {
      "text/plain": [
       "OrderedDict([('and', 3),\n",
       "             ('to', 3),\n",
       "             ('a', 2),\n",
       "             ('press', 2),\n",
       "             ('release', 2),\n",
       "             ('can', 2),\n",
       "             ('you', 2),\n",
       "             ('is', 1),\n",
       "             ('the', 1),\n",
       "             ('quickest', 1),\n",
       "             ('easiest', 1),\n",
       "             ('way', 1),\n",
       "             ('get', 1),\n",
       "             ('free', 1),\n",
       "             ('publicity', 1),\n",
       "             ('if', 1),\n",
       "             ('well', 1),\n",
       "             ('written', 1),\n",
       "             ('result', 1),\n",
       "             ('in', 1),\n",
       "             ('multiple', 1),\n",
       "             ('published', 1),\n",
       "             ('articles', 1),\n",
       "             ('about', 1),\n",
       "             ('your', 1),\n",
       "             ('firm', 1),\n",
       "             ('its', 1),\n",
       "             ('products', 1),\n",
       "             ('that', 1),\n",
       "             ('mean', 1),\n",
       "             ('new', 1),\n",
       "             ('prospects', 1),\n",
       "             ('contacting', 1),\n",
       "             ('asking', 1),\n",
       "             ('sell', 1),\n",
       "             ('them', 1)])"
      ]
     },
     "execution_count": 37,
     "metadata": {},
     "output_type": "execute_result"
    }
   ],
   "source": [
    "import re\n",
    "char = r'[^\\d\\w\\s]'\n",
    "filtered_text = re.sub(char, '', text)\n",
    "\n",
    "from collections import defaultdict\n",
    "d = defaultdict(lambda: 0)\n",
    "\n",
    "word_list = filtered_text.lower().split()\n",
    "\n",
    "for word in word_list:\n",
    "    d[word] += 1\n",
    "\n",
    "from collections import OrderedDict\n",
    "d = OrderedDict(sorted(d.items(), key = lambda t:t[1], reverse = True))\n",
    "d"
   ]
  },
  {
   "cell_type": "markdown",
   "metadata": {},
   "source": [
    "5"
   ]
  },
  {
   "cell_type": "code",
   "execution_count": 1,
   "metadata": {},
   "outputs": [
    {
     "name": "stdout",
     "output_type": "stream",
     "text": [
      "[47.0, 74.0, 51.0, 60.0, 90.0]\n"
     ]
    }
   ],
   "source": [
    "kor_score = [49, 80, 20, 100, 80]\n",
    "math_score = [43, 60, 85, 30, 90]\n",
    "eng_score = [49, 82, 48, 50, 100]\n",
    "midterm_score = [kor_score, math_score, eng_score]\n",
    "\n",
    "student_score = [0, 0, 0, 0, 0]\n",
    "i = 0\n",
    "for subject in midterm_score:\n",
    "    for score in subject:\n",
    "        student_score[i] += score                   # 학생마다 개별로 교과 점수를 저장\n",
    "        i += 1                                      # 학생 인덱스 구분\n",
    "    i = 0                                           # 과목이 바뀔 때 학생 인덱스 초기화\n",
    "else:\n",
    "    a, b, c, d, e = student_score                   # 학생별 점수를 언패킹\n",
    "    student_average = [a/3, b/3, c/3, d/3, e/3]\n",
    "    print(student_average)\n"
   ]
  },
  {
   "cell_type": "markdown",
   "metadata": {},
   "source": [
    "학생별 평균"
   ]
  },
  {
   "cell_type": "code",
   "execution_count": 8,
   "metadata": {
    "scrolled": true
   },
   "outputs": [
    {
     "data": {
      "text/plain": [
       "[47.0, 74.0, 51.0, 60.0, 90.0]"
      ]
     },
     "execution_count": 8,
     "metadata": {},
     "output_type": "execute_result"
    }
   ],
   "source": [
    "average = [(x+y+z)/3 for x, y, z in zip(*midterm_score)]\n",
    "average"
   ]
  },
  {
   "cell_type": "markdown",
   "metadata": {},
   "source": [
    "전체 평균"
   ]
  },
  {
   "cell_type": "code",
   "execution_count": 9,
   "metadata": {},
   "outputs": [],
   "source": [
    "from functools import reduce"
   ]
  },
  {
   "cell_type": "code",
   "execution_count": 12,
   "metadata": {},
   "outputs": [
    {
     "data": {
      "text/plain": [
       "73.9375"
      ]
     },
     "execution_count": 12,
     "metadata": {},
     "output_type": "execute_result"
    }
   ],
   "source": [
    "total_average = reduce(lambda x, y: (x+y)/2, average)\n",
    "total_average"
   ]
  },
  {
   "cell_type": "code",
   "execution_count": null,
   "metadata": {},
   "outputs": [],
   "source": []
  },
  {
   "cell_type": "code",
   "execution_count": 58,
   "metadata": {},
   "outputs": [
    {
     "data": {
      "text/plain": [
       "[47.0, 74.0, 51.0, 60.0, 90.0]"
      ]
     },
     "execution_count": 58,
     "metadata": {},
     "output_type": "execute_result"
    }
   ],
   "source": [
    "#map 함수 활용하기\n",
    "f = lambda x: reduce(lambda y, z: y+z, x)/3\n",
    "map_average = map(f, list(zip(*midterm_score)))\n",
    "list(map_average)"
   ]
  },
  {
   "cell_type": "code",
   "execution_count": null,
   "metadata": {},
   "outputs": [],
   "source": []
  }
 ],
 "metadata": {
  "kernelspec": {
   "display_name": "Python 3",
   "language": "python",
   "name": "python3"
  },
  "language_info": {
   "codemirror_mode": {
    "name": "ipython",
    "version": 3
   },
   "file_extension": ".py",
   "mimetype": "text/x-python",
   "name": "python",
   "nbconvert_exporter": "python",
   "pygments_lexer": "ipython3",
   "version": "3.7.4"
  }
 },
 "nbformat": 4,
 "nbformat_minor": 2
}

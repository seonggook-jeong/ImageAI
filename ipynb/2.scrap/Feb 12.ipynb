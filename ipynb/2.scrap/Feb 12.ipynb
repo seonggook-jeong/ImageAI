{
 "cells": [
  {
   "cell_type": "code",
   "execution_count": 1,
   "metadata": {
    "ExecuteTime": {
     "end_time": "2020-02-11T23:57:37.062795Z",
     "start_time": "2020-02-11T23:57:37.058807Z"
    }
   },
   "outputs": [],
   "source": [
    "import socket"
   ]
  },
  {
   "cell_type": "code",
   "execution_count": 2,
   "metadata": {
    "ExecuteTime": {
     "end_time": "2020-02-11T23:57:37.774337Z",
     "start_time": "2020-02-11T23:57:37.770348Z"
    }
   },
   "outputs": [],
   "source": [
    "server_socket = socket.socket()"
   ]
  },
  {
   "cell_type": "code",
   "execution_count": 3,
   "metadata": {
    "ExecuteTime": {
     "end_time": "2020-02-11T23:57:48.754015Z",
     "start_time": "2020-02-11T23:57:41.603031Z"
    }
   },
   "outputs": [
    {
     "name": "stdout",
     "output_type": "stream",
     "text": [
      "listening\n",
      "accepting\n",
      "GET / HTTP/1.1\n",
      "Host: localhost\n",
      "Connection: keep-alive\n",
      "Upgrade-Insecure-Requests: 1\n",
      "User-Agent: Mozilla/5.0 (Windows NT 10.0; Win64; x64) AppleWebKit/537.36 (KHTML, like Gecko) Chrome/79.0.3945.130 Safari/537.36\n",
      "Sec-Fetch-User: ?1\n",
      "Accept: text/html,application/xhtml+xml,application/xml;q=0.9,image/webp,image/apng,*/*;q=0.8,application/signed-exchange;v=b3;q=0.9\n",
      "Sec-Fetch-Site: none\n",
      "Sec-Fetch-Mode: navigate\n",
      "Accept-Encoding: gzip, deflate, br\n",
      "Accept-Language: ko-KR,ko;q=0.9,en-US;q=0.8,en;q=0.7\n",
      "Cookie: _xsrf=2|48bc2ba9|8105cc02a002037e121467c43648a2df|1579690113; username-localhost-8888=\"2|1:0|10:1581465147|23:username-localhost-8888|44:NGYwMDYyYmZlZjc2NDU3NmExYzhkNGFiZDIzNjUzMjE=|d1faa15015ba95434917bd9a5b781e23a4ac148d2e83f6abaab3fba86b6cfac8\"\n",
      "\n",
      "\n",
      "finished\n"
     ]
    }
   ],
   "source": [
    "server_socket.bind(('localhost', 80))\n",
    "\n",
    "server_socket.listen(0)\n",
    "print('listening')\n",
    "\n",
    "client_socket, addr = server_socket.accept()\n",
    "print('accepting')\n",
    "\n",
    "data = client_socket.recv(65535)\n",
    "print(data.decode())\n",
    "\n",
    "client_socket.close()\n",
    "print('finished')"
   ]
  },
  {
   "cell_type": "code",
   "execution_count": 8,
   "metadata": {
    "ExecuteTime": {
     "end_time": "2020-02-12T00:03:21.078042Z",
     "start_time": "2020-02-12T00:03:19.378506Z"
    }
   },
   "outputs": [
    {
     "name": "stdout",
     "output_type": "stream",
     "text": [
      "listening\n",
      "accepting\n",
      "GET /?id=hello HTTP/1.1\n",
      "Host: 127.0.0.1\n",
      "Connection: keep-alive\n",
      "Cache-Control: max-age=0\n",
      "Upgrade-Insecure-Requests: 1\n",
      "User-Agent: Mozilla/5.0 (Windows NT 10.0; Win64; x64) AppleWebKit/537.36 (KHTML, like Gecko) Chrome/79.0.3945.130 Safari/537.36\n",
      "Accept: text/html,application/xhtml+xml,application/xml;q=0.9,image/webp,image/apng,*/*;q=0.8,application/signed-exchange;v=b3;q=0.9\n",
      "Sec-Fetch-Site: cross-site\n",
      "Sec-Fetch-Mode: navigate\n",
      "Accept-Encoding: gzip, deflate, br\n",
      "Accept-Language: ko-KR,ko;q=0.9,en-US;q=0.8,en;q=0.7\n",
      "Cookie: hblid=YQOJnYUBTBlUiRws3m39N0Gopkja3W6r; olfsk=olfsk778599512347137\n",
      "\n",
      "\n",
      "finished\n"
     ]
    }
   ],
   "source": [
    "server_socket = socket.socket()\n",
    "\n",
    "server_socket.bind(('localhost', 80))\n",
    "\n",
    "server_socket.listen(0)\n",
    "print('listening')\n",
    "\n",
    "client_socket, addr = server_socket.accept()\n",
    "print('accepting')\n",
    "\n",
    "data = client_socket.recv(65535)\n",
    "print(data.decode())\n",
    "\n",
    "client_socket.close()\n",
    "print('finished')"
   ]
  },
  {
   "cell_type": "code",
   "execution_count": 11,
   "metadata": {
    "ExecuteTime": {
     "end_time": "2020-02-12T00:04:51.385471Z",
     "start_time": "2020-02-12T00:04:47.722506Z"
    }
   },
   "outputs": [
    {
     "name": "stdout",
     "output_type": "stream",
     "text": [
      "listening\n",
      "accepting\n",
      "POST / HTTP/1.1\n",
      "Host: 127.0.0.1\n",
      "Connection: keep-alive\n",
      "Content-Length: 8\n",
      "Cache-Control: max-age=0\n",
      "Upgrade-Insecure-Requests: 1\n",
      "Origin: null\n",
      "Content-Type: application/x-www-form-urlencoded\n",
      "User-Agent: Mozilla/5.0 (Windows NT 10.0; Win64; x64) AppleWebKit/537.36 (KHTML, like Gecko) Chrome/79.0.3945.130 Safari/537.36\n",
      "Sec-Fetch-User: ?1\n",
      "Accept: text/html,application/xhtml+xml,application/xml;q=0.9,image/webp,image/apng,*/*;q=0.8,application/signed-exchange;v=b3;q=0.9\n",
      "Sec-Fetch-Site: cross-site\n",
      "Sec-Fetch-Mode: navigate\n",
      "Accept-Encoding: gzip, deflate, br\n",
      "Accept-Language: ko-KR,ko;q=0.9,en-US;q=0.8,en;q=0.7\n",
      "Cookie: hblid=YQOJnYUBTBlUiRws3m39N0Gopkja3W6r; olfsk=olfsk778599512347137\n",
      "\n",
      "id=hello\n",
      "finished\n"
     ]
    }
   ],
   "source": [
    "server_socket = socket.socket()\n",
    "\n",
    "server_socket.bind(('localhost', 80))\n",
    "\n",
    "server_socket.listen(0)\n",
    "print('listening')\n",
    "\n",
    "client_socket, addr = server_socket.accept()\n",
    "print('accepting')\n",
    "\n",
    "data = client_socket.recv(65535)\n",
    "print(data.decode())\n",
    "\n",
    "client_socket.close()\n",
    "print('finished')"
   ]
  },
  {
   "cell_type": "code",
   "execution_count": 2,
   "metadata": {
    "ExecuteTime": {
     "end_time": "2020-02-12T00:10:11.131719Z",
     "start_time": "2020-02-12T00:10:05.038546Z"
    }
   },
   "outputs": [
    {
     "name": "stdout",
     "output_type": "stream",
     "text": [
      "listening\n",
      "accepting\n",
      "GET / HTTP/1.1\n",
      "Host: localhost\n",
      "Connection: keep-alive\n",
      "Upgrade-Insecure-Requests: 1\n",
      "User-Agent: Mozilla/5.0 (Windows NT 10.0; Win64; x64) AppleWebKit/537.36 (KHTML, like Gecko) Chrome/79.0.3945.130 Safari/537.36\n",
      "Sec-Fetch-User: ?1\n",
      "Accept: text/html,application/xhtml+xml,application/xml;q=0.9,image/webp,image/apng,*/*;q=0.8,application/signed-exchange;v=b3;q=0.9\n",
      "Sec-Fetch-Site: none\n",
      "Sec-Fetch-Mode: navigate\n",
      "Accept-Encoding: gzip, deflate, br\n",
      "Accept-Language: ko-KR,ko;q=0.9,en-US;q=0.8,en;q=0.7\n",
      "Cookie: _xsrf=2|48bc2ba9|8105cc02a002037e121467c43648a2df|1579690113; username-localhost-8888=\"2|1:0|10:1581465147|23:username-localhost-8888|44:NGYwMDYyYmZlZjc2NDU3NmExYzhkNGFiZDIzNjUzMjE=|d1faa15015ba95434917bd9a5b781e23a4ac148d2e83f6abaab3fba86b6cfac8\"\n",
      "\n",
      "\n",
      "finished\n"
     ]
    }
   ],
   "source": [
    "server_socket = socket.socket(socket.AF_INET, socket.SOCK_STREAM)\n",
    "\n",
    "server_socket.bind(('localhost', 80))\n",
    "\n",
    "server_socket.listen(0)\n",
    "print('listening')\n",
    "\n",
    "client_socket, addr = server_socket.accept()\n",
    "print('accepting')\n",
    "\n",
    "data = client_socket.recv(65535)\n",
    "print(data.decode())\n",
    "\n",
    "header = 'HTTP/1.0 200 OK\\r\\n\\r\\n'\n",
    "text = '<font coloer=red> Hello </font>'\n",
    "client_socket.send((header + text).encode())\n",
    "\n",
    "client_socket.close()\n",
    "print('finished')"
   ]
  },
  {
   "cell_type": "code",
   "execution_count": 3,
   "metadata": {
    "ExecuteTime": {
     "end_time": "2020-02-12T01:05:00.055805Z",
     "start_time": "2020-02-12T01:04:27.023450Z"
    },
    "scrolled": true
   },
   "outputs": [
    {
     "name": "stdout",
     "output_type": "stream",
     "text": [
      "listening\n",
      "accepting\n",
      "GET /favicon.ico HTTP/1.1\n",
      "Host: localhost\n",
      "Connection: keep-alive\n",
      "User-Agent: Mozilla/5.0 (Windows NT 10.0; Win64; x64) AppleWebKit/537.36 (KHTML, like Gecko) Chrome/79.0.3945.130 Safari/537.36\n",
      "Accept: image/webp,image/apng,image/*,*/*;q=0.8\n",
      "Sec-Fetch-Site: same-origin\n",
      "Sec-Fetch-Mode: no-cors\n",
      "Referer: http://localhost/\n",
      "Accept-Encoding: gzip, deflate, br\n",
      "Accept-Language: ko-KR,ko;q=0.9,en-US;q=0.8,en;q=0.7\n",
      "Cookie: _xsrf=2|48bc2ba9|8105cc02a002037e121467c43648a2df|1579690113; username-localhost-8888=\"2|1:0|10:1581465147|23:username-localhost-8888|44:NGYwMDYyYmZlZjc2NDU3NmExYzhkNGFiZDIzNjUzMjE=|d1faa15015ba95434917bd9a5b781e23a4ac148d2e83f6abaab3fba86b6cfac8\"\n",
      "\n",
      "\n",
      "finished\n",
      "accepting\n",
      "GET / HTTP/1.1\n",
      "Host: localhost\n",
      "Connection: keep-alive\n",
      "Cache-Control: max-age=0\n",
      "Upgrade-Insecure-Requests: 1\n",
      "User-Agent: Mozilla/5.0 (Windows NT 10.0; Win64; x64) AppleWebKit/537.36 (KHTML, like Gecko) Chrome/79.0.3945.130 Safari/537.36\n",
      "Sec-Fetch-User: ?1\n",
      "Accept: text/html,application/xhtml+xml,application/xml;q=0.9,image/webp,image/apng,*/*;q=0.8,application/signed-exchange;v=b3;q=0.9\n",
      "Sec-Fetch-Site: none\n",
      "Sec-Fetch-Mode: navigate\n",
      "Accept-Encoding: gzip, deflate, br\n",
      "Accept-Language: ko-KR,ko;q=0.9,en-US;q=0.8,en;q=0.7\n",
      "Cookie: _xsrf=2|48bc2ba9|8105cc02a002037e121467c43648a2df|1579690113; username-localhost-8888=\"2|1:0|10:1581465147|23:username-localhost-8888|44:NGYwMDYyYmZlZjc2NDU3NmExYzhkNGFiZDIzNjUzMjE=|d1faa15015ba95434917bd9a5b781e23a4ac148d2e83f6abaab3fba86b6cfac8\"\n",
      "\n",
      "\n",
      "finished\n",
      "accepting\n",
      "GET /favicon.ico HTTP/1.1\n",
      "Host: localhost\n",
      "Connection: keep-alive\n",
      "User-Agent: Mozilla/5.0 (Windows NT 10.0; Win64; x64) AppleWebKit/537.36 (KHTML, like Gecko) Chrome/79.0.3945.130 Safari/537.36\n",
      "Accept: image/webp,image/apng,image/*,*/*;q=0.8\n",
      "Sec-Fetch-Site: same-origin\n",
      "Sec-Fetch-Mode: no-cors\n",
      "Referer: http://localhost/\n",
      "Accept-Encoding: gzip, deflate, br\n",
      "Accept-Language: ko-KR,ko;q=0.9,en-US;q=0.8,en;q=0.7\n",
      "Cookie: _xsrf=2|48bc2ba9|8105cc02a002037e121467c43648a2df|1579690113; username-localhost-8888=\"2|1:0|10:1581465147|23:username-localhost-8888|44:NGYwMDYyYmZlZjc2NDU3NmExYzhkNGFiZDIzNjUzMjE=|d1faa15015ba95434917bd9a5b781e23a4ac148d2e83f6abaab3fba86b6cfac8\"\n",
      "\n",
      "\n",
      "finished\n",
      "accepting\n",
      "GET / HTTP/1.1\n",
      "Host: localhost\n",
      "Connection: keep-alive\n",
      "Cache-Control: max-age=0\n",
      "Upgrade-Insecure-Requests: 1\n",
      "User-Agent: Mozilla/5.0 (Windows NT 10.0; Win64; x64) AppleWebKit/537.36 (KHTML, like Gecko) Chrome/79.0.3945.130 Safari/537.36\n",
      "Sec-Fetch-User: ?1\n",
      "Accept: text/html,application/xhtml+xml,application/xml;q=0.9,image/webp,image/apng,*/*;q=0.8,application/signed-exchange;v=b3;q=0.9\n",
      "Sec-Fetch-Site: none\n",
      "Sec-Fetch-Mode: navigate\n",
      "Accept-Encoding: gzip, deflate, br\n",
      "Accept-Language: ko-KR,ko;q=0.9,en-US;q=0.8,en;q=0.7\n",
      "Cookie: _xsrf=2|48bc2ba9|8105cc02a002037e121467c43648a2df|1579690113; username-localhost-8888=\"2|1:0|10:1581465147|23:username-localhost-8888|44:NGYwMDYyYmZlZjc2NDU3NmExYzhkNGFiZDIzNjUzMjE=|d1faa15015ba95434917bd9a5b781e23a4ac148d2e83f6abaab3fba86b6cfac8\"\n",
      "\n",
      "\n",
      "finished\n",
      "accepting\n",
      "GET /favicon.ico HTTP/1.1\n",
      "Host: localhost\n",
      "Connection: keep-alive\n",
      "User-Agent: Mozilla/5.0 (Windows NT 10.0; Win64; x64) AppleWebKit/537.36 (KHTML, like Gecko) Chrome/79.0.3945.130 Safari/537.36\n",
      "Accept: image/webp,image/apng,image/*,*/*;q=0.8\n",
      "Sec-Fetch-Site: same-origin\n",
      "Sec-Fetch-Mode: no-cors\n",
      "Referer: http://localhost/\n",
      "Accept-Encoding: gzip, deflate, br\n",
      "Accept-Language: ko-KR,ko;q=0.9,en-US;q=0.8,en;q=0.7\n",
      "Cookie: _xsrf=2|48bc2ba9|8105cc02a002037e121467c43648a2df|1579690113; username-localhost-8888=\"2|1:0|10:1581465147|23:username-localhost-8888|44:NGYwMDYyYmZlZjc2NDU3NmExYzhkNGFiZDIzNjUzMjE=|d1faa15015ba95434917bd9a5b781e23a4ac148d2e83f6abaab3fba86b6cfac8\"\n",
      "\n",
      "\n",
      "finished\n",
      "accepting\n"
     ]
    },
    {
     "name": "stderr",
     "output_type": "stream",
     "text": [
      "ERROR:root:Internal Python error in the inspect module.\n",
      "Below is the traceback from this internal error.\n",
      "\n"
     ]
    },
    {
     "name": "stdout",
     "output_type": "stream",
     "text": [
      "Traceback (most recent call last):\n",
      "  File \"C:\\Users\\student\\Anaconda3\\lib\\site-packages\\IPython\\core\\interactiveshell.py\", line 3326, in run_code\n",
      "    exec(code_obj, self.user_global_ns, self.user_ns)\n",
      "  File \"<ipython-input-3-67d4b48d4abb>\", line 12, in <module>\n",
      "    data = client_socket.recv(65535)\n",
      "KeyboardInterrupt\n",
      "\n",
      "During handling of the above exception, another exception occurred:\n",
      "\n",
      "Traceback (most recent call last):\n",
      "  File \"C:\\Users\\student\\Anaconda3\\lib\\site-packages\\IPython\\core\\interactiveshell.py\", line 2040, in showtraceback\n",
      "    stb = value._render_traceback_()\n",
      "AttributeError: 'KeyboardInterrupt' object has no attribute '_render_traceback_'\n",
      "\n",
      "During handling of the above exception, another exception occurred:\n",
      "\n",
      "Traceback (most recent call last):\n",
      "  File \"C:\\Users\\student\\Anaconda3\\lib\\site-packages\\IPython\\core\\ultratb.py\", line 1101, in get_records\n",
      "    return _fixed_getinnerframes(etb, number_of_lines_of_context, tb_offset)\n",
      "  File \"C:\\Users\\student\\Anaconda3\\lib\\site-packages\\IPython\\core\\ultratb.py\", line 319, in wrapped\n",
      "    return f(*args, **kwargs)\n",
      "  File \"C:\\Users\\student\\Anaconda3\\lib\\site-packages\\IPython\\core\\ultratb.py\", line 353, in _fixed_getinnerframes\n",
      "    records = fix_frame_records_filenames(inspect.getinnerframes(etb, context))\n",
      "  File \"C:\\Users\\student\\Anaconda3\\lib\\inspect.py\", line 1502, in getinnerframes\n",
      "    frameinfo = (tb.tb_frame,) + getframeinfo(tb, context)\n",
      "  File \"C:\\Users\\student\\Anaconda3\\lib\\inspect.py\", line 1464, in getframeinfo\n",
      "    lines, lnum = findsource(frame)\n",
      "  File \"C:\\Users\\student\\Anaconda3\\lib\\site-packages\\IPython\\core\\ultratb.py\", line 185, in findsource\n",
      "    lines = linecache.getlines(file, globals_dict)\n",
      "  File \"C:\\Users\\student\\Anaconda3\\lib\\linecache.py\", line 47, in getlines\n",
      "    return updatecache(filename, module_globals)\n",
      "  File \"C:\\Users\\student\\Anaconda3\\lib\\linecache.py\", line 137, in updatecache\n",
      "    lines = fp.readlines()\n",
      "  File \"C:\\Users\\student\\Anaconda3\\lib\\codecs.py\", line 319, in decode\n",
      "    def decode(self, input, final=False):\n",
      "KeyboardInterrupt\n"
     ]
    },
    {
     "ename": "KeyboardInterrupt",
     "evalue": "",
     "output_type": "error",
     "traceback": [
      "\u001b[1;31m---------------------------------------------------------------------------\u001b[0m"
     ]
    }
   ],
   "source": [
    "server_socket = socket.socket(socket.AF_INET, socket.SOCK_STREAM)\n",
    "\n",
    "server_socket.bind(('localhost', 80))\n",
    "\n",
    "server_socket.listen(0)\n",
    "print('listening')\n",
    "\n",
    "while True:\n",
    "    client_socket, addr = server_socket.accept()\n",
    "    print('accepting')\n",
    "\n",
    "    data = client_socket.recv(65535)\n",
    "    print(data.decode())\n",
    "\n",
    "    header = 'HTTP/1.0 200 OK\\r\\n\\r\\n'\n",
    "    text = '<font coloer=red> Hello </font>'\n",
    "    client_socket.send((header + text).encode())\n",
    "\n",
    "    client_socket.close()\n",
    "    print('finished')"
   ]
  },
  {
   "cell_type": "code",
   "execution_count": 5,
   "metadata": {
    "ExecuteTime": {
     "end_time": "2020-02-12T01:05:20.001498Z",
     "start_time": "2020-02-12T01:05:19.998550Z"
    }
   },
   "outputs": [],
   "source": [
    "from datetime import datetime"
   ]
  },
  {
   "cell_type": "code",
   "execution_count": 13,
   "metadata": {
    "ExecuteTime": {
     "end_time": "2020-02-12T02:05:32.873232Z",
     "start_time": "2020-02-12T02:05:31.361190Z"
    }
   },
   "outputs": [
    {
     "name": "stdout",
     "output_type": "stream",
     "text": [
      "listening\n",
      "accepting\n",
      "finished\n"
     ]
    }
   ],
   "source": [
    "server_socket = socket.socket(socket.AF_INET, socket.SOCK_STREAM)\n",
    "\n",
    "server_socket.bind(('localhost', 80))\n",
    "\n",
    "server_socket.listen(0)\n",
    "print('listening')\n",
    "\n",
    "client_socket, addr = server_socket.accept()\n",
    "print('accepting')\n",
    "data = client_socket.recv(65535)\n",
    "\n",
    "header = 'HTTP/1.0 200 OK\\r\\n\\r\\n'\n",
    "text = \"hello \" + str(datetime.now())\n",
    "\n",
    "client_socket.send((header + text).encode())\n",
    "\n",
    "client_socket.close()\n",
    "\n",
    "print('finished')"
   ]
  },
  {
   "cell_type": "code",
   "execution_count": null,
   "metadata": {},
   "outputs": [],
   "source": []
  }
 ],
 "metadata": {
  "kernelspec": {
   "display_name": "Python 3",
   "language": "python",
   "name": "python3"
  },
  "language_info": {
   "codemirror_mode": {
    "name": "ipython",
    "version": 3
   },
   "file_extension": ".py",
   "mimetype": "text/x-python",
   "name": "python",
   "nbconvert_exporter": "python",
   "pygments_lexer": "ipython3",
   "version": "3.7.4"
  },
  "varInspector": {
   "cols": {
    "lenName": 16,
    "lenType": 16,
    "lenVar": 40
   },
   "kernels_config": {
    "python": {
     "delete_cmd_postfix": "",
     "delete_cmd_prefix": "del ",
     "library": "var_list.py",
     "varRefreshCmd": "print(var_dic_list())"
    },
    "r": {
     "delete_cmd_postfix": ") ",
     "delete_cmd_prefix": "rm(",
     "library": "var_list.r",
     "varRefreshCmd": "cat(var_dic_list()) "
    }
   },
   "types_to_exclude": [
    "module",
    "function",
    "builtin_function_or_method",
    "instance",
    "_Feature"
   ],
   "window_display": false
  }
 },
 "nbformat": 4,
 "nbformat_minor": 2
}

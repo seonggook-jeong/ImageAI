{
 "cells": [
  {
   "cell_type": "code",
   "execution_count": 1,
   "metadata": {
    "ExecuteTime": {
     "end_time": "2020-02-11T08:24:16.329638Z",
     "start_time": "2020-02-11T08:24:16.317551Z"
    }
   },
   "outputs": [],
   "source": [
    "import socket"
   ]
  },
  {
   "cell_type": "code",
   "execution_count": 3,
   "metadata": {
    "ExecuteTime": {
     "end_time": "2020-02-11T08:39:48.022114Z",
     "start_time": "2020-02-11T08:39:39.418066Z"
    }
   },
   "outputs": [
    {
     "name": "stdout",
     "output_type": "stream",
     "text": [
      "GET / HTTP/1.1\r\n",
      "Host: localhost\r\n",
      "Connection: keep-alive\r\n",
      "Upgrade-Insecure-Requests: 1\r\n",
      "User-Agent: Mozilla/5.0 (Windows NT 10.0; Win64; x64) AppleWebKit/537.36 (KHTML, like Gecko) Chrome/79.0.3945.130 Safari/537.36\r\n",
      "Sec-Fetch-User: ?1\r\n",
      "Accept: text/html,application/xhtml+xml,application/xml;q=0.9,image/webp,image/apng,*/*;q=0.8,application/signed-exchange;v=b3;q=0.9\r\n",
      "Sec-Fetch-Site: none\r\n",
      "Sec-Fetch-Mode: navigate\r\n",
      "Accept-Encoding: gzip, deflate, br\r\n",
      "Accept-Language: ko-KR,ko;q=0.9,en-US;q=0.8,en;q=0.7\r\n",
      "Cookie: _xsrf=2|48bc2ba9|8105cc02a002037e121467c43648a2df|1579690113; username-localhost-8888=\"2|1:0|10:1581384700|23:username-localhost-8888|44:YWIzOTJjYTZkMTE1NDQ2MmFhZjc5ZjFlZjM5OGVlOTQ=|c5bbd3e0916519a20f6858b2787685087d82688930c875265ad6139819105b71\"\r\n",
      "\r\n",
      "\n"
     ]
    }
   ],
   "source": [
    "server_socket = socket.socket(socket.AF_INET, socket.SOCK_STREAM)\n",
    "\n",
    "server_socket.bind(('localhost', 80))\n",
    "\n",
    "server_socket.listen(0)\n",
    "\n",
    "client_socket, addr = server_socket.accept()\n",
    "\n",
    "data = client_socket.recv(65535)\n",
    "\n",
    "print(data.decode())\n",
    "\n",
    "client_socket.send(data)\n",
    "\n",
    "client_socket.close()"
   ]
  },
  {
   "cell_type": "code",
   "execution_count": 20,
   "metadata": {
    "ExecuteTime": {
     "end_time": "2020-02-11T08:50:28.906555Z",
     "start_time": "2020-02-11T08:50:26.497065Z"
    }
   },
   "outputs": [
    {
     "name": "stdout",
     "output_type": "stream",
     "text": [
      "listening\n",
      "accepting\n",
      "GET /form.html HTTP/1.1\n",
      "Host: localhost\n",
      "Connection: keep-alive\n",
      "Upgrade-Insecure-Requests: 1\n",
      "User-Agent: Mozilla/5.0 (Windows NT 10.0; Win64; x64) AppleWebKit/537.36 (KHTML, like Gecko) Chrome/79.0.3945.130 Safari/537.36\n",
      "Sec-Fetch-User: ?1\n",
      "Accept: text/html,application/xhtml+xml,application/xml;q=0.9,image/webp,image/apng,*/*;q=0.8,application/signed-exchange;v=b3;q=0.9\n",
      "Sec-Fetch-Site: none\n",
      "Sec-Fetch-Mode: navigate\n",
      "Accept-Encoding: gzip, deflate, br\n",
      "Accept-Language: ko-KR,ko;q=0.9,en-US;q=0.8,en;q=0.7\n",
      "Cookie: _xsrf=2|48bc2ba9|8105cc02a002037e121467c43648a2df|1579690113; username-localhost-8888=\"2|1:0|10:1581384700|23:username-localhost-8888|44:YWIzOTJjYTZkMTE1NDQ2MmFhZjc5ZjFlZjM5OGVlOTQ=|c5bbd3e0916519a20f6858b2787685087d82688930c875265ad6139819105b71\"\n",
      "\n",
      "\n"
     ]
    }
   ],
   "source": [
    "server_socket = socket.socket(socket.AF_INET, socket.SOCK_STREAM)\n",
    "\n",
    "server_socket.bind(('localhost', 80))\n",
    "\n",
    "server_socket.listen(0)\n",
    "print('listening')\n",
    "client_socket, addr = server_socket.accept()\n",
    "print('accepting')\n",
    "data = client_socket.recv(65535)\n",
    "\n",
    "print(data.decode())\n",
    "client_socket.close()"
   ]
  },
  {
   "cell_type": "code",
   "execution_count": null,
   "metadata": {},
   "outputs": [],
   "source": []
  }
 ],
 "metadata": {
  "kernelspec": {
   "display_name": "Python 3",
   "language": "python",
   "name": "python3"
  },
  "language_info": {
   "codemirror_mode": {
    "name": "ipython",
    "version": 3
   },
   "file_extension": ".py",
   "mimetype": "text/x-python",
   "name": "python",
   "nbconvert_exporter": "python",
   "pygments_lexer": "ipython3",
   "version": "3.7.4"
  },
  "varInspector": {
   "cols": {
    "lenName": 16,
    "lenType": 16,
    "lenVar": 40
   },
   "kernels_config": {
    "python": {
     "delete_cmd_postfix": "",
     "delete_cmd_prefix": "del ",
     "library": "var_list.py",
     "varRefreshCmd": "print(var_dic_list())"
    },
    "r": {
     "delete_cmd_postfix": ") ",
     "delete_cmd_prefix": "rm(",
     "library": "var_list.r",
     "varRefreshCmd": "cat(var_dic_list()) "
    }
   },
   "types_to_exclude": [
    "module",
    "function",
    "builtin_function_or_method",
    "instance",
    "_Feature"
   ],
   "window_display": false
  }
 },
 "nbformat": 4,
 "nbformat_minor": 2
}

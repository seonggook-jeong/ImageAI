{
 "cells": [
  {
   "cell_type": "markdown",
   "metadata": {},
   "source": [
    "#datas 압축파일을 받아서  '경기도인구데이터'.csv파일을 이용하여 \n",
    "다음 내용을 파이썬  numpy라이브러리를 사용해서 결과를 출력하세요\n",
    "1. 파일 내용을 읽은 후 상위 5개 데이터 확인\n",
    "2. 배열 객체의 크기 확인 \n",
    "3. 중복 지역 존재 여부 확인  \n",
    "4. 2017년 수원시 인구의 합\n",
    "5. 2017년 인구가 50만이상이 지역 출력\n",
    "6. 2017년 경기도 전체 인구의 시별 인구 평균  "
   ]
  },
  {
   "cell_type": "code",
   "execution_count": 102,
   "metadata": {},
   "outputs": [
    {
     "name": "stdout",
     "output_type": "stream",
     "text": [
      "       구분    2007    2008    2009    2010    2011    2012    2013    2014  \\\n",
      "0  수원시장안구  287474  285803  290798  293692  290999  291757  300908  301196   \n",
      "1  수원시권선구  310553  308177  304097  306783  321176  332633  331773  339835   \n",
      "2  수원시팔달구  216945  213235  219833  216503  209772  206794  204805  203479   \n",
      "3  수원시영통구  252730  260210  258421  260557  266542  289074  310671  329718   \n",
      "4  성남시수정구  256744  248452  242161  241070  236123  233997  228167  223539   \n",
      "\n",
      "     2015    2016    2017  \n",
      "0  299016  296479  293828  \n",
      "1  351053  358393  365653  \n",
      "2  199180  198515  193311  \n",
      "3  335375  340654  349836  \n",
      "4  219531  232841  236932  \n"
     ]
    }
   ],
   "source": [
    "# 1. 파일 내용을 읽은 후 상위 5개 데이터 확인\n",
    "import pandas as pd\n",
    "file_path = \"./datas/경기도인구데이터.xlsx\"\n",
    "df = pd.read_excel(file_path, encoding = 'euc-kr')\n",
    "print(df.head())"
   ]
  },
  {
   "cell_type": "code",
   "execution_count": 101,
   "metadata": {},
   "outputs": [
    {
     "name": "stdout",
     "output_type": "stream",
     "text": [
      "(44, 12)\n"
     ]
    }
   ],
   "source": [
    "# 2. 배열 객체의 크기 확인 \n",
    "print(df.shape)"
   ]
  },
  {
   "cell_type": "code",
   "execution_count": 100,
   "metadata": {},
   "outputs": [
    {
     "name": "stdout",
     "output_type": "stream",
     "text": [
      "False\n"
     ]
    }
   ],
   "source": [
    "# 3. 중복 지역 존재 여부 확인 \n",
    "print(True in list(df['구분'].duplicated()))"
   ]
  },
  {
   "cell_type": "code",
   "execution_count": null,
   "metadata": {},
   "outputs": [],
   "source": [
    "df.set_index('구분', inplace = True)"
   ]
  },
  {
   "cell_type": "code",
   "execution_count": 91,
   "metadata": {},
   "outputs": [
    {
     "name": "stdout",
     "output_type": "stream",
     "text": [
      "2017년 수원시 총 인구는 1202628명\n"
     ]
    }
   ],
   "source": [
    "# 4. 2017년 수원시 인구의 합\n",
    "import re\n",
    "char = r'수원시'\n",
    "df_sw = df.loc[[x for x in df.index if re.match(char, x) != None]]\n",
    "sw_sum = df_sw[2017].sum()\n",
    "print('2017년 수원시 총 인구는 %d명'%sw_sum)"
   ]
  },
  {
   "cell_type": "code",
   "execution_count": 93,
   "metadata": {},
   "outputs": [
    {
     "data": {
      "text/html": [
       "<div>\n",
       "<style scoped>\n",
       "    .dataframe tbody tr th:only-of-type {\n",
       "        vertical-align: middle;\n",
       "    }\n",
       "\n",
       "    .dataframe tbody tr th {\n",
       "        vertical-align: top;\n",
       "    }\n",
       "\n",
       "    .dataframe thead th {\n",
       "        text-align: right;\n",
       "    }\n",
       "</style>\n",
       "<table border=\"1\" class=\"dataframe\">\n",
       "  <thead>\n",
       "    <tr style=\"text-align: right;\">\n",
       "      <th></th>\n",
       "      <th>2007</th>\n",
       "      <th>2008</th>\n",
       "      <th>2009</th>\n",
       "      <th>2010</th>\n",
       "      <th>2011</th>\n",
       "      <th>2012</th>\n",
       "      <th>2013</th>\n",
       "      <th>2014</th>\n",
       "      <th>2015</th>\n",
       "      <th>2016</th>\n",
       "      <th>2017</th>\n",
       "    </tr>\n",
       "    <tr>\n",
       "      <th>구분</th>\n",
       "      <th></th>\n",
       "      <th></th>\n",
       "      <th></th>\n",
       "      <th></th>\n",
       "      <th></th>\n",
       "      <th></th>\n",
       "      <th></th>\n",
       "      <th></th>\n",
       "      <th></th>\n",
       "      <th></th>\n",
       "      <th></th>\n",
       "    </tr>\n",
       "  </thead>\n",
       "  <tbody>\n",
       "    <tr>\n",
       "      <td>수원시장안구</td>\n",
       "      <td>287474</td>\n",
       "      <td>285803</td>\n",
       "      <td>290798</td>\n",
       "      <td>293692</td>\n",
       "      <td>290999</td>\n",
       "      <td>291757</td>\n",
       "      <td>300908</td>\n",
       "      <td>301196</td>\n",
       "      <td>299016</td>\n",
       "      <td>296479</td>\n",
       "      <td>293828</td>\n",
       "    </tr>\n",
       "    <tr>\n",
       "      <td>수원시권선구</td>\n",
       "      <td>310553</td>\n",
       "      <td>308177</td>\n",
       "      <td>304097</td>\n",
       "      <td>306783</td>\n",
       "      <td>321176</td>\n",
       "      <td>332633</td>\n",
       "      <td>331773</td>\n",
       "      <td>339835</td>\n",
       "      <td>351053</td>\n",
       "      <td>358393</td>\n",
       "      <td>365653</td>\n",
       "    </tr>\n",
       "    <tr>\n",
       "      <td>수원시팔달구</td>\n",
       "      <td>216945</td>\n",
       "      <td>213235</td>\n",
       "      <td>219833</td>\n",
       "      <td>216503</td>\n",
       "      <td>209772</td>\n",
       "      <td>206794</td>\n",
       "      <td>204805</td>\n",
       "      <td>203479</td>\n",
       "      <td>199180</td>\n",
       "      <td>198515</td>\n",
       "      <td>193311</td>\n",
       "    </tr>\n",
       "    <tr>\n",
       "      <td>수원시영통구</td>\n",
       "      <td>252730</td>\n",
       "      <td>260210</td>\n",
       "      <td>258421</td>\n",
       "      <td>260557</td>\n",
       "      <td>266542</td>\n",
       "      <td>289074</td>\n",
       "      <td>310671</td>\n",
       "      <td>329718</td>\n",
       "      <td>335375</td>\n",
       "      <td>340654</td>\n",
       "      <td>349836</td>\n",
       "    </tr>\n",
       "  </tbody>\n",
       "</table>\n",
       "</div>"
      ],
      "text/plain": [
       "          2007    2008    2009    2010    2011    2012    2013    2014  \\\n",
       "구분                                                                       \n",
       "수원시장안구  287474  285803  290798  293692  290999  291757  300908  301196   \n",
       "수원시권선구  310553  308177  304097  306783  321176  332633  331773  339835   \n",
       "수원시팔달구  216945  213235  219833  216503  209772  206794  204805  203479   \n",
       "수원시영통구  252730  260210  258421  260557  266542  289074  310671  329718   \n",
       "\n",
       "          2015    2016    2017  \n",
       "구분                              \n",
       "수원시장안구  299016  296479  293828  \n",
       "수원시권선구  351053  358393  365653  \n",
       "수원시팔달구  199180  198515  193311  \n",
       "수원시영통구  335375  340654  349836  "
      ]
     },
     "execution_count": 93,
     "metadata": {},
     "output_type": "execute_result"
    }
   ],
   "source": [
    "df_sw"
   ]
  },
  {
   "cell_type": "code",
   "execution_count": 92,
   "metadata": {},
   "outputs": [
    {
     "name": "stdout",
     "output_type": "stream",
     "text": [
      "2017년 인구 50만 이상인 지역은 ['성남시분당구', '남양주시', '화성시']\n"
     ]
    }
   ],
   "source": [
    "# 5. 2017년 인구가 50만이상이 지역 출력\n",
    "df_overhalfM = df.iloc[:][df[2017]>=500000]\n",
    "print('2017년 인구 50만 이상인 지역은', [x for x in df_overhalfM.index])"
   ]
  },
  {
   "cell_type": "code",
   "execution_count": 94,
   "metadata": {},
   "outputs": [
    {
     "data": {
      "text/html": [
       "<div>\n",
       "<style scoped>\n",
       "    .dataframe tbody tr th:only-of-type {\n",
       "        vertical-align: middle;\n",
       "    }\n",
       "\n",
       "    .dataframe tbody tr th {\n",
       "        vertical-align: top;\n",
       "    }\n",
       "\n",
       "    .dataframe thead th {\n",
       "        text-align: right;\n",
       "    }\n",
       "</style>\n",
       "<table border=\"1\" class=\"dataframe\">\n",
       "  <thead>\n",
       "    <tr style=\"text-align: right;\">\n",
       "      <th></th>\n",
       "      <th>2007</th>\n",
       "      <th>2008</th>\n",
       "      <th>2009</th>\n",
       "      <th>2010</th>\n",
       "      <th>2011</th>\n",
       "      <th>2012</th>\n",
       "      <th>2013</th>\n",
       "      <th>2014</th>\n",
       "      <th>2015</th>\n",
       "      <th>2016</th>\n",
       "      <th>2017</th>\n",
       "    </tr>\n",
       "    <tr>\n",
       "      <th>구분</th>\n",
       "      <th></th>\n",
       "      <th></th>\n",
       "      <th></th>\n",
       "      <th></th>\n",
       "      <th></th>\n",
       "      <th></th>\n",
       "      <th></th>\n",
       "      <th></th>\n",
       "      <th></th>\n",
       "      <th></th>\n",
       "      <th></th>\n",
       "    </tr>\n",
       "  </thead>\n",
       "  <tbody>\n",
       "    <tr>\n",
       "      <td>성남시분당구</td>\n",
       "      <td>434115</td>\n",
       "      <td>428858</td>\n",
       "      <td>460688</td>\n",
       "      <td>481027</td>\n",
       "      <td>488328</td>\n",
       "      <td>490735</td>\n",
       "      <td>495018</td>\n",
       "      <td>499087</td>\n",
       "      <td>501889</td>\n",
       "      <td>503830</td>\n",
       "      <td>500212</td>\n",
       "    </tr>\n",
       "    <tr>\n",
       "      <td>남양주시</td>\n",
       "      <td>492347</td>\n",
       "      <td>505867</td>\n",
       "      <td>525211</td>\n",
       "      <td>564141</td>\n",
       "      <td>578485</td>\n",
       "      <td>599539</td>\n",
       "      <td>618305</td>\n",
       "      <td>636256</td>\n",
       "      <td>653454</td>\n",
       "      <td>662154</td>\n",
       "      <td>665321</td>\n",
       "    </tr>\n",
       "    <tr>\n",
       "      <td>화성시</td>\n",
       "      <td>371972</td>\n",
       "      <td>449354</td>\n",
       "      <td>491528</td>\n",
       "      <td>505838</td>\n",
       "      <td>516765</td>\n",
       "      <td>525490</td>\n",
       "      <td>530251</td>\n",
       "      <td>540862</td>\n",
       "      <td>596525</td>\n",
       "      <td>640890</td>\n",
       "      <td>691086</td>\n",
       "    </tr>\n",
       "  </tbody>\n",
       "</table>\n",
       "</div>"
      ],
      "text/plain": [
       "          2007    2008    2009    2010    2011    2012    2013    2014  \\\n",
       "구분                                                                       \n",
       "성남시분당구  434115  428858  460688  481027  488328  490735  495018  499087   \n",
       "남양주시    492347  505867  525211  564141  578485  599539  618305  636256   \n",
       "화성시     371972  449354  491528  505838  516765  525490  530251  540862   \n",
       "\n",
       "          2015    2016    2017  \n",
       "구분                              \n",
       "성남시분당구  501889  503830  500212  \n",
       "남양주시    653454  662154  665321  \n",
       "화성시     596525  640890  691086  "
      ]
     },
     "execution_count": 94,
     "metadata": {},
     "output_type": "execute_result"
    }
   ],
   "source": [
    "df_overhalfM"
   ]
  },
  {
   "cell_type": "code",
   "execution_count": 95,
   "metadata": {},
   "outputs": [
    {
     "name": "stdout",
     "output_type": "stream",
     "text": [
      "2017년 경기도 시별 평균 인구는 292558명\n"
     ]
    }
   ],
   "source": [
    "# 6. 2017년 경기도 전체 인구의 시별 인구 평균  \n",
    "mean = df[2017].mean()\n",
    "print('2017년 경기도 시별 평균 인구는 %d명'% mean)"
   ]
  },
  {
   "cell_type": "code",
   "execution_count": 107,
   "metadata": {
    "scrolled": true
   },
   "outputs": [],
   "source": [
    "df.set_index('구분', inplace = True)"
   ]
  },
  {
   "cell_type": "code",
   "execution_count": 115,
   "metadata": {},
   "outputs": [
    {
     "name": "stdout",
     "output_type": "stream",
     "text": [
      "수원시장안구\n",
      "수원시권선구\n",
      "수원시팔달구\n",
      "수원시영통구\n"
     ]
    }
   ],
   "source": [
    "for region in df.index:\n",
    "    match = re.match('수원', region)\n",
    "    if match != None:\n",
    "        print(region)"
   ]
  },
  {
   "cell_type": "code",
   "execution_count": null,
   "metadata": {},
   "outputs": [],
   "source": []
  }
 ],
 "metadata": {
  "kernelspec": {
   "display_name": "Python 3",
   "language": "python",
   "name": "python3"
  },
  "language_info": {
   "codemirror_mode": {
    "name": "ipython",
    "version": 3
   },
   "file_extension": ".py",
   "mimetype": "text/x-python",
   "name": "python",
   "nbconvert_exporter": "python",
   "pygments_lexer": "ipython3",
   "version": "3.7.4"
  }
 },
 "nbformat": 4,
 "nbformat_minor": 2
}

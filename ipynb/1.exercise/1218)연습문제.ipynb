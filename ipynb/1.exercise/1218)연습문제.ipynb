{
 "cells": [
  {
   "cell_type": "markdown",
   "metadata": {},
   "source": [
    "기상자료개방포털 홈페이지 https://data.kma.go.kr 강수량, 전운량, 황사 발생일수 등 기상과 관련된 다양한 데이터가 존재\n",
    "상단 메뉴에서 기후통계분석 → 기후분석을 선택하고 \n",
    "조건별통계 페이지에서 기온 정보를 알고 싶은 지역과 기간을 설정하여\n",
    "‘지역별 기온 데이터’를 CSV 다운로드로 내려받습니다.\n",
    "pandas  라이브러리를 이용하여 다음 데이터를 찾는 코드를 작성하시오\n",
    "\n",
    "#1번 서울지역의 2000년도~2018년도  날씨 데이터로부터  가장 기온이 낮았던 날짜와 기온 출력\n",
    "\n",
    "#2번 서울지역의  2000년도~2018년도 날씨 데이터로부터  강수량이 가장 많았던 날짜와 기온 출력\n",
    "\n",
    "#3번  서울지역의 2000년도~2018년도 날씨 데이터로부터 년도별 가장 높은 날의 기온과  년도별 가장 높은 날의 기온을\n",
    "변화를 쉽게 파악할 수 있도록  시각화하시오"
   ]
  },
  {
   "cell_type": "code",
   "execution_count": 1,
   "metadata": {},
   "outputs": [
    {
     "name": "stdout",
     "output_type": "stream",
     "text": [
      "2000~2018년 최저 기온은 2001-01-15에 -18.6도로 기록되었습니다.\n"
     ]
    }
   ],
   "source": [
    "#1번 서울지역의 2000년도~2018년도  날씨 데이터로부터  가장 기온이 낮았던 날짜와 기온 출력\n",
    "\n",
    "import matplotlib.pyplot as plt\n",
    "import pandas as pd\n",
    "import numpy as np\n",
    "from matplotlib import font_manager, rc\n",
    "\n",
    "df_tmp = pd.read_csv('./datas/서울 기온.csv', skiprows = 6, encoding = 'euc-kr')\n",
    "df_preci = pd.read_csv('./datas/서울 강수량.csv', skiprows = 6, encoding = 'euc-kr')\n",
    "\n",
    "df_tmp.drop(columns = '지점', inplace = True)\n",
    "df_preci.drop(columns = '지점', inplace = True)\n",
    "\n",
    "df = pd.merge(df_tmp, df_preci, on = '날짜')\n",
    "df.set_index('날짜', inplace = True)\n",
    "\n",
    "min_tmp = df['최저기온(℃)'].min()\n",
    "min_tmp_date = df['최저기온(℃)'].idxmin()\n",
    "\n",
    "print('2000~2018년 최저 기온은 %s에 %s도로 기록되었습니다.'%(min_tmp_date, min_tmp))"
   ]
  },
  {
   "cell_type": "code",
   "execution_count": 143,
   "metadata": {},
   "outputs": [
    {
     "name": "stdout",
     "output_type": "stream",
     "text": [
      "2000~2018년 최고 강수량은 2011-07-27에 기록되었으며, 평균 기온은 24.0도였습니다.\n"
     ]
    }
   ],
   "source": [
    "#2번 서울지역의  2000년도~2018년도 날씨 데이터로부터  강수량이 가장 많았던 날짜와 기온 출력\n",
    "max_preci = df['강수량(mm)'].max()\n",
    "max_preci_date = df['강수량(mm)'].idxmax()\n",
    "max_preci_tmp = df.loc[df['강수량(mm)'].idxmax(), '평균기온(℃)']\n",
    "\n",
    "print('2000~2018년 최고 강수량은 %s에 기록되었으며, 평균 기온은 %s도였습니다.'%(max_preci_date, max_preci_tmp))"
   ]
  },
  {
   "cell_type": "code",
   "execution_count": 28,
   "metadata": {},
   "outputs": [
    {
     "data": {
      "image/png": "[encoded data removed]",
      "text/plain": [
       "<Figure size 1440x720 with 1 Axes>"
      ]
     },
     "metadata": {
      "needs_background": "light"
     },
     "output_type": "display_data"
    }
   ],
   "source": [
    "#3번  서울지역의 2000년도~2018년도 날씨 데이터로부터 년도별 가장 높은 날의 기온과  년도별 가장 높은 날의 기온을 변화를 쉽게 파악할 수 있도록  시각화하시오\n",
    "%matplotlib inline\n",
    "\n",
    "df.reset_index(inplace = True)\n",
    "f = lambda x: x.split('-')[0]\n",
    "df['날짜'] = df['날짜'].apply(f)\n",
    "df.set_index('날짜', inplace = True)\n",
    "\n",
    "#연도별 최저/최고 기온 데이터프레임 생성\n",
    "\n",
    "dict_min_max = {}\n",
    "for k in df.index:\n",
    "    dict_min_max[k] = (df.loc[k].min()['최저기온(℃)'], df.loc[k].max()['최고기온(℃)'] )\n",
    "df_min_max = pd.DataFrame(dict_min_max)\n",
    "\n",
    "df_min_max.index = ['lowest', 'highest']\n",
    "\n",
    "\n",
    "import seaborn as sns\n",
    "\n",
    "path = 'C:\\Windows\\Fonts\\Batang.ttc'\n",
    "font_name = font_manager.FontProperties(fname = path).get_name()\n",
    "rc('font', family = font_name)\n",
    "\n",
    "plt.figure(figsize = (20, 10))\n",
    "sns.boxplot(data = df_min_max)\n",
    "plt.title(\"연도별 최저/최고 기온\")\n",
    "plt.xlabel(\"연도\")\n",
    "plt.ylabel(\"기온(℃)\")\n",
    "plt.show()"
   ]
  },
  {
   "cell_type": "code",
   "execution_count": null,
   "metadata": {},
   "outputs": [],
   "source": [
    "#또 다른 방법: unstack(), swaplevel()활용"
   ]
  },
  {
   "cell_type": "code",
   "execution_count": 6,
   "metadata": {},
   "outputs": [],
   "source": [
    "df.reset_index(inplace = True)\n",
    "f = lambda x: x.split('-')[0]\n",
    "df['날짜'] = df['날짜'].apply(f)\n",
    "df.set_index('날짜', inplace = True)\n",
    "df.drop(columns = '강수량(mm)', inplace = True)"
   ]
  },
  {
   "cell_type": "code",
   "execution_count": 27,
   "metadata": {},
   "outputs": [
    {
     "name": "stdout",
     "output_type": "stream",
     "text": [
      "2000 -12.1 35.1\n",
      "2001 -18.6 35.3\n",
      "2002 -12.0 34.8\n",
      "2003 -15.5 32.2\n",
      "2004 -16.7 36.2\n",
      "2005 -14.0 35.0\n",
      "2006 -14.1 34.7\n",
      "2007 -8.6 33.2\n",
      "2008 -13.1 35.4\n",
      "2009 -12.9 34.4\n",
      "2010 -15.3 33.8\n",
      "2011 -17.8 34.1\n",
      "2012 -17.1 36.7\n",
      "2013 -16.4 33.9\n",
      "2014 -13.2 35.8\n",
      "2015 -13.0 36.0\n",
      "2016 -18.0 36.6\n",
      "2017 -12.6 35.4\n",
      "2018 -17.8 39.6\n"
     ]
    }
   ],
   "source": [
    "unstacked_df = df.unstack().swaplevel(0, 1)\n",
    "for k in range(2000, 2019):\n",
    "    lowest = unstacked_df[str(k)].min()\n",
    "    highest = unstacked_df[str(k)].max()\n",
    "    print(k, lowest, highest)"
   ]
  },
  {
   "cell_type": "code",
   "execution_count": 29,
   "metadata": {},
   "outputs": [
    {
     "data": {
      "text/html": [
       "<div>\n",
       "<style scoped>\n",
       "    .dataframe tbody tr th:only-of-type {\n",
       "        vertical-align: middle;\n",
       "    }\n",
       "\n",
       "    .dataframe tbody tr th {\n",
       "        vertical-align: top;\n",
       "    }\n",
       "\n",
       "    .dataframe thead th {\n",
       "        text-align: right;\n",
       "    }\n",
       "</style>\n",
       "<table border=\"1\" class=\"dataframe\">\n",
       "  <thead>\n",
       "    <tr style=\"text-align: right;\">\n",
       "      <th></th>\n",
       "      <th>2000</th>\n",
       "      <th>2001</th>\n",
       "      <th>2002</th>\n",
       "      <th>2003</th>\n",
       "      <th>2004</th>\n",
       "      <th>2005</th>\n",
       "      <th>2006</th>\n",
       "      <th>2007</th>\n",
       "      <th>2008</th>\n",
       "      <th>2009</th>\n",
       "      <th>2010</th>\n",
       "      <th>2011</th>\n",
       "      <th>2012</th>\n",
       "      <th>2013</th>\n",
       "      <th>2014</th>\n",
       "      <th>2015</th>\n",
       "      <th>2016</th>\n",
       "      <th>2017</th>\n",
       "      <th>2018</th>\n",
       "    </tr>\n",
       "  </thead>\n",
       "  <tbody>\n",
       "    <tr>\n",
       "      <td>lowest</td>\n",
       "      <td>-12.1</td>\n",
       "      <td>-18.6</td>\n",
       "      <td>-12.0</td>\n",
       "      <td>-15.5</td>\n",
       "      <td>-16.7</td>\n",
       "      <td>-14.0</td>\n",
       "      <td>-14.1</td>\n",
       "      <td>-8.6</td>\n",
       "      <td>-13.1</td>\n",
       "      <td>-12.9</td>\n",
       "      <td>-15.3</td>\n",
       "      <td>-17.8</td>\n",
       "      <td>-17.1</td>\n",
       "      <td>-16.4</td>\n",
       "      <td>-13.2</td>\n",
       "      <td>-13.0</td>\n",
       "      <td>-18.0</td>\n",
       "      <td>-12.6</td>\n",
       "      <td>-17.8</td>\n",
       "    </tr>\n",
       "    <tr>\n",
       "      <td>highest</td>\n",
       "      <td>35.1</td>\n",
       "      <td>35.3</td>\n",
       "      <td>34.8</td>\n",
       "      <td>32.2</td>\n",
       "      <td>36.2</td>\n",
       "      <td>35.0</td>\n",
       "      <td>34.7</td>\n",
       "      <td>33.2</td>\n",
       "      <td>35.4</td>\n",
       "      <td>34.4</td>\n",
       "      <td>33.8</td>\n",
       "      <td>34.1</td>\n",
       "      <td>36.7</td>\n",
       "      <td>33.9</td>\n",
       "      <td>35.8</td>\n",
       "      <td>36.0</td>\n",
       "      <td>36.6</td>\n",
       "      <td>35.4</td>\n",
       "      <td>39.6</td>\n",
       "    </tr>\n",
       "  </tbody>\n",
       "</table>\n",
       "</div>"
      ],
      "text/plain": [
       "         2000  2001  2002  2003  2004  2005  2006  2007  2008  2009  2010  \\\n",
       "lowest  -12.1 -18.6 -12.0 -15.5 -16.7 -14.0 -14.1  -8.6 -13.1 -12.9 -15.3   \n",
       "highest  35.1  35.3  34.8  32.2  36.2  35.0  34.7  33.2  35.4  34.4  33.8   \n",
       "\n",
       "         2011  2012  2013  2014  2015  2016  2017  2018  \n",
       "lowest  -17.8 -17.1 -16.4 -13.2 -13.0 -18.0 -12.6 -17.8  \n",
       "highest  34.1  36.7  33.9  35.8  36.0  36.6  35.4  39.6  "
      ]
     },
     "execution_count": 29,
     "metadata": {},
     "output_type": "execute_result"
    }
   ],
   "source": [
    "df_min_max"
   ]
  },
  {
   "cell_type": "code",
   "execution_count": null,
   "metadata": {},
   "outputs": [],
   "source": []
  }
 ],
 "metadata": {
  "kernelspec": {
   "display_name": "Python 3",
   "language": "python",
   "name": "python3"
  },
  "language_info": {
   "codemirror_mode": {
    "name": "ipython",
    "version": 3
   },
   "file_extension": ".py",
   "mimetype": "text/x-python",
   "name": "python",
   "nbconvert_exporter": "python",
   "pygments_lexer": "ipython3",
   "version": "3.7.4"
  }
 },
 "nbformat": 4,
 "nbformat_minor": 2
}

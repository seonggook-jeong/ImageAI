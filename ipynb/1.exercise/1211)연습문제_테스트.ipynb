{
 "cells": [
  {
   "cell_type": "code",
   "execution_count": 3,
   "metadata": {},
   "outputs": [
    {
     "name": "stdout",
     "output_type": "stream",
     "text": [
      "89\n",
      "3\n",
      "214\n",
      "8\n",
      "3\n",
      "7\n",
      "90\n",
      "-1\n",
      "0\n",
      "90\n"
     ]
    }
   ],
   "source": [
    "list = []\n",
    "for i in range(0, 10):\n",
    "    n = int(input())\n",
    "    if(n == 0):\n",
    "        break\n",
    "    else:\n",
    "        list.append(n)\n",
    "\n",
    "list.sort()\n",
    "l = len(list) - 1\n",
    "if(l < 0):\n",
    "    print(\"no input\")\n",
    "else:\n",
    "    print(list[l - 1])\n"
   ]
  },
  {
   "cell_type": "code",
   "execution_count": 5,
   "metadata": {},
   "outputs": [
    {
     "name": "stdout",
     "output_type": "stream",
     "text": [
      "ttttttttt\n",
      "t\n"
     ]
    }
   ],
   "source": [
    "list = input()\n",
    "list.upper()\n",
    "\n",
    "s = set([])\n",
    "for i in list:\n",
    "    s.add(i)\n",
    "\n",
    "countList = []\n",
    "count = 0\n",
    "index = 0\n",
    "maxChar = ''\n",
    "for i in s:\n",
    "    if i == ' ':\n",
    "        continue\n",
    "    n = list.count(i)\n",
    "    countList.append(n)\n",
    "    if n > count:\n",
    "        count = n\n",
    "        maxChar = i\n",
    "\n",
    "countList.sort()\n",
    "\n",
    "if len(countList) == 1 :\n",
    "    print(maxChar)\n",
    "else:\n",
    "    if countList[len(countList) - 1] == countList[len(countList) - 2]:\n",
    "        print(\"?\")\n",
    "    else:\n",
    "        print(maxChar)"
   ]
  },
  {
   "cell_type": "code",
   "execution_count": 7,
   "metadata": {},
   "outputs": [
    {
     "name": "stdout",
     "output_type": "stream",
     "text": [
      "0\n"
     ]
    },
    {
     "ename": "IndexError",
     "evalue": "list index out of range",
     "output_type": "error",
     "traceback": [
      "\u001b[1;31m---------------------------------------------------------------------------\u001b[0m",
      "\u001b[1;31mIndexError\u001b[0m                                Traceback (most recent call last)",
      "\u001b[1;32m<ipython-input-7-28c9cc9798d6>\u001b[0m in \u001b[0;36m<module>\u001b[1;34m\u001b[0m\n\u001b[0;32m     21\u001b[0m \u001b[0marr\u001b[0m\u001b[1;33m.\u001b[0m\u001b[0msort\u001b[0m\u001b[1;33m(\u001b[0m\u001b[0mreverse\u001b[0m \u001b[1;33m=\u001b[0m\u001b[1;32mTrue\u001b[0m\u001b[1;33m)\u001b[0m\u001b[1;33m\u001b[0m\u001b[1;33m\u001b[0m\u001b[0m\n\u001b[0;32m     22\u001b[0m \u001b[1;33m\u001b[0m\u001b[0m\n\u001b[1;32m---> 23\u001b[1;33m \u001b[0mprint\u001b[0m\u001b[1;33m(\u001b[0m\u001b[0marr\u001b[0m\u001b[1;33m[\u001b[0m\u001b[1;36m1\u001b[0m\u001b[1;33m]\u001b[0m\u001b[1;33m)\u001b[0m\u001b[1;33m\u001b[0m\u001b[1;33m\u001b[0m\u001b[0m\n\u001b[0m",
      "\u001b[1;31mIndexError\u001b[0m: list index out of range"
     ]
    }
   ],
   "source": [
    "arr=[]\n",
    "\n",
    "i =0\n",
    "\n",
    "while i<10:\n",
    "\n",
    "    num = int(input())\n",
    "\n",
    "    if num == 0:\n",
    "\n",
    "        break\n",
    "\n",
    "    else :\n",
    "\n",
    "         arr.append(num)\n",
    "\n",
    "    i+=1\n",
    "\n",
    " \n",
    "\n",
    "arr.sort(reverse =True)\n",
    "\n",
    "print(arr[1])\n"
   ]
  },
  {
   "cell_type": "code",
   "execution_count": 9,
   "metadata": {},
   "outputs": [
    {
     "name": "stdout",
     "output_type": "stream",
     "text": [
      "ttttttt\n",
      "t\n"
     ]
    }
   ],
   "source": [
    "def f1(x):\n",
    "\n",
    "    return x[0]\n",
    "\n",
    " \n",
    "\n",
    "arr =input()\n",
    "\n",
    "arr=arr.replace(\" \",\"\")\n",
    "\n",
    "d = {}\n",
    "\n",
    "s = set(arr)\n",
    "\n",
    " \n",
    "\n",
    "check =False\n",
    "\n",
    "for ch in s:\n",
    "\n",
    "    key = arr.count(ch)\n",
    "\n",
    "    if key in d.keys():\n",
    "\n",
    "        check=True\n",
    "\n",
    "        print(\"?\")\n",
    "\n",
    "        break\n",
    "\n",
    "    else :\n",
    "\n",
    "        d[key]= ch\n",
    "\n",
    " \n",
    "\n",
    "if check==False:\n",
    "\n",
    "    result=sorted(d.items(),key=f1,reverse= True)\n",
    "\n",
    "    print(result[0][1])"
   ]
  },
  {
   "cell_type": "code",
   "execution_count": 11,
   "metadata": {},
   "outputs": [
    {
     "name": "stdout",
     "output_type": "stream",
     "text": [
      "정수를 입력하세요 (최대 10개)\n",
      "정수 : 3\n",
      "정수 : 5\n",
      "정수 : 8\n",
      "정수 : 1\n",
      "정수 : 9\n",
      "정수 : 0\n",
      "존재하지 않습니다.\n"
     ]
    }
   ],
   "source": [
    "print('정수를 입력하세요 (최대 10개)')\n",
    "\n",
    "numbers = []\n",
    "\n",
    "for _ in range(10):\n",
    "\n",
    "    n = int(input('정수 : '))\n",
    "\n",
    "    if n == 0:\n",
    "\n",
    "        break\n",
    "\n",
    "    else:\n",
    "\n",
    "        numbers.append(n)\n",
    "\n",
    "try:\n",
    "\n",
    "    print(list(set(numbers))[-2])\n",
    "\n",
    "except:\n",
    "\n",
    "    print('존재하지 않습니다.')"
   ]
  },
  {
   "cell_type": "code",
   "execution_count": 14,
   "metadata": {},
   "outputs": [
    {
     "name": "stdout",
     "output_type": "stream",
     "text": [
      "문장 : Today is a good day\n",
      " \n"
     ]
    }
   ],
   "source": [
    "sentence = input('문장 : ')\n",
    "\n",
    "sentence.upper()\n",
    "\n",
    "result = dict()\n",
    "\n",
    "\n",
    "\n",
    "for c in sentence:\n",
    "\n",
    "    if result.get(c):\n",
    "\n",
    "        result[c] += 1\n",
    "\n",
    "    else:\n",
    "\n",
    "        result[c] = 1\n",
    "\n",
    "\n",
    "\n",
    "sorted_list = sorted(result.items(), key=lambda t: t[1])\n",
    "\n",
    "\n",
    "\n",
    "if len(sorted_list) >= 2 and sorted_list[-1][1] == sorted_list[-2][1]:\n",
    "\n",
    "    print('?')\n",
    "\n",
    "else:\n",
    "\n",
    "\n",
    "    print(sorted_list[-1][0])"
   ]
  },
  {
   "cell_type": "code",
   "execution_count": 16,
   "metadata": {},
   "outputs": [
    {
     "name": "stdout",
     "output_type": "stream",
     "text": [
      "Enter a value: \n",
      "0\n",
      "[]\n"
     ]
    },
    {
     "ename": "IndexError",
     "evalue": "list index out of range",
     "output_type": "error",
     "traceback": [
      "\u001b[1;31m---------------------------------------------------------------------------\u001b[0m",
      "\u001b[1;31mIndexError\u001b[0m                                Traceback (most recent call last)",
      "\u001b[1;32m<ipython-input-16-90fef0fbae80>\u001b[0m in \u001b[0;36m<module>\u001b[1;34m\u001b[0m\n\u001b[0;32m     12\u001b[0m \u001b[0mprint\u001b[0m\u001b[1;33m(\u001b[0m\u001b[0mlist\u001b[0m\u001b[1;33m)\u001b[0m\u001b[1;33m\u001b[0m\u001b[1;33m\u001b[0m\u001b[0m\n\u001b[0;32m     13\u001b[0m \u001b[0mlist_length\u001b[0m\u001b[1;33m=\u001b[0m\u001b[0mlen\u001b[0m\u001b[1;33m(\u001b[0m\u001b[0mlist\u001b[0m\u001b[1;33m)\u001b[0m\u001b[1;33m\u001b[0m\u001b[1;33m\u001b[0m\u001b[0m\n\u001b[1;32m---> 14\u001b[1;33m \u001b[0mprint\u001b[0m\u001b[1;33m(\u001b[0m\u001b[0mlist\u001b[0m\u001b[1;33m[\u001b[0m\u001b[0mlist_length\u001b[0m \u001b[1;33m-\u001b[0m \u001b[1;36m2\u001b[0m\u001b[1;33m]\u001b[0m\u001b[1;33m)\u001b[0m\u001b[1;33m\u001b[0m\u001b[1;33m\u001b[0m\u001b[0m\n\u001b[0m",
      "\u001b[1;31mIndexError\u001b[0m: list index out of range"
     ]
    }
   ],
   "source": [
    "print(\"Enter a value: \")\n",
    "\n",
    "list=[]\n",
    "for i in range(10):\n",
    "    num=int(input())\n",
    "\n",
    "    if num==0:break        \n",
    "    list.append(num)\n",
    "\n",
    "   \n",
    "list.sort()\n",
    "print(list)\n",
    "list_length=len(list)\n",
    "print(list[list_length - 2])\n"
   ]
  },
  {
   "cell_type": "code",
   "execution_count": 2,
   "metadata": {},
   "outputs": [
    {
     "name": "stdout",
     "output_type": "stream",
     "text": [
      "정수를 입력해주세요. 종료하고 싶으시면, 0을 입력하세요.\n",
      "1\n",
      "정수를 입력해주세요. 종료하고 싶으시면, 0을 입력하세요.\n",
      "5\n",
      "정수를 입력해주세요. 종료하고 싶으시면, 0을 입력하세요.\n",
      "7\n",
      "정수를 입력해주세요. 종료하고 싶으시면, 0을 입력하세요.\n",
      "8\n",
      "정수를 입력해주세요. 종료하고 싶으시면, 0을 입력하세요.\n",
      "9\n",
      "정수를 입력해주세요. 종료하고 싶으시면, 0을 입력하세요.\n",
      "3\n",
      "정수를 입력해주세요. 종료하고 싶으시면, 0을 입력하세요.\n",
      "6\n",
      "정수를 입력해주세요. 종료하고 싶으시면, 0을 입력하세요.\n",
      "0\n",
      "두번째로 큰 정수 :  8\n"
     ]
    }
   ],
   "source": [
    "max1 = 0\n",
    "max2 = 0\n",
    "a = []\n",
    "\n",
    "for i in range(10):\n",
    "\n",
    "    print(\"정수를 입력해주세요. 종료하고 싶으시면, 0을 입력하세요.\")\n",
    "    a.append(int(input()))\n",
    "\n",
    "    if (a[i] != 0):\n",
    "        if(a[i] > max1):\n",
    "            max2 = max1\n",
    "            max1 = a[i]\n",
    "        elif(a[i] > max2):\n",
    "            max2 = a[i]\n",
    "        else:\n",
    "            max2 = max2\n",
    "            \n",
    "    else:\n",
    "        break\n",
    "\n",
    "\n",
    "print(\"두번째로 큰 정수 : \", max2)"
   ]
  },
  {
   "cell_type": "code",
   "execution_count": 3,
   "metadata": {},
   "outputs": [
    {
     "name": "stdout",
     "output_type": "stream",
     "text": [
      "알파벳으로 된 단어나 문장을 입력하시오.\n",
      "Today is a good day\n",
      " \n"
     ]
    }
   ],
   "source": [
    "from collections import Counter\n",
    "\n",
    "print(\"알파벳으로 된 단어나 문장을 입력하시오.\")\n",
    "sentence = str(input())\n",
    "counter = Counter(sentence)\n",
    "print(max(sentence, key=counter.get))"
   ]
  },
  {
   "cell_type": "code",
   "execution_count": null,
   "metadata": {},
   "outputs": [],
   "source": []
  }
 ],
 "metadata": {
  "kernelspec": {
   "display_name": "Python 3",
   "language": "python",
   "name": "python3"
  },
  "language_info": {
   "codemirror_mode": {
    "name": "ipython",
    "version": 3
   },
   "file_extension": ".py",
   "mimetype": "text/x-python",
   "name": "python",
   "nbconvert_exporter": "python",
   "pygments_lexer": "ipython3",
   "version": "3.7.4"
  }
 },
 "nbformat": 4,
 "nbformat_minor": 2
}

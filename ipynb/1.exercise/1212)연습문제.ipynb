{
 "cells": [
  {
   "cell_type": "markdown",
   "metadata": {},
   "source": [
    "1"
   ]
  },
  {
   "cell_type": "code",
   "execution_count": 6,
   "metadata": {},
   "outputs": [
    {
     "name": "stdout",
     "output_type": "stream",
     "text": [
      "입력할 숫자의 개수를 입력하세요: (1에서 100,000사이)10000000000000000000000\n",
      "입력할 숫자의 개수를 다시 입력하세요: (1에서 100,000사이)1000000000000000000000000000\n",
      "입력할 숫자의 개수를 다시 입력하세요: (1에서 100,000사이)3\n",
      "정수를 입력하세요: (0에서 1,000,000 사이)3\n",
      "정수를 입력하세요: (0에서 1,000,000 사이)5\n",
      "정수를 입력하세요: (0에서 1,000,000 사이)5\n",
      "총 합은 13입니다.\n"
     ]
    }
   ],
   "source": [
    "from functools import reduce\n",
    "\n",
    "num_of_input = int(input(\"입력할 숫자의 개수를 입력하세요: (1에서 100,000사이)\"))\n",
    "\n",
    "while num_of_input < 1 or num_of_input > 100000:\n",
    "    num_of_input = int(input(\"입력할 숫자의 개수를 다시 입력하세요: (1에서 100,000사이)\"))\n",
    "\n",
    "num_list = []\n",
    "\n",
    "for i in range(num_of_input):\n",
    "    new_number = int(input(\"정수를 입력하세요: (0에서 1,000,000 사이)\"))\n",
    "    while new_number < 0 or new_number > 1000000:\n",
    "        new_number = int(input(\"정수를 다시 입력하세요: (0에서 1,000,000 사이)\"))\n",
    "    if new_number != 0:\n",
    "        num_list.append(new_number)\n",
    "    else:\n",
    "        try: num_list.pop()\n",
    "        except: pass\n",
    "try: total = reduce(lambda x, y: x+y, num_list)\n",
    "except: total = 0\n",
    "print(\"총 합은 %d입니다.\"%total)"
   ]
  },
  {
   "cell_type": "markdown",
   "metadata": {},
   "source": [
    "2"
   ]
  },
  {
   "cell_type": "code",
   "execution_count": 1,
   "metadata": {},
   "outputs": [
    {
     "name": "stdout",
     "output_type": "stream",
     "text": [
      "테스트할 데이터의 개수를 입력하세요: 6\n",
      "테스트할 괄호 문자열을 입력하세요: (())())\n",
      "NO\n",
      "테스트할 괄호 문자열을 입력하세요: (((()())()\n",
      "NO\n",
      "테스트할 괄호 문자열을 입력하세요: (()())((()))\n",
      "YES\n",
      "테스트할 괄호 문자열을 입력하세요: ((()()(()))(((())))()\n",
      "NO\n",
      "테스트할 괄호 문자열을 입력하세요: ()()()()(()()())()\n",
      "YES\n",
      "테스트할 괄호 문자열을 입력하세요: (()((())()(\n",
      "NO\n"
     ]
    }
   ],
   "source": [
    "num_of_input = int(input(\"테스트할 데이터의 개수를 입력하세요: \"))\n",
    "\n",
    "\n",
    "for i in range(num_of_input):\n",
    "    test_text = input(\"테스트할 괄호 문자열을 입력하세요: \")\n",
    "    test_list = list(test_text)\n",
    "    queue = []\n",
    "    for item in test_list:\n",
    "        if len(queue) == 0:\n",
    "            queue.append(item)\n",
    "        elif queue[-1] != item:\n",
    "            queue.pop()\n",
    "        else: queue.append(item)\n",
    "    if len(queue) == 0: print('YES')\n",
    "    else: print('NO')"
   ]
  },
  {
   "cell_type": "code",
   "execution_count": null,
   "metadata": {},
   "outputs": [],
   "source": [
    "(())())\n",
    "(((()())()\n",
    "(()())((()))\n",
    "((()()(()))(((())))()\n",
    "()()()()(()()())()\n",
    "(()((())()("
   ]
  },
  {
   "cell_type": "code",
   "execution_count": null,
   "metadata": {},
   "outputs": [],
   "source": []
  }
 ],
 "metadata": {
  "kernelspec": {
   "display_name": "Python 3",
   "language": "python",
   "name": "python3"
  },
  "language_info": {
   "codemirror_mode": {
    "name": "ipython",
    "version": 3
   },
   "file_extension": ".py",
   "mimetype": "text/x-python",
   "name": "python",
   "nbconvert_exporter": "python",
   "pygments_lexer": "ipython3",
   "version": "3.7.4"
  }
 },
 "nbformat": 4,
 "nbformat_minor": 2
}

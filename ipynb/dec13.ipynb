{
 "cells": [
  {
   "cell_type": "markdown",
   "metadata": {},
   "source": [
    "staticmethod"
   ]
  },
  {
   "cell_type": "code",
   "execution_count": 2,
   "metadata": {},
   "outputs": [
    {
     "name": "stdout",
     "output_type": "stream",
     "text": [
      "30\n"
     ]
    }
   ],
   "source": [
    "class Calculator:\n",
    "    @staticmethod\n",
    "    def plus(a, b):\n",
    "        return a+b\n",
    "    \n",
    "if __name__ == '__main__':\n",
    "    print(Calculator.plus(10, 20))"
   ]
  },
  {
   "cell_type": "code",
   "execution_count": 3,
   "metadata": {},
   "outputs": [
    {
     "data": {
      "text/plain": [
       "30"
      ]
     },
     "execution_count": 3,
     "metadata": {},
     "output_type": "execute_result"
    }
   ],
   "source": [
    "Calculator.plus(10, 20)"
   ]
  },
  {
   "cell_type": "markdown",
   "metadata": {},
   "source": [
    "classmethod"
   ]
  },
  {
   "cell_type": "code",
   "execution_count": 4,
   "metadata": {},
   "outputs": [],
   "source": [
    "class InstanceCounter:\n",
    "    count = 0\n",
    "    def __init__(self):\n",
    "        InstanceCounter.count += 1\n",
    "    @classmethod\n",
    "    def print_instance_count(cls):\n",
    "        print(\"생성된 인스턴스 개수는 : \", cls.count)"
   ]
  },
  {
   "cell_type": "code",
   "execution_count": 5,
   "metadata": {},
   "outputs": [
    {
     "name": "stdout",
     "output_type": "stream",
     "text": [
      "생성된 인스턴스 개수는 :  1\n"
     ]
    }
   ],
   "source": [
    "x = InstanceCounter()\n",
    "InstanceCounter.print_instance_count()"
   ]
  },
  {
   "cell_type": "code",
   "execution_count": 6,
   "metadata": {},
   "outputs": [
    {
     "name": "stdout",
     "output_type": "stream",
     "text": [
      "생성된 인스턴스 개수는 :  2\n"
     ]
    }
   ],
   "source": [
    "x2 = InstanceCounter()\n",
    "InstanceCounter.print_instance_count()"
   ]
  },
  {
   "cell_type": "code",
   "execution_count": 7,
   "metadata": {},
   "outputs": [
    {
     "name": "stdout",
     "output_type": "stream",
     "text": [
      "생성된 인스턴스 개수는 :  2\n"
     ]
    }
   ],
   "source": [
    "x2.print_instance_count()"
   ]
  },
  {
   "cell_type": "code",
   "execution_count": 8,
   "metadata": {},
   "outputs": [
    {
     "name": "stdout",
     "output_type": "stream",
     "text": [
      "public\n",
      "private\n",
      "public\n"
     ]
    },
    {
     "ename": "AttributeError",
     "evalue": "'HasPrivate' object has no attribute '__private'",
     "output_type": "error",
     "traceback": [
      "\u001b[1;31m---------------------------------------------------------------------------\u001b[0m",
      "\u001b[1;31mAttributeError\u001b[0m                            Traceback (most recent call last)",
      "\u001b[1;32m<ipython-input-8-26eab55ae3ad>\u001b[0m in \u001b[0;36m<module>\u001b[1;34m\u001b[0m\n\u001b[0;32m     11\u001b[0m \u001b[0mobject1\u001b[0m\u001b[1;33m.\u001b[0m\u001b[0mprint_internal\u001b[0m\u001b[1;33m(\u001b[0m\u001b[1;33m)\u001b[0m\u001b[1;33m\u001b[0m\u001b[1;33m\u001b[0m\u001b[0m\n\u001b[0;32m     12\u001b[0m \u001b[0mprint\u001b[0m \u001b[1;33m(\u001b[0m\u001b[0mobject1\u001b[0m\u001b[1;33m.\u001b[0m\u001b[0mpublic\u001b[0m\u001b[1;33m)\u001b[0m\u001b[1;33m\u001b[0m\u001b[1;33m\u001b[0m\u001b[0m\n\u001b[1;32m---> 13\u001b[1;33m \u001b[0mprint\u001b[0m \u001b[1;33m(\u001b[0m\u001b[0mobject1\u001b[0m\u001b[1;33m.\u001b[0m\u001b[0m__private\u001b[0m\u001b[1;33m)\u001b[0m\u001b[1;33m\u001b[0m\u001b[1;33m\u001b[0m\u001b[0m\n\u001b[0m",
      "\u001b[1;31mAttributeError\u001b[0m: 'HasPrivate' object has no attribute '__private'"
     ]
    }
   ],
   "source": [
    "class HasPrivate:\n",
    "    def __init__(self):\n",
    "        self.public = \"public\"\n",
    "        self.__private=\"private\"\n",
    "\n",
    "    def print_internal(self):\n",
    "        print(self.public)         #인스턴스 내부에서는 접근 가능\n",
    "        print(self.__private)      #인스턴스 내부에서는 접근 가능\n",
    "\n",
    "object1 = HasPrivate()\n",
    "object1.print_internal()\n",
    "print (object1.public)\n",
    "print (object1.__private)"
   ]
  },
  {
   "cell_type": "markdown",
   "metadata": {},
   "source": [
    "getter/setter method"
   ]
  },
  {
   "cell_type": "code",
   "execution_count": 20,
   "metadata": {},
   "outputs": [
    {
     "name": "stdout",
     "output_type": "stream",
     "text": [
      "private\n",
      "indirect\n"
     ]
    }
   ],
   "source": [
    "class HasPrivate:\n",
    "    def __init__(self, input1, input2):\n",
    "        self.public = input1\n",
    "        self.__private=input2\n",
    "\n",
    "    def print_internal(self):\n",
    "        print(self.public)         #인스턴스 내부에서는 접근 가능\n",
    "        print(self.__private)      #인스턴스 내부에서는 접근 가능\n",
    "   \n",
    "    @property\n",
    "    def private(self):\n",
    "        return self.__private\n",
    "\n",
    "    @private.setter                       #@메소드명.setter 데코레이터 선언\n",
    "    def private(self, input_private):    \n",
    "        self.__private= input_private\n",
    "\n",
    "\n",
    "object2 = HasPrivate(\"public\", \"private\")\n",
    "print (object2.private) \n",
    "object2.private=\"indirect\"\n",
    "print (object2.private) "
   ]
  },
  {
   "cell_type": "code",
   "execution_count": 21,
   "metadata": {},
   "outputs": [
    {
     "name": "stdout",
     "output_type": "stream",
     "text": [
      "private\n",
      "indirect2\n"
     ]
    }
   ],
   "source": [
    "class HasPrivate:\n",
    "    def __init__(self, input1, input2):\n",
    "        self.public = input1\n",
    "        self.__private=input2\n",
    "\n",
    "    def print_internal(self):\n",
    "        print(self.public)         #인스턴스 내부에서는 접근 가능\n",
    "        print(self.__private)      #인스턴스 내부에서는 접근 가능   \n",
    "   \n",
    "    def get_private(self):\n",
    "        return self.__private\n",
    "\n",
    "                          \n",
    "    def set_private(self, input_private):    \n",
    "        self.__private= input_private\n",
    "\n",
    "\n",
    "object3 = HasPrivate(\"public\", \"private\")\n",
    "print (object3.get_private() ) \n",
    "object3.set_private (\"indirect2\" )\n",
    "print (object3.get_private()) "
   ]
  },
  {
   "cell_type": "markdown",
   "metadata": {},
   "source": [
    "issubclass"
   ]
  },
  {
   "cell_type": "code",
   "execution_count": 22,
   "metadata": {},
   "outputs": [
    {
     "data": {
      "text/plain": [
       "True"
      ]
     },
     "execution_count": 22,
     "metadata": {},
     "output_type": "execute_result"
    }
   ],
   "source": [
    "#상속관계 확인\n",
    "class Person:\n",
    "    pass\n",
    "\n",
    "class Student(Person):\n",
    "    pass\n",
    "\n",
    "issubclass(Student, Person)"
   ]
  },
  {
   "cell_type": "code",
   "execution_count": 26,
   "metadata": {},
   "outputs": [
    {
     "name": "stdout",
     "output_type": "stream",
     "text": [
      "B\n"
     ]
    }
   ],
   "source": [
    "class A:\n",
    "    def method(self):\n",
    "        print(\"A\")\n",
    "\n",
    "\n",
    "class B:\n",
    "    def method(self):\n",
    "        print(\"B\")\n",
    "\n",
    "\n",
    "class C(A):\n",
    "    def method(self):    #재정의\n",
    "        print(\"C\")\n",
    "\n",
    "class D(B, C):\n",
    "    pass\n",
    "\n",
    "class E(C, B):\n",
    "    pass\n",
    "\n",
    "obj = D()\n",
    "obj.method()"
   ]
  },
  {
   "cell_type": "code",
   "execution_count": 27,
   "metadata": {},
   "outputs": [],
   "source": [
    "obj2 = E()"
   ]
  },
  {
   "cell_type": "code",
   "execution_count": 28,
   "metadata": {},
   "outputs": [
    {
     "name": "stdout",
     "output_type": "stream",
     "text": [
      "C\n"
     ]
    }
   ],
   "source": [
    "obj2.method()"
   ]
  },
  {
   "cell_type": "markdown",
   "metadata": {},
   "source": [
    "에러 핸들링"
   ]
  },
  {
   "cell_type": "code",
   "execution_count": 30,
   "metadata": {},
   "outputs": [],
   "source": [
    "def getItem(idx):\n",
    "    return list1[idx]"
   ]
  },
  {
   "cell_type": "code",
   "execution_count": 31,
   "metadata": {},
   "outputs": [
    {
     "ename": "IndexError",
     "evalue": "list index out of range",
     "output_type": "error",
     "traceback": [
      "\u001b[1;31m---------------------------------------------------------------------------\u001b[0m",
      "\u001b[1;31mIndexError\u001b[0m                                Traceback (most recent call last)",
      "\u001b[1;32m<ipython-input-31-8030e6c7d1c8>\u001b[0m in \u001b[0;36m<module>\u001b[1;34m\u001b[0m\n\u001b[1;32m----> 1\u001b[1;33m \u001b[0mprint\u001b[0m\u001b[1;33m(\u001b[0m\u001b[0mgetItem\u001b[0m\u001b[1;33m(\u001b[0m\u001b[1;36m3\u001b[0m\u001b[1;33m)\u001b[0m\u001b[1;33m)\u001b[0m\u001b[1;33m\u001b[0m\u001b[1;33m\u001b[0m\u001b[0m\n\u001b[0m",
      "\u001b[1;32m<ipython-input-30-9dcfdd03b218>\u001b[0m in \u001b[0;36mgetItem\u001b[1;34m(idx)\u001b[0m\n\u001b[0;32m      1\u001b[0m \u001b[1;32mdef\u001b[0m \u001b[0mgetItem\u001b[0m\u001b[1;33m(\u001b[0m\u001b[0midx\u001b[0m\u001b[1;33m)\u001b[0m\u001b[1;33m:\u001b[0m\u001b[1;33m\u001b[0m\u001b[1;33m\u001b[0m\u001b[0m\n\u001b[1;32m----> 2\u001b[1;33m     \u001b[1;32mreturn\u001b[0m \u001b[0mlist1\u001b[0m\u001b[1;33m[\u001b[0m\u001b[0midx\u001b[0m\u001b[1;33m]\u001b[0m\u001b[1;33m\u001b[0m\u001b[1;33m\u001b[0m\u001b[0m\n\u001b[0m",
      "\u001b[1;31mIndexError\u001b[0m: list index out of range"
     ]
    }
   ],
   "source": [
    "print(getItem(3))"
   ]
  },
  {
   "cell_type": "code",
   "execution_count": 61,
   "metadata": {},
   "outputs": [],
   "source": [
    "list1 = [100, 200, 300]\n",
    "def getItem(idx):\n",
    "    print(\"Start\")\n",
    "    try:\n",
    "        print(list1[idx])\n",
    "        print(\"normally execute\")\n",
    "    except IndexError as e:\n",
    "        print(str(e).title(), \": abnormal event...and next\")    \n",
    "    finally:\n",
    "        print(\"finally block execute\")\n",
    "        print(\"End\")"
   ]
  },
  {
   "cell_type": "code",
   "execution_count": 63,
   "metadata": {},
   "outputs": [
    {
     "name": "stdout",
     "output_type": "stream",
     "text": [
      "Start\n",
      "100\n",
      "normally execute\n",
      "finally block execute\n",
      "End\n",
      "\n",
      "\n",
      "Start\n",
      "List Index Out Of Range : abnormal event...and next\n",
      "finally block execute\n",
      "End\n"
     ]
    }
   ],
   "source": [
    "getItem(0)\n",
    "print('\\n')\n",
    "getItem(3)"
   ]
  },
  {
   "cell_type": "code",
   "execution_count": 58,
   "metadata": {},
   "outputs": [],
   "source": [
    "import test3"
   ]
  },
  {
   "cell_type": "code",
   "execution_count": 59,
   "metadata": {},
   "outputs": [
    {
     "name": "stdout",
     "output_type": "stream",
     "text": [
      "100\n",
      "normally execute\n",
      "finally block execute\n"
     ]
    },
    {
     "data": {
      "text/plain": [
       "100"
      ]
     },
     "execution_count": 59,
     "metadata": {},
     "output_type": "execute_result"
    }
   ],
   "source": [
    "test3.getItem(0)"
   ]
  },
  {
   "cell_type": "code",
   "execution_count": 60,
   "metadata": {},
   "outputs": [
    {
     "name": "stdout",
     "output_type": "stream",
     "text": [
      "List Index Out Of Range : abnormal event...and next\n",
      "finally block execute\n"
     ]
    }
   ],
   "source": [
    "getItem(3)"
   ]
  },
  {
   "cell_type": "markdown",
   "metadata": {},
   "source": [
    "# file read and write"
   ]
  },
  {
   "cell_type": "code",
   "execution_count": 66,
   "metadata": {},
   "outputs": [
    {
     "name": "stdout",
     "output_type": "stream",
     "text": [
      "예외가 발생한 경우 발생한 예외타입이름과 abnormal event...and next\n",
      "예외가 발생하지 않은 경우 수행할 문장은 \"normally execute\"\n",
      "예외 발생 유무와 상관없이 수행할 문장은 \"finally block execute\n"
     ]
    }
   ],
   "source": [
    "f = open('dream.txt', 'r', encoding = 'utf-8')\n",
    "content = f.read()\n",
    "print(content)\n",
    "f.close()"
   ]
  },
  {
   "cell_type": "code",
   "execution_count": 67,
   "metadata": {},
   "outputs": [
    {
     "name": "stdout",
     "output_type": "stream",
     "text": [
      "<class 'str'> 예외가 발생한 경우 발생한 예외타입이름과 abnormal event...and next\n",
      "예외가 발생하지 않은 경우 수행할 문장은 \"normally execute\"\n",
      "예외 발생 유무와 상관없이 수행할 문장은 \"finally block execute\n"
     ]
    }
   ],
   "source": [
    "with open('dream.txt', 'r', encoding = 'utf-8') as f:\n",
    "    content = f.read()\n",
    "    print(type(content), content)"
   ]
  },
  {
   "cell_type": "code",
   "execution_count": 68,
   "metadata": {},
   "outputs": [
    {
     "name": "stdout",
     "output_type": "stream",
     "text": [
      "<class 'list'> ['예외가 발생한 경우 발생한 예외타입이름과 abnormal event...and next\\n', '예외가 발생하지 않은 경우 수행할 문장은 \"normally execute\"\\n', '예외 발생 유무와 상관없이 수행할 문장은 \"finally block execute']\n"
     ]
    }
   ],
   "source": [
    "with open('dream.txt', 'r', encoding = 'utf-8') as f:\n",
    "    content_list = f.readlines()\n",
    "    print(type(content_list), content_list)"
   ]
  },
  {
   "cell_type": "code",
   "execution_count": 70,
   "metadata": {},
   "outputs": [
    {
     "name": "stdout",
     "output_type": "stream",
     "text": [
      "0 === 예외가 발생한 경우 발생한 예외타입이름과 abnormal event...and next\n",
      "1 === 예외가 발생하지 않은 경우 수행할 문장은 \"normally execute\"\n",
      "2 === 예외 발생 유무와 상관없이 수행할 문장은 \"finally block execute\n"
     ]
    }
   ],
   "source": [
    "with open('dream.txt', 'r', encoding = 'utf-8') as f:\n",
    "    i = 0\n",
    "    while 1:\n",
    "        line = f.readline()\n",
    "        if not line:\n",
    "            break\n",
    "        print(str(i) + \" === \" + line.replace('\\n', ''))\n",
    "        i += 1"
   ]
  },
  {
   "cell_type": "code",
   "execution_count": 71,
   "metadata": {},
   "outputs": [
    {
     "name": "stdout",
     "output_type": "stream",
     "text": [
      "총 글자의 수: 136\n",
      "총 단어의 수: 23\n",
      "총 문장의 수: 3\n"
     ]
    }
   ],
   "source": [
    "with open('dream.txt', 'r', encoding = 'utf-8') as f:\n",
    "    contents = f.read()\n",
    "    word_list = contents.split(' ')\n",
    "    line_list = contents.split('\\n')\n",
    "    \n",
    "print(\"총 글자의 수:\", len(contents))\n",
    "print(\"총 단어의 수:\", len(word_list))\n",
    "print(\"총 문장의 수:\", len(line_list))"
   ]
  },
  {
   "cell_type": "code",
   "execution_count": 72,
   "metadata": {},
   "outputs": [],
   "source": [
    "f = open('count_log.txt', 'w', encoding = 'utf8')\n",
    "for i in range(1, 11):\n",
    "    data = \"%d번째 줄이다.\\n\"%i\n",
    "    f.write(data)\n",
    "f.close()"
   ]
  },
  {
   "cell_type": "code",
   "execution_count": 74,
   "metadata": {},
   "outputs": [],
   "source": [
    "f = open('count_log.txt', 'a', encoding = 'utf8')\n",
    "for i in range(1, 11):\n",
    "    data = \"%d번째 줄이다.\\n\"%i\n",
    "    f.write(data)\n",
    "f.close()"
   ]
  },
  {
   "cell_type": "markdown",
   "metadata": {},
   "source": [
    "# directory"
   ]
  },
  {
   "cell_type": "code",
   "execution_count": 73,
   "metadata": {},
   "outputs": [],
   "source": [
    "import os\n",
    "os.mkdir('log')\n",
    "\n",
    "if not os.path.isdir('log'):\n",
    "    os.mkdir('log')"
   ]
  },
  {
   "cell_type": "code",
   "execution_count": 77,
   "metadata": {},
   "outputs": [],
   "source": [
    "if not os.path.exists(\"log/count_log.txt\"):\n",
    "    f = open(\"log/count_log.txt\", 'w', encoding = 'utf8')\n",
    "    f.write('기록이 시작된다.\\n')\n",
    "    f.close()\n",
    "    \n",
    "with open('log/count_log.txt', 'a', encoding = 'utf8') as f:\n",
    "    import random, datetime\n",
    "    for i in range(1, 11):\n",
    "        stamp = str(datetime.datetime.now())\n",
    "        value = random.random() * 1000000\n",
    "        log_line = stamp + '\\t' + str(value) + '값이 생성되었다.' + '\\n'\n",
    "        f.write(log_line)"
   ]
  },
  {
   "cell_type": "code",
   "execution_count": null,
   "metadata": {},
   "outputs": [],
   "source": []
  }
 ],
 "metadata": {
  "kernelspec": {
   "display_name": "Python 3",
   "language": "python",
   "name": "python3"
  },
  "language_info": {
   "codemirror_mode": {
    "name": "ipython",
    "version": 3
   },
   "file_extension": ".py",
   "mimetype": "text/x-python",
   "name": "python",
   "nbconvert_exporter": "python",
   "pygments_lexer": "ipython3",
   "version": "3.7.4"
  }
 },
 "nbformat": 4,
 "nbformat_minor": 2
}

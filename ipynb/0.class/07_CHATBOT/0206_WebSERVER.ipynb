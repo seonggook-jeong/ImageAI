{
 "cells": [
  {
   "cell_type": "markdown",
   "metadata": {},
   "source": [
    "# <오늘 할 것: 웹 서버 구축부터 세션 관리까지>\n",
    "\n",
    "# 1. 웹 서버\n",
    "- 1-1. HTML로 웹서버 구축하기\n",
    "- 1-2. Flask로 웹서버 구축하기\n",
    "    - 1-2-1. 이미지 출력하기\n",
    "    - 1-2-2. HTML 출력하기\n",
    "    - 1-2-3. 방문자 수를 이미지로 출력하는 예제\n",
    "    - 1-2-4. 도시를 입력받아 날씨를 출력하는 예제\n",
    "\n",
    "# 2. DialogFlow 연결하기(to DF)\n",
    "- 2-1. NGROK으로 full circle 만들기\n",
    "- 2-2. unit test 하는 법\n",
    "\n",
    "# 3. 세션 관리하기\n",
    "- 3-1. User 클래스 정의\n",
    "\n"
   ]
  },
  {
   "cell_type": "markdown",
   "metadata": {},
   "source": [
    "# 1. 웹 서버\n",
    ">요청한 파일을 **다운로드**하는 프로토콜\n",
    "\n",
    "## 1-1. HTML로 웹서버 구축하기\n",
    "1. 간단한 html 파일을 생성한다. (index.html)\n",
    "    - e.g. `<h1> Hello </h1>`\n",
    "\n",
    "> index 파일은 홈페이지를 접속했을 때 기본으로 보여지는 파일의 파일명이다.\n",
    "기본으로 보여진다는 것은 http://도메인 으로 접속했을 때 index 파일이 있는지를\n",
    "찾아서 맨 처음에 보여준다는 것을 뜻한다.\n",
    "\n",
    "출처: https://m.blog.naver.com/PostView.nhn?blogId=anysecure3&logNo=220026402494&proxyReferer=https%3A%2F%2Fwww.google.com%2F\n",
    "\n",
    "2. 명령프롬프트에서 해당 파일이 있는 디렉토리로 이동한다.\n",
    "\n",
    "\n",
    "3. 명령프롬프트에서 `python -m http.server 포트번호`를 입력한다.\n",
    "\n",
    "\n",
    "4. 브라우저에서 `localhost:포트번호` 로 접속하면 html 파일 내용이 보인다.\n",
    "    - `127.0.0.1:포트번호`로도 접속 가능하다.\n",
    "    \n",
    "    \n",
    "5. 디렉토리에 올려놓은 이미지, zip 파일, exe 파일 등에도 접근 가능하다.\n",
    "    - `localhost:포트번호/img.jpg`\n",
    "        - 이미지 파일(+ 음성 파일)은 미리보기가 가능하다.\n",
    "    - `localhost:포트번호/file.zip`\n",
    "        - zip 파일은 웹에서 디스플레이할 수 없으므로 + 그리고 웹 서버의 가장 기본적인 목적이 **파일 다운로드**이므로, 파일 내용이 디스플레이되지 않고 파일이 다운로드 되기만 한다. \n",
    "    - `localhost:포트번호/exec.exe`\n",
    "        - 마찬가지로 다운로드 되기만 한다. 알아서 실행되거나 하지는 않는다.\n",
    "        \n",
    "        \n",
    "6. root 디렉토리 안의 또 다른 폴더 안에 있는 파일은 다음과 같이 접근한다.\n",
    "    - e.g. root > data > board > img.jpg\n",
    "    - `localhost:포트번호/data/board/img.jpg`\n",
    "    - flask app의 route는 가상의 경로였다면, 웹서버의 경로는 물리적으로 존재하는 디렉토리의 경로이다."
   ]
  },
  {
   "cell_type": "markdown",
   "metadata": {},
   "source": [
    "## 1-2. Flask로 웹서버 구축하기\n",
    "\n",
    "### 1-2-1. 이미지 출력하기!\n",
    "\n",
    "`static` 이라는 디렉토리를 만들어서 그 안에 이미지 파일을 넣어둔다.\n",
    "\n",
    "`return \"<img src=/static/이미지.jpg />\"`로 출력할 수 있다.\n",
    "\n",
    "### `static`은 고정이다."
   ]
  },
  {
   "cell_type": "code",
   "execution_count": null,
   "metadata": {},
   "outputs": [],
   "source": [
    "from flask import Flask, request, jsonify\n",
    "from flask import request\n",
    "import urllib\n",
    "from bs4 import BeautifulSoup\n",
    "\n",
    "app = Flask(__name__)\n",
    "\n",
    "@app.route('/')\n",
    "def home():\n",
    "    return \"hello <img src=/static/friends.jpg />\"\n",
    "\n",
    "if __name__ == '__main__':\n",
    "    app.run(host = '0.0.0.0', port = 3000, debug = True)"
   ]
  },
  {
   "cell_type": "markdown",
   "metadata": {},
   "source": [
    "### 1-2-2. HTML 출력하기\n",
    "\n",
    "HTML 내용을 str 타입으로 전달한 뒤 `return`하면 된다."
   ]
  },
  {
   "cell_type": "code",
   "execution_count": null,
   "metadata": {},
   "outputs": [],
   "source": [
    "@app.route('/')\n",
    "def home():\n",
    "    html = \"\"\"<iframe \n",
    "    id=\"frame\" \n",
    "    class=\"b_frame\" \n",
    "    allow=\"microphone;\"\n",
    "    width = \"300\"\n",
    "    height = \"500\"\n",
    "    src=\"https://console.dialogflow.com/api-client/demo/embedded/aichatbot_8895\">\n",
    "    </iframe>\"\"\"\n",
    "    return html"
   ]
  },
  {
   "cell_type": "markdown",
   "metadata": {},
   "source": [
    "### 1-2-3. 방문자 수를 이미지로 출력하는 예제"
   ]
  },
  {
   "cell_type": "code",
   "execution_count": 130,
   "metadata": {
    "ExecuteTime": {
     "end_time": "2020-02-06T08:22:56.199938Z",
     "start_time": "2020-02-06T08:22:56.194997Z"
    }
   },
   "outputs": [],
   "source": [
    "cnt = 0\n",
    "\n",
    "def counter():\n",
    "    global cnt\n",
    "    cnt += 1\n",
    "    files = [f\"{digit}.jpg\" for digit in str(cnt)]\n",
    "    return_str = \" \".join([f\"<img src=/static/{file}>\" for file in files])\n",
    "    return f\"{return_str}명이 방문했습니다.\""
   ]
  },
  {
   "cell_type": "code",
   "execution_count": 144,
   "metadata": {
    "ExecuteTime": {
     "end_time": "2020-02-06T08:23:11.401697Z",
     "start_time": "2020-02-06T08:23:11.397707Z"
    }
   },
   "outputs": [
    {
     "data": {
      "text/plain": [
       "'<img src=/static/1.jpg> <img src=/static/4.jpg>명이 방문했습니다.'"
      ]
     },
     "execution_count": 144,
     "metadata": {},
     "output_type": "execute_result"
    }
   ],
   "source": [
    "counter()"
   ]
  },
  {
   "cell_type": "markdown",
   "metadata": {},
   "source": [
    "### 1-2-4. 도시를 입력받아 날씨를 출력하는 예제\n",
    "1. 도시 입력받을 폼 만들기\n",
    "2. 날씨 출력할 함수 만들기\n",
    "\n",
    "#### 1. 먼저 폼을 별도의 html 파일로 생성해주어야 한다. \n",
    "\n",
    "(정적인 파일이므로 `static` 폴더에 저장)\n",
    "\n",
    "<img src=form.jpg>\n",
    "\n",
    "- `action=/weather` : submit 을 하면 `/weather`로 이동\n",
    "- `name=city` : `/weather`로 이동 시 인풋 값이 `city`로 전달됨 e.g. `/weather?city=인풋`\n",
    "- `type=submit` : 버튼\n",
    "- `<form action=/weather method=POST>`로 method 인자를 지정할 수도 있다.\n",
    "    - 디폴트는 GET 방식이다.\n",
    "    - POST 방식으로 했을 때: 전달받은 인풋 값이 url에 보이지 않는다.\n",
    "        - http://localhost:3000/weather\n",
    "    - GET 방식으로 했을 때: 전달받은 인풋 값이 url에 보인다.\n",
    "        - http://localhost:3000/weather?city=서울\n",
    "\n",
    "\n",
    "#### 2. 폼에서 전달받은 도시명으로 날씨를 출력하는 함수를 서버에 올릴 .py 파일로 생성한다.\n",
    "\n",
    "<img src=weather.jpg>\n",
    "\n",
    "- request 메세지를 받아오는 두 가지 방식\n",
    "    - 1. 'POST' 방식으로 요청이 들어왔을 때: `request.form`\n",
    "    - 2. 'GET' 방식으로 요청이 들어왔을 때: `request.args`\n",
    "    \n",
    "\n",
    "\n",
    "서버에 해당 `.py` 파일을 올려서 제대로 작동하는지 확인할 수 있다."
   ]
  },
  {
   "cell_type": "markdown",
   "metadata": {},
   "source": [
    "# 2. DialogFlow 연결하기(to DF)\n",
    "\n",
    "## 2-1. NGROK으로 full circle 만들기\n",
    "\n",
    "> DialogFlow <-> NGROK <-> local server(Fulfillment)\n",
    "\n",
    "<img src=webhook.jpg>\n",
    "\n",
    "### 0. 사전 작업\n",
    "#### - web.py에 dialogflow 함수 만들어주기      \n",
    "\n",
    "<img src=dialogflow.jpg>\n",
    "\n",
    "- `req = request.get_json(force=True)`\n",
    "    - 들어온 리퀘스트 내용을 json 타입으로 `req`에 저장\n",
    "    \n",
    "- `res = {'fulfillmentText': answer}`\n",
    "    - 리턴할 response는 'fulfillmentText'의 밸류에 삽입한다.\n",
    "    \n",
    "- `return jsonify(res)`\n",
    "    - 리턴은 꼭 **json** 타입으로!\n",
    "        \n",
    "        \n",
    "        \n",
    "#### - 명령프롬프트로 서버 열기 \n",
    "- `python web.py`\n",
    "\n",
    "\n",
    "#### - NGROK 터널 열기\n",
    "- `ngrok http 포트번호`\n",
    "\n",
    "\n",
    "### 1. DialogFlow에서 연결하고자 하는 `Intent`에서 Fulfillment 설정을 바꾸어준다.\n",
    "    - Enable webhook call for this intent\n",
    "\n",
    "<img src=intent.jpg>\n",
    "\n",
    "\n",
    "### 2. DialogFlow의 `Fulfillment`에서 Webhook를 Enable 해준다.\n",
    "\n",
    "### 3. `URL`에 연결하고자 하는 url을 입력한다.(NGROK에서 발급한 url/app_route)\n",
    "<img src=fulfillment.jpg>\n",
    "\n",
    "### 4. cmd와 ngrok 프롬프트를 지켜보면서 에러핸들링을 한다."
   ]
  },
  {
   "cell_type": "markdown",
   "metadata": {},
   "source": [
    "## 2-2. unit test 하는 법\n",
    "\n",
    "요청 메세지를 별도의 json 파일에 저장한 뒤에 불러와서 테스트한다.\n",
    "- 서버\n",
    "- ngrok 터널\n",
    "- dialogflow\n",
    "- 심지어는 web 연결 마저도\n",
    "\n",
    "모두 다 없이 테스트가 가능하다."
   ]
  },
  {
   "cell_type": "code",
   "execution_count": 84,
   "metadata": {
    "ExecuteTime": {
     "end_time": "2020-02-06T05:56:08.705392Z",
     "start_time": "2020-02-06T05:56:08.697317Z"
    }
   },
   "outputs": [
    {
     "name": "stdout",
     "output_type": "stream",
     "text": [
      "{\n",
      "    \"responseId\": \"d561df3d-f1ea-4bc8-9e53-2c8b7175a5f4-ce609cdc\",\n",
      "    \"queryResult\": {\n",
      "        \"queryText\": \"짜장면 2개, 짬뽕 3개\",\n",
      "        \"parameters\": {\n",
      "            \"food_number\": [\n",
      "                {\n",
      "                    \"food\": \"짜장면\",\n",
      "                    \"number-integer\": 2.0\n",
      "                },\n",
      "                {\n",
      "                    \"food\": \"짬뽕\",\n",
      "                    \"number-integer\": 3.0\n",
      "                }\n",
      "            ]\n",
      "        },\n",
      "        \"allRequiredParamsPresent\": true,\n",
      "        \"fulfillmentText\": \"짜장면 2, 짬뽕 3 확인\",\n",
      "        \"fulfillmentMessages\": [\n",
      "            {\n",
      "                \"text\": {\n",
      "                    \"text\": [\n",
      "                        \"짜장면 2, 짬뽕 3 확인\"\n",
      "                    ]\n",
      "                }\n",
      "            }\n",
      "        ],\n",
      "        \"outputContexts\": [\n",
      "            {\n",
      "                \"name\": \"projects/aichatbot-dvcusb/agent/sessions/1a382e2d-9df1-69eb-0f6a-d72d0f2cdc69/contexts/__system_counters__\",\n",
      "                \"parameters\": {\n",
      "                    \"no-input\": 0.0,\n",
      "                    \"no-match\": 0.0,\n",
      "                    \"food_number\": [\n",
      "                        {\n",
      "                            \"food\": \"짜장면\",\n",
      "                            \"food.original\": \"짜장면\",\n",
      "                            \"number-integer\": 2.0,\n",
      "                            \"number-integer.original\": \"2\"\n",
      "                        },\n",
      "                        {\n",
      "                            \"food\": \"짬뽕\",\n",
      "                            \"food.original\": \"짬뽕\",\n",
      "                            \"number-integer\": 3.0,\n",
      "                            \"number-integer.original\": \"3\"\n",
      "                        }\n",
      "                    ],\n",
      "                    \"food_number.original\": [\n",
      "                        \"짜장면 2\",\n",
      "                        \"짬뽕 3\"\n",
      "                    ]\n",
      "                }\n",
      "            }\n",
      "        ],\n",
      "        \"intent\": {\n",
      "            \"name\": \"projects/aichatbot-dvcusb/agent/intents/7cd99c0a-74a3-454b-8131-7d9d6f042c69\",\n",
      "            \"displayName\": \"Order2\"\n",
      "        },\n",
      "        \"intentDetectionConfidence\": 0.46848392,\n",
      "        \"languageCode\": \"ko\"\n",
      "    },\n",
      "    \"originalDetectIntentRequest\": {\n",
      "        \"payload\": {}\n",
      "    },\n",
      "    \"session\": \"projects/aichatbot-dvcusb/agent/sessions/1a382e2d-9df1-69eb-0f6a-d72d0f2cdc69\"\n",
      "}\n",
      "{'fulfillmentText': '총 40000원입니다.'}\n"
     ]
    }
   ],
   "source": [
    "file = 'chat01.json'\n",
    "\n",
    "with open(file, encoding = 'utf-8') as json_file:\n",
    "    req = json.load(json_file)\n",
    "\n",
    "print(json.dumps(req, indent = 4, ensure_ascii = False))\n",
    "    \n",
    "answer = req['queryResult']['fulfillmentText']\n",
    "intentName = req['queryResult']['intent']['displayName']\n",
    "    \n",
    "if intentName == 'Query':\n",
    "    word = req['queryResult']['parameters']['any']\n",
    "    answer = getQuery(word)[0]\n",
    "    \n",
    "elif intentName == 'Order2':\n",
    "        price = {'짜장면': 5000, '짬뽕': 10000, '탕수육': 20000}\n",
    "        params = req['queryResult']['parameters']['food_number']\n",
    "\n",
    "        output = [food.get(\"number-integer\", 1) * price[food['food']] for food in params]\n",
    "        #get을 쓰는 이유는 음식이 하나인 경우 수량을 명시하지 않는 경우도 있기 때문(에러핸들링의 측면에서)\n",
    "        answer = f\"총 {int(sum(output))}원입니다.\"\n",
    "\n",
    "elif intentName == 'Weather' and req['queryResult']['allRequiredParamsPresent'] == 1:\n",
    "    date = req['queryResult']['parameters']['date']\n",
    "    geo_city = req['queryResult']['parameters']['geo-city']\n",
    "        \n",
    "    info = getWeather(geo_city)\n",
    "        \n",
    "    answer = f\"{geo_city} 날씨 정보 : {info['temp']} / {info['desc']}\"\n",
    "                 \n",
    "res = {'fulfillmentText': answer}\n",
    "\n",
    "print(res)"
   ]
  },
  {
   "cell_type": "markdown",
   "metadata": {},
   "source": [
    "함수화해놓으면 indent까지도 신경쓰지 않아도 된다."
   ]
  },
  {
   "cell_type": "code",
   "execution_count": 90,
   "metadata": {
    "ExecuteTime": {
     "end_time": "2020-02-06T06:25:52.450235Z",
     "start_time": "2020-02-06T06:25:52.081518Z"
    }
   },
   "outputs": [],
   "source": [
    "from flask import Flask, request, jsonify\n",
    "from flask import request\n",
    "import urllib\n",
    "from bs4 import BeautifulSoup\n",
    "import json\n",
    "\n",
    "def getQuery(word):\n",
    "    url = 'https://search.naver.com/search.naver?where=kdic&query='\n",
    "    url += urllib.parse.quote_plus(word)\n",
    "    bs = BeautifulSoup(urllib.request.urlopen(url).read(), 'html.parser')\n",
    "\n",
    "    output = bs.select('p.txt_box')\n",
    "    #return a[0].text\n",
    "    return [node.text for node in output] \n",
    "\n",
    "def getWeather(city):\n",
    "    url = 'https://search.naver.com/search.naver?query='\n",
    "    url += urllib.parse.quote_plus(city + ' 날씨')\n",
    "    bs = BeautifulSoup(urllib.request.urlopen(url).read(), 'html.parser')\n",
    "    temp = bs.select(\"span.todaytemp\")\n",
    "    desc = bs.select(\"p.cast_txt\")\n",
    "\n",
    "    return {\"temp\": temp[0].text,  \"desc\": desc[0].text}"
   ]
  },
  {
   "cell_type": "code",
   "execution_count": 85,
   "metadata": {
    "ExecuteTime": {
     "end_time": "2020-02-06T05:58:43.768593Z",
     "start_time": "2020-02-06T05:58:43.761612Z"
    }
   },
   "outputs": [],
   "source": [
    "def processDialog(req):\n",
    "    answer = req['queryResult']['fulfillmentText']\n",
    "    intentName = req['queryResult']['intent']['displayName']\n",
    "\n",
    "    if intentName == 'Query':\n",
    "        word = req['queryResult']['parameters']['any']\n",
    "        answer = getQuery(word)[0]\n",
    "\n",
    "    elif intentName == 'Order2':\n",
    "            price = {'짜장면': 5000, '짬뽕': 10000, '탕수육': 20000}\n",
    "            params = req['queryResult']['parameters']['food_number']\n",
    "\n",
    "            output = [food.get(\"number-integer\", 1) * price[food['food']] for food in params]\n",
    "            #get을 쓰는 이유는 음식이 하나인 경우 수량을 명시하지 않는 경우도 있기 때문(에러핸들링의 측면에서)\n",
    "            answer = f\"총 {int(sum(output))}원입니다.\"\n",
    "\n",
    "    elif intentName == 'Weather' and req['queryResult']['allRequiredParamsPresent'] == 1:\n",
    "        date = req['queryResult']['parameters']['date']\n",
    "        geo_city = req['queryResult']['parameters']['geo-city']\n",
    "\n",
    "        info = getWeather(geo_city)\n",
    "\n",
    "        answer = f\"{geo_city} 날씨 정보 : {info['temp']} / {info['desc']}\"\n",
    "\n",
    "    res = {'fulfillmentText': answer}\n",
    "\n",
    "    return res"
   ]
  },
  {
   "cell_type": "code",
   "execution_count": 97,
   "metadata": {
    "ExecuteTime": {
     "end_time": "2020-02-06T06:28:15.219760Z",
     "start_time": "2020-02-06T06:28:14.962622Z"
    }
   },
   "outputs": [
    {
     "data": {
      "text/plain": [
       "{'fulfillmentText': '플라스마는 일부 또는 전체가 전리되어 있어 전류가 잘 흐르는 기체이다. 고체, 액체, 중성 기체와 구별되는 물질의 또 다른 상태이다. 전류는 대부분 음의 전하를 갖는... '}"
      ]
     },
     "execution_count": 97,
     "metadata": {},
     "output_type": "execute_result"
    }
   ],
   "source": [
    "file = 'chat01.json'\n",
    "\n",
    "with open(file, encoding = 'utf-8') as json_file:\n",
    "    req = json.load(json_file)\n",
    "\n",
    "\n",
    "req['queryResult']['parameters']['any'] = '플라스마'   #파라미터를 강제로 바꿔가면서 테스트해볼 수 있다.\n",
    " \n",
    "processDialog(req)"
   ]
  },
  {
   "cell_type": "markdown",
   "metadata": {},
   "source": [
    "# 3. 세션 관리하기\n",
    "\n",
    "> 복수의 유저가 접속할 때, 세션을 구분할 수 있어야 각각의 유저에 맞추어 처리가 가능하다.\n",
    "\n",
    "사실 DialogFlow가 NGROK을 통해 우리 서버에 보내오는 request 메세지에 이미 세션 정보가 포함되어 있다.\n",
    "- `\"session\"` 키의 밸류로 저장되어있음.\n",
    "\n",
    " - e.g. \"session\": \"projects/aichatbot-dvcusb/agent/sessions/1a382e2d-9df1-69eb-0f6a-d72d0f2cdc69\"\n",
    " \n",
    " "
   ]
  },
  {
   "cell_type": "code",
   "execution_count": 118,
   "metadata": {
    "ExecuteTime": {
     "end_time": "2020-02-06T08:10:34.592179Z",
     "start_time": "2020-02-06T08:10:34.587192Z"
    }
   },
   "outputs": [],
   "source": [
    "sessid = \"kim34\"\n",
    "\n",
    "datas = {}\n",
    "datas[sessid] = {\"win\":0, \"lose\":0, \"draw\":0}\n",
    "\n",
    "sessid = \"lee\"\n",
    "datas[sessid] = {\"win\":10, \"lose\":3, \"draw\":2}"
   ]
  },
  {
   "cell_type": "code",
   "execution_count": 119,
   "metadata": {
    "ExecuteTime": {
     "end_time": "2020-02-06T08:10:37.052182Z",
     "start_time": "2020-02-06T08:10:37.047233Z"
    }
   },
   "outputs": [
    {
     "data": {
      "text/plain": [
       "{'win': 0, 'lose': 0, 'draw': 0}"
      ]
     },
     "execution_count": 119,
     "metadata": {},
     "output_type": "execute_result"
    }
   ],
   "source": [
    "datas['kim34']"
   ]
  },
  {
   "cell_type": "code",
   "execution_count": 120,
   "metadata": {
    "ExecuteTime": {
     "end_time": "2020-02-06T08:10:37.811477Z",
     "start_time": "2020-02-06T08:10:37.806537Z"
    }
   },
   "outputs": [
    {
     "data": {
      "text/plain": [
       "{'win': 10, 'lose': 3, 'draw': 2}"
      ]
     },
     "execution_count": 120,
     "metadata": {},
     "output_type": "execute_result"
    }
   ],
   "source": [
    "datas['lee']"
   ]
  },
  {
   "cell_type": "code",
   "execution_count": 121,
   "metadata": {
    "ExecuteTime": {
     "end_time": "2020-02-06T08:10:38.579008Z",
     "start_time": "2020-02-06T08:10:38.575019Z"
    }
   },
   "outputs": [
    {
     "data": {
      "text/plain": [
       "10"
      ]
     },
     "execution_count": 121,
     "metadata": {},
     "output_type": "execute_result"
    }
   ],
   "source": [
    "datas['lee']['win']"
   ]
  },
  {
   "cell_type": "markdown",
   "metadata": {},
   "source": [
    "귀찮으니까 class로 정의한다.\n",
    "\n",
    "## 3-1. User 클래스 정의"
   ]
  },
  {
   "cell_type": "code",
   "execution_count": 122,
   "metadata": {
    "ExecuteTime": {
     "end_time": "2020-02-06T08:10:39.651178Z",
     "start_time": "2020-02-06T08:10:39.647184Z"
    }
   },
   "outputs": [],
   "source": [
    "class User:\n",
    "    def __init__(self):\n",
    "        self.win = 0\n",
    "        self.lose = 0\n",
    "        self.draw = 0"
   ]
  },
  {
   "cell_type": "code",
   "execution_count": 123,
   "metadata": {
    "ExecuteTime": {
     "end_time": "2020-02-06T08:10:40.426257Z",
     "start_time": "2020-02-06T08:10:40.423204Z"
    }
   },
   "outputs": [],
   "source": [
    "p1 = User()\n",
    "p2 = User()"
   ]
  },
  {
   "cell_type": "code",
   "execution_count": 124,
   "metadata": {
    "ExecuteTime": {
     "end_time": "2020-02-06T08:10:41.139120Z",
     "start_time": "2020-02-06T08:10:41.135131Z"
    }
   },
   "outputs": [
    {
     "data": {
      "text/plain": [
       "0"
      ]
     },
     "execution_count": 124,
     "metadata": {},
     "output_type": "execute_result"
    }
   ],
   "source": [
    "p1.win"
   ]
  },
  {
   "cell_type": "code",
   "execution_count": 125,
   "metadata": {
    "ExecuteTime": {
     "end_time": "2020-02-06T08:10:41.922386Z",
     "start_time": "2020-02-06T08:10:41.918397Z"
    }
   },
   "outputs": [],
   "source": [
    "p1.win = 3"
   ]
  },
  {
   "cell_type": "code",
   "execution_count": 126,
   "metadata": {
    "ExecuteTime": {
     "end_time": "2020-02-06T08:10:43.058320Z",
     "start_time": "2020-02-06T08:10:43.055282Z"
    }
   },
   "outputs": [
    {
     "data": {
      "text/plain": [
       "3"
      ]
     },
     "execution_count": 126,
     "metadata": {},
     "output_type": "execute_result"
    }
   ],
   "source": [
    "p1.win"
   ]
  },
  {
   "cell_type": "code",
   "execution_count": 127,
   "metadata": {
    "ExecuteTime": {
     "end_time": "2020-02-06T08:10:43.923234Z",
     "start_time": "2020-02-06T08:10:43.919222Z"
    }
   },
   "outputs": [
    {
     "data": {
      "text/plain": [
       "'lee'"
      ]
     },
     "execution_count": 127,
     "metadata": {},
     "output_type": "execute_result"
    }
   ],
   "source": [
    "sessid"
   ]
  },
  {
   "cell_type": "code",
   "execution_count": 128,
   "metadata": {
    "ExecuteTime": {
     "end_time": "2020-02-06T08:10:45.522508Z",
     "start_time": "2020-02-06T08:10:45.518518Z"
    }
   },
   "outputs": [],
   "source": [
    "datas[sessid] = p1"
   ]
  },
  {
   "cell_type": "code",
   "execution_count": 129,
   "metadata": {
    "ExecuteTime": {
     "end_time": "2020-02-06T08:10:46.060342Z",
     "start_time": "2020-02-06T08:10:46.055357Z"
    }
   },
   "outputs": [
    {
     "data": {
      "text/plain": [
       "3"
      ]
     },
     "execution_count": 129,
     "metadata": {},
     "output_type": "execute_result"
    }
   ],
   "source": [
    "datas[sessid].win"
   ]
  },
  {
   "cell_type": "code",
   "execution_count": null,
   "metadata": {},
   "outputs": [],
   "source": []
  }
 ],
 "metadata": {
  "kernelspec": {
   "display_name": "Python 3",
   "language": "python",
   "name": "python3"
  },
  "language_info": {
   "codemirror_mode": {
    "name": "ipython",
    "version": 3
   },
   "file_extension": ".py",
   "mimetype": "text/x-python",
   "name": "python",
   "nbconvert_exporter": "python",
   "pygments_lexer": "ipython3",
   "version": "3.7.4"
  },
  "varInspector": {
   "cols": {
    "lenName": 16,
    "lenType": 16,
    "lenVar": 40
   },
   "kernels_config": {
    "python": {
     "delete_cmd_postfix": "",
     "delete_cmd_prefix": "del ",
     "library": "var_list.py",
     "varRefreshCmd": "print(var_dic_list())"
    },
    "r": {
     "delete_cmd_postfix": ") ",
     "delete_cmd_prefix": "rm(",
     "library": "var_list.r",
     "varRefreshCmd": "cat(var_dic_list()) "
    }
   },
   "types_to_exclude": [
    "module",
    "function",
    "builtin_function_or_method",
    "instance",
    "_Feature"
   ],
   "window_display": false
  }
 },
 "nbformat": 4,
 "nbformat_minor": 2
}

{
 "cells": [
  {
   "cell_type": "markdown",
   "metadata": {},
   "source": [
    "## 보스턴 집값 예측 예제"
   ]
  },
  {
   "cell_type": "code",
   "execution_count": 3,
   "metadata": {},
   "outputs": [],
   "source": [
    "from keras.models import Sequential\n",
    "from keras.layers import Dense\n",
    "from sklearn.model_selection import train_test_split\n",
    "import numpy\n",
    "import pandas as pd\n",
    "import tensorflow as tf"
   ]
  },
  {
   "cell_type": "code",
   "execution_count": 4,
   "metadata": {},
   "outputs": [],
   "source": [
    "seed = 0\n",
    "numpy.random.seed(seed)\n",
    "tf.set_random_seed(seed)"
   ]
  },
  {
   "cell_type": "code",
   "execution_count": 6,
   "metadata": {},
   "outputs": [],
   "source": [
    "df = pd.read_csv('./dataset/housing.csv', delim_whitespace = True, header = None)"
   ]
  },
  {
   "cell_type": "code",
   "execution_count": 7,
   "metadata": {},
   "outputs": [
    {
     "data": {
      "text/html": [
       "<div>\n",
       "<style scoped>\n",
       "    .dataframe tbody tr th:only-of-type {\n",
       "        vertical-align: middle;\n",
       "    }\n",
       "\n",
       "    .dataframe tbody tr th {\n",
       "        vertical-align: top;\n",
       "    }\n",
       "\n",
       "    .dataframe thead th {\n",
       "        text-align: right;\n",
       "    }\n",
       "</style>\n",
       "<table border=\"1\" class=\"dataframe\">\n",
       "  <thead>\n",
       "    <tr style=\"text-align: right;\">\n",
       "      <th></th>\n",
       "      <th>0</th>\n",
       "      <th>1</th>\n",
       "      <th>2</th>\n",
       "      <th>3</th>\n",
       "      <th>4</th>\n",
       "      <th>5</th>\n",
       "      <th>6</th>\n",
       "      <th>7</th>\n",
       "      <th>8</th>\n",
       "      <th>9</th>\n",
       "      <th>10</th>\n",
       "      <th>11</th>\n",
       "      <th>12</th>\n",
       "      <th>13</th>\n",
       "    </tr>\n",
       "  </thead>\n",
       "  <tbody>\n",
       "    <tr>\n",
       "      <td>0</td>\n",
       "      <td>0.00632</td>\n",
       "      <td>18.0</td>\n",
       "      <td>2.31</td>\n",
       "      <td>0</td>\n",
       "      <td>0.538</td>\n",
       "      <td>6.575</td>\n",
       "      <td>65.2</td>\n",
       "      <td>4.0900</td>\n",
       "      <td>1</td>\n",
       "      <td>296.0</td>\n",
       "      <td>15.3</td>\n",
       "      <td>396.90</td>\n",
       "      <td>4.98</td>\n",
       "      <td>24.0</td>\n",
       "    </tr>\n",
       "    <tr>\n",
       "      <td>1</td>\n",
       "      <td>0.02731</td>\n",
       "      <td>0.0</td>\n",
       "      <td>7.07</td>\n",
       "      <td>0</td>\n",
       "      <td>0.469</td>\n",
       "      <td>6.421</td>\n",
       "      <td>78.9</td>\n",
       "      <td>4.9671</td>\n",
       "      <td>2</td>\n",
       "      <td>242.0</td>\n",
       "      <td>17.8</td>\n",
       "      <td>396.90</td>\n",
       "      <td>9.14</td>\n",
       "      <td>21.6</td>\n",
       "    </tr>\n",
       "    <tr>\n",
       "      <td>2</td>\n",
       "      <td>0.02729</td>\n",
       "      <td>0.0</td>\n",
       "      <td>7.07</td>\n",
       "      <td>0</td>\n",
       "      <td>0.469</td>\n",
       "      <td>7.185</td>\n",
       "      <td>61.1</td>\n",
       "      <td>4.9671</td>\n",
       "      <td>2</td>\n",
       "      <td>242.0</td>\n",
       "      <td>17.8</td>\n",
       "      <td>392.83</td>\n",
       "      <td>4.03</td>\n",
       "      <td>34.7</td>\n",
       "    </tr>\n",
       "    <tr>\n",
       "      <td>3</td>\n",
       "      <td>0.03237</td>\n",
       "      <td>0.0</td>\n",
       "      <td>2.18</td>\n",
       "      <td>0</td>\n",
       "      <td>0.458</td>\n",
       "      <td>6.998</td>\n",
       "      <td>45.8</td>\n",
       "      <td>6.0622</td>\n",
       "      <td>3</td>\n",
       "      <td>222.0</td>\n",
       "      <td>18.7</td>\n",
       "      <td>394.63</td>\n",
       "      <td>2.94</td>\n",
       "      <td>33.4</td>\n",
       "    </tr>\n",
       "    <tr>\n",
       "      <td>4</td>\n",
       "      <td>0.06905</td>\n",
       "      <td>0.0</td>\n",
       "      <td>2.18</td>\n",
       "      <td>0</td>\n",
       "      <td>0.458</td>\n",
       "      <td>7.147</td>\n",
       "      <td>54.2</td>\n",
       "      <td>6.0622</td>\n",
       "      <td>3</td>\n",
       "      <td>222.0</td>\n",
       "      <td>18.7</td>\n",
       "      <td>396.90</td>\n",
       "      <td>5.33</td>\n",
       "      <td>36.2</td>\n",
       "    </tr>\n",
       "    <tr>\n",
       "      <td>...</td>\n",
       "      <td>...</td>\n",
       "      <td>...</td>\n",
       "      <td>...</td>\n",
       "      <td>...</td>\n",
       "      <td>...</td>\n",
       "      <td>...</td>\n",
       "      <td>...</td>\n",
       "      <td>...</td>\n",
       "      <td>...</td>\n",
       "      <td>...</td>\n",
       "      <td>...</td>\n",
       "      <td>...</td>\n",
       "      <td>...</td>\n",
       "      <td>...</td>\n",
       "    </tr>\n",
       "    <tr>\n",
       "      <td>501</td>\n",
       "      <td>0.06263</td>\n",
       "      <td>0.0</td>\n",
       "      <td>11.93</td>\n",
       "      <td>0</td>\n",
       "      <td>0.573</td>\n",
       "      <td>6.593</td>\n",
       "      <td>69.1</td>\n",
       "      <td>2.4786</td>\n",
       "      <td>1</td>\n",
       "      <td>273.0</td>\n",
       "      <td>21.0</td>\n",
       "      <td>391.99</td>\n",
       "      <td>9.67</td>\n",
       "      <td>22.4</td>\n",
       "    </tr>\n",
       "    <tr>\n",
       "      <td>502</td>\n",
       "      <td>0.04527</td>\n",
       "      <td>0.0</td>\n",
       "      <td>11.93</td>\n",
       "      <td>0</td>\n",
       "      <td>0.573</td>\n",
       "      <td>6.120</td>\n",
       "      <td>76.7</td>\n",
       "      <td>2.2875</td>\n",
       "      <td>1</td>\n",
       "      <td>273.0</td>\n",
       "      <td>21.0</td>\n",
       "      <td>396.90</td>\n",
       "      <td>9.08</td>\n",
       "      <td>20.6</td>\n",
       "    </tr>\n",
       "    <tr>\n",
       "      <td>503</td>\n",
       "      <td>0.06076</td>\n",
       "      <td>0.0</td>\n",
       "      <td>11.93</td>\n",
       "      <td>0</td>\n",
       "      <td>0.573</td>\n",
       "      <td>6.976</td>\n",
       "      <td>91.0</td>\n",
       "      <td>2.1675</td>\n",
       "      <td>1</td>\n",
       "      <td>273.0</td>\n",
       "      <td>21.0</td>\n",
       "      <td>396.90</td>\n",
       "      <td>5.64</td>\n",
       "      <td>23.9</td>\n",
       "    </tr>\n",
       "    <tr>\n",
       "      <td>504</td>\n",
       "      <td>0.10959</td>\n",
       "      <td>0.0</td>\n",
       "      <td>11.93</td>\n",
       "      <td>0</td>\n",
       "      <td>0.573</td>\n",
       "      <td>6.794</td>\n",
       "      <td>89.3</td>\n",
       "      <td>2.3889</td>\n",
       "      <td>1</td>\n",
       "      <td>273.0</td>\n",
       "      <td>21.0</td>\n",
       "      <td>393.45</td>\n",
       "      <td>6.48</td>\n",
       "      <td>22.0</td>\n",
       "    </tr>\n",
       "    <tr>\n",
       "      <td>505</td>\n",
       "      <td>0.04741</td>\n",
       "      <td>0.0</td>\n",
       "      <td>11.93</td>\n",
       "      <td>0</td>\n",
       "      <td>0.573</td>\n",
       "      <td>6.030</td>\n",
       "      <td>80.8</td>\n",
       "      <td>2.5050</td>\n",
       "      <td>1</td>\n",
       "      <td>273.0</td>\n",
       "      <td>21.0</td>\n",
       "      <td>396.90</td>\n",
       "      <td>7.88</td>\n",
       "      <td>11.9</td>\n",
       "    </tr>\n",
       "  </tbody>\n",
       "</table>\n",
       "<p>506 rows × 14 columns</p>\n",
       "</div>"
      ],
      "text/plain": [
       "          0     1      2   3      4      5     6       7   8      9     10  \\\n",
       "0    0.00632  18.0   2.31   0  0.538  6.575  65.2  4.0900   1  296.0  15.3   \n",
       "1    0.02731   0.0   7.07   0  0.469  6.421  78.9  4.9671   2  242.0  17.8   \n",
       "2    0.02729   0.0   7.07   0  0.469  7.185  61.1  4.9671   2  242.0  17.8   \n",
       "3    0.03237   0.0   2.18   0  0.458  6.998  45.8  6.0622   3  222.0  18.7   \n",
       "4    0.06905   0.0   2.18   0  0.458  7.147  54.2  6.0622   3  222.0  18.7   \n",
       "..       ...   ...    ...  ..    ...    ...   ...     ...  ..    ...   ...   \n",
       "501  0.06263   0.0  11.93   0  0.573  6.593  69.1  2.4786   1  273.0  21.0   \n",
       "502  0.04527   0.0  11.93   0  0.573  6.120  76.7  2.2875   1  273.0  21.0   \n",
       "503  0.06076   0.0  11.93   0  0.573  6.976  91.0  2.1675   1  273.0  21.0   \n",
       "504  0.10959   0.0  11.93   0  0.573  6.794  89.3  2.3889   1  273.0  21.0   \n",
       "505  0.04741   0.0  11.93   0  0.573  6.030  80.8  2.5050   1  273.0  21.0   \n",
       "\n",
       "         11    12    13  \n",
       "0    396.90  4.98  24.0  \n",
       "1    396.90  9.14  21.6  \n",
       "2    392.83  4.03  34.7  \n",
       "3    394.63  2.94  33.4  \n",
       "4    396.90  5.33  36.2  \n",
       "..      ...   ...   ...  \n",
       "501  391.99  9.67  22.4  \n",
       "502  396.90  9.08  20.6  \n",
       "503  396.90  5.64  23.9  \n",
       "504  393.45  6.48  22.0  \n",
       "505  396.90  7.88  11.9  \n",
       "\n",
       "[506 rows x 14 columns]"
      ]
     },
     "execution_count": 7,
     "metadata": {},
     "output_type": "execute_result"
    }
   ],
   "source": [
    "df"
   ]
  },
  {
   "cell_type": "code",
   "execution_count": 9,
   "metadata": {},
   "outputs": [],
   "source": [
    "dataset = df.values"
   ]
  },
  {
   "cell_type": "code",
   "execution_count": 10,
   "metadata": {},
   "outputs": [
    {
     "data": {
      "text/plain": [
       "array([[6.3200e-03, 1.8000e+01, 2.3100e+00, ..., 3.9690e+02, 4.9800e+00,\n",
       "        2.4000e+01],\n",
       "       [2.7310e-02, 0.0000e+00, 7.0700e+00, ..., 3.9690e+02, 9.1400e+00,\n",
       "        2.1600e+01],\n",
       "       [2.7290e-02, 0.0000e+00, 7.0700e+00, ..., 3.9283e+02, 4.0300e+00,\n",
       "        3.4700e+01],\n",
       "       ...,\n",
       "       [6.0760e-02, 0.0000e+00, 1.1930e+01, ..., 3.9690e+02, 5.6400e+00,\n",
       "        2.3900e+01],\n",
       "       [1.0959e-01, 0.0000e+00, 1.1930e+01, ..., 3.9345e+02, 6.4800e+00,\n",
       "        2.2000e+01],\n",
       "       [4.7410e-02, 0.0000e+00, 1.1930e+01, ..., 3.9690e+02, 7.8800e+00,\n",
       "        1.1900e+01]])"
      ]
     },
     "execution_count": 10,
     "metadata": {},
     "output_type": "execute_result"
    }
   ],
   "source": [
    "dataset"
   ]
  },
  {
   "cell_type": "code",
   "execution_count": 11,
   "metadata": {},
   "outputs": [],
   "source": [
    "X = dataset[:, 0:13]\n",
    "Y = dataset[:, 13]\n",
    "X_train, X_test, Y_train, Y_test = train_test_split(X, Y, test_size = 0.3, random_state = seed)"
   ]
  },
  {
   "cell_type": "code",
   "execution_count": 12,
   "metadata": {},
   "outputs": [
    {
     "name": "stdout",
     "output_type": "stream",
     "text": [
      "WARNING:tensorflow:From C:\\Users\\student\\Anaconda3\\lib\\site-packages\\tensorflow_core\\python\\ops\\resource_variable_ops.py:1630: calling BaseResourceVariable.__init__ (from tensorflow.python.ops.resource_variable_ops) with constraint is deprecated and will be removed in a future version.\n",
      "Instructions for updating:\n",
      "If using Keras pass *_constraint arguments to layers.\n"
     ]
    }
   ],
   "source": [
    "model = Sequential()\n",
    "model.add(Dense(30, input_dim = 13, activation = 'relu'))\n",
    "model.add(Dense(6, activation = 'relu'))\n",
    "model.add(Dense(1))"
   ]
  },
  {
   "cell_type": "code",
   "execution_count": 15,
   "metadata": {},
   "outputs": [
    {
     "name": "stdout",
     "output_type": "stream",
     "text": [
      "Epoch 1/200\n",
      "354/354 [==============================] - 0s 305us/step - loss: 14.1246\n",
      "Epoch 2/200\n",
      "354/354 [==============================] - 0s 67us/step - loss: 13.1059\n",
      "Epoch 3/200\n",
      "354/354 [==============================] - 0s 64us/step - loss: 13.5789\n",
      "Epoch 4/200\n",
      "354/354 [==============================] - 0s 66us/step - loss: 13.5285\n",
      "Epoch 5/200\n",
      "354/354 [==============================] - 0s 68us/step - loss: 14.7764\n",
      "Epoch 6/200\n",
      "354/354 [==============================] - 0s 68us/step - loss: 14.1406\n",
      "Epoch 7/200\n",
      "354/354 [==============================] - 0s 63us/step - loss: 17.7006\n",
      "Epoch 8/200\n",
      "354/354 [==============================] - 0s 65us/step - loss: 13.1207\n",
      "Epoch 9/200\n",
      "354/354 [==============================] - 0s 66us/step - loss: 15.4642\n",
      "Epoch 10/200\n",
      "354/354 [==============================] - 0s 62us/step - loss: 12.3385\n",
      "Epoch 11/200\n",
      "354/354 [==============================] - 0s 69us/step - loss: 12.7466\n",
      "Epoch 12/200\n",
      "354/354 [==============================] - 0s 66us/step - loss: 12.7196\n",
      "Epoch 13/200\n",
      "354/354 [==============================] - 0s 71us/step - loss: 13.1680\n",
      "Epoch 14/200\n",
      "354/354 [==============================] - 0s 73us/step - loss: 13.7119\n",
      "Epoch 15/200\n",
      "354/354 [==============================] - 0s 70us/step - loss: 12.7509\n",
      "Epoch 16/200\n",
      "354/354 [==============================] - 0s 74us/step - loss: 17.7050\n",
      "Epoch 17/200\n",
      "354/354 [==============================] - 0s 72us/step - loss: 14.0502\n",
      "Epoch 18/200\n",
      "354/354 [==============================] - 0s 71us/step - loss: 13.9936\n",
      "Epoch 19/200\n",
      "354/354 [==============================] - 0s 71us/step - loss: 17.0321\n",
      "Epoch 20/200\n",
      "354/354 [==============================] - 0s 68us/step - loss: 12.2666\n",
      "Epoch 21/200\n",
      "354/354 [==============================] - 0s 72us/step - loss: 11.7811\n",
      "Epoch 22/200\n",
      "354/354 [==============================] - 0s 74us/step - loss: 12.7409\n",
      "Epoch 23/200\n",
      "354/354 [==============================] - 0s 71us/step - loss: 13.4263\n",
      "Epoch 24/200\n",
      "354/354 [==============================] - 0s 74us/step - loss: 13.7890\n",
      "Epoch 25/200\n",
      "354/354 [==============================] - 0s 72us/step - loss: 13.0569\n",
      "Epoch 26/200\n",
      "354/354 [==============================] - 0s 73us/step - loss: 13.2063\n",
      "Epoch 27/200\n",
      "354/354 [==============================] - 0s 70us/step - loss: 14.1462\n",
      "Epoch 28/200\n",
      "354/354 [==============================] - 0s 71us/step - loss: 11.4781\n",
      "Epoch 29/200\n",
      "354/354 [==============================] - 0s 72us/step - loss: 12.7180\n",
      "Epoch 30/200\n",
      "354/354 [==============================] - 0s 69us/step - loss: 14.0567\n",
      "Epoch 31/200\n",
      "354/354 [==============================] - 0s 70us/step - loss: 13.0675\n",
      "Epoch 32/200\n",
      "354/354 [==============================] - 0s 70us/step - loss: 12.2165\n",
      "Epoch 33/200\n",
      "354/354 [==============================] - 0s 74us/step - loss: 13.2219\n",
      "Epoch 34/200\n",
      "354/354 [==============================] - 0s 69us/step - loss: 13.7964\n",
      "Epoch 35/200\n",
      "354/354 [==============================] - 0s 72us/step - loss: 13.0177\n",
      "Epoch 36/200\n",
      "354/354 [==============================] - 0s 68us/step - loss: 15.0039\n",
      "Epoch 37/200\n",
      "354/354 [==============================] - 0s 68us/step - loss: 12.6811\n",
      "Epoch 38/200\n",
      "354/354 [==============================] - 0s 68us/step - loss: 13.1193\n",
      "Epoch 39/200\n",
      "354/354 [==============================] - 0s 70us/step - loss: 13.4516\n",
      "Epoch 40/200\n",
      "354/354 [==============================] - 0s 71us/step - loss: 13.7901\n",
      "Epoch 41/200\n",
      "354/354 [==============================] - 0s 71us/step - loss: 13.2075\n",
      "Epoch 42/200\n",
      "354/354 [==============================] - 0s 71us/step - loss: 14.4276\n",
      "Epoch 43/200\n",
      "354/354 [==============================] - 0s 69us/step - loss: 12.3899\n",
      "Epoch 44/200\n",
      "354/354 [==============================] - 0s 73us/step - loss: 12.8688\n",
      "Epoch 45/200\n",
      "354/354 [==============================] - 0s 72us/step - loss: 12.0748\n",
      "Epoch 46/200\n",
      "354/354 [==============================] - 0s 73us/step - loss: 12.9214\n",
      "Epoch 47/200\n",
      "354/354 [==============================] - 0s 70us/step - loss: 12.7208\n",
      "Epoch 48/200\n",
      "354/354 [==============================] - 0s 74us/step - loss: 13.3236\n",
      "Epoch 49/200\n",
      "354/354 [==============================] - 0s 71us/step - loss: 12.1186\n",
      "Epoch 50/200\n",
      "354/354 [==============================] - 0s 70us/step - loss: 12.1039\n",
      "Epoch 51/200\n",
      "354/354 [==============================] - 0s 70us/step - loss: 11.7463\n",
      "Epoch 52/200\n",
      "354/354 [==============================] - 0s 68us/step - loss: 14.2222\n",
      "Epoch 53/200\n",
      "354/354 [==============================] - 0s 72us/step - loss: 12.0141\n",
      "Epoch 54/200\n",
      "354/354 [==============================] - 0s 71us/step - loss: 13.8241\n",
      "Epoch 55/200\n",
      "354/354 [==============================] - 0s 73us/step - loss: 12.2089\n",
      "Epoch 56/200\n",
      "354/354 [==============================] - 0s 70us/step - loss: 12.8643\n",
      "Epoch 57/200\n",
      "354/354 [==============================] - 0s 70us/step - loss: 13.8810\n",
      "Epoch 58/200\n",
      "354/354 [==============================] - 0s 73us/step - loss: 12.0762\n",
      "Epoch 59/200\n",
      "354/354 [==============================] - 0s 71us/step - loss: 13.5269\n",
      "Epoch 60/200\n",
      "354/354 [==============================] - 0s 71us/step - loss: 13.5770\n",
      "Epoch 61/200\n",
      "354/354 [==============================] - 0s 70us/step - loss: 12.0406\n",
      "Epoch 62/200\n",
      "354/354 [==============================] - 0s 73us/step - loss: 14.8169\n",
      "Epoch 63/200\n",
      "354/354 [==============================] - 0s 71us/step - loss: 13.4749\n",
      "Epoch 64/200\n",
      "354/354 [==============================] - 0s 74us/step - loss: 12.1869\n",
      "Epoch 65/200\n",
      "354/354 [==============================] - 0s 73us/step - loss: 15.8117\n",
      "Epoch 66/200\n",
      "354/354 [==============================] - 0s 70us/step - loss: 12.3185\n",
      "Epoch 67/200\n",
      "354/354 [==============================] - 0s 74us/step - loss: 12.5691\n",
      "Epoch 68/200\n",
      "354/354 [==============================] - 0s 71us/step - loss: 12.4490\n",
      "Epoch 69/200\n",
      "354/354 [==============================] - 0s 74us/step - loss: 12.1081\n",
      "Epoch 70/200\n",
      "354/354 [==============================] - 0s 72us/step - loss: 13.7944\n",
      "Epoch 71/200\n",
      "354/354 [==============================] - 0s 74us/step - loss: 12.5995\n",
      "Epoch 72/200\n",
      "354/354 [==============================] - 0s 73us/step - loss: 11.4120\n",
      "Epoch 73/200\n",
      "354/354 [==============================] - 0s 73us/step - loss: 11.1892\n",
      "Epoch 74/200\n",
      "354/354 [==============================] - 0s 73us/step - loss: 11.9348\n",
      "Epoch 75/200\n",
      "354/354 [==============================] - 0s 73us/step - loss: 12.6344\n",
      "Epoch 76/200\n",
      "354/354 [==============================] - 0s 73us/step - loss: 14.1893\n",
      "Epoch 77/200\n",
      "354/354 [==============================] - 0s 74us/step - loss: 11.5082\n",
      "Epoch 78/200\n",
      "354/354 [==============================] - 0s 75us/step - loss: 11.3200\n",
      "Epoch 79/200\n",
      "354/354 [==============================] - 0s 73us/step - loss: 14.9006\n",
      "Epoch 80/200\n",
      "354/354 [==============================] - 0s 75us/step - loss: 12.7196\n",
      "Epoch 81/200\n",
      "354/354 [==============================] - 0s 72us/step - loss: 11.5092\n",
      "Epoch 82/200\n",
      "354/354 [==============================] - 0s 70us/step - loss: 13.5202\n",
      "Epoch 83/200\n",
      "354/354 [==============================] - 0s 76us/step - loss: 12.4600\n",
      "Epoch 84/200\n",
      "354/354 [==============================] - 0s 72us/step - loss: 12.0284\n",
      "Epoch 85/200\n",
      "354/354 [==============================] - 0s 72us/step - loss: 11.8481\n",
      "Epoch 86/200\n",
      "354/354 [==============================] - 0s 71us/step - loss: 12.9913\n",
      "Epoch 87/200\n",
      "354/354 [==============================] - 0s 75us/step - loss: 11.2218\n",
      "Epoch 88/200\n",
      "354/354 [==============================] - 0s 68us/step - loss: 13.6791\n",
      "Epoch 89/200\n",
      "354/354 [==============================] - 0s 68us/step - loss: 12.7014\n",
      "Epoch 90/200\n",
      "354/354 [==============================] - 0s 72us/step - loss: 11.5644\n",
      "Epoch 91/200\n",
      "354/354 [==============================] - 0s 70us/step - loss: 18.9113\n",
      "Epoch 92/200\n",
      "354/354 [==============================] - 0s 73us/step - loss: 11.5902\n",
      "Epoch 93/200\n",
      "354/354 [==============================] - 0s 67us/step - loss: 12.2784\n",
      "Epoch 94/200\n",
      "354/354 [==============================] - 0s 68us/step - loss: 10.9704\n",
      "Epoch 95/200\n",
      "354/354 [==============================] - 0s 70us/step - loss: 10.7096\n",
      "Epoch 96/200\n",
      "354/354 [==============================] - 0s 71us/step - loss: 12.9751\n",
      "Epoch 97/200\n",
      "354/354 [==============================] - 0s 71us/step - loss: 12.8673\n",
      "Epoch 98/200\n",
      "354/354 [==============================] - 0s 73us/step - loss: 11.4553\n",
      "Epoch 99/200\n",
      "354/354 [==============================] - 0s 74us/step - loss: 13.3886\n",
      "Epoch 100/200\n",
      "354/354 [==============================] - 0s 67us/step - loss: 14.4235\n",
      "Epoch 101/200\n",
      "354/354 [==============================] - 0s 69us/step - loss: 13.1463\n",
      "Epoch 102/200\n",
      "354/354 [==============================] - 0s 72us/step - loss: 13.0020\n",
      "Epoch 103/200\n",
      "354/354 [==============================] - 0s 73us/step - loss: 11.4183\n",
      "Epoch 104/200\n",
      "354/354 [==============================] - 0s 70us/step - loss: 11.0099\n",
      "Epoch 105/200\n",
      "354/354 [==============================] - 0s 72us/step - loss: 10.6969\n",
      "Epoch 106/200\n",
      "354/354 [==============================] - 0s 69us/step - loss: 11.4991\n",
      "Epoch 107/200\n",
      "354/354 [==============================] - 0s 75us/step - loss: 13.4196\n",
      "Epoch 108/200\n",
      "354/354 [==============================] - 0s 77us/step - loss: 12.3402\n",
      "Epoch 109/200\n",
      "354/354 [==============================] - 0s 71us/step - loss: 11.9538\n",
      "Epoch 110/200\n",
      "354/354 [==============================] - 0s 66us/step - loss: 11.6670\n",
      "Epoch 111/200\n",
      "354/354 [==============================] - 0s 69us/step - loss: 11.6005\n",
      "Epoch 112/200\n",
      "354/354 [==============================] - 0s 70us/step - loss: 11.7276\n",
      "Epoch 113/200\n",
      "354/354 [==============================] - 0s 73us/step - loss: 12.2530\n",
      "Epoch 114/200\n",
      "354/354 [==============================] - 0s 71us/step - loss: 12.4788\n",
      "Epoch 115/200\n",
      "354/354 [==============================] - 0s 70us/step - loss: 15.1444\n",
      "Epoch 116/200\n",
      "354/354 [==============================] - 0s 67us/step - loss: 12.3887\n",
      "Epoch 117/200\n",
      "354/354 [==============================] - 0s 69us/step - loss: 12.2873\n",
      "Epoch 118/200\n",
      "354/354 [==============================] - 0s 66us/step - loss: 13.2289\n",
      "Epoch 119/200\n",
      "354/354 [==============================] - 0s 64us/step - loss: 12.9975\n",
      "Epoch 120/200\n",
      "354/354 [==============================] - 0s 72us/step - loss: 11.5335\n",
      "Epoch 121/200\n",
      "354/354 [==============================] - 0s 68us/step - loss: 11.7629\n",
      "Epoch 122/200\n",
      "354/354 [==============================] - 0s 70us/step - loss: 10.5763\n",
      "Epoch 123/200\n",
      "354/354 [==============================] - 0s 73us/step - loss: 11.0581\n",
      "Epoch 124/200\n",
      "354/354 [==============================] - 0s 70us/step - loss: 11.9917\n",
      "Epoch 125/200\n",
      "354/354 [==============================] - 0s 75us/step - loss: 11.6666\n",
      "Epoch 126/200\n",
      "354/354 [==============================] - 0s 69us/step - loss: 10.5514\n",
      "Epoch 127/200\n",
      "354/354 [==============================] - 0s 68us/step - loss: 14.9184\n",
      "Epoch 128/200\n",
      "354/354 [==============================] - 0s 73us/step - loss: 13.0672\n",
      "Epoch 129/200\n",
      "354/354 [==============================] - 0s 71us/step - loss: 12.5428\n",
      "Epoch 130/200\n",
      "354/354 [==============================] - 0s 71us/step - loss: 10.8677\n",
      "Epoch 131/200\n",
      "354/354 [==============================] - 0s 72us/step - loss: 11.7851\n",
      "Epoch 132/200\n",
      "354/354 [==============================] - 0s 73us/step - loss: 11.8609\n",
      "Epoch 133/200\n",
      "354/354 [==============================] - 0s 70us/step - loss: 18.7895\n",
      "Epoch 134/200\n",
      "354/354 [==============================] - 0s 71us/step - loss: 11.3514\n",
      "Epoch 135/200\n",
      "354/354 [==============================] - 0s 70us/step - loss: 10.8801\n",
      "Epoch 136/200\n",
      "354/354 [==============================] - 0s 72us/step - loss: 10.6069\n",
      "Epoch 137/200\n",
      "354/354 [==============================] - 0s 74us/step - loss: 11.9537\n",
      "Epoch 138/200\n",
      "354/354 [==============================] - 0s 71us/step - loss: 11.3745\n",
      "Epoch 139/200\n",
      "354/354 [==============================] - 0s 74us/step - loss: 12.4739\n",
      "Epoch 140/200\n",
      "354/354 [==============================] - 0s 73us/step - loss: 11.2935\n",
      "Epoch 141/200\n",
      "354/354 [==============================] - 0s 70us/step - loss: 11.1077\n",
      "Epoch 142/200\n",
      "354/354 [==============================] - 0s 73us/step - loss: 10.1659\n",
      "Epoch 143/200\n",
      "354/354 [==============================] - 0s 72us/step - loss: 13.0503\n",
      "Epoch 144/200\n",
      "354/354 [==============================] - 0s 72us/step - loss: 11.7412\n",
      "Epoch 145/200\n",
      "354/354 [==============================] - 0s 71us/step - loss: 11.6993\n",
      "Epoch 146/200\n",
      "354/354 [==============================] - 0s 70us/step - loss: 10.8361\n",
      "Epoch 147/200\n",
      "354/354 [==============================] - 0s 71us/step - loss: 11.4163\n",
      "Epoch 148/200\n",
      "354/354 [==============================] - 0s 72us/step - loss: 10.8227\n",
      "Epoch 149/200\n",
      "354/354 [==============================] - 0s 72us/step - loss: 11.4474\n",
      "Epoch 150/200\n",
      "354/354 [==============================] - 0s 71us/step - loss: 11.0336\n",
      "Epoch 151/200\n",
      "354/354 [==============================] - 0s 73us/step - loss: 11.3602\n",
      "Epoch 152/200\n",
      "354/354 [==============================] - 0s 74us/step - loss: 11.5416\n",
      "Epoch 153/200\n",
      "354/354 [==============================] - 0s 72us/step - loss: 10.9325\n",
      "Epoch 154/200\n",
      "354/354 [==============================] - 0s 73us/step - loss: 12.5098\n",
      "Epoch 155/200\n",
      "354/354 [==============================] - 0s 72us/step - loss: 11.7416\n",
      "Epoch 156/200\n",
      "354/354 [==============================] - 0s 71us/step - loss: 11.3008\n",
      "Epoch 157/200\n",
      "354/354 [==============================] - 0s 73us/step - loss: 12.2188\n",
      "Epoch 158/200\n",
      "354/354 [==============================] - 0s 70us/step - loss: 13.2297\n",
      "Epoch 159/200\n",
      "354/354 [==============================] - 0s 69us/step - loss: 12.2723\n",
      "Epoch 160/200\n",
      "354/354 [==============================] - 0s 72us/step - loss: 10.3966\n",
      "Epoch 161/200\n",
      "354/354 [==============================] - 0s 73us/step - loss: 10.1711\n",
      "Epoch 162/200\n",
      "354/354 [==============================] - 0s 74us/step - loss: 11.2912\n",
      "Epoch 163/200\n",
      "354/354 [==============================] - 0s 71us/step - loss: 13.2213\n",
      "Epoch 164/200\n",
      "354/354 [==============================] - 0s 71us/step - loss: 11.2826\n",
      "Epoch 165/200\n",
      "354/354 [==============================] - 0s 72us/step - loss: 10.9854\n",
      "Epoch 166/200\n",
      "354/354 [==============================] - 0s 69us/step - loss: 12.3351\n",
      "Epoch 167/200\n",
      "354/354 [==============================] - 0s 72us/step - loss: 12.7807\n",
      "Epoch 168/200\n",
      "354/354 [==============================] - 0s 75us/step - loss: 13.2519\n",
      "Epoch 169/200\n",
      "354/354 [==============================] - 0s 70us/step - loss: 11.1859\n",
      "Epoch 170/200\n",
      "354/354 [==============================] - 0s 72us/step - loss: 10.8817\n",
      "Epoch 171/200\n",
      "354/354 [==============================] - 0s 73us/step - loss: 14.1214\n",
      "Epoch 172/200\n",
      "354/354 [==============================] - 0s 72us/step - loss: 10.6546\n",
      "Epoch 173/200\n",
      "354/354 [==============================] - 0s 72us/step - loss: 11.5781\n",
      "Epoch 174/200\n",
      "354/354 [==============================] - 0s 74us/step - loss: 11.6644\n",
      "Epoch 175/200\n",
      "354/354 [==============================] - 0s 70us/step - loss: 10.3014\n",
      "Epoch 176/200\n",
      "354/354 [==============================] - 0s 70us/step - loss: 10.7844\n",
      "Epoch 177/200\n",
      "354/354 [==============================] - 0s 70us/step - loss: 13.7849\n",
      "Epoch 178/200\n",
      "354/354 [==============================] - 0s 71us/step - loss: 11.1898\n",
      "Epoch 179/200\n",
      "354/354 [==============================] - 0s 71us/step - loss: 10.5652\n",
      "Epoch 180/200\n",
      "354/354 [==============================] - 0s 71us/step - loss: 10.7204\n",
      "Epoch 181/200\n",
      "354/354 [==============================] - 0s 72us/step - loss: 12.8194\n",
      "Epoch 182/200\n",
      "354/354 [==============================] - 0s 70us/step - loss: 11.0485\n",
      "Epoch 183/200\n",
      "354/354 [==============================] - 0s 70us/step - loss: 12.1292\n",
      "Epoch 184/200\n",
      "354/354 [==============================] - 0s 72us/step - loss: 10.6748\n",
      "Epoch 185/200\n",
      "354/354 [==============================] - 0s 69us/step - loss: 10.0977\n",
      "Epoch 186/200\n",
      "354/354 [==============================] - 0s 73us/step - loss: 10.0882\n",
      "Epoch 187/200\n",
      "354/354 [==============================] - 0s 73us/step - loss: 10.1027\n",
      "Epoch 188/200\n",
      "354/354 [==============================] - 0s 74us/step - loss: 10.5875\n",
      "Epoch 189/200\n",
      "354/354 [==============================] - 0s 74us/step - loss: 11.2241\n",
      "Epoch 190/200\n",
      "354/354 [==============================] - 0s 72us/step - loss: 10.1973\n",
      "Epoch 191/200\n",
      "354/354 [==============================] - 0s 70us/step - loss: 10.7290\n",
      "Epoch 192/200\n"
     ]
    },
    {
     "name": "stdout",
     "output_type": "stream",
     "text": [
      "354/354 [==============================] - 0s 75us/step - loss: 11.3838\n",
      "Epoch 193/200\n",
      "354/354 [==============================] - 0s 69us/step - loss: 10.5627\n",
      "Epoch 194/200\n",
      "354/354 [==============================] - 0s 72us/step - loss: 12.5508\n",
      "Epoch 195/200\n",
      "354/354 [==============================] - 0s 72us/step - loss: 11.6087\n",
      "Epoch 196/200\n",
      "354/354 [==============================] - 0s 72us/step - loss: 9.8146\n",
      "Epoch 197/200\n",
      "354/354 [==============================] - 0s 72us/step - loss: 11.4011\n",
      "Epoch 198/200\n",
      "354/354 [==============================] - 0s 72us/step - loss: 10.7569\n",
      "Epoch 199/200\n",
      "354/354 [==============================] - 0s 68us/step - loss: 11.4753\n",
      "Epoch 200/200\n",
      "354/354 [==============================] - 0s 73us/step - loss: 10.5180\n"
     ]
    },
    {
     "data": {
      "text/plain": [
       "<keras.callbacks.callbacks.History at 0x1b1f4f78ac8>"
      ]
     },
     "execution_count": 15,
     "metadata": {},
     "output_type": "execute_result"
    }
   ],
   "source": [
    "model.compile(loss = 'mean_squared_error', optimizer = 'adam')\n",
    "model.fit(X_train, Y_train, epochs = 200, batch_size=10)"
   ]
  },
  {
   "cell_type": "code",
   "execution_count": 16,
   "metadata": {},
   "outputs": [
    {
     "name": "stdout",
     "output_type": "stream",
     "text": [
      "실제가격: 22.600, 예상가격: 23.428\n",
      "실제가격: 50.000, 예상가격: 33.021\n",
      "실제가격: 23.000, 예상가격: 21.393\n",
      "실제가격: 8.300, 예상가격: 11.441\n",
      "실제가격: 21.200, 예상가격: 18.523\n",
      "실제가격: 19.900, 예상가격: 20.874\n",
      "실제가격: 20.600, 예상가격: 22.665\n",
      "실제가격: 18.700, 예상가격: 21.754\n",
      "실제가격: 16.100, 예상가격: 18.337\n",
      "실제가격: 18.600, 예상가격: 15.047\n"
     ]
    }
   ],
   "source": [
    "Y_prediction = model.predict(X_test).flatten()   #flatten(): 데이터 배열이 몇 차원이든 모두 1차원으로 바꿔 읽기 쉽게 해주는 함수\n",
    "for i in range(10):\n",
    "    label = Y_test[i]\n",
    "    prediction = Y_prediction[i]\n",
    "    print(\"실제가격: {:.3f}, 예상가격: {:.3f}\".format(label, prediction))"
   ]
  },
  {
   "cell_type": "markdown",
   "metadata": {},
   "source": [
    "## MNIST 손글씨 인식 예제"
   ]
  },
  {
   "cell_type": "code",
   "execution_count": 43,
   "metadata": {},
   "outputs": [
    {
     "name": "stdout",
     "output_type": "stream",
     "text": [
      "학습셋 이미지 수 : 60000개 \n",
      "테스트셋 이미지 수 : 10000개\n"
     ]
    }
   ],
   "source": [
    "from keras.datasets import mnist\n",
    "from keras.utils import np_utils\n",
    "import numpy\n",
    "import sys\n",
    "import tensorflow as tf\n",
    "\n",
    "seed = 0\n",
    "numpy.random.seed(seed)\n",
    "tf.set_random_seed(seed)\n",
    "\n",
    "(X_train, Y_class_train), (X_test, Y_class_test) = mnist.load_data()\n",
    "print(\"학습셋 이미지 수 : %d개 \" % X_train.shape[0])\n",
    "print(\"테스트셋 이미지 수 : %d개\" % X_test.shape[0])"
   ]
  },
  {
   "cell_type": "code",
   "execution_count": 44,
   "metadata": {},
   "outputs": [
    {
     "data": {
      "image/png": "[encoded data removed]",
      "text/plain": [
       "<Figure size 432x288 with 1 Axes>"
      ]
     },
     "metadata": {
      "needs_background": "light"
     },
     "output_type": "display_data"
    }
   ],
   "source": [
    "import matplotlib.pyplot as plt\n",
    "plt.imshow(X_train[0], cmap = 'Greys')\n",
    "plt.show()"
   ]
  },
  {
   "cell_type": "code",
   "execution_count": 45,
   "metadata": {},
   "outputs": [
    {
     "name": "stdout",
     "output_type": "stream",
     "text": [
      "0\t0\t0\t0\t0\t0\t0\t0\t0\t0\t0\t0\t0\t0\t0\t0\t0\t0\t0\t0\t0\t0\t0\t0\t0\t0\t0\t0\t\n",
      "0\t0\t0\t0\t0\t0\t0\t0\t0\t0\t0\t0\t0\t0\t0\t0\t0\t0\t0\t0\t0\t0\t0\t0\t0\t0\t0\t0\t\n",
      "0\t0\t0\t0\t0\t0\t0\t0\t0\t0\t0\t0\t0\t0\t0\t0\t0\t0\t0\t0\t0\t0\t0\t0\t0\t0\t0\t0\t\n",
      "0\t0\t0\t0\t0\t0\t0\t0\t0\t0\t0\t0\t0\t0\t0\t0\t0\t0\t0\t0\t0\t0\t0\t0\t0\t0\t0\t0\t\n",
      "0\t0\t0\t0\t0\t0\t0\t0\t0\t0\t0\t0\t0\t0\t0\t0\t0\t0\t0\t0\t0\t0\t0\t0\t0\t0\t0\t0\t\n",
      "0\t0\t0\t0\t0\t0\t0\t0\t0\t0\t0\t0\t3\t18\t18\t18\t126\t136\t175\t26\t166\t255\t247\t127\t0\t0\t0\t0\t\n",
      "0\t0\t0\t0\t0\t0\t0\t0\t30\t36\t94\t154\t170\t253\t253\t253\t253\t253\t225\t172\t253\t242\t195\t64\t0\t0\t0\t0\t\n",
      "0\t0\t0\t0\t0\t0\t0\t49\t238\t253\t253\t253\t253\t253\t253\t253\t253\t251\t93\t82\t82\t56\t39\t0\t0\t0\t0\t0\t\n",
      "0\t0\t0\t0\t0\t0\t0\t18\t219\t253\t253\t253\t253\t253\t198\t182\t247\t241\t0\t0\t0\t0\t0\t0\t0\t0\t0\t0\t\n",
      "0\t0\t0\t0\t0\t0\t0\t0\t80\t156\t107\t253\t253\t205\t11\t0\t43\t154\t0\t0\t0\t0\t0\t0\t0\t0\t0\t0\t\n",
      "0\t0\t0\t0\t0\t0\t0\t0\t0\t14\t1\t154\t253\t90\t0\t0\t0\t0\t0\t0\t0\t0\t0\t0\t0\t0\t0\t0\t\n",
      "0\t0\t0\t0\t0\t0\t0\t0\t0\t0\t0\t139\t253\t190\t2\t0\t0\t0\t0\t0\t0\t0\t0\t0\t0\t0\t0\t0\t\n",
      "0\t0\t0\t0\t0\t0\t0\t0\t0\t0\t0\t11\t190\t253\t70\t0\t0\t0\t0\t0\t0\t0\t0\t0\t0\t0\t0\t0\t\n",
      "0\t0\t0\t0\t0\t0\t0\t0\t0\t0\t0\t0\t35\t241\t225\t160\t108\t1\t0\t0\t0\t0\t0\t0\t0\t0\t0\t0\t\n",
      "0\t0\t0\t0\t0\t0\t0\t0\t0\t0\t0\t0\t0\t81\t240\t253\t253\t119\t25\t0\t0\t0\t0\t0\t0\t0\t0\t0\t\n",
      "0\t0\t0\t0\t0\t0\t0\t0\t0\t0\t0\t0\t0\t0\t45\t186\t253\t253\t150\t27\t0\t0\t0\t0\t0\t0\t0\t0\t\n",
      "0\t0\t0\t0\t0\t0\t0\t0\t0\t0\t0\t0\t0\t0\t0\t16\t93\t252\t253\t187\t0\t0\t0\t0\t0\t0\t0\t0\t\n",
      "0\t0\t0\t0\t0\t0\t0\t0\t0\t0\t0\t0\t0\t0\t0\t0\t0\t249\t253\t249\t64\t0\t0\t0\t0\t0\t0\t0\t\n",
      "0\t0\t0\t0\t0\t0\t0\t0\t0\t0\t0\t0\t0\t0\t46\t130\t183\t253\t253\t207\t2\t0\t0\t0\t0\t0\t0\t0\t\n",
      "0\t0\t0\t0\t0\t0\t0\t0\t0\t0\t0\t0\t39\t148\t229\t253\t253\t253\t250\t182\t0\t0\t0\t0\t0\t0\t0\t0\t\n",
      "0\t0\t0\t0\t0\t0\t0\t0\t0\t0\t24\t114\t221\t253\t253\t253\t253\t201\t78\t0\t0\t0\t0\t0\t0\t0\t0\t0\t\n",
      "0\t0\t0\t0\t0\t0\t0\t0\t23\t66\t213\t253\t253\t253\t253\t198\t81\t2\t0\t0\t0\t0\t0\t0\t0\t0\t0\t0\t\n",
      "0\t0\t0\t0\t0\t0\t18\t171\t219\t253\t253\t253\t253\t195\t80\t9\t0\t0\t0\t0\t0\t0\t0\t0\t0\t0\t0\t0\t\n",
      "0\t0\t0\t0\t55\t172\t226\t253\t253\t253\t253\t244\t133\t11\t0\t0\t0\t0\t0\t0\t0\t0\t0\t0\t0\t0\t0\t0\t\n",
      "0\t0\t0\t0\t136\t253\t253\t253\t212\t135\t132\t16\t0\t0\t0\t0\t0\t0\t0\t0\t0\t0\t0\t0\t0\t0\t0\t0\t\n",
      "0\t0\t0\t0\t0\t0\t0\t0\t0\t0\t0\t0\t0\t0\t0\t0\t0\t0\t0\t0\t0\t0\t0\t0\t0\t0\t0\t0\t\n",
      "0\t0\t0\t0\t0\t0\t0\t0\t0\t0\t0\t0\t0\t0\t0\t0\t0\t0\t0\t0\t0\t0\t0\t0\t0\t0\t0\t0\t\n",
      "0\t0\t0\t0\t0\t0\t0\t0\t0\t0\t0\t0\t0\t0\t0\t0\t0\t0\t0\t0\t0\t0\t0\t0\t0\t0\t0\t0\t\n"
     ]
    }
   ],
   "source": [
    "for x in X_train[0]:\n",
    "    for i in x:\n",
    "        sys.stdout.write('%d\\t' % i)\n",
    "    sys.stdout.write('\\n')"
   ]
  },
  {
   "cell_type": "code",
   "execution_count": 46,
   "metadata": {},
   "outputs": [
    {
     "data": {
      "text/plain": [
       "(60000, 28, 28)"
      ]
     },
     "execution_count": 46,
     "metadata": {},
     "output_type": "execute_result"
    }
   ],
   "source": [
    "X_train.shape"
   ]
  },
  {
   "cell_type": "code",
   "execution_count": 47,
   "metadata": {},
   "outputs": [],
   "source": [
    "#차원 변환\n",
    "X_train = X_train.reshape(X_train.shape[0], 784)\n",
    "X_train = X_train.astype('float64')\n",
    "X_train = X_train / 255    #데이터 정규화\n",
    "X_test = X_test.reshape(X_test.shape[0], 784).astype('float64') / 255"
   ]
  },
  {
   "cell_type": "code",
   "execution_count": 48,
   "metadata": {},
   "outputs": [
    {
     "data": {
      "text/plain": [
       "(60000, 784)"
      ]
     },
     "execution_count": 48,
     "metadata": {},
     "output_type": "execute_result"
    }
   ],
   "source": [
    "X_train.shape"
   ]
  },
  {
   "cell_type": "code",
   "execution_count": 49,
   "metadata": {},
   "outputs": [
    {
     "name": "stdout",
     "output_type": "stream",
     "text": [
      "class: 5\n"
     ]
    }
   ],
   "source": [
    "print(\"class: %d\" % (Y_class_train[0]))"
   ]
  },
  {
   "cell_type": "code",
   "execution_count": 51,
   "metadata": {},
   "outputs": [
    {
     "data": {
      "text/plain": [
       "array([5, 0, 4, ..., 5, 6, 8], dtype=uint8)"
      ]
     },
     "execution_count": 51,
     "metadata": {},
     "output_type": "execute_result"
    }
   ],
   "source": [
    "Y_class_train"
   ]
  },
  {
   "cell_type": "code",
   "execution_count": 52,
   "metadata": {},
   "outputs": [
    {
     "name": "stdout",
     "output_type": "stream",
     "text": [
      "[0. 0. 0. 0. 0. 1. 0. 0. 0. 0.]\n"
     ]
    }
   ],
   "source": [
    "#바이너리화\n",
    "Y_train = np_utils.to_categorical(Y_class_train, 10)\n",
    "Y_test = np_utils.to_categorical(Y_class_test, 10)\n",
    "print(Y_train[0])"
   ]
  },
  {
   "cell_type": "code",
   "execution_count": 53,
   "metadata": {},
   "outputs": [
    {
     "data": {
      "text/plain": [
       "array([[0., 0., 0., ..., 0., 0., 0.],\n",
       "       [1., 0., 0., ..., 0., 0., 0.],\n",
       "       [0., 0., 0., ..., 0., 0., 0.],\n",
       "       ...,\n",
       "       [0., 0., 0., ..., 0., 0., 0.],\n",
       "       [0., 0., 0., ..., 0., 0., 0.],\n",
       "       [0., 0., 0., ..., 0., 1., 0.]], dtype=float32)"
      ]
     },
     "execution_count": 53,
     "metadata": {},
     "output_type": "execute_result"
    }
   ],
   "source": [
    "Y_train"
   ]
  },
  {
   "cell_type": "code",
   "execution_count": 57,
   "metadata": {},
   "outputs": [],
   "source": [
    "import os\n",
    "from keras.models import Sequential\n",
    "from keras.layers import Dense\n",
    "from keras.callbacks import ModelCheckpoint,EarlyStopping\n",
    "import matplotlib.pyplot as plt"
   ]
  },
  {
   "cell_type": "code",
   "execution_count": 77,
   "metadata": {},
   "outputs": [],
   "source": [
    "#모델 프레임 설정\n",
    "model = Sequential()\n",
    "model.add(Dense(512, input_dim = 784, activation = 'relu'))\n",
    "model.add(Dense(10, activation = 'softmax'))"
   ]
  },
  {
   "cell_type": "code",
   "execution_count": 92,
   "metadata": {},
   "outputs": [],
   "source": [
    "#모델 환경변수 설정\n",
    "model.compile(loss = 'categorical_crossentropy', optimizer = 'adam', metrics = ['accuracy'])\n",
    "\n",
    "#모델 최적화  설정\n",
    "MODEL_DIR = './model/'\n",
    "if not os.path.exists(MODEL_DIR):\n",
    "    os.mkdir(MODEL_DIR)\n",
    "    \n",
    "modelpath = './model/{epoch:02d}-{val_loss:.4f}.hdf5'\n",
    "checkpointer = ModelCheckpoint(filepath = modelpath, monitor = 'val_loss', verbose = 1, save_best_only = True)\n",
    "early_stopping_callback = EarlyStopping(monitor = 'val_loss', patience = 10)"
   ]
  },
  {
   "cell_type": "code",
   "execution_count": 93,
   "metadata": {},
   "outputs": [
    {
     "name": "stdout",
     "output_type": "stream",
     "text": [
      "\n",
      "Epoch 00001: val_loss improved from inf to 0.08338, saving model to ./model/01-0.0834.hdf5\n",
      "\n",
      "Epoch 00002: val_loss improved from 0.08338 to 0.07460, saving model to ./model/02-0.0746.hdf5\n",
      "\n",
      "Epoch 00003: val_loss improved from 0.07460 to 0.07374, saving model to ./model/03-0.0737.hdf5\n",
      "\n",
      "Epoch 00004: val_loss did not improve from 0.07374\n",
      "\n",
      "Epoch 00005: val_loss did not improve from 0.07374\n",
      "\n",
      "Epoch 00006: val_loss did not improve from 0.07374\n",
      "\n",
      "Epoch 00007: val_loss did not improve from 0.07374\n",
      "\n",
      "Epoch 00008: val_loss did not improve from 0.07374\n",
      "\n",
      "Epoch 00009: val_loss did not improve from 0.07374\n",
      "\n",
      "Epoch 00010: val_loss did not improve from 0.07374\n",
      "\n",
      "Epoch 00011: val_loss did not improve from 0.07374\n",
      "\n",
      "Epoch 00012: val_loss did not improve from 0.07374\n",
      "\n",
      "Epoch 00013: val_loss did not improve from 0.07374\n",
      "10000/10000 [==============================] - 0s 25us/step\n",
      "\n",
      " Test Accuracy: 0.9849\n"
     ]
    }
   ],
   "source": [
    "#모델 실행\n",
    "history = model.fit(X_train, Y_train, validation_data = (X_test, Y_test), epochs = 30, batch_size=200, verbose=0, callbacks = [early_stopping_callback, checkpointer])\n",
    "\n",
    "#테스트 정확도 출력\n",
    "print(\"\\n Test Accuracy: %.4f\" % (model.evaluate(X_test, Y_test)[1]))"
   ]
  },
  {
   "cell_type": "code",
   "execution_count": 99,
   "metadata": {},
   "outputs": [
    {
     "data": {
      "image/png": "[encoded data removed]",
      "text/plain": [
       "<Figure size 432x288 with 1 Axes>"
      ]
     },
     "metadata": {
      "needs_background": "light"
     },
     "output_type": "display_data"
    }
   ],
   "source": [
    "#테스트셋의 오차\n",
    "y_vloss = history.history['val_loss']\n",
    "\n",
    "#학습셋의 오차\n",
    "y_loss = history.history['loss']\n",
    "\n",
    "#그래프로 표현\n",
    "x_len = numpy.arange(len(y_loss))\n",
    "plt.plot(x_len, y_vloss, marker = '.', c = 'red', label = 'Testset loss')\n",
    "plt.plot(x_len, y_loss, marker = '.', c = 'blue', label = 'Trainset loss')\n",
    "\n",
    "#그래프에 그리드를 주고 레이블을 표시\n",
    "plt.legend(loc = 'upper right')\n",
    "plt.axis([0, 20, 0, 0.35])\n",
    "plt.grid()\n",
    "plt.xlabel('epoch')\n",
    "plt.ylabel('loss')\n",
    "plt.show()"
   ]
  },
  {
   "cell_type": "markdown",
   "metadata": {},
   "source": [
    "## MNIST 손글씨 인식 예제 -  CNN"
   ]
  },
  {
   "cell_type": "code",
   "execution_count": null,
   "metadata": {},
   "outputs": [],
   "source": []
  },
  {
   "cell_type": "markdown",
   "metadata": {},
   "source": [
    "## CNN: 사물 분류"
   ]
  },
  {
   "cell_type": "code",
   "execution_count": 100,
   "metadata": {},
   "outputs": [],
   "source": [
    "import tensorflow as tf\n",
    "\n",
    "from tensorflow.keras import datasets, layers, models\n",
    "import matplotlib.pyplot as plt"
   ]
  },
  {
   "cell_type": "code",
   "execution_count": 101,
   "metadata": {},
   "outputs": [
    {
     "name": "stdout",
     "output_type": "stream",
     "text": [
      "Downloading data from https://www.cs.toronto.edu/~kriz/cifar-10-python.tar.gz\n",
      "170500096/170498071 [==============================] - 14s 0us/step\n"
     ]
    }
   ],
   "source": [
    "(train_images, train_labels), (test_images, test_labels) = datasets.cifar10.load_data()"
   ]
  },
  {
   "cell_type": "code",
   "execution_count": 102,
   "metadata": {},
   "outputs": [
    {
     "data": {
      "image/png": "[encoded data removed]",
      "text/plain": [
       "<Figure size 720x720 with 25 Axes>"
      ]
     },
     "metadata": {},
     "output_type": "display_data"
    }
   ],
   "source": [
    "#정규화\n",
    "train_images, test_images = train_images / 255.0, test_images / 255.0\n",
    "\n",
    "class_names = ['airplane', 'automobile', 'bird', 'cat', 'deer', 'dog', 'frog', 'horse', 'ship', 'truck']\n",
    "\n",
    "plt.figure(figsize = (10, 10))\n",
    "\n",
    "for i in range(25):\n",
    "    plt.subplot(5, 5, i+1)\n",
    "    plt.xticks([])\n",
    "    plt.yticks([])\n",
    "    plt.grid(False)\n",
    "    plt.imshow(train_images[i], cmap = plt.cm.binary)\n",
    "    plt.xlabel(class_names[train_labels[i][0]])\n",
    "plt.show()"
   ]
  },
  {
   "cell_type": "code",
   "execution_count": 104,
   "metadata": {},
   "outputs": [],
   "source": [
    "model = models.Sequential()\n",
    "model.add(layers.Conv2D(32, (3, 3), activation = 'relu', input_shape = (32, 32, 3)))\n",
    "model.add(layers.MaxPooling2D(2, 2))\n",
    "model.add(layers.Conv2D(64, (3, 3), activation = 'relu'))\n",
    "model.add(layers.MaxPooling2D(2, 2))\n",
    "model.add(layers.Conv2D(64, (3, 3), activation = 'relu'))"
   ]
  },
  {
   "cell_type": "code",
   "execution_count": 105,
   "metadata": {},
   "outputs": [
    {
     "name": "stdout",
     "output_type": "stream",
     "text": [
      "Model: \"sequential_1\"\n",
      "_________________________________________________________________\n",
      "Layer (type)                 Output Shape              Param #   \n",
      "=================================================================\n",
      "conv2d_1 (Conv2D)            (None, 30, 30, 32)        896       \n",
      "_________________________________________________________________\n",
      "max_pooling2d (MaxPooling2D) (None, 15, 15, 32)        0         \n",
      "_________________________________________________________________\n",
      "conv2d_2 (Conv2D)            (None, 13, 13, 64)        18496     \n",
      "_________________________________________________________________\n",
      "max_pooling2d_1 (MaxPooling2 (None, 6, 6, 64)          0         \n",
      "_________________________________________________________________\n",
      "conv2d_3 (Conv2D)            (None, 4, 4, 64)          36928     \n",
      "=================================================================\n",
      "Total params: 56,320\n",
      "Trainable params: 56,320\n",
      "Non-trainable params: 0\n",
      "_________________________________________________________________\n"
     ]
    }
   ],
   "source": [
    "#생성한 모델의 레이어, 출력모양, 파라미터 개수 등을 체크\n",
    "model.summary()"
   ]
  },
  {
   "cell_type": "code",
   "execution_count": 107,
   "metadata": {},
   "outputs": [
    {
     "name": "stdout",
     "output_type": "stream",
     "text": [
      "Model: \"sequential_1\"\n",
      "_________________________________________________________________\n",
      "Layer (type)                 Output Shape              Param #   \n",
      "=================================================================\n",
      "conv2d_1 (Conv2D)            (None, 30, 30, 32)        896       \n",
      "_________________________________________________________________\n",
      "max_pooling2d (MaxPooling2D) (None, 15, 15, 32)        0         \n",
      "_________________________________________________________________\n",
      "conv2d_2 (Conv2D)            (None, 13, 13, 64)        18496     \n",
      "_________________________________________________________________\n",
      "max_pooling2d_1 (MaxPooling2 (None, 6, 6, 64)          0         \n",
      "_________________________________________________________________\n",
      "conv2d_3 (Conv2D)            (None, 4, 4, 64)          36928     \n",
      "_________________________________________________________________\n",
      "flatten (Flatten)            (None, 1024)              0         \n",
      "_________________________________________________________________\n",
      "dense (Dense)                (None, 64)                65600     \n",
      "_________________________________________________________________\n",
      "dense_1 (Dense)              (None, 10)                650       \n",
      "_________________________________________________________________\n",
      "flatten_1 (Flatten)          (None, 10)                0         \n",
      "_________________________________________________________________\n",
      "dense_2 (Dense)              (None, 64)                704       \n",
      "_________________________________________________________________\n",
      "dense_3 (Dense)              (None, 10)                650       \n",
      "=================================================================\n",
      "Total params: 123,924\n",
      "Trainable params: 123,924\n",
      "Non-trainable params: 0\n",
      "_________________________________________________________________\n"
     ]
    }
   ],
   "source": [
    "model.add(layers.Flatten())\n",
    "model.add(layers.Dense(64, activation = 'relu'))\n",
    "model.add(layers.Dense(10, activation = 'softmax'))\n",
    "model.summary()\n",
    "\n",
    "model.compile(optimizer = 'adam', loss = 'sparse_categorical_crossentropy', metrics = ['accuracy'])"
   ]
  },
  {
   "cell_type": "code",
   "execution_count": 108,
   "metadata": {},
   "outputs": [
    {
     "name": "stdout",
     "output_type": "stream",
     "text": [
      "Train on 50000 samples, validate on 10000 samples\n",
      "Epoch 1/10\n",
      "50000/50000 [==============================] - 22s 431us/sample - loss: 1.7888 - acc: 0.3071 - val_loss: 1.4960 - val_acc: 0.4273\n",
      "Epoch 2/10\n",
      "50000/50000 [==============================] - 21s 422us/sample - loss: 1.3730 - acc: 0.4772 - val_loss: 1.3178 - val_acc: 0.5080\n",
      "Epoch 3/10\n",
      "50000/50000 [==============================] - 21s 419us/sample - loss: 1.1915 - acc: 0.5684 - val_loss: 1.1590 - val_acc: 0.5875\n",
      "Epoch 4/10\n",
      "50000/50000 [==============================] - 21s 414us/sample - loss: 1.0674 - acc: 0.6185 - val_loss: 1.0760 - val_acc: 0.6220\n",
      "Epoch 5/10\n",
      "50000/50000 [==============================] - 21s 413us/sample - loss: 0.9770 - acc: 0.6519 - val_loss: 1.0569 - val_acc: 0.6344\n",
      "Epoch 6/10\n",
      "50000/50000 [==============================] - 20s 408us/sample - loss: 0.9083 - acc: 0.6811 - val_loss: 1.0272 - val_acc: 0.6428\n",
      "Epoch 7/10\n",
      "50000/50000 [==============================] - 21s 411us/sample - loss: 0.8439 - acc: 0.7009 - val_loss: 1.0064 - val_acc: 0.6529\n",
      "Epoch 8/10\n",
      "50000/50000 [==============================] - 21s 415us/sample - loss: 0.7949 - acc: 0.7209 - val_loss: 0.9815 - val_acc: 0.6645\n",
      "Epoch 9/10\n",
      "50000/50000 [==============================] - 21s 411us/sample - loss: 0.7473 - acc: 0.7378 - val_loss: 0.9619 - val_acc: 0.6764\n",
      "Epoch 10/10\n",
      "50000/50000 [==============================] - 21s 413us/sample - loss: 0.7072 - acc: 0.7545 - val_loss: 1.0146 - val_acc: 0.6688\n"
     ]
    }
   ],
   "source": [
    "history = model.fit(train_images, train_labels, epochs = 10, validation_data = (test_images, test_labels))"
   ]
  },
  {
   "cell_type": "code",
   "execution_count": 115,
   "metadata": {},
   "outputs": [
    {
     "data": {
      "text/plain": [
       "<matplotlib.legend.Legend at 0x1b1a71e2348>"
      ]
     },
     "execution_count": 115,
     "metadata": {},
     "output_type": "execute_result"
    },
    {
     "data": {
      "image/png": "[encoded data removed]",
      "text/plain": [
       "<Figure size 432x288 with 1 Axes>"
      ]
     },
     "metadata": {
      "needs_background": "light"
     },
     "output_type": "display_data"
    }
   ],
   "source": [
    "plt.plot(history.history['acc'], label = 'accuracy')\n",
    "plt.plot(history.history['val_acc'], label = 'val_accuracy')\n",
    "plt.xlabel('Epoch')\n",
    "plt.ylabel('Accuracy')\n",
    "plt.ylim([0.5, 1])\n",
    "plt.legend(loc = 'lower right')"
   ]
  },
  {
   "cell_type": "code",
   "execution_count": 117,
   "metadata": {},
   "outputs": [
    {
     "name": "stdout",
     "output_type": "stream",
     "text": [
      "10000/10000 - 1s - loss: 1.0146 - acc: 0.6688\n",
      "0.6688\n"
     ]
    }
   ],
   "source": [
    "test_loss, test_acc = model.evaluate(test_images, test_labels, verbose = 2)\n",
    "print(test_acc)"
   ]
  },
  {
   "cell_type": "markdown",
   "metadata": {},
   "source": [
    "## CNN"
   ]
  },
  {
   "cell_type": "code",
   "execution_count": 98,
   "metadata": {
    "scrolled": true
   },
   "outputs": [
    {
     "name": "stderr",
     "output_type": "stream",
     "text": [
      "No handles with labels found to put in legend.\n"
     ]
    },
    {
     "data": {
      "image/png": "[encoded data removed]",
      "text/plain": [
       "<Figure size 432x288 with 1 Axes>"
      ]
     },
     "metadata": {
      "needs_background": "light"
     },
     "output_type": "display_data"
    }
   ],
   "source": []
  }
 ],
 "metadata": {
  "kernelspec": {
   "display_name": "Python 3",
   "language": "python",
   "name": "python3"
  },
  "language_info": {
   "codemirror_mode": {
    "name": "ipython",
    "version": 3
   },
   "file_extension": ".py",
   "mimetype": "text/x-python",
   "name": "python",
   "nbconvert_exporter": "python",
   "pygments_lexer": "ipython3",
   "version": "3.7.4"
  },
  "varInspector": {
   "cols": {
    "lenName": 16,
    "lenType": 16,
    "lenVar": 40
   },
   "kernels_config": {
    "python": {
     "delete_cmd_postfix": "",
     "delete_cmd_prefix": "del ",
     "library": "var_list.py",
     "varRefreshCmd": "print(var_dic_list())"
    },
    "r": {
     "delete_cmd_postfix": ") ",
     "delete_cmd_prefix": "rm(",
     "library": "var_list.r",
     "varRefreshCmd": "cat(var_dic_list()) "
    }
   },
   "types_to_exclude": [
    "module",
    "function",
    "builtin_function_or_method",
    "instance",
    "_Feature"
   ],
   "window_display": false
  }
 },
 "nbformat": 4,
 "nbformat_minor": 2
}

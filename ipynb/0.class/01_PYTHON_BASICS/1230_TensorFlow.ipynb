{
 "cells": [
  {
   "cell_type": "code",
   "execution_count": 1,
   "metadata": {},
   "outputs": [],
   "source": [
    "import tensorflow as tf"
   ]
  },
  {
   "cell_type": "code",
   "execution_count": 2,
   "metadata": {},
   "outputs": [
    {
     "name": "stdout",
     "output_type": "stream",
     "text": [
      "1.15.0\n"
     ]
    }
   ],
   "source": [
    "print(tf.__version__)"
   ]
  },
  {
   "cell_type": "markdown",
   "metadata": {},
   "source": [
    "## constant & variable / operation / session"
   ]
  },
  {
   "cell_type": "code",
   "execution_count": 3,
   "metadata": {},
   "outputs": [
    {
     "name": "stdout",
     "output_type": "stream",
     "text": [
      "6234\n"
     ]
    }
   ],
   "source": [
    "#상수 정의\n",
    "a = tf.constant(1234)\n",
    "b = tf.constant(5000)\n",
    "\n",
    "#계산 정의\n",
    "add_op = a+b\n",
    "\n",
    "#세션 시작\n",
    "sess = tf.Session()\n",
    "res = sess.run(add_op)\n",
    "print(res)"
   ]
  },
  {
   "cell_type": "code",
   "execution_count": 8,
   "metadata": {},
   "outputs": [
    {
     "name": "stdout",
     "output_type": "stream",
     "text": [
      "14\n",
      "20\n"
     ]
    }
   ],
   "source": [
    "#상수 정의\n",
    "a = tf.constant(2)\n",
    "b = tf.constant(3)\n",
    "c = tf.constant(4)\n",
    "\n",
    "#계산 정의\n",
    "calc1_op = a + b * c\n",
    "calc2_op = (a + b) * c\n",
    "\n",
    "#세션 시작\n",
    "sess = tf.Session()\n",
    "res1 = sess.run(calc1_op)\n",
    "print(res1)\n",
    "res2 = sess.run(calc2_op)\n",
    "print(res2)"
   ]
  },
  {
   "cell_type": "code",
   "execution_count": 27,
   "metadata": {},
   "outputs": [
    {
     "name": "stdout",
     "output_type": "stream",
     "text": [
      "150\n"
     ]
    }
   ],
   "source": [
    "#상수 정의\n",
    "a = tf.constant(100)\n",
    "b = tf.constant(50)\n",
    "\n",
    "#계산 정의\n",
    "add_op = a + b\n",
    "\n",
    "#변수 정의\n",
    "v = tf.Variable(0)\n",
    "\n",
    "#변수 v에 add_op의 결과 대입하기\n",
    "let_op = tf.assign(v, add_op)\n",
    "\n",
    "#세션 시작\n",
    "sess = tf.Session()\n",
    "\n",
    "#변수 초기화(메모리에 값 생성)\n",
    "sess.run(tf.global_variables_initializer())\n",
    "\n",
    "#계산식 실행\n",
    "sess.run(let_op)\n",
    "print(sess.run(v))"
   ]
  },
  {
   "cell_type": "markdown",
   "metadata": {},
   "source": [
    "## placeholder"
   ]
  },
  {
   "cell_type": "code",
   "execution_count": 28,
   "metadata": {},
   "outputs": [
    {
     "name": "stdout",
     "output_type": "stream",
     "text": [
      "[2 4 6]\n",
      "[20 40 20]\n"
     ]
    }
   ],
   "source": [
    "#placeholder 정의(정수 자료형 3개를 가진 배열)\n",
    "a = tf.placeholder(tf.int32, [3]) \n",
    "b = tf.constant(2)\n",
    "x2_op = a* b\n",
    "\n",
    "#세션 시작 \n",
    "sess = tf.Session() \n",
    "# placeholder에 값 넣고 실행하기\n",
    "r1 = sess.run(x2_op, feed_dict = {a:[1, 2, 3]})\n",
    "print(r1)\n",
    "r2 = sess.run(x2_op, feed_dict = {a:[10, 20, 10]})\n",
    "print(r2)"
   ]
  },
  {
   "cell_type": "markdown",
   "metadata": {},
   "source": [
    "- tensoflow.sqrt(x): x의 제곱근을 계산\n",
    "- tensoflow.reduce_mean(x): x의 평균을 계산\n",
    "- tensoflow.square(x): x의 제곱을 계산\n",
    "- random_uniform([1], 0, 10,…) : 0에서 10 사이에서 임의의 수 1개 생성 반환\n",
    "- Variable() : 변수의 값을 지정 "
   ]
  },
  {
   "cell_type": "code",
   "execution_count": 29,
   "metadata": {},
   "outputs": [
    {
     "data": {
      "text/plain": [
       "<tf.Tensor 'random_uniform:0' shape=(1,) dtype=float32>"
      ]
     },
     "execution_count": 29,
     "metadata": {},
     "output_type": "execute_result"
    }
   ],
   "source": [
    "tf.random_uniform([1], 0, 10)"
   ]
  },
  {
   "cell_type": "code",
   "execution_count": 30,
   "metadata": {},
   "outputs": [
    {
     "name": "stdout",
     "output_type": "stream",
     "text": [
      "[ 2  4  6  8 10]\n",
      "[40 60]\n"
     ]
    }
   ],
   "source": [
    "#placeholder 데이터 크기가 미정이라면 [None] 입력\n",
    "a = tf.placeholder(tf.int32, [None])\n",
    "b = tf.constant(2)\n",
    "x2_op = a*b\n",
    "\n",
    "sess = tf.Session()\n",
    "r1 = sess.run(x2_op, feed_dict = {a:[1, 2, 3, 4, 5]})\n",
    "print(r1)\n",
    "r2 = sess.run(x2_op, feed_dict = {a:[20, 30]})\n",
    "print(r2)"
   ]
  },
  {
   "cell_type": "markdown",
   "metadata": {},
   "source": [
    "## Tensor Board"
   ]
  },
  {
   "cell_type": "code",
   "execution_count": 32,
   "metadata": {},
   "outputs": [
    {
     "name": "stdout",
     "output_type": "stream",
     "text": [
      "600\n"
     ]
    }
   ],
   "source": [
    "# 데이터 플로우 그래프 구축하기  \n",
    "a = tf.constant(20, name=\"a\")\n",
    "b = tf.constant(30, name=\"b\")\n",
    "mul_op = a * b\n",
    "# 세션 생성하기  \n",
    "sess = tf.Session()\n",
    "# TensorBoard 사용하기  \n",
    "tw = tf.summary.FileWriter(\"log_dir\", graph=sess.graph)\n",
    "# 세션 실행하기 \n",
    "print(sess.run(mul_op))"
   ]
  },
  {
   "cell_type": "markdown",
   "metadata": {},
   "source": [
    "# 최소제곱법"
   ]
  },
  {
   "cell_type": "code",
   "execution_count": 33,
   "metadata": {},
   "outputs": [
    {
     "name": "stdout",
     "output_type": "stream",
     "text": [
      "x의 평균값: 5.0\n",
      "y의 평균값: 90.5\n"
     ]
    }
   ],
   "source": [
    "import numpy as np\n",
    "\n",
    "x = [2, 4, 6, 8]\n",
    "y = [81, 93, 91, 97]\n",
    "\n",
    "mx = np.mean(x)\n",
    "my = np.mean(y)\n",
    "\n",
    "print(\"x의 평균값:\", mx)\n",
    "print(\"y의 평균값:\", my)"
   ]
  },
  {
   "cell_type": "code",
   "execution_count": 35,
   "metadata": {},
   "outputs": [],
   "source": [
    "divisor = sum([(mx-i)**2 for i in x])\n",
    "def top(x, mx, y, my):\n",
    "    d = 0\n",
    "    for i in range(len(x)):\n",
    "        d += (x[i] -mx) * (y[i] - my)\n",
    "    return d"
   ]
  },
  {
   "cell_type": "code",
   "execution_count": 38,
   "metadata": {},
   "outputs": [],
   "source": [
    "a = top(x, mx, y, my) / divisor\n",
    "b = my - mx*a"
   ]
  },
  {
   "cell_type": "code",
   "execution_count": 39,
   "metadata": {},
   "outputs": [
    {
     "data": {
      "text/plain": [
       "2.3"
      ]
     },
     "execution_count": 39,
     "metadata": {},
     "output_type": "execute_result"
    }
   ],
   "source": [
    "a"
   ]
  },
  {
   "cell_type": "code",
   "execution_count": 40,
   "metadata": {},
   "outputs": [
    {
     "data": {
      "text/plain": [
       "79.0"
      ]
     },
     "execution_count": 40,
     "metadata": {},
     "output_type": "execute_result"
    }
   ],
   "source": [
    "b"
   ]
  },
  {
   "cell_type": "markdown",
   "metadata": {},
   "source": [
    "## 평균 제곱근 오차"
   ]
  },
  {
   "cell_type": "code",
   "execution_count": 45,
   "metadata": {},
   "outputs": [
    {
     "data": {
      "text/plain": [
       "[(2, 81), (4, 93), (6, 91), (8, 97)]"
      ]
     },
     "execution_count": 45,
     "metadata": {},
     "output_type": "execute_result"
    }
   ],
   "source": [
    "#임의의 기울기와 절편\n",
    "ab = [3, 76]\n",
    "\n",
    "data = list(zip(x, y))\n",
    "data"
   ]
  },
  {
   "cell_type": "code",
   "execution_count": 46,
   "metadata": {},
   "outputs": [],
   "source": [
    "x = [i[0] for i in data]\n",
    "y = [i[1] for i in data]"
   ]
  },
  {
   "cell_type": "code",
   "execution_count": 47,
   "metadata": {},
   "outputs": [],
   "source": [
    "#임의의 기울기와 절편의 모델로부터 예측값을 반환하는 함수\n",
    "def predict(x):\n",
    "    return ab[0] * x + ab[1]"
   ]
  },
  {
   "cell_type": "code",
   "execution_count": 54,
   "metadata": {},
   "outputs": [],
   "source": [
    "#평균 제곱근 오차 반환 함수\n",
    "def rmse(p, a):\n",
    "    return np.sqrt(((p - a) ** 2).mean())"
   ]
  },
  {
   "cell_type": "code",
   "execution_count": 55,
   "metadata": {},
   "outputs": [],
   "source": [
    "def rmse_val(predict_result, y):\n",
    "    return rmse(np.array(predict_result), np.array(y))"
   ]
  },
  {
   "cell_type": "code",
   "execution_count": 56,
   "metadata": {},
   "outputs": [
    {
     "name": "stdout",
     "output_type": "stream",
     "text": [
      "공부한 시간 = 2, 실제 점수 = 81, 예측점수 = 82\n",
      "공부한 시간 = 4, 실제 점수 = 93, 예측점수 = 88\n",
      "공부한 시간 = 6, 실제 점수 = 91, 예측점수 = 94\n",
      "공부한 시간 = 8, 실제 점수 = 97, 예측점수 = 100\n",
      "rmse 최종값: 3.3166247903554\n"
     ]
    }
   ],
   "source": [
    "predict_result = []\n",
    "\n",
    "for i in range(len(x)):\n",
    "    predict_result.append(predict(x[i]))\n",
    "    print(\"공부한 시간 = %.f, 실제 점수 = %.f, 예측점수 = %.f\" % (x[i], y[i], predict(x[i])))\n",
    "    \n",
    "print(\"rmse 최종값: \" + str(rmse_val(predict_result, y)))"
   ]
  },
  {
   "cell_type": "markdown",
   "metadata": {},
   "source": [
    "# 경사하강법"
   ]
  },
  {
   "cell_type": "markdown",
   "metadata": {},
   "source": [
    "경사하강법(gradient decent) 코드 구현  \n",
    "경사 하강법은 오차의 변화에 따라 이차 함수 그래프를 만들고 적절한 학습률을 설정해 미분 값이 0인 지점을 구하는 것입니다.\n",
    "y 절편 b의 값도  b 값이 너무 크면 오차도 함께 커지고 너무 작아도 오차가 커집니다. \n",
    "최적의 b 값을 구할 때 역시 경사 하강법을 사용합니다.\n",
    "- GradientDescentOptimizer() : 경사 하강법 함수\n",
    "텐서플로는 session 함수를 이용해 구동에 필요한 리소스를 컴퓨터에 할당하고 이를 실행시킬 준비를 합니다. \n",
    "Session을 통해 구현될 함수를 텐서플로에서는 ‘그래프’라고 부른다\n",
    "Session이 할당되면 session.run('그래프명')의 형식으로 해당 함수를 실행시킵니다. \n",
    "- global_variables_initializer() :  변수를 초기화하는 함수 \n",
    "- gradient_decent :  총 필요한 수만큼 반복하여 실행 "
   ]
  },
  {
   "cell_type": "code",
   "execution_count": 57,
   "metadata": {},
   "outputs": [
    {
     "data": {
      "text/plain": [
       "[(2, 81), (4, 93), (6, 91), (8, 97)]"
      ]
     },
     "execution_count": 57,
     "metadata": {},
     "output_type": "execute_result"
    }
   ],
   "source": [
    "data"
   ]
  },
  {
   "cell_type": "code",
   "execution_count": 58,
   "metadata": {},
   "outputs": [],
   "source": [
    "x_data = [i[0] for i in data]\n",
    "y_data = [i[1] for i in data]"
   ]
  },
  {
   "cell_type": "code",
   "execution_count": 59,
   "metadata": {},
   "outputs": [
    {
     "data": {
      "text/plain": [
       "[2, 4, 6, 8]"
      ]
     },
     "execution_count": 59,
     "metadata": {},
     "output_type": "execute_result"
    }
   ],
   "source": [
    "x_data"
   ]
  },
  {
   "cell_type": "code",
   "execution_count": 60,
   "metadata": {},
   "outputs": [
    {
     "data": {
      "text/plain": [
       "[81, 93, 91, 97]"
      ]
     },
     "execution_count": 60,
     "metadata": {},
     "output_type": "execute_result"
    }
   ],
   "source": [
    "y_data"
   ]
  },
  {
   "cell_type": "code",
   "execution_count": 65,
   "metadata": {},
   "outputs": [
    {
     "name": "stdout",
     "output_type": "stream",
     "text": [
      "Epoch: 0, RMSE = 30.2139, 기울기 a=7.5235, 절편 b=80.5984\n",
      "Epoch: 100, RMSE = 2.8860, 기울기 a=2.2299, 절편 b=79.4181\n",
      "Epoch: 200, RMSE = 2.8826, 기울기 a=2.2601, 절편 b=79.2379\n",
      "Epoch: 300, RMSE = 2.8815, 기울기 a=2.2773, 절편 b=79.1353\n",
      "Epoch: 400, RMSE = 2.8811, 기울기 a=2.2871, 절편 b=79.0770\n",
      "Epoch: 500, RMSE = 2.8810, 기울기 a=2.2927, 절편 b=79.0438\n",
      "Epoch: 600, RMSE = 2.8810, 기울기 a=2.2958, 절편 b=79.0249\n",
      "Epoch: 700, RMSE = 2.8810, 기울기 a=2.2976, 절편 b=79.0142\n",
      "Epoch: 800, RMSE = 2.8810, 기울기 a=2.2987, 절편 b=79.0081\n",
      "Epoch: 900, RMSE = 2.8810, 기울기 a=2.2992, 절편 b=79.0046\n",
      "Epoch: 1000, RMSE = 2.8810, 기울기 a=2.2996, 절편 b=79.0026\n",
      "Epoch: 1100, RMSE = 2.8810, 기울기 a=2.2998, 절편 b=79.0015\n",
      "Epoch: 1200, RMSE = 2.8810, 기울기 a=2.2999, 절편 b=79.0008\n",
      "Epoch: 1300, RMSE = 2.8810, 기울기 a=2.2999, 절편 b=79.0005\n",
      "Epoch: 1400, RMSE = 2.8810, 기울기 a=2.3000, 절편 b=79.0003\n",
      "Epoch: 1500, RMSE = 2.8810, 기울기 a=2.3000, 절편 b=79.0002\n",
      "Epoch: 1600, RMSE = 2.8810, 기울기 a=2.3000, 절편 b=79.0001\n",
      "Epoch: 1700, RMSE = 2.8810, 기울기 a=2.3000, 절편 b=79.0001\n",
      "Epoch: 1800, RMSE = 2.8810, 기울기 a=2.3000, 절편 b=79.0000\n",
      "Epoch: 1900, RMSE = 2.8810, 기울기 a=2.3000, 절편 b=79.0000\n",
      "Epoch: 2000, RMSE = 2.8810, 기울기 a=2.3000, 절편 b=79.0000\n"
     ]
    }
   ],
   "source": [
    "#임의의 기울기와 y절편의 값으로 변수 정의\n",
    "a = tf.Variable(tf.random_uniform([1], 0, 10, dtype = tf.float64, seed = 0))  #0과 10 사이의 난수 1개 생성\n",
    "b = tf.Variable(tf.random_uniform([1], 0, 100, dtype = tf.float64, seed = 0))\n",
    "\n",
    "y = a*x_data + b # 1차방정식의 계산식 정의\n",
    "\n",
    "#오차 계산(평균 제곱근 오차 공식)\n",
    "rmse = tf.sqrt(tf.reduce_mean(tf.square(y-y_data)))\n",
    "\n",
    "#학습률\n",
    "learning_rate = 0.1\n",
    "\n",
    "#오차 rmse 값이 최소인 값 찾는 식 정의\n",
    "gradient_descent = tf.train.GradientDescentOptimizer(learning_rate).minimize(rmse)   #경사하강법!\n",
    "\n",
    "#텐서플로우로 학습\n",
    "with tf.Session() as sess:\n",
    "    sess.run(tf.global_variables_initializer())      #변수를 메모리에 생성\n",
    "    for step in range(2001):\n",
    "        sess.run(gradient_descent)\n",
    "        if step % 100 == 0:\n",
    "            print(\"Epoch: %.f, RMSE = %.4f, 기울기 a=%.4f, 절편 b=%.4f\" % (step, sess.run(rmse), sess.run(a), sess.run(b)))"
   ]
  },
  {
   "cell_type": "markdown",
   "metadata": {},
   "source": [
    "# 다중 선형 회귀"
   ]
  },
  {
   "cell_type": "code",
   "execution_count": 66,
   "metadata": {},
   "outputs": [
    {
     "name": "stdout",
     "output_type": "stream",
     "text": [
      "Epoch: 0, RMSE = 49.1842, 기울기 a1=7.5270, 기울기 a2=7.8160, 절편 b=80.5980\n",
      "Epoch: 100, RMSE = 1.8368, 기울기 a1=1.1306, 기울기 a2=2.1316, 절편 b=78.5119\n",
      "Epoch: 200, RMSE = 1.8370, 기울기 a1=1.1879, 기울기 a2=2.1487, 절편 b=78.1057\n",
      "Epoch: 300, RMSE = 1.8370, 기울기 a1=1.2122, 기울기 a2=2.1571, 절편 b=77.9352\n",
      "Epoch: 400, RMSE = 1.8370, 기울기 a1=1.2226, 기울기 a2=2.1607, 절편 b=77.8636\n",
      "Epoch: 500, RMSE = 1.8370, 기울기 a1=1.2269, 기울기 a2=2.1622, 절편 b=77.8335\n",
      "Epoch: 600, RMSE = 1.8370, 기울기 a1=1.2288, 기울기 a2=2.1628, 절편 b=77.8208\n",
      "Epoch: 700, RMSE = 1.8370, 기울기 a1=1.2295, 기울기 a2=2.1631, 절편 b=77.8155\n",
      "Epoch: 800, RMSE = 1.8370, 기울기 a1=1.2299, 기울기 a2=2.1632, 절편 b=77.8133\n",
      "Epoch: 900, RMSE = 1.8370, 기울기 a1=1.2300, 기울기 a2=2.1632, 절편 b=77.8124\n",
      "Epoch: 1000, RMSE = 1.8370, 기울기 a1=1.2301, 기울기 a2=2.1633, 절편 b=77.8120\n",
      "Epoch: 1100, RMSE = 1.8370, 기울기 a1=1.2301, 기울기 a2=2.1633, 절편 b=77.8118\n",
      "Epoch: 1200, RMSE = 1.8370, 기울기 a1=1.2301, 기울기 a2=2.1633, 절편 b=77.8117\n",
      "Epoch: 1300, RMSE = 1.8370, 기울기 a1=1.2301, 기울기 a2=2.1633, 절편 b=77.8117\n",
      "Epoch: 1400, RMSE = 1.8370, 기울기 a1=1.2301, 기울기 a2=2.1633, 절편 b=77.8117\n",
      "Epoch: 1500, RMSE = 1.8370, 기울기 a1=1.2301, 기울기 a2=2.1633, 절편 b=77.8117\n",
      "Epoch: 1600, RMSE = 1.8370, 기울기 a1=1.2301, 기울기 a2=2.1633, 절편 b=77.8117\n",
      "Epoch: 1700, RMSE = 1.8370, 기울기 a1=1.2301, 기울기 a2=2.1633, 절편 b=77.8117\n",
      "Epoch: 1800, RMSE = 1.8370, 기울기 a1=1.2301, 기울기 a2=2.1633, 절편 b=77.8117\n",
      "Epoch: 1900, RMSE = 1.8370, 기울기 a1=1.2301, 기울기 a2=2.1633, 절편 b=77.8117\n",
      "Epoch: 2000, RMSE = 1.8370, 기울기 a1=1.2301, 기울기 a2=2.1633, 절편 b=77.8117\n"
     ]
    }
   ],
   "source": [
    "x1_data = [2, 4, 6, 8]\n",
    "x2_data = [0, 4, 2, 3]\n",
    "y_data = [81, 93, 91, 97]\n",
    "\n",
    "#임의의 기울기와 y절편의 값으로 변수 정의\n",
    "a1 = tf.Variable(tf.random_uniform([1], 0, 10, dtype = tf.float64, seed = 0))\n",
    "a2 = tf.Variable(tf.random_uniform([1], 0, 10, dtype = tf.float64, seed = 0))#0과 10 사이의 난수 1개 생성\n",
    "b = tf.Variable(tf.random_uniform([1], 0, 100, dtype = tf.float64, seed = 0))\n",
    "\n",
    "y = a1*x1_data + a2*x2_data + b # 1차방정식의 계산식 정의\n",
    "\n",
    "#오차 계산(평균 제곱근 오차 공식)\n",
    "rmse = tf.sqrt(tf.reduce_mean(tf.square(y-y_data)))\n",
    "\n",
    "#학습률\n",
    "learning_rate = 0.1\n",
    "\n",
    "#오차 rmse 값이 최소인 값 찾는 식 정의\n",
    "gradient_descent = tf.train.GradientDescentOptimizer(learning_rate).minimize(rmse)   #경사하강법!\n",
    "\n",
    "#텐서플로우로 학습\n",
    "with tf.Session() as sess:\n",
    "    sess.run(tf.global_variables_initializer())      #변수를 메모리에 생성\n",
    "    for step in range(2001):\n",
    "        sess.run(gradient_descent)\n",
    "        if step % 100 == 0:\n",
    "            print(\"Epoch: %.f, RMSE = %.4f, 기울기 a1=%.4f, 기울기 a2=%.4f, 절편 b=%.4f\" % (step, sess.run(rmse), sess.run(a1), sess.run(a2), sess.run(b)))"
   ]
  },
  {
   "cell_type": "code",
   "execution_count": null,
   "metadata": {},
   "outputs": [],
   "source": []
  }
 ],
 "metadata": {
  "kernelspec": {
   "display_name": "Python 3",
   "language": "python",
   "name": "python3"
  },
  "language_info": {
   "codemirror_mode": {
    "name": "ipython",
    "version": 3
   },
   "file_extension": ".py",
   "mimetype": "text/x-python",
   "name": "python",
   "nbconvert_exporter": "python",
   "pygments_lexer": "ipython3",
   "version": "3.7.4"
  }
 },
 "nbformat": 4,
 "nbformat_minor": 2
}

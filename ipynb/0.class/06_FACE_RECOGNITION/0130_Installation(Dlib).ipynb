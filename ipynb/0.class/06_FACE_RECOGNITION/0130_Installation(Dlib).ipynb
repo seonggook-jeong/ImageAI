{
 "cells": [
  {
   "cell_type": "markdown",
   "metadata": {},
   "source": [
    "# 필요한 라이브러리 다운로드\n",
    "\n",
    "## 0. python 버전 낮추기\n",
    " - `conda create -n py36 python=3.6 anaconda`\n",
    "         - 가상환경 만들어서 python 버전 낮춰주기\n",
    " - `conda activate py36`\n",
    "      - 가상환경에서 실행할거다.\n",
    "          - 그래서 라이브러리도 새로 다 깔아주어야 한다.\n",
    "              - `pip install opencv-python`\n",
    "              - `pip install keras`\n",
    "              - `pip install tensorflow`\n",
    "\n",
    "\n",
    "## 1. imutils\n",
    "- `pip install imutils`\n",
    "   \n",
    "   \n",
    "## 2. dlib   3.7(Linux)   3.6(PC)\n",
    "- 그냥은 안된다.\n",
    "     - 컴파일 문제 때문에 --> OS 및 버전에 맞게 미리 컴파일해둔 .whl 파일을 다운로드 받는다.\n",
    "     - https://pypi.org/simple/dlib/\n",
    " - 다운로드 받은 파일의 디렉토리로 이동 후\n",
    "     - `pip install 파일명`\n",
    "         - e.g. `pip install dlib-19.8.1-cp36-cp36m-win_amd64.whl`\n",
    "    \n",
    "    \n",
    "## 3. face_recognition\n",
    " - 디펜던시 제거 후 설치\n",
    "     - `pip install --no-dependencies face_recognition`\n",
    "     - 디펜던시 제거 안 하면 dlib을 다시 다운로드 받고 --> 에러"
   ]
  },
  {
   "cell_type": "markdown",
   "metadata": {},
   "source": [
    "제대로 설치되었는지 확인한다."
   ]
  },
  {
   "cell_type": "code",
   "execution_count": 6,
   "metadata": {
    "ExecuteTime": {
     "end_time": "2020-01-30T08:34:15.385397Z",
     "start_time": "2020-01-30T08:34:13.906923Z"
    }
   },
   "outputs": [],
   "source": [
    "from imutils import face_utils\n",
    "import numpy as np\n",
    "import imutils\n",
    "import dlib\n",
    "import cv2\n",
    "import matplotlib.pyplot as plt\n",
    "import face_recognition\n",
    "import os\n",
    "from imutils import paths"
   ]
  },
  {
   "cell_type": "markdown",
   "metadata": {},
   "source": [
    "제대로 설치되었다."
   ]
  },
  {
   "cell_type": "code",
   "execution_count": null,
   "metadata": {},
   "outputs": [],
   "source": []
  }
 ],
 "metadata": {
  "kernelspec": {
   "display_name": "Python 3",
   "language": "python",
   "name": "python3"
  },
  "language_info": {
   "codemirror_mode": {
    "name": "ipython",
    "version": 3
   },
   "file_extension": ".py",
   "mimetype": "text/x-python",
   "name": "python",
   "nbconvert_exporter": "python",
   "pygments_lexer": "ipython3",
   "version": "3.7.4"
  },
  "varInspector": {
   "cols": {
    "lenName": 16,
    "lenType": 16,
    "lenVar": 40
   },
   "kernels_config": {
    "python": {
     "delete_cmd_postfix": "",
     "delete_cmd_prefix": "del ",
     "library": "var_list.py",
     "varRefreshCmd": "print(var_dic_list())"
    },
    "r": {
     "delete_cmd_postfix": ") ",
     "delete_cmd_prefix": "rm(",
     "library": "var_list.r",
     "varRefreshCmd": "cat(var_dic_list()) "
    }
   },
   "types_to_exclude": [
    "module",
    "function",
    "builtin_function_or_method",
    "instance",
    "_Feature"
   ],
   "window_display": false
  }
 },
 "nbformat": 4,
 "nbformat_minor": 2
}

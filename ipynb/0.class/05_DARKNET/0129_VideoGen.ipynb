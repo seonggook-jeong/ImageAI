{
 "cells": [
  {
   "cell_type": "markdown",
   "metadata": {},
   "source": [
    "# OpenCV로 동영상 만들기\n",
    "\n",
    "1. `VideoWriter_fourcc`로 동영상 포맷 변수 생성하기\n",
    "    - fourcc = cv2.VideoWriter_fourcc(*'mpv4')\n",
    "    - fourcc = cv2.VideoWriter_fourcc(*'XVID')\n",
    "2. `VideoWriter`로 동영상 생성하기\n",
    "    - video = cv2.VideoWriter(제목, 포맷, 초당 프레임 수, 프레임사이즈(w, h))\n",
    "3. `write`로 이미지 추가하기\n",
    "    - video.write(이미지)\n",
    "        - 이미지는 np array 타입\n",
    "4. `release`로 완성하기\n",
    "    - video.release()"
   ]
  },
  {
   "cell_type": "code",
   "execution_count": 14,
   "metadata": {
    "ExecuteTime": {
     "end_time": "2020-01-29T08:23:01.476644Z",
     "start_time": "2020-01-29T08:23:01.458693Z"
    }
   },
   "outputs": [],
   "source": [
    "import cv2\n",
    "import time"
   ]
  },
  {
   "cell_type": "code",
   "execution_count": 40,
   "metadata": {
    "ExecuteTime": {
     "end_time": "2020-01-29T08:32:13.163713Z",
     "start_time": "2020-01-29T08:32:11.194769Z"
    }
   },
   "outputs": [],
   "source": [
    "fourcc = cv2.VideoWriter_fourcc(*'XVID')\n",
    "#fourcc = cv2.VideoWriter_fourcc('X', 'V', 'I', 'D')\n",
    "\n",
    "img = cv2.imread('book1.jpg')\n",
    "\n",
    "video = cv2.VideoWriter(\"out.mp4\", fourcc, 1.0, (img.shape[1], img.shape[0]))\n",
    "#동영상 제목, 동영상포맷, 초당 프레임, 프레임 사이즈\n",
    "\n",
    "for i in range(100):\n",
    "    k = i + 1\n",
    "    if i != 0:\n",
    "        k = i // 25 + 1\n",
    "    img = cv2.imread(f'book{k}.jpg')\n",
    "    video.write(img)\n",
    "    time.sleep(0.01)\n",
    "    \n",
    "video.release()"
   ]
  },
  {
   "cell_type": "code",
   "execution_count": 18,
   "metadata": {
    "ExecuteTime": {
     "end_time": "2020-01-29T08:24:10.908916Z",
     "start_time": "2020-01-29T08:24:10.905923Z"
    }
   },
   "outputs": [
    {
     "name": "stdout",
     "output_type": "stream",
     "text": [
      "<class 'int'>\n",
      "1145656920\n"
     ]
    }
   ],
   "source": [
    "print(type(fourcc))\n",
    "print(fourcc)"
   ]
  },
  {
   "cell_type": "markdown",
   "metadata": {},
   "source": [
    "## * : argument unpacking"
   ]
  },
  {
   "cell_type": "code",
   "execution_count": 5,
   "metadata": {
    "ExecuteTime": {
     "end_time": "2020-01-29T07:31:07.385855Z",
     "start_time": "2020-01-29T07:31:07.375072Z"
    }
   },
   "outputs": [
    {
     "name": "stdout",
     "output_type": "stream",
     "text": [
      "1\n",
      "2\n",
      "3\n",
      "1\n",
      "2\n",
      "3\n",
      "1\n",
      "2\n",
      "3\n"
     ]
    }
   ],
   "source": [
    "def fun(a, b, c):\n",
    "    print(a)\n",
    "    print(b)\n",
    "    print(c)\n",
    "    \n",
    "fun(1, 2, 3)\n",
    "\n",
    "fun(*[1, 2, 3])\n",
    "\n",
    "fun(*\"123\")"
   ]
  },
  {
   "cell_type": "markdown",
   "metadata": {},
   "source": [
    "## Yolo 결과를 비디오로 만들어보자"
   ]
  },
  {
   "cell_type": "code",
   "execution_count": 51,
   "metadata": {
    "ExecuteTime": {
     "end_time": "2020-01-29T08:41:38.757636Z",
     "start_time": "2020-01-29T08:41:38.441446Z"
    }
   },
   "outputs": [
    {
     "name": "stdout",
     "output_type": "stream",
     "text": [
      "['person', 'bicycle', 'car', 'motorbike', 'aeroplane', 'bus', 'train', 'truck', 'boat', 'traffic light', 'fire hydrant', 'stop sign', 'parking meter', 'bench', 'bird', 'cat', 'dog', 'horse', 'sheep', 'cow', 'elephant', 'bear', 'zebra', 'giraffe', 'backpack', 'umbrella', 'handbag', 'tie', 'suitcase', 'frisbee', 'skis', 'snowboard', 'sports ball', 'kite', 'baseball bat', 'baseball glove', 'skateboard', 'surfboard', 'tennis racket', 'bottle', 'wine glass', 'cup', 'fork', 'knife', 'spoon', 'bowl', 'banana', 'apple', 'sandwich', 'orange', 'broccoli', 'carrot', 'hot dog', 'pizza', 'donut', 'cake', 'chair', 'sofa', 'pottedplant', 'bed', 'diningtable', 'toilet', 'tvmonitor', 'laptop', 'mouse', 'remote', 'keyboard', 'cell phone', 'microwave', 'oven', 'toaster', 'sink', 'refrigerator', 'book', 'clock', 'vase', 'scissors', 'teddy bear', 'hair drier', 'toothbrush']\n"
     ]
    }
   ],
   "source": [
    "import cv2 as cv\n",
    "import argparse\n",
    "import numpy as np\n",
    "import os.path\n",
    "from matplotlib import pyplot as plt\n",
    "%matplotlib inline\n",
    "\n",
    "# Initialize the parameters\n",
    "confThreshold = 0.5  #Confidence threshold; 컨피던스가 이 값 미만이면 무시할 것임; 관행적으로 0.5를 쓴다.\n",
    "nmsThreshold = 0.4   #Non-maximum suppression threshold; 주변보다 크거나 작은 값만 살림; \n",
    "inpWidth = 416       #Width of network's input image\n",
    "inpHeight = 416      #Height of network's input image\n",
    "\n",
    "# Load names of classes\n",
    "classesFile = \"coco.names\"    #클래스명을 정리한 텍스트파일\n",
    "classes = None\n",
    "with open(classesFile, 'rt') as f:\n",
    "    classes = f.read().rstrip('\\n').split('\\n')\n",
    "print(classes)\n",
    "# Give the configuration and weight files for the model and load the network using them.\n",
    "modelConfiguration = \"yolov3.cfg\"     #네트워크를 구성하는 레이어들의 파라미터를 정리한 텍스트파일\n",
    "modelWeights = \"yolov3.weights\"       #모델 학습 결과 도출된 weight값을 정리한 파일\n",
    "\n",
    "net = cv.dnn.readNetFromDarknet(modelConfiguration, modelWeights)    #`readNetFromDarknet`: 외부 config 정보와 weight 정보로 네트워크 구축\n",
    "net.setPreferableBackend(cv.dnn.DNN_BACKEND_OPENCV)    #백엔드 지정\n",
    "net.setPreferableTarget(cv.dnn.DNN_TARGET_CPU)\n",
    "\n",
    "# Get the names of the output layers;\n",
    "#아웃풋 레이어명을 리턴하는 함수\n",
    "def getOutputsNames(net):\n",
    "    # Get the names of all the layers in the network\n",
    "    layersNames = net.getLayerNames()\n",
    "    # Get the names of the output layers, i.e. the layers with unconnected outputs\n",
    "    return [layersNames[i[0] - 1] for i in net.getUnconnectedOutLayers()]\n",
    "\n",
    "# Draw the predicted bounding box;\n",
    "#바운딩 박스 그리고 클래스 레이블/확률값 쓰는 함수\n",
    "def drawPred(classId, conf, left, top, right, bottom):\n",
    "    # Draw a bounding box.;\n",
    "    #박스 그리기\n",
    "    cv.rectangle(frame, (left, top), (right, bottom), (255, 178, 50), 3)\n",
    "    \n",
    "    label = '%.2f' % conf\n",
    "        \n",
    "    # Get the label for the class name and its confidence\n",
    "    #클래스 레이블/확률값 구하기\n",
    "    if classes:\n",
    "        assert(classId < len(classes))\n",
    "        label = '%s:%s' % (classes[classId], label)\n",
    "\n",
    "    #Display the label at the top of the bounding box;\n",
    "    #클래스 레이블/확률값 쓸 위치 지정\n",
    "    labelSize, baseLine = cv.getTextSize(label, cv.FONT_HERSHEY_SIMPLEX, 0.5, 1)\n",
    "    top = max(top, labelSize[1])\n",
    "    cv.rectangle(frame, (left, top - round(1.5*labelSize[1])), (left + round(1.5*labelSize[0]), top + baseLine), (255, 255, 255), cv.FILLED)\n",
    "    cv.putText(frame, label, (left, top), cv.FONT_HERSHEY_SIMPLEX, 0.75, (0,0,0), 1)\n",
    "\n",
    "# Remove the bounding boxes with low confidence using non-maxima suppression;\n",
    "#\n",
    "def postprocess(frame, outs):\n",
    "    frameHeight = frame.shape[0]   #행 == 높이\n",
    "    frameWidth = frame.shape[1]    #열 == 폭\n",
    "\n",
    "    # Scan through all the bounding boxes output from the network and keep only the\n",
    "    # ones with high confidence scores. Assign the box's class label as the class with the highest score.\n",
    "    classIds = []\n",
    "    confidences = []\n",
    "    boxes = []\n",
    "    for out in outs:     #yolo layer 출력값을 1개씩 취함; 3번 돈다.\n",
    "        for detection in out:     #바운딩박스 1개씩 취함; 507, 2028, 8112번 돈다.\n",
    "            scores = detection[5:]    #80개 클래스에 대한 확률값\n",
    "            classId = np.argmax(scores)     #가장 높은 확률값의 인덱스\n",
    "            confidence = scores[classId]    #가장 높은 확률\n",
    "            if confidence > confThreshold:    #확률이 미리 설정해둔 파라미터보다 높을 경우에만 실행된다.; confidence만으로도 많이 걸러짐\n",
    "                center_x = int(detection[0] * frameWidth)   #detection 값이 0~1로 정규화되기 때문에 원래 값으로 되돌리기 위해서 폭/높이를 곱해준다.\n",
    "                center_y = int(detection[1] * frameHeight)\n",
    "                width = int(detection[2] * frameWidth)\n",
    "                height = int(detection[3] * frameHeight)\n",
    "                left = int(center_x - width / 2)\n",
    "                top = int(center_y - height / 2)\n",
    "                classIds.append(classId)\n",
    "                confidences.append(float(confidence))\n",
    "                boxes.append([left, top, width, height])\n",
    "    \n",
    "    indices = cv.dnn.NMSBoxes(boxes, confidences, confThreshold, nmsThreshold)\n",
    "    \n",
    "    for i in indices:\n",
    "        i = i[0]\n",
    "        box = boxes[i]\n",
    "        left = box[0]\n",
    "        top = box[1]\n",
    "        width = box[2]\n",
    "        height = box[3]\n",
    "        drawPred(classIds[i], confidences[i], left, top, left + width, top + height)"
   ]
  },
  {
   "cell_type": "code",
   "execution_count": 52,
   "metadata": {
    "ExecuteTime": {
     "end_time": "2020-01-29T08:43:44.346302Z",
     "start_time": "2020-01-29T08:41:40.162242Z"
    }
   },
   "outputs": [],
   "source": [
    "fourcc = cv2.VideoWriter_fourcc(*'XVID')\n",
    "\n",
    "cap = cv2.VideoCapture('vtest.avi') \n",
    "_, frame = cap.read()\n",
    "\n",
    "video = cv2.VideoWriter(\"out.mp4\", fourcc, 20.0, (frame.shape[1], frame.shape[0]))\n",
    "#동영상 제목, 동영상포맷, 초당 프레임, 프레임 사이즈\n",
    "\n",
    "for i in range(400):\n",
    "    _, frame = cap.read()\n",
    "    blob = cv.dnn.blobFromImage(frame, 1/255, (inpWidth, inpHeight), [0,0,0], 1, crop=False)\n",
    "    net.setInput(blob)\n",
    "    outs = net.forward(getOutputsNames(net)) \n",
    "    postprocess(frame, outs)\n",
    "    video.write(frame)\n",
    "#     time.sleep(0.01)      여기서는 sleep 걸어줄 필요가 없다: 어차피 루프 상단부가 오래 걸림\n",
    "    \n",
    "video.release()\n"
   ]
  },
  {
   "cell_type": "code",
   "execution_count": null,
   "metadata": {},
   "outputs": [],
   "source": []
  }
 ],
 "metadata": {
  "kernelspec": {
   "display_name": "Python 3",
   "language": "python",
   "name": "python3"
  },
  "language_info": {
   "codemirror_mode": {
    "name": "ipython",
    "version": 3
   },
   "file_extension": ".py",
   "mimetype": "text/x-python",
   "name": "python",
   "nbconvert_exporter": "python",
   "pygments_lexer": "ipython3",
   "version": "3.7.4"
  },
  "varInspector": {
   "cols": {
    "lenName": 16,
    "lenType": 16,
    "lenVar": 40
   },
   "kernels_config": {
    "python": {
     "delete_cmd_postfix": "",
     "delete_cmd_prefix": "del ",
     "library": "var_list.py",
     "varRefreshCmd": "print(var_dic_list())"
    },
    "r": {
     "delete_cmd_postfix": ") ",
     "delete_cmd_prefix": "rm(",
     "library": "var_list.r",
     "varRefreshCmd": "cat(var_dic_list()) "
    }
   },
   "types_to_exclude": [
    "module",
    "function",
    "builtin_function_or_method",
    "instance",
    "_Feature"
   ],
   "window_display": false
  }
 },
 "nbformat": 4,
 "nbformat_minor": 2
}

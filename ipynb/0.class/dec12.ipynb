{
 "cells": [
  {
   "cell_type": "markdown",
   "metadata": {},
   "source": [
    "# Python etc"
   ]
  },
  {
   "cell_type": "code",
   "execution_count": 1,
   "metadata": {},
   "outputs": [
    {
     "name": "stdout",
     "output_type": "stream",
     "text": [
      "<class 'object'>\n"
     ]
    }
   ],
   "source": [
    "print(object)"
   ]
  },
  {
   "cell_type": "code",
   "execution_count": 2,
   "metadata": {},
   "outputs": [
    {
     "name": "stdout",
     "output_type": "stream",
     "text": [
      "<class 'object'>\n"
     ]
    }
   ],
   "source": [
    "print(object.__str__(object))"
   ]
  },
  {
   "cell_type": "code",
   "execution_count": 3,
   "metadata": {},
   "outputs": [
    {
     "name": "stdout",
     "output_type": "stream",
     "text": [
      "140711173192496\n"
     ]
    }
   ],
   "source": [
    "print(id(object))"
   ]
  },
  {
   "cell_type": "code",
   "execution_count": 4,
   "metadata": {},
   "outputs": [
    {
     "name": "stdout",
     "output_type": "stream",
     "text": [
      "<class 'type'>\n"
     ]
    }
   ],
   "source": [
    "print(object.__class__)"
   ]
  },
  {
   "cell_type": "code",
   "execution_count": 5,
   "metadata": {},
   "outputs": [
    {
     "name": "stdout",
     "output_type": "stream",
     "text": [
      "<class 'type'>\n"
     ]
    }
   ],
   "source": [
    "print(type(object))"
   ]
  },
  {
   "cell_type": "code",
   "execution_count": 6,
   "metadata": {},
   "outputs": [
    {
     "name": "stdout",
     "output_type": "stream",
     "text": [
      "object\n"
     ]
    }
   ],
   "source": [
    "print(object.__name__)"
   ]
  },
  {
   "cell_type": "code",
   "execution_count": 8,
   "metadata": {},
   "outputs": [],
   "source": [
    "import keyword\n",
    "import pprint"
   ]
  },
  {
   "cell_type": "code",
   "execution_count": 10,
   "metadata": {},
   "outputs": [
    {
     "name": "stdout",
     "output_type": "stream",
     "text": [
      "['False', 'None', 'True', 'and', 'as', 'assert', 'async',\n",
      " 'await', 'break', 'class', 'continue', 'def', 'del',\n",
      " 'elif', 'else', 'except', 'finally', 'for', 'from',\n",
      " 'global', 'if', 'import', 'in', 'is', 'lambda', 'nonlocal',\n",
      " 'not', 'or', 'pass', 'raise', 'return', 'try', 'while',\n",
      " 'with', 'yield']\n"
     ]
    }
   ],
   "source": [
    "pprint.pprint(keyword.kwlist, width = 60, compact = True)"
   ]
  },
  {
   "cell_type": "code",
   "execution_count": 11,
   "metadata": {
    "collapsed": true
   },
   "outputs": [
    {
     "name": "stdout",
     "output_type": "stream",
     "text": [
      "Help on module pprint:\n",
      "\n",
      "NAME\n",
      "    pprint - Support to pretty-print lists, tuples, & dictionaries recursively.\n",
      "\n",
      "DESCRIPTION\n",
      "    Very simple, but useful, especially in debugging data structures.\n",
      "    \n",
      "    Classes\n",
      "    -------\n",
      "    \n",
      "    PrettyPrinter()\n",
      "        Handle pretty-printing operations onto a stream using a configured\n",
      "        set of formatting parameters.\n",
      "    \n",
      "    Functions\n",
      "    ---------\n",
      "    \n",
      "    pformat()\n",
      "        Format a Python object into a pretty-printed representation.\n",
      "    \n",
      "    pprint()\n",
      "        Pretty-print a Python object to a stream [default is sys.stdout].\n",
      "    \n",
      "    saferepr()\n",
      "        Generate a 'standard' repr()-like value, but protect against recursive\n",
      "        data structures.\n",
      "\n",
      "CLASSES\n",
      "    builtins.object\n",
      "        PrettyPrinter\n",
      "    \n",
      "    class PrettyPrinter(builtins.object)\n",
      "     |  PrettyPrinter(indent=1, width=80, depth=None, stream=None, *, compact=False)\n",
      "     |  \n",
      "     |  Methods defined here:\n",
      "     |  \n",
      "     |  __init__(self, indent=1, width=80, depth=None, stream=None, *, compact=False)\n",
      "     |      Handle pretty printing operations onto a stream using a set of\n",
      "     |      configured parameters.\n",
      "     |      \n",
      "     |      indent\n",
      "     |          Number of spaces to indent for each level of nesting.\n",
      "     |      \n",
      "     |      width\n",
      "     |          Attempted maximum number of columns in the output.\n",
      "     |      \n",
      "     |      depth\n",
      "     |          The maximum depth to print out nested structures.\n",
      "     |      \n",
      "     |      stream\n",
      "     |          The desired output stream.  If omitted (or false), the standard\n",
      "     |          output stream available at construction will be used.\n",
      "     |      \n",
      "     |      compact\n",
      "     |          If true, several items will be combined in one line.\n",
      "     |  \n",
      "     |  format(self, object, context, maxlevels, level)\n",
      "     |      Format object for a specific context, returning a string\n",
      "     |      and flags indicating whether the representation is 'readable'\n",
      "     |      and whether the object represents a recursive construct.\n",
      "     |  \n",
      "     |  isreadable(self, object)\n",
      "     |  \n",
      "     |  isrecursive(self, object)\n",
      "     |  \n",
      "     |  pformat(self, object)\n",
      "     |  \n",
      "     |  pprint(self, object)\n",
      "     |  \n",
      "     |  ----------------------------------------------------------------------\n",
      "     |  Data descriptors defined here:\n",
      "     |  \n",
      "     |  __dict__\n",
      "     |      dictionary for instance variables (if defined)\n",
      "     |  \n",
      "     |  __weakref__\n",
      "     |      list of weak references to the object (if defined)\n",
      "\n",
      "FUNCTIONS\n",
      "    isreadable(object)\n",
      "        Determine if saferepr(object) is readable by eval().\n",
      "    \n",
      "    isrecursive(object)\n",
      "        Determine if object requires a recursive representation.\n",
      "    \n",
      "    pformat(object, indent=1, width=80, depth=None, *, compact=False)\n",
      "        Format a Python object into a pretty-printed representation.\n",
      "    \n",
      "    pprint(object, stream=None, indent=1, width=80, depth=None, *, compact=False)\n",
      "        Pretty-print a Python object to a stream [default is sys.stdout].\n",
      "    \n",
      "    saferepr(object)\n",
      "        Version of repr() which can handle recursive data structures.\n",
      "\n",
      "DATA\n",
      "    __all__ = ['pprint', 'pformat', 'isreadable', 'isrecursive', 'saferepr...\n",
      "\n",
      "FILE\n",
      "    c:\\users\\student\\anaconda3\\lib\\pprint.py\n",
      "\n",
      "\n"
     ]
    }
   ],
   "source": [
    "help(pprint)"
   ]
  },
  {
   "cell_type": "code",
   "execution_count": 12,
   "metadata": {},
   "outputs": [
    {
     "name": "stdout",
     "output_type": "stream",
     "text": [
      "<class 'module'>\n",
      "<class 'int'>\n"
     ]
    }
   ],
   "source": [
    "import sys\n",
    "print(type(sys))\n",
    "sys = 100\n",
    "print(type(sys))"
   ]
  },
  {
   "cell_type": "code",
   "execution_count": 13,
   "metadata": {},
   "outputs": [
    {
     "data": {
      "text/plain": [
       "'0b1100100'"
      ]
     },
     "execution_count": 13,
     "metadata": {},
     "output_type": "execute_result"
    }
   ],
   "source": [
    "bin(100)"
   ]
  },
  {
   "cell_type": "code",
   "execution_count": 14,
   "metadata": {},
   "outputs": [
    {
     "data": {
      "text/plain": [
       "'0o144'"
      ]
     },
     "execution_count": 14,
     "metadata": {},
     "output_type": "execute_result"
    }
   ],
   "source": [
    "oct(100)"
   ]
  },
  {
   "cell_type": "code",
   "execution_count": 15,
   "metadata": {},
   "outputs": [
    {
     "data": {
      "text/plain": [
       "'0x64'"
      ]
     },
     "execution_count": 15,
     "metadata": {},
     "output_type": "execute_result"
    }
   ],
   "source": [
    "hex(100)"
   ]
  },
  {
   "cell_type": "code",
   "execution_count": 16,
   "metadata": {},
   "outputs": [
    {
     "data": {
      "text/plain": [
       "256"
      ]
     },
     "execution_count": 16,
     "metadata": {},
     "output_type": "execute_result"
    }
   ],
   "source": [
    "0x100"
   ]
  },
  {
   "cell_type": "code",
   "execution_count": 17,
   "metadata": {},
   "outputs": [
    {
     "data": {
      "text/plain": [
       "64"
      ]
     },
     "execution_count": 17,
     "metadata": {},
     "output_type": "execute_result"
    }
   ],
   "source": [
    "0o100"
   ]
  },
  {
   "cell_type": "code",
   "execution_count": 18,
   "metadata": {},
   "outputs": [],
   "source": [
    "googl = 10 ** 100"
   ]
  },
  {
   "cell_type": "code",
   "execution_count": 19,
   "metadata": {},
   "outputs": [
    {
     "data": {
      "text/plain": [
       "10000000000000000000000000000000000000000000000000000000000000000000000000000000000000000000000000000"
      ]
     },
     "execution_count": 19,
     "metadata": {},
     "output_type": "execute_result"
    }
   ],
   "source": [
    "googl"
   ]
  },
  {
   "cell_type": "code",
   "execution_count": 20,
   "metadata": {},
   "outputs": [
    {
     "data": {
      "text/plain": [
       "100000000000000000000000000000000000000000000000000000000000000000000000000000000000000000000000000000000000000000000000000000000000000000000000000000000000000000000000000000000000000000000000000000000"
      ]
     },
     "execution_count": 20,
     "metadata": {},
     "output_type": "execute_result"
    }
   ],
   "source": [
    "googl * googl"
   ]
  },
  {
   "cell_type": "code",
   "execution_count": 22,
   "metadata": {},
   "outputs": [
    {
     "name": "stdout",
     "output_type": "stream",
     "text": [
      "10963\n"
     ]
    }
   ],
   "source": [
    "a = 10 ** 3300\n",
    "print(a.bit_length())"
   ]
  },
  {
   "cell_type": "code",
   "execution_count": 24,
   "metadata": {},
   "outputs": [
    {
     "data": {
      "text/plain": [
       "False"
      ]
     },
     "execution_count": 24,
     "metadata": {},
     "output_type": "execute_result"
    }
   ],
   "source": [
    "bool(\"\")"
   ]
  },
  {
   "cell_type": "code",
   "execution_count": 25,
   "metadata": {},
   "outputs": [
    {
     "data": {
      "text/plain": [
       "True"
      ]
     },
     "execution_count": 25,
     "metadata": {},
     "output_type": "execute_result"
    }
   ],
   "source": [
    "bool(\" \")"
   ]
  },
  {
   "cell_type": "code",
   "execution_count": 26,
   "metadata": {},
   "outputs": [
    {
     "data": {
      "text/plain": [
       "False"
      ]
     },
     "execution_count": 26,
     "metadata": {},
     "output_type": "execute_result"
    }
   ],
   "source": [
    "bool([])"
   ]
  },
  {
   "cell_type": "code",
   "execution_count": 27,
   "metadata": {},
   "outputs": [
    {
     "data": {
      "text/plain": [
       "False"
      ]
     },
     "execution_count": 27,
     "metadata": {},
     "output_type": "execute_result"
    }
   ],
   "source": [
    "bool({})"
   ]
  },
  {
   "cell_type": "code",
   "execution_count": 28,
   "metadata": {},
   "outputs": [
    {
     "data": {
      "text/plain": [
       "False"
      ]
     },
     "execution_count": 28,
     "metadata": {},
     "output_type": "execute_result"
    }
   ],
   "source": [
    "bool(())"
   ]
  },
  {
   "cell_type": "code",
   "execution_count": 29,
   "metadata": {},
   "outputs": [
    {
     "data": {
      "text/plain": [
       "False"
      ]
     },
     "execution_count": 29,
     "metadata": {},
     "output_type": "execute_result"
    }
   ],
   "source": [
    "bool(0)"
   ]
  },
  {
   "cell_type": "code",
   "execution_count": 30,
   "metadata": {},
   "outputs": [
    {
     "data": {
      "text/plain": [
       "False"
      ]
     },
     "execution_count": 30,
     "metadata": {},
     "output_type": "execute_result"
    }
   ],
   "source": [
    "bool(None)"
   ]
  },
  {
   "cell_type": "code",
   "execution_count": 38,
   "metadata": {},
   "outputs": [
    {
     "name": "stdout",
     "output_type": "stream",
     "text": [
      "int : <class 'int'>\n",
      "float : <class 'float'>\n",
      "complex : <class 'complex'>\n",
      "str : <class 'str'>\n",
      "list : <class 'list'>\n",
      "tuple : <class 'tuple'>\n",
      "dict : <class 'dict'>\n",
      "bytes : <class 'bytes'>\n",
      "bytearray : <class 'bytearray'>\n"
     ]
    }
   ],
   "source": [
    "datas = [\"int\", 'float', 'complex', 'str', 'list', 'tuple', 'dict', 'bytes', 'bytearray']\n",
    "for key in datas :\n",
    "    print(key, \":\", __builtins__.__dict__[key])"
   ]
  },
  {
   "cell_type": "code",
   "execution_count": 36,
   "metadata": {},
   "outputs": [
    {
     "name": "stdout",
     "output_type": "stream",
     "text": [
      "dir : <built-in function dir>\n",
      "help : Type help() for interactive help, or help(object) for help about object.\n",
      "print : <built-in function print>\n",
      "isinstance : <built-in function isinstance>\n"
     ]
    }
   ],
   "source": [
    "datas = [\"dir\", \"help\", \"print\", \"isinstance\"]\n",
    "for key in datas :\n",
    "    print(key, \":\", __builtins__.__dict__[key])"
   ]
  },
  {
   "cell_type": "markdown",
   "metadata": {},
   "source": [
    "얕은 복사 깊은 복사"
   ]
  },
  {
   "cell_type": "code",
   "execution_count": 37,
   "metadata": {},
   "outputs": [
    {
     "name": "stdout",
     "output_type": "stream",
     "text": [
      "True\n",
      "True\n",
      "True\n",
      "False\n",
      "True\n",
      "False\n"
     ]
    }
   ],
   "source": [
    "l = [1, 2, 3, 4]\n",
    "alias = l\n",
    "print ( alias is l )\n",
    "print ( alias == l )\n",
    "\n",
    "lc = l.copy( )\n",
    "print(lc == l )\n",
    "print(lc  is l )\n",
    "\n",
    "ld = list ( l )\n",
    "print( ld == l )\n",
    "print( ld is l )"
   ]
  },
  {
   "cell_type": "markdown",
   "metadata": {},
   "source": [
    "기본 내장함수"
   ]
  },
  {
   "cell_type": "code",
   "execution_count": 39,
   "metadata": {},
   "outputs": [
    {
     "name": "stdout",
     "output_type": "stream",
     "text": [
      "<class 'builtin_function_or_method'>\n",
      "<class 'builtin_function_or_method'>\n",
      "<class 'builtin_function_or_method'>\n",
      "<class 'builtin_function_or_method'>\n"
     ]
    }
   ],
   "source": [
    "# 크기비교함수\n",
    "max(3, 7, -1, 5, 4)\n",
    "min(3, 7, -1, 5, 4)\n",
    "\n",
    "#연산함수\n",
    "sum([2, 4, 6, 8, 10])\n",
    "pow(2, 3)            # 제곱을 처리\n",
    "divmod(10, 3)      # 몫과 나머지를 구하는 함수\n",
    "round(11.56, 1)    # 11.6\n",
    "round(11.12, 1)    # 11.1\n",
    "round(5 / 3, 3)     # 1.667\n",
    "abs(-5)               # 5\n",
    "\n",
    "# 숫자를 문자로 문자를 숫자로 변환하기\n",
    "print( type ( ord ) )\n",
    "print( type ( chr ) )\n",
    "# 논리식의 결과로 처리\n",
    "print( type ( any ) )\n",
    "print( type ( all ) )"
   ]
  },
  {
   "cell_type": "code",
   "execution_count": 40,
   "metadata": {
    "scrolled": true
   },
   "outputs": [
    {
     "name": "stdout",
     "output_type": "stream",
     "text": [
      "[73, 119, 97, 110, 116, 116, 111, 107, 111, 119, 110, 80, 121, 116, 104, 111, 110]\n",
      "IwanttokownPython\n",
      "False\n",
      "True\n",
      "True\n",
      "False\n"
     ]
    }
   ],
   "source": [
    "s = \"IwanttokownPython\"\n",
    "l = list(map(ord, s) )\n",
    "print( l )\n",
    "ls = \"\".join( list ( map ( chr, l ) ) )\n",
    "print( ls )\n",
    "print( any ( [ ] ) )\n",
    "print( any ( [1, 0, 0 ] ) )\n",
    "print( all ( [ ] ) )\n",
    "print( all ( [1, 2, 0 ] ) )"
   ]
  },
  {
   "cell_type": "markdown",
   "metadata": {},
   "source": [
    "난수 생성"
   ]
  },
  {
   "cell_type": "code",
   "execution_count": 44,
   "metadata": {},
   "outputs": [
    {
     "name": "stdout",
     "output_type": "stream",
     "text": [
      "0.8197413482632947\n"
     ]
    }
   ],
   "source": [
    "from random import random\n",
    "print(random())"
   ]
  },
  {
   "cell_type": "code",
   "execution_count": 50,
   "metadata": {},
   "outputs": [
    {
     "name": "stdout",
     "output_type": "stream",
     "text": [
      "Selected numbers are  {6, 42, 12, 19, 23, 24}\n"
     ]
    }
   ],
   "source": [
    "from random import randint\n",
    "\n",
    "selected_nums = set()\n",
    "\n",
    "while len(selected_nums) < 6:\n",
    "    selected_nums.add(randint(1, 46))\n",
    "    \n",
    "print('Selected numbers are ', selected_nums)"
   ]
  },
  {
   "cell_type": "code",
   "execution_count": 51,
   "metadata": {},
   "outputs": [
    {
     "data": {
      "text/plain": [
       "0.7996621997223934"
      ]
     },
     "execution_count": 51,
     "metadata": {},
     "output_type": "execute_result"
    }
   ],
   "source": [
    "random()"
   ]
  },
  {
   "cell_type": "code",
   "execution_count": 54,
   "metadata": {},
   "outputs": [
    {
     "name": "stdout",
     "output_type": "stream",
     "text": [
      "10\n"
     ]
    }
   ],
   "source": [
    "print(randint(5, 10))"
   ]
  },
  {
   "cell_type": "markdown",
   "metadata": {},
   "source": [
    "time 모듈"
   ]
  },
  {
   "cell_type": "code",
   "execution_count": 56,
   "metadata": {},
   "outputs": [],
   "source": [
    "import time"
   ]
  },
  {
   "cell_type": "code",
   "execution_count": 57,
   "metadata": {},
   "outputs": [
    {
     "data": {
      "text/plain": [
       "1576117389.8654892"
      ]
     },
     "execution_count": 57,
     "metadata": {},
     "output_type": "execute_result"
    }
   ],
   "source": [
    "time.time()"
   ]
  },
  {
   "cell_type": "code",
   "execution_count": 58,
   "metadata": {},
   "outputs": [
    {
     "data": {
      "text/plain": [
       "time.struct_time(tm_year=2019, tm_mon=12, tm_mday=12, tm_hour=2, tm_min=25, tm_sec=44, tm_wday=3, tm_yday=346, tm_isdst=0)"
      ]
     },
     "execution_count": 58,
     "metadata": {},
     "output_type": "execute_result"
    }
   ],
   "source": [
    "time.gmtime()"
   ]
  },
  {
   "cell_type": "code",
   "execution_count": 59,
   "metadata": {},
   "outputs": [
    {
     "data": {
      "text/plain": [
       "time.struct_time(tm_year=2019, tm_mon=12, tm_mday=12, tm_hour=11, tm_min=25, tm_sec=53, tm_wday=3, tm_yday=346, tm_isdst=0)"
      ]
     },
     "execution_count": 59,
     "metadata": {},
     "output_type": "execute_result"
    }
   ],
   "source": [
    "time.localtime()"
   ]
  },
  {
   "cell_type": "code",
   "execution_count": 60,
   "metadata": {},
   "outputs": [],
   "source": [
    "t = time.gmtime(1234567890)"
   ]
  },
  {
   "cell_type": "code",
   "execution_count": 62,
   "metadata": {},
   "outputs": [
    {
     "data": {
      "text/plain": [
       "2"
      ]
     },
     "execution_count": 62,
     "metadata": {},
     "output_type": "execute_result"
    }
   ],
   "source": [
    "t.tm_mon"
   ]
  },
  {
   "cell_type": "code",
   "execution_count": null,
   "metadata": {},
   "outputs": [],
   "source": []
  },
  {
   "cell_type": "markdown",
   "metadata": {},
   "source": [
    "datetime 모듈"
   ]
  },
  {
   "cell_type": "code",
   "execution_count": null,
   "metadata": {},
   "outputs": [],
   "source": []
  },
  {
   "cell_type": "markdown",
   "metadata": {},
   "source": [
    "# 객체 지향 프로그래밍"
   ]
  },
  {
   "cell_type": "markdown",
   "metadata": {},
   "source": [
    "class 생성"
   ]
  },
  {
   "cell_type": "code",
   "execution_count": 63,
   "metadata": {},
   "outputs": [],
   "source": [
    "class SoccerPlayer(object):\n",
    "    def __init__(self, name, position, back_number):\n",
    "        self.name = name\n",
    "        self.position = position\n",
    "        self.back_number = back_number\n",
    "    def change_back_number(self, new_number):\n",
    "        print(\"선수의 등번호를 변경한다: From %d to %d\" % (self.back_number, new_number))\n",
    "        self.back_number = new_number\n",
    "    def __str__(self):\n",
    "        return \"Hello, My name is %s. I play in %s in center.\" % (self.name, self.position)"
   ]
  },
  {
   "cell_type": "code",
   "execution_count": 64,
   "metadata": {},
   "outputs": [],
   "source": [
    "jinhyun = SoccerPlayer(\"Jinhyun\", \"MF\", 10)"
   ]
  },
  {
   "cell_type": "code",
   "execution_count": 65,
   "metadata": {},
   "outputs": [
    {
     "name": "stdout",
     "output_type": "stream",
     "text": [
      "현재 선수의 등번호는: 10\n",
      "선수의 등번호를 변경한다: From 10 to 5\n",
      "현재 선수의 등번호는: 5\n"
     ]
    }
   ],
   "source": [
    "print(\"현재 선수의 등번호는:\", jinhyun.back_number)\n",
    "jinhyun.change_back_number(5)\n",
    "print(\"현재 선수의 등번호는:\", jinhyun.back_number)"
   ]
  },
  {
   "cell_type": "code",
   "execution_count": 66,
   "metadata": {},
   "outputs": [
    {
     "name": "stdout",
     "output_type": "stream",
     "text": [
      "Hello, My name is Jinhyun. I play in MF in center.\n"
     ]
    }
   ],
   "source": [
    "print(jinhyun)"
   ]
  },
  {
   "cell_type": "markdown",
   "metadata": {},
   "source": [
    "상속"
   ]
  },
  {
   "cell_type": "code",
   "execution_count": 86,
   "metadata": {},
   "outputs": [],
   "source": [
    "class Person(object):\n",
    "    def __init__(self, name, age, gender):\n",
    "        self.name = name\n",
    "        self.age = age\n",
    "        self.gender = gender\n",
    "    def about_me(self):\n",
    "        print(\"저의 이름은\", self.name,\"이고요, 제 나이는\", str(self.age), \"살입니다.\")\n",
    "        \n",
    "class Employee(Person):\n",
    "    def __init__(self, name, age, gender, salary, hire_date):\n",
    "        super().__init__(name, age, gender)\n",
    "        self.salary = salary\n",
    "        self.hire_date = hire_date\n",
    "    def do_work(self):\n",
    "        print(\"열심히 일을 한다.\")\n",
    "    def about_me(self):\n",
    "        super.about_me()\n",
    "        print(\"제 급여는\", self.salary, \"원이고, 제 입사일은\", self.hire_date, \"입니다.\")"
   ]
  },
  {
   "cell_type": "code",
   "execution_count": 87,
   "metadata": {},
   "outputs": [
    {
     "name": "stdout",
     "output_type": "stream",
     "text": [
      "저의 이름은 사람1 이고요, 제 나이는 30 살입니다.\n"
     ]
    }
   ],
   "source": [
    "person1 = Person(\"사람1\", 30, \"남자\")\n",
    "person1.about_me()"
   ]
  },
  {
   "cell_type": "code",
   "execution_count": 88,
   "metadata": {},
   "outputs": [
    {
     "name": "stdout",
     "output_type": "stream",
     "text": [
      "열심히 일을 한다.\n"
     ]
    }
   ],
   "source": [
    "emp1 = Employee(\"일꾼1\", 28, \"남\", 300, '2019/01/01')\n",
    "emp1.do_work()"
   ]
  },
  {
   "cell_type": "markdown",
   "metadata": {},
   "source": [
    "다형성"
   ]
  },
  {
   "cell_type": "code",
   "execution_count": 89,
   "metadata": {},
   "outputs": [],
   "source": [
    "class Animal:\n",
    "    def __init__(self, name):\n",
    "        self.name = name\n",
    "    def __talk(self):\n",
    "        raise NotImplementedError(\"Subclass must implement abstract method\")\n",
    "         #자식 클래스에게 상속하기 위해 생성한 클래스이므로 talk함수를 정의하지 않고 넘김\n",
    "\n",
    "class Cat(Animal):\n",
    "    def talk(self):\n",
    "        return \"Meow!\"\n",
    "    \n",
    "class Dog(Animal):\n",
    "    def talk(self):\n",
    "        return \"Woof! Woof!\"\n",
    "    \n",
    "animals = [Cat('Missy'), Cat('Mr.Mistoffelees'), Dog('Lassie')]"
   ]
  },
  {
   "cell_type": "code",
   "execution_count": 111,
   "metadata": {},
   "outputs": [
    {
     "name": "stdout",
     "output_type": "stream",
     "text": [
      "Meow!\n",
      "Meow!\n",
      "Woof! Woof!\n"
     ]
    }
   ],
   "source": [
    "for animal in animals:\n",
    "    print(animal.talk())"
   ]
  },
  {
   "cell_type": "markdown",
   "metadata": {},
   "source": [
    "실습"
   ]
  },
  {
   "cell_type": "code",
   "execution_count": 182,
   "metadata": {},
   "outputs": [],
   "source": [
    "class Note(object):\n",
    "    def __init__(self, contents = None):\n",
    "        self.contents = contents\n",
    "        \n",
    "    def __str__(self):\n",
    "        return self.contents\n",
    "        \n",
    "    def write_content(self, new_content):\n",
    "        self.contents = str(new_content)\n",
    "    \n",
    "    def remove_all(self):\n",
    "        self.contents = None"
   ]
  },
  {
   "cell_type": "code",
   "execution_count": 220,
   "metadata": {},
   "outputs": [],
   "source": [
    "class Notebook(object):\n",
    "    def __init__(self, title):\n",
    "        self.title = title\n",
    "        self.page_number = 1\n",
    "        self.notes = {}\n",
    "        \n",
    "    def __str__(self):\n",
    "        return str(self.notes)\n",
    "    \n",
    "    def add_note(self, note, page = 0):\n",
    "        if self.page_number > 300:\n",
    "            print(\"Cannot add note. Notebook is already full.\")\n",
    "        else:\n",
    "            if page == 0:\n",
    "                self.notes[self.page_number] = str(note)\n",
    "            else:\n",
    "                self.notes = {page:str(note)}\n",
    "            print(\"Note added successfully.\")\n",
    "            self.page_number +=1\n",
    "    \n",
    "    def remove_note(self, page_number):\n",
    "        if page_number in self.notes.keys():\n",
    "            self.page_number -=1\n",
    "            return self.notes.pop(page_number)\n",
    "        else:\n",
    "            print(\"No such page and cannot remove\")\n",
    "        \n",
    "    def get_number_of_pages(self):\n",
    "        return len(self.notes)"
   ]
  },
  {
   "cell_type": "code",
   "execution_count": 221,
   "metadata": {},
   "outputs": [],
   "source": [
    "my_note = Note()"
   ]
  },
  {
   "cell_type": "code",
   "execution_count": 222,
   "metadata": {},
   "outputs": [],
   "source": [
    "my_note.write_content('첫번째 노트 블라블라블라블라')"
   ]
  },
  {
   "cell_type": "code",
   "execution_count": 223,
   "metadata": {},
   "outputs": [
    {
     "data": {
      "text/plain": [
       "'첫번째 노트 블라블라블라블라'"
      ]
     },
     "execution_count": 223,
     "metadata": {},
     "output_type": "execute_result"
    }
   ],
   "source": [
    "my_note.contents"
   ]
  },
  {
   "cell_type": "code",
   "execution_count": 224,
   "metadata": {},
   "outputs": [],
   "source": [
    "my_notebook = Notebook('note1')"
   ]
  },
  {
   "cell_type": "code",
   "execution_count": 228,
   "metadata": {},
   "outputs": [
    {
     "name": "stdout",
     "output_type": "stream",
     "text": [
      "Note added successfully.\n"
     ]
    }
   ],
   "source": [
    "my_notebook.add_note(my_note)"
   ]
  },
  {
   "cell_type": "code",
   "execution_count": 229,
   "metadata": {},
   "outputs": [
    {
     "data": {
      "text/plain": [
       "2"
      ]
     },
     "execution_count": 229,
     "metadata": {},
     "output_type": "execute_result"
    }
   ],
   "source": [
    "my_notebook.get_number_of_pages()"
   ]
  },
  {
   "cell_type": "code",
   "execution_count": 230,
   "metadata": {},
   "outputs": [
    {
     "name": "stdout",
     "output_type": "stream",
     "text": [
      "{1: '첫번째 노트 블라블라블라블라', 2: '첫번째 노트 블라블라블라블라'}\n"
     ]
    }
   ],
   "source": [
    "print(my_notebook)"
   ]
  },
  {
   "cell_type": "code",
   "execution_count": 231,
   "metadata": {},
   "outputs": [
    {
     "data": {
      "text/plain": [
       "{1: '첫번째 노트 블라블라블라블라', 2: '첫번째 노트 블라블라블라블라'}"
      ]
     },
     "execution_count": 231,
     "metadata": {},
     "output_type": "execute_result"
    }
   ],
   "source": [
    "my_notebook.notes"
   ]
  },
  {
   "cell_type": "markdown",
   "metadata": {},
   "source": [
    "가시성visibility (캡슐화encapsulation, 정보은닉information hiding)"
   ]
  },
  {
   "cell_type": "code",
   "execution_count": 116,
   "metadata": {},
   "outputs": [],
   "source": [
    "class Product(object):\n",
    "    pass\n",
    "\n",
    "class Inventory(object):\n",
    "    def __init__(self):\n",
    "        self.__items = []\n",
    "    def add_new_item(self, product):\n",
    "        if type(product) == Product:\n",
    "            self.__items.append(product)\n",
    "            print(\"new item added\")\n",
    "        else:\n",
    "            raise ValueError(\"Invalid Item\")\n",
    "    def get_number_of_items(self):\n",
    "        return len(self.__items)\n",
    "    @property\n",
    "    def items(self):\n",
    "        return self.__items"
   ]
  },
  {
   "cell_type": "code",
   "execution_count": 118,
   "metadata": {},
   "outputs": [],
   "source": [
    "my_inventory = Inventory()"
   ]
  },
  {
   "cell_type": "code",
   "execution_count": 120,
   "metadata": {},
   "outputs": [
    {
     "name": "stdout",
     "output_type": "stream",
     "text": [
      "new item added\n"
     ]
    }
   ],
   "source": [
    "my_inventory.add_new_item(Product())"
   ]
  },
  {
   "cell_type": "code",
   "execution_count": 128,
   "metadata": {},
   "outputs": [
    {
     "ename": "AttributeError",
     "evalue": "'Inventory' object has no attribute '__items'",
     "output_type": "error",
     "traceback": [
      "\u001b[1;31m---------------------------------------------------------------------------\u001b[0m",
      "\u001b[1;31mAttributeError\u001b[0m                            Traceback (most recent call last)",
      "\u001b[1;32m<ipython-input-128-11cc93e1f4f4>\u001b[0m in \u001b[0;36m<module>\u001b[1;34m\u001b[0m\n\u001b[1;32m----> 1\u001b[1;33m \u001b[0mmy_inventory\u001b[0m\u001b[1;33m.\u001b[0m\u001b[0m__items\u001b[0m\u001b[1;33m\u001b[0m\u001b[1;33m\u001b[0m\u001b[0m\n\u001b[0m",
      "\u001b[1;31mAttributeError\u001b[0m: 'Inventory' object has no attribute '__items'"
     ]
    }
   ],
   "source": [
    "my_inventory.__items"
   ]
  },
  {
   "cell_type": "markdown",
   "metadata": {},
   "source": [
    "# Module & Package"
   ]
  },
  {
   "cell_type": "markdown",
   "metadata": {},
   "source": [
    "# Error Handling"
   ]
  },
  {
   "cell_type": "markdown",
   "metadata": {},
   "source": [
    "try-except"
   ]
  },
  {
   "cell_type": "code",
   "execution_count": 6,
   "metadata": {},
   "outputs": [
    {
     "name": "stdout",
     "output_type": "stream",
     "text": [
      "Division by zero : Not divided by 0\n",
      "10.0\n",
      "5.0\n",
      "3.3333333333333335\n",
      "2.5\n",
      "2.0\n",
      "1.6666666666666667\n",
      "1.4285714285714286\n",
      "1.25\n",
      "1.1111111111111112\n"
     ]
    }
   ],
   "source": [
    "for i in range(10):\n",
    "    try: print(10/i)\n",
    "    except ZeroDivisionError as e: print(str(e).capitalize(), \": Not divided by 0\")"
   ]
  },
  {
   "cell_type": "markdown",
   "metadata": {},
   "source": [
    "raise"
   ]
  },
  {
   "cell_type": "code",
   "execution_count": 8,
   "metadata": {},
   "outputs": [
    {
     "name": "stdout",
     "output_type": "stream",
     "text": [
      "변환할 정수값을 입력해 주세요: 2\n",
      "정수값으로 변환된 숫자 - 2\n",
      "변환할 정수값을 입력해 주세요: 72\n",
      "정수값으로 변환된 숫자 - 72\n",
      "변환할 정수값을 입력해 주세요: 17\n",
      "정수값으로 변환된 숫자 - 17\n",
      "변환할 정수값을 입력해 주세요: ge\n"
     ]
    },
    {
     "ename": "ValueError",
     "evalue": "숫자값을 입력하지 않았습니다.",
     "output_type": "error",
     "traceback": [
      "\u001b[1;31m---------------------------------------------------------------------------\u001b[0m",
      "\u001b[1;31mValueError\u001b[0m                                Traceback (most recent call last)",
      "\u001b[1;32m<ipython-input-8-67a1a297b36e>\u001b[0m in \u001b[0;36m<module>\u001b[1;34m\u001b[0m\n\u001b[0;32m      3\u001b[0m     \u001b[1;32mfor\u001b[0m \u001b[0mdigit\u001b[0m \u001b[1;32min\u001b[0m \u001b[0mvalue\u001b[0m\u001b[1;33m:\u001b[0m\u001b[1;33m\u001b[0m\u001b[1;33m\u001b[0m\u001b[0m\n\u001b[0;32m      4\u001b[0m         \u001b[1;32mif\u001b[0m \u001b[0mdigit\u001b[0m \u001b[1;32mnot\u001b[0m \u001b[1;32min\u001b[0m \u001b[1;34m\"0123456789\"\u001b[0m\u001b[1;33m:\u001b[0m\u001b[1;33m\u001b[0m\u001b[1;33m\u001b[0m\u001b[0m\n\u001b[1;32m----> 5\u001b[1;33m             \u001b[1;32mraise\u001b[0m \u001b[0mValueError\u001b[0m\u001b[1;33m(\u001b[0m\u001b[1;34m\"숫자값을 입력하지 않았습니다.\"\u001b[0m\u001b[1;33m)\u001b[0m\u001b[1;33m\u001b[0m\u001b[1;33m\u001b[0m\u001b[0m\n\u001b[0m\u001b[0;32m      6\u001b[0m     \u001b[0mprint\u001b[0m\u001b[1;33m(\u001b[0m\u001b[1;34m\"정수값으로 변환된 숫자 -\"\u001b[0m\u001b[1;33m,\u001b[0m \u001b[0mint\u001b[0m\u001b[1;33m(\u001b[0m\u001b[0mvalue\u001b[0m\u001b[1;33m)\u001b[0m\u001b[1;33m)\u001b[0m\u001b[1;33m\u001b[0m\u001b[1;33m\u001b[0m\u001b[0m\n",
      "\u001b[1;31mValueError\u001b[0m: 숫자값을 입력하지 않았습니다."
     ]
    }
   ],
   "source": [
    "while True:\n",
    "    value = input(\"변환할 정수값을 입력해 주세요: \")\n",
    "    for digit in value:\n",
    "        if digit not in \"0123456789\":\n",
    "            raise ValueError(\"숫자값을 입력하지 않았습니다.\")\n",
    "    print(\"정수값으로 변환된 숫자 -\", int(value))"
   ]
  },
  {
   "cell_type": "markdown",
   "metadata": {},
   "source": [
    "assert"
   ]
  },
  {
   "cell_type": "code",
   "execution_count": 9,
   "metadata": {},
   "outputs": [
    {
     "name": "stdout",
     "output_type": "stream",
     "text": [
      "0b1010\n"
     ]
    },
    {
     "ename": "AssertionError",
     "evalue": "",
     "output_type": "error",
     "traceback": [
      "\u001b[1;31m---------------------------------------------------------------------------\u001b[0m",
      "\u001b[1;31mAssertionError\u001b[0m                            Traceback (most recent call last)",
      "\u001b[1;32m<ipython-input-9-9eafcf331ed9>\u001b[0m in \u001b[0;36m<module>\u001b[1;34m\u001b[0m\n\u001b[0;32m      4\u001b[0m \u001b[1;33m\u001b[0m\u001b[0m\n\u001b[0;32m      5\u001b[0m \u001b[0mprint\u001b[0m\u001b[1;33m(\u001b[0m\u001b[0mget_binary_nmubmer\u001b[0m\u001b[1;33m(\u001b[0m\u001b[1;36m10\u001b[0m\u001b[1;33m)\u001b[0m\u001b[1;33m)\u001b[0m\u001b[1;33m\u001b[0m\u001b[1;33m\u001b[0m\u001b[0m\n\u001b[1;32m----> 6\u001b[1;33m \u001b[0mprint\u001b[0m\u001b[1;33m(\u001b[0m\u001b[0mget_binary_nmubmer\u001b[0m\u001b[1;33m(\u001b[0m\u001b[1;34m\"10\"\u001b[0m\u001b[1;33m)\u001b[0m\u001b[1;33m)\u001b[0m\u001b[1;33m\u001b[0m\u001b[1;33m\u001b[0m\u001b[0m\n\u001b[0m",
      "\u001b[1;32m<ipython-input-9-9eafcf331ed9>\u001b[0m in \u001b[0;36mget_binary_nmubmer\u001b[1;34m(decimal_number)\u001b[0m\n\u001b[0;32m      1\u001b[0m \u001b[1;32mdef\u001b[0m \u001b[0mget_binary_nmubmer\u001b[0m\u001b[1;33m(\u001b[0m\u001b[0mdecimal_number\u001b[0m\u001b[1;33m)\u001b[0m\u001b[1;33m:\u001b[0m\u001b[1;33m\u001b[0m\u001b[1;33m\u001b[0m\u001b[0m\n\u001b[1;32m----> 2\u001b[1;33m     \u001b[1;32massert\u001b[0m \u001b[0misinstance\u001b[0m\u001b[1;33m(\u001b[0m\u001b[0mdecimal_number\u001b[0m\u001b[1;33m,\u001b[0m \u001b[0mint\u001b[0m\u001b[1;33m)\u001b[0m\u001b[1;33m\u001b[0m\u001b[1;33m\u001b[0m\u001b[0m\n\u001b[0m\u001b[0;32m      3\u001b[0m     \u001b[1;32mreturn\u001b[0m \u001b[0mbin\u001b[0m\u001b[1;33m(\u001b[0m\u001b[0mdecimal_number\u001b[0m\u001b[1;33m)\u001b[0m\u001b[1;33m\u001b[0m\u001b[1;33m\u001b[0m\u001b[0m\n\u001b[0;32m      4\u001b[0m \u001b[1;33m\u001b[0m\u001b[0m\n\u001b[0;32m      5\u001b[0m \u001b[0mprint\u001b[0m\u001b[1;33m(\u001b[0m\u001b[0mget_binary_nmubmer\u001b[0m\u001b[1;33m(\u001b[0m\u001b[1;36m10\u001b[0m\u001b[1;33m)\u001b[0m\u001b[1;33m)\u001b[0m\u001b[1;33m\u001b[0m\u001b[1;33m\u001b[0m\u001b[0m\n",
      "\u001b[1;31mAssertionError\u001b[0m: "
     ]
    }
   ],
   "source": [
    "def get_binary_nmubmer(decimal_number):\n",
    "    assert isinstance(decimal_number, int)\n",
    "    return bin(decimal_number)\n",
    "\n",
    "print(get_binary_nmubmer(10))\n",
    "print(get_binary_nmubmer(\"10\"))"
   ]
  },
  {
   "cell_type": "code",
   "execution_count": null,
   "metadata": {},
   "outputs": [],
   "source": []
  }
 ],
 "metadata": {
  "kernelspec": {
   "display_name": "Python 3",
   "language": "python",
   "name": "python3"
  },
  "language_info": {
   "codemirror_mode": {
    "name": "ipython",
    "version": 3
   },
   "file_extension": ".py",
   "mimetype": "text/x-python",
   "name": "python",
   "nbconvert_exporter": "python",
   "pygments_lexer": "ipython3",
   "version": "3.7.4"
  }
 },
 "nbformat": 4,
 "nbformat_minor": 2
}

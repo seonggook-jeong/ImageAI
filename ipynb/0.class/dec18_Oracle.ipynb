{
 "cells": [
  {
   "cell_type": "code",
   "execution_count": 1,
   "metadata": {},
   "outputs": [],
   "source": [
    "import cx_Oracle\n",
    "import os\n",
    "os.putenv('NLS_LANG', 'KOREAN_KOREA.KO16MSWIN949')"
   ]
  },
  {
   "cell_type": "code",
   "execution_count": 2,
   "metadata": {},
   "outputs": [
    {
     "ename": "DatabaseError",
     "evalue": "DPI-1047: Cannot locate a 64-bit Oracle Client library: \"The specified module could not be found\". See https://oracle.github.io/odpi/doc/installation.html#windows for help",
     "output_type": "error",
     "traceback": [
      "\u001b[1;31m---------------------------------------------------------------------------\u001b[0m",
      "\u001b[1;31mDatabaseError\u001b[0m                             Traceback (most recent call last)",
      "\u001b[1;32m<ipython-input-2-9b363d7fab65>\u001b[0m in \u001b[0;36m<module>\u001b[1;34m\u001b[0m\n\u001b[1;32m----> 1\u001b[1;33m \u001b[0mconn\u001b[0m  \u001b[1;33m=\u001b[0m  \u001b[0mcx_Oracle\u001b[0m\u001b[1;33m.\u001b[0m\u001b[0mconnect\u001b[0m\u001b[1;33m(\u001b[0m\u001b[1;34m\"scott/oracle@127.0.0.1:1521/orcl\"\u001b[0m\u001b[1;33m)\u001b[0m   \u001b[1;31m#DB 연결\u001b[0m\u001b[1;33m\u001b[0m\u001b[1;33m\u001b[0m\u001b[0m\n\u001b[0m\u001b[0;32m      2\u001b[0m \u001b[1;31m#result = pandas.read_sql(\"sql문장\", con=conn)\u001b[0m\u001b[1;33m\u001b[0m\u001b[1;33m\u001b[0m\u001b[1;33m\u001b[0m\u001b[0m\n\u001b[0;32m      3\u001b[0m \u001b[0mcurs\u001b[0m \u001b[1;33m=\u001b[0m \u001b[0mconn\u001b[0m\u001b[1;33m.\u001b[0m\u001b[0mcursor\u001b[0m\u001b[1;33m(\u001b[0m\u001b[1;33m)\u001b[0m\u001b[1;33m\u001b[0m\u001b[1;33m\u001b[0m\u001b[0m\n\u001b[0;32m      4\u001b[0m \u001b[0mcurs\u001b[0m\u001b[1;33m.\u001b[0m\u001b[0mexecute\u001b[0m\u001b[1;33m(\u001b[0m\u001b[1;34m\"select * from emp\"\u001b[0m\u001b[1;33m)\u001b[0m\u001b[1;33m\u001b[0m\u001b[1;33m\u001b[0m\u001b[0m\n\u001b[0;32m      5\u001b[0m \u001b[1;33m\u001b[0m\u001b[0m\n",
      "\u001b[1;31mDatabaseError\u001b[0m: DPI-1047: Cannot locate a 64-bit Oracle Client library: \"The specified module could not be found\". See https://oracle.github.io/odpi/doc/installation.html#windows for help"
     ]
    }
   ],
   "source": [
    "conn  =  cx_Oracle.connect(\"scott/oracle@127.0.0.1:1521/orcl\")   #DB 연결 \n",
    "#result = pandas.read_sql(\"sql문장\", con=conn)\n",
    "curs = conn.cursor()\n",
    "curs.execute(\"select * from emp\")\n",
    "\n",
    "for row in curs:\n",
    "    print(row)\n",
    "\n",
    "curs.close()\n",
    "conn.close()         \n",
    "\n",
    "import cx_Oracle\n",
    "import os\n",
    "os.putenv('NLS_LANG', 'KOREAN_KOREA.KO16MSWIN949')\n",
    "\n",
    "conn  =  cx_Oracle.connect(\"scott/oracle@127.0.0.1:1521/orcl\")   #DB 연결 \n",
    "#result = pandas.read_sql(\"sql문장\", con=conn)\n",
    "curs = conn.cursor()\n",
    "curs.execute(\"select deptno, avg(sal) from emp group by deptno \")\n",
    "\n",
    "for row in curs:\n",
    "    print(row)\n",
    "\n",
    "curs.close()\n",
    "conn.close()  \n",
    "\n",
    "\n",
    "\n",
    "import cx_Oracle\n",
    "import os\n",
    "os.putenv('NLS_LANG', 'KOREAN_KOREA.KO16MSWIN949')\n",
    "\n",
    "conn  =  cx_Oracle.connect(\"scott/oracle@127.0.0.1:1521/orcl\")   #DB 연결 \n",
    "curs = conn.cursor()\n",
    "curs.prepare(\"insert into dept (deptno, dname) values (:d_val1, :d_val2)\")\n",
    "curs.execute(None, {'d_val1':60, 'd_val2':'IT'})\n",
    "#curs.execute(\"insert into dept (deptno, dname) values (:d_val1, :d_val2)\", {'d_val1':60, 'd_val2':'IT'})\n",
    "conn.commit()\n",
    " \n",
    "curs.close()\n",
    "conn.close() "
   ]
  },
  {
   "cell_type": "code",
   "execution_count": null,
   "metadata": {},
   "outputs": [],
   "source": []
  }
 ],
 "metadata": {
  "kernelspec": {
   "display_name": "Python 3",
   "language": "python",
   "name": "python3"
  },
  "language_info": {
   "codemirror_mode": {
    "name": "ipython",
    "version": 3
   },
   "file_extension": ".py",
   "mimetype": "text/x-python",
   "name": "python",
   "nbconvert_exporter": "python",
   "pygments_lexer": "ipython3",
   "version": "3.7.4"
  }
 },
 "nbformat": 4,
 "nbformat_minor": 2
}

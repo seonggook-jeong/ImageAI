{
 "cells": [
  {
   "cell_type": "markdown",
   "metadata": {},
   "source": [
    "로지스틱 회귀 분석을 수행하시오\n",
    "\n",
    "weather.csv파일을 읽어서 Temp, Sunshine,  Humidity, Pressure, Cloud, RainToday , RainTomorrow 특성을 읽어서 dataframe으로 생성하고\n",
    "RainTomorrow 변수(특성)을  로짓변환 (출력범위를 [0,1]로 조정) 합니다.\n",
    "\n",
    "데이터를 train data 와 test data를 7:3 비율로 분리하여 \n",
    "로지스틱 회귀분석을 수행하고, 모델의 정확도를 출력하고\n",
    "Temp, Sunshine,  Umidity, Pressure, Cloud가 내일 비가 올것이라고 예보하는 영향도를 평가하시오"
   ]
  },
  {
   "cell_type": "code",
   "execution_count": 22,
   "metadata": {},
   "outputs": [],
   "source": [
    "import pandas as pd\n",
    "from sklearn.linear_model import LogisticRegression\n",
    "from sklearn.metrics import accuracy_score"
   ]
  },
  {
   "cell_type": "code",
   "execution_count": 55,
   "metadata": {},
   "outputs": [],
   "source": [
    "df = pd.read_csv('./datas/weather.csv', usecols = ['Temp', 'Sunshine', 'Humidity', 'Pressure', 'Cloud', 'RainToday' , 'RainTomorrow'])"
   ]
  },
  {
   "cell_type": "code",
   "execution_count": 56,
   "metadata": {},
   "outputs": [
    {
     "data": {
      "text/html": [
       "<div>\n",
       "<style scoped>\n",
       "    .dataframe tbody tr th:only-of-type {\n",
       "        vertical-align: middle;\n",
       "    }\n",
       "\n",
       "    .dataframe tbody tr th {\n",
       "        vertical-align: top;\n",
       "    }\n",
       "\n",
       "    .dataframe thead th {\n",
       "        text-align: right;\n",
       "    }\n",
       "</style>\n",
       "<table border=\"1\" class=\"dataframe\">\n",
       "  <thead>\n",
       "    <tr style=\"text-align: right;\">\n",
       "      <th></th>\n",
       "      <th>Sunshine</th>\n",
       "      <th>Humidity</th>\n",
       "      <th>Pressure</th>\n",
       "      <th>Cloud</th>\n",
       "      <th>Temp</th>\n",
       "      <th>RainToday</th>\n",
       "      <th>RainTomorrow</th>\n",
       "    </tr>\n",
       "  </thead>\n",
       "  <tbody>\n",
       "    <tr>\n",
       "      <td>0</td>\n",
       "      <td>6.3</td>\n",
       "      <td>29</td>\n",
       "      <td>1015.0</td>\n",
       "      <td>7</td>\n",
       "      <td>23.6</td>\n",
       "      <td>No</td>\n",
       "      <td>Yes</td>\n",
       "    </tr>\n",
       "    <tr>\n",
       "      <td>1</td>\n",
       "      <td>9.7</td>\n",
       "      <td>36</td>\n",
       "      <td>1008.4</td>\n",
       "      <td>3</td>\n",
       "      <td>25.7</td>\n",
       "      <td>Yes</td>\n",
       "      <td>Yes</td>\n",
       "    </tr>\n",
       "    <tr>\n",
       "      <td>2</td>\n",
       "      <td>3.3</td>\n",
       "      <td>69</td>\n",
       "      <td>1007.2</td>\n",
       "      <td>7</td>\n",
       "      <td>20.2</td>\n",
       "      <td>Yes</td>\n",
       "      <td>Yes</td>\n",
       "    </tr>\n",
       "    <tr>\n",
       "      <td>3</td>\n",
       "      <td>9.1</td>\n",
       "      <td>56</td>\n",
       "      <td>1007.0</td>\n",
       "      <td>7</td>\n",
       "      <td>14.1</td>\n",
       "      <td>Yes</td>\n",
       "      <td>Yes</td>\n",
       "    </tr>\n",
       "    <tr>\n",
       "      <td>4</td>\n",
       "      <td>10.6</td>\n",
       "      <td>49</td>\n",
       "      <td>1018.5</td>\n",
       "      <td>7</td>\n",
       "      <td>15.4</td>\n",
       "      <td>Yes</td>\n",
       "      <td>No</td>\n",
       "    </tr>\n",
       "    <tr>\n",
       "      <td>...</td>\n",
       "      <td>...</td>\n",
       "      <td>...</td>\n",
       "      <td>...</td>\n",
       "      <td>...</td>\n",
       "      <td>...</td>\n",
       "      <td>...</td>\n",
       "      <td>...</td>\n",
       "    </tr>\n",
       "    <tr>\n",
       "      <td>361</td>\n",
       "      <td>12.1</td>\n",
       "      <td>15</td>\n",
       "      <td>1010.8</td>\n",
       "      <td>3</td>\n",
       "      <td>30.0</td>\n",
       "      <td>No</td>\n",
       "      <td>No</td>\n",
       "    </tr>\n",
       "    <tr>\n",
       "      <td>362</td>\n",
       "      <td>12.7</td>\n",
       "      <td>22</td>\n",
       "      <td>1016.9</td>\n",
       "      <td>1</td>\n",
       "      <td>28.2</td>\n",
       "      <td>No</td>\n",
       "      <td>No</td>\n",
       "    </tr>\n",
       "    <tr>\n",
       "      <td>363</td>\n",
       "      <td>5.3</td>\n",
       "      <td>47</td>\n",
       "      <td>1022.8</td>\n",
       "      <td>2</td>\n",
       "      <td>18.3</td>\n",
       "      <td>No</td>\n",
       "      <td>No</td>\n",
       "    </tr>\n",
       "    <tr>\n",
       "      <td>364</td>\n",
       "      <td>7.1</td>\n",
       "      <td>39</td>\n",
       "      <td>1016.2</td>\n",
       "      <td>7</td>\n",
       "      <td>25.9</td>\n",
       "      <td>No</td>\n",
       "      <td>No</td>\n",
       "    </tr>\n",
       "    <tr>\n",
       "      <td>365</td>\n",
       "      <td>12.6</td>\n",
       "      <td>13</td>\n",
       "      <td>1009.2</td>\n",
       "      <td>1</td>\n",
       "      <td>28.6</td>\n",
       "      <td>No</td>\n",
       "      <td>No</td>\n",
       "    </tr>\n",
       "  </tbody>\n",
       "</table>\n",
       "<p>366 rows × 7 columns</p>\n",
       "</div>"
      ],
      "text/plain": [
       "     Sunshine  Humidity  Pressure  Cloud  Temp RainToday RainTomorrow\n",
       "0         6.3        29    1015.0      7  23.6        No          Yes\n",
       "1         9.7        36    1008.4      3  25.7       Yes          Yes\n",
       "2         3.3        69    1007.2      7  20.2       Yes          Yes\n",
       "3         9.1        56    1007.0      7  14.1       Yes          Yes\n",
       "4        10.6        49    1018.5      7  15.4       Yes           No\n",
       "..        ...       ...       ...    ...   ...       ...          ...\n",
       "361      12.1        15    1010.8      3  30.0        No           No\n",
       "362      12.7        22    1016.9      1  28.2        No           No\n",
       "363       5.3        47    1022.8      2  18.3        No           No\n",
       "364       7.1        39    1016.2      7  25.9        No           No\n",
       "365      12.6        13    1009.2      1  28.6        No           No\n",
       "\n",
       "[366 rows x 7 columns]"
      ]
     },
     "execution_count": 56,
     "metadata": {},
     "output_type": "execute_result"
    }
   ],
   "source": [
    "df"
   ]
  },
  {
   "cell_type": "code",
   "execution_count": 75,
   "metadata": {},
   "outputs": [],
   "source": [
    "df.dropna(inplace = True)"
   ]
  },
  {
   "cell_type": "code",
   "execution_count": 76,
   "metadata": {},
   "outputs": [],
   "source": [
    "df['RainTomorrow'].replace(['Yes', 'No'], [1, 0], inplace = True)"
   ]
  },
  {
   "cell_type": "code",
   "execution_count": 77,
   "metadata": {},
   "outputs": [],
   "source": [
    "X = df[['Sunshine', 'Humidity', 'Pressure', 'Cloud', 'Temp']]\n",
    "Y = df['RainTomorrow']"
   ]
  },
  {
   "cell_type": "code",
   "execution_count": 78,
   "metadata": {},
   "outputs": [],
   "source": [
    "from sklearn.model_selection import train_test_split"
   ]
  },
  {
   "cell_type": "code",
   "execution_count": 79,
   "metadata": {},
   "outputs": [],
   "source": [
    "X_train, X_test, Y_train, Y_test = train_test_split(X, Y, test_size = 0.3, random_state = 0)"
   ]
  },
  {
   "cell_type": "code",
   "execution_count": 80,
   "metadata": {},
   "outputs": [
    {
     "name": "stderr",
     "output_type": "stream",
     "text": [
      "C:\\Users\\student\\Anaconda3\\lib\\site-packages\\sklearn\\linear_model\\logistic.py:432: FutureWarning: Default solver will be changed to 'lbfgs' in 0.22. Specify a solver to silence this warning.\n",
      "  FutureWarning)\n"
     ]
    },
    {
     "data": {
      "text/plain": [
       "LogisticRegression(C=1.0, class_weight=None, dual=False, fit_intercept=True,\n",
       "                   intercept_scaling=1, l1_ratio=None, max_iter=100,\n",
       "                   multi_class='warn', n_jobs=None, penalty='l2',\n",
       "                   random_state=None, solver='warn', tol=0.0001, verbose=0,\n",
       "                   warm_start=False)"
      ]
     },
     "execution_count": 80,
     "metadata": {},
     "output_type": "execute_result"
    }
   ],
   "source": [
    "logR = LogisticRegression()\n",
    "logR.fit(X_train, Y_train)"
   ]
  },
  {
   "cell_type": "code",
   "execution_count": 81,
   "metadata": {},
   "outputs": [
    {
     "name": "stdout",
     "output_type": "stream",
     "text": [
      "정확도:  0.8582677165354331\n"
     ]
    }
   ],
   "source": [
    "print('정확도: ', logR.score(X_train, Y_train))"
   ]
  },
  {
   "cell_type": "code",
   "execution_count": 82,
   "metadata": {},
   "outputs": [
    {
     "name": "stdout",
     "output_type": "stream",
     "text": [
      "정확도:  0.8715596330275229\n"
     ]
    }
   ],
   "source": [
    "print('정확도: ', logR.score(X_test, Y_test))"
   ]
  },
  {
   "cell_type": "code",
   "execution_count": 83,
   "metadata": {},
   "outputs": [
    {
     "data": {
      "text/plain": [
       "0.8715596330275229"
      ]
     },
     "execution_count": 83,
     "metadata": {},
     "output_type": "execute_result"
    }
   ],
   "source": [
    "#정확도 방법2\n",
    "y_predict = logR.predict(X_test)\n",
    "accuracy_score(y_predict, Y_test)"
   ]
  },
  {
   "cell_type": "code",
   "execution_count": 84,
   "metadata": {},
   "outputs": [
    {
     "name": "stdout",
     "output_type": "stream",
     "text": [
      "Optimization terminated successfully.\n",
      "         Current function value: 0.335145\n",
      "         Iterations 7\n"
     ]
    }
   ],
   "source": [
    "import statsmodels.api as sm\n",
    "logit = sm.Logit(df['RainTomorrow'], X)   #로지스틱 회귀분석 실행\n",
    "result = logit.fit()"
   ]
  },
  {
   "cell_type": "code",
   "execution_count": 85,
   "metadata": {},
   "outputs": [
    {
     "data": {
      "text/html": [
       "<table class=\"simpletable\">\n",
       "<tr>\n",
       "        <td>Model:</td>              <td>Logit</td>      <td>Pseudo R-squared:</td>    <td>0.287</td>  \n",
       "</tr>\n",
       "<tr>\n",
       "  <td>Dependent Variable:</td>   <td>RainTomorrow</td>         <td>AIC:</td>         <td>253.3156</td> \n",
       "</tr>\n",
       "<tr>\n",
       "         <td>Date:</td>        <td>2019-12-20 16:50</td>       <td>BIC:</td>         <td>272.7876</td> \n",
       "</tr>\n",
       "<tr>\n",
       "   <td>No. Observations:</td>         <td>363</td>        <td>Log-Likelihood:</td>    <td>-121.66</td> \n",
       "</tr>\n",
       "<tr>\n",
       "       <td>Df Model:</td>              <td>4</td>            <td>LL-Null:</td>        <td>-170.60</td> \n",
       "</tr>\n",
       "<tr>\n",
       "     <td>Df Residuals:</td>           <td>358</td>         <td>LLR p-value:</td>    <td>2.7764e-20</td>\n",
       "</tr>\n",
       "<tr>\n",
       "      <td>Converged:</td>           <td>1.0000</td>           <td>Scale:</td>         <td>1.0000</td>  \n",
       "</tr>\n",
       "<tr>\n",
       "    <td>No. Iterations:</td>        <td>7.0000</td>              <td></td>               <td></td>     \n",
       "</tr>\n",
       "</table>\n",
       "<table class=\"simpletable\">\n",
       "<tr>\n",
       "      <td></td>      <th>Coef.</th>  <th>Std.Err.</th>    <th>z</th>     <th>P>|z|</th> <th>[0.025</th>  <th>0.975]</th> \n",
       "</tr>\n",
       "<tr>\n",
       "  <th>Sunshine</th> <td>-0.0981</td>  <td>0.0738</td>  <td>-1.3297</td> <td>0.1836</td> <td>-0.2427</td> <td>0.0465</td> \n",
       "</tr>\n",
       "<tr>\n",
       "  <th>Humidity</th> <td>0.0605</td>   <td>0.0158</td>  <td>3.8265</td>  <td>0.0001</td> <td>0.0295</td>  <td>0.0915</td> \n",
       "</tr>\n",
       "<tr>\n",
       "  <th>Pressure</th> <td>-0.0081</td>  <td>0.0016</td>  <td>-5.2226</td> <td>0.0000</td> <td>-0.0111</td> <td>-0.0051</td>\n",
       "</tr>\n",
       "<tr>\n",
       "  <th>Cloud</th>    <td>0.2554</td>   <td>0.0924</td>  <td>2.7646</td>  <td>0.0057</td> <td>0.0743</td>  <td>0.4364</td> \n",
       "</tr>\n",
       "<tr>\n",
       "  <th>Temp</th>     <td>0.1625</td>   <td>0.0349</td>  <td>4.6562</td>  <td>0.0000</td> <td>0.0941</td>  <td>0.2309</td> \n",
       "</tr>\n",
       "</table>"
      ],
      "text/plain": [
       "<class 'statsmodels.iolib.summary2.Summary'>\n",
       "\"\"\"\n",
       "                         Results: Logit\n",
       "=================================================================\n",
       "Model:              Logit            Pseudo R-squared: 0.287     \n",
       "Dependent Variable: RainTomorrow     AIC:              253.3156  \n",
       "Date:               2019-12-20 16:50 BIC:              272.7876  \n",
       "No. Observations:   363              Log-Likelihood:   -121.66   \n",
       "Df Model:           4                LL-Null:          -170.60   \n",
       "Df Residuals:       358              LLR p-value:      2.7764e-20\n",
       "Converged:          1.0000           Scale:            1.0000    \n",
       "No. Iterations:     7.0000                                       \n",
       "------------------------------------------------------------------\n",
       "               Coef.   Std.Err.     z     P>|z|    [0.025   0.975]\n",
       "------------------------------------------------------------------\n",
       "Sunshine      -0.0981    0.0738  -1.3297  0.1836  -0.2427   0.0465\n",
       "Humidity       0.0605    0.0158   3.8265  0.0001   0.0295   0.0915\n",
       "Pressure      -0.0081    0.0016  -5.2226  0.0000  -0.0111  -0.0051\n",
       "Cloud          0.2554    0.0924   2.7646  0.0057   0.0743   0.4364\n",
       "Temp           0.1625    0.0349   4.6562  0.0000   0.0941   0.2309\n",
       "=================================================================\n",
       "\n",
       "\"\"\""
      ]
     },
     "execution_count": 85,
     "metadata": {},
     "output_type": "execute_result"
    }
   ],
   "source": [
    "result.summary2()"
   ]
  },
  {
   "cell_type": "code",
   "execution_count": 86,
   "metadata": {},
   "outputs": [
    {
     "data": {
      "text/plain": [
       "Sunshine   -0.098113\n",
       "Humidity    0.060515\n",
       "Pressure   -0.008100\n",
       "Cloud       0.255374\n",
       "Temp        0.162513\n",
       "dtype: float64"
      ]
     },
     "execution_count": 86,
     "metadata": {},
     "output_type": "execute_result"
    }
   ],
   "source": [
    "result.params"
   ]
  },
  {
   "cell_type": "code",
   "execution_count": null,
   "metadata": {},
   "outputs": [],
   "source": []
  }
 ],
 "metadata": {
  "kernelspec": {
   "display_name": "Python 3",
   "language": "python",
   "name": "python3"
  },
  "language_info": {
   "codemirror_mode": {
    "name": "ipython",
    "version": 3
   },
   "file_extension": ".py",
   "mimetype": "text/x-python",
   "name": "python",
   "nbconvert_exporter": "python",
   "pygments_lexer": "ipython3",
   "version": "3.7.4"
  }
 },
 "nbformat": 4,
 "nbformat_minor": 2
}

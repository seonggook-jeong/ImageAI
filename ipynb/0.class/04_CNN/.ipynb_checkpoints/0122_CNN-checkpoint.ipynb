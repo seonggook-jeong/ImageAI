{
 "cells": [
  {
   "cell_type": "markdown",
   "metadata": {},
   "source": [
    "# <오늘 할 것: >\n",
    "\n",
    "# 1. 도형 분류 예제\n",
    "- 1-1. 도형 준비\n",
    "- 1-2. 모델 구축하기\n",
    "- 1-3. 모델 학습/평가하기\n",
    "\n",
    "# 2. 성능 개선하기\n",
    "- 2-1. 모델 뜯어보기\n",
    "- 2-2. 중간 결과 출력해보기\n",
    "    - 2-2-1. Flatten Layer 출력값 확인하기\n",
    "    - 2-2-2. Output Layer의 출력값 확인하기\n",
    "\n",
    "# 3. 데이터 부풀리기(Augmentation)\n",
    "- 3-1. \n"
   ]
  },
  {
   "cell_type": "code",
   "execution_count": 1,
   "metadata": {
    "ExecuteTime": {
     "end_time": "2020-01-22T01:32:09.285569Z",
     "start_time": "2020-01-22T01:32:06.642829Z"
    }
   },
   "outputs": [
    {
     "name": "stderr",
     "output_type": "stream",
     "text": [
      "Using TensorFlow backend.\n"
     ]
    }
   ],
   "source": [
    "import matplotlib.pyplot as plt\n",
    "from sklearn.model_selection import train_test_split\n",
    "from keras.datasets import mnist\n",
    "from keras.models import Sequential\n",
    "from keras.utils.np_utils import to_categorical\n",
    "from keras.models import Sequential\n",
    "from keras.layers import Activation, Dense\n",
    "from keras import optimizers\n",
    "from keras.layers import Dropout\n",
    "import numpy as np\n",
    "from keras.wrappers.scikit_learn import KerasClassifier\n",
    "from sklearn.ensemble import VotingClassifier\n",
    "from sklearn.metrics import accuracy_score\n",
    "from keras.layers import BatchNormalization, Dense, Activation, Flatten, Conv2D, MaxPooling2D\n",
    "\n",
    "\n",
    "import cv2"
   ]
  },
  {
   "cell_type": "markdown",
   "metadata": {},
   "source": [
    "## 1-1. 도형준비"
   ]
  },
  {
   "cell_type": "code",
   "execution_count": 2,
   "metadata": {
    "ExecuteTime": {
     "end_time": "2020-01-22T01:32:09.304634Z",
     "start_time": "2020-01-22T01:32:09.287285Z"
    }
   },
   "outputs": [],
   "source": [
    "import os\n",
    "\n",
    "shapes = ['circle', 'rectangle', 'triangle']\n",
    "\n",
    "#학습셋\n",
    "X_train = []\n",
    "y_train = []\n",
    "\n",
    "for shape in shapes:\n",
    "    path = f\"./hard_handwriting_shape/train/{shape}\"\n",
    "    file_list = os.listdir(path)\n",
    "    file_path = [path + '/' + file for file in file_list if shape in file]\n",
    "    X_train.extend([cv2.imread(x, 0) for x in file_path])\n",
    "    y_train.extend([shapes.index(shape)] * len(file_path))\n",
    "    \n",
    "#테스트셋\n",
    "X_test =  []\n",
    "y_test = []\n",
    "\n",
    "for shape in shapes:\n",
    "    path = f\"./hard_handwriting_shape/test_easy/{shape}\"\n",
    "    file_list = os.listdir(path)\n",
    "    file_path = [path + '/' + file for file in file_list if shape in file]\n",
    "    X_test.extend([cv2.imread(x, 0) for x in file_path])\n",
    "    y_test.extend([shapes.index(shape)] * len(file_path))\n",
    "    \n",
    "#array로 바꾸기\n",
    "X_train = np.array(X_train)\n",
    "X_test = np.array(X_test)\n",
    "y_train = np.array(y_train)\n",
    "y_test = np.array(y_test)"
   ]
  },
  {
   "cell_type": "code",
   "execution_count": 3,
   "metadata": {
    "ExecuteTime": {
     "end_time": "2020-01-22T01:32:09.310226Z",
     "start_time": "2020-01-22T01:32:09.306188Z"
    }
   },
   "outputs": [
    {
     "data": {
      "text/plain": [
       "array([0, 0, 0, 0, 0, 0, 0, 0, 0, 0, 0, 0, 0, 0, 0, 1, 1, 1, 1, 1, 1, 1,\n",
       "       1, 1, 1, 1, 1, 1, 1, 1, 2, 2, 2, 2, 2, 2, 2, 2, 2, 2, 2, 2, 2, 2,\n",
       "       2])"
      ]
     },
     "execution_count": 3,
     "metadata": {},
     "output_type": "execute_result"
    }
   ],
   "source": [
    "y_train"
   ]
  },
  {
   "cell_type": "code",
   "execution_count": 4,
   "metadata": {
    "ExecuteTime": {
     "end_time": "2020-01-22T01:32:09.315227Z",
     "start_time": "2020-01-22T01:32:09.311177Z"
    }
   },
   "outputs": [
    {
     "name": "stdout",
     "output_type": "stream",
     "text": [
      "(45, 24, 24)\n",
      "(15, 24, 24)\n",
      "(45,)\n",
      "(15,)\n"
     ]
    }
   ],
   "source": [
    "print(X_train.shape)\n",
    "print(X_test.shape)\n",
    "print(y_train.shape)\n",
    "print(y_test.shape)"
   ]
  },
  {
   "cell_type": "markdown",
   "metadata": {},
   "source": [
    "## 1-2. 모델 구축하기"
   ]
  },
  {
   "cell_type": "code",
   "execution_count": 5,
   "metadata": {
    "ExecuteTime": {
     "end_time": "2020-01-22T01:32:09.610106Z",
     "start_time": "2020-01-22T01:32:09.316162Z"
    }
   },
   "outputs": [
    {
     "ename": "IndexError",
     "evalue": "tuple index out of range",
     "output_type": "error",
     "traceback": [
      "\u001b[1;31m---------------------------------------------------------------------------\u001b[0m",
      "\u001b[1;31mIndexError\u001b[0m                                Traceback (most recent call last)",
      "\u001b[1;32m<ipython-input-5-a2005d734728>\u001b[0m in \u001b[0;36m<module>\u001b[1;34m\u001b[0m\n\u001b[0;32m      2\u001b[0m \u001b[1;33m\u001b[0m\u001b[0m\n\u001b[0;32m      3\u001b[0m \u001b[1;31m#CNN의 차이점은 바로 input layer!!!\u001b[0m\u001b[1;33m\u001b[0m\u001b[1;33m\u001b[0m\u001b[1;33m\u001b[0m\u001b[0m\n\u001b[1;32m----> 4\u001b[1;33m model.add(Conv2D(input_shape = (X_train.shape[1], X_train.shape[2], X_train.shape[3]),\n\u001b[0m\u001b[0;32m      5\u001b[0m                  filters = 10, kernel_size = (3,3), strides = (1,1), padding = 'valid'))\n\u001b[0;32m      6\u001b[0m \u001b[1;33m\u001b[0m\u001b[0m\n",
      "\u001b[1;31mIndexError\u001b[0m: tuple index out of range"
     ]
    }
   ],
   "source": [
    "model = Sequential()\n",
    "\n",
    "#CNN의 차이점은 바로 input layer!!!\n",
    "model.add(Conv2D(input_shape = (X_train.shape[1], X_train.shape[2], X_train.shape[3]),\n",
    "                 filters = 10, kernel_size = (3,3), strides = (1,1), padding = 'valid'))\n",
    "\n",
    "model.add(Activation('relu'))\n",
    "model.add(MaxPooling2D(pool_size = (2,2)))\n",
    "\n",
    "model.add(Flatten())    #1차원화\n",
    "\n",
    "model.add(Dense(50, activation = 'relu'))\n",
    "model.add(Dense(10, activation = 'softmax'))\n",
    "\n",
    "adam = optimizers.Adam(lr = 0.001)\n",
    "\n",
    "model.compile(loss = 'categorical_crossentropy', optimizer = adam, metrics = ['accuracy'])"
   ]
  },
  {
   "cell_type": "markdown",
   "metadata": {},
   "source": [
    "4차원으로 바꾸는 걸 까먹었다."
   ]
  },
  {
   "cell_type": "code",
   "execution_count": 6,
   "metadata": {
    "ExecuteTime": {
     "end_time": "2020-01-22T01:32:19.095288Z",
     "start_time": "2020-01-22T01:32:19.091299Z"
    }
   },
   "outputs": [],
   "source": [
    "X_train = X_train.reshape(X_train.shape[0], X_train.shape[1], X_train.shape[2], -1)\n",
    "X_test = X_test.reshape(X_test.shape[0], X_test.shape[1], X_test.shape[2], -1)"
   ]
  },
  {
   "cell_type": "code",
   "execution_count": 7,
   "metadata": {
    "ExecuteTime": {
     "end_time": "2020-01-22T01:32:19.375226Z",
     "start_time": "2020-01-22T01:32:19.372292Z"
    }
   },
   "outputs": [
    {
     "name": "stdout",
     "output_type": "stream",
     "text": [
      "(45, 24, 24, 1)\n",
      "(15, 24, 24, 1)\n"
     ]
    }
   ],
   "source": [
    "print(X_train.shape)\n",
    "print(X_test.shape)"
   ]
  },
  {
   "cell_type": "code",
   "execution_count": 8,
   "metadata": {
    "ExecuteTime": {
     "end_time": "2020-01-22T01:32:19.621599Z",
     "start_time": "2020-01-22T01:32:19.546733Z"
    }
   },
   "outputs": [],
   "source": [
    "#모델 다시 만들기\n",
    "model = Sequential()\n",
    "\n",
    "#CNN의 차이점은 바로 input layer!!!\n",
    "model.add(Conv2D(input_shape = (X_train.shape[1], X_train.shape[2], X_train.shape[3]),\n",
    "                 filters = 10, kernel_size = (3,3), strides = (1,1), padding = 'valid'))\n",
    "model.add(Activation('relu'))\n",
    "\n",
    "model.add(Conv2D(filters = 10, kernel_size = (3,3), strides = (1,1), padding = 'valid'))\n",
    "model.add(Activation('relu'))\n",
    "model.add(MaxPooling2D(pool_size = (2,2)))\n",
    "\n",
    "model.add(Flatten())    #1차원화\n",
    "\n",
    "model.add(Dense(50, activation = 'relu'))\n",
    "model.add(Dense(10, activation = 'softmax'))\n",
    "\n",
    "adam = optimizers.Adam(lr = 0.001)\n",
    "\n",
    "model.compile(loss = 'categorical_crossentropy', optimizer = adam, metrics = ['accuracy'])"
   ]
  },
  {
   "cell_type": "code",
   "execution_count": 9,
   "metadata": {
    "ExecuteTime": {
     "end_time": "2020-01-22T01:32:19.910822Z",
     "start_time": "2020-01-22T01:32:19.905814Z"
    }
   },
   "outputs": [
    {
     "name": "stdout",
     "output_type": "stream",
     "text": [
      "Model: \"sequential_2\"\n",
      "_________________________________________________________________\n",
      "Layer (type)                 Output Shape              Param #   \n",
      "=================================================================\n",
      "conv2d_1 (Conv2D)            (None, 22, 22, 10)        100       \n",
      "_________________________________________________________________\n",
      "activation_1 (Activation)    (None, 22, 22, 10)        0         \n",
      "_________________________________________________________________\n",
      "conv2d_2 (Conv2D)            (None, 20, 20, 10)        910       \n",
      "_________________________________________________________________\n",
      "activation_2 (Activation)    (None, 20, 20, 10)        0         \n",
      "_________________________________________________________________\n",
      "max_pooling2d_1 (MaxPooling2 (None, 10, 10, 10)        0         \n",
      "_________________________________________________________________\n",
      "flatten_1 (Flatten)          (None, 1000)              0         \n",
      "_________________________________________________________________\n",
      "dense_1 (Dense)              (None, 50)                50050     \n",
      "_________________________________________________________________\n",
      "dense_2 (Dense)              (None, 10)                510       \n",
      "=================================================================\n",
      "Total params: 51,570\n",
      "Trainable params: 51,570\n",
      "Non-trainable params: 0\n",
      "_________________________________________________________________\n"
     ]
    }
   ],
   "source": [
    "model.summary()"
   ]
  },
  {
   "cell_type": "code",
   "execution_count": 10,
   "metadata": {
    "ExecuteTime": {
     "end_time": "2020-01-22T01:32:20.420733Z",
     "start_time": "2020-01-22T01:32:20.402729Z"
    }
   },
   "outputs": [
    {
     "ename": "ValueError",
     "evalue": "Error when checking target: expected dense_2 to have shape (10,) but got array with shape (1,)",
     "output_type": "error",
     "traceback": [
      "\u001b[1;31m---------------------------------------------------------------------------\u001b[0m",
      "\u001b[1;31mValueError\u001b[0m                                Traceback (most recent call last)",
      "\u001b[1;32m<ipython-input-10-6f83b8047e6d>\u001b[0m in \u001b[0;36m<module>\u001b[1;34m\u001b[0m\n\u001b[1;32m----> 1\u001b[1;33m \u001b[0mhistory\u001b[0m \u001b[1;33m=\u001b[0m \u001b[0mmodel\u001b[0m\u001b[1;33m.\u001b[0m\u001b[0mfit\u001b[0m\u001b[1;33m(\u001b[0m\u001b[0mX_train\u001b[0m\u001b[1;33m,\u001b[0m \u001b[0my_train\u001b[0m\u001b[1;33m,\u001b[0m \u001b[0mbatch_size\u001b[0m \u001b[1;33m=\u001b[0m \u001b[1;36m50\u001b[0m\u001b[1;33m,\u001b[0m \u001b[0mvalidation_split\u001b[0m \u001b[1;33m=\u001b[0m \u001b[1;36m0.2\u001b[0m\u001b[1;33m,\u001b[0m \u001b[0mepochs\u001b[0m \u001b[1;33m=\u001b[0m \u001b[1;36m100\u001b[0m\u001b[1;33m,\u001b[0m \u001b[0mverbose\u001b[0m \u001b[1;33m=\u001b[0m \u001b[1;36m0\u001b[0m\u001b[1;33m)\u001b[0m\u001b[1;33m\u001b[0m\u001b[1;33m\u001b[0m\u001b[0m\n\u001b[0m\u001b[0;32m      2\u001b[0m \u001b[1;33m\u001b[0m\u001b[0m\n\u001b[0;32m      3\u001b[0m \u001b[0mplt\u001b[0m\u001b[1;33m.\u001b[0m\u001b[0mplot\u001b[0m\u001b[1;33m(\u001b[0m\u001b[0mhistory\u001b[0m\u001b[1;33m.\u001b[0m\u001b[0mhistory\u001b[0m\u001b[1;33m[\u001b[0m\u001b[1;34m'accuracy'\u001b[0m\u001b[1;33m]\u001b[0m\u001b[1;33m)\u001b[0m\u001b[1;33m\u001b[0m\u001b[1;33m\u001b[0m\u001b[0m\n\u001b[0;32m      4\u001b[0m \u001b[0mplt\u001b[0m\u001b[1;33m.\u001b[0m\u001b[0mplot\u001b[0m\u001b[1;33m(\u001b[0m\u001b[0mhistory\u001b[0m\u001b[1;33m.\u001b[0m\u001b[0mhistory\u001b[0m\u001b[1;33m[\u001b[0m\u001b[1;34m'val_accuracy'\u001b[0m\u001b[1;33m]\u001b[0m\u001b[1;33m)\u001b[0m\u001b[1;33m\u001b[0m\u001b[1;33m\u001b[0m\u001b[0m\n\u001b[0;32m      5\u001b[0m \u001b[0mplt\u001b[0m\u001b[1;33m.\u001b[0m\u001b[0mlegend\u001b[0m\u001b[1;33m(\u001b[0m\u001b[1;33m[\u001b[0m\u001b[1;34m'training'\u001b[0m\u001b[1;33m,\u001b[0m \u001b[1;34m'validation'\u001b[0m\u001b[1;33m]\u001b[0m\u001b[1;33m,\u001b[0m \u001b[0mloc\u001b[0m \u001b[1;33m=\u001b[0m \u001b[1;34m'upper left'\u001b[0m\u001b[1;33m)\u001b[0m\u001b[1;33m\u001b[0m\u001b[1;33m\u001b[0m\u001b[0m\n",
      "\u001b[1;32m~\\Anaconda3\\lib\\site-packages\\keras\\engine\\training.py\u001b[0m in \u001b[0;36mfit\u001b[1;34m(self, x, y, batch_size, epochs, verbose, callbacks, validation_split, validation_data, shuffle, class_weight, sample_weight, initial_epoch, steps_per_epoch, validation_steps, validation_freq, max_queue_size, workers, use_multiprocessing, **kwargs)\u001b[0m\n\u001b[0;32m   1152\u001b[0m             \u001b[0msample_weight\u001b[0m\u001b[1;33m=\u001b[0m\u001b[0msample_weight\u001b[0m\u001b[1;33m,\u001b[0m\u001b[1;33m\u001b[0m\u001b[1;33m\u001b[0m\u001b[0m\n\u001b[0;32m   1153\u001b[0m             \u001b[0mclass_weight\u001b[0m\u001b[1;33m=\u001b[0m\u001b[0mclass_weight\u001b[0m\u001b[1;33m,\u001b[0m\u001b[1;33m\u001b[0m\u001b[1;33m\u001b[0m\u001b[0m\n\u001b[1;32m-> 1154\u001b[1;33m             batch_size=batch_size)\n\u001b[0m\u001b[0;32m   1155\u001b[0m \u001b[1;33m\u001b[0m\u001b[0m\n\u001b[0;32m   1156\u001b[0m         \u001b[1;31m# Prepare validation data.\u001b[0m\u001b[1;33m\u001b[0m\u001b[1;33m\u001b[0m\u001b[1;33m\u001b[0m\u001b[0m\n",
      "\u001b[1;32m~\\Anaconda3\\lib\\site-packages\\keras\\engine\\training.py\u001b[0m in \u001b[0;36m_standardize_user_data\u001b[1;34m(self, x, y, sample_weight, class_weight, check_array_lengths, batch_size)\u001b[0m\n\u001b[0;32m    619\u001b[0m                 \u001b[0mfeed_output_shapes\u001b[0m\u001b[1;33m,\u001b[0m\u001b[1;33m\u001b[0m\u001b[1;33m\u001b[0m\u001b[0m\n\u001b[0;32m    620\u001b[0m                 \u001b[0mcheck_batch_axis\u001b[0m\u001b[1;33m=\u001b[0m\u001b[1;32mFalse\u001b[0m\u001b[1;33m,\u001b[0m  \u001b[1;31m# Don't enforce the batch size.\u001b[0m\u001b[1;33m\u001b[0m\u001b[1;33m\u001b[0m\u001b[0m\n\u001b[1;32m--> 621\u001b[1;33m                 exception_prefix='target')\n\u001b[0m\u001b[0;32m    622\u001b[0m \u001b[1;33m\u001b[0m\u001b[0m\n\u001b[0;32m    623\u001b[0m             \u001b[1;31m# Generate sample-wise weight values given the `sample_weight` and\u001b[0m\u001b[1;33m\u001b[0m\u001b[1;33m\u001b[0m\u001b[1;33m\u001b[0m\u001b[0m\n",
      "\u001b[1;32m~\\Anaconda3\\lib\\site-packages\\keras\\engine\\training_utils.py\u001b[0m in \u001b[0;36mstandardize_input_data\u001b[1;34m(data, names, shapes, check_batch_axis, exception_prefix)\u001b[0m\n\u001b[0;32m    143\u001b[0m                             \u001b[1;34m': expected '\u001b[0m \u001b[1;33m+\u001b[0m \u001b[0mnames\u001b[0m\u001b[1;33m[\u001b[0m\u001b[0mi\u001b[0m\u001b[1;33m]\u001b[0m \u001b[1;33m+\u001b[0m \u001b[1;34m' to have shape '\u001b[0m \u001b[1;33m+\u001b[0m\u001b[1;33m\u001b[0m\u001b[1;33m\u001b[0m\u001b[0m\n\u001b[0;32m    144\u001b[0m                             \u001b[0mstr\u001b[0m\u001b[1;33m(\u001b[0m\u001b[0mshape\u001b[0m\u001b[1;33m)\u001b[0m \u001b[1;33m+\u001b[0m \u001b[1;34m' but got array with shape '\u001b[0m \u001b[1;33m+\u001b[0m\u001b[1;33m\u001b[0m\u001b[1;33m\u001b[0m\u001b[0m\n\u001b[1;32m--> 145\u001b[1;33m                             str(data_shape))\n\u001b[0m\u001b[0;32m    146\u001b[0m     \u001b[1;32mreturn\u001b[0m \u001b[0mdata\u001b[0m\u001b[1;33m\u001b[0m\u001b[1;33m\u001b[0m\u001b[0m\n\u001b[0;32m    147\u001b[0m \u001b[1;33m\u001b[0m\u001b[0m\n",
      "\u001b[1;31mValueError\u001b[0m: Error when checking target: expected dense_2 to have shape (10,) but got array with shape (1,)"
     ]
    }
   ],
   "source": [
    "history = model.fit(X_train, y_train, batch_size = 50, validation_split = 0.2, epochs = 100, verbose = 0)\n",
    "\n",
    "plt.plot(history.history['accuracy'])\n",
    "plt.plot(history.history['val_accuracy'])\n",
    "plt.legend(['training', 'validation'], loc = 'upper left')\n",
    "plt.show()\n",
    "\n",
    "results = model.evaluate(X_test, y_test)\n",
    "print('Test accuracy: ', results[1])"
   ]
  },
  {
   "cell_type": "markdown",
   "metadata": {},
   "source": [
    "라벨 one-hot encoding을 까먹었다."
   ]
  },
  {
   "cell_type": "code",
   "execution_count": 11,
   "metadata": {
    "ExecuteTime": {
     "end_time": "2020-01-22T01:32:21.862716Z",
     "start_time": "2020-01-22T01:32:21.858772Z"
    }
   },
   "outputs": [],
   "source": [
    "#one-hot encoding 해주기\n",
    "y_train = to_categorical(y_train)\n",
    "y_test = to_categorical(y_test)"
   ]
  },
  {
   "cell_type": "code",
   "execution_count": 12,
   "metadata": {
    "ExecuteTime": {
     "end_time": "2020-01-22T01:32:22.255257Z",
     "start_time": "2020-01-22T01:32:22.251314Z"
    }
   },
   "outputs": [
    {
     "name": "stdout",
     "output_type": "stream",
     "text": [
      "(45, 3)\n",
      "(15, 3)\n"
     ]
    }
   ],
   "source": [
    "print(y_train.shape)\n",
    "print(y_test.shape)"
   ]
  },
  {
   "cell_type": "markdown",
   "metadata": {},
   "source": [
    "## 1-3 모델 학습/평가하기"
   ]
  },
  {
   "cell_type": "code",
   "execution_count": 13,
   "metadata": {
    "ExecuteTime": {
     "end_time": "2020-01-22T01:32:28.864778Z",
     "start_time": "2020-01-22T01:32:23.522353Z"
    }
   },
   "outputs": [
    {
     "name": "stdout",
     "output_type": "stream",
     "text": [
      "Model: \"sequential_3\"\n",
      "_________________________________________________________________\n",
      "Layer (type)                 Output Shape              Param #   \n",
      "=================================================================\n",
      "conv2d_3 (Conv2D)            (None, 24, 24, 32)        320       \n",
      "_________________________________________________________________\n",
      "activation_3 (Activation)    (None, 24, 24, 32)        0         \n",
      "_________________________________________________________________\n",
      "conv2d_4 (Conv2D)            (None, 24, 24, 64)        18496     \n",
      "_________________________________________________________________\n",
      "activation_4 (Activation)    (None, 24, 24, 64)        0         \n",
      "_________________________________________________________________\n",
      "max_pooling2d_2 (MaxPooling2 (None, 12, 12, 64)        0         \n",
      "_________________________________________________________________\n",
      "flatten_2 (Flatten)          (None, 9216)              0         \n",
      "_________________________________________________________________\n",
      "dense_3 (Dense)              (None, 128)               1179776   \n",
      "_________________________________________________________________\n",
      "dense_4 (Dense)              (None, 3)                 387       \n",
      "=================================================================\n",
      "Total params: 1,198,979\n",
      "Trainable params: 1,198,979\n",
      "Non-trainable params: 0\n",
      "_________________________________________________________________\n"
     ]
    },
    {
     "data": {
      "image/png": "[encoded data removed]",
      "text/plain": [
       "<Figure size 432x288 with 1 Axes>"
      ]
     },
     "metadata": {
      "needs_background": "light"
     },
     "output_type": "display_data"
    },
    {
     "name": "stdout",
     "output_type": "stream",
     "text": [
      "15/15 [==============================] - 0s 198us/step\n",
      "Test accuracy:  0.9333333373069763\n"
     ]
    }
   ],
   "source": [
    "#모델을 다시 만들고 다시 돌린다.\n",
    "model = Sequential()\n",
    "\n",
    "model.add(Conv2D(input_shape = (X_train.shape[1], X_train.shape[2], X_train.shape[3]),\n",
    "                 filters = 32, kernel_size = (3,3), strides = (1,1), padding = 'same'))\n",
    "model.add(Activation('relu'))\n",
    "\n",
    "model.add(Conv2D(filters = 64, kernel_size = (3,3), strides = (1,1), padding = 'same'))\n",
    "model.add(Activation('relu'))\n",
    "model.add(MaxPooling2D(pool_size = (2,2)))\n",
    "\n",
    "model.add(Flatten())    #1차원화\n",
    "\n",
    "model.add(Dense(128, activation = 'relu'))\n",
    "model.add(Dense(3, activation = 'softmax'))    #클래스가 3개니까!!!!!\n",
    "\n",
    "adam = optimizers.Adam(lr = 0.001)\n",
    "\n",
    "model.compile(loss = 'categorical_crossentropy', optimizer = adam, metrics = ['accuracy'])\n",
    "\n",
    "#모델 확인하기\n",
    "model.summary()\n",
    "\n",
    "#학습시키기\n",
    "history = model.fit(X_train, y_train, batch_size = 15, validation_split = 0.3, epochs = 100, verbose = 0)\n",
    "\n",
    "#결과 확인\n",
    "plt.plot(history.history['accuracy'])\n",
    "plt.plot(history.history['val_accuracy'])\n",
    "plt.legend(['training', 'validation'], loc = 'upper left')\n",
    "plt.show()\n",
    "\n",
    "results = model.evaluate(X_test, y_test)\n",
    "print('Test accuracy: ', results[1])"
   ]
  },
  {
   "cell_type": "code",
   "execution_count": 14,
   "metadata": {
    "ExecuteTime": {
     "end_time": "2020-01-22T01:32:37.113404Z",
     "start_time": "2020-01-22T01:32:28.913677Z"
    },
    "scrolled": false
   },
   "outputs": [
    {
     "name": "stdout",
     "output_type": "stream",
     "text": [
      "Model: \"sequential_4\"\n",
      "_________________________________________________________________\n",
      "Layer (type)                 Output Shape              Param #   \n",
      "=================================================================\n",
      "conv2d_5 (Conv2D)            (None, 24, 24, 32)        320       \n",
      "_________________________________________________________________\n",
      "batch_normalization_1 (Batch (None, 24, 24, 32)        128       \n",
      "_________________________________________________________________\n",
      "activation_5 (Activation)    (None, 24, 24, 32)        0         \n",
      "_________________________________________________________________\n",
      "conv2d_6 (Conv2D)            (None, 24, 24, 64)        18496     \n",
      "_________________________________________________________________\n",
      "batch_normalization_2 (Batch (None, 24, 24, 64)        256       \n",
      "_________________________________________________________________\n",
      "activation_6 (Activation)    (None, 24, 24, 64)        0         \n",
      "_________________________________________________________________\n",
      "max_pooling2d_3 (MaxPooling2 (None, 12, 12, 64)        0         \n",
      "_________________________________________________________________\n",
      "flatten_3 (Flatten)          (None, 9216)              0         \n",
      "_________________________________________________________________\n",
      "dense_5 (Dense)              (None, 128)               1179776   \n",
      "_________________________________________________________________\n",
      "dropout_1 (Dropout)          (None, 128)               0         \n",
      "_________________________________________________________________\n",
      "dense_6 (Dense)              (None, 3)                 387       \n",
      "=================================================================\n",
      "Total params: 1,199,363\n",
      "Trainable params: 1,199,171\n",
      "Non-trainable params: 192\n",
      "_________________________________________________________________\n"
     ]
    },
    {
     "data": {
      "image/png": "[encoded data removed]",
      "text/plain": [
       "<Figure size 432x288 with 1 Axes>"
      ]
     },
     "metadata": {
      "needs_background": "light"
     },
     "output_type": "display_data"
    },
    {
     "name": "stdout",
     "output_type": "stream",
     "text": [
      "15/15 [==============================] - 0s 398us/step\n",
      "Test accuracy:  0.9333333373069763\n"
     ]
    }
   ],
   "source": [
    "#최적화 몇가지 추가한다: bath normalization, kernel initializer, dropout \n",
    "model = Sequential()\n",
    "\n",
    "model.add(Conv2D(input_shape = (X_train.shape[1], X_train.shape[2], X_train.shape[3]),\n",
    "                 filters = 32, kernel_size = (3,3), strides = (1,1), padding = 'same'))\n",
    "model.add(BatchNormalization())   #batch normalization 추가\n",
    "model.add(Activation('relu'))\n",
    "\n",
    "model.add(Conv2D(filters = 64, kernel_size = (3,3), strides = (1,1), padding = 'same'))\n",
    "model.add(BatchNormalization())\n",
    "model.add(Activation('relu'))\n",
    "model.add(MaxPooling2D(pool_size = (2,2)))\n",
    "\n",
    "model.add(Flatten())\n",
    "\n",
    "model.add(Dense(128, activation = 'relu', kernel_initializer='he_normal' ))\n",
    "model.add(Dropout(0.3))    #dropout 추가\n",
    "model.add(Dense(3, activation = 'softmax', kernel_initializer='he_normal'))\n",
    "\n",
    "adam = optimizers.Adam(lr = 0.001)\n",
    "\n",
    "model.compile(loss = 'categorical_crossentropy', optimizer = adam, metrics = ['accuracy'])\n",
    "\n",
    "#모델 확인하기\n",
    "model.summary()\n",
    "\n",
    "#학습시키기\n",
    "history = model.fit(X_train, y_train, batch_size = 15, validation_split = 0.3, epochs = 100, verbose = 0)\n",
    "\n",
    "#결과 확인\n",
    "plt.plot(history.history['accuracy'])\n",
    "plt.plot(history.history['val_accuracy'])\n",
    "plt.legend(['training', 'validation'], loc = 'upper left')\n",
    "plt.show()\n",
    "\n",
    "results = model.evaluate(X_test, y_test)\n",
    "print('Test accuracy: ', results[1])"
   ]
  },
  {
   "cell_type": "markdown",
   "metadata": {},
   "source": [
    "괜찮다.\n",
    "\n",
    "non-trainable parameter\n",
    "- 학습이 필요없는 파라미터\n",
    "- batch normalization에서 도출된 파라미터임\n",
    "- weight를 계산할 필요가 없는 파라미터 --> 해당 레이어를 출력해보면 weight가 없다."
   ]
  },
  {
   "cell_type": "code",
   "execution_count": 15,
   "metadata": {
    "ExecuteTime": {
     "end_time": "2020-01-22T01:32:43.021974Z",
     "start_time": "2020-01-22T01:32:37.160278Z"
    }
   },
   "outputs": [
    {
     "name": "stdout",
     "output_type": "stream",
     "text": [
      "Model: \"sequential_5\"\n",
      "_________________________________________________________________\n",
      "Layer (type)                 Output Shape              Param #   \n",
      "=================================================================\n",
      "conv2d_7 (Conv2D)            (None, 22, 22, 32)        320       \n",
      "_________________________________________________________________\n",
      "batch_normalization_3 (Batch (None, 22, 22, 32)        128       \n",
      "_________________________________________________________________\n",
      "activation_7 (Activation)    (None, 22, 22, 32)        0         \n",
      "_________________________________________________________________\n",
      "conv2d_8 (Conv2D)            (None, 20, 20, 64)        18496     \n",
      "_________________________________________________________________\n",
      "batch_normalization_4 (Batch (None, 20, 20, 64)        256       \n",
      "_________________________________________________________________\n",
      "activation_8 (Activation)    (None, 20, 20, 64)        0         \n",
      "_________________________________________________________________\n",
      "max_pooling2d_4 (MaxPooling2 (None, 10, 10, 64)        0         \n",
      "_________________________________________________________________\n",
      "flatten_4 (Flatten)          (None, 6400)              0         \n",
      "_________________________________________________________________\n",
      "dense_7 (Dense)              (None, 128)               819328    \n",
      "_________________________________________________________________\n",
      "dropout_2 (Dropout)          (None, 128)               0         \n",
      "_________________________________________________________________\n",
      "dense_8 (Dense)              (None, 3)                 387       \n",
      "=================================================================\n",
      "Total params: 838,915\n",
      "Trainable params: 838,723\n",
      "Non-trainable params: 192\n",
      "_________________________________________________________________\n"
     ]
    },
    {
     "data": {
      "image/png": "[encoded data removed]",
      "text/plain": [
       "<Figure size 432x288 with 1 Axes>"
      ]
     },
     "metadata": {
      "needs_background": "light"
     },
     "output_type": "display_data"
    },
    {
     "name": "stdout",
     "output_type": "stream",
     "text": [
      "15/15 [==============================] - 0s 266us/step\n",
      "Test accuracy:  0.9333333373069763\n"
     ]
    }
   ],
   "source": [
    "#패딩을 바꿔본다.\n",
    "model = Sequential()\n",
    "\n",
    "model.add(Conv2D(input_shape = (X_train.shape[1], X_train.shape[2], X_train.shape[3]),\n",
    "                 filters = 32, kernel_size = (3,3), strides = (1,1), padding = 'valid'))\n",
    "model.add(BatchNormalization())   #batch normalization 추가\n",
    "model.add(Activation('relu'))\n",
    "\n",
    "model.add(Conv2D(filters = 64, kernel_size = (3,3), strides = (1,1), padding = 'valid'))\n",
    "model.add(BatchNormalization())\n",
    "model.add(Activation('relu'))\n",
    "model.add(MaxPooling2D(pool_size = (2,2)))\n",
    "\n",
    "model.add(Flatten())\n",
    "\n",
    "model.add(Dense(128, activation = 'relu', kernel_initializer='he_normal' ))\n",
    "model.add(Dropout(0.3))    #dropout 추가\n",
    "model.add(Dense(3, activation = 'softmax', kernel_initializer='he_normal'))\n",
    "\n",
    "adam = optimizers.Adam(lr = 0.001)\n",
    "\n",
    "model.compile(loss = 'categorical_crossentropy', optimizer = adam, metrics = ['accuracy'])\n",
    "\n",
    "#모델 확인하기\n",
    "model.summary()\n",
    "\n",
    "#학습시키기\n",
    "history = model.fit(X_train, y_train, batch_size = 15, validation_split = 0.3, epochs = 100, verbose = 0)\n",
    "\n",
    "#결과 확인\n",
    "plt.plot(history.history['accuracy'])\n",
    "plt.plot(history.history['val_accuracy'])\n",
    "plt.legend(['training', 'validation'], loc = 'upper left')\n",
    "plt.show()\n",
    "\n",
    "results = model.evaluate(X_test, y_test)\n",
    "print('Test accuracy: ', results[1])"
   ]
  },
  {
   "cell_type": "markdown",
   "metadata": {},
   "source": [
    "딱히 차이가 없다."
   ]
  },
  {
   "cell_type": "code",
   "execution_count": 16,
   "metadata": {
    "ExecuteTime": {
     "end_time": "2020-01-22T01:32:43.088773Z",
     "start_time": "2020-01-22T01:32:43.069809Z"
    }
   },
   "outputs": [
    {
     "ename": "IndexError",
     "evalue": "too many indices for array",
     "output_type": "error",
     "traceback": [
      "\u001b[1;31m---------------------------------------------------------------------------\u001b[0m",
      "\u001b[1;31mIndexError\u001b[0m                                Traceback (most recent call last)",
      "\u001b[1;32m<ipython-input-16-a380942a152b>\u001b[0m in \u001b[0;36m<module>\u001b[1;34m\u001b[0m\n\u001b[0;32m      9\u001b[0m     \u001b[1;31m# '{0:03d}'.format(i+1) : {}에 format 메소드의 0번째 파라미터를 채워넣어라; 3자리의 숫자로 넣고, 빈자리는 0으로 채워라\u001b[0m\u001b[1;33m\u001b[0m\u001b[1;33m\u001b[0m\u001b[1;33m\u001b[0m\u001b[0m\n\u001b[0;32m     10\u001b[0m     \u001b[0mX_train\u001b[0m\u001b[1;33m[\u001b[0m\u001b[0mi\u001b[0m\u001b[1;33m,\u001b[0m \u001b[1;33m:\u001b[0m\u001b[1;33m,\u001b[0m \u001b[1;33m:\u001b[0m\u001b[1;33m]\u001b[0m \u001b[1;33m=\u001b[0m \u001b[0mimg\u001b[0m\u001b[1;33m\u001b[0m\u001b[1;33m\u001b[0m\u001b[0m\n\u001b[1;32m---> 11\u001b[1;33m     \u001b[0my_train\u001b[0m\u001b[1;33m[\u001b[0m\u001b[0mi\u001b[0m\u001b[1;33m,\u001b[0m \u001b[1;33m:\u001b[0m\u001b[1;33m,\u001b[0m \u001b[1;33m:\u001b[0m\u001b[1;33m]\u001b[0m \u001b[1;33m=\u001b[0m \u001b[1;36m0\u001b[0m\u001b[1;33m\u001b[0m\u001b[1;33m\u001b[0m\u001b[0m\n\u001b[0m\u001b[0;32m     12\u001b[0m \u001b[1;33m\u001b[0m\u001b[0m\n\u001b[0;32m     13\u001b[0m \u001b[1;32mfor\u001b[0m \u001b[0mi\u001b[0m \u001b[1;32min\u001b[0m \u001b[0mrange\u001b[0m\u001b[1;33m(\u001b[0m\u001b[1;36m15\u001b[0m\u001b[1;33m)\u001b[0m\u001b[1;33m:\u001b[0m\u001b[1;33m\u001b[0m\u001b[1;33m\u001b[0m\u001b[0m\n",
      "\u001b[1;31mIndexError\u001b[0m: too many indices for array"
     ]
    }
   ],
   "source": [
    "# 솔루션\n",
    "\n",
    "#학습셋\n",
    "X_train = np.zeros((15*3, 24, 24))\n",
    "y_train = np.zeros(15*3)\n",
    "\n",
    "for i in range(15):\n",
    "    img = cv2.imread('./hard_handwriting_shape/train/circle/circle{0:03d}.png'.format(i+1), 0)\n",
    "    # '{0:03d}'.format(i+1) : {}에 format 메소드의 0번째 파라미터를 채워넣어라; 3자리의 숫자로 넣고, 빈자리는 0으로 채워라\n",
    "    X_train[i, :, :] = img\n",
    "    y_train[i, :, :] = 0\n",
    "    \n",
    "for i in range(15):\n",
    "    img = cv2.imread('./hard_handwriting_shape/train/rectangle/rectangle{0:03d}.png'.format(i+1), 0)\n",
    "    X_train[15+i, :, :] = img\n",
    "    y_train[15+i, :, :] = 0\n",
    "    \n",
    "for i in range(15):\n",
    "    img = cv2.imread('./hard_handwriting_shape/train/triangle/triangle{0:03d}.png'.format(i+1), 0)\n",
    "    X_train[30+i, :, :] = img\n",
    "    y_train[30+i, :, :] = 0\n",
    "    \n",
    "#테스트셋\n",
    "X_test = np.zeros((5*3, 24, 24))\n",
    "y_test = np.zeros(5*3)\n",
    "\n",
    "for i in range(5):\n",
    "    img = cv2.imread('./hard_handwriting_shape/test_easy/circle/circle{0:03d}.png'.format(i+1), 0)\n",
    "    X_test[i, :, :] = img\n",
    "    y_test[i, :, :] = 0\n",
    "    \n",
    "for i in range(5):\n",
    "    img = cv2.imread('./hard_handwriting_shape/test_easy/rectangle/rectangle{0:03d}.png'.format(i+1), 0)\n",
    "    X_test[15+i, :, :] = img\n",
    "    y_test[15+i, :, :] = 0\n",
    "    \n",
    "for i in range(5):\n",
    "    img = cv2.imread('./hard_handwriting_shape/test_easy/triangle/triangle{0:03d}.png'.format(i+1), 0)\n",
    "    X_test[30+i, :, :] = img\n",
    "    y_test[30+i, :, :] = 0"
   ]
  },
  {
   "cell_type": "markdown",
   "metadata": {},
   "source": [
    "# 어려운 데이터로 한번 더 한다."
   ]
  },
  {
   "cell_type": "code",
   "execution_count": 17,
   "metadata": {
    "ExecuteTime": {
     "end_time": "2020-01-22T01:34:40.750172Z",
     "start_time": "2020-01-22T01:34:40.732170Z"
    }
   },
   "outputs": [],
   "source": [
    "import os\n",
    "\n",
    "shapes = ['circle', 'rectangle', 'triangle']\n",
    "\n",
    "#학습셋\n",
    "X_train = []\n",
    "y_train = []\n",
    "\n",
    "for shape in shapes:\n",
    "    path = f\"./hard_handwriting_shape/train/{shape}\"\n",
    "    file_list = os.listdir(path)\n",
    "    file_path = [path + '/' + file for file in file_list if shape in file]\n",
    "    X_train.extend([cv2.imread(x, 0) for x in file_path])\n",
    "    y_train.extend([shapes.index(shape)] * len(file_path))\n",
    "    \n",
    "#테스트셋\n",
    "X_test =  []\n",
    "y_test = []\n",
    "\n",
    "for shape in shapes:\n",
    "    path = f\"./hard_handwriting_shape/test/{shape}\"\n",
    "    file_list = os.listdir(path)\n",
    "    file_path = [path + '/' + file for file in file_list if shape in file]\n",
    "    X_test.extend([cv2.imread(x, 0) for x in file_path])\n",
    "    y_test.extend([shapes.index(shape)] * len(file_path))\n",
    "    \n",
    "#array로 바꾸기\n",
    "X_train = np.array(X_train)\n",
    "X_test = np.array(X_test)\n",
    "y_train = np.array(y_train)\n",
    "y_test = np.array(y_test)"
   ]
  },
  {
   "cell_type": "code",
   "execution_count": 19,
   "metadata": {
    "ExecuteTime": {
     "end_time": "2020-01-22T01:35:50.327642Z",
     "start_time": "2020-01-22T01:35:50.323674Z"
    }
   },
   "outputs": [],
   "source": [
    "#데이터 전처리\n",
    "\n",
    "#4차원 변환\n",
    "X_train = X_train.reshape(X_train.shape[0], X_train.shape[1], X_train.shape[2], -1)\n",
    "X_test = X_test.reshape(X_test.shape[0], X_test.shape[1], X_test.shape[2], -1)\n",
    "\n",
    "#one-hot encoding\n",
    "y_train = to_categorical(y_train)\n",
    "y_test = to_categorical(y_test)"
   ]
  },
  {
   "cell_type": "code",
   "execution_count": 23,
   "metadata": {
    "ExecuteTime": {
     "end_time": "2020-01-22T01:38:53.454569Z",
     "start_time": "2020-01-22T01:38:47.396493Z"
    }
   },
   "outputs": [
    {
     "name": "stdout",
     "output_type": "stream",
     "text": [
      "Model: \"sequential_9\"\n",
      "_________________________________________________________________\n",
      "Layer (type)                 Output Shape              Param #   \n",
      "=================================================================\n",
      "conv2d_13 (Conv2D)           (None, 22, 22, 32)        320       \n",
      "_________________________________________________________________\n",
      "batch_normalization_10 (Batc (None, 22, 22, 32)        128       \n",
      "_________________________________________________________________\n",
      "activation_13 (Activation)   (None, 22, 22, 32)        0         \n",
      "_________________________________________________________________\n",
      "conv2d_14 (Conv2D)           (None, 20, 20, 64)        18496     \n",
      "_________________________________________________________________\n",
      "batch_normalization_11 (Batc (None, 20, 20, 64)        256       \n",
      "_________________________________________________________________\n",
      "activation_14 (Activation)   (None, 20, 20, 64)        0         \n",
      "_________________________________________________________________\n",
      "max_pooling2d_7 (MaxPooling2 (None, 10, 10, 64)        0         \n",
      "_________________________________________________________________\n",
      "flatten_7 (Flatten)          (None, 6400)              0         \n",
      "_________________________________________________________________\n",
      "dense_12 (Dense)             (None, 128)               819328    \n",
      "_________________________________________________________________\n",
      "batch_normalization_12 (Batc (None, 128)               512       \n",
      "_________________________________________________________________\n",
      "activation_15 (Activation)   (None, 128)               0         \n",
      "_________________________________________________________________\n",
      "dropout_4 (Dropout)          (None, 128)               0         \n",
      "_________________________________________________________________\n",
      "dense_13 (Dense)             (None, 3)                 387       \n",
      "=================================================================\n",
      "Total params: 839,427\n",
      "Trainable params: 838,979\n",
      "Non-trainable params: 448\n",
      "_________________________________________________________________\n"
     ]
    },
    {
     "data": {
      "image/png": "[encoded data removed]",
      "text/plain": [
       "<Figure size 432x288 with 1 Axes>"
      ]
     },
     "metadata": {
      "needs_background": "light"
     },
     "output_type": "display_data"
    },
    {
     "name": "stdout",
     "output_type": "stream",
     "text": [
      "15/15 [==============================] - 0s 266us/step\n",
      "Test accuracy:  0.3333333432674408\n"
     ]
    }
   ],
   "source": [
    "#모델 구축/학습/분류/평가\n",
    "model = Sequential()\n",
    "\n",
    "model.add(Conv2D(input_shape = (X_train.shape[1], X_train.shape[2], X_train.shape[3]),\n",
    "                 filters = 32, kernel_size = (3,3), strides = (1,1), padding = 'valid'))\n",
    "model.add(BatchNormalization())\n",
    "model.add(Activation('relu'))\n",
    "\n",
    "model.add(Conv2D(filters = 64, kernel_size = (3,3), strides = (1,1), padding = 'valid'))\n",
    "model.add(BatchNormalization())\n",
    "model.add(Activation('relu'))\n",
    "model.add(MaxPooling2D(pool_size = (2,2)))\n",
    "\n",
    "model.add(Flatten())\n",
    "\n",
    "model.add(Dense(128))\n",
    "model.add(BatchNormalization())\n",
    "model.add(Activation('relu'))\n",
    "model.add(Dropout(0.3))\n",
    "model.add(Dense(3, activation = 'softmax', kernel_initializer='he_normal'))\n",
    "\n",
    "adam = optimizers.Adam(lr = 0.001)\n",
    "\n",
    "model.compile(loss = 'categorical_crossentropy', optimizer = adam, metrics = ['accuracy'])\n",
    "\n",
    "#모델 확인하기\n",
    "model.summary()\n",
    "\n",
    "#학습시키기\n",
    "history = model.fit(X_train, y_train, batch_size = 15, validation_split = 0.3, epochs = 100, verbose = 0)\n",
    "\n",
    "#결과 확인\n",
    "plt.plot(history.history['accuracy'])\n",
    "plt.plot(history.history['val_accuracy'])\n",
    "plt.legend(['training', 'validation'], loc = 'upper left')\n",
    "plt.show()\n",
    "\n",
    "results = model.evaluate(X_test, y_test)\n",
    "print('Test accuracy: ', results[1])"
   ]
  },
  {
   "cell_type": "markdown",
   "metadata": {},
   "source": [
    "성능이 많이 떨어졌다."
   ]
  },
  {
   "cell_type": "code",
   "execution_count": 24,
   "metadata": {
    "ExecuteTime": {
     "end_time": "2020-01-22T01:39:36.891109Z",
     "start_time": "2020-01-22T01:39:30.523610Z"
    }
   },
   "outputs": [
    {
     "name": "stdout",
     "output_type": "stream",
     "text": [
      "Model: \"sequential_10\"\n",
      "_________________________________________________________________\n",
      "Layer (type)                 Output Shape              Param #   \n",
      "=================================================================\n",
      "conv2d_15 (Conv2D)           (None, 22, 22, 32)        320       \n",
      "_________________________________________________________________\n",
      "batch_normalization_13 (Batc (None, 22, 22, 32)        128       \n",
      "_________________________________________________________________\n",
      "activation_16 (Activation)   (None, 22, 22, 32)        0         \n",
      "_________________________________________________________________\n",
      "conv2d_16 (Conv2D)           (None, 20, 20, 64)        18496     \n",
      "_________________________________________________________________\n",
      "batch_normalization_14 (Batc (None, 20, 20, 64)        256       \n",
      "_________________________________________________________________\n",
      "activation_17 (Activation)   (None, 20, 20, 64)        0         \n",
      "_________________________________________________________________\n",
      "max_pooling2d_8 (MaxPooling2 (None, 10, 10, 64)        0         \n",
      "_________________________________________________________________\n",
      "flatten_8 (Flatten)          (None, 6400)              0         \n",
      "_________________________________________________________________\n",
      "dense_14 (Dense)             (None, 128)               819328    \n",
      "_________________________________________________________________\n",
      "batch_normalization_15 (Batc (None, 128)               512       \n",
      "_________________________________________________________________\n",
      "activation_18 (Activation)   (None, 128)               0         \n",
      "_________________________________________________________________\n",
      "dropout_5 (Dropout)          (None, 128)               0         \n",
      "_________________________________________________________________\n",
      "dense_15 (Dense)             (None, 64)                8256      \n",
      "_________________________________________________________________\n",
      "batch_normalization_16 (Batc (None, 64)                256       \n",
      "_________________________________________________________________\n",
      "activation_19 (Activation)   (None, 64)                0         \n",
      "_________________________________________________________________\n",
      "dense_16 (Dense)             (None, 3)                 195       \n",
      "=================================================================\n",
      "Total params: 847,747\n",
      "Trainable params: 847,171\n",
      "Non-trainable params: 576\n",
      "_________________________________________________________________\n"
     ]
    },
    {
     "data": {
      "image/png": "[encoded data removed]",
      "text/plain": [
       "<Figure size 432x288 with 1 Axes>"
      ]
     },
     "metadata": {
      "needs_background": "light"
     },
     "output_type": "display_data"
    },
    {
     "name": "stdout",
     "output_type": "stream",
     "text": [
      "15/15 [==============================] - 0s 266us/step\n",
      "Test accuracy:  0.3333333432674408\n"
     ]
    }
   ],
   "source": [
    "#층을 추가해보자\n",
    "model = Sequential()\n",
    "\n",
    "model.add(Conv2D(input_shape = (X_train.shape[1], X_train.shape[2], X_train.shape[3]),\n",
    "                 filters = 32, kernel_size = (3,3), strides = (1,1), padding = 'valid'))\n",
    "model.add(BatchNormalization())\n",
    "model.add(Activation('relu'))\n",
    "\n",
    "model.add(Conv2D(filters = 64, kernel_size = (3,3), strides = (1,1), padding = 'valid'))\n",
    "model.add(BatchNormalization())\n",
    "model.add(Activation('relu'))\n",
    "model.add(MaxPooling2D(pool_size = (2,2)))\n",
    "\n",
    "model.add(Flatten())\n",
    "\n",
    "model.add(Dense(128))\n",
    "model.add(BatchNormalization())\n",
    "model.add(Activation('relu'))\n",
    "model.add(Dropout(0.3))\n",
    "\n",
    "model.add(Dense(64))        #이 층을 추가했다.\n",
    "model.add(BatchNormalization())\n",
    "model.add(Activation('relu'))\n",
    "\n",
    "model.add(Dense(3, activation = 'softmax', kernel_initializer='he_normal'))\n",
    "\n",
    "adam = optimizers.Adam(lr = 0.001)\n",
    "\n",
    "model.compile(loss = 'categorical_crossentropy', optimizer = adam, metrics = ['accuracy'])\n",
    "\n",
    "#모델 확인하기\n",
    "model.summary()\n",
    "\n",
    "#학습시키기\n",
    "history = model.fit(X_train, y_train, batch_size = 15, validation_split = 0.3, epochs = 100, verbose = 0)\n",
    "\n",
    "#결과 확인\n",
    "plt.plot(history.history['accuracy'])\n",
    "plt.plot(history.history['val_accuracy'])\n",
    "plt.legend(['training', 'validation'], loc = 'upper left')\n",
    "plt.show()\n",
    "\n",
    "results = model.evaluate(X_test, y_test)\n",
    "print('Test accuracy: ', results[1])"
   ]
  },
  {
   "cell_type": "markdown",
   "metadata": {},
   "source": [
    "딱히 개선되지 않는다.\n",
    "\n",
    "인식률이 0.33으로 계속 비슷하게 나오는 이유 == 항상 틀리는 것만 틀리기 때문\n",
    "\n",
    "## 어떻게 해결해야할까?\n",
    "근본적으로 네트워크 문제가 아니다.\n",
    "\n",
    "(트레인 데이터를 왜곡한다.)\n",
    "\n",
    "# 2. 성능 개선하기\n",
    "\n",
    "## 2-1. 모델 뜯어보기\n",
    "\n",
    "실제로 계산된 weight를 눈으로 확인하면서 무엇이 문제인지 확인해보자.\n",
    "- model도 하나의 객체이기 때문에 속성값을 갖고 있다.\n",
    "    - `모델.layers`\n",
    "        - 모델을 구성하고 있는 레이어들을 요소로 갖는 **리스트**를 반환\n",
    "        - `레이어.name`\n",
    "            - 해당 레이어의 이름을 리턴한다.\n",
    "        - `레이어.get_weights()`\n",
    "            - 해당 레이어의 weight와 bias를 리턴한다.\n",
    "            - `w[0]`: weight\n",
    "            - `w[1]`: bias\n",
    "        - `레이어.output`\n",
    "            - 해당 레이어의 출력값을 반환; wx + b값"
   ]
  },
  {
   "cell_type": "code",
   "execution_count": 29,
   "metadata": {
    "ExecuteTime": {
     "end_time": "2020-01-22T02:14:58.247331Z",
     "start_time": "2020-01-22T02:14:58.242408Z"
    }
   },
   "outputs": [
    {
     "data": {
      "text/plain": [
       "[<keras.layers.convolutional.Conv2D at 0x21c093ad0c8>,\n",
       " <keras.layers.normalization.BatchNormalization at 0x21c093add08>,\n",
       " <keras.layers.core.Activation at 0x21c0b8db408>,\n",
       " <keras.layers.convolutional.Conv2D at 0x21c0b8db988>,\n",
       " <keras.layers.normalization.BatchNormalization at 0x21c093b7bc8>,\n",
       " <keras.layers.core.Activation at 0x21c093eee88>,\n",
       " <keras.layers.pooling.MaxPooling2D at 0x21c093fd108>,\n",
       " <keras.layers.core.Flatten at 0x21c09411c48>,\n",
       " <keras.layers.core.Dense at 0x21c09425c08>,\n",
       " <keras.layers.normalization.BatchNormalization at 0x21c0942d088>,\n",
       " <keras.layers.core.Activation at 0x21c09433b48>,\n",
       " <keras.layers.core.Dropout at 0x21c0942dbc8>,\n",
       " <keras.layers.core.Dense at 0x21c0945b748>,\n",
       " <keras.layers.normalization.BatchNormalization at 0x21c0945bd88>,\n",
       " <keras.layers.core.Activation at 0x21c0945bac8>,\n",
       " <keras.layers.core.Dense at 0x21c0945bfc8>]"
      ]
     },
     "execution_count": 29,
     "metadata": {},
     "output_type": "execute_result"
    }
   ],
   "source": [
    "model.layers"
   ]
  },
  {
   "cell_type": "code",
   "execution_count": 33,
   "metadata": {
    "ExecuteTime": {
     "end_time": "2020-01-22T02:17:59.027334Z",
     "start_time": "2020-01-22T02:17:59.022292Z"
    }
   },
   "outputs": [
    {
     "name": "stdout",
     "output_type": "stream",
     "text": [
      "conv2d_15\n",
      "batch_normalization_13\n",
      "activation_16\n",
      "conv2d_16\n",
      "batch_normalization_14\n",
      "activation_17\n",
      "max_pooling2d_8\n",
      "flatten_8\n",
      "dense_14\n",
      "batch_normalization_15\n",
      "activation_18\n",
      "dropout_5\n",
      "dense_15\n",
      "batch_normalization_16\n",
      "activation_19\n",
      "dense_16\n"
     ]
    }
   ],
   "source": [
    "for l in model.layers:\n",
    "    print(l.name)    #각 레이어의 이름 출력"
   ]
  },
  {
   "cell_type": "code",
   "execution_count": 35,
   "metadata": {
    "ExecuteTime": {
     "end_time": "2020-01-22T02:18:15.358736Z",
     "start_time": "2020-01-22T02:18:15.354728Z"
    }
   },
   "outputs": [
    {
     "name": "stdout",
     "output_type": "stream",
     "text": [
      "(3, 3, 1, 32)\n",
      "(32,)\n"
     ]
    }
   ],
   "source": [
    "w = model.layers[0].get_weights()    #0번째 레이어의 weight값 리턴\n",
    "print(w[0].shape)    #필터 weight\n",
    "print(w[1].shape)    #바이어스"
   ]
  },
  {
   "cell_type": "markdown",
   "metadata": {},
   "source": [
    "3 * 3 필터가 32개 있기 때문에 위와 같은 값이 출력된다."
   ]
  },
  {
   "cell_type": "code",
   "execution_count": 45,
   "metadata": {
    "ExecuteTime": {
     "end_time": "2020-01-22T02:38:15.150540Z",
     "start_time": "2020-01-22T02:38:15.145529Z"
    }
   },
   "outputs": [
    {
     "name": "stdout",
     "output_type": "stream",
     "text": [
      "[[ 0.12639287  0.06010088 -0.07203404]\n",
      " [ 0.07878254 -0.077664    0.06688038]\n",
      " [-0.09887184  0.02531194 -0.06547181]]\n",
      "[[ 0.00417639  0.13769932  0.05842807]\n",
      " [-0.11849122 -0.10152902 -0.00888197]\n",
      " [ 0.14137731  0.11752501 -0.1096666 ]]\n",
      "-----------------------------------------------\n",
      "4.9530176e-05\n",
      "5.921685e-06\n"
     ]
    }
   ],
   "source": [
    "print(w[0][:, :, 0, 0])   #0번째 필터 weight\n",
    "print(w[0][:, :, 0, 1])   #1번째 필터 weight\n",
    "\n",
    "print('-----------------------------------------------')\n",
    "\n",
    "print(w[1][0])            #0번째 필터 bias\n",
    "print(w[1][1])            #1번째 필터 bias"
   ]
  },
  {
   "cell_type": "code",
   "execution_count": 42,
   "metadata": {
    "ExecuteTime": {
     "end_time": "2020-01-22T02:31:34.198789Z",
     "start_time": "2020-01-22T02:31:34.193803Z"
    }
   },
   "outputs": [
    {
     "data": {
      "text/plain": [
       "<tf.Tensor 'conv2d_15/BiasAdd:0' shape=(None, 22, 22, 32) dtype=float32>"
      ]
     },
     "execution_count": 42,
     "metadata": {},
     "output_type": "execute_result"
    }
   ],
   "source": [
    "model.layers[0].output   #0번째 레이어의 출력값 리턴"
   ]
  },
  {
   "cell_type": "markdown",
   "metadata": {},
   "source": [
    "## 2-2. 중간 결과 출력해보기\n",
    "중간 결과를 출력해보기 위해서는 별도의 모델을 만들어야한다.\n",
    "- my_layer_model = Model(inputs, outputs)\n",
    "\n",
    "- 모델 생성 후 `predict` 메소드를 활용해서 중간 결과를 출력할 수 있다.\n",
    "    - `predict` 메소드를 쓰기는 하지만, 학습시키는 것이라기보다는 데이터를 쭉 흘려보내서 계산을 해달라는 것으로 생각하면 된다.\n",
    "    "
   ]
  },
  {
   "cell_type": "code",
   "execution_count": 57,
   "metadata": {
    "ExecuteTime": {
     "end_time": "2020-01-22T04:40:09.778932Z",
     "start_time": "2020-01-22T04:40:09.773936Z"
    }
   },
   "outputs": [
    {
     "name": "stdout",
     "output_type": "stream",
     "text": [
      "Model: \"sequential_10\"\n",
      "_________________________________________________________________\n",
      "Layer (type)                 Output Shape              Param #   \n",
      "=================================================================\n",
      "conv2d_15 (Conv2D)           (None, 22, 22, 32)        320       \n",
      "_________________________________________________________________\n",
      "batch_normalization_13 (Batc (None, 22, 22, 32)        128       \n",
      "_________________________________________________________________\n",
      "activation_16 (Activation)   (None, 22, 22, 32)        0         \n",
      "_________________________________________________________________\n",
      "conv2d_16 (Conv2D)           (None, 20, 20, 64)        18496     \n",
      "_________________________________________________________________\n",
      "batch_normalization_14 (Batc (None, 20, 20, 64)        256       \n",
      "_________________________________________________________________\n",
      "activation_17 (Activation)   (None, 20, 20, 64)        0         \n",
      "_________________________________________________________________\n",
      "max_pooling2d_8 (MaxPooling2 (None, 10, 10, 64)        0         \n",
      "_________________________________________________________________\n",
      "flatten_8 (Flatten)          (None, 6400)              0         \n",
      "_________________________________________________________________\n",
      "dense_14 (Dense)             (None, 128)               819328    \n",
      "_________________________________________________________________\n",
      "batch_normalization_15 (Batc (None, 128)               512       \n",
      "_________________________________________________________________\n",
      "activation_18 (Activation)   (None, 128)               0         \n",
      "_________________________________________________________________\n",
      "dropout_5 (Dropout)          (None, 128)               0         \n",
      "_________________________________________________________________\n",
      "dense_15 (Dense)             (None, 64)                8256      \n",
      "_________________________________________________________________\n",
      "batch_normalization_16 (Batc (None, 64)                256       \n",
      "_________________________________________________________________\n",
      "activation_19 (Activation)   (None, 64)                0         \n",
      "_________________________________________________________________\n",
      "dense_16 (Dense)             (None, 3)                 195       \n",
      "=================================================================\n",
      "Total params: 847,747\n",
      "Trainable params: 847,171\n",
      "Non-trainable params: 576\n",
      "_________________________________________________________________\n"
     ]
    }
   ],
   "source": [
    "model.summary()"
   ]
  },
  {
   "cell_type": "code",
   "execution_count": 52,
   "metadata": {
    "ExecuteTime": {
     "end_time": "2020-01-22T04:32:59.999538Z",
     "start_time": "2020-01-22T04:32:59.985514Z"
    }
   },
   "outputs": [
    {
     "name": "stdout",
     "output_type": "stream",
     "text": [
      "(15, 22, 22, 32)\n"
     ]
    }
   ],
   "source": [
    "from keras.models import Model\n",
    "\n",
    "my_layer_model = Model(inputs = model.input,\n",
    "                      outputs = model.layers[0].output)   #0번 레이어의 아웃풋을 보기 위해\n",
    "output = my_layer_model.predict(X_test)\n",
    "print(output.shape)"
   ]
  },
  {
   "cell_type": "markdown",
   "metadata": {},
   "source": [
    "15개 output, 이미지 w(22), 이미지 h(22), 32개 필터"
   ]
  },
  {
   "cell_type": "code",
   "execution_count": 60,
   "metadata": {
    "ExecuteTime": {
     "end_time": "2020-01-22T04:42:27.471798Z",
     "start_time": "2020-01-22T04:42:27.109649Z"
    }
   },
   "outputs": [
    {
     "data": {
      "image/png": "[encoded data removed]",
      "text/plain": [
       "<Figure size 432x288 with 1 Axes>"
      ]
     },
     "metadata": {
      "needs_background": "light"
     },
     "output_type": "display_data"
    },
    {
     "data": {
      "image/png": "[encoded data removed]",
      "text/plain": [
       "<Figure size 432x288 with 1 Axes>"
      ]
     },
     "metadata": {
      "needs_background": "light"
     },
     "output_type": "display_data"
    },
    {
     "data": {
      "image/png": "[encoded data removed]",
      "text/plain": [
       "<Figure size 432x288 with 1 Axes>"
      ]
     },
     "metadata": {
      "needs_background": "light"
     },
     "output_type": "display_data"
    }
   ],
   "source": [
    "iFilter = 5\n",
    "iImg = 1\n",
    "\n",
    "#원본 이미지 출력\n",
    "plt.imshow(X_test[iImg, :, :, 0], cmap = 'gray')   #1번 이미지, 0번 채널\n",
    "plt.show()\n",
    "\n",
    "#필터\n",
    "w = model.layers[0].get_weights()     #0번 레이어\n",
    "w = w[0]                              #weight\n",
    "f = w[:, :, 0, iFilter]               #5번 필터\n",
    "plt.imshow(f, cmap = 'gray')\n",
    "plt.show()\n",
    "\n",
    "#필터 적용\n",
    "plt.imshow(output[iImg, :, :, iFilter], cmap = 'gray')   #1번 이미지에 5번 필터\n",
    "plt.show()"
   ]
  },
  {
   "cell_type": "markdown",
   "metadata": {},
   "source": [
    "### 2-2-1. Flatten layer의 출력값 확인하기\n",
    "\n",
    "- flatten layer에서 **특징 추출**이 이루어지기 때문에 flatten layer의 출력값을 자주 확인하게 될 것.\n",
    "\n",
    "- `get_layer` 메소드를 써서 레이어의 이름으로 레이어에 접근할 수 있다."
   ]
  },
  {
   "cell_type": "code",
   "execution_count": 80,
   "metadata": {
    "ExecuteTime": {
     "end_time": "2020-01-22T04:54:08.109147Z",
     "start_time": "2020-01-22T04:54:08.045219Z"
    }
   },
   "outputs": [
    {
     "name": "stdout",
     "output_type": "stream",
     "text": [
      "(15, 6400)\n",
      "[[0.         2.4374456  0.51140547 ... 0.5203948  0.         0.23098007]\n",
      " [0.         0.         0.8209227  ... 0.5203948  0.         0.23098007]\n",
      " [0.         0.         0.15982687 ... 0.5203948  0.         0.23098007]\n",
      " ...\n",
      " [0.         0.         0.15982687 ... 0.5203948  0.         0.23098007]\n",
      " [0.         0.         0.15982687 ... 0.5203948  0.         0.23098007]\n",
      " [0.         0.         0.15982687 ... 0.53686166 0.68517953 0.7417007 ]]\n"
     ]
    }
   ],
   "source": [
    "flatten_layer_model = Model(inputs = model.input,\n",
    "                           outputs = model.get_layer(\"flatten_8\").output)\n",
    "\n",
    "output = flatten_layer_model.predict(X_test)   #예측함수 아님!!\n",
    "\n",
    "print(output.shape)\n",
    "print(output)"
   ]
  },
  {
   "cell_type": "code",
   "execution_count": 76,
   "metadata": {
    "ExecuteTime": {
     "end_time": "2020-01-22T04:49:57.890815Z",
     "start_time": "2020-01-22T04:49:57.885845Z"
    }
   },
   "outputs": [
    {
     "data": {
      "text/plain": [
       "[]"
      ]
     },
     "execution_count": 76,
     "metadata": {},
     "output_type": "execute_result"
    }
   ],
   "source": [
    "model.get_layer('flatten_8').get_weights()"
   ]
  },
  {
   "cell_type": "markdown",
   "metadata": {},
   "source": [
    "flatten layer는 단순히 1차원화 해주는 층이기 때문에 계산된 weight가 따로 없다."
   ]
  },
  {
   "cell_type": "markdown",
   "metadata": {},
   "source": [
    "### 2-2-2. Output layer의 출력값 확인하기"
   ]
  },
  {
   "cell_type": "code",
   "execution_count": 82,
   "metadata": {
    "ExecuteTime": {
     "end_time": "2020-01-22T04:58:45.067227Z",
     "start_time": "2020-01-22T04:58:44.957557Z"
    }
   },
   "outputs": [
    {
     "name": "stdout",
     "output_type": "stream",
     "text": [
      "(15, 3)\n",
      "[[3.4532398e-02 9.8735526e-02 8.6673206e-01]\n",
      " [8.0481641e-02 4.0645432e-02 8.7887287e-01]\n",
      " [1.3411517e-03 6.1762142e-03 9.9248260e-01]\n",
      " [6.7449466e-04 7.1042211e-04 9.9861503e-01]\n",
      " [5.2359897e-05 7.2729890e-05 9.9987495e-01]\n",
      " [2.6852646e-01 1.1615152e-01 6.1532205e-01]\n",
      " [2.5573138e-03 1.7833360e-02 9.7960931e-01]\n",
      " [3.0280235e-03 1.2509051e-03 9.9572104e-01]\n",
      " [3.9196541e-03 1.0884539e-02 9.8519576e-01]\n",
      " [1.2373872e-03 1.0645988e-03 9.9769801e-01]\n",
      " [3.5904506e-03 5.1308256e-03 9.9127871e-01]\n",
      " [6.1559945e-04 9.3225110e-04 9.9845219e-01]\n",
      " [1.5001911e-03 4.0212800e-03 9.9447846e-01]\n",
      " [1.5156399e-03 3.2070987e-03 9.9527729e-01]\n",
      " [2.1978177e-02 1.8129164e-01 7.9673016e-01]]\n"
     ]
    }
   ],
   "source": [
    "output_layer_model = Model(inputs = model.input,\n",
    "                           outputs = model.get_layer(\"dense_16\").output)\n",
    "\n",
    "output = output_layer_model.predict(X_test)   #예측함수 아님!!\n",
    "\n",
    "print(output.shape)\n",
    "print(output)"
   ]
  },
  {
   "cell_type": "markdown",
   "metadata": {},
   "source": [
    "이미지 15개의 3개 클래스에 대한 확률을 계산했기 때문에 위와 같은 출력값이 나온다.\n",
    "\n",
    "- e.g. 첫 줄은 0번째 데이터의 각 클래스에 대한 확률\n",
    "    - 3번째 클래스일 확률이 가장 높게 나온 것\n",
    "\n",
    "\n",
    "- 넘파이의 `argmax` 메소드를 통해 출력값을 좀 더 직관적으로 바꿀 수 있다."
   ]
  },
  {
   "cell_type": "code",
   "execution_count": 83,
   "metadata": {
    "ExecuteTime": {
     "end_time": "2020-01-22T04:58:46.577572Z",
     "start_time": "2020-01-22T04:58:46.572541Z"
    }
   },
   "outputs": [
    {
     "data": {
      "text/plain": [
       "array([2, 2, 2, 2, 2, 2, 2, 2, 2, 2, 2, 2, 2, 2, 2], dtype=int64)"
      ]
     },
     "execution_count": 83,
     "metadata": {},
     "output_type": "execute_result"
    }
   ],
   "source": [
    "np.argmax(output, axis = 1)"
   ]
  },
  {
   "cell_type": "markdown",
   "metadata": {},
   "source": [
    "죄다 삼각형이란다.\n",
    "\n",
    "결국 아까 인식률이 0.33 나온 건, 다 하나로 찍어서 그런 거였다.\n",
    "\n",
    "=> 학습이 하나도 안 이루어짐."
   ]
  },
  {
   "cell_type": "code",
   "execution_count": 94,
   "metadata": {
    "ExecuteTime": {
     "end_time": "2020-01-22T05:06:11.956250Z",
     "start_time": "2020-01-22T05:06:11.949269Z"
    }
   },
   "outputs": [
    {
     "name": "stdout",
     "output_type": "stream",
     "text": [
      "[2 2 2 2 2 2 2 2 2 2 2 2 2 2 2]\n",
      "[0 0 0 0 0 1 1 1 1 1 2 2 2 2 2]\n",
      "[False False False False False False False False False False  True  True\n",
      "  True  True  True]\n",
      "[0 0 0 0 0 0 0 0 0 0 1 1 1 1 1]\n",
      "0.3333333333333333\n"
     ]
    }
   ],
   "source": [
    "#예측 라벨\n",
    "p = np.argmax(output, axis = 1)\n",
    "print(p)\n",
    "\n",
    "#실제 라벨\n",
    "t = np.argmax(y_test, axis = 1)\n",
    "print(t)\n",
    "\n",
    "#인식률 계산\n",
    "print(p == t)\n",
    "print((p == t)*1)\n",
    "print(((p == t) * 1).sum() / len(p))"
   ]
  },
  {
   "cell_type": "markdown",
   "metadata": {},
   "source": [
    "# 3. 데이터 부풀리기(Augmentation)\n",
    "\n",
    "> 데이터 수를 늘림으로써 train data set 크기의 한계로 인한 저성능을 해결하는 것.\n",
    "\n",
    "- 근처의 비슷한 데이터(noise)를 가상으로 만들어준다.\n",
    "    - translation\n",
    "    - rotation\n",
    "    - change in scale\n",
    "    - shearing\n",
    "    - horizontal(vertical) flip\n",
    "    \n",
    "- 모든 변형을 넣어주는 게 좋을까?\n",
    "    - 오히려 성능이 떨어질 수 있다.\n",
    "    - 케이스별로 적절한 변형 형태를 적용해야한다.\n",
    "    \n"
   ]
  },
  {
   "cell_type": "code",
   "execution_count": null,
   "metadata": {},
   "outputs": [],
   "source": []
  },
  {
   "cell_type": "code",
   "execution_count": null,
   "metadata": {},
   "outputs": [],
   "source": []
  },
  {
   "cell_type": "code",
   "execution_count": null,
   "metadata": {},
   "outputs": [],
   "source": []
  },
  {
   "cell_type": "code",
   "execution_count": null,
   "metadata": {},
   "outputs": [],
   "source": []
  },
  {
   "cell_type": "code",
   "execution_count": null,
   "metadata": {},
   "outputs": [],
   "source": []
  },
  {
   "cell_type": "code",
   "execution_count": null,
   "metadata": {},
   "outputs": [],
   "source": []
  },
  {
   "cell_type": "markdown",
   "metadata": {},
   "source": [
    "CNN에서 필터에 weight가 있다는 것은 무슨 의미일까?\n",
    "\n",
    "텐서란 뭘까?\n",
    "- numpy 객체와 비슷하다.\n",
    "- "
   ]
  }
 ],
 "metadata": {
  "kernelspec": {
   "display_name": "Python 3",
   "language": "python",
   "name": "python3"
  },
  "language_info": {
   "codemirror_mode": {
    "name": "ipython",
    "version": 3
   },
   "file_extension": ".py",
   "mimetype": "text/x-python",
   "name": "python",
   "nbconvert_exporter": "python",
   "pygments_lexer": "ipython3",
   "version": "3.7.4"
  },
  "varInspector": {
   "cols": {
    "lenName": 16,
    "lenType": 16,
    "lenVar": 40
   },
   "kernels_config": {
    "python": {
     "delete_cmd_postfix": "",
     "delete_cmd_prefix": "del ",
     "library": "var_list.py",
     "varRefreshCmd": "print(var_dic_list())"
    },
    "r": {
     "delete_cmd_postfix": ") ",
     "delete_cmd_prefix": "rm(",
     "library": "var_list.r",
     "varRefreshCmd": "cat(var_dic_list()) "
    }
   },
   "types_to_exclude": [
    "module",
    "function",
    "builtin_function_or_method",
    "instance",
    "_Feature"
   ],
   "window_display": false
  }
 },
 "nbformat": 4,
 "nbformat_minor": 2
}

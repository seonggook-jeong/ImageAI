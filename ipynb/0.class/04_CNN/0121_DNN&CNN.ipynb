{
 "cells": [
  {
   "cell_type": "markdown",
   "metadata": {},
   "source": [
    "# <오늘 할 것: 학습 최적화 기법>\n",
    "- weight initialization\n",
    "- nonlinearity(activation function)\n",
    "- optimizers\n",
    "- batch normalization\n",
    "- dropout(regularization)\n",
    "- model ensemble\n",
    "\n",
    "# 1. 최적화 기법들: MNIST 예제\n",
    "- 1-1. 데이터 로드\n",
    "- 1-2. 모델 구축\n",
    "- 1-3. 초기화\n",
    "    - 1-3-1. 정규분포 초기화의 문제점\n",
    "- 1-4. 활성화 함수\n",
    "- 1-5. 최적화\n",
    "    - 1-5-1. momentum\n",
    "- 1-6. 배치 정규화\n",
    "- 1-7. 드롭아웃\n",
    "- 1-8. 앙상블\n",
    "\n",
    "# 2. 최적화 기법 몽땅 적용해보기\n",
    "\n",
    "# 3. CNN으로 해보기\n",
    "- 3-1. 데이터 로드하기\n",
    "- 3-2. 모델 구축 및 실행하기(CNN)\n",
    "- 3-3. CNN + 최적화 몇가지"
   ]
  },
  {
   "cell_type": "markdown",
   "metadata": {},
   "source": [
    "# 1. MNIST 예제"
   ]
  },
  {
   "cell_type": "markdown",
   "metadata": {},
   "source": [
    "## 1-1. 데이터 준비하기"
   ]
  },
  {
   "cell_type": "code",
   "execution_count": 1,
   "metadata": {
    "ExecuteTime": {
     "end_time": "2020-01-21T01:12:27.603465Z",
     "start_time": "2020-01-21T01:12:17.386368Z"
    }
   },
   "outputs": [
    {
     "name": "stderr",
     "output_type": "stream",
     "text": [
      "Using TensorFlow backend.\n"
     ]
    }
   ],
   "source": [
    "import matplotlib.pyplot as plt\n",
    "from sklearn.model_selection import train_test_split\n",
    "from keras.datasets import mnist\n",
    "from keras.models import Sequential\n",
    "from keras.utils.np_utils import to_categorical\n",
    "from keras.models import Sequential\n",
    "from keras.layers import Activation, Dense\n",
    "from keras import optimizers\n",
    "from keras.layers import Dropout\n",
    "import numpy as np\n",
    "from keras.wrappers.scikit_learn import KerasClassifier\n",
    "from sklearn.ensemble import VotingClassifier\n",
    "from sklearn.metrics import accuracy_score\n",
    "from keras.layers import BatchNormalization"
   ]
  },
  {
   "cell_type": "code",
   "execution_count": null,
   "metadata": {
    "ExecuteTime": {
     "end_time": "2020-01-21T01:12:49.258171Z",
     "start_time": "2020-01-21T01:12:49.021845Z"
    }
   },
   "outputs": [],
   "source": [
    "# 데이터셋 로드 (MNIST)\n",
    "(X_train, y_train), (X_test, y_test) = mnist.load_data()"
   ]
  },
  {
   "cell_type": "markdown",
   "metadata": {
    "ExecuteTime": {
     "end_time": "2020-01-21T01:12:49.258171Z",
     "start_time": "2020-01-21T01:12:49.021845Z"
    }
   },
   "source": [
    "이렇게 받은 데이터는 어디에 있을까?\n",
    "\n",
    "C:\\Users\\student\\.keras\\datasets\n",
    "\n",
    "여기에 있다.\n",
    "\n",
    "기본적으로 사용자 폴더에 .keras 디렉토리가 생성되고, 그 안에 로드한 데이터가 저장된다."
   ]
  },
  {
   "cell_type": "code",
   "execution_count": 3,
   "metadata": {
    "ExecuteTime": {
     "end_time": "2020-01-21T01:14:59.625422Z",
     "start_time": "2020-01-21T01:14:59.620473Z"
    }
   },
   "outputs": [
    {
     "name": "stdout",
     "output_type": "stream",
     "text": [
      "(60000, 28, 28)\n",
      "(60000,)\n"
     ]
    }
   ],
   "source": [
    "print(X_train.shape)\n",
    "print(y_train.shape)"
   ]
  },
  {
   "cell_type": "markdown",
   "metadata": {},
   "source": [
    "numpy array 타입이다.\n",
    "- 고속 처리 가능\n",
    "- plt.imshow로 확인 가능"
   ]
  },
  {
   "cell_type": "code",
   "execution_count": 5,
   "metadata": {
    "ExecuteTime": {
     "end_time": "2020-01-21T01:16:16.289598Z",
     "start_time": "2020-01-21T01:16:16.205887Z"
    }
   },
   "outputs": [
    {
     "data": {
      "image/png": "[encoded data removed]",
      "text/plain": [
       "<Figure size 432x288 with 1 Axes>"
      ]
     },
     "metadata": {
      "needs_background": "light"
     },
     "output_type": "display_data"
    },
    {
     "name": "stdout",
     "output_type": "stream",
     "text": [
      "Label:  5\n"
     ]
    }
   ],
   "source": [
    "#영상 출력해보기\n",
    "plt.imshow(X_train[0])\n",
    "plt.show()\n",
    "print('Label: ', y_train[0])"
   ]
  },
  {
   "cell_type": "code",
   "execution_count": 6,
   "metadata": {
    "ExecuteTime": {
     "end_time": "2020-01-21T01:16:27.210450Z",
     "start_time": "2020-01-21T01:16:27.205496Z"
    }
   },
   "outputs": [
    {
     "name": "stdout",
     "output_type": "stream",
     "text": [
      "[[  0   0   0   0   0   0   0   0   0   0   0   0   0   0   0   0   0   0\n",
      "    0   0   0   0   0   0   0   0   0   0]\n",
      " [  0   0   0   0   0   0   0   0   0   0   0   0   0   0   0   0   0   0\n",
      "    0   0   0   0   0   0   0   0   0   0]\n",
      " [  0   0   0   0   0   0   0   0   0   0   0   0   0   0   0   0   0   0\n",
      "    0   0   0   0   0   0   0   0   0   0]\n",
      " [  0   0   0   0   0   0   0   0   0   0   0   0   0   0   0   0   0   0\n",
      "    0   0   0   0   0   0   0   0   0   0]\n",
      " [  0   0   0   0   0   0   0   0   0   0   0   0   0   0   0   0   0   0\n",
      "    0   0   0   0   0   0   0   0   0   0]\n",
      " [  0   0   0   0   0   0   0   0   0   0   0   0   3  18  18  18 126 136\n",
      "  175  26 166 255 247 127   0   0   0   0]\n",
      " [  0   0   0   0   0   0   0   0  30  36  94 154 170 253 253 253 253 253\n",
      "  225 172 253 242 195  64   0   0   0   0]\n",
      " [  0   0   0   0   0   0   0  49 238 253 253 253 253 253 253 253 253 251\n",
      "   93  82  82  56  39   0   0   0   0   0]\n",
      " [  0   0   0   0   0   0   0  18 219 253 253 253 253 253 198 182 247 241\n",
      "    0   0   0   0   0   0   0   0   0   0]\n",
      " [  0   0   0   0   0   0   0   0  80 156 107 253 253 205  11   0  43 154\n",
      "    0   0   0   0   0   0   0   0   0   0]\n",
      " [  0   0   0   0   0   0   0   0   0  14   1 154 253  90   0   0   0   0\n",
      "    0   0   0   0   0   0   0   0   0   0]\n",
      " [  0   0   0   0   0   0   0   0   0   0   0 139 253 190   2   0   0   0\n",
      "    0   0   0   0   0   0   0   0   0   0]\n",
      " [  0   0   0   0   0   0   0   0   0   0   0  11 190 253  70   0   0   0\n",
      "    0   0   0   0   0   0   0   0   0   0]\n",
      " [  0   0   0   0   0   0   0   0   0   0   0   0  35 241 225 160 108   1\n",
      "    0   0   0   0   0   0   0   0   0   0]\n",
      " [  0   0   0   0   0   0   0   0   0   0   0   0   0  81 240 253 253 119\n",
      "   25   0   0   0   0   0   0   0   0   0]\n",
      " [  0   0   0   0   0   0   0   0   0   0   0   0   0   0  45 186 253 253\n",
      "  150  27   0   0   0   0   0   0   0   0]\n",
      " [  0   0   0   0   0   0   0   0   0   0   0   0   0   0   0  16  93 252\n",
      "  253 187   0   0   0   0   0   0   0   0]\n",
      " [  0   0   0   0   0   0   0   0   0   0   0   0   0   0   0   0   0 249\n",
      "  253 249  64   0   0   0   0   0   0   0]\n",
      " [  0   0   0   0   0   0   0   0   0   0   0   0   0   0  46 130 183 253\n",
      "  253 207   2   0   0   0   0   0   0   0]\n",
      " [  0   0   0   0   0   0   0   0   0   0   0   0  39 148 229 253 253 253\n",
      "  250 182   0   0   0   0   0   0   0   0]\n",
      " [  0   0   0   0   0   0   0   0   0   0  24 114 221 253 253 253 253 201\n",
      "   78   0   0   0   0   0   0   0   0   0]\n",
      " [  0   0   0   0   0   0   0   0  23  66 213 253 253 253 253 198  81   2\n",
      "    0   0   0   0   0   0   0   0   0   0]\n",
      " [  0   0   0   0   0   0  18 171 219 253 253 253 253 195  80   9   0   0\n",
      "    0   0   0   0   0   0   0   0   0   0]\n",
      " [  0   0   0   0  55 172 226 253 253 253 253 244 133  11   0   0   0   0\n",
      "    0   0   0   0   0   0   0   0   0   0]\n",
      " [  0   0   0   0 136 253 253 253 212 135 132  16   0   0   0   0   0   0\n",
      "    0   0   0   0   0   0   0   0   0   0]\n",
      " [  0   0   0   0   0   0   0   0   0   0   0   0   0   0   0   0   0   0\n",
      "    0   0   0   0   0   0   0   0   0   0]\n",
      " [  0   0   0   0   0   0   0   0   0   0   0   0   0   0   0   0   0   0\n",
      "    0   0   0   0   0   0   0   0   0   0]\n",
      " [  0   0   0   0   0   0   0   0   0   0   0   0   0   0   0   0   0   0\n",
      "    0   0   0   0   0   0   0   0   0   0]]\n"
     ]
    }
   ],
   "source": [
    "#실제 데이터가 어떻게 생겼는지 확인한다.\n",
    "a = X_train[0]\n",
    "print(a)"
   ]
  },
  {
   "cell_type": "code",
   "execution_count": 7,
   "metadata": {
    "ExecuteTime": {
     "end_time": "2020-01-21T01:17:51.237946Z",
     "start_time": "2020-01-21T01:17:51.140695Z"
    }
   },
   "outputs": [
    {
     "data": {
      "text/plain": [
       "<matplotlib.image.AxesImage at 0x1f4b1a2e088>"
      ]
     },
     "execution_count": 7,
     "metadata": {},
     "output_type": "execute_result"
    },
    {
     "data": {
      "image/png": "[encoded data removed]",
      "text/plain": [
       "<Figure size 432x288 with 1 Axes>"
      ]
     },
     "metadata": {
      "needs_background": "light"
     },
     "output_type": "display_data"
    }
   ],
   "source": [
    "plt.imshow(a, cmap = 'gray')"
   ]
  },
  {
   "cell_type": "markdown",
   "metadata": {},
   "source": [
    "바이너리 아니다."
   ]
  },
  {
   "cell_type": "code",
   "execution_count": 8,
   "metadata": {
    "ExecuteTime": {
     "end_time": "2020-01-21T01:18:34.615583Z",
     "start_time": "2020-01-21T01:18:34.533503Z"
    }
   },
   "outputs": [
    {
     "data": {
      "image/png": "[encoded data removed]",
      "text/plain": [
       "<Figure size 432x288 with 1 Axes>"
      ]
     },
     "metadata": {
      "needs_background": "light"
     },
     "output_type": "display_data"
    },
    {
     "name": "stdout",
     "output_type": "stream",
     "text": [
      "Label:  7\n"
     ]
    }
   ],
   "source": [
    "#테스트 셋도 출력해본다.\n",
    "plt.imshow(X_test[0], cmap = 'gray')\n",
    "plt.show()\n",
    "print(\"Label: \", y_test[0])"
   ]
  },
  {
   "cell_type": "code",
   "execution_count": 13,
   "metadata": {
    "ExecuteTime": {
     "end_time": "2020-01-21T01:26:10.729450Z",
     "start_time": "2020-01-21T01:26:10.725454Z"
    }
   },
   "outputs": [],
   "source": [
    "#reshaping X data: (, 28, 28) => (n, 784)\n",
    "X_train = X_train.reshape((X_train.shape[0], -1))   # -1: 나머지는 그냥 알아서 한 차원으로 묶어라\n",
    "X_test = X_test.reshape((X_test.shape[0], -1))"
   ]
  },
  {
   "cell_type": "code",
   "execution_count": 14,
   "metadata": {
    "ExecuteTime": {
     "end_time": "2020-01-21T01:26:11.159796Z",
     "start_time": "2020-01-21T01:26:11.156736Z"
    }
   },
   "outputs": [
    {
     "name": "stdout",
     "output_type": "stream",
     "text": [
      "(60000, 784)\n"
     ]
    }
   ],
   "source": [
    "print(X_train.shape)"
   ]
  },
  {
   "cell_type": "code",
   "execution_count": 11,
   "metadata": {
    "ExecuteTime": {
     "end_time": "2020-01-21T01:25:55.492506Z",
     "start_time": "2020-01-21T01:25:55.487520Z"
    }
   },
   "outputs": [
    {
     "name": "stdout",
     "output_type": "stream",
     "text": [
      "[[1 2]\n",
      " [3 4]\n",
      " [5 6]]\n",
      "[[1 2 3]\n",
      " [4 5 6]]\n"
     ]
    }
   ],
   "source": [
    "# 참고\n",
    "a = np.array([[1, 2], [3, 4], [5, 6]])\n",
    "print(a)\n",
    "a = a.reshape(2, -1)    #알아서 (2, 3)으로 reshape해줌\n",
    "print(a)"
   ]
  },
  {
   "cell_type": "markdown",
   "metadata": {},
   "source": [
    "`train_test_split` 함수로 데이터를 나눌 수 있다."
   ]
  },
  {
   "cell_type": "code",
   "execution_count": 15,
   "metadata": {
    "ExecuteTime": {
     "end_time": "2020-01-21T01:34:56.976981Z",
     "start_time": "2020-01-21T01:34:56.926013Z"
    }
   },
   "outputs": [],
   "source": [
    "# 학습 셋 사이즈 줄이기\n",
    "X_train, _ , y_train, _ = train_test_split(X_train, y_train, test_size = 0.67, random_state = 7)"
   ]
  },
  {
   "cell_type": "code",
   "execution_count": 16,
   "metadata": {
    "ExecuteTime": {
     "end_time": "2020-01-21T01:37:57.073639Z",
     "start_time": "2020-01-21T01:37:57.069665Z"
    }
   },
   "outputs": [
    {
     "name": "stdout",
     "output_type": "stream",
     "text": [
      "(19800, 784)\n",
      "[6 9 2 ... 5 5 3]\n"
     ]
    }
   ],
   "source": [
    "print(X_train.shape)    #60000개에서 확 줄었다.\n",
    "print(y_train)    #자동 셔플링이 된다."
   ]
  },
  {
   "cell_type": "markdown",
   "metadata": {},
   "source": [
    "`to_categorical`함수로 one-hot encoding을 수행할 수 있다."
   ]
  },
  {
   "cell_type": "code",
   "execution_count": 17,
   "metadata": {
    "ExecuteTime": {
     "end_time": "2020-01-21T01:42:44.866173Z",
     "start_time": "2020-01-21T01:42:44.862207Z"
    }
   },
   "outputs": [],
   "source": [
    "#라벨을 categorical로 변환하기: one-hot encoding; 0 -> 1 0 0 ; 1 -> 0 1 0 ; 2 -> 0 0 1 ...\n",
    "y_train = to_categorical(y_train)\n",
    "y_test = to_categorical(y_test)"
   ]
  },
  {
   "cell_type": "code",
   "execution_count": 18,
   "metadata": {
    "ExecuteTime": {
     "end_time": "2020-01-21T01:42:55.384275Z",
     "start_time": "2020-01-21T01:42:55.381106Z"
    }
   },
   "outputs": [
    {
     "name": "stdout",
     "output_type": "stream",
     "text": [
      "(10000, 10)\n"
     ]
    }
   ],
   "source": [
    "print(y_test.shape)"
   ]
  },
  {
   "cell_type": "markdown",
   "metadata": {},
   "source": [
    "10 --> 클래스가 0부터 9까지 10개 있기 때문에"
   ]
  },
  {
   "cell_type": "code",
   "execution_count": 19,
   "metadata": {
    "ExecuteTime": {
     "end_time": "2020-01-21T01:43:45.234005Z",
     "start_time": "2020-01-21T01:43:45.229993Z"
    }
   },
   "outputs": [
    {
     "name": "stdout",
     "output_type": "stream",
     "text": [
      "(19800, 784) (10000, 784) (19800, 10) (10000, 10)\n"
     ]
    }
   ],
   "source": [
    "print(X_train.shape, X_test.shape, y_train.shape, y_test.shape)"
   ]
  },
  {
   "cell_type": "markdown",
   "metadata": {},
   "source": [
    "## 1-2. 모델 구축하기"
   ]
  },
  {
   "cell_type": "code",
   "execution_count": 27,
   "metadata": {
    "ExecuteTime": {
     "end_time": "2020-01-21T02:18:45.572903Z",
     "start_time": "2020-01-21T02:18:45.474563Z"
    }
   },
   "outputs": [],
   "source": [
    "model = Sequential()\n",
    "\n",
    "model.add(Dense(50, input_shape = (784, )))\n",
    "model.add(Activation('sigmoid'))\n",
    "\n",
    "model.add(Dense(50))\n",
    "model.add(Activation('sigmoid'))\n",
    "\n",
    "model.add(Dense(50))\n",
    "model.add(Activation('sigmoid'))\n",
    "\n",
    "model.add(Dense(50))\n",
    "model.add(Activation('sigmoid'))\n",
    "\n",
    "model.add(Dense(10))\n",
    "model.add(Activation('softmax'))"
   ]
  },
  {
   "cell_type": "markdown",
   "metadata": {},
   "source": [
    "`softmax` 활성화 함수\n",
    "- multiclass 분류일 때 사용한다.\n",
    "- 각 클래스에 대한 확률을 출력한다.\n",
    "    - 0일 확률, 1일 확률, 2일 확률, ...\n",
    "    - 따라서 해당 예제에서는 10개의 값을 출력할 것."
   ]
  },
  {
   "cell_type": "code",
   "execution_count": 28,
   "metadata": {
    "ExecuteTime": {
     "end_time": "2020-01-21T02:18:46.983728Z",
     "start_time": "2020-01-21T02:18:46.958147Z"
    }
   },
   "outputs": [],
   "source": [
    "sgd = optimizers.SGD(lr = 0.001) #Adam하면 금방 올라감; lr = learning rate\n",
    "model.compile(optimizer = sgd, loss = 'categorical_crossentropy', metrics = ['accuracy'])"
   ]
  },
  {
   "cell_type": "markdown",
   "metadata": {},
   "source": [
    "optimizer 등의 인자를 넘겨주는 방식\n",
    "- 문자열로: 기본값 활용\n",
    "    - e.g. optimizer = 'adam'\n",
    "- 변수로: learning rate 등의 파라미터를 커스터마이즈해서 활용\n",
    "    - e.g. optimizer = Adam(0.01)"
   ]
  },
  {
   "cell_type": "code",
   "execution_count": 29,
   "metadata": {
    "ExecuteTime": {
     "end_time": "2020-01-21T02:19:12.674033Z",
     "start_time": "2020-01-21T02:18:47.981632Z"
    }
   },
   "outputs": [],
   "source": [
    "history = model.fit(X_train, y_train, batch_size = 256, validation_split = 0.3, epochs = 200, verbose = 0)\n",
    "\n",
    "#validation_split: 30%를 테스트로 쓴 것 --> 학습 데이터로 넘겨준 데이터의 70%만 실질적인 학습 데이터로 활용됨"
   ]
  },
  {
   "cell_type": "markdown",
   "metadata": {},
   "source": [
    "`history` 메소드로 로그를 확인할 수 있다.\n",
    "- 결과 = model.fit()\n",
    "- 결과.history: 로그값이 저장된 **딕셔너리**를 리턴한다.\n",
    "    - val_loss\n",
    "    - loss\n",
    "    - val_accuracy\n",
    "    - accuracy"
   ]
  },
  {
   "cell_type": "code",
   "execution_count": 30,
   "metadata": {
    "ExecuteTime": {
     "end_time": "2020-01-21T02:19:12.694504Z",
     "start_time": "2020-01-21T02:19:12.682488Z"
    },
    "collapsed": true
   },
   "outputs": [
    {
     "data": {
      "text/plain": [
       "{'val_loss': [2.4925123909908513,\n",
       "  2.4578119501120312,\n",
       "  2.4310758088172886,\n",
       "  2.4098937148598307,\n",
       "  2.3927522367098515,\n",
       "  2.37860489469586,\n",
       "  2.3669272889994613,\n",
       "  2.3571861511127716,\n",
       "  2.3491159127617522,\n",
       "  2.342289336361869,\n",
       "  2.3363180598827324,\n",
       "  2.33121954567906,\n",
       "  2.3269717922917117,\n",
       "  2.323377029662983,\n",
       "  2.3202174161018347,\n",
       "  2.317447720794164,\n",
       "  2.3151209630548752,\n",
       "  2.3130268069630118,\n",
       "  2.3112303091620756,\n",
       "  2.3096865191604152,\n",
       "  2.3082775841658365,\n",
       "  2.3070707937683723,\n",
       "  2.306110021000358,\n",
       "  2.3052735882576068,\n",
       "  2.304475361249262,\n",
       "  2.3037888263612483,\n",
       "  2.303215568073671,\n",
       "  2.3027165974832142,\n",
       "  2.302276229537296,\n",
       "  2.3018490080078844,\n",
       "  2.301502004135337,\n",
       "  2.3011963643610276,\n",
       "  2.300940535927461,\n",
       "  2.3007262693912494,\n",
       "  2.300512700931793,\n",
       "  2.3003411472847164,\n",
       "  2.3001956791990135,\n",
       "  2.3000412218498463,\n",
       "  2.2998991614640363,\n",
       "  2.2997832399426086,\n",
       "  2.2996672586961227,\n",
       "  2.2995755553646924,\n",
       "  2.2994848326801853,\n",
       "  2.299406721616032,\n",
       "  2.29933714320764,\n",
       "  2.299292743888367,\n",
       "  2.299219581173727,\n",
       "  2.299157958078866,\n",
       "  2.2991043951374914,\n",
       "  2.2990579728726988,\n",
       "  2.299003746854737,\n",
       "  2.298947783351346,\n",
       "  2.2988883779506493,\n",
       "  2.298842883190322,\n",
       "  2.2987904824793137,\n",
       "  2.2987426518591163,\n",
       "  2.298706817466402,\n",
       "  2.298664598753958,\n",
       "  2.2986267197413075,\n",
       "  2.2985889577705048,\n",
       "  2.298552367823694,\n",
       "  2.298517094396983,\n",
       "  2.2984730848961004,\n",
       "  2.2984511818548645,\n",
       "  2.29842253614355,\n",
       "  2.298401214458324,\n",
       "  2.298385277500859,\n",
       "  2.298334900538127,\n",
       "  2.2983022351056235,\n",
       "  2.2982666792692963,\n",
       "  2.2982330884194937,\n",
       "  2.2982020837289316,\n",
       "  2.2981572123890373,\n",
       "  2.2981369619016294,\n",
       "  2.2980984384363348,\n",
       "  2.298069824353613,\n",
       "  2.2980548439603865,\n",
       "  2.2980289342026117,\n",
       "  2.2980181461231477,\n",
       "  2.2979962146643436,\n",
       "  2.297950774491435,\n",
       "  2.2979285098888256,\n",
       "  2.297880918650515,\n",
       "  2.297857047893383,\n",
       "  2.297813472041377,\n",
       "  2.2977868784959066,\n",
       "  2.297779099628179,\n",
       "  2.297751069630838,\n",
       "  2.2977323387608384,\n",
       "  2.2976911173926458,\n",
       "  2.2976611206427164,\n",
       "  2.2976451250840517,\n",
       "  2.297593705662172,\n",
       "  2.297573776116676,\n",
       "  2.2975480726672344,\n",
       "  2.297516342445656,\n",
       "  2.2974862602824717,\n",
       "  2.297456783076328,\n",
       "  2.297425968478424,\n",
       "  2.2973834031358713,\n",
       "  2.297359964422104,\n",
       "  2.297335309372205,\n",
       "  2.2973222268550884,\n",
       "  2.297304121653239,\n",
       "  2.2972808174814037,\n",
       "  2.2972429778038053,\n",
       "  2.2971997015403978,\n",
       "  2.297189068232321,\n",
       "  2.2971618544774426,\n",
       "  2.297125163222804,\n",
       "  2.297091566432606,\n",
       "  2.297058447603425,\n",
       "  2.2970177303661,\n",
       "  2.296999107868182,\n",
       "  2.296969336050528,\n",
       "  2.296941642086915,\n",
       "  2.2969100048245004,\n",
       "  2.2968785863934142,\n",
       "  2.2968558936006693,\n",
       "  2.296831804333311,\n",
       "  2.2968025604081075,\n",
       "  2.2967747023611356,\n",
       "  2.2967532222118443,\n",
       "  2.296709104659983,\n",
       "  2.2966806329862037,\n",
       "  2.2966390820063323,\n",
       "  2.296627125435004,\n",
       "  2.2966102169820357,\n",
       "  2.2965999672308515,\n",
       "  2.2965645013032137,\n",
       "  2.296533868930958,\n",
       "  2.296496297373916,\n",
       "  2.2964630948975433,\n",
       "  2.296430865843288,\n",
       "  2.296410563818935,\n",
       "  2.296373209006056,\n",
       "  2.2963409533002963,\n",
       "  2.296326340890493,\n",
       "  2.296309057550398,\n",
       "  2.2962726495081327,\n",
       "  2.296261088374488,\n",
       "  2.2962186122984196,\n",
       "  2.2961959408589885,\n",
       "  2.29618047271112,\n",
       "  2.296137127250132,\n",
       "  2.296118130828395,\n",
       "  2.2960834713495943,\n",
       "  2.2960642955921315,\n",
       "  2.2960318859177407,\n",
       "  2.296003339908741,\n",
       "  2.29598952945234,\n",
       "  2.295963985430271,\n",
       "  2.295920341343992,\n",
       "  2.2958833350878374,\n",
       "  2.2958432717756794,\n",
       "  2.2958223949779164,\n",
       "  2.295796707744149,\n",
       "  2.2957649982336794,\n",
       "  2.2957311036209465,\n",
       "  2.2957024538958515,\n",
       "  2.2956747421110517,\n",
       "  2.295632746243718,\n",
       "  2.295604884022414,\n",
       "  2.295590790032538,\n",
       "  2.295553942722102,\n",
       "  2.2955235506950404,\n",
       "  2.295496991828636,\n",
       "  2.2954630029723297,\n",
       "  2.2954432538864187,\n",
       "  2.2953985764924125,\n",
       "  2.2953753988349477,\n",
       "  2.295335123755715,\n",
       "  2.295291027717719,\n",
       "  2.2952664840903747,\n",
       "  2.2952400074262007,\n",
       "  2.295199229982164,\n",
       "  2.2951540619435935,\n",
       "  2.2951321996823704,\n",
       "  2.2951046847333814,\n",
       "  2.295092166553844,\n",
       "  2.2950701002320053,\n",
       "  2.2950409967891297,\n",
       "  2.2950134378491027,\n",
       "  2.294992119856555,\n",
       "  2.2949695720415724,\n",
       "  2.294931836401172,\n",
       "  2.2948920270810627,\n",
       "  2.2948722142563125,\n",
       "  2.2948277428495363,\n",
       "  2.2948109530439282,\n",
       "  2.2947889172268234,\n",
       "  2.2947633128374916,\n",
       "  2.2947307580247873,\n",
       "  2.294712783993294,\n",
       "  2.294685583243065,\n",
       "  2.2946772074458575,\n",
       "  2.2946438116658014,\n",
       "  2.294628774437439,\n",
       "  2.2946113305461124,\n",
       "  2.294573195935901],\n",
       " 'val_accuracy': [0.09949494898319244,\n",
       "  0.09949494898319244,\n",
       "  0.09949494898319244,\n",
       "  0.09949494898319244,\n",
       "  0.09949494898319244,\n",
       "  0.09949494898319244,\n",
       "  0.09949494898319244,\n",
       "  0.09949494898319244,\n",
       "  0.09949494898319244,\n",
       "  0.09949494898319244,\n",
       "  0.09949494898319244,\n",
       "  0.09949494898319244,\n",
       "  0.09949494898319244,\n",
       "  0.09949494898319244,\n",
       "  0.09949494898319244,\n",
       "  0.09949494898319244,\n",
       "  0.09949494898319244,\n",
       "  0.09949494898319244,\n",
       "  0.09949494898319244,\n",
       "  0.09949494898319244,\n",
       "  0.09949494898319244,\n",
       "  0.09949494898319244,\n",
       "  0.10202020406723022,\n",
       "  0.13821548223495483,\n",
       "  0.13148148357868195,\n",
       "  0.11195286363363266,\n",
       "  0.11178451031446457,\n",
       "  0.11178451031446457,\n",
       "  0.11178451031446457,\n",
       "  0.11178451031446457,\n",
       "  0.11178451031446457,\n",
       "  0.11178451031446457,\n",
       "  0.11178451031446457,\n",
       "  0.11178451031446457,\n",
       "  0.11178451031446457,\n",
       "  0.11178451031446457,\n",
       "  0.11178451031446457,\n",
       "  0.11178451031446457,\n",
       "  0.11178451031446457,\n",
       "  0.11178451031446457,\n",
       "  0.11178451031446457,\n",
       "  0.11178451031446457,\n",
       "  0.11178451031446457,\n",
       "  0.11178451031446457,\n",
       "  0.11178451031446457,\n",
       "  0.11178451031446457,\n",
       "  0.11178451031446457,\n",
       "  0.11178451031446457,\n",
       "  0.11178451031446457,\n",
       "  0.11178451031446457,\n",
       "  0.11178451031446457,\n",
       "  0.11178451031446457,\n",
       "  0.11178451031446457,\n",
       "  0.11178451031446457,\n",
       "  0.11178451031446457,\n",
       "  0.11178451031446457,\n",
       "  0.11178451031446457,\n",
       "  0.11178451031446457,\n",
       "  0.11178451031446457,\n",
       "  0.11178451031446457,\n",
       "  0.11178451031446457,\n",
       "  0.11178451031446457,\n",
       "  0.11178451031446457,\n",
       "  0.11178451031446457,\n",
       "  0.11178451031446457,\n",
       "  0.11178451031446457,\n",
       "  0.11178451031446457,\n",
       "  0.11178451031446457,\n",
       "  0.11178451031446457,\n",
       "  0.11178451031446457,\n",
       "  0.11178451031446457,\n",
       "  0.11178451031446457,\n",
       "  0.11178451031446457,\n",
       "  0.11178451031446457,\n",
       "  0.11178451031446457,\n",
       "  0.11178451031446457,\n",
       "  0.11178451031446457,\n",
       "  0.11178451031446457,\n",
       "  0.11178451031446457,\n",
       "  0.11178451031446457,\n",
       "  0.11178451031446457,\n",
       "  0.11178451031446457,\n",
       "  0.11178451031446457,\n",
       "  0.11178451031446457,\n",
       "  0.11178451031446457,\n",
       "  0.11178451031446457,\n",
       "  0.11178451031446457,\n",
       "  0.11178451031446457,\n",
       "  0.11178451031446457,\n",
       "  0.11178451031446457,\n",
       "  0.11178451031446457,\n",
       "  0.11178451031446457,\n",
       "  0.11178451031446457,\n",
       "  0.11178451031446457,\n",
       "  0.11178451031446457,\n",
       "  0.11178451031446457,\n",
       "  0.11178451031446457,\n",
       "  0.11178451031446457,\n",
       "  0.11178451031446457,\n",
       "  0.11178451031446457,\n",
       "  0.11178451031446457,\n",
       "  0.11178451031446457,\n",
       "  0.11178451031446457,\n",
       "  0.11178451031446457,\n",
       "  0.11178451031446457,\n",
       "  0.11178451031446457,\n",
       "  0.11178451031446457,\n",
       "  0.11178451031446457,\n",
       "  0.11178451031446457,\n",
       "  0.11178451031446457,\n",
       "  0.11178451031446457,\n",
       "  0.11178451031446457,\n",
       "  0.11178451031446457,\n",
       "  0.11178451031446457,\n",
       "  0.11178451031446457,\n",
       "  0.11178451031446457,\n",
       "  0.11178451031446457,\n",
       "  0.11178451031446457,\n",
       "  0.11178451031446457,\n",
       "  0.11178451031446457,\n",
       "  0.11178451031446457,\n",
       "  0.11178451031446457,\n",
       "  0.11178451031446457,\n",
       "  0.11178451031446457,\n",
       "  0.11178451031446457,\n",
       "  0.11178451031446457,\n",
       "  0.11178451031446457,\n",
       "  0.11178451031446457,\n",
       "  0.11178451031446457,\n",
       "  0.11178451031446457,\n",
       "  0.11178451031446457,\n",
       "  0.11178451031446457,\n",
       "  0.11178451031446457,\n",
       "  0.11178451031446457,\n",
       "  0.11178451031446457,\n",
       "  0.11178451031446457,\n",
       "  0.11178451031446457,\n",
       "  0.11178451031446457,\n",
       "  0.11178451031446457,\n",
       "  0.11178451031446457,\n",
       "  0.11178451031446457,\n",
       "  0.11178451031446457,\n",
       "  0.11178451031446457,\n",
       "  0.11178451031446457,\n",
       "  0.11178451031446457,\n",
       "  0.11178451031446457,\n",
       "  0.11178451031446457,\n",
       "  0.11178451031446457,\n",
       "  0.11178451031446457,\n",
       "  0.11178451031446457,\n",
       "  0.11178451031446457,\n",
       "  0.11178451031446457,\n",
       "  0.11178451031446457,\n",
       "  0.11178451031446457,\n",
       "  0.11178451031446457,\n",
       "  0.11178451031446457,\n",
       "  0.11178451031446457,\n",
       "  0.11178451031446457,\n",
       "  0.11178451031446457,\n",
       "  0.11178451031446457,\n",
       "  0.11178451031446457,\n",
       "  0.11178451031446457,\n",
       "  0.11178451031446457,\n",
       "  0.11178451031446457,\n",
       "  0.11178451031446457,\n",
       "  0.11178451031446457,\n",
       "  0.11178451031446457,\n",
       "  0.11178451031446457,\n",
       "  0.11178451031446457,\n",
       "  0.11178451031446457,\n",
       "  0.11178451031446457,\n",
       "  0.11178451031446457,\n",
       "  0.11178451031446457,\n",
       "  0.11178451031446457,\n",
       "  0.11178451031446457,\n",
       "  0.11178451031446457,\n",
       "  0.11178451031446457,\n",
       "  0.11178451031446457,\n",
       "  0.11178451031446457,\n",
       "  0.11178451031446457,\n",
       "  0.11178451031446457,\n",
       "  0.11178451031446457,\n",
       "  0.11178451031446457,\n",
       "  0.11178451031446457,\n",
       "  0.11178451031446457,\n",
       "  0.11178451031446457,\n",
       "  0.11178451031446457,\n",
       "  0.11178451031446457,\n",
       "  0.11178451031446457,\n",
       "  0.11178451031446457,\n",
       "  0.11178451031446457,\n",
       "  0.11178451031446457,\n",
       "  0.11178451031446457,\n",
       "  0.11178451031446457,\n",
       "  0.11178451031446457,\n",
       "  0.11178451031446457,\n",
       "  0.11178451031446457,\n",
       "  0.11178451031446457,\n",
       "  0.11178451031446457,\n",
       "  0.11178451031446457],\n",
       " 'loss': [2.5167941306060526,\n",
       "  2.4759120654922198,\n",
       "  2.444756520052493,\n",
       "  2.4204354251101936,\n",
       "  2.4010078653112634,\n",
       "  2.3851813408547495,\n",
       "  2.3720215293752167,\n",
       "  2.3611111400791405,\n",
       "  2.3519827279865657,\n",
       "  2.344408570051537,\n",
       "  2.337984354189808,\n",
       "  2.332371944920153,\n",
       "  2.327590249902414,\n",
       "  2.323573884647474,\n",
       "  2.3201935444731387,\n",
       "  2.3172048792350517,\n",
       "  2.314594833503382,\n",
       "  2.3124241933506116,\n",
       "  2.3104492382913784,\n",
       "  2.3087595125641487,\n",
       "  2.307312396422437,\n",
       "  2.3059961862550327,\n",
       "  2.3048845577377604,\n",
       "  2.3039959943311725,\n",
       "  2.303212090075274,\n",
       "  2.3024834330119783,\n",
       "  2.3018493667481437,\n",
       "  2.301314053666196,\n",
       "  2.300855396664332,\n",
       "  2.3004552846691135,\n",
       "  2.3000829437250356,\n",
       "  2.299773976985166,\n",
       "  2.2995062518429448,\n",
       "  2.299273875953487,\n",
       "  2.2990825977160303,\n",
       "  2.298883209875308,\n",
       "  2.2987263257713373,\n",
       "  2.298593935340342,\n",
       "  2.298466982573142,\n",
       "  2.2983557050190275,\n",
       "  2.2982557179779888,\n",
       "  2.2981549887086063,\n",
       "  2.2980745786196226,\n",
       "  2.2979959223693585,\n",
       "  2.297918888397547,\n",
       "  2.297853930653604,\n",
       "  2.297797976049338,\n",
       "  2.297739743842363,\n",
       "  2.2976842876120562,\n",
       "  2.2976397047827253,\n",
       "  2.2975923011829327,\n",
       "  2.2975443397593533,\n",
       "  2.2974987720170232,\n",
       "  2.297454734763714,\n",
       "  2.2974200579683157,\n",
       "  2.2973786250853436,\n",
       "  2.2973415589435793,\n",
       "  2.2973054345724044,\n",
       "  2.297267936043237,\n",
       "  2.2972290888837232,\n",
       "  2.297198101830861,\n",
       "  2.2971667844323713,\n",
       "  2.2971314267162635,\n",
       "  2.2970980738492583,\n",
       "  2.2970704676612974,\n",
       "  2.2970380456932697,\n",
       "  2.297005599986595,\n",
       "  2.296977677283349,\n",
       "  2.2969420159189906,\n",
       "  2.296911077169113,\n",
       "  2.296881857922927,\n",
       "  2.2968542792580346,\n",
       "  2.296823854157419,\n",
       "  2.2967911815918542,\n",
       "  2.29675710789569,\n",
       "  2.2967268003185763,\n",
       "  2.2966956987697498,\n",
       "  2.2966655720191946,\n",
       "  2.29663600770254,\n",
       "  2.296603360251775,\n",
       "  2.2965765432877974,\n",
       "  2.2965453558669977,\n",
       "  2.296514422208888,\n",
       "  2.2964824629724454,\n",
       "  2.2964509379812132,\n",
       "  2.2964218342631066,\n",
       "  2.29638842738208,\n",
       "  2.2963566294308175,\n",
       "  2.2963283988820526,\n",
       "  2.2962950002579463,\n",
       "  2.2962643057752996,\n",
       "  2.2962343378328485,\n",
       "  2.296203011626977,\n",
       "  2.2961704169516954,\n",
       "  2.296140149214223,\n",
       "  2.2961108865503967,\n",
       "  2.2960769629925704,\n",
       "  2.2960480724406276,\n",
       "  2.2960176577299705,\n",
       "  2.295984127614405,\n",
       "  2.2959538486612825,\n",
       "  2.295925531414852,\n",
       "  2.2958900656018937,\n",
       "  2.295863149486063,\n",
       "  2.295831849495914,\n",
       "  2.295798723281376,\n",
       "  2.295774485985782,\n",
       "  2.2957404230924223,\n",
       "  2.2957113689846462,\n",
       "  2.2956823465283986,\n",
       "  2.2956515802793516,\n",
       "  2.29562162830028,\n",
       "  2.295593024401094,\n",
       "  2.2955647057097024,\n",
       "  2.2955310450659856,\n",
       "  2.295497829607899,\n",
       "  2.2954687063484136,\n",
       "  2.295433880653216,\n",
       "  2.2954013539599134,\n",
       "  2.295370654729538,\n",
       "  2.2953446821044876,\n",
       "  2.295311280796882,\n",
       "  2.2952804666576965,\n",
       "  2.295250598279945,\n",
       "  2.295219766525995,\n",
       "  2.2951895013344066,\n",
       "  2.2951590573116816,\n",
       "  2.295130855249292,\n",
       "  2.295101053614981,\n",
       "  2.29507218989803,\n",
       "  2.2950467422067002,\n",
       "  2.2950091890442423,\n",
       "  2.294983855711261,\n",
       "  2.2949562137433115,\n",
       "  2.2949242954474336,\n",
       "  2.294893344587406,\n",
       "  2.2948633059794767,\n",
       "  2.2948327239973723,\n",
       "  2.294805159025206,\n",
       "  2.2947708504884616,\n",
       "  2.2947411252306655,\n",
       "  2.2947116884834324,\n",
       "  2.2946800933771834,\n",
       "  2.294652488840607,\n",
       "  2.2946193771444876,\n",
       "  2.2945861019613423,\n",
       "  2.294561497989671,\n",
       "  2.2945327265438062,\n",
       "  2.294497348460628,\n",
       "  2.2944682532746725,\n",
       "  2.294436517456737,\n",
       "  2.294409363954442,\n",
       "  2.2943760531977313,\n",
       "  2.2943455483490256,\n",
       "  2.2943126137638505,\n",
       "  2.2942817021930026,\n",
       "  2.2942513390880985,\n",
       "  2.2942160302254373,\n",
       "  2.2941855384501886,\n",
       "  2.2941543131163624,\n",
       "  2.294121350457658,\n",
       "  2.294092284377347,\n",
       "  2.2940583756819777,\n",
       "  2.2940262444263584,\n",
       "  2.293996997519489,\n",
       "  2.2939662482659364,\n",
       "  2.2939339545554067,\n",
       "  2.293903672024285,\n",
       "  2.2938712561113324,\n",
       "  2.2938444962577216,\n",
       "  2.293811271717022,\n",
       "  2.293781014988777,\n",
       "  2.2937487452233163,\n",
       "  2.2937218603461678,\n",
       "  2.2936882732578514,\n",
       "  2.2936592205950364,\n",
       "  2.293626710346767,\n",
       "  2.2935979166760245,\n",
       "  2.2935687127051416,\n",
       "  2.293537243929776,\n",
       "  2.293503454271677,\n",
       "  2.293471833087321,\n",
       "  2.2934401975909697,\n",
       "  2.2934122771583767,\n",
       "  2.2933825436436597,\n",
       "  2.2933502130522183,\n",
       "  2.293318684138949,\n",
       "  2.2932902242542172,\n",
       "  2.293258556349453,\n",
       "  2.2932322683100406,\n",
       "  2.2931982915638844,\n",
       "  2.293167845545737,\n",
       "  2.2931361084892634,\n",
       "  2.293105466713293,\n",
       "  2.293073767088192,\n",
       "  2.293040406514728,\n",
       "  2.2930103624021854,\n",
       "  2.2929773828856015,\n",
       "  2.292947923156606,\n",
       "  2.292915320843673],\n",
       " 'accuracy': [0.097835496,\n",
       "  0.097835496,\n",
       "  0.097835496,\n",
       "  0.097835496,\n",
       "  0.097835496,\n",
       "  0.097835496,\n",
       "  0.097835496,\n",
       "  0.097835496,\n",
       "  0.097835496,\n",
       "  0.097835496,\n",
       "  0.097835496,\n",
       "  0.097835496,\n",
       "  0.097835496,\n",
       "  0.097835496,\n",
       "  0.097835496,\n",
       "  0.097835496,\n",
       "  0.097835496,\n",
       "  0.097835496,\n",
       "  0.097835496,\n",
       "  0.097835496,\n",
       "  0.097835496,\n",
       "  0.097835496,\n",
       "  0.098196246,\n",
       "  0.113852814,\n",
       "  0.13715729,\n",
       "  0.12113997,\n",
       "  0.114285715,\n",
       "  0.114285715,\n",
       "  0.114285715,\n",
       "  0.114285715,\n",
       "  0.114285715,\n",
       "  0.114285715,\n",
       "  0.114285715,\n",
       "  0.114285715,\n",
       "  0.114285715,\n",
       "  0.114285715,\n",
       "  0.114285715,\n",
       "  0.114285715,\n",
       "  0.114285715,\n",
       "  0.114285715,\n",
       "  0.114285715,\n",
       "  0.114285715,\n",
       "  0.114285715,\n",
       "  0.114285715,\n",
       "  0.114285715,\n",
       "  0.114285715,\n",
       "  0.114285715,\n",
       "  0.114285715,\n",
       "  0.114285715,\n",
       "  0.114285715,\n",
       "  0.114285715,\n",
       "  0.114285715,\n",
       "  0.114285715,\n",
       "  0.114285715,\n",
       "  0.114285715,\n",
       "  0.114285715,\n",
       "  0.114285715,\n",
       "  0.114285715,\n",
       "  0.114285715,\n",
       "  0.114285715,\n",
       "  0.114285715,\n",
       "  0.114285715,\n",
       "  0.114285715,\n",
       "  0.114285715,\n",
       "  0.114285715,\n",
       "  0.114285715,\n",
       "  0.114285715,\n",
       "  0.114285715,\n",
       "  0.114285715,\n",
       "  0.114285715,\n",
       "  0.114285715,\n",
       "  0.114285715,\n",
       "  0.114285715,\n",
       "  0.114285715,\n",
       "  0.114285715,\n",
       "  0.114285715,\n",
       "  0.114285715,\n",
       "  0.114285715,\n",
       "  0.114285715,\n",
       "  0.114285715,\n",
       "  0.114285715,\n",
       "  0.114285715,\n",
       "  0.114285715,\n",
       "  0.114285715,\n",
       "  0.114285715,\n",
       "  0.114285715,\n",
       "  0.114285715,\n",
       "  0.114285715,\n",
       "  0.114285715,\n",
       "  0.114285715,\n",
       "  0.114285715,\n",
       "  0.114285715,\n",
       "  0.114285715,\n",
       "  0.114285715,\n",
       "  0.114285715,\n",
       "  0.114285715,\n",
       "  0.114285715,\n",
       "  0.114285715,\n",
       "  0.114285715,\n",
       "  0.114285715,\n",
       "  0.114285715,\n",
       "  0.114285715,\n",
       "  0.114285715,\n",
       "  0.114285715,\n",
       "  0.114285715,\n",
       "  0.114285715,\n",
       "  0.114285715,\n",
       "  0.114285715,\n",
       "  0.114285715,\n",
       "  0.114285715,\n",
       "  0.114285715,\n",
       "  0.114285715,\n",
       "  0.114285715,\n",
       "  0.114285715,\n",
       "  0.114285715,\n",
       "  0.114285715,\n",
       "  0.114285715,\n",
       "  0.114285715,\n",
       "  0.114285715,\n",
       "  0.114285715,\n",
       "  0.114285715,\n",
       "  0.114285715,\n",
       "  0.114285715,\n",
       "  0.114285715,\n",
       "  0.114285715,\n",
       "  0.114285715,\n",
       "  0.114285715,\n",
       "  0.114285715,\n",
       "  0.114285715,\n",
       "  0.114285715,\n",
       "  0.114285715,\n",
       "  0.114285715,\n",
       "  0.114285715,\n",
       "  0.114285715,\n",
       "  0.114285715,\n",
       "  0.114285715,\n",
       "  0.114285715,\n",
       "  0.114285715,\n",
       "  0.114285715,\n",
       "  0.114285715,\n",
       "  0.114285715,\n",
       "  0.114285715,\n",
       "  0.114285715,\n",
       "  0.114285715,\n",
       "  0.114285715,\n",
       "  0.114285715,\n",
       "  0.114285715,\n",
       "  0.114285715,\n",
       "  0.114285715,\n",
       "  0.114285715,\n",
       "  0.114285715,\n",
       "  0.114285715,\n",
       "  0.114285715,\n",
       "  0.114285715,\n",
       "  0.114285715,\n",
       "  0.114285715,\n",
       "  0.114285715,\n",
       "  0.114285715,\n",
       "  0.114285715,\n",
       "  0.114285715,\n",
       "  0.114285715,\n",
       "  0.114285715,\n",
       "  0.114285715,\n",
       "  0.114285715,\n",
       "  0.114285715,\n",
       "  0.114285715,\n",
       "  0.114285715,\n",
       "  0.114285715,\n",
       "  0.114285715,\n",
       "  0.114285715,\n",
       "  0.114285715,\n",
       "  0.114285715,\n",
       "  0.114285715,\n",
       "  0.114285715,\n",
       "  0.114285715,\n",
       "  0.114285715,\n",
       "  0.114285715,\n",
       "  0.114285715,\n",
       "  0.114285715,\n",
       "  0.114285715,\n",
       "  0.114285715,\n",
       "  0.114285715,\n",
       "  0.114285715,\n",
       "  0.114285715,\n",
       "  0.114285715,\n",
       "  0.114285715,\n",
       "  0.114285715,\n",
       "  0.114285715,\n",
       "  0.114285715,\n",
       "  0.114285715,\n",
       "  0.114285715,\n",
       "  0.114285715,\n",
       "  0.114285715,\n",
       "  0.114285715,\n",
       "  0.114285715,\n",
       "  0.114285715,\n",
       "  0.114285715,\n",
       "  0.114285715,\n",
       "  0.114285715,\n",
       "  0.114285715]}"
      ]
     },
     "execution_count": 30,
     "metadata": {},
     "output_type": "execute_result"
    }
   ],
   "source": [
    "history.history"
   ]
  },
  {
   "cell_type": "code",
   "execution_count": 31,
   "metadata": {
    "ExecuteTime": {
     "end_time": "2020-01-21T02:19:12.805224Z",
     "start_time": "2020-01-21T02:19:12.701437Z"
    }
   },
   "outputs": [
    {
     "data": {
      "image/png": "[encoded data removed]",
      "text/plain": [
       "<Figure size 432x288 with 1 Axes>"
      ]
     },
     "metadata": {
      "needs_background": "light"
     },
     "output_type": "display_data"
    }
   ],
   "source": [
    "plt.plot(history.history['accuracy'])\n",
    "plt.plot(history.history['val_accuracy'])     #model.fit()에 validation_split 인자를 넘겨주어야 val_accuracy(& val_loss)를 계산할 수 있음\n",
    "plt.legend(['training', 'validation'], loc = 'upper left')\n",
    "plt.show()"
   ]
  },
  {
   "cell_type": "markdown",
   "metadata": {},
   "source": [
    "인식률이 상승하지 않는다는 것 == w 업데이트가 이루어지지 않고 있다는 뜻\n",
    "\n",
    "인식률이 상승하지 않는 것은 sigmoid 탓이다.\n",
    "- sigmoid가 초기화를 제대로 수행하지 못하기 때문."
   ]
  },
  {
   "cell_type": "markdown",
   "metadata": {},
   "source": [
    "##  1-3. 초기화 기법을 바꿔본다."
   ]
  },
  {
   "cell_type": "markdown",
   "metadata": {},
   "source": [
    "초기화란?\n",
    "> \n",
    "\n",
    "### 1-3-1. 정규분포 초기화의 문제점\n",
    "- 정규분포 초기화는 x가 5 이상만 되어도 sigmoid 적용 시 모두 1이 되어 버린다. --> 아무 의미 없어짐\n",
    "    - -4~4로 초기화 --> sigmoid 적용 시 대부분 0 또는 1이 되어 버린다. --> 아무 의미 없어짐2\n",
    "\n",
    "=> 표준편차를 이용한 초기화\n",
    "    - N(0, 0.1)\n",
    "    - wx + b가 -5~5 사이에 분포하게 됨 --> sigmoid 적용 시 의미있는 값들이 나옴\n",
    "    \n",
    "- Xavier: fan_in + fan_out / sigmoid 함수\n",
    "    - Uniform distribution : sqrt( 6 / (fan_in + fan_out))\n",
    "        - 최소값, 최대값으로 정규화\n",
    "    - Normal distribution  : N(0, sqrt(2 / (fan_in + fan_out)))\n",
    "        - 평균을 무조건 0으로 가정하고 데이터 분포에 따라 분산을 조절\n",
    "- HE: fan_in 만 / relu 함수\n",
    "    - Uniform distribution : limit is sqrt( 6 / fan_in)\n",
    "    - Normal distribution : N(0, sqrt(2 / fan_in))"
   ]
  },
  {
   "cell_type": "code",
   "execution_count": 35,
   "metadata": {
    "ExecuteTime": {
     "end_time": "2020-01-21T02:30:23.936540Z",
     "start_time": "2020-01-21T02:30:23.930555Z"
    }
   },
   "outputs": [],
   "source": [
    "# from now on, create a function to generate (return) models\n",
    "def mlp_model():\n",
    "    model = Sequential()\n",
    "    \n",
    "    model.add(Dense(50, input_shape = (784, ), kernel_initializer='he_normal'))     # use he_normal initializer\n",
    "    model.add(Activation('sigmoid'))    \n",
    "    model.add(Dense(50, kernel_initializer='he_normal'))                            # use he_normal initializer\n",
    "    model.add(Activation('sigmoid'))    \n",
    "    model.add(Dense(50, kernel_initializer='he_normal'))                            # use he_normal initializer\n",
    "    model.add(Activation('sigmoid'))    \n",
    "    model.add(Dense(50, kernel_initializer='he_normal'))                            # use he_normal initializer\n",
    "    model.add(Activation('sigmoid'))    \n",
    "    model.add(Dense(10, kernel_initializer='he_normal'))                            # use he_normal initializer\n",
    "    model.add(Activation('softmax'))\n",
    "    \n",
    "    sgd = optimizers.SGD(lr = 0.001)\n",
    "    model.compile(optimizer = sgd, loss = 'categorical_crossentropy', metrics = ['accuracy'])\n",
    "    \n",
    "    return model"
   ]
  },
  {
   "cell_type": "code",
   "execution_count": 36,
   "metadata": {
    "ExecuteTime": {
     "end_time": "2020-01-21T02:32:19.098207Z",
     "start_time": "2020-01-21T02:30:24.158366Z"
    }
   },
   "outputs": [],
   "source": [
    "model = mlp_model()\n",
    "history = model.fit(X_train, y_train, validation_split = 0.3, epochs = 200, verbose = 0)"
   ]
  },
  {
   "cell_type": "code",
   "execution_count": 37,
   "metadata": {
    "ExecuteTime": {
     "end_time": "2020-01-21T02:32:19.204923Z",
     "start_time": "2020-01-21T02:32:19.106188Z"
    }
   },
   "outputs": [
    {
     "data": {
      "image/png": "[encoded data removed]",
      "text/plain": [
       "<Figure size 432x288 with 1 Axes>"
      ]
     },
     "metadata": {
      "needs_background": "light"
     },
     "output_type": "display_data"
    }
   ],
   "source": [
    "plt.plot(history.history['accuracy'])\n",
    "plt.plot(history.history['val_accuracy'])\n",
    "plt.legend(['training', 'validation'], loc = 'upper left')\n",
    "plt.show()"
   ]
  },
  {
   "cell_type": "code",
   "execution_count": 38,
   "metadata": {
    "ExecuteTime": {
     "end_time": "2020-01-21T02:32:19.401158Z",
     "start_time": "2020-01-21T02:32:19.211939Z"
    }
   },
   "outputs": [
    {
     "name": "stdout",
     "output_type": "stream",
     "text": [
      "10000/10000 [==============================] - 0s 19us/step\n"
     ]
    }
   ],
   "source": [
    "results = model.evaluate(X_test, y_test)"
   ]
  },
  {
   "cell_type": "code",
   "execution_count": 39,
   "metadata": {
    "ExecuteTime": {
     "end_time": "2020-01-21T02:32:19.410148Z",
     "start_time": "2020-01-21T02:32:19.408092Z"
    }
   },
   "outputs": [
    {
     "name": "stdout",
     "output_type": "stream",
     "text": [
      "Test accuracy:  0.7232999801635742\n"
     ]
    }
   ],
   "source": [
    "print('Test accuracy: ', results[1])"
   ]
  },
  {
   "cell_type": "markdown",
   "metadata": {},
   "source": [
    "## 1-4. 활성화 함수도 바꿔본다."
   ]
  },
  {
   "cell_type": "code",
   "execution_count": 40,
   "metadata": {
    "ExecuteTime": {
     "end_time": "2020-01-21T02:32:57.859445Z",
     "start_time": "2020-01-21T02:32:57.854489Z"
    }
   },
   "outputs": [],
   "source": [
    "def mlp_model():\n",
    "    model = Sequential()\n",
    "    \n",
    "    model.add(Dense(50, input_shape = (784, )))\n",
    "    model.add(Activation('relu'))    # use relu\n",
    "    model.add(Dense(50))\n",
    "    model.add(Activation('relu'))    # use relu\n",
    "    model.add(Dense(50))\n",
    "    model.add(Activation('relu'))    # use relu\n",
    "    model.add(Dense(50))\n",
    "    model.add(Activation('relu'))    # use relu\n",
    "    model.add(Dense(10))\n",
    "    model.add(Activation('softmax'))\n",
    "    \n",
    "    sgd = optimizers.SGD(lr = 0.001)\n",
    "    model.compile(optimizer = sgd, loss = 'categorical_crossentropy', metrics = ['accuracy'])\n",
    "    \n",
    "    return model"
   ]
  },
  {
   "cell_type": "code",
   "execution_count": 41,
   "metadata": {
    "ExecuteTime": {
     "end_time": "2020-01-21T02:35:02.944403Z",
     "start_time": "2020-01-21T02:33:09.926408Z"
    }
   },
   "outputs": [],
   "source": [
    "model = mlp_model()\n",
    "history = model.fit(X_train, y_train, validation_split = 0.3, epochs = 200, verbose = 0)"
   ]
  },
  {
   "cell_type": "code",
   "execution_count": 42,
   "metadata": {
    "ExecuteTime": {
     "end_time": "2020-01-21T02:35:03.054256Z",
     "start_time": "2020-01-21T02:35:02.951730Z"
    }
   },
   "outputs": [
    {
     "data": {
      "image/png": "[encoded data removed]",
      "text/plain": [
       "<Figure size 432x288 with 1 Axes>"
      ]
     },
     "metadata": {
      "needs_background": "light"
     },
     "output_type": "display_data"
    }
   ],
   "source": [
    "plt.plot(history.history['accuracy'])\n",
    "plt.plot(history.history['val_accuracy'])\n",
    "plt.legend(['training', 'validation'], loc = 'upper left')\n",
    "plt.show()"
   ]
  },
  {
   "cell_type": "markdown",
   "metadata": {},
   "source": [
    "relu가 정말 좋다는 것을 알 수 있다."
   ]
  },
  {
   "cell_type": "code",
   "execution_count": 43,
   "metadata": {
    "ExecuteTime": {
     "end_time": "2020-01-21T02:35:03.236248Z",
     "start_time": "2020-01-21T02:35:03.060188Z"
    }
   },
   "outputs": [
    {
     "name": "stdout",
     "output_type": "stream",
     "text": [
      "10000/10000 [==============================] - 0s 17us/step\n"
     ]
    }
   ],
   "source": [
    "results = model.evaluate(X_test, y_test)"
   ]
  },
  {
   "cell_type": "markdown",
   "metadata": {},
   "source": [
    "`evaluate` 메소드를 통해 분류 결과를 평가할 수 있다.\n",
    "- 모델.evaluate(X_테스트, y_테스트)\n",
    "- 요소를 두 개 가진 리스트를 리턴한다\n",
    "    - 오차\n",
    "    - 인식률"
   ]
  },
  {
   "cell_type": "code",
   "execution_count": 45,
   "metadata": {
    "ExecuteTime": {
     "end_time": "2020-01-21T02:39:31.126281Z",
     "start_time": "2020-01-21T02:39:31.122223Z"
    }
   },
   "outputs": [
    {
     "data": {
      "text/plain": [
       "[0.7360868230940054, 0.9104999899864197]"
      ]
     },
     "execution_count": 45,
     "metadata": {},
     "output_type": "execute_result"
    }
   ],
   "source": [
    "results"
   ]
  },
  {
   "cell_type": "code",
   "execution_count": 44,
   "metadata": {
    "ExecuteTime": {
     "end_time": "2020-01-21T02:35:03.247179Z",
     "start_time": "2020-01-21T02:35:03.243219Z"
    }
   },
   "outputs": [
    {
     "name": "stdout",
     "output_type": "stream",
     "text": [
      "Test accuracy:  0.9104999899864197\n"
     ]
    }
   ],
   "source": [
    "print('Test accuracy: ', results[1])"
   ]
  },
  {
   "cell_type": "markdown",
   "metadata": {},
   "source": [
    "## 1-5. 최적화 알고리즘도 바꿔본다."
   ]
  },
  {
   "cell_type": "markdown",
   "metadata": {},
   "source": [
    "### 초기화 / 활성화 함수 바꾸기 == 좋은 지점에서 출발하자\n",
    "\n",
    "### 최적화 기법 적용하기 == 좋은 학습 방법을 활용하자\n",
    "- local minimum에 고였을 때 다시 튀어올라서 global minimum을 찾을 수 있도록 \n",
    "- local minimum에 빨리 도달할 수 있도록\n",
    "    - alpha값을 adaptive하게 적용\n",
    "        - 초기에는 크게, 갈수록 정교하게 --> adam"
   ]
  },
  {
   "cell_type": "code",
   "execution_count": 46,
   "metadata": {
    "ExecuteTime": {
     "end_time": "2020-01-21T02:47:52.509356Z",
     "start_time": "2020-01-21T02:47:52.503404Z"
    }
   },
   "outputs": [],
   "source": [
    "def mlp_model():\n",
    "    model = Sequential()\n",
    "    \n",
    "    model.add(Dense(50, input_shape = (784, )))\n",
    "    model.add(Activation('sigmoid'))    \n",
    "    model.add(Dense(50))\n",
    "    model.add(Activation('sigmoid'))  \n",
    "    model.add(Dense(50))\n",
    "    model.add(Activation('sigmoid'))    \n",
    "    model.add(Dense(50))\n",
    "    model.add(Activation('sigmoid'))    \n",
    "    model.add(Dense(10))\n",
    "    model.add(Activation('softmax'))\n",
    "    \n",
    "    adam = optimizers.Adam(lr = 0.001)                     # use Adam optimizer\n",
    "    model.compile(optimizer = adam, loss = 'categorical_crossentropy', metrics = ['accuracy'])\n",
    "    \n",
    "    return model"
   ]
  },
  {
   "cell_type": "code",
   "execution_count": 48,
   "metadata": {
    "ExecuteTime": {
     "end_time": "2020-01-21T02:50:16.445449Z",
     "start_time": "2020-01-21T02:48:15.439340Z"
    }
   },
   "outputs": [],
   "source": [
    "model = mlp_model()\n",
    "history = model.fit(X_train, y_train, validation_split = 0.3, epochs = 200, verbose = 0)"
   ]
  },
  {
   "cell_type": "code",
   "execution_count": 49,
   "metadata": {
    "ExecuteTime": {
     "end_time": "2020-01-21T02:50:16.551148Z",
     "start_time": "2020-01-21T02:50:16.452412Z"
    },
    "scrolled": true
   },
   "outputs": [
    {
     "data": {
      "image/png": "[encoded data removed]",
      "text/plain": [
       "<Figure size 432x288 with 1 Axes>"
      ]
     },
     "metadata": {
      "needs_background": "light"
     },
     "output_type": "display_data"
    }
   ],
   "source": [
    "plt.plot(history.history['accuracy'])\n",
    "plt.plot(history.history['val_accuracy'])\n",
    "plt.legend(['training', 'validation'], loc = 'upper left')\n",
    "plt.show()"
   ]
  },
  {
   "cell_type": "markdown",
   "metadata": {},
   "source": [
    "sigmoid를 썼고 초기화를 딱히 지정해주지 않았음에도 불구하고 optimizer가 인식률을 충분히 확보해주었다."
   ]
  },
  {
   "cell_type": "code",
   "execution_count": 50,
   "metadata": {
    "ExecuteTime": {
     "end_time": "2020-01-21T02:50:58.267704Z",
     "start_time": "2020-01-21T02:50:58.087706Z"
    }
   },
   "outputs": [
    {
     "name": "stdout",
     "output_type": "stream",
     "text": [
      "10000/10000 [==============================] - 0s 18us/step\n"
     ]
    }
   ],
   "source": [
    "results = model.evaluate(X_test, y_test)"
   ]
  },
  {
   "cell_type": "code",
   "execution_count": 51,
   "metadata": {
    "ExecuteTime": {
     "end_time": "2020-01-21T02:51:02.682118Z",
     "start_time": "2020-01-21T02:51:02.679080Z"
    }
   },
   "outputs": [
    {
     "name": "stdout",
     "output_type": "stream",
     "text": [
      "Test accuracy:  0.9266999959945679\n"
     ]
    }
   ],
   "source": [
    "print('Test accuracy: ', results[1])"
   ]
  },
  {
   "cell_type": "markdown",
   "metadata": {},
   "source": [
    "## 1-5-1. momentum\n",
    "\n",
    "> 진행 중인 방향으로 관성을 더해 지역 최소점에 빠지지 않도록 함\n",
    "\n",
    "<img src=momentum.jpg>\n",
    "\n",
    "- 모멘텀 상수 r: 과거 오차값을 반영할 비율을 결정한다.\n",
    "    - 최근 것에 가중치를 많이 둠\n",
    "    - 예전 것은 거의 0에 수렴\n",
    "\n",
    "\n",
    "- alpha값은 작게 주어야 함.\n",
    "    - 가속도를 준 상태에서 alpha(lr)까지 크게 주면 해를 지나칠 우려가 있음\n",
    "    - 기본 SGD를 쓸 때에는 alpha를 꽤 크게 줘야 함 --> 안 그러면 너무 느려짐"
   ]
  },
  {
   "cell_type": "markdown",
   "metadata": {},
   "source": [
    "## 1-6. 배치 정규화도 해준다.\n",
    "\n",
    "- 활성화 함수 적용하기 **전**에 해줘야 한다."
   ]
  },
  {
   "cell_type": "code",
   "execution_count": 52,
   "metadata": {
    "ExecuteTime": {
     "end_time": "2020-01-21T04:21:01.508223Z",
     "start_time": "2020-01-21T04:21:01.500244Z"
    }
   },
   "outputs": [],
   "source": [
    "def mlp_model():\n",
    "    model = Sequential()\n",
    "    \n",
    "    model.add(Dense(50, input_shape = (784, )))\n",
    "    model.add(BatchNormalization())       #apply batch normalization BEFORE adding activation function\n",
    "    model.add(Activation('sigmoid'))    \n",
    "    model.add(Dense(50))\n",
    "    model.add(BatchNormalization())       \n",
    "    model.add(Activation('sigmoid'))    \n",
    "    model.add(Dense(50))\n",
    "    model.add(BatchNormalization())       \n",
    "    model.add(Activation('sigmoid'))    \n",
    "    model.add(Dense(50))\n",
    "    model.add(BatchNormalization())       \n",
    "    model.add(Activation('sigmoid'))    \n",
    "    model.add(Dense(10))\n",
    "    model.add(Activation('softmax'))\n",
    "    \n",
    "    sgd = optimizers.SGD(lr = 0.001)\n",
    "    model.compile(optimizer = sgd, loss = 'categorical_crossentropy', metrics = ['accuracy'])\n",
    "    \n",
    "    return model"
   ]
  },
  {
   "cell_type": "code",
   "execution_count": 53,
   "metadata": {
    "ExecuteTime": {
     "end_time": "2020-01-21T04:23:46.825176Z",
     "start_time": "2020-01-21T04:21:06.839575Z"
    }
   },
   "outputs": [],
   "source": [
    "model = mlp_model()\n",
    "history = model.fit(X_train, y_train, validation_split = 0.3, epochs = 200, verbose = 0)"
   ]
  },
  {
   "cell_type": "code",
   "execution_count": 54,
   "metadata": {
    "ExecuteTime": {
     "end_time": "2020-01-21T04:23:46.935569Z",
     "start_time": "2020-01-21T04:23:46.834981Z"
    }
   },
   "outputs": [
    {
     "data": {
      "image/png": "[encoded data removed]",
      "text/plain": [
       "<Figure size 432x288 with 1 Axes>"
      ]
     },
     "metadata": {
      "needs_background": "light"
     },
     "output_type": "display_data"
    }
   ],
   "source": [
    "plt.plot(history.history['accuracy'])\n",
    "plt.plot(history.history['val_accuracy'])\n",
    "plt.legend(['training', 'validation'], loc = 'upper left')\n",
    "plt.show()"
   ]
  },
  {
   "cell_type": "markdown",
   "metadata": {},
   "source": [
    "가장 나쁜 SGD 그대로 쓰기 + lr도 작게 + sigmoid(not relu) + 초기화도 디폴트로 학습했는데도 \n",
    "\n",
    "정규화 하나만으로 학습 결과가 잘 나왔다."
   ]
  },
  {
   "cell_type": "markdown",
   "metadata": {},
   "source": [
    "## 1-7. 드롭아웃\n",
    "> 임의의 파라미터의 weight를 0으로 만드는 것 (== 네트워크 연결을 끊는 것)\n",
    "\n",
    "    - 랜덤하게 선택하는 것이 확률적으로 가장 좋다더라.\n",
    "\n",
    "- 두 가지 효과를 발생시킨다: voting & co-adaptation\n",
    "    - voting(ensemble 방법): 다수의 약한 분류기를 모아서 학습 결과를 절충하는 것; 약한 분류기로 강한 분류기 만들기\n",
    "        - 약한 분류기: 대충 학습시킨 것\n",
    "        - 강한 분류기: 학습을 많이 시켜서 인식률이 높은 것\n",
    "        - **인식률보다 중요한 것은 다양성이다!**\n",
    "        - 드롭아웃을 많이 하면 미니배치 앙상블로 학습한 것과 같은 효과가 발생한다.\n",
    "            - 실질적으로는 네트워크를 하나만 만들었지만, 드롭아웃을 통해 네트워크 연결이 끊기기 때문에 마치 미니배치 앙상블로 모델을 설계한 것과 같은 효과가 발생하는 것이다.\n",
    "            - 미니배치 앙상블: 각 분류기가 서로 다른 배치의 데이터로 학습\n",
    "                - 각 분류기는 약한 분류기가 될 확률이 높아짐 --> voting을 통해 결과 도출\n",
    "<img src=minibatch.jpg>\n",
    "    - co-adaptation 해결:\n",
    "        - co-adaptation: weight가 너무 큰 파라미터에 의해 학습이 좌지우지 되는 것\n",
    "            - 이러한 weight를 0으로 만들 수 있음\n",
    "    \n",
    "    \n",
    "- **과적합(overfitting)** 문제를 피하기 위한 것.\n",
    "\n",
    "- 활성화 함수 **후**에 적용한다.\n",
    "\n",
    "### 과적합\n",
    "> 학습 데이터에 과도하게 맞추어서 학습이 된 상태\n",
    "\n",
    "- 오차가 0이다.\n",
    "- 학습 데이터에 대한 예측률은 100퍼센트이지만, 새로운 데이터에 대한 예측률이 현저히 떨어진다.\n",
    "- 파라미터가 많을수록, 모델이 깊을수록 많이 발생한다.\n",
    "    - CNN에서 발생 가능성이 높다.\n",
    "- cf. under-fitting, appropriate-fitting\n",
    "\n",
    "#### 과적합 검출\n",
    "- validation 데이터의 오차율이 감소하다가 다시 증가하는 시점\n",
    "    - 이때 학습을 멈추면 된다.\n",
    "    - trainging 데이터의 오차율이 계속 감소하더라도 상관없이"
   ]
  },
  {
   "cell_type": "code",
   "execution_count": 59,
   "metadata": {
    "ExecuteTime": {
     "end_time": "2020-01-21T05:04:21.434054Z",
     "start_time": "2020-01-21T05:04:21.427074Z"
    }
   },
   "outputs": [],
   "source": [
    "def mlp_model():\n",
    "    model = Sequential()\n",
    "    \n",
    "    model.add(Dense(50, input_shape = (784, )))\n",
    "    model.add(Activation('sigmoid'))    \n",
    "    model.add(Dropout(0.5))                        # Dropout layer AFTER Activation\n",
    "    model.add(Dense(50))\n",
    "    model.add(Activation('sigmoid'))\n",
    "    model.add(Dropout(0.5))                        # Dropout layer after Activation\n",
    "    model.add(Dense(50))\n",
    "    model.add(Activation('sigmoid'))    \n",
    "    model.add(Dropout(0.5))                        # Dropout layer after Activation\n",
    "    model.add(Dense(50))\n",
    "    model.add(Activation('sigmoid'))    \n",
    "    model.add(Dropout(0.5))                         # Dropout layer after Activation\n",
    "    model.add(Dense(10))\n",
    "    model.add(Activation('softmax'))\n",
    "    \n",
    "    sgd = optimizers.SGD(lr = 0.001)\n",
    "    model.compile(optimizer = sgd, loss = 'categorical_crossentropy', metrics = ['accuracy'])\n",
    "    \n",
    "    return model"
   ]
  },
  {
   "cell_type": "code",
   "execution_count": 60,
   "metadata": {
    "ExecuteTime": {
     "end_time": "2020-01-21T05:06:38.595535Z",
     "start_time": "2020-01-21T05:04:21.787259Z"
    }
   },
   "outputs": [],
   "source": [
    "model = mlp_model()\n",
    "history = model.fit(X_train, y_train, validation_split = 0.3, epochs = 200, verbose = 0)"
   ]
  },
  {
   "cell_type": "code",
   "execution_count": 61,
   "metadata": {
    "ExecuteTime": {
     "end_time": "2020-01-21T05:06:38.703219Z",
     "start_time": "2020-01-21T05:06:38.601963Z"
    }
   },
   "outputs": [
    {
     "data": {
      "image/png": "[encoded data removed]",
      "text/plain": [
       "<Figure size 432x288 with 1 Axes>"
      ]
     },
     "metadata": {
      "needs_background": "light"
     },
     "output_type": "display_data"
    }
   ],
   "source": [
    "plt.plot(history.history['accuracy'])\n",
    "plt.plot(history.history['val_accuracy'])\n",
    "plt.legend(['training', 'validation'], loc = 'upper left')\n",
    "plt.show()"
   ]
  },
  {
   "cell_type": "markdown",
   "metadata": {},
   "source": [
    "학습시켜놨다가 자꾸 무시하니까 training data 그래프가 요동친다."
   ]
  },
  {
   "cell_type": "code",
   "execution_count": 62,
   "metadata": {
    "ExecuteTime": {
     "end_time": "2020-01-21T05:07:09.358817Z",
     "start_time": "2020-01-21T05:07:09.168003Z"
    }
   },
   "outputs": [
    {
     "name": "stdout",
     "output_type": "stream",
     "text": [
      "10000/10000 [==============================] - 0s 18us/step\n"
     ]
    }
   ],
   "source": [
    "results = model.evaluate(X_test, y_test)"
   ]
  },
  {
   "cell_type": "code",
   "execution_count": 63,
   "metadata": {
    "ExecuteTime": {
     "end_time": "2020-01-21T05:07:09.368791Z",
     "start_time": "2020-01-21T05:07:09.365799Z"
    }
   },
   "outputs": [
    {
     "name": "stdout",
     "output_type": "stream",
     "text": [
      "Test accuracy:  0.11349999904632568\n"
     ]
    }
   ],
   "source": [
    "print('Test accuracy: ', results[1])"
   ]
  },
  {
   "cell_type": "markdown",
   "metadata": {},
   "source": [
    "## 1-8. 앙상블 해보기\n",
    "다수의 모델을 구축한 후에 `VotingClassifer` 함수를 통해 앙상블한다.\n",
    "- ensemble_clf = VotingClassifier(estimators = [(모델이름, 모델1), (모델2이름, 모델2), ...], voting = 'hard/soft')\n",
    "    - estimators: (모델이름, 모델)을 요소로 갖는 리스트를 인자로 전달한다. \n",
    "    - voting: 두가지 방식이 있다.\n",
    "        - hard: 분류기마다 가중치를 동일하게 설정\n",
    "        - soft: 분류기마다 가중치를 다르게 설정\n",
    "            - 가중치는 분류기별 인식률을 기준으로 설정한다."
   ]
  },
  {
   "cell_type": "code",
   "execution_count": 71,
   "metadata": {
    "ExecuteTime": {
     "end_time": "2020-01-21T05:41:18.866050Z",
     "start_time": "2020-01-21T05:41:18.858071Z"
    }
   },
   "outputs": [
    {
     "name": "stdout",
     "output_type": "stream",
     "text": [
      "8.0\n",
      "5\n",
      "4\n",
      "[0 1 2 2]\n",
      "[0 1 2]\n",
      "2\n"
     ]
    }
   ],
   "source": [
    "print(np.max([1, 2, 3, 4, 1, 8, 2.4]))\n",
    "print(np.argmax([1, 2, 3, 4, 1, 8, 2.4]))     # max 값의 인덱스를 리턴한다.\n",
    "\n",
    "# one-hot encoding된 데이터에 적용할 경우 label을 출력하는 용도로 사용할 수 있다.\n",
    "print(np.argmax([0, 0, 0, 0, 1, 0]))    \n",
    "\n",
    "#label = [0, 1, 2, 2]\n",
    "\n",
    "x = np.array([[1, 0, 0], [0, 1, 0], [0, 0, 1], [0, 0, 1]])\n",
    "print(np.argmax(x, axis = 1))     # 2차원 array의 경우 max를 연산할 수 있는 방법이 3가지: 전체, 행, 열 --> axis 인자로 조절한다.\n",
    "print(np.argmax(x, axis = 0))\n",
    "\n",
    "y = np.array([0.29, 0.4, 0.7])\n",
    "print(np.argmax(y))"
   ]
  },
  {
   "cell_type": "code",
   "execution_count": 72,
   "metadata": {
    "ExecuteTime": {
     "end_time": "2020-01-21T05:41:40.468343Z",
     "start_time": "2020-01-21T05:41:40.465372Z"
    }
   },
   "outputs": [
    {
     "name": "stdout",
     "output_type": "stream",
     "text": [
      "[[0. 0. 0. ... 0. 0. 0.]\n",
      " [0. 0. 0. ... 0. 0. 1.]\n",
      " [0. 0. 1. ... 0. 0. 0.]\n",
      " ...\n",
      " [0. 0. 0. ... 0. 0. 0.]\n",
      " [0. 0. 0. ... 0. 0. 0.]\n",
      " [0. 0. 0. ... 0. 0. 0.]]\n"
     ]
    }
   ],
   "source": [
    "print(y_train)"
   ]
  },
  {
   "cell_type": "code",
   "execution_count": 73,
   "metadata": {
    "ExecuteTime": {
     "end_time": "2020-01-21T05:42:25.124961Z",
     "start_time": "2020-01-21T05:42:25.120972Z"
    }
   },
   "outputs": [],
   "source": [
    "y_train = np.argmax(y_train, axis = 1)\n",
    "y_test = np.argmax(y_test, axis = 1)"
   ]
  },
  {
   "cell_type": "code",
   "execution_count": 74,
   "metadata": {
    "ExecuteTime": {
     "end_time": "2020-01-21T05:42:39.630179Z",
     "start_time": "2020-01-21T05:42:39.625230Z"
    }
   },
   "outputs": [
    {
     "name": "stdout",
     "output_type": "stream",
     "text": [
      "[6 9 2 ... 5 5 3]\n"
     ]
    }
   ],
   "source": [
    "print(y_train)"
   ]
  },
  {
   "cell_type": "code",
   "execution_count": 106,
   "metadata": {
    "ExecuteTime": {
     "end_time": "2020-01-21T06:38:11.168419Z",
     "start_time": "2020-01-21T06:38:11.162356Z"
    }
   },
   "outputs": [],
   "source": [
    "#별로인 모델 만드는 함수\n",
    "def mlp_model():    \n",
    "    model = Sequential()\n",
    "    \n",
    "    model.add(Dense(50, input_shape = (784, )))\n",
    "    model.add(Activation('sigmoid'))    \n",
    "    model.add(Dense(50))\n",
    "    model.add(Activation('sigmoid'))    \n",
    "    model.add(Dense(50))\n",
    "    model.add(Activation('sigmoid'))    \n",
    "    model.add(Dense(50))\n",
    "    model.add(Activation('sigmoid'))    \n",
    "    model.add(Dense(10))\n",
    "    model.add(Activation('softmax'))\n",
    "    \n",
    "    sgd = optimizers.SGD(lr = 0.001)\n",
    "    model.compile(optimizer = sgd, loss = 'categorical_crossentropy', metrics = ['accuracy'])\n",
    "    \n",
    "    return model"
   ]
  },
  {
   "cell_type": "code",
   "execution_count": 76,
   "metadata": {
    "ExecuteTime": {
     "end_time": "2020-01-21T05:44:59.247982Z",
     "start_time": "2020-01-21T05:44:59.233029Z"
    }
   },
   "outputs": [],
   "source": [
    "#앙상블할 모델을 세 개 만들어준다. (약한 분류기 3개)\n",
    "model1 = KerasClassifier(build_fn = mlp_model, epochs = 200, verbose = 0)\n",
    "model2 = KerasClassifier(build_fn = mlp_model, epochs = 200, verbose = 0)\n",
    "model3 = KerasClassifier(build_fn = mlp_model, epochs = 200, verbose = 0)"
   ]
  },
  {
   "cell_type": "code",
   "execution_count": 77,
   "metadata": {
    "ExecuteTime": {
     "end_time": "2020-01-21T05:45:21.569295Z",
     "start_time": "2020-01-21T05:45:21.553674Z"
    }
   },
   "outputs": [],
   "source": [
    "#앙상블하기\n",
    "ensemble_clf = VotingClassifier(estimators = [\n",
    "    ('model1', model1), \n",
    "    ('model2', model2), \n",
    "    ('model3', model3)], voting = 'soft')"
   ]
  },
  {
   "cell_type": "code",
   "execution_count": 78,
   "metadata": {
    "ExecuteTime": {
     "end_time": "2020-01-21T05:56:55.508630Z",
     "start_time": "2020-01-21T05:50:36.338875Z"
    }
   },
   "outputs": [
    {
     "data": {
      "text/plain": [
       "VotingClassifier(estimators=[('model1',\n",
       "                              <keras.wrappers.scikit_learn.KerasClassifier object at 0x000001F4BA9BB208>),\n",
       "                             ('model2',\n",
       "                              <keras.wrappers.scikit_learn.KerasClassifier object at 0x000001F4BA9BB408>),\n",
       "                             ('model3',\n",
       "                              <keras.wrappers.scikit_learn.KerasClassifier object at 0x000001F4BA9BB588>)],\n",
       "                 flatten_transform=True, n_jobs=None, voting='soft',\n",
       "                 weights=None)"
      ]
     },
     "execution_count": 78,
     "metadata": {},
     "output_type": "execute_result"
    }
   ],
   "source": [
    "ensemble_clf.fit(X_train, y_train)     #텐서플로 버전에 따라 오류가 발생할 수 있다."
   ]
  },
  {
   "cell_type": "code",
   "execution_count": 84,
   "metadata": {
    "ExecuteTime": {
     "end_time": "2020-01-21T06:14:39.060304Z",
     "start_time": "2020-01-21T06:14:38.641775Z"
    }
   },
   "outputs": [],
   "source": [
    "y_pred = ensemble_clf.predict(X_test)"
   ]
  },
  {
   "cell_type": "code",
   "execution_count": 80,
   "metadata": {
    "ExecuteTime": {
     "end_time": "2020-01-21T05:56:56.015663Z",
     "start_time": "2020-01-21T05:56:56.011528Z"
    }
   },
   "outputs": [
    {
     "name": "stdout",
     "output_type": "stream",
     "text": [
      "Test accuracy: 0.7756\n"
     ]
    }
   ],
   "source": [
    "print('Test accuracy:', accuracy_score(y_pred, y_test))"
   ]
  },
  {
   "cell_type": "markdown",
   "metadata": {},
   "source": [
    "별로인 모델로 했는데도 앙상블하니 결과가 꽤 나온다.\n",
    "\n",
    "백짓장도 맞들면 낮다?"
   ]
  },
  {
   "cell_type": "code",
   "execution_count": 107,
   "metadata": {
    "ExecuteTime": {
     "end_time": "2020-01-21T07:00:46.531211Z",
     "start_time": "2020-01-21T06:39:42.942528Z"
    }
   },
   "outputs": [
    {
     "name": "stdout",
     "output_type": "stream",
     "text": [
      "Test accuracy: 0.8016\n"
     ]
    }
   ],
   "source": [
    "#몇개까지 성능 향상이 지속될까?\n",
    "model1 = KerasClassifier(build_fn = mlp_model, epochs = 200, verbose = 0)\n",
    "model2 = KerasClassifier(build_fn = mlp_model, epochs = 200, verbose = 0)\n",
    "model3 = KerasClassifier(build_fn = mlp_model, epochs = 200, verbose = 0)\n",
    "model4 = KerasClassifier(build_fn = mlp_model, epochs = 200, verbose = 0)\n",
    "model5 = KerasClassifier(build_fn = mlp_model, epochs = 200, verbose = 0)\n",
    "model6 = KerasClassifier(build_fn = mlp_model, epochs = 200, verbose = 0)\n",
    "model7 = KerasClassifier(build_fn = mlp_model, epochs = 200, verbose = 0)\n",
    "model8 = KerasClassifier(build_fn = mlp_model, epochs = 200, verbose = 0)\n",
    "model9 = KerasClassifier(build_fn = mlp_model, epochs = 200, verbose = 0)\n",
    "model10 = KerasClassifier(build_fn = mlp_model, epochs = 200, verbose = 0)\n",
    "\n",
    "ensemble_clf = VotingClassifier(estimators = [\n",
    "    ('model1', model1), \n",
    "    ('model2', model2), \n",
    "    ('model3', model3),\n",
    "    ('model4', model4),\n",
    "    ('model5', model5),\n",
    "    ('model6', model6),\n",
    "    ('model7', model7),\n",
    "    ('model8', model8),\n",
    "    ('model9', model9),\n",
    "    ('model10', model10)], voting = 'soft')\n",
    "\n",
    "ensemble_clf.fit(X_train, y_train) \n",
    "\n",
    "y_pred = ensemble_clf.predict(X_test)\n",
    "\n",
    "print('Test accuracy:', accuracy_score(y_pred, y_test))"
   ]
  },
  {
   "cell_type": "markdown",
   "metadata": {},
   "source": [
    "모델을 7개나 늘렸는데 성능 향상은 그저 그렇다. (0.03)"
   ]
  },
  {
   "cell_type": "code",
   "execution_count": null,
   "metadata": {},
   "outputs": [],
   "source": [
    "# 분류기 개수 별 인식률을 출력하는 함수를 정의한다.\n",
    "\n",
    "def calc_acc_by_num_of_models(N):\n",
    "    return accuracy_score(y_pred, y_test)"
   ]
  },
  {
   "cell_type": "markdown",
   "metadata": {},
   "source": [
    "# 2. 최적화 기법 몽땅 적용해보기"
   ]
  },
  {
   "cell_type": "code",
   "execution_count": 85,
   "metadata": {
    "ExecuteTime": {
     "end_time": "2020-01-21T06:21:09.783490Z",
     "start_time": "2020-01-21T06:21:09.776535Z"
    }
   },
   "outputs": [],
   "source": [
    "def mlp_model():\n",
    "    model = Sequential()\n",
    "    \n",
    "    model.add(Dense(50, input_shape = (784, ), kernel_initializer='he_normal'))    #초기화 지정\n",
    "    model.add(BatchNormalization())     # 배치 정규화\n",
    "    model.add(Activation('relu'))       # 활성화 함수 relu\n",
    "    model.add(Dropout(0.2))             # 드롭아웃 적용\n",
    "    model.add(Dense(50, kernel_initializer='he_normal'))\n",
    "    model.add(BatchNormalization())\n",
    "    model.add(Activation('relu'))    \n",
    "    model.add(Dropout(0.2))\n",
    "    model.add(Dense(50, kernel_initializer='he_normal'))\n",
    "    model.add(BatchNormalization())\n",
    "    model.add(Activation('relu'))\n",
    "    model.add(Dropout(0.2))\n",
    "    model.add(Dense(50, kernel_initializer='he_normal'))\n",
    "    model.add(BatchNormalization())\n",
    "    model.add(Activation('relu'))\n",
    "    model.add(Dropout(0.2))\n",
    "    model.add(Dense(10, kernel_initializer='he_normal'))\n",
    "    model.add(Activation('softmax'))\n",
    "    \n",
    "    adam = optimizers.Adam(lr = 0.001)    # 옵티마이저 지정\n",
    "    model.compile(optimizer = adam, loss = 'categorical_crossentropy', metrics = ['accuracy'])\n",
    "    \n",
    "    return model"
   ]
  },
  {
   "cell_type": "code",
   "execution_count": 101,
   "metadata": {
    "ExecuteTime": {
     "end_time": "2020-01-21T06:24:29.734387Z",
     "start_time": "2020-01-21T06:24:29.729399Z"
    }
   },
   "outputs": [],
   "source": [
    "# create 5 models to ensemble\n",
    "from keras.callbacks import LambdaCallback\n",
    "from keras.callbacks import EarlyStopping\n",
    "from keras.layers import LeakyReLU\n",
    "\n",
    "\n",
    "def lambdaf_(epoch, logs, step) : \n",
    "    if epoch % step == 0 : print(f\"{epoch} => {logs}\")                \n",
    "        \n",
    "def printepoch(step) :   \n",
    "    return LambdaCallback(on_epoch_end=lambda epoch, logs: lambdaf_(epoch, logs, step)  )\n",
    "\n",
    "model1 = KerasClassifier(build_fn = mlp_model, epochs = 100)     # 미니배치 앙상블\n",
    "model2 = KerasClassifier(build_fn = mlp_model, epochs = 100)\n",
    "model3 = KerasClassifier(build_fn = mlp_model, epochs = 100)\n",
    "model4 = KerasClassifier(build_fn = mlp_model, epochs = 100)\n",
    "model5 = KerasClassifier(build_fn = mlp_model, epochs = 100)"
   ]
  },
  {
   "cell_type": "code",
   "execution_count": 102,
   "metadata": {
    "ExecuteTime": {
     "end_time": "2020-01-21T06:24:30.861853Z",
     "start_time": "2020-01-21T06:24:30.857826Z"
    }
   },
   "outputs": [],
   "source": [
    "ensemble_clf = VotingClassifier(estimators = [('model1', model1), ('model2', model2), ('model3', model3), ('model4', model4), ('model5', model5)], voting = 'soft')"
   ]
  },
  {
   "cell_type": "code",
   "execution_count": 103,
   "metadata": {
    "ExecuteTime": {
     "end_time": "2020-01-21T06:35:14.251872Z",
     "start_time": "2020-01-21T06:24:32.090613Z"
    }
   },
   "outputs": [
    {
     "name": "stdout",
     "output_type": "stream",
     "text": [
      "Epoch 1/100\n",
      "19800/19800 [==============================] - 2s 90us/step - loss: 1.1649 - accuracy: 0.6338\n",
      "Epoch 2/100\n",
      "19800/19800 [==============================] - 1s 62us/step - loss: 0.5996 - accuracy: 0.8213\n",
      "Epoch 3/100\n",
      "19800/19800 [==============================] - 1s 62us/step - loss: 0.5120 - accuracy: 0.8486\n",
      "Epoch 4/100\n",
      "19800/19800 [==============================] - 1s 62us/step - loss: 0.4536 - accuracy: 0.8663\n",
      "Epoch 5/100\n",
      "19800/19800 [==============================] - 1s 64us/step - loss: 0.4149 - accuracy: 0.8811\n",
      "Epoch 6/100\n",
      "19800/19800 [==============================] - 1s 63us/step - loss: 0.3996 - accuracy: 0.8859\n",
      "Epoch 7/100\n",
      "19800/19800 [==============================] - 1s 65us/step - loss: 0.3505 - accuracy: 0.9001\n",
      "Epoch 8/100\n",
      "19800/19800 [==============================] - 1s 62us/step - loss: 0.3334 - accuracy: 0.9060 0s - loss: 0.330\n",
      "Epoch 9/100\n",
      "19800/19800 [==============================] - 1s 65us/step - loss: 0.3184 - accuracy: 0.9095\n",
      "Epoch 10/100\n",
      "19800/19800 [==============================] - 1s 63us/step - loss: 0.3062 - accuracy: 0.9112\n",
      "Epoch 11/100\n",
      "19800/19800 [==============================] - 1s 64us/step - loss: 0.2893 - accuracy: 0.9170\n",
      "Epoch 12/100\n",
      "19800/19800 [==============================] - 1s 63us/step - loss: 0.2804 - accuracy: 0.9191\n",
      "Epoch 13/100\n",
      "19800/19800 [==============================] - 1s 61us/step - loss: 0.2697 - accuracy: 0.9213\n",
      "Epoch 14/100\n",
      "19800/19800 [==============================] - 1s 62us/step - loss: 0.2702 - accuracy: 0.9212\n",
      "Epoch 15/100\n",
      "19800/19800 [==============================] - 1s 62us/step - loss: 0.2546 - accuracy: 0.9265\n",
      "Epoch 16/100\n",
      "19800/19800 [==============================] - 1s 60us/step - loss: 0.2506 - accuracy: 0.9257\n",
      "Epoch 17/100\n",
      "19800/19800 [==============================] - 1s 62us/step - loss: 0.2482 - accuracy: 0.9273\n",
      "Epoch 18/100\n",
      "19800/19800 [==============================] - 1s 66us/step - loss: 0.2519 - accuracy: 0.9297\n",
      "Epoch 19/100\n",
      "19800/19800 [==============================] - 1s 62us/step - loss: 0.2323 - accuracy: 0.9325\n",
      "Epoch 20/100\n",
      "19800/19800 [==============================] - 1s 62us/step - loss: 0.2275 - accuracy: 0.9337\n",
      "Epoch 21/100\n",
      "19800/19800 [==============================] - 1s 63us/step - loss: 0.2184 - accuracy: 0.9374\n",
      "Epoch 22/100\n",
      "19800/19800 [==============================] - 1s 63us/step - loss: 0.2185 - accuracy: 0.9345\n",
      "Epoch 23/100\n",
      "19800/19800 [==============================] - 1s 63us/step - loss: 0.2224 - accuracy: 0.9359 0s - loss: 0.2093 - accuracy - ETA: 0s - loss:\n",
      "Epoch 24/100\n",
      "19800/19800 [==============================] - 1s 62us/step - loss: 0.2149 - accuracy: 0.9379\n",
      "Epoch 25/100\n",
      "19800/19800 [==============================] - 1s 62us/step - loss: 0.2131 - accuracy: 0.9375\n",
      "Epoch 26/100\n",
      "19800/19800 [==============================] - 1s 63us/step - loss: 0.2084 - accuracy: 0.9380\n",
      "Epoch 27/100\n",
      "19800/19800 [==============================] - 1s 63us/step - loss: 0.2071 - accuracy: 0.9409\n",
      "Epoch 28/100\n",
      "19800/19800 [==============================] - 1s 63us/step - loss: 0.2031 - accuracy: 0.9413\n",
      "Epoch 29/100\n",
      "19800/19800 [==============================] - 1s 63us/step - loss: 0.1994 - accuracy: 0.9426\n",
      "Epoch 30/100\n",
      "19800/19800 [==============================] - 1s 65us/step - loss: 0.1945 - accuracy: 0.9414\n",
      "Epoch 31/100\n",
      "19800/19800 [==============================] - 1s 62us/step - loss: 0.1909 - accuracy: 0.9430\n",
      "Epoch 32/100\n",
      "19800/19800 [==============================] - 1s 61us/step - loss: 0.1906 - accuracy: 0.9456\n",
      "Epoch 33/100\n",
      "19800/19800 [==============================] - 1s 62us/step - loss: 0.1970 - accuracy: 0.9424\n",
      "Epoch 34/100\n",
      "19800/19800 [==============================] - 1s 62us/step - loss: 0.1845 - accuracy: 0.9454\n",
      "Epoch 35/100\n",
      "19800/19800 [==============================] - 1s 62us/step - loss: 0.1911 - accuracy: 0.9442\n",
      "Epoch 36/100\n",
      "19800/19800 [==============================] - 1s 65us/step - loss: 0.1895 - accuracy: 0.9428\n",
      "Epoch 37/100\n",
      "19800/19800 [==============================] - 1s 67us/step - loss: 0.1834 - accuracy: 0.9461\n",
      "Epoch 38/100\n",
      "19800/19800 [==============================] - 1s 62us/step - loss: 0.1806 - accuracy: 0.9490\n",
      "Epoch 39/100\n",
      "19800/19800 [==============================] - 1s 62us/step - loss: 0.1798 - accuracy: 0.9481\n",
      "Epoch 40/100\n",
      "19800/19800 [==============================] - 1s 63us/step - loss: 0.1819 - accuracy: 0.9452\n",
      "Epoch 41/100\n",
      "19800/19800 [==============================] - 1s 63us/step - loss: 0.1769 - accuracy: 0.9481\n",
      "Epoch 42/100\n",
      "19800/19800 [==============================] - 1s 63us/step - loss: 0.1720 - accuracy: 0.9499\n",
      "Epoch 43/100\n",
      "19800/19800 [==============================] - 1s 64us/step - loss: 0.1771 - accuracy: 0.9491\n",
      "Epoch 44/100\n",
      "19800/19800 [==============================] - 1s 64us/step - loss: 0.1668 - accuracy: 0.9503\n",
      "Epoch 45/100\n",
      "19800/19800 [==============================] - 1s 64us/step - loss: 0.1709 - accuracy: 0.9491\n",
      "Epoch 46/100\n",
      "19800/19800 [==============================] - 1s 60us/step - loss: 0.1718 - accuracy: 0.9496\n",
      "Epoch 47/100\n",
      "19800/19800 [==============================] - 1s 64us/step - loss: 0.1696 - accuracy: 0.9499\n",
      "Epoch 48/100\n",
      "19800/19800 [==============================] - 1s 64us/step - loss: 0.1639 - accuracy: 0.9526\n",
      "Epoch 49/100\n",
      "19800/19800 [==============================] - 1s 64us/step - loss: 0.1584 - accuracy: 0.9529\n",
      "Epoch 50/100\n",
      "19800/19800 [==============================] - 1s 63us/step - loss: 0.1667 - accuracy: 0.9514\n",
      "Epoch 51/100\n",
      "19800/19800 [==============================] - 1s 63us/step - loss: 0.1609 - accuracy: 0.9521\n",
      "Epoch 52/100\n",
      "19800/19800 [==============================] - 1s 62us/step - loss: 0.1569 - accuracy: 0.9535\n",
      "Epoch 53/100\n",
      "19800/19800 [==============================] - 1s 64us/step - loss: 0.1544 - accuracy: 0.9524\n",
      "Epoch 54/100\n",
      "19800/19800 [==============================] - 1s 62us/step - loss: 0.1566 - accuracy: 0.9526\n",
      "Epoch 55/100\n",
      "19800/19800 [==============================] - 1s 61us/step - loss: 0.1560 - accuracy: 0.9555\n",
      "Epoch 56/100\n",
      "19800/19800 [==============================] - 1s 62us/step - loss: 0.1610 - accuracy: 0.9523\n",
      "Epoch 57/100\n",
      "19800/19800 [==============================] - 1s 64us/step - loss: 0.1638 - accuracy: 0.9514\n",
      "Epoch 58/100\n",
      "19800/19800 [==============================] - 1s 62us/step - loss: 0.1556 - accuracy: 0.9543\n",
      "Epoch 59/100\n",
      "19800/19800 [==============================] - 1s 62us/step - loss: 0.1506 - accuracy: 0.9574\n",
      "Epoch 60/100\n",
      "19800/19800 [==============================] - 1s 64us/step - loss: 0.1520 - accuracy: 0.9534\n",
      "Epoch 61/100\n",
      "19800/19800 [==============================] - 1s 63us/step - loss: 0.1473 - accuracy: 0.9551\n",
      "Epoch 62/100\n",
      "19800/19800 [==============================] - 1s 62us/step - loss: 0.1446 - accuracy: 0.9568\n",
      "Epoch 63/100\n",
      "19800/19800 [==============================] - 1s 63us/step - loss: 0.1464 - accuracy: 0.9555\n",
      "Epoch 64/100\n",
      "19800/19800 [==============================] - 1s 61us/step - loss: 0.1466 - accuracy: 0.9563\n",
      "Epoch 65/100\n",
      "19800/19800 [==============================] - 1s 61us/step - loss: 0.1406 - accuracy: 0.9574\n",
      "Epoch 66/100\n",
      "19800/19800 [==============================] - 1s 63us/step - loss: 0.1480 - accuracy: 0.9568\n",
      "Epoch 67/100\n",
      "19800/19800 [==============================] - 1s 63us/step - loss: 0.1501 - accuracy: 0.9559\n",
      "Epoch 68/100\n",
      "19800/19800 [==============================] - 1s 62us/step - loss: 0.1439 - accuracy: 0.9565\n",
      "Epoch 69/100\n",
      "19800/19800 [==============================] - 1s 63us/step - loss: 0.1466 - accuracy: 0.9565\n",
      "Epoch 70/100\n",
      "19800/19800 [==============================] - 1s 62us/step - loss: 0.1350 - accuracy: 0.9573\n",
      "Epoch 71/100\n",
      "19800/19800 [==============================] - 1s 62us/step - loss: 0.1419 - accuracy: 0.9571\n",
      "Epoch 72/100\n",
      "19800/19800 [==============================] - 1s 63us/step - loss: 0.1428 - accuracy: 0.9568\n",
      "Epoch 73/100\n",
      "19800/19800 [==============================] - 1s 61us/step - loss: 0.1427 - accuracy: 0.9575\n",
      "Epoch 74/100\n",
      "19800/19800 [==============================] - 1s 63us/step - loss: 0.1436 - accuracy: 0.9561\n",
      "Epoch 75/100\n",
      "19800/19800 [==============================] - 1s 62us/step - loss: 0.1343 - accuracy: 0.9585\n",
      "Epoch 76/100\n",
      "19800/19800 [==============================] - 1s 62us/step - loss: 0.1441 - accuracy: 0.9575\n",
      "Epoch 77/100\n"
     ]
    },
    {
     "name": "stdout",
     "output_type": "stream",
     "text": [
      "19800/19800 [==============================] - 1s 61us/step - loss: 0.1401 - accuracy: 0.9596\n",
      "Epoch 78/100\n",
      "19800/19800 [==============================] - 1s 61us/step - loss: 0.1368 - accuracy: 0.9589\n",
      "Epoch 79/100\n",
      "19800/19800 [==============================] - 1s 62us/step - loss: 0.1344 - accuracy: 0.9601\n",
      "Epoch 80/100\n",
      "19800/19800 [==============================] - 1s 63us/step - loss: 0.1409 - accuracy: 0.9575\n",
      "Epoch 81/100\n",
      "19800/19800 [==============================] - 1s 62us/step - loss: 0.1351 - accuracy: 0.9585\n",
      "Epoch 82/100\n",
      "19800/19800 [==============================] - 1s 61us/step - loss: 0.1370 - accuracy: 0.9575\n",
      "Epoch 83/100\n",
      "19800/19800 [==============================] - 1s 62us/step - loss: 0.1389 - accuracy: 0.9576 0s - loss: 0.1296 - accuracy - ETA: 0s - los\n",
      "Epoch 84/100\n",
      "19800/19800 [==============================] - 1s 61us/step - loss: 0.1313 - accuracy: 0.9599\n",
      "Epoch 85/100\n",
      "19800/19800 [==============================] - 1s 61us/step - loss: 0.1315 - accuracy: 0.9602\n",
      "Epoch 86/100\n",
      "19800/19800 [==============================] - 1s 61us/step - loss: 0.1270 - accuracy: 0.9623\n",
      "Epoch 87/100\n",
      "19800/19800 [==============================] - 1s 61us/step - loss: 0.1412 - accuracy: 0.9573\n",
      "Epoch 88/100\n",
      "19800/19800 [==============================] - 1s 64us/step - loss: 0.1328 - accuracy: 0.9585\n",
      "Epoch 89/100\n",
      "19800/19800 [==============================] - 1s 63us/step - loss: 0.1277 - accuracy: 0.9615\n",
      "Epoch 90/100\n",
      "19800/19800 [==============================] - 1s 62us/step - loss: 0.1240 - accuracy: 0.9613\n",
      "Epoch 91/100\n",
      "19800/19800 [==============================] - 1s 61us/step - loss: 0.1331 - accuracy: 0.9593\n",
      "Epoch 92/100\n",
      "19800/19800 [==============================] - 1s 64us/step - loss: 0.1280 - accuracy: 0.9614\n",
      "Epoch 93/100\n",
      "19800/19800 [==============================] - 1s 62us/step - loss: 0.1253 - accuracy: 0.9621\n",
      "Epoch 94/100\n",
      "19800/19800 [==============================] - 1s 63us/step - loss: 0.1231 - accuracy: 0.9640\n",
      "Epoch 95/100\n",
      "19800/19800 [==============================] - 1s 63us/step - loss: 0.1303 - accuracy: 0.9612\n",
      "Epoch 96/100\n",
      "19800/19800 [==============================] - 1s 64us/step - loss: 0.1364 - accuracy: 0.9598\n",
      "Epoch 97/100\n",
      "19800/19800 [==============================] - 1s 61us/step - loss: 0.1248 - accuracy: 0.9624\n",
      "Epoch 98/100\n",
      "19800/19800 [==============================] - 1s 66us/step - loss: 0.1264 - accuracy: 0.9613\n",
      "Epoch 99/100\n",
      "19800/19800 [==============================] - 1s 62us/step - loss: 0.1250 - accuracy: 0.9623\n",
      "Epoch 100/100\n",
      "19800/19800 [==============================] - 1s 63us/step - loss: 0.1215 - accuracy: 0.9628\n",
      "Epoch 1/100\n",
      "19800/19800 [==============================] - 2s 91us/step - loss: 1.0994 - accuracy: 0.6558\n",
      "Epoch 2/100\n",
      "19800/19800 [==============================] - 1s 63us/step - loss: 0.6029 - accuracy: 0.8234\n",
      "Epoch 3/100\n",
      "19800/19800 [==============================] - 1s 65us/step - loss: 0.4921 - accuracy: 0.8580\n",
      "Epoch 4/100\n",
      "19800/19800 [==============================] - 1s 63us/step - loss: 0.4482 - accuracy: 0.8732\n",
      "Epoch 5/100\n",
      "19800/19800 [==============================] - 1s 65us/step - loss: 0.3998 - accuracy: 0.8863\n",
      "Epoch 6/100\n",
      "19800/19800 [==============================] - 1s 66us/step - loss: 0.3853 - accuracy: 0.8894\n",
      "Epoch 7/100\n",
      "19800/19800 [==============================] - 1s 65us/step - loss: 0.3581 - accuracy: 0.8957\n",
      "Epoch 8/100\n",
      "19800/19800 [==============================] - 1s 65us/step - loss: 0.3335 - accuracy: 0.9035\n",
      "Epoch 9/100\n",
      "19800/19800 [==============================] - 1s 63us/step - loss: 0.3318 - accuracy: 0.9032\n",
      "Epoch 10/100\n",
      "19800/19800 [==============================] - 1s 63us/step - loss: 0.3024 - accuracy: 0.9114\n",
      "Epoch 11/100\n",
      "19800/19800 [==============================] - 1s 63us/step - loss: 0.2984 - accuracy: 0.9116\n",
      "Epoch 12/100\n",
      "19800/19800 [==============================] - 1s 62us/step - loss: 0.2816 - accuracy: 0.9188\n",
      "Epoch 13/100\n",
      "19800/19800 [==============================] - 1s 63us/step - loss: 0.2784 - accuracy: 0.9208\n",
      "Epoch 14/100\n",
      "19800/19800 [==============================] - 1s 63us/step - loss: 0.2674 - accuracy: 0.9222\n",
      "Epoch 15/100\n",
      "19800/19800 [==============================] - 1s 63us/step - loss: 0.2605 - accuracy: 0.9256\n",
      "Epoch 16/100\n",
      "19800/19800 [==============================] - 1s 64us/step - loss: 0.2524 - accuracy: 0.9274\n",
      "Epoch 17/100\n",
      "19800/19800 [==============================] - 1s 64us/step - loss: 0.2384 - accuracy: 0.9310\n",
      "Epoch 18/100\n",
      "19800/19800 [==============================] - 1s 64us/step - loss: 0.2374 - accuracy: 0.9312\n",
      "Epoch 19/100\n",
      "19800/19800 [==============================] - 1s 64us/step - loss: 0.2386 - accuracy: 0.9304\n",
      "Epoch 20/100\n",
      "19800/19800 [==============================] - 1s 65us/step - loss: 0.2329 - accuracy: 0.9308 0s - l\n",
      "Epoch 21/100\n",
      "19800/19800 [==============================] - 1s 66us/step - loss: 0.2318 - accuracy: 0.9324\n",
      "Epoch 22/100\n",
      "19800/19800 [==============================] - 1s 66us/step - loss: 0.2181 - accuracy: 0.9362\n",
      "Epoch 23/100\n",
      "19800/19800 [==============================] - 1s 65us/step - loss: 0.2173 - accuracy: 0.9354\n",
      "Epoch 24/100\n",
      "19800/19800 [==============================] - 1s 70us/step - loss: 0.2178 - accuracy: 0.9357\n",
      "Epoch 25/100\n",
      "19800/19800 [==============================] - 1s 71us/step - loss: 0.2177 - accuracy: 0.9359\n",
      "Epoch 26/100\n",
      "19800/19800 [==============================] - 1s 69us/step - loss: 0.2116 - accuracy: 0.9384\n",
      "Epoch 27/100\n",
      "19800/19800 [==============================] - 1s 69us/step - loss: 0.2047 - accuracy: 0.9388\n",
      "Epoch 28/100\n",
      "19800/19800 [==============================] - 1s 71us/step - loss: 0.2099 - accuracy: 0.9372\n",
      "Epoch 29/100\n",
      "19800/19800 [==============================] - 1s 71us/step - loss: 0.2044 - accuracy: 0.9379\n",
      "Epoch 30/100\n",
      "19800/19800 [==============================] - 1s 71us/step - loss: 0.1952 - accuracy: 0.9407\n",
      "Epoch 31/100\n",
      "19800/19800 [==============================] - 1s 72us/step - loss: 0.1986 - accuracy: 0.9428\n",
      "Epoch 32/100\n",
      "19800/19800 [==============================] - 1s 71us/step - loss: 0.1979 - accuracy: 0.9438\n",
      "Epoch 33/100\n",
      "19800/19800 [==============================] - 1s 66us/step - loss: 0.1960 - accuracy: 0.9440\n",
      "Epoch 34/100\n",
      "19800/19800 [==============================] - 1s 63us/step - loss: 0.1901 - accuracy: 0.9448\n",
      "Epoch 35/100\n",
      "19800/19800 [==============================] - 1s 64us/step - loss: 0.1904 - accuracy: 0.9422\n",
      "Epoch 36/100\n",
      "19800/19800 [==============================] - 1s 65us/step - loss: 0.1875 - accuracy: 0.9455\n",
      "Epoch 37/100\n",
      "19800/19800 [==============================] - 1s 68us/step - loss: 0.1801 - accuracy: 0.9488\n",
      "Epoch 38/100\n",
      "19800/19800 [==============================] - 1s 69us/step - loss: 0.1793 - accuracy: 0.9481\n",
      "Epoch 39/100\n",
      "19800/19800 [==============================] - 1s 66us/step - loss: 0.1776 - accuracy: 0.9472\n",
      "Epoch 40/100\n",
      "19800/19800 [==============================] - 1s 64us/step - loss: 0.1769 - accuracy: 0.9452\n",
      "Epoch 41/100\n",
      "19800/19800 [==============================] - 1s 64us/step - loss: 0.1691 - accuracy: 0.9510\n",
      "Epoch 42/100\n",
      "19800/19800 [==============================] - 1s 66us/step - loss: 0.1728 - accuracy: 0.9488\n",
      "Epoch 43/100\n",
      "19800/19800 [==============================] - 1s 69us/step - loss: 0.1691 - accuracy: 0.9500\n",
      "Epoch 44/100\n",
      "19800/19800 [==============================] - 1s 65us/step - loss: 0.1812 - accuracy: 0.9457\n",
      "Epoch 45/100\n",
      "19800/19800 [==============================] - 1s 64us/step - loss: 0.1708 - accuracy: 0.9506\n",
      "Epoch 46/100\n",
      "19800/19800 [==============================] - 1s 65us/step - loss: 0.1720 - accuracy: 0.9484\n",
      "Epoch 47/100\n",
      "19800/19800 [==============================] - 1s 68us/step - loss: 0.1643 - accuracy: 0.9515\n",
      "Epoch 48/100\n",
      "19800/19800 [==============================] - 1s 66us/step - loss: 0.1669 - accuracy: 0.9506\n",
      "Epoch 49/100\n",
      "19800/19800 [==============================] - 1s 65us/step - loss: 0.1627 - accuracy: 0.9509\n",
      "Epoch 50/100\n",
      "19800/19800 [==============================] - 1s 64us/step - loss: 0.1620 - accuracy: 0.9518\n",
      "Epoch 51/100\n",
      "19800/19800 [==============================] - 1s 68us/step - loss: 0.1635 - accuracy: 0.9524\n",
      "Epoch 52/100\n",
      "19800/19800 [==============================] - 1s 67us/step - loss: 0.1611 - accuracy: 0.9523\n",
      "Epoch 53/100\n",
      "19800/19800 [==============================] - 1s 63us/step - loss: 0.1548 - accuracy: 0.9543 0s - loss: 0.1545 - accuracy: 0.\n",
      "Epoch 54/100\n",
      "19800/19800 [==============================] - 1s 65us/step - loss: 0.1544 - accuracy: 0.9540\n",
      "Epoch 55/100\n",
      "19800/19800 [==============================] - 1s 67us/step - loss: 0.1563 - accuracy: 0.9537\n",
      "Epoch 56/100\n",
      "19800/19800 [==============================] - 1s 66us/step - loss: 0.1613 - accuracy: 0.9509\n",
      "Epoch 57/100\n",
      "19800/19800 [==============================] - 1s 64us/step - loss: 0.1613 - accuracy: 0.9523\n",
      "Epoch 58/100\n",
      "19800/19800 [==============================] - 1s 64us/step - loss: 0.1645 - accuracy: 0.9516\n",
      "Epoch 59/100\n",
      "19800/19800 [==============================] - 1s 67us/step - loss: 0.1561 - accuracy: 0.9522\n",
      "Epoch 60/100\n",
      "19800/19800 [==============================] - 1s 65us/step - loss: 0.1538 - accuracy: 0.9543\n",
      "Epoch 61/100\n",
      "19800/19800 [==============================] - 1s 63us/step - loss: 0.1524 - accuracy: 0.9556\n",
      "Epoch 62/100\n",
      "19800/19800 [==============================] - 1s 64us/step - loss: 0.1473 - accuracy: 0.9561 0s\n",
      "Epoch 63/100\n",
      "19800/19800 [==============================] - 1s 64us/step - loss: 0.1566 - accuracy: 0.9537\n",
      "Epoch 64/100\n",
      "19800/19800 [==============================] - 1s 67us/step - loss: 0.1525 - accuracy: 0.9546\n",
      "Epoch 65/100\n",
      "19800/19800 [==============================] - 1s 65us/step - loss: 0.1505 - accuracy: 0.9572\n",
      "Epoch 66/100\n",
      "19800/19800 [==============================] - 1s 64us/step - loss: 0.1540 - accuracy: 0.9535\n",
      "Epoch 67/100\n",
      "19800/19800 [==============================] - 1s 66us/step - loss: 0.1503 - accuracy: 0.9553\n",
      "Epoch 68/100\n",
      "19800/19800 [==============================] - 1s 67us/step - loss: 0.1552 - accuracy: 0.9555\n",
      "Epoch 69/100\n",
      "19800/19800 [==============================] - 1s 66us/step - loss: 0.1377 - accuracy: 0.9575\n",
      "Epoch 70/100\n",
      "19800/19800 [==============================] - 1s 63us/step - loss: 0.1404 - accuracy: 0.9577\n",
      "Epoch 71/100\n",
      "19800/19800 [==============================] - 1s 64us/step - loss: 0.1473 - accuracy: 0.9560\n",
      "Epoch 72/100\n",
      "19800/19800 [==============================] - 1s 65us/step - loss: 0.1458 - accuracy: 0.9572\n",
      "Epoch 73/100\n",
      "19800/19800 [==============================] - 1s 66us/step - loss: 0.1411 - accuracy: 0.9582\n",
      "Epoch 74/100\n",
      "19800/19800 [==============================] - 1s 65us/step - loss: 0.1399 - accuracy: 0.9580\n",
      "Epoch 75/100\n",
      "19800/19800 [==============================] - 1s 65us/step - loss: 0.1351 - accuracy: 0.9595\n",
      "Epoch 76/100\n",
      "19800/19800 [==============================] - 1s 66us/step - loss: 0.1399 - accuracy: 0.9582\n",
      "Epoch 77/100\n",
      "19800/19800 [==============================] - 1s 66us/step - loss: 0.1380 - accuracy: 0.9587\n",
      "Epoch 78/100\n",
      "19800/19800 [==============================] - 1s 64us/step - loss: 0.1413 - accuracy: 0.9558\n",
      "Epoch 79/100\n",
      "19800/19800 [==============================] - 1s 64us/step - loss: 0.1404 - accuracy: 0.9580\n",
      "Epoch 80/100\n",
      "19800/19800 [==============================] - 1s 65us/step - loss: 0.1371 - accuracy: 0.9604\n",
      "Epoch 81/100\n",
      "19800/19800 [==============================] - 1s 65us/step - loss: 0.1379 - accuracy: 0.9580\n",
      "Epoch 82/100\n",
      "19800/19800 [==============================] - 1s 64us/step - loss: 0.1306 - accuracy: 0.9614\n",
      "Epoch 83/100\n",
      "19800/19800 [==============================] - 1s 63us/step - loss: 0.1342 - accuracy: 0.9593\n",
      "Epoch 84/100\n",
      "19800/19800 [==============================] - 1s 64us/step - loss: 0.1329 - accuracy: 0.9600\n",
      "Epoch 85/100\n",
      "19800/19800 [==============================] - 1s 64us/step - loss: 0.1340 - accuracy: 0.9586\n",
      "Epoch 86/100\n",
      "19800/19800 [==============================] - 1s 65us/step - loss: 0.1308 - accuracy: 0.9608\n",
      "Epoch 87/100\n",
      "19800/19800 [==============================] - 1s 66us/step - loss: 0.1355 - accuracy: 0.9599\n",
      "Epoch 88/100\n",
      "19800/19800 [==============================] - 1s 65us/step - loss: 0.1348 - accuracy: 0.9590\n",
      "Epoch 89/100\n",
      "19800/19800 [==============================] - 1s 65us/step - loss: 0.1419 - accuracy: 0.9571\n",
      "Epoch 90/100\n",
      "19800/19800 [==============================] - 1s 63us/step - loss: 0.1320 - accuracy: 0.9599\n",
      "Epoch 91/100\n",
      "19800/19800 [==============================] - 1s 64us/step - loss: 0.1303 - accuracy: 0.9604\n",
      "Epoch 92/100\n",
      "19800/19800 [==============================] - 1s 64us/step - loss: 0.1278 - accuracy: 0.9634 0s - loss: 0.1275 - accu\n",
      "Epoch 93/100\n",
      "19800/19800 [==============================] - 1s 64us/step - loss: 0.1309 - accuracy: 0.9613\n",
      "Epoch 94/100\n",
      "19800/19800 [==============================] - 1s 64us/step - loss: 0.1353 - accuracy: 0.9618\n",
      "Epoch 95/100\n",
      "19800/19800 [==============================] - 1s 63us/step - loss: 0.1303 - accuracy: 0.9613\n",
      "Epoch 96/100\n",
      "19800/19800 [==============================] - 1s 64us/step - loss: 0.1303 - accuracy: 0.9598\n",
      "Epoch 97/100\n",
      "19800/19800 [==============================] - 1s 64us/step - loss: 0.1298 - accuracy: 0.9609\n",
      "Epoch 98/100\n",
      "19800/19800 [==============================] - 1s 64us/step - loss: 0.1313 - accuracy: 0.9603\n",
      "Epoch 99/100\n",
      "19800/19800 [==============================] - 1s 64us/step - loss: 0.1294 - accuracy: 0.9609\n",
      "Epoch 100/100\n",
      "19800/19800 [==============================] - 1s 63us/step - loss: 0.1228 - accuracy: 0.9626\n",
      "Epoch 1/100\n",
      "19800/19800 [==============================] - 2s 77us/step - loss: 1.1534 - accuracy: 0.6327\n",
      "Epoch 2/100\n",
      "19800/19800 [==============================] - 1s 56us/step - loss: 0.5973 - accuracy: 0.8233\n",
      "Epoch 3/100\n",
      "19800/19800 [==============================] - 1s 58us/step - loss: 0.5038 - accuracy: 0.8516\n",
      "Epoch 4/100\n",
      "19800/19800 [==============================] - 1s 63us/step - loss: 0.4389 - accuracy: 0.8741\n",
      "Epoch 5/100\n",
      "19800/19800 [==============================] - 1s 63us/step - loss: 0.3944 - accuracy: 0.8847\n",
      "Epoch 6/100\n",
      "19800/19800 [==============================] - 1s 65us/step - loss: 0.3689 - accuracy: 0.8926\n",
      "Epoch 7/100\n",
      "19800/19800 [==============================] - 1s 63us/step - loss: 0.3546 - accuracy: 0.8981\n",
      "Epoch 8/100\n",
      "19800/19800 [==============================] - 1s 66us/step - loss: 0.3268 - accuracy: 0.9044\n",
      "Epoch 9/100\n",
      "19800/19800 [==============================] - 1s 65us/step - loss: 0.3092 - accuracy: 0.9097\n",
      "Epoch 10/100\n",
      "19800/19800 [==============================] - 1s 64us/step - loss: 0.3029 - accuracy: 0.9118\n",
      "Epoch 11/100\n",
      "19800/19800 [==============================] - 1s 64us/step - loss: 0.2914 - accuracy: 0.9174\n",
      "Epoch 12/100\n",
      "19800/19800 [==============================] - 1s 64us/step - loss: 0.2709 - accuracy: 0.9216\n",
      "Epoch 13/100\n",
      "19800/19800 [==============================] - 1s 64us/step - loss: 0.2671 - accuracy: 0.9246\n",
      "Epoch 14/100\n",
      "19800/19800 [==============================] - 1s 64us/step - loss: 0.2565 - accuracy: 0.9262\n",
      "Epoch 15/100\n",
      "19800/19800 [==============================] - 1s 64us/step - loss: 0.2549 - accuracy: 0.9262\n",
      "Epoch 16/100\n",
      "19800/19800 [==============================] - 1s 65us/step - loss: 0.2388 - accuracy: 0.9338\n",
      "Epoch 17/100\n",
      "19800/19800 [==============================] - 1s 65us/step - loss: 0.2397 - accuracy: 0.9307\n",
      "Epoch 18/100\n",
      "19800/19800 [==============================] - 1s 65us/step - loss: 0.2328 - accuracy: 0.9329\n",
      "Epoch 19/100\n",
      "19800/19800 [==============================] - 1s 66us/step - loss: 0.2405 - accuracy: 0.9318\n",
      "Epoch 20/100\n",
      "19800/19800 [==============================] - 1s 65us/step - loss: 0.2295 - accuracy: 0.9332\n",
      "Epoch 21/100\n",
      "19800/19800 [==============================] - 1s 63us/step - loss: 0.2248 - accuracy: 0.9339\n",
      "Epoch 22/100\n",
      "19800/19800 [==============================] - 1s 65us/step - loss: 0.2237 - accuracy: 0.9346\n",
      "Epoch 23/100\n",
      "19800/19800 [==============================] - 1s 65us/step - loss: 0.2040 - accuracy: 0.9413\n",
      "Epoch 24/100\n",
      "19800/19800 [==============================] - 1s 65us/step - loss: 0.2146 - accuracy: 0.9380\n",
      "Epoch 25/100\n",
      "19800/19800 [==============================] - 1s 64us/step - loss: 0.1985 - accuracy: 0.9419\n",
      "Epoch 26/100\n",
      "19800/19800 [==============================] - 1s 64us/step - loss: 0.2040 - accuracy: 0.9393\n",
      "Epoch 27/100\n",
      "19800/19800 [==============================] - 1s 65us/step - loss: 0.2043 - accuracy: 0.9412\n",
      "Epoch 28/100\n",
      "19800/19800 [==============================] - 1s 65us/step - loss: 0.2003 - accuracy: 0.9414\n",
      "Epoch 29/100\n"
     ]
    },
    {
     "name": "stdout",
     "output_type": "stream",
     "text": [
      "19800/19800 [==============================] - 1s 62us/step - loss: 0.1944 - accuracy: 0.9441\n",
      "Epoch 30/100\n",
      "19800/19800 [==============================] - 1s 66us/step - loss: 0.1900 - accuracy: 0.9439\n",
      "Epoch 31/100\n",
      "19800/19800 [==============================] - 1s 64us/step - loss: 0.1992 - accuracy: 0.9420\n",
      "Epoch 32/100\n",
      "19800/19800 [==============================] - 1s 64us/step - loss: 0.1896 - accuracy: 0.9459\n",
      "Epoch 33/100\n",
      "19800/19800 [==============================] - 1s 64us/step - loss: 0.1835 - accuracy: 0.9449\n",
      "Epoch 34/100\n",
      "19800/19800 [==============================] - 1s 65us/step - loss: 0.1829 - accuracy: 0.9463\n",
      "Epoch 35/100\n",
      "19800/19800 [==============================] - 1s 65us/step - loss: 0.1841 - accuracy: 0.9463\n",
      "Epoch 36/100\n",
      "19800/19800 [==============================] - 1s 66us/step - loss: 0.1770 - accuracy: 0.9487\n",
      "Epoch 37/100\n",
      "19800/19800 [==============================] - 1s 64us/step - loss: 0.1731 - accuracy: 0.9494\n",
      "Epoch 38/100\n",
      "19800/19800 [==============================] - 1s 64us/step - loss: 0.1778 - accuracy: 0.9484\n",
      "Epoch 39/100\n",
      "19800/19800 [==============================] - 1s 67us/step - loss: 0.1725 - accuracy: 0.9489\n",
      "Epoch 40/100\n",
      "19800/19800 [==============================] - 1s 62us/step - loss: 0.1668 - accuracy: 0.9518\n",
      "Epoch 41/100\n",
      "19800/19800 [==============================] - 1s 66us/step - loss: 0.1655 - accuracy: 0.9493\n",
      "Epoch 42/100\n",
      "19800/19800 [==============================] - 1s 69us/step - loss: 0.1679 - accuracy: 0.9486\n",
      "Epoch 43/100\n",
      "19800/19800 [==============================] - 1s 68us/step - loss: 0.1767 - accuracy: 0.9491\n",
      "Epoch 44/100\n",
      "19800/19800 [==============================] - 1s 69us/step - loss: 0.1643 - accuracy: 0.9517\n",
      "Epoch 45/100\n",
      "19800/19800 [==============================] - 1s 65us/step - loss: 0.1738 - accuracy: 0.9503\n",
      "Epoch 46/100\n",
      "19800/19800 [==============================] - 1s 64us/step - loss: 0.1653 - accuracy: 0.9512\n",
      "Epoch 47/100\n",
      "19800/19800 [==============================] - 1s 63us/step - loss: 0.1686 - accuracy: 0.9501\n",
      "Epoch 48/100\n",
      "19800/19800 [==============================] - 1s 64us/step - loss: 0.1619 - accuracy: 0.9535\n",
      "Epoch 49/100\n",
      "19800/19800 [==============================] - 1s 63us/step - loss: 0.1638 - accuracy: 0.9531\n",
      "Epoch 50/100\n",
      "19800/19800 [==============================] - 1s 63us/step - loss: 0.1592 - accuracy: 0.9538\n",
      "Epoch 51/100\n",
      "19800/19800 [==============================] - 1s 65us/step - loss: 0.1563 - accuracy: 0.9534\n",
      "Epoch 52/100\n",
      "19800/19800 [==============================] - 1s 63us/step - loss: 0.1538 - accuracy: 0.9543\n",
      "Epoch 53/100\n",
      "19800/19800 [==============================] - 1s 63us/step - loss: 0.1581 - accuracy: 0.9525\n",
      "Epoch 54/100\n",
      "19800/19800 [==============================] - 1s 63us/step - loss: 0.1524 - accuracy: 0.9549\n",
      "Epoch 55/100\n",
      "19800/19800 [==============================] - 1s 65us/step - loss: 0.1449 - accuracy: 0.9559\n",
      "Epoch 56/100\n",
      "19800/19800 [==============================] - 1s 63us/step - loss: 0.1504 - accuracy: 0.9546\n",
      "Epoch 57/100\n",
      "19800/19800 [==============================] - 1s 64us/step - loss: 0.1512 - accuracy: 0.9539\n",
      "Epoch 58/100\n",
      "19800/19800 [==============================] - 1s 64us/step - loss: 0.1524 - accuracy: 0.9552\n",
      "Epoch 59/100\n",
      "19800/19800 [==============================] - 1s 63us/step - loss: 0.1488 - accuracy: 0.9578\n",
      "Epoch 60/100\n",
      "19800/19800 [==============================] - 1s 64us/step - loss: 0.1511 - accuracy: 0.9556\n",
      "Epoch 61/100\n",
      "19800/19800 [==============================] - 1s 63us/step - loss: 0.1451 - accuracy: 0.9575\n",
      "Epoch 62/100\n",
      "19800/19800 [==============================] - 1s 63us/step - loss: 0.1477 - accuracy: 0.9553\n",
      "Epoch 63/100\n",
      "19800/19800 [==============================] - 1s 63us/step - loss: 0.1456 - accuracy: 0.9567\n",
      "Epoch 64/100\n",
      "19800/19800 [==============================] - 1s 64us/step - loss: 0.1563 - accuracy: 0.9549\n",
      "Epoch 65/100\n",
      "19800/19800 [==============================] - 1s 64us/step - loss: 0.1495 - accuracy: 0.9557\n",
      "Epoch 66/100\n",
      "19800/19800 [==============================] - 1s 64us/step - loss: 0.1399 - accuracy: 0.9583\n",
      "Epoch 67/100\n",
      "19800/19800 [==============================] - 1s 64us/step - loss: 0.1417 - accuracy: 0.9587\n",
      "Epoch 68/100\n",
      "19800/19800 [==============================] - 1s 62us/step - loss: 0.1393 - accuracy: 0.9566\n",
      "Epoch 69/100\n",
      "19800/19800 [==============================] - 1s 63us/step - loss: 0.1449 - accuracy: 0.9582\n",
      "Epoch 70/100\n",
      "19800/19800 [==============================] - 1s 64us/step - loss: 0.1425 - accuracy: 0.9576\n",
      "Epoch 71/100\n",
      "19800/19800 [==============================] - 1s 63us/step - loss: 0.1408 - accuracy: 0.9580\n",
      "Epoch 72/100\n",
      "19800/19800 [==============================] - 1s 64us/step - loss: 0.1436 - accuracy: 0.9571\n",
      "Epoch 73/100\n",
      "19800/19800 [==============================] - 1s 64us/step - loss: 0.1401 - accuracy: 0.9585\n",
      "Epoch 74/100\n",
      "19800/19800 [==============================] - 1s 63us/step - loss: 0.1353 - accuracy: 0.9592\n",
      "Epoch 75/100\n",
      "19800/19800 [==============================] - 1s 64us/step - loss: 0.1409 - accuracy: 0.9584\n",
      "Epoch 76/100\n",
      "19800/19800 [==============================] - 1s 65us/step - loss: 0.1431 - accuracy: 0.9583\n",
      "Epoch 77/100\n",
      "19800/19800 [==============================] - 1s 65us/step - loss: 0.1333 - accuracy: 0.9604\n",
      "Epoch 78/100\n",
      "19800/19800 [==============================] - 1s 65us/step - loss: 0.1390 - accuracy: 0.9580\n",
      "Epoch 79/100\n",
      "19800/19800 [==============================] - 1s 66us/step - loss: 0.1411 - accuracy: 0.9598\n",
      "Epoch 80/100\n",
      "19800/19800 [==============================] - 1s 63us/step - loss: 0.1369 - accuracy: 0.9593\n",
      "Epoch 81/100\n",
      "19800/19800 [==============================] - 1s 64us/step - loss: 0.1328 - accuracy: 0.9614\n",
      "Epoch 82/100\n",
      "19800/19800 [==============================] - 1s 66us/step - loss: 0.1295 - accuracy: 0.9615\n",
      "Epoch 83/100\n",
      "19800/19800 [==============================] - 1s 64us/step - loss: 0.1312 - accuracy: 0.9607\n",
      "Epoch 84/100\n",
      "19800/19800 [==============================] - 1s 64us/step - loss: 0.1303 - accuracy: 0.9610\n",
      "Epoch 85/100\n",
      "19800/19800 [==============================] - 1s 65us/step - loss: 0.1271 - accuracy: 0.9632\n",
      "Epoch 86/100\n",
      "19800/19800 [==============================] - 1s 65us/step - loss: 0.1391 - accuracy: 0.9605\n",
      "Epoch 87/100\n",
      "19800/19800 [==============================] - 1s 66us/step - loss: 0.1230 - accuracy: 0.9624\n",
      "Epoch 88/100\n",
      "19800/19800 [==============================] - 1s 67us/step - loss: 0.1301 - accuracy: 0.9608\n",
      "Epoch 89/100\n",
      "19800/19800 [==============================] - 1s 71us/step - loss: 0.1303 - accuracy: 0.9611\n",
      "Epoch 90/100\n",
      "19800/19800 [==============================] - 1s 66us/step - loss: 0.1249 - accuracy: 0.9629 0s - loss: 0.1269 \n",
      "Epoch 91/100\n",
      "19800/19800 [==============================] - 1s 65us/step - loss: 0.1296 - accuracy: 0.9611\n",
      "Epoch 92/100\n",
      "19800/19800 [==============================] - 1s 66us/step - loss: 0.1360 - accuracy: 0.9595\n",
      "Epoch 93/100\n",
      "19800/19800 [==============================] - 1s 65us/step - loss: 0.1268 - accuracy: 0.9622\n",
      "Epoch 94/100\n",
      "19800/19800 [==============================] - 1s 64us/step - loss: 0.1347 - accuracy: 0.9597\n",
      "Epoch 95/100\n",
      "19800/19800 [==============================] - 1s 66us/step - loss: 0.1251 - accuracy: 0.9626\n",
      "Epoch 96/100\n",
      "19800/19800 [==============================] - 1s 64us/step - loss: 0.1296 - accuracy: 0.9614\n",
      "Epoch 97/100\n",
      "19800/19800 [==============================] - 1s 64us/step - loss: 0.1392 - accuracy: 0.9575\n",
      "Epoch 98/100\n",
      "19800/19800 [==============================] - 1s 65us/step - loss: 0.1234 - accuracy: 0.9634\n",
      "Epoch 99/100\n",
      "19800/19800 [==============================] - 1s 64us/step - loss: 0.1266 - accuracy: 0.9621\n",
      "Epoch 100/100\n",
      "19800/19800 [==============================] - 1s 65us/step - loss: 0.1347 - accuracy: 0.9607\n",
      "Epoch 1/100\n",
      "19800/19800 [==============================] - 2s 82us/step - loss: 1.1417 - accuracy: 0.6366\n",
      "Epoch 2/100\n",
      "19800/19800 [==============================] - 1s 64us/step - loss: 0.6024 - accuracy: 0.8190\n",
      "Epoch 3/100\n",
      "19800/19800 [==============================] - 1s 64us/step - loss: 0.4936 - accuracy: 0.8568\n",
      "Epoch 4/100\n",
      "19800/19800 [==============================] - 1s 65us/step - loss: 0.4273 - accuracy: 0.8729\n",
      "Epoch 5/100\n",
      "19800/19800 [==============================] - 1s 65us/step - loss: 0.3976 - accuracy: 0.8848\n",
      "Epoch 6/100\n",
      "19800/19800 [==============================] - 1s 64us/step - loss: 0.3722 - accuracy: 0.8934\n",
      "Epoch 7/100\n",
      "19800/19800 [==============================] - 1s 62us/step - loss: 0.3429 - accuracy: 0.8991\n",
      "Epoch 8/100\n",
      "19800/19800 [==============================] - 1s 64us/step - loss: 0.3324 - accuracy: 0.9025\n",
      "Epoch 9/100\n",
      "19800/19800 [==============================] - 1s 62us/step - loss: 0.3119 - accuracy: 0.9123\n",
      "Epoch 10/100\n",
      "19800/19800 [==============================] - 1s 67us/step - loss: 0.3083 - accuracy: 0.9090\n",
      "Epoch 11/100\n",
      "19800/19800 [==============================] - 1s 67us/step - loss: 0.2950 - accuracy: 0.9159\n",
      "Epoch 12/100\n",
      "19800/19800 [==============================] - 1s 68us/step - loss: 0.2804 - accuracy: 0.9193\n",
      "Epoch 13/100\n",
      "19800/19800 [==============================] - 1s 67us/step - loss: 0.2680 - accuracy: 0.9216\n",
      "Epoch 14/100\n",
      "19800/19800 [==============================] - 1s 67us/step - loss: 0.2686 - accuracy: 0.9250\n",
      "Epoch 15/100\n",
      "19800/19800 [==============================] - 1s 65us/step - loss: 0.2575 - accuracy: 0.9243\n",
      "Epoch 16/100\n",
      "19800/19800 [==============================] - 1s 65us/step - loss: 0.2556 - accuracy: 0.9261\n",
      "Epoch 17/100\n",
      "19800/19800 [==============================] - 1s 65us/step - loss: 0.2457 - accuracy: 0.9289\n",
      "Epoch 18/100\n",
      "19800/19800 [==============================] - 1s 63us/step - loss: 0.2284 - accuracy: 0.9347\n",
      "Epoch 19/100\n",
      "19800/19800 [==============================] - 1s 61us/step - loss: 0.2278 - accuracy: 0.9343\n",
      "Epoch 20/100\n",
      "19800/19800 [==============================] - 1s 64us/step - loss: 0.2366 - accuracy: 0.9324\n",
      "Epoch 21/100\n",
      "19800/19800 [==============================] - 1s 64us/step - loss: 0.2264 - accuracy: 0.9332\n",
      "Epoch 22/100\n",
      "19800/19800 [==============================] - 1s 63us/step - loss: 0.2155 - accuracy: 0.9358\n",
      "Epoch 23/100\n",
      "19800/19800 [==============================] - 1s 63us/step - loss: 0.2168 - accuracy: 0.9361\n",
      "Epoch 24/100\n",
      "19800/19800 [==============================] - 1s 68us/step - loss: 0.2204 - accuracy: 0.9359\n",
      "Epoch 25/100\n",
      "19800/19800 [==============================] - 1s 70us/step - loss: 0.2224 - accuracy: 0.9340\n",
      "Epoch 26/100\n",
      "19800/19800 [==============================] - 1s 69us/step - loss: 0.2108 - accuracy: 0.9377\n",
      "Epoch 27/100\n",
      "19800/19800 [==============================] - 1s 66us/step - loss: 0.2066 - accuracy: 0.9408\n",
      "Epoch 28/100\n",
      "19800/19800 [==============================] - 1s 66us/step - loss: 0.1961 - accuracy: 0.9422\n",
      "Epoch 29/100\n",
      "19800/19800 [==============================] - 1s 63us/step - loss: 0.2015 - accuracy: 0.9416\n",
      "Epoch 30/100\n",
      "19800/19800 [==============================] - 1s 63us/step - loss: 0.2001 - accuracy: 0.9422\n",
      "Epoch 31/100\n",
      "19800/19800 [==============================] - 1s 64us/step - loss: 0.1847 - accuracy: 0.9437\n",
      "Epoch 32/100\n",
      "19800/19800 [==============================] - 1s 64us/step - loss: 0.1922 - accuracy: 0.9430\n",
      "Epoch 33/100\n",
      "19800/19800 [==============================] - 1s 64us/step - loss: 0.1856 - accuracy: 0.9462\n",
      "Epoch 34/100\n",
      "19800/19800 [==============================] - 1s 63us/step - loss: 0.1913 - accuracy: 0.9449\n",
      "Epoch 35/100\n",
      "19800/19800 [==============================] - 1s 62us/step - loss: 0.1868 - accuracy: 0.9443\n",
      "Epoch 36/100\n",
      "19800/19800 [==============================] - 1s 64us/step - loss: 0.1911 - accuracy: 0.9419 0s -\n",
      "Epoch 37/100\n",
      "19800/19800 [==============================] - 1s 63us/step - loss: 0.1740 - accuracy: 0.9474\n",
      "Epoch 38/100\n",
      "19800/19800 [==============================] - 1s 63us/step - loss: 0.1781 - accuracy: 0.9463\n",
      "Epoch 39/100\n",
      "19800/19800 [==============================] - 1s 65us/step - loss: 0.1804 - accuracy: 0.9479\n",
      "Epoch 40/100\n",
      "19800/19800 [==============================] - 1s 67us/step - loss: 0.1760 - accuracy: 0.9493\n",
      "Epoch 41/100\n",
      "19800/19800 [==============================] - 1s 67us/step - loss: 0.1707 - accuracy: 0.9494\n",
      "Epoch 42/100\n",
      "19800/19800 [==============================] - 1s 70us/step - loss: 0.1758 - accuracy: 0.9490\n",
      "Epoch 43/100\n",
      "19800/19800 [==============================] - 1s 64us/step - loss: 0.1756 - accuracy: 0.9490\n",
      "Epoch 44/100\n",
      "19800/19800 [==============================] - 1s 63us/step - loss: 0.1683 - accuracy: 0.9510\n",
      "Epoch 45/100\n",
      "19800/19800 [==============================] - 1s 66us/step - loss: 0.1734 - accuracy: 0.9473\n",
      "Epoch 46/100\n",
      "19800/19800 [==============================] - 1s 66us/step - loss: 0.1737 - accuracy: 0.9493\n",
      "Epoch 47/100\n",
      "19800/19800 [==============================] - 1s 63us/step - loss: 0.1713 - accuracy: 0.9505\n",
      "Epoch 48/100\n",
      "19800/19800 [==============================] - 1s 63us/step - loss: 0.1659 - accuracy: 0.9516\n",
      "Epoch 49/100\n",
      "19800/19800 [==============================] - 1s 64us/step - loss: 0.1684 - accuracy: 0.9498\n",
      "Epoch 50/100\n",
      "19800/19800 [==============================] - 1s 63us/step - loss: 0.1614 - accuracy: 0.9527 0s - loss: 0.1622 - ac\n",
      "Epoch 51/100\n",
      "19800/19800 [==============================] - 1s 64us/step - loss: 0.1655 - accuracy: 0.9505\n",
      "Epoch 52/100\n",
      "19800/19800 [==============================] - 1s 63us/step - loss: 0.1597 - accuracy: 0.9522\n",
      "Epoch 53/100\n",
      "19800/19800 [==============================] - 1s 62us/step - loss: 0.1630 - accuracy: 0.9511\n",
      "Epoch 54/100\n",
      "19800/19800 [==============================] - 1s 64us/step - loss: 0.1611 - accuracy: 0.9514\n",
      "Epoch 55/100\n",
      "19800/19800 [==============================] - 1s 63us/step - loss: 0.1590 - accuracy: 0.9521\n",
      "Epoch 56/100\n",
      "19800/19800 [==============================] - 1s 64us/step - loss: 0.1462 - accuracy: 0.9556\n",
      "Epoch 57/100\n",
      "19800/19800 [==============================] - 1s 65us/step - loss: 0.1505 - accuracy: 0.9531\n",
      "Epoch 58/100\n",
      "19800/19800 [==============================] - 1s 64us/step - loss: 0.1552 - accuracy: 0.9538\n",
      "Epoch 59/100\n",
      "19800/19800 [==============================] - 1s 66us/step - loss: 0.1503 - accuracy: 0.9548\n",
      "Epoch 60/100\n",
      "19800/19800 [==============================] - 1s 69us/step - loss: 0.1537 - accuracy: 0.9540\n",
      "Epoch 61/100\n",
      "19800/19800 [==============================] - 1s 65us/step - loss: 0.1493 - accuracy: 0.9562\n",
      "Epoch 62/100\n",
      "19800/19800 [==============================] - 1s 63us/step - loss: 0.1492 - accuracy: 0.9548\n",
      "Epoch 63/100\n",
      "19800/19800 [==============================] - 1s 64us/step - loss: 0.1493 - accuracy: 0.9558\n",
      "Epoch 64/100\n",
      "19800/19800 [==============================] - 1s 67us/step - loss: 0.1474 - accuracy: 0.9557\n",
      "Epoch 65/100\n",
      "19800/19800 [==============================] - 1s 66us/step - loss: 0.1468 - accuracy: 0.9548\n",
      "Epoch 66/100\n",
      "19800/19800 [==============================] - 1s 64us/step - loss: 0.1486 - accuracy: 0.9557\n",
      "Epoch 67/100\n",
      "19800/19800 [==============================] - 1s 64us/step - loss: 0.1529 - accuracy: 0.9545\n",
      "Epoch 68/100\n",
      "19800/19800 [==============================] - 1s 66us/step - loss: 0.1453 - accuracy: 0.9570\n",
      "Epoch 69/100\n",
      "19800/19800 [==============================] - 1s 66us/step - loss: 0.1452 - accuracy: 0.9559\n",
      "Epoch 70/100\n",
      "19800/19800 [==============================] - 1s 64us/step - loss: 0.1444 - accuracy: 0.9566\n",
      "Epoch 71/100\n",
      "19800/19800 [==============================] - 1s 63us/step - loss: 0.1440 - accuracy: 0.9568\n",
      "Epoch 72/100\n",
      "19800/19800 [==============================] - 1s 66us/step - loss: 0.1369 - accuracy: 0.9584\n",
      "Epoch 73/100\n",
      "19800/19800 [==============================] - 1s 64us/step - loss: 0.1511 - accuracy: 0.9568\n",
      "Epoch 74/100\n",
      "19800/19800 [==============================] - 1s 63us/step - loss: 0.1378 - accuracy: 0.9599\n",
      "Epoch 75/100\n",
      "19800/19800 [==============================] - 1s 65us/step - loss: 0.1390 - accuracy: 0.9574\n",
      "Epoch 76/100\n",
      "19800/19800 [==============================] - 1s 70us/step - loss: 0.1345 - accuracy: 0.9601\n",
      "Epoch 77/100\n",
      "19800/19800 [==============================] - 1s 65us/step - loss: 0.1351 - accuracy: 0.9596\n",
      "Epoch 78/100\n",
      "19800/19800 [==============================] - 1s 65us/step - loss: 0.1318 - accuracy: 0.9588\n",
      "Epoch 79/100\n",
      "19800/19800 [==============================] - 1s 69us/step - loss: 0.1376 - accuracy: 0.9588\n",
      "Epoch 80/100\n",
      "19800/19800 [==============================] - 1s 64us/step - loss: 0.1400 - accuracy: 0.9587\n",
      "Epoch 81/100\n"
     ]
    },
    {
     "name": "stdout",
     "output_type": "stream",
     "text": [
      "19800/19800 [==============================] - 1s 63us/step - loss: 0.1406 - accuracy: 0.9585\n",
      "Epoch 82/100\n",
      "19800/19800 [==============================] - 1s 66us/step - loss: 0.1333 - accuracy: 0.9609\n",
      "Epoch 83/100\n",
      "19800/19800 [==============================] - 1s 69us/step - loss: 0.1334 - accuracy: 0.9605\n",
      "Epoch 84/100\n",
      "19800/19800 [==============================] - 1s 65us/step - loss: 0.1354 - accuracy: 0.9603\n",
      "Epoch 85/100\n",
      "19800/19800 [==============================] - 1s 63us/step - loss: 0.1317 - accuracy: 0.9614\n",
      "Epoch 86/100\n",
      "19800/19800 [==============================] - 1s 64us/step - loss: 0.1349 - accuracy: 0.9597\n",
      "Epoch 87/100\n",
      "19800/19800 [==============================] - 1s 70us/step - loss: 0.1317 - accuracy: 0.9608\n",
      "Epoch 88/100\n",
      "19800/19800 [==============================] - 1s 67us/step - loss: 0.1317 - accuracy: 0.9596\n",
      "Epoch 89/100\n",
      "19800/19800 [==============================] - 1s 64us/step - loss: 0.1338 - accuracy: 0.9602\n",
      "Epoch 90/100\n",
      "19800/19800 [==============================] - 1s 70us/step - loss: 0.1362 - accuracy: 0.9602\n",
      "Epoch 91/100\n",
      "19800/19800 [==============================] - 1s 69us/step - loss: 0.1290 - accuracy: 0.9613\n",
      "Epoch 92/100\n",
      "19800/19800 [==============================] - 1s 69us/step - loss: 0.1313 - accuracy: 0.9584\n",
      "Epoch 93/100\n",
      "19800/19800 [==============================] - 1s 68us/step - loss: 0.1329 - accuracy: 0.9606\n",
      "Epoch 94/100\n",
      "19800/19800 [==============================] - 1s 63us/step - loss: 0.1342 - accuracy: 0.9593\n",
      "Epoch 95/100\n",
      "19800/19800 [==============================] - 1s 63us/step - loss: 0.1292 - accuracy: 0.9612\n",
      "Epoch 96/100\n",
      "19800/19800 [==============================] - 1s 63us/step - loss: 0.1296 - accuracy: 0.9611\n",
      "Epoch 97/100\n",
      "19800/19800 [==============================] - 1s 65us/step - loss: 0.1371 - accuracy: 0.9596\n",
      "Epoch 98/100\n",
      "19800/19800 [==============================] - 1s 63us/step - loss: 0.1279 - accuracy: 0.9606\n",
      "Epoch 99/100\n",
      "19800/19800 [==============================] - 1s 64us/step - loss: 0.1312 - accuracy: 0.9604\n",
      "Epoch 100/100\n",
      "19800/19800 [==============================] - 1s 64us/step - loss: 0.1282 - accuracy: 0.9615\n",
      "Epoch 1/100\n",
      "19800/19800 [==============================] - 2s 79us/step - loss: 1.1429 - accuracy: 0.6414\n",
      "Epoch 2/100\n",
      "19800/19800 [==============================] - 1s 55us/step - loss: 0.6058 - accuracy: 0.8224\n",
      "Epoch 3/100\n",
      "19800/19800 [==============================] - 1s 64us/step - loss: 0.4984 - accuracy: 0.8537\n",
      "Epoch 4/100\n",
      "19800/19800 [==============================] - 1s 65us/step - loss: 0.4411 - accuracy: 0.8738\n",
      "Epoch 5/100\n",
      "19800/19800 [==============================] - 1s 66us/step - loss: 0.4034 - accuracy: 0.8840\n",
      "Epoch 6/100\n",
      "19800/19800 [==============================] - 1s 64us/step - loss: 0.3695 - accuracy: 0.8909\n",
      "Epoch 7/100\n",
      "19800/19800 [==============================] - 1s 68us/step - loss: 0.3406 - accuracy: 0.9021\n",
      "Epoch 8/100\n",
      "19800/19800 [==============================] - 1s 64us/step - loss: 0.3378 - accuracy: 0.9011\n",
      "Epoch 9/100\n",
      "19800/19800 [==============================] - 1s 63us/step - loss: 0.3193 - accuracy: 0.9097\n",
      "Epoch 10/100\n",
      "19800/19800 [==============================] - 1s 63us/step - loss: 0.3001 - accuracy: 0.9137\n",
      "Epoch 11/100\n",
      "19800/19800 [==============================] - 1s 63us/step - loss: 0.2917 - accuracy: 0.9192\n",
      "Epoch 12/100\n",
      "19800/19800 [==============================] - 1s 63us/step - loss: 0.2817 - accuracy: 0.9184\n",
      "Epoch 13/100\n",
      "19800/19800 [==============================] - 1s 63us/step - loss: 0.2687 - accuracy: 0.9239\n",
      "Epoch 14/100\n",
      "19800/19800 [==============================] - 1s 64us/step - loss: 0.2593 - accuracy: 0.9261\n",
      "Epoch 15/100\n",
      "19800/19800 [==============================] - 1s 64us/step - loss: 0.2596 - accuracy: 0.9256\n",
      "Epoch 16/100\n",
      "19800/19800 [==============================] - 1s 63us/step - loss: 0.2513 - accuracy: 0.9283\n",
      "Epoch 17/100\n",
      "19800/19800 [==============================] - 1s 60us/step - loss: 0.2422 - accuracy: 0.9306\n",
      "Epoch 18/100\n",
      "19800/19800 [==============================] - 1s 61us/step - loss: 0.2420 - accuracy: 0.9290\n",
      "Epoch 19/100\n",
      "19800/19800 [==============================] - 1s 63us/step - loss: 0.2330 - accuracy: 0.9336\n",
      "Epoch 20/100\n",
      "19800/19800 [==============================] - 1s 64us/step - loss: 0.2285 - accuracy: 0.9344\n",
      "Epoch 21/100\n",
      "19800/19800 [==============================] - 1s 63us/step - loss: 0.2223 - accuracy: 0.9352\n",
      "Epoch 22/100\n",
      "19800/19800 [==============================] - 1s 64us/step - loss: 0.2238 - accuracy: 0.9349\n",
      "Epoch 23/100\n",
      "19800/19800 [==============================] - 1s 63us/step - loss: 0.2140 - accuracy: 0.9358\n",
      "Epoch 24/100\n",
      "19800/19800 [==============================] - 1s 64us/step - loss: 0.2073 - accuracy: 0.9398\n",
      "Epoch 25/100\n",
      "19800/19800 [==============================] - 1s 64us/step - loss: 0.2122 - accuracy: 0.9388\n",
      "Epoch 26/100\n",
      "19800/19800 [==============================] - 1s 63us/step - loss: 0.2004 - accuracy: 0.9430\n",
      "Epoch 27/100\n",
      "19800/19800 [==============================] - 1s 64us/step - loss: 0.2095 - accuracy: 0.9388\n",
      "Epoch 28/100\n",
      "19800/19800 [==============================] - 1s 64us/step - loss: 0.2034 - accuracy: 0.9408\n",
      "Epoch 29/100\n",
      "19800/19800 [==============================] - 1s 63us/step - loss: 0.1966 - accuracy: 0.9437\n",
      "Epoch 30/100\n",
      "19800/19800 [==============================] - 1s 63us/step - loss: 0.2002 - accuracy: 0.9423\n",
      "Epoch 31/100\n",
      "19800/19800 [==============================] - 1s 64us/step - loss: 0.1859 - accuracy: 0.9449\n",
      "Epoch 32/100\n",
      "19800/19800 [==============================] - 1s 64us/step - loss: 0.1945 - accuracy: 0.9426 0s - l\n",
      "Epoch 33/100\n",
      "19800/19800 [==============================] - 1s 64us/step - loss: 0.1879 - accuracy: 0.9449\n",
      "Epoch 34/100\n",
      "19800/19800 [==============================] - 1s 64us/step - loss: 0.1843 - accuracy: 0.9482\n",
      "Epoch 35/100\n",
      "19800/19800 [==============================] - 1s 64us/step - loss: 0.1791 - accuracy: 0.9480\n",
      "Epoch 36/100\n",
      "19800/19800 [==============================] - 1s 64us/step - loss: 0.1765 - accuracy: 0.9480\n",
      "Epoch 37/100\n",
      "19800/19800 [==============================] - 1s 64us/step - loss: 0.1844 - accuracy: 0.9469\n",
      "Epoch 38/100\n",
      "19800/19800 [==============================] - 1s 64us/step - loss: 0.1733 - accuracy: 0.9485\n",
      "Epoch 39/100\n",
      "19800/19800 [==============================] - 1s 64us/step - loss: 0.1782 - accuracy: 0.9480\n",
      "Epoch 40/100\n",
      "19800/19800 [==============================] - 1s 63us/step - loss: 0.1811 - accuracy: 0.9479\n",
      "Epoch 41/100\n",
      "19800/19800 [==============================] - 1s 63us/step - loss: 0.1811 - accuracy: 0.9469\n",
      "Epoch 42/100\n",
      "19800/19800 [==============================] - 1s 63us/step - loss: 0.1770 - accuracy: 0.9484\n",
      "Epoch 43/100\n",
      "19800/19800 [==============================] - 1s 64us/step - loss: 0.1698 - accuracy: 0.9512\n",
      "Epoch 44/100\n",
      "19800/19800 [==============================] - 1s 64us/step - loss: 0.1714 - accuracy: 0.9495\n",
      "Epoch 45/100\n",
      "19800/19800 [==============================] - 1s 64us/step - loss: 0.1709 - accuracy: 0.9493\n",
      "Epoch 46/100\n",
      "19800/19800 [==============================] - 1s 64us/step - loss: 0.1672 - accuracy: 0.9506\n",
      "Epoch 47/100\n",
      "19800/19800 [==============================] - 1s 64us/step - loss: 0.1655 - accuracy: 0.9505\n",
      "Epoch 48/100\n",
      "19800/19800 [==============================] - 1s 65us/step - loss: 0.1613 - accuracy: 0.9533\n",
      "Epoch 49/100\n",
      "19800/19800 [==============================] - 1s 64us/step - loss: 0.1610 - accuracy: 0.9527\n",
      "Epoch 50/100\n",
      "19800/19800 [==============================] - 1s 64us/step - loss: 0.1656 - accuracy: 0.9516\n",
      "Epoch 51/100\n",
      "19800/19800 [==============================] - 1s 64us/step - loss: 0.1595 - accuracy: 0.9519\n",
      "Epoch 52/100\n",
      "19800/19800 [==============================] - 1s 63us/step - loss: 0.1572 - accuracy: 0.9515\n",
      "Epoch 53/100\n",
      "19800/19800 [==============================] - 1s 64us/step - loss: 0.1562 - accuracy: 0.9530\n",
      "Epoch 54/100\n",
      "19800/19800 [==============================] - 1s 63us/step - loss: 0.1642 - accuracy: 0.9529\n",
      "Epoch 55/100\n",
      "19800/19800 [==============================] - 1s 64us/step - loss: 0.1527 - accuracy: 0.9547\n",
      "Epoch 56/100\n",
      "19800/19800 [==============================] - 1s 64us/step - loss: 0.1480 - accuracy: 0.9568\n",
      "Epoch 57/100\n",
      "19800/19800 [==============================] - 1s 63us/step - loss: 0.1523 - accuracy: 0.9547\n",
      "Epoch 58/100\n",
      "19800/19800 [==============================] - 1s 63us/step - loss: 0.1420 - accuracy: 0.9570\n",
      "Epoch 59/100\n",
      "19800/19800 [==============================] - 1s 63us/step - loss: 0.1554 - accuracy: 0.9548\n",
      "Epoch 60/100\n",
      "19800/19800 [==============================] - 1s 63us/step - loss: 0.1464 - accuracy: 0.9576\n",
      "Epoch 61/100\n",
      "19800/19800 [==============================] - 1s 63us/step - loss: 0.1467 - accuracy: 0.9569\n",
      "Epoch 62/100\n",
      "19800/19800 [==============================] - 1s 64us/step - loss: 0.1503 - accuracy: 0.9568\n",
      "Epoch 63/100\n",
      "19800/19800 [==============================] - 1s 64us/step - loss: 0.1442 - accuracy: 0.9565\n",
      "Epoch 64/100\n",
      "19800/19800 [==============================] - 1s 61us/step - loss: 0.1458 - accuracy: 0.9568\n",
      "Epoch 65/100\n",
      "19800/19800 [==============================] - 1s 56us/step - loss: 0.1420 - accuracy: 0.9577\n",
      "Epoch 66/100\n",
      "19800/19800 [==============================] - 1s 64us/step - loss: 0.1414 - accuracy: 0.9576\n",
      "Epoch 67/100\n",
      "19800/19800 [==============================] - 1s 63us/step - loss: 0.1500 - accuracy: 0.9575\n",
      "Epoch 68/100\n",
      "19800/19800 [==============================] - 1s 63us/step - loss: 0.1359 - accuracy: 0.9596\n",
      "Epoch 69/100\n",
      "19800/19800 [==============================] - 1s 67us/step - loss: 0.1415 - accuracy: 0.9585\n",
      "Epoch 70/100\n",
      "19800/19800 [==============================] - 1s 64us/step - loss: 0.1386 - accuracy: 0.9590\n",
      "Epoch 71/100\n",
      "19800/19800 [==============================] - 1s 63us/step - loss: 0.1350 - accuracy: 0.9595\n",
      "Epoch 72/100\n",
      "19800/19800 [==============================] - 1s 64us/step - loss: 0.1418 - accuracy: 0.9573\n",
      "Epoch 73/100\n",
      "19800/19800 [==============================] - 1s 62us/step - loss: 0.1404 - accuracy: 0.9568\n",
      "Epoch 74/100\n",
      "19800/19800 [==============================] - 1s 68us/step - loss: 0.1397 - accuracy: 0.9583\n",
      "Epoch 75/100\n",
      "19800/19800 [==============================] - 1s 65us/step - loss: 0.1326 - accuracy: 0.9599\n",
      "Epoch 76/100\n",
      "19800/19800 [==============================] - 1s 71us/step - loss: 0.1348 - accuracy: 0.9604\n",
      "Epoch 77/100\n",
      "19800/19800 [==============================] - 1s 72us/step - loss: 0.1350 - accuracy: 0.9598\n",
      "Epoch 78/100\n",
      "19800/19800 [==============================] - 1s 63us/step - loss: 0.1271 - accuracy: 0.9626\n",
      "Epoch 79/100\n",
      "19800/19800 [==============================] - 1s 63us/step - loss: 0.1354 - accuracy: 0.9599\n",
      "Epoch 80/100\n",
      "19800/19800 [==============================] - 1s 63us/step - loss: 0.1328 - accuracy: 0.9596\n",
      "Epoch 81/100\n",
      "19800/19800 [==============================] - 1s 62us/step - loss: 0.1393 - accuracy: 0.9588\n",
      "Epoch 82/100\n",
      "19800/19800 [==============================] - 1s 57us/step - loss: 0.1246 - accuracy: 0.9639\n",
      "Epoch 83/100\n",
      "19800/19800 [==============================] - 1s 54us/step - loss: 0.1321 - accuracy: 0.9615\n",
      "Epoch 84/100\n",
      "19800/19800 [==============================] - 1s 65us/step - loss: 0.1351 - accuracy: 0.9597 0s - loss:\n",
      "Epoch 85/100\n",
      "19800/19800 [==============================] - 1s 63us/step - loss: 0.1323 - accuracy: 0.9605\n",
      "Epoch 86/100\n",
      "19800/19800 [==============================] - 1s 62us/step - loss: 0.1268 - accuracy: 0.9618\n",
      "Epoch 87/100\n",
      "19800/19800 [==============================] - 1s 62us/step - loss: 0.1293 - accuracy: 0.9603\n",
      "Epoch 88/100\n",
      "19800/19800 [==============================] - 1s 62us/step - loss: 0.1286 - accuracy: 0.9616\n",
      "Epoch 89/100\n",
      "19800/19800 [==============================] - 1s 62us/step - loss: 0.1260 - accuracy: 0.9615\n",
      "Epoch 90/100\n",
      "19800/19800 [==============================] - 1s 62us/step - loss: 0.1312 - accuracy: 0.9614\n",
      "Epoch 91/100\n",
      "19800/19800 [==============================] - 1s 63us/step - loss: 0.1278 - accuracy: 0.9599\n",
      "Epoch 92/100\n",
      "19800/19800 [==============================] - 1s 63us/step - loss: 0.1285 - accuracy: 0.9609\n",
      "Epoch 93/100\n",
      "19800/19800 [==============================] - 1s 65us/step - loss: 0.1327 - accuracy: 0.9603\n",
      "Epoch 94/100\n",
      "19800/19800 [==============================] - 1s 65us/step - loss: 0.1314 - accuracy: 0.9611\n",
      "Epoch 95/100\n",
      "19800/19800 [==============================] - 1s 63us/step - loss: 0.1331 - accuracy: 0.9620\n",
      "Epoch 96/100\n",
      "19800/19800 [==============================] - 1s 62us/step - loss: 0.1278 - accuracy: 0.9625\n",
      "Epoch 97/100\n",
      "19800/19800 [==============================] - 1s 62us/step - loss: 0.1268 - accuracy: 0.9616\n",
      "Epoch 98/100\n",
      "19800/19800 [==============================] - 1s 58us/step - loss: 0.1180 - accuracy: 0.9641\n",
      "Epoch 99/100\n",
      "19800/19800 [==============================] - 1s 54us/step - loss: 0.1299 - accuracy: 0.9613\n",
      "Epoch 100/100\n",
      "19800/19800 [==============================] - 1s 63us/step - loss: 0.1225 - accuracy: 0.9622\n"
     ]
    },
    {
     "data": {
      "text/plain": [
       "VotingClassifier(estimators=[('model1',\n",
       "                              <keras.wrappers.scikit_learn.KerasClassifier object at 0x000001F4BAB00348>),\n",
       "                             ('model2',\n",
       "                              <keras.wrappers.scikit_learn.KerasClassifier object at 0x000001F4B187BDC8>),\n",
       "                             ('model3',\n",
       "                              <keras.wrappers.scikit_learn.KerasClassifier object at 0x000001F4BAB00048>),\n",
       "                             ('model4',\n",
       "                              <keras.wrappers.scikit_learn.KerasClassifier object at 0x000001F4BAB00108>),\n",
       "                             ('model5',\n",
       "                              <keras.wrappers.scikit_learn.KerasClassifier object at 0x000001F4BAB00148>)],\n",
       "                 flatten_transform=True, n_jobs=None, voting='soft',\n",
       "                 weights=None)"
      ]
     },
     "execution_count": 103,
     "metadata": {},
     "output_type": "execute_result"
    }
   ],
   "source": [
    "ensemble_clf.fit(X_train, y_train)"
   ]
  },
  {
   "cell_type": "code",
   "execution_count": 104,
   "metadata": {
    "ExecuteTime": {
     "end_time": "2020-01-21T06:35:15.882408Z",
     "start_time": "2020-01-21T06:35:14.259852Z"
    }
   },
   "outputs": [],
   "source": [
    "y_pred = ensemble_clf.predict(X_test)"
   ]
  },
  {
   "cell_type": "code",
   "execution_count": 105,
   "metadata": {
    "ExecuteTime": {
     "end_time": "2020-01-21T06:35:15.892725Z",
     "start_time": "2020-01-21T06:35:15.888715Z"
    }
   },
   "outputs": [
    {
     "name": "stdout",
     "output_type": "stream",
     "text": [
      "Acc:  0.974\n"
     ]
    }
   ],
   "source": [
    "print('Acc: ', accuracy_score(y_pred, y_test))"
   ]
  },
  {
   "cell_type": "markdown",
   "metadata": {},
   "source": [
    "우리가 풀려는 문제 대부분은 비선형인데 왜 모델링은 죄다 선형으로 가정하고 할까?\n",
    "- feature 수를 늘리면 비선형도 선형으로 표현할 수 있다.\n",
    "    - 2차원에서는 비선형이어도 다차원 공간에서는 선형으로 그래핑할 수 있기 때문\n",
    "    \n"
   ]
  },
  {
   "cell_type": "markdown",
   "metadata": {},
   "source": [
    "다층신경망에서 활성화함수가 선형일 경우 단층으로 구현할 수 있다 --> 따라서 다층에서는 선형 활성화함수를 쓰지 않는다."
   ]
  },
  {
   "cell_type": "markdown",
   "metadata": {},
   "source": [
    "# 3. CNN으로 해보기\n",
    "CNN\n",
    ">Convolution망이 DNN에 추가된 것\n",
    "\n",
    "### Convolution망과 DNN의 역할이 다르다.\n",
    "\n",
    "<img src=cnn.jpg>\n",
    "\n",
    "- Convolution망: 특징 추출 feature extraction\n",
    "    - Convolution망에는 클래스 개념이 없다. --> 딱히 분류를 수행하지는 않는다.\n",
    "- DNN: 특징 분류 classification"
   ]
  },
  {
   "cell_type": "code",
   "execution_count": 109,
   "metadata": {
    "ExecuteTime": {
     "end_time": "2020-01-21T07:32:06.595703Z",
     "start_time": "2020-01-21T07:32:06.538788Z"
    }
   },
   "outputs": [],
   "source": [
    "import numpy as np\n",
    "import matplotlib.pyplot as plt\n",
    "\n",
    "from sklearn import datasets\n",
    "from sklearn.model_selection import train_test_split\n",
    "from keras.utils.np_utils import to_categorical\n",
    "from keras.models import Sequential\n",
    "from keras import optimizers\n",
    "from keras.layers import Dense, Activation, Flatten, Conv2D, MaxPooling2D\n",
    "from keras.layers import BatchNormalization, Dropout"
   ]
  },
  {
   "cell_type": "markdown",
   "metadata": {},
   "source": [
    "## 3-1. 데이터 로드하기"
   ]
  },
  {
   "cell_type": "code",
   "execution_count": null,
   "metadata": {
    "ExecuteTime": {
     "end_time": "2020-01-21T07:32:06.839138Z",
     "start_time": "2020-01-21T07:32:06.763333Z"
    }
   },
   "outputs": [],
   "source": [
    "data = datasets.load_digits()\n",
    "\n",
    "X_data = data.images\n",
    "y_data = data.target\n",
    "\n",
    "print(data.images.shape)\n",
    "\n",
    "X_data = X_data.reshape((X_data.shape[0], X_data.shape[1], X_data.shape[2], 1))  # 3차원 ->4차원: 마지막에 1을 써주면 4차원이 된다.\n",
    "# 4차원인 이유: 샘플 수, 이미지 사이즈(w, h), 필터 수"
   ]
  },
  {
   "cell_type": "markdown",
   "metadata": {},
   "source": [
    "차원 늘리기를 제대로 이해해보자"
   ]
  },
  {
   "cell_type": "code",
   "execution_count": 115,
   "metadata": {
    "ExecuteTime": {
     "end_time": "2020-01-21T07:41:51.692875Z",
     "start_time": "2020-01-21T07:41:51.671693Z"
    }
   },
   "outputs": [
    {
     "name": "stdout",
     "output_type": "stream",
     "text": [
      "[[1 2]\n",
      " [3 4]\n",
      " [5 6]]\n",
      "(3, 2, 1)\n",
      "[[[1]\n",
      "  [2]]\n",
      "\n",
      " [[3]\n",
      "  [4]]\n",
      "\n",
      " [[5]\n",
      "  [6]]]\n"
     ]
    },
    {
     "data": {
      "text/plain": [
       "array([[1, 2],\n",
       "       [3, 4],\n",
       "       [5, 6]])"
      ]
     },
     "execution_count": 115,
     "metadata": {},
     "output_type": "execute_result"
    }
   ],
   "source": [
    "a = np.array([[1, 2], [3, 4], [5, 6]])\n",
    "print(a)\n",
    "b = a.reshape(3, 2, 1)\n",
    "print(b.shape)\n",
    "print(b)\n",
    "\n",
    "#2차원 접근하기\n",
    "b[:, :, 0]  #0번째 채널 보기; 공책으로 치면 0번째 페이지 보기"
   ]
  },
  {
   "cell_type": "code",
   "execution_count": 110,
   "metadata": {
    "ExecuteTime": {
     "end_time": "2020-01-21T07:32:06.839138Z",
     "start_time": "2020-01-21T07:32:06.763333Z"
    }
   },
   "outputs": [
    {
     "name": "stdout",
     "output_type": "stream",
     "text": [
      "(1797, 8, 8)\n",
      "(1257, 8, 8, 1)\n",
      "(540, 8, 8, 1)\n",
      "(1257, 10)\n",
      "(540, 10)\n"
     ]
    }
   ],
   "source": [
    "y_data = to_categorical(y_data)    #y_data를 one-hot encoding 해준다.\n",
    "\n",
    "#학습/테스트 셋 분리\n",
    "X_train, X_test, y_train, y_test = train_test_split(X_data, y_data, test_size = 0.3, random_state = 777)\n",
    "#random_state = 시드값 --> 항상 동일한 난수를 생성하기 때문에 재현하기 좋다\n",
    "\n",
    "print(X_train.shape)\n",
    "print(X_test.shape)\n",
    "print(y_train.shape)\n",
    "print(y_test.shape)"
   ]
  },
  {
   "cell_type": "markdown",
   "metadata": {},
   "source": [
    "## 3-2. 모델 구축 및 실행하기(CNN)"
   ]
  },
  {
   "cell_type": "markdown",
   "metadata": {},
   "source": [
    "순서\n",
    "1. Sequential()로 모델 생성\n",
    "2. `add`()로 컨볼루션 레이어 추가\n",
    "    - 2-1. 컨볼루션 필터\n",
    "        - Conv2D(input_shape, filters, kernel_size, strides, padding)\n",
    "            - input_shape: 개별 샘플의 형태(w, h, 필터수)\n",
    "            - filters: 필터 수\n",
    "            - kernel_size: 필터 모양 e.g. (3 * 3)\n",
    "            - strides: x축, y축으로 몇칸씩 커널을 이동하면서 연산을 수행할지; 보통 (1, 1)\n",
    "            - padding: 'valid', 'same'(제로 패딩)\n",
    "    - 2-2. 활성화 함수\n",
    "    - (2-3. 풀링)\n",
    "        - 이미지 크기가 줄어든다.\n",
    "        - MaxPooling2D(pool_size)\n",
    "            - pool_size: 풀링 크기; 풀 사이즈를 (2, 2)로 지정하면 4개 중 하나 선택\n",
    "        - 생략 가능(필수 아님)\n",
    "    \n",
    "3. 컨볼루션 레이어를 더 이상 추가하지 않을거면 `add(Flatten())`\n",
    "4. 원하는만큼 일반 레이어 추가\n",
    "    - 4-1. 마지막 레이어의 활성화함수는 softmax(mulitclass) / sigmoid(binary)\n",
    "5. `compile`로 로스 계산법, 옵티마이저, 메트릭 등 지정\n",
    "6. `fit`으로 학습 실행\n",
    "7. `evaluate`로 학습 평가"
   ]
  },
  {
   "cell_type": "code",
   "execution_count": 116,
   "metadata": {
    "ExecuteTime": {
     "end_time": "2020-01-21T07:45:00.805962Z",
     "start_time": "2020-01-21T07:45:00.761968Z"
    }
   },
   "outputs": [],
   "source": [
    "model = Sequential()\n",
    "\n",
    "#CNN의 차이점은 바로 input layer!!!\n",
    "model.add(Conv2D(input_shape = (X_data.shape[1], X_data.shape[2], X_data.shape[3]),   #실제값: (8, 8, 1)\n",
    "                 filters = 10, kernel_size = (3,3), strides = (1,1), padding = 'valid'))\n",
    "\n",
    "model.add(Activation('relu'))\n",
    "model.add(MaxPooling2D(pool_size = (2,2)))\n",
    "\n",
    "model.add(Flatten())    #1차원화\n",
    "\n",
    "model.add(Dense(50, activation = 'relu'))\n",
    "model.add(Dense(10, activation = 'softmax'))\n",
    "\n",
    "adam = optimizers.Adam(lr = 0.001)\n",
    "\n",
    "model.compile(loss = 'categorical_crossentropy', optimizer = adam, metrics = ['accuracy'])"
   ]
  },
  {
   "cell_type": "code",
   "execution_count": 117,
   "metadata": {
    "ExecuteTime": {
     "end_time": "2020-01-21T07:48:03.455318Z",
     "start_time": "2020-01-21T07:47:59.548147Z"
    }
   },
   "outputs": [
    {
     "data": {
      "image/png": "[encoded data removed]",
      "text/plain": [
       "<Figure size 432x288 with 1 Axes>"
      ]
     },
     "metadata": {
      "needs_background": "light"
     },
     "output_type": "display_data"
    },
    {
     "name": "stdout",
     "output_type": "stream",
     "text": [
      "540/540 [==============================] - 0s 18us/step\n",
      "Test accuracy:  0.9777777791023254\n"
     ]
    }
   ],
   "source": [
    "history = model.fit(X_train, y_train, batch_size = 50, validation_split = 0.2, epochs = 100, verbose = 0)\n",
    "\n",
    "plt.plot(history.history['accuracy'])\n",
    "plt.plot(history.history['val_accuracy'])\n",
    "plt.legend(['training', 'validation'], loc = 'upper left')\n",
    "plt.show()\n",
    "\n",
    "results = model.evaluate(X_test, y_test)\n",
    "print('Test accuracy: ', results[1])\n",
    "\n",
    "#단순 cnn조차 금방 96% 나온다."
   ]
  },
  {
   "cell_type": "code",
   "execution_count": 125,
   "metadata": {
    "ExecuteTime": {
     "end_time": "2020-01-21T08:32:47.367937Z",
     "start_time": "2020-01-21T08:32:47.356966Z"
    }
   },
   "outputs": [],
   "source": [
    "def deep_cnn():\n",
    "    model = Sequential()\n",
    "    \n",
    "    model.add(Conv2D(input_shape = (X_train.shape[1], X_train.shape[2], X_train.shape[3]), filters = 50, kernel_size = (3,3), strides = (1,1), padding = 'same'))\n",
    "    model.add(Activation('relu'))\n",
    "    \n",
    "    model.add(Conv2D(filters = 50, kernel_size = (3,3), strides = (1,1), padding = 'same')) #padding = 'same': 강제로 제로 패딩 지정\n",
    "    model.add(Activation('relu'))\n",
    "    model.add(MaxPooling2D(pool_size = (2,2)))\n",
    "    \n",
    "    model.add(Conv2D(filters = 50, kernel_size = (3,3), strides = (1,1), padding = 'same'))\n",
    "    model.add(Activation('relu'))\n",
    "    \n",
    "    model.add(Conv2D(filters = 50, kernel_size = (3,3), strides = (1,1), padding = 'same'))\n",
    "    model.add(Activation('relu'))\n",
    "    model.add(MaxPooling2D(pool_size = (2,2)))\n",
    "    \n",
    "    model.add(Conv2D(filters = 50, kernel_size = (3,3), strides = (1,1), padding = 'same'))\n",
    "    model.add(Activation('relu'))\n",
    "    \n",
    "    model.add(Conv2D(filters = 50, kernel_size = (3,3), strides = (1,1), padding = 'same'))\n",
    "    model.add(Activation('relu'))\n",
    "    model.add(MaxPooling2D(pool_size = (2,2)))\n",
    "    \n",
    "    model.add(Flatten())    \n",
    "    model.add(Dense(50, activation = 'relu'))    \n",
    "    model.add(Dense(10, activation = 'softmax'))\n",
    "    \n",
    "    adam = optimizers.Adam(lr = 0.001)\n",
    "    model.compile(loss = 'categorical_crossentropy', optimizer = adam, metrics = ['accuracy'])\n",
    "    \n",
    "    return model    "
   ]
  },
  {
   "cell_type": "code",
   "execution_count": 126,
   "metadata": {
    "ExecuteTime": {
     "end_time": "2020-01-21T08:32:48.017102Z",
     "start_time": "2020-01-21T08:32:47.956328Z"
    }
   },
   "outputs": [
    {
     "name": "stdout",
     "output_type": "stream",
     "text": [
      "Model: \"sequential_32\"\n",
      "_________________________________________________________________\n",
      "Layer (type)                 Output Shape              Param #   \n",
      "=================================================================\n",
      "conv2d_8 (Conv2D)            (None, 8, 8, 50)          500       \n",
      "_________________________________________________________________\n",
      "activation_153 (Activation)  (None, 8, 8, 50)          0         \n",
      "_________________________________________________________________\n",
      "conv2d_9 (Conv2D)            (None, 8, 8, 50)          22550     \n",
      "_________________________________________________________________\n",
      "activation_154 (Activation)  (None, 8, 8, 50)          0         \n",
      "_________________________________________________________________\n",
      "max_pooling2d_5 (MaxPooling2 (None, 4, 4, 50)          0         \n",
      "_________________________________________________________________\n",
      "conv2d_10 (Conv2D)           (None, 4, 4, 50)          22550     \n",
      "_________________________________________________________________\n",
      "activation_155 (Activation)  (None, 4, 4, 50)          0         \n",
      "_________________________________________________________________\n",
      "conv2d_11 (Conv2D)           (None, 4, 4, 50)          22550     \n",
      "_________________________________________________________________\n",
      "activation_156 (Activation)  (None, 4, 4, 50)          0         \n",
      "_________________________________________________________________\n",
      "max_pooling2d_6 (MaxPooling2 (None, 2, 2, 50)          0         \n",
      "_________________________________________________________________\n",
      "conv2d_12 (Conv2D)           (None, 2, 2, 50)          22550     \n",
      "_________________________________________________________________\n",
      "activation_157 (Activation)  (None, 2, 2, 50)          0         \n",
      "_________________________________________________________________\n",
      "conv2d_13 (Conv2D)           (None, 2, 2, 50)          22550     \n",
      "_________________________________________________________________\n",
      "activation_158 (Activation)  (None, 2, 2, 50)          0         \n",
      "_________________________________________________________________\n",
      "max_pooling2d_7 (MaxPooling2 (None, 1, 1, 50)          0         \n",
      "_________________________________________________________________\n",
      "flatten_3 (Flatten)          (None, 50)                0         \n",
      "_________________________________________________________________\n",
      "dense_150 (Dense)            (None, 50)                2550      \n",
      "_________________________________________________________________\n",
      "dense_151 (Dense)            (None, 10)                510       \n",
      "=================================================================\n",
      "Total params: 116,310\n",
      "Trainable params: 116,310\n",
      "Non-trainable params: 0\n",
      "_________________________________________________________________\n"
     ]
    }
   ],
   "source": [
    "model = deep_cnn()\n",
    "model.summary()"
   ]
  },
  {
   "cell_type": "markdown",
   "metadata": {},
   "source": [
    "파라미터 수가 116,310개이다.\n",
    "\n",
    "- 첫 컨볼루션 망에서 파라미터 수가 500인 이유:\n",
    "    - 필터 크기 (3 * 3) * 필터 수 (50) = 450\n",
    "    - 바이어스 수 (==필터 수, 50) = 50\n",
    "        - 450 + 50 = 500\n",
    "        \n",
    "        \n",
    "- flatten의 출력값이 50개 인 이유:\n",
    "    - 이전 레이어의 출력값 이미지 크기 (1 * 1) * 이전 레이어 필터 수(50) = 50\n",
    "    - flatten은 함수를 딱히 적용하지 않기 때문에 바이어스가 없다.\n",
    "        \n",
    "        \n",
    "- 마지막 레이어에서 파라미터 수가 510인 이유:\n",
    "    - 이전 레이어에서 출력값 수 (50) * 마지막 레이어 뉴런 수 (10) = 500\n",
    "    - 바이어스 수 (==뉴런 수, 10) = 10\n",
    "        - 500 + 10 = 510"
   ]
  },
  {
   "cell_type": "code",
   "execution_count": 127,
   "metadata": {
    "ExecuteTime": {
     "end_time": "2020-01-21T08:33:09.028816Z",
     "start_time": "2020-01-21T08:32:49.410797Z"
    }
   },
   "outputs": [],
   "source": [
    "history = model.fit(X_train, y_train, batch_size = 50, validation_split = 0.2, epochs = 100, verbose = 0)"
   ]
  },
  {
   "cell_type": "code",
   "execution_count": 128,
   "metadata": {
    "ExecuteTime": {
     "end_time": "2020-01-21T08:33:09.174008Z",
     "start_time": "2020-01-21T08:33:09.071205Z"
    }
   },
   "outputs": [
    {
     "data": {
      "image/png": "[encoded data removed]",
      "text/plain": [
       "<Figure size 432x288 with 1 Axes>"
      ]
     },
     "metadata": {
      "needs_background": "light"
     },
     "output_type": "display_data"
    }
   ],
   "source": [
    "plt.plot(history.history['accuracy'])\n",
    "plt.plot(history.history['val_accuracy'])\n",
    "plt.legend(['training', 'validation'], loc = 'upper left')\n",
    "plt.show()"
   ]
  },
  {
   "cell_type": "code",
   "execution_count": 129,
   "metadata": {
    "ExecuteTime": {
     "end_time": "2020-01-21T08:33:09.245124Z",
     "start_time": "2020-01-21T08:33:09.188887Z"
    }
   },
   "outputs": [
    {
     "name": "stdout",
     "output_type": "stream",
     "text": [
      "540/540 [==============================] - 0s 97us/step\n",
      "Test accuracy:  0.9814814925193787\n"
     ]
    }
   ],
   "source": [
    "results = model.evaluate(X_test, y_test)\n",
    "print('Test accuracy: ', results[1])    # 오히려 결과가 떨어짐"
   ]
  },
  {
   "cell_type": "markdown",
   "metadata": {},
   "source": [
    "## 3-3. CNN + 최적화 몇가지"
   ]
  },
  {
   "cell_type": "code",
   "execution_count": 130,
   "metadata": {
    "ExecuteTime": {
     "end_time": "2020-01-21T08:36:01.259006Z",
     "start_time": "2020-01-21T08:36:01.246042Z"
    }
   },
   "outputs": [],
   "source": [
    "def deep_cnn_advanced():\n",
    "    model = Sequential()\n",
    "    \n",
    "    model.add(Conv2D(input_shape = (X_train.shape[1], X_train.shape[2], X_train.shape[3]), filters = 50, kernel_size = (3,3), strides = (1,1), padding = 'same', kernel_initializer='he_normal'))\n",
    "    model.add(BatchNormalization())    #배치 정규화\n",
    "    model.add(Activation('relu'))\n",
    "    \n",
    "    model.add(Conv2D(filters = 50, kernel_size = (3,3), strides = (1,1), padding = 'same', kernel_initializer='he_normal'))\n",
    "    model.add(BatchNormalization())    #배치 정규화\n",
    "    model.add(Activation('relu'))\n",
    "    model.add(MaxPooling2D(pool_size = (2,2)))\n",
    "    \n",
    "    model.add(Conv2D(filters = 50, kernel_size = (3,3), strides = (1,1), padding = 'same', kernel_initializer='he_normal'))\n",
    "    model.add(BatchNormalization())    #배치 정규화\n",
    "    model.add(Activation('relu'))\n",
    "    \n",
    "    model.add(Conv2D(filters = 50, kernel_size = (3,3), strides = (1,1), padding = 'same', kernel_initializer='he_normal'))\n",
    "    model.add(BatchNormalization())    #배치 정규화\n",
    "    model.add(Activation('relu'))\n",
    "    model.add(MaxPooling2D(pool_size = (2,2)))\n",
    "    \n",
    "    model.add(Conv2D(filters = 50, kernel_size = (3,3), strides = (1,1), padding = 'same', kernel_initializer='he_normal'))\n",
    "    model.add(BatchNormalization())    #배치 정규화\n",
    "    model.add(Activation('relu'))\n",
    "    \n",
    "    model.add(Conv2D(filters = 50, kernel_size = (3,3), strides = (1,1), padding = 'same', kernel_initializer='he_normal'))\n",
    "    model.add(BatchNormalization())    #배치 정규화\n",
    "    model.add(Activation('relu'))\n",
    "    model.add(MaxPooling2D(pool_size = (2,2)))\n",
    "    \n",
    "    # prior layer should be flattend to be connected to dense layers\n",
    "    model.add(Flatten())\n",
    "    # dense layer with 50 neurons\n",
    "    model.add(Dense(50, activation = 'relu', kernel_initializer='he_normal'))    #초기화\n",
    "    model.add(Dropout(0.5))    #드롭아웃: 보통 초기화/드롭아웃 등은 CNN보다는 DNN에만 적용해주는 편이다\n",
    "    # final layer with 10 neurons to classify the instances\n",
    "    model.add(Dense(10, activation = 'softmax', kernel_initializer='he_normal'))\n",
    "    \n",
    "    adam = optimizers.Adam(lr = 0.001)\n",
    "    model.compile(loss = 'categorical_crossentropy', optimizer = adam, metrics = ['accuracy'])\n",
    "    \n",
    "    return model    "
   ]
  },
  {
   "cell_type": "code",
   "execution_count": 131,
   "metadata": {
    "ExecuteTime": {
     "end_time": "2020-01-21T08:36:05.858902Z",
     "start_time": "2020-01-21T08:36:05.483795Z"
    }
   },
   "outputs": [
    {
     "name": "stdout",
     "output_type": "stream",
     "text": [
      "Model: \"sequential_33\"\n",
      "_________________________________________________________________\n",
      "Layer (type)                 Output Shape              Param #   \n",
      "=================================================================\n",
      "conv2d_14 (Conv2D)           (None, 8, 8, 50)          500       \n",
      "_________________________________________________________________\n",
      "batch_normalization_25 (Batc (None, 8, 8, 50)          200       \n",
      "_________________________________________________________________\n",
      "activation_159 (Activation)  (None, 8, 8, 50)          0         \n",
      "_________________________________________________________________\n",
      "conv2d_15 (Conv2D)           (None, 8, 8, 50)          22550     \n",
      "_________________________________________________________________\n",
      "batch_normalization_26 (Batc (None, 8, 8, 50)          200       \n",
      "_________________________________________________________________\n",
      "activation_160 (Activation)  (None, 8, 8, 50)          0         \n",
      "_________________________________________________________________\n",
      "max_pooling2d_8 (MaxPooling2 (None, 4, 4, 50)          0         \n",
      "_________________________________________________________________\n",
      "conv2d_16 (Conv2D)           (None, 4, 4, 50)          22550     \n",
      "_________________________________________________________________\n",
      "batch_normalization_27 (Batc (None, 4, 4, 50)          200       \n",
      "_________________________________________________________________\n",
      "activation_161 (Activation)  (None, 4, 4, 50)          0         \n",
      "_________________________________________________________________\n",
      "conv2d_17 (Conv2D)           (None, 4, 4, 50)          22550     \n",
      "_________________________________________________________________\n",
      "batch_normalization_28 (Batc (None, 4, 4, 50)          200       \n",
      "_________________________________________________________________\n",
      "activation_162 (Activation)  (None, 4, 4, 50)          0         \n",
      "_________________________________________________________________\n",
      "max_pooling2d_9 (MaxPooling2 (None, 2, 2, 50)          0         \n",
      "_________________________________________________________________\n",
      "conv2d_18 (Conv2D)           (None, 2, 2, 50)          22550     \n",
      "_________________________________________________________________\n",
      "batch_normalization_29 (Batc (None, 2, 2, 50)          200       \n",
      "_________________________________________________________________\n",
      "activation_163 (Activation)  (None, 2, 2, 50)          0         \n",
      "_________________________________________________________________\n",
      "conv2d_19 (Conv2D)           (None, 2, 2, 50)          22550     \n",
      "_________________________________________________________________\n",
      "batch_normalization_30 (Batc (None, 2, 2, 50)          200       \n",
      "_________________________________________________________________\n",
      "activation_164 (Activation)  (None, 2, 2, 50)          0         \n",
      "_________________________________________________________________\n",
      "max_pooling2d_10 (MaxPooling (None, 1, 1, 50)          0         \n",
      "_________________________________________________________________\n",
      "flatten_4 (Flatten)          (None, 50)                0         \n",
      "_________________________________________________________________\n",
      "dense_152 (Dense)            (None, 50)                2550      \n",
      "_________________________________________________________________\n",
      "dropout_33 (Dropout)         (None, 50)                0         \n",
      "_________________________________________________________________\n",
      "dense_153 (Dense)            (None, 10)                510       \n",
      "=================================================================\n",
      "Total params: 117,510\n",
      "Trainable params: 116,910\n",
      "Non-trainable params: 600\n",
      "_________________________________________________________________\n"
     ]
    }
   ],
   "source": [
    "model = deep_cnn_advanced()\n",
    "model.summary()"
   ]
  },
  {
   "cell_type": "code",
   "execution_count": 132,
   "metadata": {
    "ExecuteTime": {
     "end_time": "2020-01-21T08:36:42.926341Z",
     "start_time": "2020-01-21T08:36:13.955331Z"
    }
   },
   "outputs": [],
   "source": [
    "history = model.fit(X_train, y_train, batch_size = 50, validation_split = 0.2, epochs = 100, verbose = 0)"
   ]
  },
  {
   "cell_type": "code",
   "execution_count": 133,
   "metadata": {
    "ExecuteTime": {
     "end_time": "2020-01-21T08:36:43.013661Z",
     "start_time": "2020-01-21T08:36:42.957836Z"
    }
   },
   "outputs": [
    {
     "name": "stdout",
     "output_type": "stream",
     "text": [
      "540/540 [==============================] - 0s 94us/step\n",
      "Test accuracy:  0.9851852059364319\n"
     ]
    }
   ],
   "source": [
    "results = model.evaluate(X_test, y_test)\n",
    "print('Test accuracy: ', results[1])             "
   ]
  },
  {
   "cell_type": "markdown",
   "metadata": {
    "ExecuteTime": {
     "end_time": "2020-01-21T08:38:34.786725Z",
     "start_time": "2020-01-21T08:38:34.782672Z"
    }
   },
   "source": [
    "깊게 쌓는다고, 최적화를 추가한다고 딱히 성능이 좋아지지는 않는다.\n",
    "\n",
    "--> CNN에서 깊은 모델을 구축하는 것의 어려움"
   ]
  },
  {
   "cell_type": "code",
   "execution_count": null,
   "metadata": {},
   "outputs": [],
   "source": []
  }
 ],
 "metadata": {
  "kernelspec": {
   "display_name": "Python 3",
   "language": "python",
   "name": "python3"
  },
  "language_info": {
   "codemirror_mode": {
    "name": "ipython",
    "version": 3
   },
   "file_extension": ".py",
   "mimetype": "text/x-python",
   "name": "python",
   "nbconvert_exporter": "python",
   "pygments_lexer": "ipython3",
   "version": "3.7.4"
  },
  "varInspector": {
   "cols": {
    "lenName": 16,
    "lenType": 16,
    "lenVar": 40
   },
   "kernels_config": {
    "python": {
     "delete_cmd_postfix": "",
     "delete_cmd_prefix": "del ",
     "library": "var_list.py",
     "varRefreshCmd": "print(var_dic_list())"
    },
    "r": {
     "delete_cmd_postfix": ") ",
     "delete_cmd_prefix": "rm(",
     "library": "var_list.r",
     "varRefreshCmd": "cat(var_dic_list()) "
    }
   },
   "types_to_exclude": [
    "module",
    "function",
    "builtin_function_or_method",
    "instance",
    "_Feature"
   ],
   "window_display": false
  }
 },
 "nbformat": 4,
 "nbformat_minor": 2
}

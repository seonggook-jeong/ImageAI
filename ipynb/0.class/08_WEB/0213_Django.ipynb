{
 "cells": [
  {
   "cell_type": "markdown",
   "metadata": {},
   "source": [
    "# <오늘 할 것: Django>\n",
    "\n",
    "# 1. Django 기초 잡기\n",
    "- 1.1 MVC & MTV\n",
    "- 1.2 프로젝트와 앱\n",
    "- 1.3 시작하기\n",
    "- 1.4 기본 구조: `urls.py`, `views.py`, `템플릿.html`\n",
    "\n",
    "# 2. 세션 관리 예제\n",
    "- 2.1 로그인 폼 만들기\n",
    "- 2.2 로그인 성공/실패 처리하기\n",
    "- 2.3 로그인 여부 확인하기\n",
    "\n",
    "\n",
    "# 3. 얼굴 인식으로 로그인\n",
    "\n"
   ]
  },
  {
   "cell_type": "markdown",
   "metadata": {},
   "source": [
    "# 1. Django 기초 잡기\n",
    "\n",
    "## 1.1 MVC & MTV\n",
    "> **M**odel **V**iew **C**ontrol (Template)\n",
    "- Model: 안전하게 데이터를 저장\n",
    "- View: 유저에게 데이터를 적절하게 보여줌\n",
    "- Control: 유저의 입력과 이벤트에 반응하여 model과 view를 적절히 업데이트\n",
    "\n",
    "- Django에서는 MTV\n",
    "    - model은 MVC에서의 model과 유사\n",
    "    - template은 MVC에서의 view와 유사\n",
    "    - view는 model과 template을 유기적으로 연결하는 역할\n",
    "    \n",
    "## 1.2 프로젝트와 앱\n",
    "- 프로젝트는 \n",
    "- 앱은 그 하위의 세부 기능들을 수행하는 작은 프로그램들이다.\n",
    "    - e.g. 웹사이트 하나가 하나의 프로젝트라면, 그 웹사이트의 로그인, 게시판, 메세징 기능 등을 앱이라고 할 수 있다.\n",
    "\n",
    "## 1.3 시작하기\n",
    "1. 아나콘다 프롬프트에서 `pip install django`를 입력해서 django를 설치한다.\n",
    "\n",
    "2. 설치 후 `django-admin`을 입력하면 명령어들을 확인할 수 있다.\n",
    "\n",
    "3. `django-admin startproject 프로젝트명`을 입력해서 프로젝트를 시작한다.\n",
    "    - 프로젝트를 시작한 디렉토리로 들어가면 지정한 프로젝트명과 동일한 이름의 폴더가 생성되었음을 확인할 수 있다.\n",
    "    \n",
    "4. `python manage.py runserver`를 입력하면 서버를 실행할 수 있다.\n",
    "    - `cd`를 활용해서 해당 파일이 있는 디렉토리로 이동해야함.\n",
    "    \n",
    "5. `python manage.py startapp 앱명`을 입력해서 앱을 생성한다.\n",
    "    - `startproject`와 마찬가지로 지정한 앱명과 동일한 이름의 폴더가 생성되었음을 확인할 수 있다.\n",
    "    \n",
    "## 1.4 기본 구조: `urls.py`, `views.py`, `템플릿.html`"
   ]
  },
  {
   "cell_type": "markdown",
   "metadata": {},
   "source": [
    "# 2. 세션 관리 예제\n",
    "\n",
    "## 2.1 로그인 폼 만들기\n",
    "로그인 폼은 두가지 방식으로 만들 수 있다.\n",
    "- 함수화하기\n",
    "    - `views.py`에 함수화하여 `urls.py`로 경로 지정하기\n",
    "- 별도의 html 파일로 만들기\n",
    "\n",
    "두 방법 모두 가능하지만, 여기서는 `/static` 폴더 안에 `form.html` 파일을 별도로 생성하는 방식으로 짠다."
   ]
  },
  {
   "cell_type": "code",
   "execution_count": null,
   "metadata": {},
   "outputs": [],
   "source": [
    "<meta charset=\"utf-8\">  #한글 지정\n",
    "<form action=\"/login\" method=\"get\">  #실행시 `/login`으로 이동\n",
    "    id <input type=\"text\" name=\"id\"> <br>   #request 메세지에 'id'라는 키로 들어갈 것\n",
    "    pwd <input type=\"text\" name=\"pwd\"> <br>  #request 메세지에 'pwd'라는 키로 들어갈 것\n",
    "    <input type=\"submit\" value=\"로그인\">\n",
    "</form>"
   ]
  },
  {
   "cell_type": "markdown",
   "metadata": {},
   "source": [
    "## 2.2 로그인 성공/실패 처리하기\n",
    "로그인에 성공했을 때에는 `service` 페이지로, 실패했을 때에는 `login`페이지로 다시 돌아가도록 한다."
   ]
  },
  {
   "cell_type": "code",
   "execution_count": null,
   "metadata": {},
   "outputs": [],
   "source": []
  },
  {
   "cell_type": "markdown",
   "metadata": {},
   "source": [
    "### * `redirect`\n",
    "\n",
    "어떤 함수의 `return` 값으로\n",
    "- 다른 함수를 지정할 때"
   ]
  },
  {
   "cell_type": "code",
   "execution_count": null,
   "metadata": {},
   "outputs": [],
   "source": [
    "def login(request):\n",
    "    id = request.GET.get(\"id\")\n",
    "    pwd = request.GET.get(\"pwd\")\n",
    "    if id == pwd:\n",
    "        request.session['user'] = id\n",
    "        return service(requests)"
   ]
  },
  {
   "cell_type": "markdown",
   "metadata": {},
   "source": [
    "- `redirect` 메소드로 그 페이지로 이동하도록 할 때"
   ]
  },
  {
   "cell_type": "code",
   "execution_count": null,
   "metadata": {},
   "outputs": [],
   "source": [
    "def login(request):\n",
    "    id = request.GET.get(\"id\")\n",
    "    pwd = request.GET.get(\"pwd\")\n",
    "    if id == pwd:\n",
    "        request.session['user'] = id\n",
    "        return redirect(\"/service\") "
   ]
  },
  {
   "cell_type": "markdown",
   "metadata": {},
   "source": [
    "의 <font color=red>차이점</font>을 잘 알고 있자.\n",
    "\n",
    "다른 함수를 지정할 때는 `login` 페이지를 요청한 뒤에 `service` 함수가 호출되고, **서버에서 내부적으로 `service` 함수가 실행**되는 것이다. (주체: 브라우저 > 서버)\n",
    "\n",
    "\n",
    "`redirect` 메소드로 그 페이지로 리다이렉팅할 때는 **브라우저에서 요청을 2번** 넣는 것이다. `login` 페이지를 먼저 요청하고, 그 후에 또 다시 **브라우저에서 `service` 페이지를 요청**하는 것이다. (주체: 브라우저 > 브라우저)"
   ]
  },
  {
   "cell_type": "markdown",
   "metadata": {},
   "source": [
    "## 2.3 로그인 여부 확인하기\n",
    "로그인 여부를 확인하는 방법은 두 가지가 있다.\n",
    "- 쿠키 정보로 확인하기\n",
    "- 세션 정보로 확인하기\n",
    "\n",
    "쿠키 정보는 브라우저에서, 세션 정보는 서버에서 관리한다. 따라서 쿠키로 로그인 여부를 확인할 경우, 보안에 취약할 수 있다. 그래서 우리는 세션 정보로 로그인 여부를 확인하는 방식으로 짰다."
   ]
  },
  {
   "cell_type": "code",
   "execution_count": null,
   "metadata": {},
   "outputs": [],
   "source": [
    "def service(request):\n",
    "    #로그인을 했는지 안했는지 확인; 세션 정보가 없을 경우 `login` 페이지로 리다이렉트한다.\n",
    "    if request.session.get(\"user\", \"\") == \"\":\n",
    "        return redirect(\"/static/login.html\")\n",
    "    html = \"Main Service <br>\" + request.session.get(\"user\") + \"님 감사합니다.\"\n",
    "    return HttpResponse(html)"
   ]
  },
  {
   "cell_type": "markdown",
   "metadata": {},
   "source": [
    "에러가 난다면 request.session이 존재하지 않기 때문이다.\n",
    "\n",
    "세션 정보를 담을 request.session을 DB에 저장을 해주어야 하는데, 이 때\n",
    "\n",
    "1. 명령 프롬프트 창에서 서버를 잠시 종료하고 (`CTRL + C`)\n",
    "2. `python manage.py migrate`를 입력해서\n",
    "\n",
    "변경사항을 DB에 옮겨주면 된다."
   ]
  },
  {
   "cell_type": "markdown",
   "metadata": {},
   "source": [
    "# 3. 얼굴 인식으로 로그인"
   ]
  },
  {
   "cell_type": "code",
   "execution_count": null,
   "metadata": {},
   "outputs": [],
   "source": []
  }
 ],
 "metadata": {
  "kernelspec": {
   "display_name": "Python 3",
   "language": "python",
   "name": "python3"
  },
  "language_info": {
   "codemirror_mode": {
    "name": "ipython",
    "version": 3
   },
   "file_extension": ".py",
   "mimetype": "text/x-python",
   "name": "python",
   "nbconvert_exporter": "python",
   "pygments_lexer": "ipython3",
   "version": "3.6.10"
  },
  "varInspector": {
   "cols": {
    "lenName": 16,
    "lenType": 16,
    "lenVar": 40
   },
   "kernels_config": {
    "python": {
     "delete_cmd_postfix": "",
     "delete_cmd_prefix": "del ",
     "library": "var_list.py",
     "varRefreshCmd": "print(var_dic_list())"
    },
    "r": {
     "delete_cmd_postfix": ") ",
     "delete_cmd_prefix": "rm(",
     "library": "var_list.r",
     "varRefreshCmd": "cat(var_dic_list()) "
    }
   },
   "types_to_exclude": [
    "module",
    "function",
    "builtin_function_or_method",
    "instance",
    "_Feature"
   ],
   "window_display": false
  }
 },
 "nbformat": 4,
 "nbformat_minor": 2
}

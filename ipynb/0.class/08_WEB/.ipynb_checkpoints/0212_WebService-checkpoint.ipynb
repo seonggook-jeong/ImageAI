{
 "cells": [
  {
   "cell_type": "markdown",
   "metadata": {},
   "source": [
    "# <오늘 할 것: 웹 서비스>\n",
    "\n",
    "# 1. HTTP 기초잡기\n",
    "- 1-1. HTTP\n",
    "- 1-2. HTML\n",
    "- 하이퍼링크의 혁신성\n",
    "    - 1-2-1. 문법 몇가지\n",
    "- 1-3. CSS\n",
    "\n",
    "# 2. Flask로 웹서버 만들기\n",
    "- 2-1. 폴더 구조 준비하기\n",
    "- 2-2. 문법/규칙 몇가지\n",
    "\n",
    "# 3.\n",
    "\n"
   ]
  },
  {
   "cell_type": "markdown",
   "metadata": {},
   "source": [
    "# 1. HTTP 기초잡기\n",
    "\n",
    "## 1-1. HTTP\n",
    "\n",
    "> **H**yper **T**ext **T**ransfer **P**rtocol\n",
    "- 웹에서 정보를 주고 받을 수 있는 가장 기본적인 프로토콜\n",
    "- 접속을 유지하지 않는 stateless 프로토콜\n",
    "    - 대규모 저복을 지원하기 위함\n",
    "- 클라이언트와 서버 사이에 이루어지는 요청&응답 프로토콜\n",
    "\n",
    "## 1-2. HTML\n",
    "> **H**yper **T**ext **M**arkup **L**anguage\n",
    "- 많은 수의 문서를 하이퍼링크로 서로 연결시킬 수 있는 문서 구조\n",
    "- 참조를 통해 한 문서에서 다른 문서로 즉시 접근할 수 있는 텍스트\n",
    "\n",
    "### 하이퍼링크의 혁신성\n",
    "- 기존 문서: 순차적, 서열형 구조\n",
    "- 하이퍼링크: 링크에 따라 그 차례가 임의적이면서 나열형 구조\n",
    "    - 작가의 의도대로 사용자가 따라가는 것이 아닌, 하이퍼링크로 연결된 문서들을 클릭에 따라 자유롭게 이동할 수 있도록 해줌.\n",
    "    - 패러다임의 변화\n",
    "<img src=web.jpg>\n",
    "\n",
    "\n",
    "### 1-2-1. 문법 몇가지\n",
    "- opening tag 와 closing tag로 내용을 감싼다.\n",
    "    - `<head>     </head>`\n",
    "- `\"`, `'` 모두 쓰고, 사실은 생략 가능하다.\n",
    "- 주석: `<!--  -->`\n",
    "\n",
    "\n",
    "## 1-3. CSS\n",
    "> **C**ascading **S**tyle **S**heets; HTML이 data라면, CSS는 view\n",
    "\n",
    "\n",
    "## 1-4. 모바일 지원 HTML\n",
    "\n",
    "모바일 viewport 지원 (디바이스 크기에 맞추어 페이지를 리사이징해서 보여줌)\n",
    "\n",
    "`<head>`\n",
    "\n",
    "`   <meta charset=\"utf-8\">`\n",
    "\n",
    "`   <meta name=\"viewport\" content=\"width=device-width initial-scale=1.0\">`\n",
    "\n",
    "`</head>`\n",
    "\n",
    "\n",
    "모바일 카메라 지원\n",
    "\n",
    "`<input type=\"file\" name =\"file1\" accept=\"image/*\" capture=\"camera\"/>`\n"
   ]
  },
  {
   "cell_type": "markdown",
   "metadata": {},
   "source": [
    "# 2. Flask로 웹서버 만들기\n",
    "\n",
    "### - 참조할 파일\n",
    "    - flaskapp.py\n",
    "    - home.html\n",
    "    - image.html\n",
    "    - view.html\n",
    "\n",
    "## 2-1. 폴더 구조 준비하기\n",
    "- app\n",
    "    - static\n",
    "        - css\n",
    "        - img\n",
    "        - js\n",
    "    - templates\n",
    "    - routes\n",
    "    - README.md\n",
    "\n",
    "#### * 중요: 디렉토리명은 꼭 똑같이 써줘야한다!\n",
    "\n",
    "## 2-2. 문법/규칙 몇가지\n",
    "- 파이썬과 html을 가급적이면 섞어서 쓰는 것을 피한다.\n",
    "    - app을 정의하는 py 파일에는 파이썬을\n",
    "    - 템플릿을 만드는 html 파일에는 html을 쓴다.\n",
    "    \n",
    "- 파이썬과 html을 엮을 때는 일련의 문법을 따른다.\n",
    "    - `flask` 에서 제공하는 `render_template` 메소드를 활용하면\n",
    "        - 변수 처리 : `{{변수}}`\n",
    "        - 반복문 : `{%  for문  %}    {%  endfor  %}`\n",
    "        - 조건문 : `{%   if문  %}    {%  endif   %}`\n",
    "    - 을 html에 끼워넣어서 py 파일과 html 파일을 연동시킬 수 있다.\n",
    "    \n",
    "- 예제: for문으로 이미지 띄우기\n",
    "    - flaskapp.py\n",
    "    <img src=flaskapp.jpg>\n",
    "    - image.html\n",
    "    <img src=image.html.jpg>\n",
    "    - 브라우저 출력 값\n",
    "    <img src=browser.jpg>\n",
    "    - 브라우저 소스보기\n",
    "    <img src=source.jpg>\n"
   ]
  },
  {
   "cell_type": "markdown",
   "metadata": {},
   "source": [
    "html에 썼던 for문이 아주아주 잘 처리가 되었다!"
   ]
  },
  {
   "cell_type": "code",
   "execution_count": null,
   "metadata": {},
   "outputs": [],
   "source": []
  }
 ],
 "metadata": {
  "kernelspec": {
   "display_name": "Python 3",
   "language": "python",
   "name": "python3"
  },
  "language_info": {
   "codemirror_mode": {
    "name": "ipython",
    "version": 3
   },
   "file_extension": ".py",
   "mimetype": "text/x-python",
   "name": "python",
   "nbconvert_exporter": "python",
   "pygments_lexer": "ipython3",
   "version": "3.7.4"
  },
  "varInspector": {
   "cols": {
    "lenName": 16,
    "lenType": 16,
    "lenVar": 40
   },
   "kernels_config": {
    "python": {
     "delete_cmd_postfix": "",
     "delete_cmd_prefix": "del ",
     "library": "var_list.py",
     "varRefreshCmd": "print(var_dic_list())"
    },
    "r": {
     "delete_cmd_postfix": ") ",
     "delete_cmd_prefix": "rm(",
     "library": "var_list.r",
     "varRefreshCmd": "cat(var_dic_list()) "
    }
   },
   "types_to_exclude": [
    "module",
    "function",
    "builtin_function_or_method",
    "instance",
    "_Feature"
   ],
   "window_display": false
  }
 },
 "nbformat": 4,
 "nbformat_minor": 2
}

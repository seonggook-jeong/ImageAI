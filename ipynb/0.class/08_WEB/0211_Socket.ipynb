{
 "cells": [
  {
   "cell_type": "markdown",
   "metadata": {},
   "source": [
    "# <오늘 할 것: Socket 이모저모>\n",
    "\n",
    "# 1. Web 기초\n",
    "- 1-1. OSI 참조 모델\n",
    "\n",
    "# 2. Socket\n",
    "- 2-1. 서버\n",
    "    - 2-1-1. 최고로 간단하게 만들어보기\n",
    "    - 2-1-2. Post 방식으로 해보기\n",
    "    - 2-1-3. 클라이언트에게 데이터 보내기\n",
    "    - 2-1-4. 계속 접속받기\n",
    "        - 2-1-4-1. 현재 시각을 띄우는 서버\n",
    "    - 2-1-5. 클라이언트가 요청한 데이터를 전송하는 서버\n",
    "    - 2-1-6. 이미지를 띄워보자\n",
    "    - 2-1-7. 파이썬 실행파일을 띄워보자\n",
    "    - 2-1-8. Multi thread로 실행하기\n",
    "- 2-2. 클라이언트\n",
    "### - 2-3. Python + HTML\n"
   ]
  },
  {
   "cell_type": "markdown",
   "metadata": {},
   "source": [
    "# 1. Web 기초\n",
    "\n",
    "## 1-1. OSI 참조 모델\n",
    " > Open System Interconnection\n",
    " \n",
    " > 7개 계층으로 web 구조를 표준화한 모델\n",
    "- 사용자와 접속\n",
    "    - 응용\n",
    "    - 표현\n",
    "    - 세션\n",
    "    - 전송\n",
    "- 망과 접속\n",
    "    - 네트워크\n",
    "    - 데이터링크\n",
    "    - 물리\n",
    "\n",
    "<img src=osi.jpg>\n",
    "\n",
    "- 응용, 전송 계층만 제대로 알고 있으면 된다.\n",
    "\n",
    "### - 전송계층\n",
    "> 프로토콜(TCP, UDP)과 관련된 계층으로 오류 복구와 흐름 제어 등을 담당하며, 두 시스템 간에 신뢰성 있는 데이터를 전송한다.\n",
    "    - TCP: 등기; 주고 받음을 확인할 수 있다; 대부분 TCP\n",
    "    - UDP: 우편함; 주고 받음을 확인할 수 없다; 고속이다\n",
    "\n",
    "\n",
    "### - 응용계층\n",
    "> 사용자와 직접적으로 상호작용하는 계층이다. 구글 크롬(Google Chrome), 파이어폭스(Firefox), 사파리(Safari) 등 웹 브라우저와 스카이프(Skype), 아웃룩(Outlook), 오피스(Office) 등의 응용 프로그램이 대표적이다.\n",
    "\n",
    "출처:\n",
    "http://www.ciokorea.com/news/36536#csidx67f960ca665aac8b8e30fde3e558ed4 \n",
    "    \n",
    "\n",
    "\n",
    "### - IP\n",
    "> 개별 컴퓨터를 구별하기 위한 고유 주소\n",
    "    - 4자리의 숫자로 구성되어 있다.\n",
    "        - 000.000.000.000 ~ 255.255.255.255\n",
    "\n",
    "\n",
    "\n",
    "### - 포트 번호\n",
    "> 통신을 할 구체적인 주소\n",
    "    - 16비트로 이루어져 있다.\n",
    "        - 0 ~ 65536\n",
    "\n"
   ]
  },
  {
   "cell_type": "markdown",
   "metadata": {},
   "source": [
    "# 2. Socket\n",
    "\n",
    "> 소켓 프로그래밍에 필요한 시스템 콜을 래핑하는 API를 제공하는 모듈이다.\n",
    "- 소켓 프로그래밍이란?: 네트워크 프로그래밍 분야에서 소켓은 연결된 네트워크의 양 끝단을 추상화 시킨 개념이며, 컴퓨터의 관점에서는 네트워크로 통하는 컴퓨터의 외부와 컴퓨터 내부의 프로그램을 이어주는 인터페이스이다. 네트워크를 통해서 바이트스트림을 주고 받을 수 있는 창구라 보면 된다. 다만 단순히 프로그램의 내부와 외부를 잇는 표준 입출력과는 달리 소켓은 네트워크의 반대편이 어디인지에 대한 정보를 가지고 있다. 즉 우리가 택배를 보낼 때 박스에 물건을 넣고 받는 사람 주소를 쓰는 것과 비슷하게 소켓은 어디로 보내지는 창구라는 것이 명시된 택배 상자 같은 것이다.\n",
    "\n",
    "출처: https://soooprmx.com/archives/8737\n",
    "- 엄청 자세히 설명되어 있다!"
   ]
  },
  {
   "cell_type": "markdown",
   "metadata": {},
   "source": [
    "## 2-1. 서버\n",
    "- 0211_Server.ipynb 참조"
   ]
  },
  {
   "cell_type": "markdown",
   "metadata": {},
   "source": [
    "## 2-2. 클라이언트\n",
    "- 0211_Client.ipynb 참조"
   ]
  },
  {
   "cell_type": "markdown",
   "metadata": {},
   "source": [
    "## 2-3. Python + HTML\n",
    "\n",
    "생각보다 간단하게 템플릿을 구현할 수 있다.\n",
    "\n",
    "1. HTML과 Python 파일을 물리적으로 분리한다.\n",
    "    - e.g. HTML은 전부 위에, Python은 전부 아래에\n",
    "    \n",
    "\n",
    "2. HTML에서 동적 처리가 필요한 부분에는 마크를 한다.\n",
    "    - e.g. 변수처리되어야 할 것에 `@` 붙여두기\n",
    "    \n",
    "\n",
    "3. `replace` 함수를 활용해서 `@`을 달고 있는 것들을 바꿔준다."
   ]
  },
  {
   "cell_type": "code",
   "execution_count": null,
   "metadata": {},
   "outputs": [],
   "source": [
    "html = \"\"\"\n",
    "\n",
    "<html>\n",
    "   <head>\n",
    "      <meta charset=\"utf-8\">\n",
    "   </head>\n",
    "\n",
    "   <body>\n",
    "      <font color=red> @out </font>\n",
    "   </body>\n",
    "</html>\n",
    "\"\"\"\n",
    "\n",
    "html = html.replace(\"@out\", \"제목출력\")\n",
    "\n",
    "print(html)"
   ]
  },
  {
   "cell_type": "code",
   "execution_count": 2,
   "metadata": {
    "ExecuteTime": {
     "end_time": "2020-02-11T07:17:01.637155Z",
     "start_time": "2020-02-11T07:17:01.633203Z"
    }
   },
   "outputs": [],
   "source": [
    "import socket\n",
    "import os.path\n",
    "import subprocess"
   ]
  },
  {
   "cell_type": "code",
   "execution_count": 19,
   "metadata": {
    "ExecuteTime": {
     "end_time": "2020-02-11T07:44:05.602075Z",
     "start_time": "2020-02-11T07:44:03.616810Z"
    }
   },
   "outputs": [
    {
     "name": "stdout",
     "output_type": "stream",
     "text": [
      "listening\n",
      "accepting\n"
     ]
    }
   ],
   "source": [
    "img_ext = ['.jpg', '.png', '.jpeg', '.bmp', '.ico']\n",
    "text_ext = ['.html', '.txt']\n",
    "py_ext = ['.py']\n",
    "\n",
    "server_socket = socket.socket(socket.AF_INET, socket.SOCK_STREAM)\n",
    "\n",
    "server_socket.bind(('localhost', 85))\n",
    "server_socket.listen(0)\n",
    "print('listening')\n",
    "\n",
    "if True:\n",
    "    client_socket, addr = server_socket.accept()\n",
    "    print('accepting')\n",
    "    data = client_socket.recv(65535)\n",
    "    #print(data.decode())\n",
    "    \n",
    "    try:\n",
    "        headers = data.decode().split('\\r\\n')\n",
    "        filename = headers[0].split(' ')[1]\n",
    "\n",
    "        ext = os.path.splitext(filename)[1]\n",
    "\n",
    "        if ext in text_ext:   #텍스트일때\n",
    "            file = open(\".\" + filename, 'rt', encoding = 'utf-8')\n",
    "            html = file.read()\n",
    "            header = 'HTTP/1.0 200 OK\\r\\n'\n",
    "            client_socket.send(header.encode('utf-8'))\n",
    "            client_socket.send('Content-Type: text/html\\r\\n\\r\\n'.encode())  #html임을 명시\n",
    "            client_socket.send(html.encode('utf-8'))\n",
    "        \n",
    "        elif ext in py_ext:\n",
    "            header = 'HTTP/1.0 200 OK\\r\\n'\n",
    "            output = subprocess.check_output(['python.exe', \".\" + filename])\n",
    "            html = output.decode('cp949')\n",
    "            client_socket.send(header.encode('utf-8'))\n",
    "            client_socket.send('Content-Type: text/html\\r\\n\\r\\n'.encode()) #html임을 명시\n",
    "            client_socket.send(html.encode('utf-8'))  #한글이 포함되어있을 때는 'cp949'!!!!\n",
    "        \n",
    "        elif ext in img_ext:   #이미지일 때\n",
    "            header = 'HTTP/1.1 200 OK\\r\\n'\n",
    "            client_socket.send(header.encode())\n",
    "            client_socket.send('Content-Type: image/jpg\\r\\n'.encode())  #이미지임을 명시\n",
    "            client_socket.send('Accept-Ranges: bytes\\r\\n\\r\\n'.encode())  #이미지 크기(몰라도 됨)\n",
    "            file = open(\".\" + filename, 'rb')  #rb: 이미지니까 바이너리로 읽어온다.\n",
    "            client_socket.send(file.read())  #이미지는 이미 byte 형태라서 인코딩 필요x\n",
    "            file.close()\n",
    "\n",
    "        else:    #아무것도 아닐 때\n",
    "            header = 'HTTP/1.0 404 File Not Found\\r\\n\\r\\n'\n",
    "            client_socket.send(header.encode('utf-8'))\n",
    "    except Exception as e:\n",
    "        print(e)\n",
    "    client_socket.close()"
   ]
  },
  {
   "cell_type": "markdown",
   "metadata": {},
   "source": [
    "`replace`를 써서 바꾸는 것도 잘 되기는 하는데,\n",
    "\n",
    "**딕셔너리**를 활용하면 더 간편하다."
   ]
  },
  {
   "cell_type": "code",
   "execution_count": 17,
   "metadata": {
    "ExecuteTime": {
     "end_time": "2020-02-11T07:43:18.684884Z",
     "start_time": "2020-02-11T07:43:18.680894Z"
    }
   },
   "outputs": [],
   "source": [
    "def render(html, data):\n",
    "    for key in data:\n",
    "        html = html.replace('@' + key, data[key])\n",
    "    return html"
   ]
  },
  {
   "cell_type": "code",
   "execution_count": 11,
   "metadata": {
    "ExecuteTime": {
     "end_time": "2020-02-11T07:27:27.566796Z",
     "start_time": "2020-02-11T07:27:27.561856Z"
    }
   },
   "outputs": [
    {
     "name": "stdout",
     "output_type": "stream",
     "text": [
      "hello 안녕하세요   test 이순신    item ^^ \n"
     ]
    }
   ],
   "source": [
    "html = 'hello @v1   test @v2    item @v3 '\n",
    "data = {'v1': '안녕하세요', 'v2': '이순신', 'v3': '^^'}\n",
    "html = render(html, data)\n",
    "print(html)"
   ]
  },
  {
   "cell_type": "code",
   "execution_count": 12,
   "metadata": {
    "ExecuteTime": {
     "end_time": "2020-02-11T07:36:24.886622Z",
     "start_time": "2020-02-11T07:36:24.881673Z"
    }
   },
   "outputs": [],
   "source": [
    "#html이 별도의 파일로 있는 경우\n",
    "def renderfile(file, data):\n",
    "    html = open(file, 'rt', encoding = 'utf-8').read()\n",
    "    for key in data:\n",
    "        html = html.replace('@' + key, data[key])\n",
    "    return html"
   ]
  },
  {
   "cell_type": "code",
   "execution_count": 20,
   "metadata": {
    "ExecuteTime": {
     "end_time": "2020-02-11T07:45:20.869840Z",
     "start_time": "2020-02-11T07:45:20.864853Z"
    }
   },
   "outputs": [
    {
     "name": "stdout",
     "output_type": "stream",
     "text": [
      "<html>\n",
      "   <head>\n",
      "      <meta charset=\"utf-8\">\n",
      "   </head>\n",
      "\n",
      "   <body>\n",
      "      <font color=red> 나의 홈페이지 </font>\n",
      "      <table border=1>\n",
      "         <tr>\n",
      "            <td> 이름 </td>   <td> 이순신 </td>\n",
      "        </tr>\n",
      "        <tr>\n",
      "           <td> 이메일 </td> <td> ^^ </td>\n",
      "       </tr>\n",
      "   </body>\n",
      "</html>\n"
     ]
    }
   ],
   "source": [
    "data = {\"title\": \"나의 홈페이지\", \"name\": \"이순신\", \"email\": \"^^\"}\n",
    "\n",
    "html = renderfile(\"template.txt\", data)\n",
    "\n",
    "print(html)"
   ]
  },
  {
   "cell_type": "markdown",
   "metadata": {},
   "source": [
    "#### HTML 모듈을 활용하면 굳이 서버에 띄우지 않고도 html을 검증할 수 있다."
   ]
  },
  {
   "cell_type": "code",
   "execution_count": 21,
   "metadata": {
    "ExecuteTime": {
     "end_time": "2020-02-11T07:45:48.133785Z",
     "start_time": "2020-02-11T07:45:48.129792Z"
    }
   },
   "outputs": [],
   "source": [
    "from IPython.core.display import HTML"
   ]
  },
  {
   "cell_type": "code",
   "execution_count": 22,
   "metadata": {
    "ExecuteTime": {
     "end_time": "2020-02-11T07:46:58.430967Z",
     "start_time": "2020-02-11T07:46:58.425980Z"
    }
   },
   "outputs": [
    {
     "data": {
      "text/html": [
       "<html>\n",
       "   <head>\n",
       "      <meta charset=\"utf-8\">\n",
       "   </head>\n",
       "\n",
       "   <body>\n",
       "      <font color=red> 나의 홈페이지 </font>\n",
       "      <table border=1>\n",
       "         <tr>\n",
       "            <td> 이름 </td>   <td> 이순신 </td>\n",
       "        </tr>\n",
       "        <tr>\n",
       "           <td> 이메일 </td> <td> ^^ </td>\n",
       "       </tr>\n",
       "   </body>\n",
       "</html>"
      ],
      "text/plain": [
       "<IPython.core.display.HTML object>"
      ]
     },
     "execution_count": 22,
     "metadata": {},
     "output_type": "execute_result"
    }
   ],
   "source": [
    "HTML(html)"
   ]
  },
  {
   "cell_type": "code",
   "execution_count": null,
   "metadata": {},
   "outputs": [],
   "source": []
  }
 ],
 "metadata": {
  "kernelspec": {
   "display_name": "Python 3",
   "language": "python",
   "name": "python3"
  },
  "language_info": {
   "codemirror_mode": {
    "name": "ipython",
    "version": 3
   },
   "file_extension": ".py",
   "mimetype": "text/x-python",
   "name": "python",
   "nbconvert_exporter": "python",
   "pygments_lexer": "ipython3",
   "version": "3.7.4"
  },
  "varInspector": {
   "cols": {
    "lenName": 16,
    "lenType": 16,
    "lenVar": 40
   },
   "kernels_config": {
    "python": {
     "delete_cmd_postfix": "",
     "delete_cmd_prefix": "del ",
     "library": "var_list.py",
     "varRefreshCmd": "print(var_dic_list())"
    },
    "r": {
     "delete_cmd_postfix": ") ",
     "delete_cmd_prefix": "rm(",
     "library": "var_list.r",
     "varRefreshCmd": "cat(var_dic_list()) "
    }
   },
   "types_to_exclude": [
    "module",
    "function",
    "builtin_function_or_method",
    "instance",
    "_Feature"
   ],
   "window_display": false
  }
 },
 "nbformat": 4,
 "nbformat_minor": 2
}

{
 "cells": [
  {
   "cell_type": "markdown",
   "metadata": {},
   "source": [
    "# <오늘 할 것: >\n",
    "\n",
    "# 1. DB 기초잡기\n",
    "- 1.1 데이터베이스란?\n",
    "- 1.2 분류\n",
    "- 1.3 SQL\n",
    "    - 1.3.1 기본 문법\n",
    "\n",
    "# 2. SQLite\n",
    "- 2.1 `SQLite Browser` 활용하기\n",
    "    - 테이블 생성하기\n",
    "    - 데이터 선택하기\n",
    "    - 데이터 입력하기\n",
    "    - group by\n",
    "    - 내부 조인\n",
    "    - order by / as\n",
    "    - having\n",
    "    \n",
    "# 3. ORM (Django DB)\n",
    "- 3.1 세팅하기\n",
    "- 3.2 파이썬 쉘로 DB 조작하기\n",
    "    - 3.2.1 데이터 확인하기\n",
    "    - 3.2.2 데이터 추가하기\n",
    "    - 3.2.3 데이터 수정하기\n",
    "    - 3.2.4 데이터 삭제하기\n",
    "- 3.3 jupyter notebook에서 DB 조작하기 (Django extensions)\n",
    "\n",
    "# 4. Django 앱에 DB 연동하기"
   ]
  },
  {
   "cell_type": "markdown",
   "metadata": {},
   "source": [
    "# 1. DB 기초잡기\n",
    "\n",
    "## 1.1 데이터베이스란?\n",
    "\n",
    "> 지속적인 데이터의 모임\n",
    "\n",
    "- 무결성: \n",
    "\n",
    "- 독립성: 응용프로그램과 독립적인 관계임\n",
    "\n",
    "- 보안: 접근이 허가된 사람만 접근할 수 있음\n",
    "\n",
    "- 중복 최소화\n",
    "\n",
    "- 응용 프로그램 제작 및 수정 용이\n",
    "\n",
    "- 데이터의 안전성 향상: 손상이 발생하더라도 원래의 상태로 복원 또는 복구할 수 있어야 함\n",
    "\n",
    "\n",
    "## 1.2 분류\n",
    "- 계층형\n",
    "    - 각 계층이 트리 형태를 띠고 1:N 관계를 가짐\n",
    "    - 구조 변경이 까다로움\n",
    "    - 접근 유연성이 부족함; 임의 검색이 어려움\n",
    "    \n",
    "\n",
    "- 관계형\n",
    "    - 모든 데이터는 테이블에 저장함\n",
    "    - 테이블 간의 관계는 기본키와 외래키를 사용하여 맺음\n",
    "    - 대용량 데이터를 체계적으로 관리할 수 있음\n",
    "    - 업무 변화에 바로 순응할 수 있고 유지 보수가 편리함\n",
    "    - 시스템 자원을 많이 차지하여 시스템이 느려질 수 있음 --> 극복됨\n",
    "    \n",
    "## 1.3 SQL\n",
    "> Structured Query Language; 데이터베이스를 조작하는 언어\n",
    "\n",
    "- DBMS 제작회사에 독립적임\n",
    "- 다른 시스템으로의 이식성이 좋음\n",
    "- 표준이 계속 발전함\n",
    "- 대화식 언어 + 선언적 언어\n",
    "    - how 없이 what만 언급함\n",
    "    - how까지 언급하는 것은 절차식 언어\n",
    "- 클라이언트/서버 구조를 지원함\n",
    "\n",
    "### 1.3.1 기초 문법\n",
    "> `SELECT 열이름\n",
    "FROM 테이블\n",
    "WHERE 조건`\n",
    "\n",
    "- 기본 연산자 몇가지\n",
    "    - AND\n",
    "    - OR\n",
    "    - BETWEEN\n",
    "    - GROUP BY\n",
    "    - HAVING\n",
    "    - ORDER BY\n",
    "    - "
   ]
  },
  {
   "cell_type": "markdown",
   "metadata": {},
   "source": [
    "# 2. SQLite\n",
    "\n",
    "$ `python manage.py createsuperuser`\n",
    "\n",
    "- Username: home\n",
    "- Email address: home@home.com\n",
    "- Password: home\n",
    "\n",
    "\n",
    "`localhost:8000/admin/`으로 접속해서 유저정보를 확인할 수 있다.\n",
    "\n",
    "## 2.1 `SQLite Browser` 활용하기\n",
    "\n",
    "다운로드\n",
    "\n",
    "https://sqlitebrowser.org/dl/\n",
    "\n",
    "\n",
    "DB Browser for SQLite - .zip (no installer) for 64-bit Windows"
   ]
  },
  {
   "cell_type": "markdown",
   "metadata": {},
   "source": [
    "### 테이블 생성하기\n",
    "\n",
    "<img src=create_table.jpg>\n",
    "\n",
    "<img src=create_table_result.jpg>\n",
    "\n",
    "`userTBL`과 `buyTBL`이 지정한대로 잘 생성되었음을 확인할 수 있다."
   ]
  },
  {
   "cell_type": "markdown",
   "metadata": {},
   "source": [
    "### 데이터 입력하기\n",
    "<img src=add_data.jpg>\n",
    "\n",
    "<img src=add.jpg>\n",
    "\n",
    "<img src=add2.jpg>"
   ]
  },
  {
   "cell_type": "markdown",
   "metadata": {},
   "source": [
    "### 데이터 선택하기\n",
    "\n",
    "<img src=select.jpg>"
   ]
  },
  {
   "cell_type": "markdown",
   "metadata": {},
   "source": [
    "보통 키워드는 대문자로 쓰지만(e.g. SELECT) SQL 문법 자체가 대소문자를 구분하지는 않는다."
   ]
  },
  {
   "cell_type": "markdown",
   "metadata": {},
   "source": [
    "### group by\n",
    "\n",
    "<img src=groupby.jpg>"
   ]
  },
  {
   "cell_type": "markdown",
   "metadata": {},
   "source": [
    "### 내부 조인\n",
    "\n",
    "> pandas의 join( how = 'inner') 과 같다.\n",
    "\n",
    "n행의 테이블a와 m행의 테이블b의 모든 데이터를 서로 이어붙인다. (n*m 행의 테이블이 결과로 나옴)\n",
    "\n",
    "=> 이 중에서 의미있는 데이터(키 값이 일치하는 데이터)만 골라낸 것이 내부 조인의 결과다.\n",
    "\n",
    "<img src=join.jpg>"
   ]
  },
  {
   "cell_type": "markdown",
   "metadata": {},
   "source": [
    "### order by / as\n",
    "\n",
    "> `ORDER by`는 모든 것이 끝나고 맨 마지막에; 최종적으로 선택된 데이터의 **디스플레이**와 관련된 것이므로!\n",
    "\n",
    "<img src=orderby.jpg>"
   ]
  },
  {
   "cell_type": "markdown",
   "metadata": {},
   "source": [
    "### having\n",
    "\n",
    "> `WHERE`로 조건을 건 뒤에 또 다시 조건을 걸어줄 때\n",
    "\n",
    "<img src=having.jpg>"
   ]
  },
  {
   "cell_type": "markdown",
   "metadata": {},
   "source": [
    "# 3. ORM (Django DB)\n",
    "> **O**bject **R**elation **M**apping;  데이터베이스와 객체 지향 프로그래밍 언어 간의 호환되지 않는 데이터를 변환하는 프로그래밍 기법\n",
    "\n",
    "출처: https://ko.wikipedia.org/wiki/%EA%B0%9D%EC%B2%B4_%EA%B4%80%EA%B3%84_%EB%A7%A4%ED%95%91\n",
    "\n",
    "\n",
    "<img src=orm.png>"
   ]
  },
  {
   "cell_type": "markdown",
   "metadata": {},
   "source": [
    "## 3.1 세팅하기\n",
    "\n",
    "**DB 설정은 앱 별로 해주어야한다.**\n",
    "\n",
    "1. 프로젝트 폴더의 `settings.py`의  `INSTALLED_APPS` 변수에 다음과 같이 추가해준다.\n",
    "\n"
   ]
  },
  {
   "cell_type": "code",
   "execution_count": null,
   "metadata": {},
   "outputs": [],
   "source": [
    "INSTALLED_APPS = [\n",
    "    'django.contrib.admin',\n",
    "    'django.contrib.auth',\n",
    "    'django.contrib.contenttypes',\n",
    "    'django.contrib.sessions',\n",
    "    'django.contrib.messages',\n",
    "    'django.contrib.staticfiles',\n",
    "    'myapp',    #myapp.apps.MyappConfig (앱명.apps.앱명Config)\n",
    "]"
   ]
  },
  {
   "cell_type": "markdown",
   "metadata": {},
   "source": [
    "### 2. `myapp/models.py`에 테이블을 클래스로 정의해준다.\n",
    "\n",
    "> 드디어 `models.py`를 건드린다!\n",
    "\n",
    "    - CharField\n",
    "    - IntegerField\n",
    "        - max_length\n",
    "        - primary_key\n",
    "        \n"
   ]
  },
  {
   "cell_type": "code",
   "execution_count": null,
   "metadata": {},
   "outputs": [],
   "source": [
    "from django.db import models\n",
    "from django.utils import timezone\n",
    "\n",
    "# Create your models here.\n",
    "\n",
    "class User(models.Model):\n",
    "    userid = models.CharField(max_length=10, primary_key=True)   \n",
    "    name = models.CharField(max_length=10)\n",
    "    age = models.IntegerField()\n",
    "    hobby = models.CharField(max_length=20)\n",
    "\n",
    "    def __str__(self):   #print를 했을 때 출력될 문자열 정의\n",
    "        return self.userid + \"/\" + self.name"
   ]
  },
  {
   "cell_type": "markdown",
   "metadata": {},
   "source": [
    "3. `myapp/admin.py`에 등록할 테이블 이름을 추가해준다."
   ]
  },
  {
   "cell_type": "code",
   "execution_count": null,
   "metadata": {},
   "outputs": [],
   "source": [
    "from django.contrib import admin\n",
    "from myapp.models import User\n",
    "\n",
    "# Register your models here.\n",
    "admin.site.register(User)"
   ]
  },
  {
   "cell_type": "markdown",
   "metadata": {},
   "source": [
    "4. migrate 해준다.\n",
    "\n",
    "    - migrate 파일 만들기\n",
    "       \n",
    "    $ `python manage.py makemigrations myapp`\n",
    "    \n",
    "    - migrate 실행하기\n",
    "    \n",
    "    $ `python manage.py migrate`"
   ]
  },
  {
   "cell_type": "markdown",
   "metadata": {},
   "source": [
    "5. 브라우저(`localhost:8000/admin/`)에서 확인해본다."
   ]
  },
  {
   "cell_type": "markdown",
   "metadata": {},
   "source": [
    "## 3.2 파이썬 쉘로 DB 조작하기"
   ]
  },
  {
   "cell_type": "markdown",
   "metadata": {},
   "source": [
    "$ `python manage.py shell`"
   ]
  },
  {
   "cell_type": "code",
   "execution_count": null,
   "metadata": {},
   "outputs": [],
   "source": [
    "from myapp.models import User"
   ]
  },
  {
   "cell_type": "markdown",
   "metadata": {},
   "source": [
    "### 3.2.1 데이터 확인하기\n",
    "\n",
    "`objects.all`메소드로 테이블 객체의 전체 데이터를 호출할 수 있다.\n",
    "- `User.objects.all()`"
   ]
  },
  {
   "cell_type": "code",
   "execution_count": null,
   "metadata": {},
   "outputs": [],
   "source": [
    "datas = User.objects.all()  #SQL에서 SELECT *와 동일; 모두 선택\n",
    "\n",
    "print(datas)   #<QuerySet [<User: kim/김유신>, <User: kim2/김유신2>]>"
   ]
  },
  {
   "cell_type": "code",
   "execution_count": null,
   "metadata": {},
   "outputs": [],
   "source": [
    "for d in datas:\n",
    "    print(d)   #kim/김유신\n",
    "    print(d.age)   #10"
   ]
  },
  {
   "cell_type": "markdown",
   "metadata": {},
   "source": [
    "`datas` 변수의 요소인 `d`는 `models.py`에 정의한 `User` 클래스 하나하나이다.\n",
    "\n",
    "--> `.속성명`을 통해서 클래스의 속성에 접근할 수 있다."
   ]
  },
  {
   "cell_type": "markdown",
   "metadata": {},
   "source": [
    "### 3.2.2 데이터 추가하기"
   ]
  },
  {
   "cell_type": "code",
   "execution_count": null,
   "metadata": {},
   "outputs": [],
   "source": [
    "u = User(userid='lee', name='임꺽정', age=40, hobby='봉사')\n",
    "u.save()"
   ]
  },
  {
   "cell_type": "markdown",
   "metadata": {},
   "source": [
    "### 3.2.3 데이터 수정하기"
   ]
  },
  {
   "cell_type": "code",
   "execution_count": null,
   "metadata": {},
   "outputs": [],
   "source": [
    "u.name = '임꺽정3'\n",
    "u.age = 80\n",
    "u.save()"
   ]
  },
  {
   "cell_type": "markdown",
   "metadata": {},
   "source": [
    "### 3.2.4 데이터 삭제하기"
   ]
  },
  {
   "cell_type": "code",
   "execution_count": null,
   "metadata": {},
   "outputs": [],
   "source": [
    "u.delete()"
   ]
  },
  {
   "cell_type": "markdown",
   "metadata": {},
   "source": [
    "## 3.3 jupyter notebook 에서 DB 조작하기\n",
    "\n",
    "### => `django extension`를 활용한다."
   ]
  },
  {
   "cell_type": "markdown",
   "metadata": {},
   "source": [
    "1. django 버전 낮추기\n",
    "\n",
    "    $ `pip install django==2.0`\n",
    "\n",
    "\n",
    "2. `settings.py` 파일 수정하기\n",
    " \n",
    "    `INSTALLED_APPS` 변수에 `django_extensions` 추가\n",
    "\n",
    "\n",
    "3. `django-extension` 설치하기\n",
    "\n",
    "    $`pip install django-extension`\n",
    "\n",
    "\n",
    "4. 주피터 노트북에서 shell plus 열기\n",
    "\n",
    "    $ `python manage.py shell_plus --notebook`\n",
    "\n",
    "\n",
    "5. Django Shell-Plus 파일을 새로 만들어서 파이썬 쉘에서 했듯이 DB를 접근/수정 가능하다.\n",
    "\n",
    "    `0217_filter.ipynb` 참조"
   ]
  },
  {
   "cell_type": "markdown",
   "metadata": {},
   "source": [
    "# 4. Django 앱에 DB 연동하기\n",
    "\n",
    "- 유저 정보를 검색하고 새로 추가할 수 있는 프로그램을 만들고자 한다.\n",
    "\n",
    "`templates/template2.html`, `myapp/views.py`, `myapp/urls.py` 참조"
   ]
  },
  {
   "cell_type": "markdown",
   "metadata": {},
   "source": [
    "1. `templates/template2.html`\n",
    "\n",
    "URL 주소의 수를 불필요하게 많이 늘리지 않기 위해서 보통\n",
    "- GET 방식으로 데이터를 검색하고\n",
    "- POST 방식으로는 데이터를 쓰는 작업을 처리한다."
   ]
  },
  {
   "cell_type": "code",
   "execution_count": null,
   "metadata": {},
   "outputs": [],
   "source": [
    "<meta charset=\"utf-8\">\n",
    "\n",
    "user list <br>\n",
    "\n",
    "{% for d in data %}\n",
    "\n",
    "    이름 {{d.name}}  age {{d.age}} <br>\n",
    "\n",
    "{% endfor %}\n",
    "\n",
    "<form action=\"\">    <!--검색할 때는 GET-->\n",
    "    <input type=\"text\" name=\"q\"/>\n",
    "    <input type=\"submit\" value=\"검색\"/>\n",
    "</form>\n",
    "\n",
    "<form action=\"\" method=\"post\">   <!--쓸 때는 POST-->\n",
    "    {% csrf_token %}\n",
    "    유저 추가하기 <br>\n",
    "    아이디 <input type=\"text\" name=\"userid\" /> <br>\n",
    "    이름 <input type=\"text\" name=\"name\"/>  <br>\n",
    "    나이 <input type=\"text\" name=\"age\"/>  <br>\n",
    "    취미 <input type=\"text\" name=\"hobby\"/>  <br>\n",
    "    <input type=\"submit\" value=\"ADD\"/>\n",
    "</form>"
   ]
  },
  {
   "cell_type": "markdown",
   "metadata": {},
   "source": [
    "2. `myapp/views.py`"
   ]
  },
  {
   "cell_type": "code",
   "execution_count": null,
   "metadata": {},
   "outputs": [],
   "source": [
    "def listUser(request):\n",
    "    if request.method == 'GET':  #GET 방식으로 요청이 들어왔을 경우\n",
    "        q = request.GET.get('q', \"\")\n",
    "        if q == \"\":\n",
    "            data = User.objects.all()\n",
    "        else:\n",
    "            data = User.objects.all().filter(name__contains=q)\n",
    "        return render(request, 'template2.html', {\"data\": data})\n",
    "    else:    #POST 방식으로 요청이 들어왔을 경우\n",
    "        u = User(userid=request.POST.get('userid'),\n",
    "                 name=request.POST.get('name'),\n",
    "                 age=request.POST.get('age'),\n",
    "                 hobby=request.POST.get('hobby'))\n",
    "        u.save()\n",
    "        return redirect(\"/listuser\")"
   ]
  },
  {
   "cell_type": "markdown",
   "metadata": {},
   "source": [
    "3. `myapp/urls.py`"
   ]
  },
  {
   "cell_type": "code",
   "execution_count": null,
   "metadata": {},
   "outputs": [],
   "source": [
    "urlpatterns = [\n",
    "    ...\n",
    "    path('listuser/', views.listUser),\n",
    "]"
   ]
  },
  {
   "cell_type": "code",
   "execution_count": null,
   "metadata": {},
   "outputs": [],
   "source": []
  }
 ],
 "metadata": {
  "kernelspec": {
   "display_name": "Python 3",
   "language": "python",
   "name": "python3"
  },
  "language_info": {
   "codemirror_mode": {
    "name": "ipython",
    "version": 3
   },
   "file_extension": ".py",
   "mimetype": "text/x-python",
   "name": "python",
   "nbconvert_exporter": "python",
   "pygments_lexer": "ipython3",
   "version": "3.6.10"
  },
  "varInspector": {
   "cols": {
    "lenName": 16,
    "lenType": 16,
    "lenVar": 40
   },
   "kernels_config": {
    "python": {
     "delete_cmd_postfix": "",
     "delete_cmd_prefix": "del ",
     "library": "var_list.py",
     "varRefreshCmd": "print(var_dic_list())"
    },
    "r": {
     "delete_cmd_postfix": ") ",
     "delete_cmd_prefix": "rm(",
     "library": "var_list.r",
     "varRefreshCmd": "cat(var_dic_list()) "
    }
   },
   "types_to_exclude": [
    "module",
    "function",
    "builtin_function_or_method",
    "instance",
    "_Feature"
   ],
   "window_display": false
  }
 },
 "nbformat": 4,
 "nbformat_minor": 2
}

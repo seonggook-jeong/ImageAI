{
 "cells": [
  {
   "cell_type": "markdown",
   "metadata": {},
   "source": [
    "(0211_WebBasics.ipynb의 파생 노트북입니다.)\n",
    "\n",
    "# 2. Socket\n",
    "\n",
    "## 2-1. 서버\n",
    "\n",
    "### 2-1-1. 최고로 간단하게 만들어보기"
   ]
  },
  {
   "cell_type": "code",
   "execution_count": 1,
   "metadata": {
    "ExecuteTime": {
     "end_time": "2020-02-11T01:53:20.668412Z",
     "start_time": "2020-02-11T01:53:20.665420Z"
    }
   },
   "outputs": [],
   "source": [
    "import socket"
   ]
  },
  {
   "cell_type": "markdown",
   "metadata": {},
   "source": [
    "> 소켓 생성 -> 바인딩 -> 대기 -> 연결 -> 정보 주고받기 -> 소켓 닫기\n",
    "\n",
    "#### 1. `socket.socket` 메소드로 socket 객체를 생성한다.\n",
    "    - `socket.socket(socket.AF_INET, socket.SOCK_STREAM)`\n",
    "        - 패밀리: 어떤 종류의 주소체계를 쓸 것인지; `socket.AF_INET`, `socket.AF_INET6`\n",
    "        - 타입: 어떤 종류의 소켓을 쓸 것인지\n",
    " \n",
    " \n",
    "#### 2. `소켓.bind` 메소드로 ip와 port를 바인딩한다.\n",
    "> 바인딩: 서버가 소켓을 포트에 맵핑하는 것!\n",
    "\n",
    "    - `소켓.bind(('localhost', 12345))`\n",
    "        - ip와 포트번호를 **튜플**로 감싸서 전달한다.\n",
    "        \n",
    "        \n",
    "#### 3. `소켓.listen` 메소드로 대기 상태를 시작한다.\n",
    "> listen은 클라이언트가 바인드된 포트로 연결을 할 때까지 기다리는 블럭킹 함수이다.\n",
    "\n",
    "- `소켓.listen(0)`\n",
    "     - 0: \n",
    "     - 1: \n",
    "        \n",
    "#### 4. `소켓.accept` 메소드로 클라이언트 연결을 받아들인다.\n",
    "- (새소켓, 주소정보)를 리턴한다.\n",
    "- **중요** : `accept`가 리턴하는 소켓은 처음에 생성한 소켓과는 **별개의 객체**로 클라이언트와 연결이 구성되어 실제로 데이터를 주고 받을 수 있는 창구가 된다. \n",
    "\n",
    "#### 5. `새소켓.recv`와 `새소켓.send` 메소드로 정보를 주고 받는다.\n",
    "- 읽어들인 데이터와 보내는 데이터 모두 **byte 형태**이다.\n",
    "    - 따라서 읽어들일 때는 `decode()`를, 보낼 때는 `encode()`를 필수적으로 해주어야 한다.\n",
    "- `recv(buffsize)`\n",
    "    - buffsize: 한번에 읽어들일 byte 사이즈; 최대 64k(65535)\n",
    "    \n",
    "#### 6. `새소켓.close`로 소켓을 닫아준다."
   ]
  },
  {
   "cell_type": "code",
   "execution_count": 1,
   "metadata": {
    "ExecuteTime": {
     "end_time": "2020-02-11T01:17:24.436154Z",
     "start_time": "2020-02-11T01:17:22.336344Z"
    }
   },
   "outputs": [
    {
     "name": "stdout",
     "output_type": "stream",
     "text": [
      "listening\n",
      "accepting\n",
      "hello\n",
      "send data\n",
      "종료\n"
     ]
    }
   ],
   "source": [
    "server_socket = socket.socket(socket.AF_INET, socket.SOCK_STREAM)\n",
    "\n",
    "server_socket.bind(('localhost', 12345))    #ip주소와 port 번호를 바인딩\n",
    "server_socket.listen(0)    #대기 상태; 0: \n",
    "print('listening')\n",
    "\n",
    " \n",
    "client_socket, addr = server_socket.accept()   #클라이언트가 접속할 때까지 무한루프를 돈다.\n",
    "print('accepting')\n",
    "data = client_socket.recv(65535)   # 데이터를 한번에 64k씩 받아옴\n",
    "\n",
    "print(data.decode())\n",
    "\n",
    "client_socket.send(data)\n",
    "print(\"send data\")\n",
    "client_socket.close()\n",
    "print(\"종료\")"
   ]
  },
  {
   "cell_type": "code",
   "execution_count": 4,
   "metadata": {
    "ExecuteTime": {
     "end_time": "2020-02-11T01:37:52.746938Z",
     "start_time": "2020-02-11T01:37:44.360602Z"
    },
    "scrolled": false
   },
   "outputs": [
    {
     "name": "stdout",
     "output_type": "stream",
     "text": [
      "listening\n",
      "accepting\n",
      "GET / HTTP/1.1\n",
      "Host: localhost\n",
      "Connection: keep-alive\n",
      "Upgrade-Insecure-Requests: 1\n",
      "User-Agent: Mozilla/5.0 (Windows NT 10.0; Win64; x64) AppleWebKit/537.36 (KHTML, like Gecko) Chrome/79.0.3945.130 Safari/537.36\n",
      "Sec-Fetch-User: ?1\n",
      "Accept: text/html,application/xhtml+xml,application/xml;q=0.9,image/webp,image/apng,*/*;q=0.8,application/signed-exchange;v=b3;q=0.9\n",
      "Sec-Fetch-Site: none\n",
      "Sec-Fetch-Mode: navigate\n",
      "Accept-Encoding: gzip, deflate, br\n",
      "Accept-Language: ko-KR,ko;q=0.9,en-US;q=0.8,en;q=0.7\n",
      "Cookie: _xsrf=2|48bc2ba9|8105cc02a002037e121467c43648a2df|1579690113; username-localhost-8888=\"2|1:0|10:1581384700|23:username-localhost-8888|44:YWIzOTJjYTZkMTE1NDQ2MmFhZjc5ZjFlZjM5OGVlOTQ=|c5bbd3e0916519a20f6858b2787685087d82688930c875265ad6139819105b71\"\n",
      "\n",
      "\n"
     ]
    }
   ],
   "source": [
    "#simple webserver\n",
    "server_socket = socket.socket(socket.AF_INET, socket.SOCK_STREAM)\n",
    "\n",
    "server_socket.bind(('localhost', 80))   #port number 80\n",
    "server_socket.listen(0)\n",
    "print('listening')\n",
    "client_socket, addr = server_socket.accept()\n",
    "print('accepting')\n",
    "data = client_socket.recv(65535)\n",
    "\n",
    "print(data.decode())\n",
    "client_socket.close()"
   ]
  },
  {
   "cell_type": "markdown",
   "metadata": {},
   "source": [
    "브라우저에서 `localhost:80`으로 접속한 결과다.\n",
    "\n",
    "접속한 유저 환경 및 브라우저 정보, 쿠키 등이 서버가 수신한 데이터에 포함되어 있다."
   ]
  },
  {
   "cell_type": "code",
   "execution_count": 2,
   "metadata": {
    "ExecuteTime": {
     "end_time": "2020-02-11T01:38:32.271258Z",
     "start_time": "2020-02-11T01:38:21.080995Z"
    }
   },
   "outputs": [
    {
     "name": "stdout",
     "output_type": "stream",
     "text": [
      "listening\n",
      "accepting\n",
      "GET /?id=hello HTTP/1.1\n",
      "Host: 127.0.0.1\n",
      "Connection: keep-alive\n",
      "Upgrade-Insecure-Requests: 1\n",
      "User-Agent: Mozilla/5.0 (Windows NT 10.0; Win64; x64) AppleWebKit/537.36 (KHTML, like Gecko) Chrome/79.0.3945.130 Safari/537.36\n",
      "Sec-Fetch-User: ?1\n",
      "Accept: text/html,application/xhtml+xml,application/xml;q=0.9,image/webp,image/apng,*/*;q=0.8,application/signed-exchange;v=b3;q=0.9\n",
      "Sec-Fetch-Site: cross-site\n",
      "Sec-Fetch-Mode: navigate\n",
      "Accept-Encoding: gzip, deflate, br\n",
      "Accept-Language: ko-KR,ko;q=0.9,en-US;q=0.8,en;q=0.7\n",
      "Cookie: hblid=YQOJnYUBTBlUiRws3m39N0Gopkja3W6r; olfsk=olfsk778599512347137\n",
      "\n",
      "\n"
     ]
    }
   ],
   "source": [
    "#simple webserver\n",
    "server_socket = socket.socket(socket.AF_INET, socket.SOCK_STREAM)\n",
    "\n",
    "server_socket.bind(('localhost', 80))   #port number 80\n",
    "server_socket.listen(0)\n",
    "print('listening')\n",
    "client_socket, addr = server_socket.accept()\n",
    "print('accepting')\n",
    "data = client_socket.recv(65535)\n",
    "\n",
    "print(data.decode())\n",
    "client_socket.close()"
   ]
  },
  {
   "cell_type": "markdown",
   "metadata": {},
   "source": [
    "form.html을 실행 한 뒤 'hello'를 보낸 결과다.\n",
    "\n",
    "보낸 데이터가 id=hello로 전달되었다."
   ]
  },
  {
   "cell_type": "markdown",
   "metadata": {},
   "source": [
    "### 2-1-2. Post 방식으로 해보기"
   ]
  },
  {
   "cell_type": "code",
   "execution_count": null,
   "metadata": {},
   "outputs": [],
   "source": [
    "#simple webserver\n",
    "server_socket = socket.socket(socket.AF_INET, socket.SOCK_STREAM)\n",
    "\n",
    "server_socket.bind(('localhost', 80))   #port number 80\n",
    "server_socket.listen(0)\n",
    "print('listening')\n",
    "client_socket, addr = server_socket.accept()\n",
    "print('accepting')\n",
    "data = client_socket.recv(65535)\n",
    "\n",
    "print(data.decode())\n",
    "client_socket.close()"
   ]
  },
  {
   "cell_type": "code",
   "execution_count": null,
   "metadata": {},
   "outputs": [],
   "source": []
  },
  {
   "cell_type": "markdown",
   "metadata": {},
   "source": [
    "### 2-1-3. 클라이언트에게 데이터 보내기"
   ]
  },
  {
   "cell_type": "code",
   "execution_count": 8,
   "metadata": {
    "ExecuteTime": {
     "end_time": "2020-02-11T01:50:02.154683Z",
     "start_time": "2020-02-11T01:50:00.288506Z"
    }
   },
   "outputs": [
    {
     "name": "stdout",
     "output_type": "stream",
     "text": [
      "listening\n",
      "accepting\n",
      "GET / HTTP/1.1\n",
      "Host: 127.0.0.1\n",
      "Connection: keep-alive\n",
      "Cache-Control: max-age=0\n",
      "Upgrade-Insecure-Requests: 1\n",
      "User-Agent: Mozilla/5.0 (Windows NT 10.0; Win64; x64) AppleWebKit/537.36 (KHTML, like Gecko) Chrome/79.0.3945.130 Safari/537.36\n",
      "Sec-Fetch-User: ?1\n",
      "Accept: text/html,application/xhtml+xml,application/xml;q=0.9,image/webp,image/apng,*/*;q=0.8,application/signed-exchange;v=b3;q=0.9\n",
      "Sec-Fetch-Site: none\n",
      "Sec-Fetch-Mode: navigate\n",
      "Accept-Encoding: gzip, deflate, br\n",
      "Accept-Language: ko-KR,ko;q=0.9,en-US;q=0.8,en;q=0.7\n",
      "Cookie: hblid=YQOJnYUBTBlUiRws3m39N0Gopkja3W6r; olfsk=olfsk778599512347137\n",
      "\n",
      "\n"
     ]
    }
   ],
   "source": [
    "#simple webserver\n",
    "server_socket = socket.socket(socket.AF_INET, socket.SOCK_STREAM)\n",
    "\n",
    "server_socket.bind(('localhost', 80))   #port number 80\n",
    "server_socket.listen(0)\n",
    "print('listening')\n",
    "client_socket, addr = server_socket.accept()\n",
    "print('accepting')\n",
    "data = client_socket.recv(65535)\n",
    "\n",
    "print(data.decode())\n",
    "\n",
    "client_socket.send('HTTP/1.0 200 0K\\r\\n\\r\\n<font color=red>Hello</font>'.encode('utf-8'))\n",
    "# 앞부분은 헤더정보다; 정상적으로 통신이 이루어졌음을 의미한다.\n",
    "#'\\r\\n'이 엔터 하나다.\n",
    "#마찬가지로 인코딩을 해주어야 한다.\n",
    "\n",
    "client_socket.close()"
   ]
  },
  {
   "cell_type": "markdown",
   "metadata": {},
   "source": [
    "브라우저에서 `localhost:80`으로 접속했을 때 출력되는 결과이다.\n",
    "\n",
    "위의 코드는 한번 접속받고 나서 죽어버리는 서버다.\n",
    "\n",
    "### 2-1-4. 계속 접속받기"
   ]
  },
  {
   "cell_type": "code",
   "execution_count": null,
   "metadata": {
    "ExecuteTime": {
     "start_time": "2020-02-11T01:53:25.991Z"
    }
   },
   "outputs": [
    {
     "name": "stdout",
     "output_type": "stream",
     "text": [
      "listening\n",
      "accepting\n",
      "GET / HTTP/1.1\n",
      "Host: 127.0.0.1\n",
      "Connection: keep-alive\n",
      "Cache-Control: max-age=0\n",
      "Upgrade-Insecure-Requests: 1\n",
      "User-Agent: Mozilla/5.0 (Windows NT 10.0; Win64; x64) AppleWebKit/537.36 (KHTML, like Gecko) Chrome/79.0.3945.130 Safari/537.36\n",
      "Sec-Fetch-User: ?1\n",
      "Accept: text/html,application/xhtml+xml,application/xml;q=0.9,image/webp,image/apng,*/*;q=0.8,application/signed-exchange;v=b3;q=0.9\n",
      "Sec-Fetch-Site: none\n",
      "Sec-Fetch-Mode: navigate\n",
      "Accept-Encoding: gzip, deflate, br\n",
      "Accept-Language: ko-KR,ko;q=0.9,en-US;q=0.8,en;q=0.7\n",
      "Cookie: hblid=YQOJnYUBTBlUiRws3m39N0Gopkja3W6r; olfsk=olfsk778599512347137\n",
      "\n",
      "\n",
      "accepting\n",
      "GET /favicon.ico HTTP/1.1\n",
      "Host: 127.0.0.1\n",
      "Connection: keep-alive\n",
      "Pragma: no-cache\n",
      "Cache-Control: no-cache\n",
      "User-Agent: Mozilla/5.0 (Windows NT 10.0; Win64; x64) AppleWebKit/537.36 (KHTML, like Gecko) Chrome/79.0.3945.130 Safari/537.36\n",
      "Accept: image/webp,image/apng,image/*,*/*;q=0.8\n",
      "Sec-Fetch-Site: same-origin\n",
      "Sec-Fetch-Mode: no-cors\n",
      "Referer: http://127.0.0.1/\n",
      "Accept-Encoding: gzip, deflate, br\n",
      "Accept-Language: ko-KR,ko;q=0.9,en-US;q=0.8,en;q=0.7\n",
      "Cookie: hblid=YQOJnYUBTBlUiRws3m39N0Gopkja3W6r; olfsk=olfsk778599512347137\n",
      "\n",
      "\n",
      "accepting\n",
      "GET / HTTP/1.1\n",
      "Host: 127.0.0.1\n",
      "Connection: keep-alive\n",
      "Cache-Control: max-age=0\n",
      "Upgrade-Insecure-Requests: 1\n",
      "User-Agent: Mozilla/5.0 (Windows NT 10.0; Win64; x64) AppleWebKit/537.36 (KHTML, like Gecko) Chrome/79.0.3945.130 Safari/537.36\n",
      "Sec-Fetch-User: ?1\n",
      "Accept: text/html,application/xhtml+xml,application/xml;q=0.9,image/webp,image/apng,*/*;q=0.8,application/signed-exchange;v=b3;q=0.9\n",
      "Sec-Fetch-Site: none\n",
      "Sec-Fetch-Mode: navigate\n",
      "Accept-Encoding: gzip, deflate, br\n",
      "Accept-Language: ko-KR,ko;q=0.9,en-US;q=0.8,en;q=0.7\n",
      "Cookie: hblid=YQOJnYUBTBlUiRws3m39N0Gopkja3W6r; olfsk=olfsk778599512347137\n",
      "\n",
      "\n",
      "accepting\n",
      "GET /favicon.ico HTTP/1.1\n",
      "Host: 127.0.0.1\n",
      "Connection: keep-alive\n",
      "Pragma: no-cache\n",
      "Cache-Control: no-cache\n",
      "User-Agent: Mozilla/5.0 (Windows NT 10.0; Win64; x64) AppleWebKit/537.36 (KHTML, like Gecko) Chrome/79.0.3945.130 Safari/537.36\n",
      "Accept: image/webp,image/apng,image/*,*/*;q=0.8\n",
      "Sec-Fetch-Site: same-origin\n",
      "Sec-Fetch-Mode: no-cors\n",
      "Referer: http://127.0.0.1/\n",
      "Accept-Encoding: gzip, deflate, br\n",
      "Accept-Language: ko-KR,ko;q=0.9,en-US;q=0.8,en;q=0.7\n",
      "Cookie: hblid=YQOJnYUBTBlUiRws3m39N0Gopkja3W6r; olfsk=olfsk778599512347137\n",
      "\n",
      "\n",
      "accepting\n",
      "GET / HTTP/1.1\n",
      "Host: 127.0.0.1\n",
      "Connection: keep-alive\n",
      "Cache-Control: max-age=0\n",
      "Upgrade-Insecure-Requests: 1\n",
      "User-Agent: Mozilla/5.0 (Windows NT 10.0; Win64; x64) AppleWebKit/537.36 (KHTML, like Gecko) Chrome/79.0.3945.130 Safari/537.36\n",
      "Sec-Fetch-User: ?1\n",
      "Accept: text/html,application/xhtml+xml,application/xml;q=0.9,image/webp,image/apng,*/*;q=0.8,application/signed-exchange;v=b3;q=0.9\n",
      "Sec-Fetch-Site: none\n",
      "Sec-Fetch-Mode: navigate\n",
      "Accept-Encoding: gzip, deflate, br\n",
      "Accept-Language: ko-KR,ko;q=0.9,en-US;q=0.8,en;q=0.7\n",
      "Cookie: hblid=YQOJnYUBTBlUiRws3m39N0Gopkja3W6r; olfsk=olfsk778599512347137\n",
      "\n",
      "\n",
      "accepting\n",
      "GET /favicon.ico HTTP/1.1\n",
      "Host: 127.0.0.1\n",
      "Connection: keep-alive\n",
      "Pragma: no-cache\n",
      "Cache-Control: no-cache\n",
      "User-Agent: Mozilla/5.0 (Windows NT 10.0; Win64; x64) AppleWebKit/537.36 (KHTML, like Gecko) Chrome/79.0.3945.130 Safari/537.36\n",
      "Accept: image/webp,image/apng,image/*,*/*;q=0.8\n",
      "Sec-Fetch-Site: same-origin\n",
      "Sec-Fetch-Mode: no-cors\n",
      "Referer: http://127.0.0.1/\n",
      "Accept-Encoding: gzip, deflate, br\n",
      "Accept-Language: ko-KR,ko;q=0.9,en-US;q=0.8,en;q=0.7\n",
      "Cookie: hblid=YQOJnYUBTBlUiRws3m39N0Gopkja3W6r; olfsk=olfsk778599512347137\n",
      "\n",
      "\n",
      "accepting\n",
      "GET / HTTP/1.1\n",
      "Host: 127.0.0.1\n",
      "Connection: keep-alive\n",
      "Cache-Control: max-age=0\n",
      "Upgrade-Insecure-Requests: 1\n",
      "User-Agent: Mozilla/5.0 (Windows NT 10.0; Win64; x64) AppleWebKit/537.36 (KHTML, like Gecko) Chrome/79.0.3945.130 Safari/537.36\n",
      "Sec-Fetch-User: ?1\n",
      "Accept: text/html,application/xhtml+xml,application/xml;q=0.9,image/webp,image/apng,*/*;q=0.8,application/signed-exchange;v=b3;q=0.9\n",
      "Sec-Fetch-Site: none\n",
      "Sec-Fetch-Mode: navigate\n",
      "Accept-Encoding: gzip, deflate, br\n",
      "Accept-Language: ko-KR,ko;q=0.9,en-US;q=0.8,en;q=0.7\n",
      "Cookie: hblid=YQOJnYUBTBlUiRws3m39N0Gopkja3W6r; olfsk=olfsk778599512347137\n",
      "\n",
      "\n",
      "accepting\n",
      "GET /favicon.ico HTTP/1.1\n",
      "Host: 127.0.0.1\n",
      "Connection: keep-alive\n",
      "Pragma: no-cache\n",
      "Cache-Control: no-cache\n",
      "User-Agent: Mozilla/5.0 (Windows NT 10.0; Win64; x64) AppleWebKit/537.36 (KHTML, like Gecko) Chrome/79.0.3945.130 Safari/537.36\n",
      "Accept: image/webp,image/apng,image/*,*/*;q=0.8\n",
      "Sec-Fetch-Site: same-origin\n",
      "Sec-Fetch-Mode: no-cors\n",
      "Referer: http://127.0.0.1/\n",
      "Accept-Encoding: gzip, deflate, br\n",
      "Accept-Language: ko-KR,ko;q=0.9,en-US;q=0.8,en;q=0.7\n",
      "Cookie: hblid=YQOJnYUBTBlUiRws3m39N0Gopkja3W6r; olfsk=olfsk778599512347137\n",
      "\n",
      "\n"
     ]
    }
   ],
   "source": [
    "#simple webserver\n",
    "server_socket = socket.socket(socket.AF_INET, socket.SOCK_STREAM)\n",
    "\n",
    "server_socket.bind(('localhost', 80))   #port number 80\n",
    "server_socket.listen(0)\n",
    "print('listening')\n",
    "\n",
    "while True:    #무한루프로 계속 접속을 받을 수 있다.\n",
    "    client_socket, addr = server_socket.accept()\n",
    "    print('accepting')\n",
    "    data = client_socket.recv(65535)\n",
    "    print(data.decode())\n",
    "    client_socket.send('HTTP/1.0 200 0K\\r\\n\\r\\n<font color=red>Hello</font>'.encode('utf-8'))\n",
    "    client_socket.close()"
   ]
  },
  {
   "cell_type": "markdown",
   "metadata": {},
   "source": [
    "서버가 계속 살아난다. (클라이언트가 새로고침 할 때마다 접속 정보가 print 됨)"
   ]
  },
  {
   "cell_type": "markdown",
   "metadata": {},
   "source": [
    "### 2-1-4-1. 현재 시각을 띄우는 서버"
   ]
  },
  {
   "cell_type": "code",
   "execution_count": null,
   "metadata": {
    "ExecuteTime": {
     "start_time": "2020-02-11T02:14:43.847Z"
    }
   },
   "outputs": [
    {
     "name": "stdout",
     "output_type": "stream",
     "text": [
      "listening\n",
      "accepting\n",
      "GET / HTTP/1.1\n",
      "Host: 127.0.0.1\n",
      "Connection: keep-alive\n",
      "Cache-Control: max-age=0\n",
      "Upgrade-Insecure-Requests: 1\n",
      "User-Agent: Mozilla/5.0 (Windows NT 10.0; Win64; x64) AppleWebKit/537.36 (KHTML, like Gecko) Chrome/79.0.3945.130 Safari/537.36\n",
      "Sec-Fetch-User: ?1\n",
      "Accept: text/html,application/xhtml+xml,application/xml;q=0.9,image/webp,image/apng,*/*;q=0.8,application/signed-exchange;v=b3;q=0.9\n",
      "Sec-Fetch-Site: cross-site\n",
      "Sec-Fetch-Mode: navigate\n",
      "Accept-Encoding: gzip, deflate, br\n",
      "Accept-Language: ko-KR,ko;q=0.9,en-US;q=0.8,en;q=0.7\n",
      "Cookie: hblid=YQOJnYUBTBlUiRws3m39N0Gopkja3W6r; olfsk=olfsk778599512347137\n",
      "\n",
      "\n",
      "accepting\n",
      "GET /favicon.ico HTTP/1.1\n",
      "Host: 127.0.0.1\n",
      "Connection: keep-alive\n",
      "Pragma: no-cache\n",
      "Cache-Control: no-cache\n",
      "User-Agent: Mozilla/5.0 (Windows NT 10.0; Win64; x64) AppleWebKit/537.36 (KHTML, like Gecko) Chrome/79.0.3945.130 Safari/537.36\n",
      "Accept: image/webp,image/apng,image/*,*/*;q=0.8\n",
      "Sec-Fetch-Site: same-origin\n",
      "Sec-Fetch-Mode: no-cors\n",
      "Referer: http://127.0.0.1/\n",
      "Accept-Encoding: gzip, deflate, br\n",
      "Accept-Language: ko-KR,ko;q=0.9,en-US;q=0.8,en;q=0.7\n",
      "Cookie: hblid=YQOJnYUBTBlUiRws3m39N0Gopkja3W6r; olfsk=olfsk778599512347137\n",
      "\n",
      "\n",
      "accepting\n",
      "GET / HTTP/1.1\n",
      "Host: 127.0.0.1\n",
      "Connection: keep-alive\n",
      "Cache-Control: max-age=0\n",
      "Upgrade-Insecure-Requests: 1\n",
      "User-Agent: Mozilla/5.0 (Windows NT 10.0; Win64; x64) AppleWebKit/537.36 (KHTML, like Gecko) Chrome/79.0.3945.130 Safari/537.36\n",
      "Sec-Fetch-User: ?1\n",
      "Accept: text/html,application/xhtml+xml,application/xml;q=0.9,image/webp,image/apng,*/*;q=0.8,application/signed-exchange;v=b3;q=0.9\n",
      "Sec-Fetch-Site: cross-site\n",
      "Sec-Fetch-Mode: navigate\n",
      "Accept-Encoding: gzip, deflate, br\n",
      "Accept-Language: ko-KR,ko;q=0.9,en-US;q=0.8,en;q=0.7\n",
      "Cookie: hblid=YQOJnYUBTBlUiRws3m39N0Gopkja3W6r; olfsk=olfsk778599512347137\n",
      "\n",
      "\n",
      "accepting\n",
      "GET /favicon.ico HTTP/1.1\n",
      "Host: 127.0.0.1\n",
      "Connection: keep-alive\n",
      "Pragma: no-cache\n",
      "Cache-Control: no-cache\n",
      "User-Agent: Mozilla/5.0 (Windows NT 10.0; Win64; x64) AppleWebKit/537.36 (KHTML, like Gecko) Chrome/79.0.3945.130 Safari/537.36\n",
      "Accept: image/webp,image/apng,image/*,*/*;q=0.8\n",
      "Sec-Fetch-Site: same-origin\n",
      "Sec-Fetch-Mode: no-cors\n",
      "Referer: http://127.0.0.1/\n",
      "Accept-Encoding: gzip, deflate, br\n",
      "Accept-Language: ko-KR,ko;q=0.9,en-US;q=0.8,en;q=0.7\n",
      "Cookie: hblid=YQOJnYUBTBlUiRws3m39N0Gopkja3W6r; olfsk=olfsk778599512347137\n",
      "\n",
      "\n",
      "accepting\n",
      "GET / HTTP/1.1\n",
      "Host: 127.0.0.1\n",
      "Connection: keep-alive\n",
      "Cache-Control: max-age=0\n",
      "Upgrade-Insecure-Requests: 1\n",
      "User-Agent: Mozilla/5.0 (Windows NT 10.0; Win64; x64) AppleWebKit/537.36 (KHTML, like Gecko) Chrome/79.0.3945.130 Safari/537.36\n",
      "Sec-Fetch-User: ?1\n",
      "Accept: text/html,application/xhtml+xml,application/xml;q=0.9,image/webp,image/apng,*/*;q=0.8,application/signed-exchange;v=b3;q=0.9\n",
      "Sec-Fetch-Site: cross-site\n",
      "Sec-Fetch-Mode: navigate\n",
      "Accept-Encoding: gzip, deflate, br\n",
      "Accept-Language: ko-KR,ko;q=0.9,en-US;q=0.8,en;q=0.7\n",
      "Cookie: hblid=YQOJnYUBTBlUiRws3m39N0Gopkja3W6r; olfsk=olfsk778599512347137\n",
      "\n",
      "\n",
      "accepting\n",
      "GET /favicon.ico HTTP/1.1\n",
      "Host: 127.0.0.1\n",
      "Connection: keep-alive\n",
      "Pragma: no-cache\n",
      "Cache-Control: no-cache\n",
      "User-Agent: Mozilla/5.0 (Windows NT 10.0; Win64; x64) AppleWebKit/537.36 (KHTML, like Gecko) Chrome/79.0.3945.130 Safari/537.36\n",
      "Accept: image/webp,image/apng,image/*,*/*;q=0.8\n",
      "Sec-Fetch-Site: same-origin\n",
      "Sec-Fetch-Mode: no-cors\n",
      "Referer: http://127.0.0.1/\n",
      "Accept-Encoding: gzip, deflate, br\n",
      "Accept-Language: ko-KR,ko;q=0.9,en-US;q=0.8,en;q=0.7\n",
      "Cookie: hblid=YQOJnYUBTBlUiRws3m39N0Gopkja3W6r; olfsk=olfsk778599512347137\n",
      "\n",
      "\n",
      "accepting\n",
      "GET / HTTP/1.1\n",
      "Host: 127.0.0.1\n",
      "Connection: keep-alive\n",
      "Cache-Control: max-age=0\n",
      "Upgrade-Insecure-Requests: 1\n",
      "User-Agent: Mozilla/5.0 (Windows NT 10.0; Win64; x64) AppleWebKit/537.36 (KHTML, like Gecko) Chrome/79.0.3945.130 Safari/537.36\n",
      "Sec-Fetch-User: ?1\n",
      "Accept: text/html,application/xhtml+xml,application/xml;q=0.9,image/webp,image/apng,*/*;q=0.8,application/signed-exchange;v=b3;q=0.9\n",
      "Sec-Fetch-Site: cross-site\n",
      "Sec-Fetch-Mode: navigate\n",
      "Accept-Encoding: gzip, deflate, br\n",
      "Accept-Language: ko-KR,ko;q=0.9,en-US;q=0.8,en;q=0.7\n",
      "Cookie: hblid=YQOJnYUBTBlUiRws3m39N0Gopkja3W6r; olfsk=olfsk778599512347137\n",
      "\n",
      "\n",
      "accepting\n",
      "GET /favicon.ico HTTP/1.1\n",
      "Host: 127.0.0.1\n",
      "Connection: keep-alive\n",
      "Pragma: no-cache\n",
      "Cache-Control: no-cache\n",
      "User-Agent: Mozilla/5.0 (Windows NT 10.0; Win64; x64) AppleWebKit/537.36 (KHTML, like Gecko) Chrome/79.0.3945.130 Safari/537.36\n",
      "Accept: image/webp,image/apng,image/*,*/*;q=0.8\n",
      "Sec-Fetch-Site: same-origin\n",
      "Sec-Fetch-Mode: no-cors\n",
      "Referer: http://127.0.0.1/\n",
      "Accept-Encoding: gzip, deflate, br\n",
      "Accept-Language: ko-KR,ko;q=0.9,en-US;q=0.8,en;q=0.7\n",
      "Cookie: hblid=YQOJnYUBTBlUiRws3m39N0Gopkja3W6r; olfsk=olfsk778599512347137\n",
      "\n",
      "\n"
     ]
    }
   ],
   "source": [
    "import datetime\n",
    "server_socket = socket.socket(socket.AF_INET, socket.SOCK_STREAM)\n",
    "\n",
    "server_socket.bind(('localhost', 80))\n",
    "server_socket.listen(0)\n",
    "print('listening')\n",
    "\n",
    "while True:\n",
    "    client_socket, addr = server_socket.accept()\n",
    "    print('accepting')\n",
    "    data = client_socket.recv(65535)\n",
    "    print(data.decode())\n",
    "    header = 'HTTP/1.0 200 0K\\r\\n\\r\\n'   #header 분리\n",
    "    html = \"hello \" + str(datetime.datetime.now())\n",
    "    client_socket.send(header.encode('utf-8'))\n",
    "    client_socket.send(html.encode('utf-8'))\n",
    "    #.send를 두번에 나눠서 한다고 해서 송신을 두번 하는 게 아니다.\n",
    "    #\n",
    "    client_socket.close()"
   ]
  },
  {
   "cell_type": "markdown",
   "metadata": {},
   "source": [
    "### 2-1-5. 클라이언트가 요청한 데이터를 전송하는 서버"
   ]
  },
  {
   "cell_type": "code",
   "execution_count": 2,
   "metadata": {
    "ExecuteTime": {
     "end_time": "2020-02-11T02:28:18.156868Z",
     "start_time": "2020-02-11T02:28:18.152878Z"
    }
   },
   "outputs": [],
   "source": [
    "import socket"
   ]
  },
  {
   "cell_type": "code",
   "execution_count": 15,
   "metadata": {
    "ExecuteTime": {
     "end_time": "2020-02-11T02:49:50.203088Z",
     "start_time": "2020-02-11T02:49:48.328904Z"
    }
   },
   "outputs": [
    {
     "name": "stdout",
     "output_type": "stream",
     "text": [
      "listening\n",
      "accepting\n"
     ]
    }
   ],
   "source": [
    "server_socket = socket.socket(socket.AF_INET, socket.SOCK_STREAM)\n",
    "\n",
    "server_socket.bind(('localhost', 80))\n",
    "server_socket.listen(0)\n",
    "print('listening')\n",
    "\n",
    "if True:\n",
    "    client_socket, addr = server_socket.accept()\n",
    "    print('accepting')\n",
    "\n",
    "    data = client_socket.recv(65535)\n",
    "    headers = data.decode().split('\\r\\n')\n",
    "    filename = headers[0].split(' ')[1]\n",
    "    with open(\".\" + filename, 'rt', encoding = 'utf-8') as f:\n",
    "        html = f.read()\n",
    "    \n",
    "    header = 'HTTP/1.0 200 0K\\r\\n\\r\\n'\n",
    "    client_socket.send(header.encode('utf-8'))\n",
    "    client_socket.send(html.encode('utf-8'))\n",
    "    client_socket.close()"
   ]
  },
  {
   "cell_type": "markdown",
   "metadata": {},
   "source": [
    "### `/favicon.io`가 뭘까?\n",
    "\n",
    "> favorite icon\n",
    "\n",
    "브라우저가 기본적으로 전송하는 내용 중에 포함되어 있다."
   ]
  },
  {
   "cell_type": "code",
   "execution_count": 9,
   "metadata": {
    "ExecuteTime": {
     "end_time": "2020-02-11T02:37:33.729312Z",
     "start_time": "2020-02-11T02:37:33.725317Z"
    }
   },
   "outputs": [],
   "source": [
    "filename = '/index.html'\n",
    "\n",
    "with open(\".\" + filename, 'rt', encoding = 'utf-8') as f:\n",
    "    file = f.read()"
   ]
  },
  {
   "cell_type": "code",
   "execution_count": 10,
   "metadata": {
    "ExecuteTime": {
     "end_time": "2020-02-11T02:37:34.676751Z",
     "start_time": "2020-02-11T02:37:34.672742Z"
    }
   },
   "outputs": [
    {
     "data": {
      "text/plain": [
       "'<font color=red> My Web Server </font>\\n\\n'"
      ]
     },
     "execution_count": 10,
     "metadata": {},
     "output_type": "execute_result"
    }
   ],
   "source": [
    "file"
   ]
  },
  {
   "cell_type": "markdown",
   "metadata": {},
   "source": [
    "dialogflow Web demo 코드를 `index.html`에 포함시키면, 브라우저에 챗봇창이 띄워진다.\n",
    "- 우리 서버가 서비스하는 것이 아니라, 브라우저가 코드를 해석해서 스스로 dialogflow에 연결한 것이다."
   ]
  },
  {
   "cell_type": "markdown",
   "metadata": {},
   "source": [
    "### 2-1-6. 이미지를 띄워보자\n",
    "\n",
    "1. 이미지 헤더\n",
    "    - `client_socket.send('HTTP/1.1 200 OK\\r\\n')`\n",
    "\n",
    "2. 이미지임을 명시\n",
    "    - `client_socket.send('Content-Type: image/png\\r\\n'.encode())`\n",
    "    \n",
    "3. 이미지 크기를 명시\n",
    "    - `client_socket.send('Accept-Range: bytes\\r\\n\\r\\n'.encode())`\n",
    "\n",
    "#### 엔터코드('\\r\\n\\')가 두번일 때 header가 끝난 것으로 본다.\n",
    "\n",
    "4. 이미지 읽어서 전달\n",
    "    - `with open(이미지.png, 'rb') as f:`\n",
    "        - `client_socket.send(f.read())`\n",
    "    - 이미지는 이미 byte 형태이기 때문에 인코딩이 따로 필요없다.\n",
    "    - 대신 읽어올 때 `'rb'`를 인자로 전달해서 **바이너리**로 읽어오도록 해야한다."
   ]
  },
  {
   "cell_type": "code",
   "execution_count": 37,
   "metadata": {
    "ExecuteTime": {
     "end_time": "2020-02-11T04:38:28.960483Z",
     "start_time": "2020-02-11T04:38:28.698076Z"
    }
   },
   "outputs": [
    {
     "name": "stdout",
     "output_type": "stream",
     "text": [
      "listening\n",
      "accepting\n"
     ]
    }
   ],
   "source": [
    "server_socket = socket.socket(socket.AF_INET, socket.SOCK_STREAM)\n",
    "\n",
    "server_socket.bind(('localhost', 80))\n",
    "server_socket.listen(0)\n",
    "print('listening')\n",
    "\n",
    "if True:\n",
    "    client_socket, addr = server_socket.accept()\n",
    "    print('accepting')\n",
    "\n",
    "    data = client_socket.recv(65535)\n",
    "    headers = data.decode().split('\\r\\n')\n",
    "    filename = headers[0].split(' ')[1]\n",
    "\n",
    "    if '.html' in filename:   #HTML일 때\n",
    "        file = open(\".\" + filename, 'rt', encoding = 'utf-8')\n",
    "        html = file.read()\n",
    "        header = 'HTTP/1.0 200 OK\\r\\n\\r\\n'\n",
    "        client_socket.send(header.encode('utf-8'))\n",
    "        client_socket.send(html.encode('utf-8'))\n",
    "        \n",
    "    elif '.jpg' in filename:   #PNG일 때\n",
    "        header = 'HTTP/1.1 200 OK\\r\\n'\n",
    "        client_socket.send(header.encode())\n",
    "        client_socket.send('Content-Type: image/jpg\\r\\n'.encode())  #이미지임을 명시\n",
    "        client_socket.send('Accept-Ranges: bytes\\r\\n\\r\\n'.encode())  #이미지 크기(몰라도 됨)\n",
    "        file = open(\".\" + filename, 'rb')  #rb: 이미지니까 바이너리로 읽어온다.\n",
    "        client_socket.send(file.read())  #이미지는 이미 byte 형태라서 인코딩 필요x\n",
    "        file.close()\n",
    "        \n",
    "    else:    #아무것도 아닐 때\n",
    "        header = 'HTTP/1.0 404 File Not Found\\r\\n\\r\\n'\n",
    "        client_socket.send(header.encode('utf-8'))\n",
    "    client_socket.close()"
   ]
  },
  {
   "cell_type": "markdown",
   "metadata": {},
   "source": [
    "### 확장자로 분류 => 파일형식으로 분류"
   ]
  },
  {
   "cell_type": "code",
   "execution_count": 1,
   "metadata": {
    "ExecuteTime": {
     "end_time": "2020-02-11T04:48:46.988527Z",
     "start_time": "2020-02-11T04:48:46.984538Z"
    }
   },
   "outputs": [],
   "source": [
    "import socket"
   ]
  },
  {
   "cell_type": "code",
   "execution_count": 2,
   "metadata": {
    "ExecuteTime": {
     "end_time": "2020-02-11T04:48:47.517624Z",
     "start_time": "2020-02-11T04:48:47.513615Z"
    }
   },
   "outputs": [],
   "source": [
    "import os.path"
   ]
  },
  {
   "cell_type": "code",
   "execution_count": null,
   "metadata": {
    "ExecuteTime": {
     "start_time": "2020-02-11T04:56:50.808Z"
    },
    "collapsed": true
   },
   "outputs": [
    {
     "name": "stdout",
     "output_type": "stream",
     "text": [
      "listening\n",
      "accepting\n",
      "GET /diegdgs.png HTTP/1.1\n",
      "Host: 127.0.0.1\n",
      "Connection: keep-alive\n",
      "Upgrade-Insecure-Requests: 1\n",
      "User-Agent: Mozilla/5.0 (Windows NT 10.0; Win64; x64) AppleWebKit/537.36 (KHTML, like Gecko) Chrome/79.0.3945.130 Safari/537.36\n",
      "Sec-Fetch-User: ?1\n",
      "Accept: text/html,application/xhtml+xml,application/xml;q=0.9,image/webp,image/apng,*/*;q=0.8,application/signed-exchange;v=b3;q=0.9\n",
      "Sec-Fetch-Site: none\n",
      "Sec-Fetch-Mode: navigate\n",
      "Accept-Encoding: gzip, deflate, br\n",
      "Accept-Language: ko-KR,ko;q=0.9,en-US;q=0.8,en;q=0.7\n",
      "Cookie: hblid=YQOJnYUBTBlUiRws3m39N0Gopkja3W6r; olfsk=olfsk778599512347137\n",
      "\n",
      "\n",
      "[Errno 2] No such file or directory: './diegdgs.png'\n",
      "accepting\n",
      "\n",
      "list index out of range\n",
      "accepting\n",
      "GET /diegdgs.xlsx HTTP/1.1\n",
      "Host: 127.0.0.1\n",
      "Connection: keep-alive\n",
      "Upgrade-Insecure-Requests: 1\n",
      "User-Agent: Mozilla/5.0 (Windows NT 10.0; Win64; x64) AppleWebKit/537.36 (KHTML, like Gecko) Chrome/79.0.3945.130 Safari/537.36\n",
      "Sec-Fetch-User: ?1\n",
      "Accept: text/html,application/xhtml+xml,application/xml;q=0.9,image/webp,image/apng,*/*;q=0.8,application/signed-exchange;v=b3;q=0.9\n",
      "Sec-Fetch-Site: none\n",
      "Sec-Fetch-Mode: navigate\n",
      "Accept-Encoding: gzip, deflate, br\n",
      "Accept-Language: ko-KR,ko;q=0.9,en-US;q=0.8,en;q=0.7\n",
      "Cookie: hblid=YQOJnYUBTBlUiRws3m39N0Gopkja3W6r; olfsk=olfsk778599512347137\n",
      "\n",
      "\n",
      "accepting\n",
      "\n",
      "list index out of range\n",
      "accepting\n",
      "\n",
      "list index out of range\n",
      "accepting\n",
      "GET /sunflower.jpg HTTP/1.1\n",
      "Host: 127.0.0.1\n",
      "Connection: keep-alive\n",
      "Upgrade-Insecure-Requests: 1\n",
      "User-Agent: Mozilla/5.0 (Windows NT 10.0; Win64; x64) AppleWebKit/537.36 (KHTML, like Gecko) Chrome/79.0.3945.130 Safari/537.36\n",
      "Sec-Fetch-User: ?1\n",
      "Accept: text/html,application/xhtml+xml,application/xml;q=0.9,image/webp,image/apng,*/*;q=0.8,application/signed-exchange;v=b3;q=0.9\n",
      "Purpose: prefetch\n",
      "Sec-Fetch-Site: none\n",
      "Sec-Fetch-Mode: navigate\n",
      "Accept-Encoding: gzip, deflate, br\n",
      "Accept-Language: ko-KR,ko;q=0.9,en-US;q=0.8,en;q=0.7\n",
      "Cookie: hblid=YQOJnYUBTBlUiRws3m39N0Gopkja3W6r; olfsk=olfsk778599512347137\n",
      "\n",
      "\n",
      "accepting\n",
      "GET /index.html HTTP/1.1\n",
      "Host: 127.0.0.1\n",
      "Connection: keep-alive\n",
      "Upgrade-Insecure-Requests: 1\n",
      "User-Agent: Mozilla/5.0 (Windows NT 10.0; Win64; x64) AppleWebKit/537.36 (KHTML, like Gecko) Chrome/79.0.3945.130 Safari/537.36\n",
      "Sec-Fetch-User: ?1\n",
      "Accept: text/html,application/xhtml+xml,application/xml;q=0.9,image/webp,image/apng,*/*;q=0.8,application/signed-exchange;v=b3;q=0.9\n",
      "Purpose: prefetch\n",
      "Sec-Fetch-Site: none\n",
      "Sec-Fetch-Mode: navigate\n",
      "Accept-Encoding: gzip, deflate, br\n",
      "Accept-Language: ko-KR,ko;q=0.9,en-US;q=0.8,en;q=0.7\n",
      "Cookie: hblid=YQOJnYUBTBlUiRws3m39N0Gopkja3W6r; olfsk=olfsk778599512347137\n",
      "\n",
      "\n",
      "accepting\n",
      "GET /sunflower.jpg HTTP/1.1\n",
      "Host: 127.0.0.1\n",
      "Connection: keep-alive\n",
      "User-Agent: Mozilla/5.0 (Windows NT 10.0; Win64; x64) AppleWebKit/537.36 (KHTML, like Gecko) Chrome/79.0.3945.130 Safari/537.36\n",
      "Accept: image/webp,image/apng,image/*,*/*;q=0.8\n",
      "Purpose: prefetch\n",
      "Sec-Fetch-Site: same-origin\n",
      "Sec-Fetch-Mode: no-cors\n",
      "Referer: http://127.0.0.1/index.html\n",
      "Accept-Encoding: gzip, deflate, br\n",
      "Accept-Language: ko-KR,ko;q=0.9,en-US;q=0.8,en;q=0.7\n",
      "Cookie: hblid=YQOJnYUBTBlUiRws3m39N0Gopkja3W6r; olfsk=olfsk778599512347137\n",
      "\n",
      "\n",
      "accepting\n",
      "\n",
      "list index out of range\n",
      "accepting\n",
      "\n",
      "list index out of range\n"
     ]
    }
   ],
   "source": [
    "img_ext = ['.jpg', '.png', '.jpeg', '.bmp', '.ico']\n",
    "text_ext = ['.html', '.txt']\n",
    "\n",
    "server_socket = socket.socket(socket.AF_INET, socket.SOCK_STREAM)\n",
    "\n",
    "server_socket.bind(('localhost', 80))\n",
    "server_socket.listen(0)\n",
    "print('listening')\n",
    "\n",
    "while True:\n",
    "    client_socket, addr = server_socket.accept()\n",
    "    print('accepting')\n",
    "    data = client_socket.recv(65535)\n",
    "    print(data.decode())\n",
    "    \n",
    "    try:\n",
    "        headers = data.decode().split('\\r\\n')\n",
    "        filename = headers[0].split(' ')[1]\n",
    "\n",
    "        ext = os.path.splitext(filename)[1]\n",
    "\n",
    "        if ext in text_ext:   #텍스트일때\n",
    "            file = open(\".\" + filename, 'rt', encoding = 'utf-8')\n",
    "            html = file.read()\n",
    "            header = 'HTTP/1.0 200 OK\\r\\n\\r\\n'\n",
    "            client_socket.send(header.encode('utf-8'))\n",
    "            client_socket.send(html.encode('utf-8'))\n",
    "\n",
    "        elif ext in img_ext:   #이미지일 때\n",
    "            header = 'HTTP/1.1 200 OK\\r\\n'\n",
    "            client_socket.send(header.encode())\n",
    "            client_socket.send('Content-Type: image/jpg\\r\\n'.encode())  #이미지임을 명시\n",
    "            client_socket.send('Accept-Ranges: bytes\\r\\n\\r\\n'.encode())  #이미지 크기(몰라도 됨)\n",
    "            file = open(\".\" + filename, 'rb')  #rb: 이미지니까 바이너리로 읽어온다.\n",
    "            client_socket.send(file.read())  #이미지는 이미 byte 형태라서 인코딩 필요x\n",
    "            file.close()\n",
    "\n",
    "        else:    #아무것도 아닐 때\n",
    "            header = 'HTTP/1.0 404 File Not Found\\r\\n\\r\\n'\n",
    "            client_socket.send(header.encode('utf-8'))\n",
    "    except Exception as e:\n",
    "        print(e)\n",
    "    client_socket.close()"
   ]
  },
  {
   "cell_type": "markdown",
   "metadata": {},
   "source": [
    "### 2-1-7. 파이썬 실행파일을 띄워보자"
   ]
  },
  {
   "cell_type": "markdown",
   "metadata": {},
   "source": [
    "# subprocess\n",
    "> 특정 어플리케이션을 실행할 수 있도록 하는 라이브러리\n",
    "\n",
    "- `check_output([프로그램, 실행파일])` 메소드를 활용하면 프로그램 출력값을 확인할 수 있다.\n",
    "    - 프로그램: python.exe\n",
    "    - 실행파일: test.py\n",
    "    - 리턴값은 byte 형태이다.\n",
    "        - `decode()` 메소드로 원하는 형태로 디코딩할 수 있다.\n",
    "            - 한글을 읽으려면 'cp949'\n",
    "    "
   ]
  },
  {
   "cell_type": "code",
   "execution_count": 3,
   "metadata": {
    "ExecuteTime": {
     "end_time": "2020-02-11T05:24:24.881749Z",
     "start_time": "2020-02-11T05:24:24.825938Z"
    }
   },
   "outputs": [
    {
     "name": "stdout",
     "output_type": "stream",
     "text": [
      "b'a+b\\r\\n30\\r\\n'\n",
      "<class 'bytes'>\n",
      "a+b\r\n",
      "30\r\n",
      "\n"
     ]
    }
   ],
   "source": [
    "import subprocess\n",
    "\n",
    "output = subprocess.check_output(['python.exe', 'test.py'])\n",
    "#python.exe로 test.py를 실행해라\n",
    "#check_output 메소드를 쓰면 실행 결과를 확인할 수 있다.\n",
    "\n",
    "\n",
    "print(output)    #output은 byte로 출력된다.  --> decode 해준다.\n",
    "print(type(output))\n",
    "print(output.decode())\n",
    "# print(output.decode('cp949'))"
   ]
  },
  {
   "cell_type": "code",
   "execution_count": 4,
   "metadata": {
    "ExecuteTime": {
     "end_time": "2020-02-11T05:25:08.140008Z",
     "start_time": "2020-02-11T05:25:08.074158Z"
    }
   },
   "outputs": [
    {
     "name": "stdout",
     "output_type": "stream",
     "text": [
      "b'a \\xb4\\xf5\\xc7\\xcf\\xb1\\xe2 b\\r\\n30\\r\\n'\n",
      "<class 'bytes'>\n"
     ]
    },
    {
     "ename": "UnicodeDecodeError",
     "evalue": "'utf-8' codec can't decode byte 0xb4 in position 2: invalid start byte",
     "output_type": "error",
     "traceback": [
      "\u001b[1;31m---------------------------------------------------------------------------\u001b[0m",
      "\u001b[1;31mUnicodeDecodeError\u001b[0m                        Traceback (most recent call last)",
      "\u001b[1;32m<ipython-input-4-7a9c4dfe70d6>\u001b[0m in \u001b[0;36m<module>\u001b[1;34m\u001b[0m\n\u001b[0;32m      6\u001b[0m \u001b[0mprint\u001b[0m\u001b[1;33m(\u001b[0m\u001b[0moutput\u001b[0m\u001b[1;33m)\u001b[0m    \u001b[1;31m#output은 byte로 출력된다.  --> decode 해준다.\u001b[0m\u001b[1;33m\u001b[0m\u001b[1;33m\u001b[0m\u001b[0m\n\u001b[0;32m      7\u001b[0m \u001b[0mprint\u001b[0m\u001b[1;33m(\u001b[0m\u001b[0mtype\u001b[0m\u001b[1;33m(\u001b[0m\u001b[0moutput\u001b[0m\u001b[1;33m)\u001b[0m\u001b[1;33m)\u001b[0m\u001b[1;33m\u001b[0m\u001b[1;33m\u001b[0m\u001b[0m\n\u001b[1;32m----> 8\u001b[1;33m \u001b[0mprint\u001b[0m\u001b[1;33m(\u001b[0m\u001b[0moutput\u001b[0m\u001b[1;33m.\u001b[0m\u001b[0mdecode\u001b[0m\u001b[1;33m(\u001b[0m\u001b[1;33m)\u001b[0m\u001b[1;33m)\u001b[0m\u001b[1;33m\u001b[0m\u001b[1;33m\u001b[0m\u001b[0m\n\u001b[0m\u001b[0;32m      9\u001b[0m \u001b[1;31m# print(output.decode('cp949'))\u001b[0m\u001b[1;33m\u001b[0m\u001b[1;33m\u001b[0m\u001b[1;33m\u001b[0m\u001b[0m\n",
      "\u001b[1;31mUnicodeDecodeError\u001b[0m: 'utf-8' codec can't decode byte 0xb4 in position 2: invalid start byte"
     ]
    }
   ],
   "source": [
    "output = subprocess.check_output(['python.exe', 'test.py'])\n",
    "#python.exe로 test.py를 실행해라\n",
    "#check_output 메소드를 쓰면 실행 결과를 확인할 수 있다.\n",
    "\n",
    "\n",
    "print(output)    #output은 byte로 출력된다.  --> decode 해준다.\n",
    "print(type(output))\n",
    "print(output.decode())\n",
    "# print(output.decode('cp949'))   "
   ]
  },
  {
   "cell_type": "markdown",
   "metadata": {},
   "source": [
    "한글은 안된다."
   ]
  },
  {
   "cell_type": "code",
   "execution_count": 5,
   "metadata": {
    "ExecuteTime": {
     "end_time": "2020-02-11T05:27:08.338964Z",
     "start_time": "2020-02-11T05:27:08.283094Z"
    }
   },
   "outputs": [
    {
     "name": "stdout",
     "output_type": "stream",
     "text": [
      "b'a \\xb4\\xf5\\xc7\\xcf\\xb1\\xe2 b\\r\\n30\\r\\n'\n",
      "<class 'bytes'>\n",
      "a 더하기 b\r\n",
      "30\r\n",
      "\n"
     ]
    }
   ],
   "source": [
    "output = subprocess.check_output(['python.exe', 'test.py'])\n",
    "#python.exe로 test.py를 실행해라\n",
    "#check_output 메소드를 쓰면 실행 결과를 확인할 수 있다.\n",
    "\n",
    "\n",
    "print(output)    #output은 byte로 출력된다.  --> decode 해준다.\n",
    "print(type(output))\n",
    "print(output.decode('cp949'))  #기본적인 dos application은 cp949로"
   ]
  },
  {
   "cell_type": "markdown",
   "metadata": {},
   "source": [
    "인코딩을 cp949로 지정해주면 잘 읽힌다.\n",
    "\n",
    "### cp949\n",
    "> cp949는 윈도95에 마이크로소프트가 독자적으로 제정한 규격으로 11,172자의 한글을 표현 가능합니다. 인코딩은 확장된 euc-kr이라고 할 수 있으며 기존의 euc-kr에 추가적으로 지원하는 문자셋을 덧붙인 형태입니다.\n",
    "\n",
    "출처: https://meetup.toast.com/posts/35"
   ]
  },
  {
   "cell_type": "code",
   "execution_count": 1,
   "metadata": {
    "ExecuteTime": {
     "end_time": "2020-02-11T06:58:34.485799Z",
     "start_time": "2020-02-11T06:58:34.482837Z"
    }
   },
   "outputs": [],
   "source": [
    "import socket\n",
    "import os.path\n",
    "import subprocess"
   ]
  },
  {
   "cell_type": "code",
   "execution_count": 6,
   "metadata": {
    "ExecuteTime": {
     "end_time": "2020-02-11T07:07:00.265228Z",
     "start_time": "2020-02-11T07:06:58.371399Z"
    }
   },
   "outputs": [
    {
     "name": "stdout",
     "output_type": "stream",
     "text": [
      "listening\n",
      "accepting\n"
     ]
    }
   ],
   "source": [
    "img_ext = ['.jpg', '.png', '.jpeg', '.bmp', '.ico']\n",
    "text_ext = ['.html', '.txt']\n",
    "py_ext = ['.py']\n",
    "\n",
    "server_socket = socket.socket(socket.AF_INET, socket.SOCK_STREAM)\n",
    "\n",
    "server_socket.bind(('localhost', 80))\n",
    "server_socket.listen(0)\n",
    "print('listening')\n",
    "\n",
    "if True:\n",
    "    client_socket, addr = server_socket.accept()\n",
    "    print('accepting')\n",
    "    data = client_socket.recv(65535)\n",
    "    #print(data.decode())\n",
    "    \n",
    "    try:\n",
    "        headers = data.decode().split('\\r\\n')\n",
    "        filename = headers[0].split(' ')[1]\n",
    "\n",
    "        ext = os.path.splitext(filename)[1]\n",
    "\n",
    "        if ext in text_ext:   #텍스트일때\n",
    "            file = open(\".\" + filename, 'rt', encoding = 'utf-8')\n",
    "            html = file.read()\n",
    "            header = 'HTTP/1.0 200 OK\\r\\n'\n",
    "            client_socket.send(header.encode('utf-8'))\n",
    "            client_socket.send('Content-Type: text/html\\r\\n\\r\\n'.encode())  #html임을 명시\n",
    "            client_socket.send(html.encode('utf-8'))\n",
    "        \n",
    "        elif ext in py_ext:\n",
    "            header = 'HTTP/1.0 200 OK\\r\\n'\n",
    "            output = subprocess.check_output(['python.exe', \".\" + filename])\n",
    "            html = output.decode('cp949')\n",
    "            client_socket.send(header.encode('utf-8'))\n",
    "            client_socket.send('Content-Type: text/html\\r\\n\\r\\n'.encode()) #html임을 명시\n",
    "            client_socket.send(html.encode('utf-8'))  #한글이 포함되어있을 때는 'cp949'!!!!\n",
    "        \n",
    "        elif ext in img_ext:   #이미지일 때\n",
    "            header = 'HTTP/1.1 200 OK\\r\\n'\n",
    "            client_socket.send(header.encode())\n",
    "            client_socket.send('Content-Type: image/jpg\\r\\n'.encode())  #이미지임을 명시\n",
    "            client_socket.send('Accept-Ranges: bytes\\r\\n\\r\\n'.encode())  #이미지 크기(몰라도 됨)\n",
    "            file = open(\".\" + filename, 'rb')  #rb: 이미지니까 바이너리로 읽어온다.\n",
    "            client_socket.send(file.read())  #이미지는 이미 byte 형태라서 인코딩 필요x\n",
    "            file.close()\n",
    "\n",
    "        else:    #아무것도 아닐 때\n",
    "            header = 'HTTP/1.0 404 File Not Found\\r\\n\\r\\n'\n",
    "            client_socket.send(header.encode('utf-8'))\n",
    "    except Exception as e:\n",
    "        print(e)\n",
    "    client_socket.close()"
   ]
  },
  {
   "cell_type": "markdown",
   "metadata": {},
   "source": [
    "### 2-1-8. Multi thread로 실행하기\n",
    "\n",
    "threading 모듈을 사용한다.\n",
    "\n",
    "threading이란?\n",
    "\n",
    "> 하나의 프로세스 안에서 여러개의 루틴을 만들어서 병렬적으로 수행할 수 있도록 하는 것; 수행되는 개별 루틴을 thread라고 부른다.\n",
    "\n",
    "\n",
    "1. `threading.Thread()` 메소드로 thread 객체를 생성한다.\n",
    "    - target: 실행할 함수\n",
    "    - args: 함수 실행 시 필요한 파라미터를 **튜플** 형태로\n",
    "2. `thread객체.start()` 메소드로 생성한 쓰레드를 실행한다."
   ]
  },
  {
   "cell_type": "code",
   "execution_count": 1,
   "metadata": {
    "ExecuteTime": {
     "end_time": "2020-02-11T06:57:43.699170Z",
     "start_time": "2020-02-11T06:50:21.103871Z"
    }
   },
   "outputs": [
    {
     "name": "stdout",
     "output_type": "stream",
     "text": [
      "listening\n",
      "accepting\n",
      "accepting\n",
      "GET /test.py HTTP/1.1\n",
      "Host: 127.0.0.1\n",
      "Connection: keep-alive\n",
      "Cache-Control: max-age=0\n",
      "Upgrade-Insecure-Requests: 1\n",
      "User-Agent: Mozilla/5.0 (Windows NT 10.0; Win64; x64) AppleWebKit/537.36 (KHTML, like Gecko) Chrome/79.0.3945.130 Safari/537.36\n",
      "Accept: text/html,application/xhtml+xml,application/xml;q=0.9,image/webp,image/apng,*/*;q=0.8,application/signed-exchange;v=b3;q=0.9\n",
      "Sec-Fetch-Site: cross-site\n",
      "Sec-Fetch-Mode: navigate\n",
      "Accept-Encoding: gzip, deflate, br\n",
      "Accept-Language: ko-KR,ko;q=0.9,en-US;q=0.8,en;q=0.7\n",
      "Cookie: hblid=YQOJnYUBTBlUiRws3m39N0Gopkja3W6r; olfsk=olfsk778599512347137\n",
      "\n",
      "\n"
     ]
    },
    {
     "name": "stderr",
     "output_type": "stream",
     "text": [
      "Exception in thread Thread-7:\n",
      "Traceback (most recent call last):\n",
      "  File \"C:\\Users\\student\\Anaconda3\\lib\\threading.py\", line 926, in _bootstrap_inner\n",
      "    self.run()\n",
      "  File \"C:\\Users\\student\\Anaconda3\\lib\\threading.py\", line 870, in run\n",
      "    self._target(*self._args, **self._kwargs)\n",
      "  File \"<ipython-input-1-c01ebcebb2dd>\", line 7, in httpprocess\n",
      "    data = client_socket.recv(65535)\n",
      "socket.timeout: timed out\n",
      "\n"
     ]
    },
    {
     "name": "stdout",
     "output_type": "stream",
     "text": [
      "accepting\n",
      "accepting\n",
      "GET /test1.py HTTP/1.1\n",
      "Host: 127.0.0.1\n",
      "Connection: keep-alive\n",
      "Upgrade-Insecure-Requests: 1\n",
      "User-Agent: Mozilla/5.0 (Windows NT 10.0; Win64; x64) AppleWebKit/537.36 (KHTML, like Gecko) Chrome/79.0.3945.130 Safari/537.36\n",
      "Sec-Fetch-User: ?1\n",
      "Accept: text/html,application/xhtml+xml,application/xml;q=0.9,image/webp,image/apng,*/*;q=0.8,application/signed-exchange;v=b3;q=0.9\n",
      "Purpose: prefetch\n",
      "Sec-Fetch-Site: none\n",
      "Sec-Fetch-Mode: navigate\n",
      "Accept-Encoding: gzip, deflate, br\n",
      "Accept-Language: ko-KR,ko;q=0.9,en-US;q=0.8,en;q=0.7\n",
      "Cookie: hblid=YQOJnYUBTBlUiRws3m39N0Gopkja3W6r; olfsk=olfsk778599512347137\n",
      "\n",
      "\n",
      "accepting\n"
     ]
    },
    {
     "name": "stderr",
     "output_type": "stream",
     "text": [
      "Exception in thread Thread-9:\n",
      "Traceback (most recent call last):\n",
      "  File \"C:\\Users\\student\\Anaconda3\\lib\\threading.py\", line 926, in _bootstrap_inner\n",
      "    self.run()\n",
      "  File \"C:\\Users\\student\\Anaconda3\\lib\\threading.py\", line 870, in run\n",
      "    self._target(*self._args, **self._kwargs)\n",
      "  File \"<ipython-input-1-c01ebcebb2dd>\", line 7, in httpprocess\n",
      "    data = client_socket.recv(65535)\n",
      "socket.timeout: timed out\n",
      "\n",
      "Exception in thread Thread-10:\n",
      "Traceback (most recent call last):\n",
      "  File \"C:\\Users\\student\\Anaconda3\\lib\\threading.py\", line 926, in _bootstrap_inner\n",
      "    self.run()\n",
      "  File \"C:\\Users\\student\\Anaconda3\\lib\\threading.py\", line 870, in run\n",
      "    self._target(*self._args, **self._kwargs)\n",
      "  File \"<ipython-input-1-c01ebcebb2dd>\", line 7, in httpprocess\n",
      "    data = client_socket.recv(65535)\n",
      "socket.timeout: timed out\n",
      "\n"
     ]
    },
    {
     "ename": "KeyboardInterrupt",
     "evalue": "",
     "output_type": "error",
     "traceback": [
      "\u001b[1;31m---------------------------------------------------------------------------\u001b[0m",
      "\u001b[1;31mKeyboardInterrupt\u001b[0m                         Traceback (most recent call last)",
      "\u001b[1;32m<ipython-input-1-c01ebcebb2dd>\u001b[0m in \u001b[0;36m<module>\u001b[1;34m\u001b[0m\n\u001b[0;32m     45\u001b[0m \u001b[1;33m\u001b[0m\u001b[0m\n\u001b[0;32m     46\u001b[0m \u001b[1;32mwhile\u001b[0m  \u001b[1;32mTrue\u001b[0m \u001b[1;33m:\u001b[0m\u001b[1;33m\u001b[0m\u001b[1;33m\u001b[0m\u001b[0m\n\u001b[1;32m---> 47\u001b[1;33m     \u001b[0mclient_socket\u001b[0m\u001b[1;33m,\u001b[0m \u001b[0maddr\u001b[0m \u001b[1;33m=\u001b[0m \u001b[0mserver_socket\u001b[0m\u001b[1;33m.\u001b[0m\u001b[0maccept\u001b[0m\u001b[1;33m(\u001b[0m\u001b[1;33m)\u001b[0m\u001b[1;33m\u001b[0m\u001b[1;33m\u001b[0m\u001b[0m\n\u001b[0m\u001b[0;32m     48\u001b[0m     \u001b[0mclient_socket\u001b[0m\u001b[1;33m.\u001b[0m\u001b[0msettimeout\u001b[0m\u001b[1;33m(\u001b[0m\u001b[1;36m3\u001b[0m\u001b[1;33m)\u001b[0m    \u001b[1;31m#3초 이내로 입력이 없을 경우 타임아웃 예외를 발생시킨다.\u001b[0m\u001b[1;33m\u001b[0m\u001b[1;33m\u001b[0m\u001b[0m\n\u001b[0;32m     49\u001b[0m     \u001b[0mprint\u001b[0m\u001b[1;33m(\u001b[0m\u001b[1;34m\"accepting\"\u001b[0m\u001b[1;33m)\u001b[0m\u001b[1;33m\u001b[0m\u001b[1;33m\u001b[0m\u001b[0m\n",
      "\u001b[1;32m~\\Anaconda3\\lib\\socket.py\u001b[0m in \u001b[0;36maccept\u001b[1;34m(self)\u001b[0m\n\u001b[0;32m    210\u001b[0m         \u001b[0mFor\u001b[0m \u001b[0mIP\u001b[0m \u001b[0msockets\u001b[0m\u001b[1;33m,\u001b[0m \u001b[0mthe\u001b[0m \u001b[0maddress\u001b[0m \u001b[0minfo\u001b[0m \u001b[1;32mis\u001b[0m \u001b[0ma\u001b[0m \u001b[0mpair\u001b[0m \u001b[1;33m(\u001b[0m\u001b[0mhostaddr\u001b[0m\u001b[1;33m,\u001b[0m \u001b[0mport\u001b[0m\u001b[1;33m)\u001b[0m\u001b[1;33m.\u001b[0m\u001b[1;33m\u001b[0m\u001b[1;33m\u001b[0m\u001b[0m\n\u001b[0;32m    211\u001b[0m         \"\"\"\n\u001b[1;32m--> 212\u001b[1;33m         \u001b[0mfd\u001b[0m\u001b[1;33m,\u001b[0m \u001b[0maddr\u001b[0m \u001b[1;33m=\u001b[0m \u001b[0mself\u001b[0m\u001b[1;33m.\u001b[0m\u001b[0m_accept\u001b[0m\u001b[1;33m(\u001b[0m\u001b[1;33m)\u001b[0m\u001b[1;33m\u001b[0m\u001b[1;33m\u001b[0m\u001b[0m\n\u001b[0m\u001b[0;32m    213\u001b[0m         \u001b[0msock\u001b[0m \u001b[1;33m=\u001b[0m \u001b[0msocket\u001b[0m\u001b[1;33m(\u001b[0m\u001b[0mself\u001b[0m\u001b[1;33m.\u001b[0m\u001b[0mfamily\u001b[0m\u001b[1;33m,\u001b[0m \u001b[0mself\u001b[0m\u001b[1;33m.\u001b[0m\u001b[0mtype\u001b[0m\u001b[1;33m,\u001b[0m \u001b[0mself\u001b[0m\u001b[1;33m.\u001b[0m\u001b[0mproto\u001b[0m\u001b[1;33m,\u001b[0m \u001b[0mfileno\u001b[0m\u001b[1;33m=\u001b[0m\u001b[0mfd\u001b[0m\u001b[1;33m)\u001b[0m\u001b[1;33m\u001b[0m\u001b[1;33m\u001b[0m\u001b[0m\n\u001b[0;32m    214\u001b[0m         \u001b[1;31m# Issue #7995: if no default timeout is set and the listening\u001b[0m\u001b[1;33m\u001b[0m\u001b[1;33m\u001b[0m\u001b[1;33m\u001b[0m\u001b[0m\n",
      "\u001b[1;31mKeyboardInterrupt\u001b[0m: "
     ]
    }
   ],
   "source": [
    "import socket\n",
    "import threading\n",
    "from datetime import datetime\n",
    "import subprocess\n",
    "\n",
    "def httpprocess(client_socket) :\n",
    "    data = client_socket.recv(65535)   \n",
    "    data = data.decode()\n",
    "    print(data)\n",
    "    try :    \n",
    "        headers = data.split(\"\\r\\n\")\n",
    "        filename = headers[0].split(\" \")[1]\n",
    "        \n",
    "        if '.py' in filename:\n",
    "            header = 'HTTP/1.0 200 OK\\r\\n\\r\\n'   \n",
    "            html = subprocess.check_output(['python.exe', '.' + filename])\n",
    "            html = html.decode('cp949')\n",
    "            client_socket.send(header.encode(\"utf-8\"))    \n",
    "            client_socket.send(html.encode(\"utf-8\"))            \n",
    "        elif '.html' in filename:\n",
    "            file = open(\".\"+ filename, 'rt', encoding='utf-8')\n",
    "            html = file.read()    \n",
    "            header = 'HTTP/1.0 200 OK\\r\\n\\r\\n'        \n",
    "            client_socket.send(header.encode(\"utf-8\"))\n",
    "            client_socket.send(html.encode(\"utf-8\"))\n",
    "        elif '.jpg' in filename or '.ico' in filename:         \n",
    "            client_socket.send('HTTP/1.1 200 OK\\r\\n'.encode())\n",
    "            client_socket.send(\"Content-Type: image/jpg\\r\\n\".encode())\n",
    "            client_socket.send(\"Accept-Ranges: bytes\\r\\n\\r\\n\".encode())\n",
    "            file = open(\".\" + filename, \"rb\")            \n",
    "            client_socket.send(file.read())  \n",
    "            file.close()               \n",
    "        else :\n",
    "            header = 'HTTP/1.0 404 File Not Found\\r\\n\\r\\n'        \n",
    "            client_socket.send(header.encode(\"utf-8\"))\n",
    "    except Exception as e :\n",
    "        print(e)         \n",
    "    client_socket.close()\n",
    "\n",
    "\n",
    "server_socket = socket.socket(socket.AF_INET, socket.SOCK_STREAM)\n",
    "server_socket.bind(('localhost', 80))\n",
    "server_socket.listen(0)\n",
    "print(\"listening\")\n",
    "\n",
    "while  True :\n",
    "    client_socket, addr = server_socket.accept()\n",
    "    client_socket.settimeout(3)    #3초 이내로 입력이 없을 경우 타임아웃 예외를 발생시킨다.\n",
    "    print(\"accepting\")\n",
    "    t = threading.Thread(target=httpprocess, args=(client_socket,))\n",
    "    t.start()"
   ]
  },
  {
   "cell_type": "markdown",
   "metadata": {},
   "source": [
    "multi thread로 작업이 이루어졌음을 확인할 수 있다."
   ]
  }
 ],
 "metadata": {
  "kernelspec": {
   "display_name": "Python 3",
   "language": "python",
   "name": "python3"
  },
  "language_info": {
   "codemirror_mode": {
    "name": "ipython",
    "version": 3
   },
   "file_extension": ".py",
   "mimetype": "text/x-python",
   "name": "python",
   "nbconvert_exporter": "python",
   "pygments_lexer": "ipython3",
   "version": "3.7.4"
  },
  "varInspector": {
   "cols": {
    "lenName": 16,
    "lenType": 16,
    "lenVar": 40
   },
   "kernels_config": {
    "python": {
     "delete_cmd_postfix": "",
     "delete_cmd_prefix": "del ",
     "library": "var_list.py",
     "varRefreshCmd": "print(var_dic_list())"
    },
    "r": {
     "delete_cmd_postfix": ") ",
     "delete_cmd_prefix": "rm(",
     "library": "var_list.r",
     "varRefreshCmd": "cat(var_dic_list()) "
    }
   },
   "types_to_exclude": [
    "module",
    "function",
    "builtin_function_or_method",
    "instance",
    "_Feature"
   ],
   "window_display": false
  }
 },
 "nbformat": 4,
 "nbformat_minor": 2
}

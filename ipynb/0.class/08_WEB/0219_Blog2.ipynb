{
 "cells": [
  {
   "cell_type": "markdown",
   "metadata": {},
   "source": [
    "# <오늘 할 것: blog 앱 만들기2>\n",
    "\n",
    "# 1. 글 작성/수정 합치기\n",
    "- 1.1 `PostEditView`와 `PostView` 합치기\n",
    "- 1.2 Post와 Form 객체 합치기  \n",
    "\n",
    "# 2. 글 조회를 1에 합치기\n",
    "\n",
    "# 3. 게시판 앱 만들기\n",
    "- 3.0 틀짜기\n",
    "- 3.1 조회수 + 이미지\n",
    "- 3.3 N개 게시판\n",
    "- 3.4 paging\n",
    "- 3.5 동적 loading"
   ]
  },
  {
   "cell_type": "markdown",
   "metadata": {},
   "source": [
    "# 1. 글 작성/수정 합치기\n",
    "\n",
    "## 1.1 `PostEditView`와 `PostView` 합치기\n",
    "\n",
    "`blog/views.py`의 `PostEditView`에 `PostView`를 합칠거다.\n",
    "\n",
    "- `PostEditView`는 글을 수정\n",
    "- `PostView`는 새로운 글을 작성\n",
    "\n",
    "하는 클래스였고, 원래는 다음과 같이 작성했었다."
   ]
  },
  {
   "cell_type": "code",
   "execution_count": null,
   "metadata": {},
   "outputs": [],
   "source": [
    "class PostEditView(View):\n",
    "    def get(self, request, pk):    #글을 수정하는 것이기 때문에 글을 특정할 pk를 전달받아야한다.\n",
    "        post = Post.objects.get(pk=pk)\n",
    "        form = PostForm(initial={'title':post.title, 'text': post.text})\n",
    "        return render(request, 'blog/edit.html', {'form': form, 'pk': pk})\n",
    "\n",
    "    def post(self, request, pk):\n",
    "        form = PostForm(request.POST)\n",
    "        if form.is_valid():\n",
    "            post = get_object_or_404(Post, pk=pk)\n",
    "            post.title = form['title'].value()\n",
    "            post.text = form['text'].value()\n",
    "            post.publish()\n",
    "            return redirect(\"list\")\n",
    "        return render(request, \"blog/edit.html\", {\"form\": form, 'pk': pk})"
   ]
  },
  {
   "cell_type": "code",
   "execution_count": null,
   "metadata": {},
   "outputs": [],
   "source": [
    "class PostView(View):\n",
    "    def get(self, request):\n",
    "        return render(request, 'blog/edit.html')\n",
    "\n",
    "    def post(self, request):\n",
    "        title = request.POST.get('title')\n",
    "        text = request.POST.get('text')\n",
    "        username = request.session['username']\n",
    "        user = User.objects.get(username=username)\n",
    "        Post.objects.create(title=title, text=text, author=user)\n",
    "        return redirect('list')"
   ]
  },
  {
   "cell_type": "markdown",
   "metadata": {},
   "source": [
    "두 개 클래스를 if문을 활용해서 합칠거다. 바꾸면서 url 시스템을 조금 바꿀 건데,\n",
    "- pk가 0일 때; 즉 `blog/0/edit/`으로 요청이 들어올 때\n",
    "    - 신규 글 작성\n",
    "- pk가 0이 아닐 때; 즉 `blog/1/edit` 등으로 요청이 들어올 때\n",
    "    - 해당 pk를 id로 갖는 글 수정\n",
    "\n",
    "으로 보낼 거다."
   ]
  },
  {
   "cell_type": "code",
   "execution_count": null,
   "metadata": {},
   "outputs": [],
   "source": [
    "class PostEditView(View):\n",
    "    def get(self, request, pk):    #글을 수정하는 것이기 때문에 글을 특정할 pk를 전달받아야한다.\n",
    "        if pk == 0:            #pk가 0일 경우\n",
    "            form = PostForm()  #빈 폼 객체를 만든다.\n",
    "        else:\n",
    "            post = Post.objects.get(pk=pk)\n",
    "            form = PostForm(initial={'title':post.title, 'text': post.text})\n",
    "        return render(request, 'blog/edit.html', {'form': form})\n",
    "\n",
    "    def post(self, request, pk):\n",
    "        form = PostForm(request.POST)\n",
    "        if form.is_valid():\n",
    "            if pk == 0:    #pk가 0일 경우 유저정보 가져와서 새로 생성\n",
    "                username = request.session[\"username\"]\n",
    "                user = User.objects.get(username=username)\n",
    "                Post.objects.create(title=form['title'].value(), text=form['text'].value(), author=user)\n",
    "            else :        #pk가 0이 아닐 경우 업데이트 (유저정보는 바뀌지 않으니까 그냥 둠)\n",
    "                post = get_object_or_404(Post, pk=pk)\n",
    "                post.title = form['title'].value()\n",
    "                post.text = form['text'].value()\n",
    "                post.publish()\n",
    "            return redirect(\"list\")\n",
    "        return render(request, \"blog/edit.html\", {\"form\": form})"
   ]
  },
  {
   "cell_type": "markdown",
   "metadata": {},
   "source": [
    "`blog/edit.html`\n",
    "\n",
    "`action` 인자를 없앤다 --> 자기 자신을 호출한다.\n",
    "\n",
    "- 즉 `blog/0/edit`으로 들어왔으면 그대로 `blog/0/edit`을 보여준다.\n",
    "- 그렇기 때문에 위의 `blog/views.py`에서 `render` 함수에 더 이상 pk를 context 정보에 포함하지 않아도 된다. 어차피 자기자신을 호출할 거기 때문에 템플릿을 띄울 때 pk 정보가 필요하지 않다."
   ]
  },
  {
   "cell_type": "code",
   "execution_count": null,
   "metadata": {},
   "outputs": [],
   "source": [
    "<form method=post>\n",
    "\n",
    "   {% csrf_token %}\n",
    "   {{ form.as_p }}\n",
    "\n",
    "   <input type=\"submit\" value=\"작성\" >\n",
    "    \n",
    "</form>"
   ]
  },
  {
   "cell_type": "markdown",
   "metadata": {},
   "source": [
    "잘 합쳐졌다.\n",
    "\n",
    "그런데 보완할 수 있다.\n",
    "\n",
    "## 1.2 Post와 Form 객체 합치기\n",
    "\n",
    " `Post`객체를 통해 `blog/models.py`의 모델 데이터를 가져와서 `Form`에 저장하여 띄우는 것이 논리적으로는 유기적으로 연관되지만, 물리적으로는 서로 연관성이 없기 때문에, 둘을 매번 코드로 연결시켜주어야했다.\n",
    "\n",
    "예를 들면 이 부분이 그렇다."
   ]
  },
  {
   "cell_type": "code",
   "execution_count": null,
   "metadata": {},
   "outputs": [],
   "source": [
    "post = Post.objects.get(pk=pk)\n",
    "form = PostForm(initial={'title':post.title, 'text': post.text})"
   ]
  },
  {
   "cell_type": "markdown",
   "metadata": {},
   "source": [
    "`Post`를 가져온 뒤에 `.title`, `.text`를 통해서 각각의 속성에 접근하여 별도로 저장해주는 방식으로 `form` 객체에 저장하는 방식이다.\n",
    "\n",
    "이게 코드 길이를 많이 잡아먹고 또 귀찮기도 하는데, 해결할 방법이 있다.\n",
    "\n",
    "### 바로 `PostForm` 클래스를 다시 정의해주는 것이다."
   ]
  },
  {
   "cell_type": "code",
   "execution_count": null,
   "metadata": {},
   "outputs": [],
   "source": [
    "from django import forms\n",
    "from blog.models import Post"
   ]
  },
  {
   "cell_type": "code",
   "execution_count": null,
   "metadata": {},
   "outputs": [],
   "source": [
    "class PostForm(forms.ModelForm):\n",
    "    class Meta:\n",
    "        model = Post\n",
    "        fields = ['title', 'text']   #모델 데이터에서 가져올 필드를 지정한다."
   ]
  },
  {
   "cell_type": "markdown",
   "metadata": {},
   "source": [
    "django의 모델과 폼을 합쳐주는 `forms.ModelForm` 객체를 상속받아서 `PostForm` 클래스를 정의했다.\n",
    "\n",
    "이 때 `Meta` 클래스의 \n",
    "- `model` 에 `blog/models.py`에 정의한 `Post` 객체를 \n",
    "- `fields` 에는 `Post` 객체에서 활용할 필드인 `title`과 `text`를 \n",
    "\n",
    "지정해준다.\n",
    "\n",
    "변경사항에 알맞게 `blog/views.py`의 `PostEditView` 클래스도 다음과 같이 수정해준다."
   ]
  },
  {
   "cell_type": "code",
   "execution_count": null,
   "metadata": {},
   "outputs": [],
   "source": [
    "class PostEditView(View):\n",
    "    def get(self, request, pk):   \n",
    "        if pk == 0: \n",
    "            form = PostForm() \n",
    "        else:\n",
    "            post = Post.objects.get(pk=pk)\n",
    "            form = PostForm(instance=post)\n",
    "        return render(request, 'blog/edit.html', {'form': form})\n",
    "\n",
    "    def post(self, request, pk):\n",
    "        username = request.session['username']\n",
    "        user = User.objects.get(username=username)\n",
    "        if pk == 0:\n",
    "            form = forms.PostForm(request.POST)\n",
    "        else:\n",
    "            post = get_object_or_404(Post, pk=pk)\n",
    "            form = PostForm(request.POST, instance=post)\n",
    "\n",
    "        if form.is_valid():\n",
    "            post = form.save(commit=False)\n",
    "            if pk == 0:\n",
    "                post.author = user\n",
    "                post.save()\n",
    "            else:\n",
    "                post.publish()\n",
    "            return redirect('list')\n",
    "        return render(request, \"blog/edit.html\", {'form': form})"
   ]
  },
  {
   "cell_type": "markdown",
   "metadata": {},
   "source": [
    "가장 두드러지는 변화는 "
   ]
  },
  {
   "cell_type": "code",
   "execution_count": null,
   "metadata": {},
   "outputs": [],
   "source": []
  },
  {
   "cell_type": "markdown",
   "metadata": {},
   "source": [
    "# 2. 글 조회를 1에 합치기\n",
    "\n",
    "글을 조회하는 `list`와 `detail`도 `PostEditView`에 합칠 수 있다.\n",
    "\n",
    "글 id(pk)를 입력받아서 특정 작업(조회, 작성, 수정)을 수행한다는 동작 방식이 동일하기 때문이다.\n",
    "\n",
    "마찬가지로 url 동작 방식을 다음과 같이 바꿀 거다.\n",
    "\n",
    "- `blog/0/list`: 글 목록 출력\n",
    "- `blog/5/detail`: id 5인 글 조회\n",
    "- `blog/0/add`: 신규 글 작성\n",
    "- `blog/5/edit`: id 5인 글 수정\n",
    "\n",
    "먼저 위 내용을 반영해서 `blog/urls.py`를 수정한다."
   ]
  },
  {
   "cell_type": "code",
   "execution_count": null,
   "metadata": {},
   "outputs": [],
   "source": [
    "from django.urls import path\n",
    "from . import views\n",
    "\n",
    "urlpatterns = [\n",
    "    ...\n",
    "    path('<int:pk>/<mode>/', views.PostEditView.as_view(), name='edit'), #.as_view(): class를 view로 호출하기\n",
    "    ...\n",
    "]"
   ]
  },
  {
   "cell_type": "markdown",
   "metadata": {},
   "source": [
    "글 id를 `<int:pk>`에, 수행할 작업을 `<mode>`에 입력받아서 일단은 전부 다 `PostEditView`로 연결해줄 거다.\n",
    "\n",
    "이제 이걸 `blog/views.py`의 `PostEditView`에서 받아서 다음과 같이 처리할 거다.\n",
    "\n"
   ]
  },
  {
   "cell_type": "markdown",
   "metadata": {},
   "source": [
    "# 3. 게시판 앱 만들기\n",
    "\n",
    "## 3.0 틀짜기\n",
    "\n",
    "사실상 blog 앱에 부가 기능을 추가한 앱이다. 그래서 일단 blog 앱에서 대부분의 파일을 복사해온다.\n",
    "### 앱 생성\n",
    "$ `python manage.py startapp myboard` 를 통해서 새로운 앱을 생성한 뒤에\n",
    "\n",
    "- `blog` 폴더에서\n",
    "    - `admin.py`\n",
    "    - `forms.py`\n",
    "    - `models.py`\n",
    "    - `urls.py`\n",
    "    - `views.py`  를,\n",
    "\n",
    "- `templates` 폴더에서 모든 템플릿을 복사해서 myblog에 붙여넣어(override)준다.\n",
    "\n",
    "### 초기 세팅\n",
    "루트(`mysite`)의 `mysite/settings.py`와 `mysite/urls.py`에 새로 만든 앱을 등록해준다."
   ]
  },
  {
   "cell_type": "code",
   "execution_count": null,
   "metadata": {},
   "outputs": [],
   "source": [
    "#settings.py\n",
    "INSTALLED_APPS = [\n",
    "    ...\n",
    "    'myboard',\n",
    "]"
   ]
  },
  {
   "cell_type": "code",
   "execution_count": null,
   "metadata": {},
   "outputs": [],
   "source": [
    "#urls.py\n",
    "urlpatterns = [\n",
    "    ...\n",
    "    path('myboard/', include('myboard.urls')),\n",
    "]\n"
   ]
  },
  {
   "cell_type": "markdown",
   "metadata": {},
   "source": [
    "이제 본격적으로 게시판 앱을 만든다.\n",
    "\n",
    "다시 짚고 넘어가자면, django에서 앱을 개발하는 순서는\n",
    "1. Model 만들기\n",
    "2. Form 만들기\n",
    "3. View 만들기\n",
    "\n",
    "순으로 이루어진다."
   ]
  },
  {
   "cell_type": "markdown",
   "metadata": {},
   "source": [
    "`myboard/models.py`에서 `Board`라는 이름의 모델 객체를 생성한다."
   ]
  },
  {
   "cell_type": "code",
   "execution_count": null,
   "metadata": {},
   "outputs": [],
   "source": [
    "from django.db import models\n",
    "from django.utils import timezone\n",
    "\n",
    "\n",
    "# Create your models here.\n",
    "\n",
    "class Board(models.Model):\n",
    "    author = models.ForeignKey('auth.User', on_delete=models.CASCADE)   #auth.User를 지울 때 해당 User가 작성한 Post도 지우도록 설정\n",
    "    title = models.CharField(max_length=200)\n",
    "    text = models.TextField()  # 글자수에 제한 없는 텍스트\n",
    "    created_date = models.DateTimeField(\n",
    "        default=timezone.now)  # 날짜와 시간\n",
    "    cnt = models.IntegerField(default=0)\n",
    "    image = models.CharField(max_length=200, null=True, blank=True)\n",
    "    category = models.CharField(max_length=10, default='common')\n",
    "\n",
    "    def __str__(self):\n",
    "        return self.title"
   ]
  },
  {
   "cell_type": "markdown",
   "metadata": {},
   "source": [
    "- 조회수를 저장할 `cnt`와\n",
    "- 이미지를 저장할 `image`와\n",
    "- 카테고리를 저장할 `category`를 추가적으로 정의해주었다. \n",
    "\n",
    "그리고 `published_date`는 삭제했다.\n",
    "\n",
    "`myboard/admin.py`에 위에서 생성한 `Board` 테이블을 등록해준다."
   ]
  },
  {
   "cell_type": "code",
   "execution_count": null,
   "metadata": {},
   "outputs": [],
   "source": [
    "from django.contrib import admin\n",
    "from . import models\n",
    "\n",
    "# Register your models here.\n",
    "admin.site.register(models.Board)"
   ]
  },
  {
   "cell_type": "markdown",
   "metadata": {},
   "source": [
    "이 단계에서 `migrate`를 해주어야 한다!\n",
    "\n",
    "다시 짚고 넘어가자면\n",
    "- $`python manage.py makemigrations`\n",
    "- $`python manage.py migrate`\n",
    "\n",
    "로 `migrate`를 수행할 수 있다.\n",
    "\n",
    "이제 1. Model 만들기까지는 끝났고, 2. Form을 만들면 된다.\n",
    "\n",
    "`myblog/forms.py`에서 복사해온 `myboard/forms.py`를 수정한다."
   ]
  },
  {
   "cell_type": "code",
   "execution_count": null,
   "metadata": {},
   "outputs": [],
   "source": [
    "from django import forms\n",
    "from . import models\n",
    "from django.forms import ValidationError\n",
    "\n",
    "def validator(value):\n",
    "    if len(value) < 5: raise ValidationError('길이가 너무 짧아요')\n",
    "\n",
    "class BoardForm(forms.ModelForm):\n",
    "    class Meta:\n",
    "        model = models.Board\n",
    "        fields = ['title', 'text', 'category'] \n",
    "        \n",
    "    def __init__(self, *args, **kwargs):\n",
    "        super(BoardForm, self).__init__(*args, **kwargs)\n",
    "        self.fields['title'].validators = [validator]"
   ]
  },
  {
   "cell_type": "markdown",
   "metadata": {},
   "source": [
    "정말 단순화하면 `Form`이라고 되어 있던 걸 `Board`로 바꿔주면된다.\n",
    "\n",
    "그리고 `myboard/forms.py`를 만드는 이유를 다시 한번 간단히 짚고 넘어가면, `myboard/models.py`에 생성한 `Board` 모델(테이블)에서 `myboard/views.py`에서 조작할 필드만 선택적으로 가져와서 다시 객체화하기 위해서다.\n",
    "\n",
    "이제 2. Form 만들기까지 완료했고, 가장 코딩이 많은 3. View 만들기만 하면 된다.\n",
    "\n",
    "`myboard/views.py`를 수정한다."
   ]
  },
  {
   "cell_type": "code",
   "execution_count": null,
   "metadata": {},
   "outputs": [],
   "source": [
    "from django.shortcuts import render, get_object_or_404, redirect\n",
    "from django.http import HttpResponse\n",
    "from django.views.generic import View\n",
    "from django.contrib.auth.models import User\n",
    "from . import forms\n",
    "from . import models\n",
    "\n",
    "# Create your views here.\n",
    "class BoardView(View):\n",
    "    def get(self, request, pk, mode):\n",
    "        if mode == 'add':\n",
    "            form = forms.BoardForm()\n",
    "        elif mode == 'list':\n",
    "            username = request.session['username']\n",
    "            user = User.objects.get(username=username)\n",
    "            data = models.Board.objects.all().filter(author=user)\n",
    "            context = {\"data\": data, \"username\": username}\n",
    "            return render(request, \"myboard/list.html\", context)\n",
    "        elif mode == 'detail':\n",
    "            p = get_object_or_404(models.Board, pk=pk)\n",
    "            return render(request, 'myboard/detail.html', {'d': p})\n",
    "        elif mode == 'edit':\n",
    "            post = get_object_or_404(models.Board, pk=pk)\n",
    "            form = forms.BoardForm(instance=post)\n",
    "        else:\n",
    "            return HttpResponse(\"error page\")\n",
    "        return render(request, 'myboard/edit.html', {'form': form})\n",
    "\n",
    "    def post(self, request, pk, mode):\n",
    "        username = request.session['username']\n",
    "        user = User.objects.get(username=username)\n",
    "        if pk == 0:\n",
    "            form = forms.BoardForm(request.POST)\n",
    "        else:\n",
    "            post = get_object_or_404(models.Board, pk=pk)\n",
    "            form = forms.BoardForm(request.POST, instance=post)\n",
    "\n",
    "        if form.is_valid():\n",
    "            post = form.save(commit=False)\n",
    "            if pk == 0:\n",
    "                post.author = user\n",
    "            else:\n",
    "                post.cnt += 1\n",
    "            post.save()\n",
    "            return redirect('myboard', 0, 'list')\n",
    "        return render(request, \"myboard/edit.html\", {'form': form})"
   ]
  },
  {
   "cell_type": "markdown",
   "metadata": {},
   "source": [
    "- `Form` --> `Board`\n",
    "- `Post` --> `Board`\n",
    "- `blog` --> `myboard`\n",
    "\n",
    "로 일단 기계적으로 다 바꿔준다.\n",
    "\n",
    "템플릿들도 마찬가지의 작업을 해주고, 서버를 실행해보면서 에러를 핸들링해나가면 된다."
   ]
  },
  {
   "cell_type": "markdown",
   "metadata": {},
   "source": [
    "이제 본격적으로 부가적인 기능들을 만들어보겠다.\n",
    "\n",
    "## 3.1 조회수 + 이미지\n",
    "\n",
    "### 조회수 띄우기\n",
    "\n",
    "쉽다. 그냥 `myboard/views.py`의 `BoardView` 클래스에서 `detail`이 호출될 때마다 `cnt` 값이 하나씩 늘어나도록 처리해주면 된다."
   ]
  },
  {
   "cell_type": "code",
   "execution_count": null,
   "metadata": {},
   "outputs": [],
   "source": [
    "class BoardView(View):\n",
    "    def get(self, request, pk, mode):\n",
    "        if mode == 'add':\n",
    "            form = forms.BoardForm()\n",
    "        elif mode == 'list':\n",
    "            username = request.session['username']\n",
    "            user = User.objects.get(username=username)\n",
    "            data = models.Board.objects.all().filter(author=user)\n",
    "            context = {\"data\": data, \"username\": username}\n",
    "            return render(request, \"myboard/list.html\", context)\n",
    "        elif mode == 'detail':\n",
    "            p = get_object_or_404(models.Board, pk=pk)\n",
    "            p.cnt += 1   #바로 여기!\n",
    "            p.save()\n",
    "            return render(request, 'myboard/detail.html', {'d': p})\n",
    "        ..."
   ]
  },
  {
   "cell_type": "markdown",
   "metadata": {},
   "source": [
    "그리고 여러 템플릿에서 `.cnt`로 해당 글의 조회수에 접근해서 조회수를 띄울 수 있다."
   ]
  },
  {
   "cell_type": "markdown",
   "metadata": {},
   "source": [
    "### 이미지 업로드\n",
    "이미지 업로드는 예전에 했던 코드를 참조하면 된다.\n",
    "\n",
    "먼저 템플릿을 만든다.\n",
    "\n",
    "이 때 중요한 건, 이미지를 업로드하는 코드를 기존 `edit.html`에 포함시키는 게 아니라 별도의 템플릿으로 만들어서 `edit.html`에 끼워넣어 주어야 한다.\n",
    "\n",
    "그 이유는\n",
    "- 코드를 분리해서 관리해서 오는 이점인 업데이트에 강력하다는 장점을 갖는다.\n",
    "- 글 수정 시 이미지를 다시 업로드하지 않아도 된다.\n",
    "\n",
    "새 글 작성/기존 글 수정이 이루어지는 `edit.html`을 extend하는 `image.html`을 다음과 같이 작성한다."
   ]
  },
  {
   "cell_type": "code",
   "execution_count": null,
   "metadata": {},
   "outputs": [],
   "source": [
    "{% extends 'myboard/edit.html' %}\n",
    "\n",
    "{% block content %}\n",
    "<input type=\"file\" name=\"file1\"/>\n",
    "{% endblock %}"
   ]
  },
  {
   "cell_type": "markdown",
   "metadata": {
    "ExecuteTime": {
     "end_time": "2020-02-19T08:27:18.867106Z",
     "start_time": "2020-02-19T08:27:18.863116Z"
    }
   },
   "source": [
    "세상 간단하다.\n",
    "\n",
    "그리고 기존의 `edit.html`에 이미지 업로드란을 넣고 싶은 곳에 \n",
    "- `{% block content %}`\n",
    "- `{% endblock %}`\n",
    "\n",
    "을 넣어준다.\n",
    "\n",
    "이제 템플릿은 끝났고, `myboard/views.py`를 수정할 차례다. view는 좀 더 복잡하다.\n",
    "\n",
    "여기서 중요한 건\n",
    "- 실제 파일은 base 디렉토리의 `static` 폴더에 저장하고\n",
    "- **데이터베이스에는 파일 경로**를 저장한다는 것이다.\n",
    "\n",
    "`BoardView` 클래스의 `post` 함수를 다음과 같이 수정하면 된다."
   ]
  },
  {
   "cell_type": "code",
   "execution_count": null,
   "metadata": {},
   "outputs": [],
   "source": [
    "    def post(self, request, category, pk, mode):\n",
    "        username = request.session['username']\n",
    "        user = User.objects.get(username=username)\n",
    "        if pk == 0:\n",
    "            form = forms.BoardForm(request.POST)\n",
    "        else:\n",
    "            post = get_object_or_404(models.Board, pk=pk)\n",
    "            form = forms.BoardForm(request.POST, instance=post)\n",
    "\n",
    "        if form.is_valid():\n",
    "            post = form.save(commit=False)\n",
    "            if pk == 0:\n",
    "                post.author = user\n",
    "                post.category=category\n",
    "                file = request.FILES.get('file1')    #여기부터\n",
    "                filename = file._name\n",
    "                fp = open(settings.BASE_DIR + \"/static/\" + filename, \"wb\")\n",
    "                for chunk in file.chunks():\n",
    "                    fp.write(chunk)\n",
    "                fp.close()\n",
    "                post.image = filename                #여기까지다\n",
    "            post.save()\n",
    "            return redirect('myboard', category, 0, 'list')\n",
    "        return render(request, \"myboard/upload.html\", {'form': form})"
   ]
  },
  {
   "cell_type": "markdown",
   "metadata": {},
   "source": [
    "## 3.3 N개 게시판\n",
    "\n",
    "ORM이 정말 간편하다는 것을 실감할 수 있는 부분이다.\n",
    "\n",
    "1. `myboard/urls.py`에 `<category>`를 추가하고\n",
    "2. `myboard/views.py`의 `BoardView`의 함수들에 `category` 몇 개만 추가하고\n",
    "3. 여기에 맞춰서 html 템플릿 파일들을 약간 수정해주면 끝이다."
   ]
  },
  {
   "cell_type": "code",
   "execution_count": null,
   "metadata": {},
   "outputs": [],
   "source": [
    "#urls.py\n",
    "from django.urls import path\n",
    "from . import views\n",
    "from django.shortcuts import redirect\n",
    "\n",
    "urlpatterns = [\n",
    "    path('<category>/<int:pk>/<mode>/', views.BoardView.as_view(), name='myboard'),\n",
    "    path('', lambda request: redirect('myboard', 'common', 0, 'list')),\n",
    "    #이건 'myboard/'로 들어왔을 때 'myboard/common/0/list'로 리다이렉팅 시켜주기 위한 코드다.\n",
    "]"
   ]
  },
  {
   "cell_type": "code",
   "execution_count": null,
   "metadata": {},
   "outputs": [],
   "source": [
    "#views.py\n",
    "class BoardView(View):\n",
    "    def get(self, request, category, pk, mode):  #여기에 category 추가\n",
    "        if mode == 'add':\n",
    "            form = forms.BoardForm()\n",
    "        elif mode == 'list':\n",
    "            username = request.session['username']\n",
    "            user = User.objects.get(username=username)\n",
    "            data = models.Board.objects.all().filter(category=category)\n",
    "            context = {\"data\": data, \"category\": category, \"username\": username}\n",
    "            return render(request, \"myboard/list.html\", context)\n",
    "        elif mode == 'detail':\n",
    "            p = get_object_or_404(models.Board, pk=pk)\n",
    "            p.cnt += 1\n",
    "            p.save()\n",
    "            return render(request, 'myboard/detail.html', {'d': p})\n",
    "        elif mode == 'edit':\n",
    "            post = get_object_or_404(models.Board, pk=pk)\n",
    "            form = forms.BoardForm(instance=post)\n",
    "        else:\n",
    "            return HttpResponse(\"error page\")\n",
    "        return render(request, 'myboard/edit.html', {'form': form})\n",
    "\n",
    "    def post(self, request, category, pk, mode):   #여기에도 category 추가\n",
    "        username = request.session['username']\n",
    "        user = User.objects.get(username=username)\n",
    "        if pk == 0:\n",
    "            form = forms.BoardForm(request.POST)\n",
    "        else:\n",
    "            post = get_object_or_404(models.Board, pk=pk)\n",
    "            form = forms.BoardForm(request.POST, instance=post)\n",
    "\n",
    "        if form.is_valid():\n",
    "            post = form.save(commit=False)\n",
    "            if pk == 0:\n",
    "                post.author = user\n",
    "                post.category=category   #주의!!\n",
    "            post.save()\n",
    "            return redirect('myboard', category, 0, 'list')\n",
    "        return render(request, \"myboard/edit.html\", {'form': form})\n"
   ]
  },
  {
   "cell_type": "markdown",
   "metadata": {},
   "source": [
    "살짝만 주의할 점은, `blog/models.py`를 정의할 때 `category` 필드의 default로 `common`을 지정해두었기 때문에, 새 글을 작성해서 저장하기 전에 `category`를 해당 글이 속한 카테고리로 재지정해줘야 한다.\n",
    "\n",
    "이것만 빼면 이렇게 간편하게 N개의 게시판을 구현할 수 있다."
   ]
  },
  {
   "cell_type": "markdown",
   "metadata": {},
   "source": [
    "## 3.4 paging"
   ]
  },
  {
   "cell_type": "markdown",
   "metadata": {},
   "source": [
    "## 3.5 동적 loading"
   ]
  },
  {
   "cell_type": "code",
   "execution_count": null,
   "metadata": {},
   "outputs": [],
   "source": []
  }
 ],
 "metadata": {
  "kernelspec": {
   "display_name": "Python 3",
   "language": "python",
   "name": "python3"
  },
  "language_info": {
   "codemirror_mode": {
    "name": "ipython",
    "version": 3
   },
   "file_extension": ".py",
   "mimetype": "text/x-python",
   "name": "python",
   "nbconvert_exporter": "python",
   "pygments_lexer": "ipython3",
   "version": "3.7.4"
  },
  "varInspector": {
   "cols": {
    "lenName": 16,
    "lenType": 16,
    "lenVar": 40
   },
   "kernels_config": {
    "python": {
     "delete_cmd_postfix": "",
     "delete_cmd_prefix": "del ",
     "library": "var_list.py",
     "varRefreshCmd": "print(var_dic_list())"
    },
    "r": {
     "delete_cmd_postfix": ") ",
     "delete_cmd_prefix": "rm(",
     "library": "var_list.r",
     "varRefreshCmd": "cat(var_dic_list()) "
    }
   },
   "types_to_exclude": [
    "module",
    "function",
    "builtin_function_or_method",
    "instance",
    "_Feature"
   ],
   "window_display": false
  }
 },
 "nbformat": 4,
 "nbformat_minor": 2
}

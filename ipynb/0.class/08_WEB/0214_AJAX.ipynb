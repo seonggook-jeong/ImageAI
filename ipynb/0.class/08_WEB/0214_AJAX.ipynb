{
 "cells": [
  {
   "cell_type": "markdown",
   "metadata": {},
   "source": [
    "# <오늘 할 것: AJAX와 jQuery>\n",
    "\n",
    "# 1. AJAX 기초잡기\n",
    "- 1.1 Native JS\n",
    "- 1.2 jQuery\n",
    "\n",
    "# 2. 계산기 예제\n",
    "\n",
    "# 3. 로그인 예제\n",
    "\n",
    "# 4. 파일 업로드 예제\n",
    "\n",
    "# 5. 간단한 파이썬 에디터 구현하기"
   ]
  },
  {
   "cell_type": "markdown",
   "metadata": {},
   "source": [
    "# 1. AJAX\n",
    "\n",
    "> **A**synchronous **J**avaScript **a**nd **X**ML\n",
    "\n",
    "<img src=ajax.jpg>\n",
    "\n",
    "서버와 데이터를 교환하는 방식 중 하나이다.\n",
    "\n",
    "- 비동기 방식\n",
    "\n",
    "- 페이지 call이 아니라 함수 call이다.\n",
    "    - 서버에 있는 함수를 호출하여 클라이언트가 수행할 수 있음\n",
    "    - 기존의 서버사이드 렌더링 vs. 클라이언트가 렌더링을 담당 --> 사용자에게 페이지가 리로드된다는 느낌을 주지 않음\n",
    "    - 서버의 가용성이 높아짐\n",
    "\n",
    "- html이 아닌 data를 리턴한다.\n",
    "    - 주로 json 형태\n",
    "\n",
    "\n",
    "## 1.1 Native JS\n",
    "\n",
    "## 1.2 jQuery\n",
    "\n",
    "사용하기 위해서는, `html` 파일의 상단에 다음 두 줄을 적어준다."
   ]
  },
  {
   "cell_type": "code",
   "execution_count": null,
   "metadata": {},
   "outputs": [],
   "source": [
    "<script src=\"http://code.jquery.com/jquery-1.11.3.min.js\"></script>\n",
    "<script src=\"http://code.jquery.com/jquery-migrate-1.2.1.min.js\"></script>"
   ]
  },
  {
   "cell_type": "markdown",
   "metadata": {},
   "source": [
    "또 jQuery를 사용할 것이라는 표지로 코드 내용을 `<script> </script>` 태그로 감싸주고, 실제로 호출한 부분에는 `$` 데코레이터를 붙여준다."
   ]
  },
  {
   "cell_type": "markdown",
   "metadata": {},
   "source": [
    "# 2. 계산기 예제\n",
    "\n",
    "> 참조할 파일\n",
    "- `mysite/urls.py`\n",
    "- `ajax/views.py`\n",
    "- `ajax/urls.py`\n",
    "- `cacl.html`\n",
    "\n",
    "\n",
    "\n",
    "0. 새로운 앱 생성하기\n",
    "    - $`python manage.py startapp ajax`\n",
    "\n",
    "\n",
    "1. 프로젝트에 앱 경로 연결해주기\n",
    "    - 프로젝트의 `urls.py` 파일의 `urlpatterns`에 `path('ajax.', include('ajax.urls')),`를 추가해준다.\n",
    "\n",
    "\n",
    "2. 본격적으로 앱 코딩하기\n",
    "\n",
    "    - 3가지 종류의 파일을 계속 왔다갔다 하면서 수정하면서 계산기 앱을 구현한다.\n",
    "        - URLS\n",
    "            - `ajax/urls.py`\n",
    "            - url.py 파일은 0번의 앱 생성 명령어로 자동으로 생성되지 않으니, 별도로 만들어주도록 한다.\n",
    "        - VIEWS\n",
    "            - `ajax/views.py`\n",
    "        - TEMPLATES\n",
    "            - **경로 주의**: 템플릿 파일들은 앱 폴더가 아니라, 루트(프로젝트)의 `templates` 폴더에 별도로 앱 폴더를 만들어서 넣어준다.\n",
    "            - `/templates/ajax/calc.html`\n",
    "    \n",
    "\n",
    "\n",
    "\n",
    "오늘 짤 프로그램의 특징은 **jQuery를 활용해서 비동기방식의 서버**를 구현할 것이라는 점이다.\n",
    "    \n",
    "=> 그래서 `views.py`는 좀 더 짧게, `calc.html`은 좀 더 길게 짜게 될 것!\n",
    "    \n",
    "(원래대로라면 서버에서 수행할 것들을 클라이언트로 옮기는 것이므로!)\n",
    "    \n",
    "    \n",
    "- 기존: \n",
    "    - `html` 폼에서 데이터 받기 --> `views.py`로 전달 --> `views.py`에서 데이터 처리 --> 새로운 페이지에 결과 디스플레이\n",
    "- ajax: \n",
    "    - `html` 폼에서 데이터 받기 + 데이터 처리(`views.py`에서 불러온 함수로) + 현재 페이지에서 결과 디스플레이\n"
   ]
  },
  {
   "cell_type": "markdown",
   "metadata": {},
   "source": [
    "# 3. 로그인 예제\n",
    "\n",
    "> 참조할 파일\n",
    "- `ajax/views.py`\n",
    "- `ajax/urls.py`\n",
    "- `login.html`"
   ]
  },
  {
   "cell_type": "markdown",
   "metadata": {},
   "source": [
    "# 4. 파일 업로드 예제\n",
    "\n",
    "> 참조할 파일\n",
    "- `ajax/views.py`\n",
    "- `ajax/urls.py`\n",
    "- `upload.html`"
   ]
  },
  {
   "cell_type": "markdown",
   "metadata": {},
   "source": [
    "# 5. 간단한 파이썬 에디터 구현하기\n",
    "\n",
    "> 참조할 파일\n",
    "- `ajax/views/py`\n",
    "- `ajax/urls.py`\n",
    "- `runpython.html`\n",
    "\n",
    "> 출력을 가로채는 것이 핵심이다!\n",
    "\n",
    "`exec` 함수를 활용하면 복수의 줄의 파이썬 코드의 결과를 출력해볼 수 있지만 `exec` 함수 자체는 리턴값을 갖지 않는 함수이기 때문에 출력값을 가져다가 내맘대로 쓸 수가 없다."
   ]
  },
  {
   "cell_type": "code",
   "execution_count": 17,
   "metadata": {
    "ExecuteTime": {
     "end_time": "2020-02-14T07:13:38.792130Z",
     "start_time": "2020-02-14T07:13:38.789131Z"
    }
   },
   "outputs": [
    {
     "name": "stdout",
     "output_type": "stream",
     "text": [
      "4\n"
     ]
    }
   ],
   "source": [
    "code = \"\"\"\n",
    "a = 1\n",
    "b = 3\n",
    "print(a + b)\n",
    "\"\"\"\n",
    "\n",
    "exec(code)"
   ]
  },
  {
   "cell_type": "code",
   "execution_count": 18,
   "metadata": {
    "ExecuteTime": {
     "end_time": "2020-02-14T07:13:54.648740Z",
     "start_time": "2020-02-14T07:13:54.643787Z"
    }
   },
   "outputs": [
    {
     "name": "stdout",
     "output_type": "stream",
     "text": [
      "4\n",
      "None\n",
      "<class 'NoneType'>\n"
     ]
    }
   ],
   "source": [
    "result = exec(code)\n",
    "print(result)\n",
    "print(type(result))"
   ]
  },
  {
   "cell_type": "markdown",
   "metadata": {},
   "source": [
    "`exec` 함수의 결과를 변수에 저장해서 타입을 확인해보면 `NoneType`이라고 나온다.\n",
    "\n",
    "따라서 원래는 모니터로 보내던 출력값을 일시적으로 가로채서 메모리에 저장하여 접근한다."
   ]
  },
  {
   "cell_type": "code",
   "execution_count": 19,
   "metadata": {
    "ExecuteTime": {
     "end_time": "2020-02-14T07:16:32.860800Z",
     "start_time": "2020-02-14T07:16:32.855813Z"
    }
   },
   "outputs": [
    {
     "name": "stdout",
     "output_type": "stream",
     "text": [
      "hello\n",
      "\n"
     ]
    }
   ],
   "source": [
    "import sys\n",
    "from io import StringIO\n",
    "\n",
    "original_stdout = sys.stdout\n",
    "sys.stdout = StringIO()    #원래는 모니터로 가던 출력값을 메모리로 가로채도록\n",
    "\n",
    "exec(\"print('hello')\")\n",
    "\n",
    "contents = sys.stdout.getvalue()    #메모리로 가로챈 출력값을 `contents` 변수에 저장\n",
    "sys.stdout = original_stdout\n",
    "\n",
    "print(contents)"
   ]
  },
  {
   "cell_type": "markdown",
   "metadata": {},
   "source": [
    "따라서 `views.py`에 들어갈 `runpython` 함수는 다음과 같이 정의할 수 있다.\n",
    "\n",
    "(이와 별도로 `runpythonForm` 함수를 정의하는 것도 잊지 않는다!!)"
   ]
  },
  {
   "cell_type": "code",
   "execution_count": null,
   "metadata": {},
   "outputs": [],
   "source": [
    "def runpython(request):\n",
    "    code = request.GET.get('code')\n",
    "    original_stdout = sys.stdout\n",
    "    sys.stdout = StringIO()  # 원래는 모니터로 가던 출력값을 메모리로 가로채도록\n",
    "    exec(code)\n",
    "    contents = sys.stdout.getvalue()  # 메모리로 가로챈 출력값을 `contents` 변수에 저장\n",
    "    contents = contents.replace(\"\\n\", \"<br>\")\n",
    "    sys.stdout = original_stdout\n",
    "    return HttpResponse(contents)"
   ]
  },
  {
   "cell_type": "markdown",
   "metadata": {},
   "source": [
    "`runpythonForm` 함수는 이제는 익숙한, 두줄짜리 간단한 함수다."
   ]
  },
  {
   "cell_type": "code",
   "execution_count": null,
   "metadata": {},
   "outputs": [],
   "source": [
    "def runpythonForm(request):\n",
    "    return render(request, 'ajax/runpython.html')"
   ]
  },
  {
   "cell_type": "markdown",
   "metadata": {},
   "source": [
    "한번 선언한 변수들을 메모리에 저장해두고 이후에도 활용하고 싶다면 다음과 같이 짠다."
   ]
  },
  {
   "cell_type": "code",
   "execution_count": null,
   "metadata": {},
   "outputs": [],
   "source": [
    "glo = {}\n",
    "loc = {}\n",
    "\n",
    "def runpython(request):\n",
    "    code = request.GET.get('code')\n",
    "    original_stdout = sys.stdout\n",
    "    sys.stdout = StringIO()\n",
    "    exec(code, glo, loc)   #exec 함수는 사실 파라미터를 3개 취할 수 있었다!; 코드, 전역, 지역 변수(딕셔너리)\n",
    "    contents = sys.stdout.getvalue()\n",
    "    contents = contents.replace(\"\\n\", \"<br>\")\n",
    "    sys.stdout = original_stdout\n",
    "    return HttpResponse(contents)"
   ]
  }
 ],
 "metadata": {
  "kernelspec": {
   "display_name": "Python 3",
   "language": "python",
   "name": "python3"
  },
  "language_info": {
   "codemirror_mode": {
    "name": "ipython",
    "version": 3
   },
   "file_extension": ".py",
   "mimetype": "text/x-python",
   "name": "python",
   "nbconvert_exporter": "python",
   "pygments_lexer": "ipython3",
   "version": "3.7.4"
  },
  "varInspector": {
   "cols": {
    "lenName": 16,
    "lenType": 16,
    "lenVar": 40
   },
   "kernels_config": {
    "python": {
     "delete_cmd_postfix": "",
     "delete_cmd_prefix": "del ",
     "library": "var_list.py",
     "varRefreshCmd": "print(var_dic_list())"
    },
    "r": {
     "delete_cmd_postfix": ") ",
     "delete_cmd_prefix": "rm(",
     "library": "var_list.r",
     "varRefreshCmd": "cat(var_dic_list()) "
    }
   },
   "types_to_exclude": [
    "module",
    "function",
    "builtin_function_or_method",
    "instance",
    "_Feature"
   ],
   "window_display": false
  }
 },
 "nbformat": 4,
 "nbformat_minor": 4
}

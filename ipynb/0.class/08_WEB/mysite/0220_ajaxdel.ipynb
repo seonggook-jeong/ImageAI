{
 "cells": [
  {
   "cell_type": "code",
   "execution_count": 3,
   "metadata": {
    "ExecuteTime": {
     "end_time": "2020-02-20T02:32:54.840449Z",
     "start_time": "2020-02-20T02:32:54.836488Z"
    }
   },
   "outputs": [],
   "source": [
    "from myboard import models\n",
    "from django.contrib.auth.models import User"
   ]
  },
  {
   "cell_type": "code",
   "execution_count": 17,
   "metadata": {
    "ExecuteTime": {
     "end_time": "2020-02-20T02:37:45.274124Z",
     "start_time": "2020-02-20T02:37:45.268186Z"
    }
   },
   "outputs": [
    {
     "name": "stdout",
     "output_type": "stream",
     "text": [
      "<QuerySet [<Board: 게시판 test 1>, <Board: 게시판 test 2>, <Board: 게시판 test 3>]>\n"
     ]
    }
   ],
   "source": [
    "page = 1\n",
    "datas = models.Board.objects.all().filter(category = 'common')\n",
    "page = int(page)\n",
    "sub = datas[(page-1)*3 : page*3]\n",
    "print(sub)"
   ]
  },
  {
   "cell_type": "code",
   "execution_count": 31,
   "metadata": {
    "ExecuteTime": {
     "end_time": "2020-02-20T02:45:14.540307Z",
     "start_time": "2020-02-20T02:45:14.536325Z"
    }
   },
   "outputs": [],
   "source": [
    "datas = {\"datas\": [{'pk': x.pk, 'title': x.title, 'cnt': x.cnt} for x in sub]}"
   ]
  },
  {
   "cell_type": "code",
   "execution_count": 32,
   "metadata": {
    "ExecuteTime": {
     "end_time": "2020-02-20T02:45:15.103938Z",
     "start_time": "2020-02-20T02:45:15.099901Z"
    }
   },
   "outputs": [
    {
     "data": {
      "text/plain": [
       "{'datas': [{'pk': 1, 'title': '게시판 test 1', 'cnt': 4},\n",
       "  {'pk': 2, 'title': '게시판 test 2', 'cnt': 2},\n",
       "  {'pk': 3, 'title': '게시판 test 3', 'cnt': 4}]}"
      ]
     },
     "execution_count": 32,
     "metadata": {},
     "output_type": "execute_result"
    }
   ],
   "source": [
    "datas"
   ]
  },
  {
   "cell_type": "code",
   "execution_count": null,
   "metadata": {},
   "outputs": [],
   "source": []
  }
 ],
 "metadata": {
  "kernelspec": {
   "display_name": "Django Shell-Plus",
   "language": "python",
   "name": "django_extensions"
  },
  "language_info": {
   "codemirror_mode": {
    "name": "ipython",
    "version": 3
   },
   "file_extension": ".py",
   "mimetype": "text/x-python",
   "name": "python",
   "nbconvert_exporter": "python",
   "pygments_lexer": "ipython3",
   "version": "3.6.10"
  },
  "varInspector": {
   "cols": {
    "lenName": 16,
    "lenType": 16,
    "lenVar": 40
   },
   "kernels_config": {
    "python": {
     "delete_cmd_postfix": "",
     "delete_cmd_prefix": "del ",
     "library": "var_list.py",
     "varRefreshCmd": "print(var_dic_list())"
    },
    "r": {
     "delete_cmd_postfix": ") ",
     "delete_cmd_prefix": "rm(",
     "library": "var_list.r",
     "varRefreshCmd": "cat(var_dic_list()) "
    }
   },
   "types_to_exclude": [
    "module",
    "function",
    "builtin_function_or_method",
    "instance",
    "_Feature"
   ],
   "window_display": false
  }
 },
 "nbformat": 4,
 "nbformat_minor": 4
}

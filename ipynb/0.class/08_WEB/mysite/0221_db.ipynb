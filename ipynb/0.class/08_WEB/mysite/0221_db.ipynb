{
 "cells": [
  {
   "cell_type": "markdown",
   "metadata": {},
   "source": [
    "# <오늘 할 것: 실습 테스트 1, 2, 3>\n",
    "\n",
    "# 1. django와 low level db\n",
    "- 1.1 카테고리, 페이지, 유저명으로 글 검색 예제\n",
    "    - 1.1.1 왜 SQL문을 f rotation 처리하면 에러가 발생할까?\n",
    "- 1.2 얼굴 인식 예제\n",
    "    - 1.2.1 DB에서 유저명과 일치하는 이미지들 불러와서 띄우기\n",
    "    - 1.2.2 이미지를 업로드하면 유저명의 디렉토리에 저장하기\n",
    "    - 1.2.3 시간 남으면 AJAX로 구현한다\n",
    "    - 1.2.4 시간 더 남으면 view class로도 해본다"
   ]
  },
  {
   "cell_type": "markdown",
   "metadata": {},
   "source": [
    "# 1. django와 low level db\n",
    "\n",
    "`settings.py`에 있는 db에 연결해주는 라이브러리가 있다.\n"
   ]
  },
  {
   "cell_type": "code",
   "execution_count": 1,
   "metadata": {
    "ExecuteTime": {
     "end_time": "2020-02-21T01:17:16.430773Z",
     "start_time": "2020-02-21T01:17:16.427772Z"
    }
   },
   "outputs": [],
   "source": [
    "from django.db import connection\n",
    "from django.contrib.auth.models import User\n",
    "from myboard import models "
   ]
  },
  {
   "cell_type": "code",
   "execution_count": 2,
   "metadata": {
    "ExecuteTime": {
     "end_time": "2020-02-21T01:18:18.428571Z",
     "start_time": "2020-02-21T01:18:18.418598Z"
    }
   },
   "outputs": [
    {
     "name": "stdout",
     "output_type": "stream",
     "text": [
      "<class 'list'>\n"
     ]
    },
    {
     "data": {
      "text/plain": [
       "(5, 'url 어떻게 해~~~', 3)"
      ]
     },
     "execution_count": 2,
     "metadata": {},
     "output_type": "execute_result"
    }
   ],
   "source": [
    "cursor = connection.cursor()\n",
    "\n",
    "cursor.execute('SELECT id, title, cnt FROM myboard_board')  #*을 쓰는 건 별로 좋지 않다(서버 부담)\n",
    "\n",
    "results = cursor.fetchall()\n",
    "\n",
    "print(type(results))\n",
    "\n",
    "results[0]"
   ]
  },
  {
   "cell_type": "markdown",
   "metadata": {},
   "source": [
    "## SQLite에서 SQL 잠깐 연습하기\n",
    "\n",
    "특정 유저가 작성한 글에 접근하고 싶다면?\n",
    "\n",
    "`myboard_board` 테이블에는 유저명(`username`)은 없고 유저아이디(`id`)만 있기 때문에 그 둘이 매칭되어 있는 `auth_user` 테이블에서 유저명에 해당하는 유저아이디를 알아낸 후에 유저아이디로 `myboard_board`에서 검색할 수 있다.\n",
    "\n",
    "즉, 유저명이 주어지면,\n",
    "\n",
    "1. `auth_user`에서 유저명에 해당하는 유저아이디 가져오기\n",
    "2. `myboard_board`에서 1에서 얻은 유저아이디에 해당하는 데이터 읽어오기"
   ]
  },
  {
   "cell_type": "code",
   "execution_count": null,
   "metadata": {},
   "outputs": [],
   "source": [
    "SELECT id, title, cnt\n",
    "FROM myboard_board\n",
    "WHERE author_id=(\n",
    "\tSELECT id FROM auth_user WHERE username='hong')   /*조건절 안에는 유일값이 나와야한다!!!!*/"
   ]
  },
  {
   "cell_type": "code",
   "execution_count": null,
   "metadata": {},
   "outputs": [],
   "source": [
    "SELECT b.id, title, cnt\n",
    "FROM myboard_board b, auth_user u\n",
    "\n",
    "WHERE b.author_id = u.id AND username='hong'"
   ]
  },
  {
   "cell_type": "markdown",
   "metadata": {},
   "source": [
    "같은 표현인데, 아래가 더 직관적이다."
   ]
  },
  {
   "cell_type": "markdown",
   "metadata": {},
   "source": [
    "## 주의할 것\n",
    "\n",
    "`fetchone`이나 `fetchall` 메소드에서 `fetch` 개념은 **소모** 개념으로 작동하기 때문에 일단 한번 보여주고 나면 다음으로 넘어가버린다. 그래서 `fetchone`을 한번 한 뒤에 `fetchall`을 하면, 첫 데이터는 제외한 나머지를 보여주고, `fetchall`을 한번 하고 난 후에 다시 한번 `fetchall`을 하면 None이 리턴된다."
   ]
  },
  {
   "cell_type": "code",
   "execution_count": 5,
   "metadata": {
    "ExecuteTime": {
     "end_time": "2020-02-21T01:20:42.383080Z",
     "start_time": "2020-02-21T01:20:42.370585Z"
    }
   },
   "outputs": [
    {
     "data": {
      "text/plain": [
       "<django.db.backends.sqlite3.base.SQLiteCursorWrapper at 0x18c1f2e81f8>"
      ]
     },
     "execution_count": 5,
     "metadata": {},
     "output_type": "execute_result"
    }
   ],
   "source": [
    "cursor.execute(\"\"\"SELECT b.id, title, cnt, username\n",
    "FROM myboard_board b, auth_user u\n",
    "\n",
    "WHERE b.author_id = u.id AND username='hong'\"\"\")"
   ]
  },
  {
   "cell_type": "code",
   "execution_count": 6,
   "metadata": {
    "ExecuteTime": {
     "end_time": "2020-02-21T01:21:01.054663Z",
     "start_time": "2020-02-21T01:21:01.049722Z"
    }
   },
   "outputs": [
    {
     "name": "stdout",
     "output_type": "stream",
     "text": [
      "<class 'tuple'>\n",
      "(5, 'url 어떻게 해~~~', 3, 'hong')\n"
     ]
    }
   ],
   "source": [
    "r1 = cursor.fetchone()\n",
    "\n",
    "print(type(r1))\n",
    "print(r1)"
   ]
  },
  {
   "cell_type": "code",
   "execution_count": 8,
   "metadata": {
    "ExecuteTime": {
     "end_time": "2020-02-21T01:21:31.877513Z",
     "start_time": "2020-02-21T01:21:31.874519Z"
    }
   },
   "outputs": [
    {
     "name": "stdout",
     "output_type": "stream",
     "text": [
      "<class 'list'>\n",
      "[(6, '기타 글 1', 8, 'hong'), (7, '기타 글 2', 4, 'hong'), (8, '이미지 업로드', 9, 'hong'), (9, '사진 올리기', 14, 'hong'), (13, 'test1~~~', 0, 'hong'), (14, 'test2~~~~', 0, 'hong'), (15, 'test3~~~~~~', 0, 'hong'), (16, 'test4~~~~', 0, 'hong'), (17, 'test5~~~~', 0, 'hong'), (18, 'test6', 0, 'hong'), (19, 'test7~~~~~', 0, 'hong')]\n"
     ]
    }
   ],
   "source": [
    "r_all = cursor.fetchall()\n",
    "\n",
    "print(type(r_all))\n",
    "print(r_all)"
   ]
  },
  {
   "cell_type": "markdown",
   "metadata": {},
   "source": [
    "읽어온 데이터에는 field명이 포함되어 있지 않다는 문제가 있다.\n",
    "\n",
    "`zip` 함수를 활용해서 간단하게 `field명 : field값` 쌍으로 이루어진 딕셔너리(들의 리스트)로 데이터들을 바꿔줄거다."
   ]
  },
  {
   "cell_type": "code",
   "execution_count": 9,
   "metadata": {
    "ExecuteTime": {
     "end_time": "2020-02-21T01:21:39.685986Z",
     "start_time": "2020-02-21T01:21:39.680941Z"
    }
   },
   "outputs": [
    {
     "data": {
      "text/plain": [
       "(('id', None, None, None, None, None, None),\n",
       " ('title', None, None, None, None, None, None),\n",
       " ('cnt', None, None, None, None, None, None),\n",
       " ('username', None, None, None, None, None, None))"
      ]
     },
     "execution_count": 9,
     "metadata": {},
     "output_type": "execute_result"
    }
   ],
   "source": [
    "cursor.description"
   ]
  },
  {
   "cell_type": "markdown",
   "metadata": {},
   "source": [
    "나중에 함수화할 때는 여기서 field명을 가져올 거다."
   ]
  },
  {
   "cell_type": "code",
   "execution_count": 10,
   "metadata": {
    "ExecuteTime": {
     "end_time": "2020-02-21T01:24:30.494207Z",
     "start_time": "2020-02-21T01:24:30.491157Z"
    }
   },
   "outputs": [],
   "source": [
    "data = dict(zip(['id', 'title', 'cnt', 'username'], r_all[0]))"
   ]
  },
  {
   "cell_type": "code",
   "execution_count": 11,
   "metadata": {
    "ExecuteTime": {
     "end_time": "2020-02-21T01:24:31.830247Z",
     "start_time": "2020-02-21T01:24:31.825202Z"
    }
   },
   "outputs": [
    {
     "data": {
      "text/plain": [
       "{'id': 6, 'title': '기타 글 1', 'cnt': 8, 'username': 'hong'}"
      ]
     },
     "execution_count": 11,
     "metadata": {},
     "output_type": "execute_result"
    }
   ],
   "source": [
    "data"
   ]
  },
  {
   "cell_type": "code",
   "execution_count": 20,
   "metadata": {
    "ExecuteTime": {
     "end_time": "2020-02-21T01:36:51.175228Z",
     "start_time": "2020-02-21T01:36:51.170242Z"
    }
   },
   "outputs": [],
   "source": [
    "#fetchall로 불러와서 field명 붙여서 딕셔너리화하는 함수\n",
    "def dictfetchall(cursor):   #cursor는 execute 후, fecth 전의 cursor다\n",
    "    desc = cursor.description\n",
    "    return [\n",
    "        dict(zip([element[0] for element in desc], row)) \n",
    "        for row in cursor.fetchall()\n",
    "    ]"
   ]
  },
  {
   "cell_type": "code",
   "execution_count": 40,
   "metadata": {
    "ExecuteTime": {
     "end_time": "2020-02-21T02:18:17.401906Z",
     "start_time": "2020-02-21T02:18:17.387735Z"
    }
   },
   "outputs": [
    {
     "data": {
      "text/plain": [
       "[{'id': 5,\n",
       "  'title': 'url 어떻게 해~~~',\n",
       "  'cnt': 3,\n",
       "  'username': 'hong',\n",
       "  'category': 'data'},\n",
       " {'id': 6, 'title': '기타 글 1', 'cnt': 8, 'username': 'hong', 'category': 'etc'},\n",
       " {'id': 7, 'title': '기타 글 2', 'cnt': 4, 'username': 'hong', 'category': 'etc'},\n",
       " {'id': 8,\n",
       "  'title': '이미지 업로드',\n",
       "  'cnt': 9,\n",
       "  'username': 'hong',\n",
       "  'category': 'data'},\n",
       " {'id': 9,\n",
       "  'title': '사진 올리기',\n",
       "  'cnt': 14,\n",
       "  'username': 'hong',\n",
       "  'category': 'data'},\n",
       " {'id': 13,\n",
       "  'title': 'test1~~~',\n",
       "  'cnt': 0,\n",
       "  'username': 'hong',\n",
       "  'category': 'common'},\n",
       " {'id': 14,\n",
       "  'title': 'test2~~~~',\n",
       "  'cnt': 0,\n",
       "  'username': 'hong',\n",
       "  'category': 'common'},\n",
       " {'id': 15,\n",
       "  'title': 'test3~~~~~~',\n",
       "  'cnt': 0,\n",
       "  'username': 'hong',\n",
       "  'category': 'common'},\n",
       " {'id': 16,\n",
       "  'title': 'test4~~~~',\n",
       "  'cnt': 0,\n",
       "  'username': 'hong',\n",
       "  'category': 'common'},\n",
       " {'id': 17,\n",
       "  'title': 'test5~~~~',\n",
       "  'cnt': 0,\n",
       "  'username': 'hong',\n",
       "  'category': 'common'},\n",
       " {'id': 18,\n",
       "  'title': 'test6',\n",
       "  'cnt': 0,\n",
       "  'username': 'hong',\n",
       "  'category': 'common'},\n",
       " {'id': 19,\n",
       "  'title': 'test7~~~~~',\n",
       "  'cnt': 0,\n",
       "  'username': 'hong',\n",
       "  'category': 'common'}]"
      ]
     },
     "execution_count": 40,
     "metadata": {},
     "output_type": "execute_result"
    }
   ],
   "source": [
    "cursor.execute(\"\"\"SELECT b.id, title, cnt, username, category\n",
    "FROM myboard_board b, auth_user u\n",
    "\n",
    "WHERE b.author_id = u.id AND username= 'hong'\"\"\")\n",
    "\n",
    "dictfetchall(cursor)"
   ]
  },
  {
   "cell_type": "markdown",
   "metadata": {},
   "source": [
    "## 1.1 카테고리, 페이지, 유저명으로 글 검색 예제\n",
    "\n",
    "서버에 올려서 테스트하면 오래걸리니까 최대한 여기(django shell-plus)에서 테스트하고 django로 옮긴다."
   ]
  },
  {
   "cell_type": "code",
   "execution_count": 29,
   "metadata": {
    "ExecuteTime": {
     "end_time": "2020-02-21T02:00:32.806349Z",
     "start_time": "2020-02-21T02:00:32.802323Z"
    }
   },
   "outputs": [],
   "source": [
    "category = \"common\"\n",
    "page = 2\n",
    "username = \"hong\""
   ]
  },
  {
   "cell_type": "code",
   "execution_count": 32,
   "metadata": {
    "ExecuteTime": {
     "end_time": "2020-02-21T02:02:42.902560Z",
     "start_time": "2020-02-21T02:02:42.885023Z"
    }
   },
   "outputs": [],
   "source": [
    "cursor = connection.cursor()"
   ]
  },
  {
   "cell_type": "code",
   "execution_count": 41,
   "metadata": {
    "ExecuteTime": {
     "end_time": "2020-02-21T02:18:39.497390Z",
     "start_time": "2020-02-21T02:18:39.492339Z"
    }
   },
   "outputs": [
    {
     "data": {
      "text/plain": [
       "[{'id': 13,\n",
       "  'title': 'test1~~~',\n",
       "  'cnt': 0,\n",
       "  'username': 'hong',\n",
       "  'category': 'common'},\n",
       " {'id': 14,\n",
       "  'title': 'test2~~~~',\n",
       "  'cnt': 0,\n",
       "  'username': 'hong',\n",
       "  'category': 'common'},\n",
       " {'id': 15,\n",
       "  'title': 'test3~~~~~~',\n",
       "  'cnt': 0,\n",
       "  'username': 'hong',\n",
       "  'category': 'common'},\n",
       " {'id': 16,\n",
       "  'title': 'test4~~~~',\n",
       "  'cnt': 0,\n",
       "  'username': 'hong',\n",
       "  'category': 'common'},\n",
       " {'id': 17,\n",
       "  'title': 'test5~~~~',\n",
       "  'cnt': 0,\n",
       "  'username': 'hong',\n",
       "  'category': 'common'},\n",
       " {'id': 18,\n",
       "  'title': 'test6',\n",
       "  'cnt': 0,\n",
       "  'username': 'hong',\n",
       "  'category': 'common'},\n",
       " {'id': 19,\n",
       "  'title': 'test7~~~~~',\n",
       "  'cnt': 0,\n",
       "  'username': 'hong',\n",
       "  'category': 'common'}]"
      ]
     },
     "execution_count": 41,
     "metadata": {},
     "output_type": "execute_result"
    }
   ],
   "source": [
    "SQL = \"\"\"SELECT b.id, title, cnt, username, category\n",
    "FROM myboard_board b, auth_user u\n",
    "\n",
    "WHERE b.author_id = u.id\n",
    "AND username= 'hong'\n",
    "AND category= 'common'\n",
    "\"\"\"\n",
    "\n",
    "cursor.execute(SQL)\n",
    "\n",
    "dictfetchall(cursor)"
   ]
  },
  {
   "cell_type": "markdown",
   "metadata": {},
   "source": [
    "### 1.1.1 왜 SQL문을 f rotation으로 처리하면 문제가 발생할까?"
   ]
  },
  {
   "cell_type": "code",
   "execution_count": 44,
   "metadata": {
    "ExecuteTime": {
     "end_time": "2020-02-21T04:28:47.520046Z",
     "start_time": "2020-02-21T04:28:47.517062Z"
    }
   },
   "outputs": [],
   "source": [
    "SQL = f\"\"\"SELECT b.id, title, cnt, username, category\n",
    "FROM myboard_board b, auth_user u\n",
    "\n",
    "WHERE b.author_id = u.id\n",
    "AND username= {username}\n",
    "AND category= {category}\n",
    "\"\"\""
   ]
  },
  {
   "cell_type": "markdown",
   "metadata": {},
   "source": [
    "이렇게 쓰면 커서 객체에서 SQL을 `execute`했을 때 에러가 발생한다."
   ]
  },
  {
   "cell_type": "code",
   "execution_count": 45,
   "metadata": {
    "ExecuteTime": {
     "end_time": "2020-02-21T04:29:28.520637Z",
     "start_time": "2020-02-21T04:29:28.499690Z"
    }
   },
   "outputs": [
    {
     "ename": "OperationalError",
     "evalue": "no such column: hong",
     "output_type": "error",
     "traceback": [
      "\u001b[1;31m---------------------------------------------------------------------------\u001b[0m",
      "\u001b[1;31mOperationalError\u001b[0m                          Traceback (most recent call last)",
      "\u001b[1;32m~\\Anaconda3\\envs\\py36\\lib\\site-packages\\django\\db\\backends\\utils.py\u001b[0m in \u001b[0;36m_execute\u001b[1;34m(self, sql, params, *ignored_wrapper_args)\u001b[0m\n\u001b[0;32m     82\u001b[0m             \u001b[1;32mif\u001b[0m \u001b[0mparams\u001b[0m \u001b[1;32mis\u001b[0m \u001b[1;32mNone\u001b[0m\u001b[1;33m:\u001b[0m\u001b[1;33m\u001b[0m\u001b[1;33m\u001b[0m\u001b[0m\n\u001b[1;32m---> 83\u001b[1;33m                 \u001b[1;32mreturn\u001b[0m \u001b[0mself\u001b[0m\u001b[1;33m.\u001b[0m\u001b[0mcursor\u001b[0m\u001b[1;33m.\u001b[0m\u001b[0mexecute\u001b[0m\u001b[1;33m(\u001b[0m\u001b[0msql\u001b[0m\u001b[1;33m)\u001b[0m\u001b[1;33m\u001b[0m\u001b[1;33m\u001b[0m\u001b[0m\n\u001b[0m\u001b[0;32m     84\u001b[0m             \u001b[1;32melse\u001b[0m\u001b[1;33m:\u001b[0m\u001b[1;33m\u001b[0m\u001b[1;33m\u001b[0m\u001b[0m\n",
      "\u001b[1;32m~\\Anaconda3\\envs\\py36\\lib\\site-packages\\django\\db\\backends\\sqlite3\\base.py\u001b[0m in \u001b[0;36mexecute\u001b[1;34m(self, query, params)\u001b[0m\n\u001b[0;32m    300\u001b[0m         \u001b[1;32mif\u001b[0m \u001b[0mparams\u001b[0m \u001b[1;32mis\u001b[0m \u001b[1;32mNone\u001b[0m\u001b[1;33m:\u001b[0m\u001b[1;33m\u001b[0m\u001b[1;33m\u001b[0m\u001b[0m\n\u001b[1;32m--> 301\u001b[1;33m             \u001b[1;32mreturn\u001b[0m \u001b[0mDatabase\u001b[0m\u001b[1;33m.\u001b[0m\u001b[0mCursor\u001b[0m\u001b[1;33m.\u001b[0m\u001b[0mexecute\u001b[0m\u001b[1;33m(\u001b[0m\u001b[0mself\u001b[0m\u001b[1;33m,\u001b[0m \u001b[0mquery\u001b[0m\u001b[1;33m)\u001b[0m\u001b[1;33m\u001b[0m\u001b[1;33m\u001b[0m\u001b[0m\n\u001b[0m\u001b[0;32m    302\u001b[0m         \u001b[0mquery\u001b[0m \u001b[1;33m=\u001b[0m \u001b[0mself\u001b[0m\u001b[1;33m.\u001b[0m\u001b[0mconvert_query\u001b[0m\u001b[1;33m(\u001b[0m\u001b[0mquery\u001b[0m\u001b[1;33m)\u001b[0m\u001b[1;33m\u001b[0m\u001b[1;33m\u001b[0m\u001b[0m\n",
      "\u001b[1;31mOperationalError\u001b[0m: no such column: hong",
      "\nThe above exception was the direct cause of the following exception:\n",
      "\u001b[1;31mOperationalError\u001b[0m                          Traceback (most recent call last)",
      "\u001b[1;32m<ipython-input-45-c119c86f245c>\u001b[0m in \u001b[0;36m<module>\u001b[1;34m\u001b[0m\n\u001b[1;32m----> 1\u001b[1;33m \u001b[0mcursor\u001b[0m\u001b[1;33m.\u001b[0m\u001b[0mexecute\u001b[0m\u001b[1;33m(\u001b[0m\u001b[0mSQL\u001b[0m\u001b[1;33m)\u001b[0m\u001b[1;33m\u001b[0m\u001b[1;33m\u001b[0m\u001b[0m\n\u001b[0m",
      "\u001b[1;32m~\\Anaconda3\\envs\\py36\\lib\\site-packages\\django\\db\\backends\\utils.py\u001b[0m in \u001b[0;36mexecute\u001b[1;34m(self, sql, params)\u001b[0m\n\u001b[0;32m     98\u001b[0m         \u001b[0mstart\u001b[0m \u001b[1;33m=\u001b[0m \u001b[0mtime\u001b[0m\u001b[1;33m(\u001b[0m\u001b[1;33m)\u001b[0m\u001b[1;33m\u001b[0m\u001b[1;33m\u001b[0m\u001b[0m\n\u001b[0;32m     99\u001b[0m         \u001b[1;32mtry\u001b[0m\u001b[1;33m:\u001b[0m\u001b[1;33m\u001b[0m\u001b[1;33m\u001b[0m\u001b[0m\n\u001b[1;32m--> 100\u001b[1;33m             \u001b[1;32mreturn\u001b[0m \u001b[0msuper\u001b[0m\u001b[1;33m(\u001b[0m\u001b[1;33m)\u001b[0m\u001b[1;33m.\u001b[0m\u001b[0mexecute\u001b[0m\u001b[1;33m(\u001b[0m\u001b[0msql\u001b[0m\u001b[1;33m,\u001b[0m \u001b[0mparams\u001b[0m\u001b[1;33m)\u001b[0m\u001b[1;33m\u001b[0m\u001b[1;33m\u001b[0m\u001b[0m\n\u001b[0m\u001b[0;32m    101\u001b[0m         \u001b[1;32mfinally\u001b[0m\u001b[1;33m:\u001b[0m\u001b[1;33m\u001b[0m\u001b[1;33m\u001b[0m\u001b[0m\n\u001b[0;32m    102\u001b[0m             \u001b[0mstop\u001b[0m \u001b[1;33m=\u001b[0m \u001b[0mtime\u001b[0m\u001b[1;33m(\u001b[0m\u001b[1;33m)\u001b[0m\u001b[1;33m\u001b[0m\u001b[1;33m\u001b[0m\u001b[0m\n",
      "\u001b[1;32m~\\Anaconda3\\envs\\py36\\lib\\site-packages\\django\\db\\backends\\utils.py\u001b[0m in \u001b[0;36mexecute\u001b[1;34m(self, sql, params)\u001b[0m\n\u001b[0;32m     66\u001b[0m \u001b[1;33m\u001b[0m\u001b[0m\n\u001b[0;32m     67\u001b[0m     \u001b[1;32mdef\u001b[0m \u001b[0mexecute\u001b[0m\u001b[1;33m(\u001b[0m\u001b[0mself\u001b[0m\u001b[1;33m,\u001b[0m \u001b[0msql\u001b[0m\u001b[1;33m,\u001b[0m \u001b[0mparams\u001b[0m\u001b[1;33m=\u001b[0m\u001b[1;32mNone\u001b[0m\u001b[1;33m)\u001b[0m\u001b[1;33m:\u001b[0m\u001b[1;33m\u001b[0m\u001b[1;33m\u001b[0m\u001b[0m\n\u001b[1;32m---> 68\u001b[1;33m         \u001b[1;32mreturn\u001b[0m \u001b[0mself\u001b[0m\u001b[1;33m.\u001b[0m\u001b[0m_execute_with_wrappers\u001b[0m\u001b[1;33m(\u001b[0m\u001b[0msql\u001b[0m\u001b[1;33m,\u001b[0m \u001b[0mparams\u001b[0m\u001b[1;33m,\u001b[0m \u001b[0mmany\u001b[0m\u001b[1;33m=\u001b[0m\u001b[1;32mFalse\u001b[0m\u001b[1;33m,\u001b[0m \u001b[0mexecutor\u001b[0m\u001b[1;33m=\u001b[0m\u001b[0mself\u001b[0m\u001b[1;33m.\u001b[0m\u001b[0m_execute\u001b[0m\u001b[1;33m)\u001b[0m\u001b[1;33m\u001b[0m\u001b[1;33m\u001b[0m\u001b[0m\n\u001b[0m\u001b[0;32m     69\u001b[0m \u001b[1;33m\u001b[0m\u001b[0m\n\u001b[0;32m     70\u001b[0m     \u001b[1;32mdef\u001b[0m \u001b[0mexecutemany\u001b[0m\u001b[1;33m(\u001b[0m\u001b[0mself\u001b[0m\u001b[1;33m,\u001b[0m \u001b[0msql\u001b[0m\u001b[1;33m,\u001b[0m \u001b[0mparam_list\u001b[0m\u001b[1;33m)\u001b[0m\u001b[1;33m:\u001b[0m\u001b[1;33m\u001b[0m\u001b[1;33m\u001b[0m\u001b[0m\n",
      "\u001b[1;32m~\\Anaconda3\\envs\\py36\\lib\\site-packages\\django\\db\\backends\\utils.py\u001b[0m in \u001b[0;36m_execute_with_wrappers\u001b[1;34m(self, sql, params, many, executor)\u001b[0m\n\u001b[0;32m     75\u001b[0m         \u001b[1;32mfor\u001b[0m \u001b[0mwrapper\u001b[0m \u001b[1;32min\u001b[0m \u001b[0mreversed\u001b[0m\u001b[1;33m(\u001b[0m\u001b[0mself\u001b[0m\u001b[1;33m.\u001b[0m\u001b[0mdb\u001b[0m\u001b[1;33m.\u001b[0m\u001b[0mexecute_wrappers\u001b[0m\u001b[1;33m)\u001b[0m\u001b[1;33m:\u001b[0m\u001b[1;33m\u001b[0m\u001b[1;33m\u001b[0m\u001b[0m\n\u001b[0;32m     76\u001b[0m             \u001b[0mexecutor\u001b[0m \u001b[1;33m=\u001b[0m \u001b[0mfunctools\u001b[0m\u001b[1;33m.\u001b[0m\u001b[0mpartial\u001b[0m\u001b[1;33m(\u001b[0m\u001b[0mwrapper\u001b[0m\u001b[1;33m,\u001b[0m \u001b[0mexecutor\u001b[0m\u001b[1;33m)\u001b[0m\u001b[1;33m\u001b[0m\u001b[1;33m\u001b[0m\u001b[0m\n\u001b[1;32m---> 77\u001b[1;33m         \u001b[1;32mreturn\u001b[0m \u001b[0mexecutor\u001b[0m\u001b[1;33m(\u001b[0m\u001b[0msql\u001b[0m\u001b[1;33m,\u001b[0m \u001b[0mparams\u001b[0m\u001b[1;33m,\u001b[0m \u001b[0mmany\u001b[0m\u001b[1;33m,\u001b[0m \u001b[0mcontext\u001b[0m\u001b[1;33m)\u001b[0m\u001b[1;33m\u001b[0m\u001b[1;33m\u001b[0m\u001b[0m\n\u001b[0m\u001b[0;32m     78\u001b[0m \u001b[1;33m\u001b[0m\u001b[0m\n\u001b[0;32m     79\u001b[0m     \u001b[1;32mdef\u001b[0m \u001b[0m_execute\u001b[0m\u001b[1;33m(\u001b[0m\u001b[0mself\u001b[0m\u001b[1;33m,\u001b[0m \u001b[0msql\u001b[0m\u001b[1;33m,\u001b[0m \u001b[0mparams\u001b[0m\u001b[1;33m,\u001b[0m \u001b[1;33m*\u001b[0m\u001b[0mignored_wrapper_args\u001b[0m\u001b[1;33m)\u001b[0m\u001b[1;33m:\u001b[0m\u001b[1;33m\u001b[0m\u001b[1;33m\u001b[0m\u001b[0m\n",
      "\u001b[1;32m~\\Anaconda3\\envs\\py36\\lib\\site-packages\\django\\db\\backends\\utils.py\u001b[0m in \u001b[0;36m_execute\u001b[1;34m(self, sql, params, *ignored_wrapper_args)\u001b[0m\n\u001b[0;32m     83\u001b[0m                 \u001b[1;32mreturn\u001b[0m \u001b[0mself\u001b[0m\u001b[1;33m.\u001b[0m\u001b[0mcursor\u001b[0m\u001b[1;33m.\u001b[0m\u001b[0mexecute\u001b[0m\u001b[1;33m(\u001b[0m\u001b[0msql\u001b[0m\u001b[1;33m)\u001b[0m\u001b[1;33m\u001b[0m\u001b[1;33m\u001b[0m\u001b[0m\n\u001b[0;32m     84\u001b[0m             \u001b[1;32melse\u001b[0m\u001b[1;33m:\u001b[0m\u001b[1;33m\u001b[0m\u001b[1;33m\u001b[0m\u001b[0m\n\u001b[1;32m---> 85\u001b[1;33m                 \u001b[1;32mreturn\u001b[0m \u001b[0mself\u001b[0m\u001b[1;33m.\u001b[0m\u001b[0mcursor\u001b[0m\u001b[1;33m.\u001b[0m\u001b[0mexecute\u001b[0m\u001b[1;33m(\u001b[0m\u001b[0msql\u001b[0m\u001b[1;33m,\u001b[0m \u001b[0mparams\u001b[0m\u001b[1;33m)\u001b[0m\u001b[1;33m\u001b[0m\u001b[1;33m\u001b[0m\u001b[0m\n\u001b[0m\u001b[0;32m     86\u001b[0m \u001b[1;33m\u001b[0m\u001b[0m\n\u001b[0;32m     87\u001b[0m     \u001b[1;32mdef\u001b[0m \u001b[0m_executemany\u001b[0m\u001b[1;33m(\u001b[0m\u001b[0mself\u001b[0m\u001b[1;33m,\u001b[0m \u001b[0msql\u001b[0m\u001b[1;33m,\u001b[0m \u001b[0mparam_list\u001b[0m\u001b[1;33m,\u001b[0m \u001b[1;33m*\u001b[0m\u001b[0mignored_wrapper_args\u001b[0m\u001b[1;33m)\u001b[0m\u001b[1;33m:\u001b[0m\u001b[1;33m\u001b[0m\u001b[1;33m\u001b[0m\u001b[0m\n",
      "\u001b[1;32m~\\Anaconda3\\envs\\py36\\lib\\site-packages\\django\\db\\utils.py\u001b[0m in \u001b[0;36m__exit__\u001b[1;34m(self, exc_type, exc_value, traceback)\u001b[0m\n\u001b[0;32m     87\u001b[0m                 \u001b[1;32mif\u001b[0m \u001b[0mdj_exc_type\u001b[0m \u001b[1;32mnot\u001b[0m \u001b[1;32min\u001b[0m \u001b[1;33m(\u001b[0m\u001b[0mDataError\u001b[0m\u001b[1;33m,\u001b[0m \u001b[0mIntegrityError\u001b[0m\u001b[1;33m)\u001b[0m\u001b[1;33m:\u001b[0m\u001b[1;33m\u001b[0m\u001b[1;33m\u001b[0m\u001b[0m\n\u001b[0;32m     88\u001b[0m                     \u001b[0mself\u001b[0m\u001b[1;33m.\u001b[0m\u001b[0mwrapper\u001b[0m\u001b[1;33m.\u001b[0m\u001b[0merrors_occurred\u001b[0m \u001b[1;33m=\u001b[0m \u001b[1;32mTrue\u001b[0m\u001b[1;33m\u001b[0m\u001b[1;33m\u001b[0m\u001b[0m\n\u001b[1;32m---> 89\u001b[1;33m                 \u001b[1;32mraise\u001b[0m \u001b[0mdj_exc_value\u001b[0m\u001b[1;33m.\u001b[0m\u001b[0mwith_traceback\u001b[0m\u001b[1;33m(\u001b[0m\u001b[0mtraceback\u001b[0m\u001b[1;33m)\u001b[0m \u001b[1;32mfrom\u001b[0m \u001b[0mexc_value\u001b[0m\u001b[1;33m\u001b[0m\u001b[1;33m\u001b[0m\u001b[0m\n\u001b[0m\u001b[0;32m     90\u001b[0m \u001b[1;33m\u001b[0m\u001b[0m\n\u001b[0;32m     91\u001b[0m     \u001b[1;32mdef\u001b[0m \u001b[0m__call__\u001b[0m\u001b[1;33m(\u001b[0m\u001b[0mself\u001b[0m\u001b[1;33m,\u001b[0m \u001b[0mfunc\u001b[0m\u001b[1;33m)\u001b[0m\u001b[1;33m:\u001b[0m\u001b[1;33m\u001b[0m\u001b[1;33m\u001b[0m\u001b[0m\n",
      "\u001b[1;32m~\\Anaconda3\\envs\\py36\\lib\\site-packages\\django\\db\\backends\\utils.py\u001b[0m in \u001b[0;36m_execute\u001b[1;34m(self, sql, params, *ignored_wrapper_args)\u001b[0m\n\u001b[0;32m     81\u001b[0m         \u001b[1;32mwith\u001b[0m \u001b[0mself\u001b[0m\u001b[1;33m.\u001b[0m\u001b[0mdb\u001b[0m\u001b[1;33m.\u001b[0m\u001b[0mwrap_database_errors\u001b[0m\u001b[1;33m:\u001b[0m\u001b[1;33m\u001b[0m\u001b[1;33m\u001b[0m\u001b[0m\n\u001b[0;32m     82\u001b[0m             \u001b[1;32mif\u001b[0m \u001b[0mparams\u001b[0m \u001b[1;32mis\u001b[0m \u001b[1;32mNone\u001b[0m\u001b[1;33m:\u001b[0m\u001b[1;33m\u001b[0m\u001b[1;33m\u001b[0m\u001b[0m\n\u001b[1;32m---> 83\u001b[1;33m                 \u001b[1;32mreturn\u001b[0m \u001b[0mself\u001b[0m\u001b[1;33m.\u001b[0m\u001b[0mcursor\u001b[0m\u001b[1;33m.\u001b[0m\u001b[0mexecute\u001b[0m\u001b[1;33m(\u001b[0m\u001b[0msql\u001b[0m\u001b[1;33m)\u001b[0m\u001b[1;33m\u001b[0m\u001b[1;33m\u001b[0m\u001b[0m\n\u001b[0m\u001b[0;32m     84\u001b[0m             \u001b[1;32melse\u001b[0m\u001b[1;33m:\u001b[0m\u001b[1;33m\u001b[0m\u001b[1;33m\u001b[0m\u001b[0m\n\u001b[0;32m     85\u001b[0m                 \u001b[1;32mreturn\u001b[0m \u001b[0mself\u001b[0m\u001b[1;33m.\u001b[0m\u001b[0mcursor\u001b[0m\u001b[1;33m.\u001b[0m\u001b[0mexecute\u001b[0m\u001b[1;33m(\u001b[0m\u001b[0msql\u001b[0m\u001b[1;33m,\u001b[0m \u001b[0mparams\u001b[0m\u001b[1;33m)\u001b[0m\u001b[1;33m\u001b[0m\u001b[1;33m\u001b[0m\u001b[0m\n",
      "\u001b[1;32m~\\Anaconda3\\envs\\py36\\lib\\site-packages\\django\\db\\backends\\sqlite3\\base.py\u001b[0m in \u001b[0;36mexecute\u001b[1;34m(self, query, params)\u001b[0m\n\u001b[0;32m    299\u001b[0m     \u001b[1;32mdef\u001b[0m \u001b[0mexecute\u001b[0m\u001b[1;33m(\u001b[0m\u001b[0mself\u001b[0m\u001b[1;33m,\u001b[0m \u001b[0mquery\u001b[0m\u001b[1;33m,\u001b[0m \u001b[0mparams\u001b[0m\u001b[1;33m=\u001b[0m\u001b[1;32mNone\u001b[0m\u001b[1;33m)\u001b[0m\u001b[1;33m:\u001b[0m\u001b[1;33m\u001b[0m\u001b[1;33m\u001b[0m\u001b[0m\n\u001b[0;32m    300\u001b[0m         \u001b[1;32mif\u001b[0m \u001b[0mparams\u001b[0m \u001b[1;32mis\u001b[0m \u001b[1;32mNone\u001b[0m\u001b[1;33m:\u001b[0m\u001b[1;33m\u001b[0m\u001b[1;33m\u001b[0m\u001b[0m\n\u001b[1;32m--> 301\u001b[1;33m             \u001b[1;32mreturn\u001b[0m \u001b[0mDatabase\u001b[0m\u001b[1;33m.\u001b[0m\u001b[0mCursor\u001b[0m\u001b[1;33m.\u001b[0m\u001b[0mexecute\u001b[0m\u001b[1;33m(\u001b[0m\u001b[0mself\u001b[0m\u001b[1;33m,\u001b[0m \u001b[0mquery\u001b[0m\u001b[1;33m)\u001b[0m\u001b[1;33m\u001b[0m\u001b[1;33m\u001b[0m\u001b[0m\n\u001b[0m\u001b[0;32m    302\u001b[0m         \u001b[0mquery\u001b[0m \u001b[1;33m=\u001b[0m \u001b[0mself\u001b[0m\u001b[1;33m.\u001b[0m\u001b[0mconvert_query\u001b[0m\u001b[1;33m(\u001b[0m\u001b[0mquery\u001b[0m\u001b[1;33m)\u001b[0m\u001b[1;33m\u001b[0m\u001b[1;33m\u001b[0m\u001b[0m\n\u001b[0;32m    303\u001b[0m         \u001b[1;32mreturn\u001b[0m \u001b[0mDatabase\u001b[0m\u001b[1;33m.\u001b[0m\u001b[0mCursor\u001b[0m\u001b[1;33m.\u001b[0m\u001b[0mexecute\u001b[0m\u001b[1;33m(\u001b[0m\u001b[0mself\u001b[0m\u001b[1;33m,\u001b[0m \u001b[0mquery\u001b[0m\u001b[1;33m,\u001b[0m \u001b[0mparams\u001b[0m\u001b[1;33m)\u001b[0m\u001b[1;33m\u001b[0m\u001b[1;33m\u001b[0m\u001b[0m\n",
      "\u001b[1;31mOperationalError\u001b[0m: no such column: hong"
     ]
    }
   ],
   "source": [
    "cursor.execute(SQL)"
   ]
  },
  {
   "cell_type": "markdown",
   "metadata": {},
   "source": [
    "그 이유는 값들이 **문자열이 아니라 변수명**으로 들어갔기 때문이다. f rotation으로 생성된 문자열을 출력해봤으면 바로 발견할 수 있었던 문제인데 바보 같았다."
   ]
  },
  {
   "cell_type": "code",
   "execution_count": 47,
   "metadata": {
    "ExecuteTime": {
     "end_time": "2020-02-21T04:30:42.158683Z",
     "start_time": "2020-02-21T04:30:42.154693Z"
    }
   },
   "outputs": [
    {
     "name": "stdout",
     "output_type": "stream",
     "text": [
      "SELECT b.id, title, cnt, username, category\n",
      "FROM myboard_board b, auth_user u\n",
      "\n",
      "WHERE b.author_id = u.id\n",
      "AND username= hong\n",
      "AND category= common\n",
      "\n"
     ]
    }
   ],
   "source": [
    "print(SQL)"
   ]
  },
  {
   "cell_type": "markdown",
   "metadata": {},
   "source": [
    "마지막 두줄에서 `'hong'`과 `'common'`으로 들어갔어야했다.\n",
    "\n",
    "아래와 같이 작은 따옴표로 감싸주기만 하면 해결된다."
   ]
  },
  {
   "cell_type": "code",
   "execution_count": 48,
   "metadata": {
    "ExecuteTime": {
     "end_time": "2020-02-21T04:31:33.263136Z",
     "start_time": "2020-02-21T04:31:33.260140Z"
    }
   },
   "outputs": [],
   "source": [
    "SQL = f\"\"\"SELECT b.id, title, cnt, username, category\n",
    "FROM myboard_board b, auth_user u\n",
    "\n",
    "WHERE b.author_id = u.id\n",
    "AND username= '{username}'\n",
    "AND category= '{category}'\n",
    "\"\"\""
   ]
  },
  {
   "cell_type": "code",
   "execution_count": 49,
   "metadata": {
    "ExecuteTime": {
     "end_time": "2020-02-21T04:31:42.024667Z",
     "start_time": "2020-02-21T04:31:42.019731Z"
    }
   },
   "outputs": [
    {
     "data": {
      "text/plain": [
       "<django.db.backends.sqlite3.base.SQLiteCursorWrapper at 0x18c20c4c1f8>"
      ]
     },
     "execution_count": 49,
     "metadata": {},
     "output_type": "execute_result"
    }
   ],
   "source": [
    "cursor.execute(SQL)"
   ]
  },
  {
   "cell_type": "markdown",
   "metadata": {},
   "source": [
    "잘 된다. 분하다....."
   ]
  },
  {
   "cell_type": "markdown",
   "metadata": {},
   "source": [
    "## 1.2 얼굴 인식 예제\n",
    "\n",
    "얼굴 사진을 업로드하면 db의 파일과 대조해서 로그인을 수행하는 기능을 추가할 거다. 업로드된 이미지 파일들은 `static` 폴더에서 따로 관리하고, 나머지 정보는 SQLite로 만든 테이블에서 관리한다.\n",
    "\n",
    "SQLite에서는 3개 필드로 구성된 테이블을 만든다.\n",
    "- 고유 id\n",
    "- 유저명\n",
    "- 이미지 파일 경로"
   ]
  },
  {
   "cell_type": "code",
   "execution_count": null,
   "metadata": {},
   "outputs": [],
   "source": [
    "CREATE TABLE myboard_image(\n",
    "id INTEGER PRIMARY KEY AUTOINCREMENT,\n",
    "author_id INTEGER NOT NULL,\n",
    "filename VARCHAR(50) NOT NULL,\n",
    "FOREIGN KEY (author_id) REFERENCES auth_user(id)  /* 여타 테이블과 join 하기 위해*/\n",
    ")"
   ]
  },
  {
   "cell_type": "markdown",
   "metadata": {},
   "source": [
    "이제 SQL로 db에 입력하는 문장을 짜야한다. python에서는 model 객체를 생성해서 `create` 또는 11111을 활용하면 쉽게 생성할 수 있었는데, SQL은 좀 더 실험을 해봐야 알 수 있겠다.\n",
    "\n",
    "마찬가지로 SQLite를 활용하면 SQL문을 어떻게 적성해야할지 힌트를 얻을 수 있다.\n",
    "\n",
    "`데이터보기` 탭에서 `새 레코드` 버튼을 누르면 내가 입력한 내용에 맞추어 SQL문 예시를 작성해준다.\n",
    "\n",
    "<img src=sql_ex.jpg?>"
   ]
  },
  {
   "cell_type": "markdown",
   "metadata": {},
   "source": [
    "### 1.2.1 DB에서 유저명과 일치하는 이미지들 불러와서 띄우기"
   ]
  },
  {
   "cell_type": "code",
   "execution_count": 50,
   "metadata": {
    "ExecuteTime": {
     "end_time": "2020-02-21T04:58:08.605718Z",
     "start_time": "2020-02-21T04:58:08.599676Z"
    }
   },
   "outputs": [
    {
     "name": "stdout",
     "output_type": "stream",
     "text": [
      "3\n"
     ]
    }
   ],
   "source": [
    "username = 'hong'\n",
    "\n",
    "sql = f\"\"\"SELECT id from auth_user where username='{username}'\"\"\"\n",
    "\n",
    "cursor.execute(sql)\n",
    "\n",
    "author_id = cursor.fetchone()[0]\n",
    "\n",
    "print(author_id)"
   ]
  },
  {
   "cell_type": "code",
   "execution_count": 51,
   "metadata": {
    "ExecuteTime": {
     "end_time": "2020-02-21T05:13:57.617875Z",
     "start_time": "2020-02-21T05:13:57.601037Z"
    }
   },
   "outputs": [],
   "source": [
    "filename = 'face02.jpg'"
   ]
  },
  {
   "cell_type": "code",
   "execution_count": 52,
   "metadata": {
    "ExecuteTime": {
     "end_time": "2020-02-21T05:13:59.935205Z",
     "start_time": "2020-02-21T05:13:59.931978Z"
    }
   },
   "outputs": [],
   "source": [
    "SQL = f\"\"\"\n",
    "INSERT INTO \"main\".\"myboard_image\"\n",
    "(\"author_id\", \"filename\")\n",
    "VALUES ({author_id}, '{filename}');\n",
    "\"\"\""
   ]
  },
  {
   "cell_type": "code",
   "execution_count": 54,
   "metadata": {
    "ExecuteTime": {
     "end_time": "2020-02-21T05:14:34.160985Z",
     "start_time": "2020-02-21T05:14:34.148065Z"
    }
   },
   "outputs": [
    {
     "data": {
      "text/plain": [
       "<django.db.backends.sqlite3.base.SQLiteCursorWrapper at 0x18c20c4c1f8>"
      ]
     },
     "execution_count": 54,
     "metadata": {},
     "output_type": "execute_result"
    }
   ],
   "source": [
    "cursor.execute(SQL)"
   ]
  },
  {
   "cell_type": "code",
   "execution_count": 60,
   "metadata": {
    "ExecuteTime": {
     "end_time": "2020-02-21T05:50:19.849783Z",
     "start_time": "2020-02-21T05:50:19.845794Z"
    }
   },
   "outputs": [
    {
     "name": "stdout",
     "output_type": "stream",
     "text": [
      "SELECT filename\n",
      "    FROM myboard_image\n",
      "    WHERE author_id = (SELECT id FROM auth_user WHERE username = 'hong')\n",
      "    \n"
     ]
    }
   ],
   "source": [
    "SQL = f\"\"\"SELECT filename\n",
    "    FROM myboard_image\n",
    "    WHERE author_id = (SELECT id FROM auth_user WHERE username = '{username}')\n",
    "    \"\"\"\n",
    "print(SQL)"
   ]
  },
  {
   "cell_type": "code",
   "execution_count": 61,
   "metadata": {
    "ExecuteTime": {
     "end_time": "2020-02-21T05:50:20.457145Z",
     "start_time": "2020-02-21T05:50:20.452141Z"
    }
   },
   "outputs": [
    {
     "name": "stdout",
     "output_type": "stream",
     "text": [
      "{'datas': [{'filename': 'f1.jpg'}, {'filename': 'f2.jpg'}, {'filename': 'f3.jpg'}, {'filename': 'f4.jpg'}, {'filename': 'f5.jpg'}], 'username': 'hong'}\n"
     ]
    }
   ],
   "source": [
    "cursor = connection.cursor()\n",
    "\n",
    "cursor.execute(SQL)\n",
    "data = dictfetchall(cursor)\n",
    "context = {'datas': data, 'username': username}\n",
    "\n",
    "print(context)"
   ]
  },
  {
   "cell_type": "code",
   "execution_count": 75,
   "metadata": {
    "ExecuteTime": {
     "end_time": "2020-02-21T06:16:14.483337Z",
     "start_time": "2020-02-21T06:16:14.469757Z"
    }
   },
   "outputs": [
    {
     "name": "stdout",
     "output_type": "stream",
     "text": [
      "f1.jpg\n",
      "f2.jpg\n",
      "f3.jpg\n",
      "f4.jpg\n",
      "f5.jpg\n"
     ]
    }
   ],
   "source": [
    "for d in data:\n",
    "    print(d['filename'])"
   ]
  },
  {
   "cell_type": "code",
   "execution_count": 69,
   "metadata": {
    "ExecuteTime": {
     "end_time": "2020-02-21T05:54:27.650860Z",
     "start_time": "2020-02-21T05:54:27.645733Z"
    }
   },
   "outputs": [],
   "source": [
    "from django.shortcuts import render\n",
    "from django.test import RequestFactory\n",
    "rf = RequestFactory()\n",
    "request = rf.get('/myboard/photolist/')"
   ]
  },
  {
   "cell_type": "code",
   "execution_count": 70,
   "metadata": {
    "ExecuteTime": {
     "end_time": "2020-02-21T05:54:28.442167Z",
     "start_time": "2020-02-21T05:54:28.437181Z"
    }
   },
   "outputs": [
    {
     "name": "stdout",
     "output_type": "stream",
     "text": [
      "\n",
      "hong  <br>\n",
      "\n",
      "<form action=\"upload\" method=\"post\" enctype=\"multipart/form-data\">\n",
      "    <input type='hidden' name='csrfmiddlewaretoken' value='GiPcBAWodEOx7jSdvY7dy24Q2Bh50nayZ4f63MtrX0fXGqgIlyfybhJy68PNJzVz' />\n",
      "    <input type=\"file\" name=\"filename\" /> <br>\n",
      "    <input type=\"submit\" value=\"사진전송\"/> <br>\n",
      "    <input type=\"hidden\" name='username' value=\"hong\"/>\n",
      "</form>\n",
      "\n",
      "\n",
      "<img src=\"/static/faces/hong/f1.jpg\" width=\"100\"> <br>\n",
      "\n",
      "<img src=\"/static/faces/hong/f2.jpg\" width=\"100\"> <br>\n",
      "\n",
      "<img src=\"/static/faces/hong/f3.jpg\" width=\"100\"> <br>\n",
      "\n",
      "<img src=\"/static/faces/hong/f4.jpg\" width=\"100\"> <br>\n",
      "\n",
      "<img src=\"/static/faces/hong/f5.jpg\" width=\"100\"> <br>\n",
      "\n"
     ]
    }
   ],
   "source": [
    "response = render(request, \"myboard/photolist.html\", context)\n",
    "\n",
    "print(response.content.decode())"
   ]
  },
  {
   "cell_type": "markdown",
   "metadata": {},
   "source": [
    "### 1.2.2 이미지를 업로드하면 유저명의 디렉토리에 저장하기\n",
    "\n",
    "django에서 제공하는 `SimpleUploadedFile` 모듈을 활용하면 file 전송도 `RequestFactory`에서 실험해볼 수 있다.\n",
    "\n",
    "\n",
    "### `SimpleUploadedFile`\n",
    "- `SimpleUploadedFile('저장할 파일명', 바이너리로 읽은 이미지, content_type='image/jpeg')`"
   ]
  },
  {
   "cell_type": "code",
   "execution_count": 80,
   "metadata": {
    "ExecuteTime": {
     "end_time": "2020-02-21T06:37:49.350732Z",
     "start_time": "2020-02-21T06:37:49.345633Z"
    }
   },
   "outputs": [],
   "source": [
    "from django.core.files.uploadedfile import SimpleUploadedFile\n",
    "f = open('static/faces/hong/f1.jpg', 'rb')\n",
    "\n",
    "file_upload = SimpleUploadedFile('test1.jpg', f.read(), content_type = 'image/jpeg')\n",
    "\n",
    "datas = {\n",
    "    \"filename\": file_upload, \"username\": \"hong\"\n",
    "}\n",
    "\n",
    "request = rf.post('myboard/upload', data = datas, format='multipart')"
   ]
  },
  {
   "cell_type": "code",
   "execution_count": 81,
   "metadata": {
    "ExecuteTime": {
     "end_time": "2020-02-21T06:37:58.704435Z",
     "start_time": "2020-02-21T06:37:58.701458Z"
    }
   },
   "outputs": [],
   "source": [
    "file = request.FILES['filename']\n",
    "filename = file._name"
   ]
  },
  {
   "cell_type": "code",
   "execution_count": 82,
   "metadata": {
    "ExecuteTime": {
     "end_time": "2020-02-21T06:37:59.311976Z",
     "start_time": "2020-02-21T06:37:59.308036Z"
    }
   },
   "outputs": [
    {
     "data": {
      "text/plain": [
       "'test1.jpg'"
      ]
     },
     "execution_count": 82,
     "metadata": {},
     "output_type": "execute_result"
    }
   ],
   "source": [
    "filename"
   ]
  },
  {
   "cell_type": "markdown",
   "metadata": {},
   "source": [
    "request 메세지가 제대로 생성되었다.\n",
    "\n",
    "저장도 실험해본다."
   ]
  },
  {
   "cell_type": "code",
   "execution_count": 85,
   "metadata": {
    "ExecuteTime": {
     "end_time": "2020-02-21T06:39:42.296900Z",
     "start_time": "2020-02-21T06:39:42.292916Z"
    }
   },
   "outputs": [],
   "source": [
    "fp = open(settings.BASE_DIR + f\"/static/faces/{username}/\" + filename, \"wb\")\n",
    "for chunk in file.chunks():\n",
    "    fp.write(chunk)\n",
    "fp.close()"
   ]
  },
  {
   "cell_type": "markdown",
   "metadata": {},
   "source": [
    "잘된다."
   ]
  },
  {
   "cell_type": "markdown",
   "metadata": {},
   "source": [
    "### 1.2.3 시간 남으면 AJAX로 구현한다\n",
    "\n",
    "`사진 전송` 버튼을 눌러서 업로드가 실행될 때 새로 업로드된 이미지가 페이지 리프레시 없이 화면에 추가되도록 한다."
   ]
  },
  {
   "cell_type": "code",
   "execution_count": null,
   "metadata": {},
   "outputs": [],
   "source": []
  },
  {
   "cell_type": "markdown",
   "metadata": {},
   "source": [
    "### 1.2.4 시간 더 남으면 view class로도 해본다"
   ]
  },
  {
   "cell_type": "code",
   "execution_count": null,
   "metadata": {},
   "outputs": [],
   "source": []
  }
 ],
 "metadata": {
  "kernelspec": {
   "display_name": "Django Shell-Plus",
   "language": "python",
   "name": "django_extensions"
  },
  "language_info": {
   "codemirror_mode": {
    "name": "ipython",
    "version": 3
   },
   "file_extension": ".py",
   "mimetype": "text/x-python",
   "name": "python",
   "nbconvert_exporter": "python",
   "pygments_lexer": "ipython3",
   "version": "3.6.10"
  },
  "varInspector": {
   "cols": {
    "lenName": 16,
    "lenType": 16,
    "lenVar": 40
   },
   "kernels_config": {
    "python": {
     "delete_cmd_postfix": "",
     "delete_cmd_prefix": "del ",
     "library": "var_list.py",
     "varRefreshCmd": "print(var_dic_list())"
    },
    "r": {
     "delete_cmd_postfix": ") ",
     "delete_cmd_prefix": "rm(",
     "library": "var_list.r",
     "varRefreshCmd": "cat(var_dic_list()) "
    }
   },
   "types_to_exclude": [
    "module",
    "function",
    "builtin_function_or_method",
    "instance",
    "_Feature"
   ],
   "window_display": false
  }
 },
 "nbformat": 4,
 "nbformat_minor": 4
}

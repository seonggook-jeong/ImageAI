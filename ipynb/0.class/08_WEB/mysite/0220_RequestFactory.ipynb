{
 "cells": [
  {
   "cell_type": "code",
   "execution_count": 7,
   "metadata": {
    "ExecuteTime": {
     "end_time": "2020-02-20T08:17:29.809172Z",
     "start_time": "2020-02-20T08:17:29.803188Z"
    }
   },
   "outputs": [],
   "source": [
    "from django.test import RequestFactory\n",
    "rf = RequestFactory()\n",
    "\n",
    "from django.core.paginator import Paginator\n",
    "from django.shortcuts import render, get_object_or_404, redirect"
   ]
  },
  {
   "cell_type": "code",
   "execution_count": 2,
   "metadata": {
    "ExecuteTime": {
     "end_time": "2020-02-20T08:02:37.208565Z",
     "start_time": "2020-02-20T08:02:37.204578Z"
    }
   },
   "outputs": [],
   "source": [
    "url = '/myboard/ajaxget?page=2'\n",
    "request = rf.get(url)    #가상의 request 메시지를 만들어준다."
   ]
  },
  {
   "cell_type": "code",
   "execution_count": 3,
   "metadata": {
    "ExecuteTime": {
     "end_time": "2020-02-20T08:02:54.852462Z",
     "start_time": "2020-02-20T08:02:54.844483Z"
    }
   },
   "outputs": [
    {
     "data": {
      "text/plain": [
       "'2'"
      ]
     },
     "execution_count": 3,
     "metadata": {},
     "output_type": "execute_result"
    }
   ],
   "source": [
    "page = request.GET.get('page', 1)\n",
    "page"
   ]
  },
  {
   "cell_type": "code",
   "execution_count": 9,
   "metadata": {
    "ExecuteTime": {
     "end_time": "2020-02-20T08:17:55.345703Z",
     "start_time": "2020-02-20T08:17:55.333679Z"
    }
   },
   "outputs": [],
   "source": [
    "datas = [{'id': 1, 'name': '홍길동1'},\n",
    "         {'id': 2, 'name': '홍길동2'},\n",
    "         {'id': 3, 'name': '홍길동3'},\n",
    "         {'id': 4, 'name': '홍길동4'},\n",
    "         {'id': 5, 'name': '홍길동5'},\n",
    "         {'id': 6, 'name': '홍길동6'},\n",
    "         {'id': 7, 'name': '홍길동7'},\n",
    "        ]\n",
    "\n",
    "p = Paginator(datas, 3)  # 페이지당 글 수\n",
    "sub = p.page(page)\n",
    "response = render(request, \"myboard/page.html\", {'datas': sub})"
   ]
  },
  {
   "cell_type": "code",
   "execution_count": 10,
   "metadata": {
    "ExecuteTime": {
     "end_time": "2020-02-20T08:17:59.824499Z",
     "start_time": "2020-02-20T08:17:59.819512Z"
    }
   },
   "outputs": [
    {
     "data": {
      "text/plain": [
       "<HttpResponse status_code=200, \"text/html; charset=utf-8\">"
      ]
     },
     "execution_count": 10,
     "metadata": {},
     "output_type": "execute_result"
    }
   ],
   "source": [
    "response"
   ]
  },
  {
   "cell_type": "code",
   "execution_count": 14,
   "metadata": {
    "ExecuteTime": {
     "end_time": "2020-02-20T08:20:14.952799Z",
     "start_time": "2020-02-20T08:20:14.947872Z"
    }
   },
   "outputs": [
    {
     "name": "stdout",
     "output_type": "stream",
     "text": [
      "\n",
      "\n",
      "\n",
      "\n",
      "   4  / 홍길동4  <br>\n",
      "\n",
      "\n",
      "\n",
      "   5  / 홍길동5  <br>\n",
      "\n",
      "\n",
      "\n",
      "   6  / 홍길동6  <br>\n",
      "\n",
      "\n",
      "\n",
      "\n",
      "        \n",
      "          <a href=\"?page=1\">&laquo;</a>\n",
      "        \n",
      "\n",
      "        \n",
      "          \n",
      "            <a href=\"?page=1\">1</a>\n",
      "          \n",
      "        \n",
      "          \n",
      "            <span>2 </span>\n",
      "          \n",
      "        \n",
      "          \n",
      "            <a href=\"?page=3\">3</a>\n",
      "          \n",
      "        \n",
      "        \n",
      "            <a href=\"?page=3\">&raquo;</a>\n",
      "        \n",
      "    \n",
      "\n"
     ]
    }
   ],
   "source": [
    "print(response.content.decode())"
   ]
  },
  {
   "cell_type": "code",
   "execution_count": null,
   "metadata": {},
   "outputs": [],
   "source": []
  }
 ],
 "metadata": {
  "kernelspec": {
   "display_name": "Django Shell-Plus",
   "language": "python",
   "name": "django_extensions"
  },
  "language_info": {
   "codemirror_mode": {
    "name": "ipython",
    "version": 3
   },
   "file_extension": ".py",
   "mimetype": "text/x-python",
   "name": "python",
   "nbconvert_exporter": "python",
   "pygments_lexer": "ipython3",
   "version": "3.6.10"
  },
  "varInspector": {
   "cols": {
    "lenName": 16,
    "lenType": 16,
    "lenVar": 40
   },
   "kernels_config": {
    "python": {
     "delete_cmd_postfix": "",
     "delete_cmd_prefix": "del ",
     "library": "var_list.py",
     "varRefreshCmd": "print(var_dic_list())"
    },
    "r": {
     "delete_cmd_postfix": ") ",
     "delete_cmd_prefix": "rm(",
     "library": "var_list.r",
     "varRefreshCmd": "cat(var_dic_list()) "
    }
   },
   "types_to_exclude": [
    "module",
    "function",
    "builtin_function_or_method",
    "instance",
    "_Feature"
   ],
   "window_display": false
  }
 },
 "nbformat": 4,
 "nbformat_minor": 4
}

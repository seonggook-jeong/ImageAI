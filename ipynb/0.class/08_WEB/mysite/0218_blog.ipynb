{
 "cells": [
  {
   "cell_type": "markdown",
   "metadata": {},
   "source": [
    "# Post 레코드 생성"
   ]
  },
  {
   "cell_type": "code",
   "execution_count": 38,
   "metadata": {
    "ExecuteTime": {
     "end_time": "2020-02-18T05:37:13.067743Z",
     "start_time": "2020-02-18T05:37:13.064751Z"
    }
   },
   "outputs": [],
   "source": [
    "from blog.models import Post\n",
    "from django.contrib.auth.models import User"
   ]
  },
  {
   "cell_type": "code",
   "execution_count": 8,
   "metadata": {
    "ExecuteTime": {
     "end_time": "2020-02-18T01:25:40.420517Z",
     "start_time": "2020-02-18T01:25:40.416471Z"
    }
   },
   "outputs": [],
   "source": [
    "u = User.objects.all().get(username='lee')    #u = User.objects.all().filter(username='lee')"
   ]
  },
  {
   "cell_type": "code",
   "execution_count": 9,
   "metadata": {
    "ExecuteTime": {
     "end_time": "2020-02-18T01:25:40.883150Z",
     "start_time": "2020-02-18T01:25:40.879162Z"
    }
   },
   "outputs": [
    {
     "data": {
      "text/plain": [
       "<User: lee>"
      ]
     },
     "execution_count": 9,
     "metadata": {},
     "output_type": "execute_result"
    }
   ],
   "source": [
    "u"
   ]
  },
  {
   "cell_type": "code",
   "execution_count": 2,
   "metadata": {
    "ExecuteTime": {
     "end_time": "2020-02-18T01:18:24.426623Z",
     "start_time": "2020-02-18T01:18:24.423675Z"
    }
   },
   "outputs": [],
   "source": [
    "p = Post(title='오늘 점심 메뉴', text='쭈꾸미볶음밥')"
   ]
  },
  {
   "cell_type": "code",
   "execution_count": 12,
   "metadata": {
    "ExecuteTime": {
     "end_time": "2020-02-18T01:27:23.626246Z",
     "start_time": "2020-02-18T01:27:23.623276Z"
    }
   },
   "outputs": [],
   "source": [
    "p.author = u"
   ]
  },
  {
   "cell_type": "code",
   "execution_count": 13,
   "metadata": {
    "ExecuteTime": {
     "end_time": "2020-02-18T01:27:24.346398Z",
     "start_time": "2020-02-18T01:27:24.336464Z"
    }
   },
   "outputs": [],
   "source": [
    "p.save()"
   ]
  },
  {
   "cell_type": "code",
   "execution_count": 18,
   "metadata": {
    "ExecuteTime": {
     "end_time": "2020-02-18T01:30:38.067449Z",
     "start_time": "2020-02-18T01:30:38.064504Z"
    }
   },
   "outputs": [],
   "source": [
    "p.title = \"오늘 점심 메뉴\""
   ]
  },
  {
   "cell_type": "code",
   "execution_count": 19,
   "metadata": {
    "ExecuteTime": {
     "end_time": "2020-02-18T01:30:38.995462Z",
     "start_time": "2020-02-18T01:30:38.982540Z"
    }
   },
   "outputs": [],
   "source": [
    "p.save()"
   ]
  },
  {
   "cell_type": "code",
   "execution_count": 20,
   "metadata": {
    "ExecuteTime": {
     "end_time": "2020-02-18T01:31:11.721571Z",
     "start_time": "2020-02-18T01:31:11.711591Z"
    }
   },
   "outputs": [],
   "source": [
    "p.publish()"
   ]
  },
  {
   "cell_type": "code",
   "execution_count": 21,
   "metadata": {
    "ExecuteTime": {
     "end_time": "2020-02-18T01:35:59.581413Z",
     "start_time": "2020-02-18T01:35:59.568448Z"
    }
   },
   "outputs": [
    {
     "data": {
      "text/plain": [
       "<Post: 오늘 저녁 메뉴>"
      ]
     },
     "execution_count": 21,
     "metadata": {},
     "output_type": "execute_result"
    }
   ],
   "source": [
    "#아니면 이렇게도 만들 수 있다.\n",
    "Post.objects.create(title='오늘 저녁 메뉴', text='뭐지?', author=u)"
   ]
  },
  {
   "cell_type": "markdown",
   "metadata": {},
   "source": [
    "`.objects.create`는 생성과 동시에 저정한다."
   ]
  },
  {
   "cell_type": "markdown",
   "metadata": {},
   "source": [
    "# ID PW 대조\n",
    "\n",
    "django에서 만들어놓은 `authenticate` 함수를 활용해서 유저 id/pw를 대조할 수 있다."
   ]
  },
  {
   "cell_type": "code",
   "execution_count": 22,
   "metadata": {
    "ExecuteTime": {
     "end_time": "2020-02-18T04:35:47.538163Z",
     "start_time": "2020-02-18T04:35:47.535112Z"
    }
   },
   "outputs": [],
   "source": [
    "from django.contrib.auth import authenticate"
   ]
  },
  {
   "cell_type": "code",
   "execution_count": 36,
   "metadata": {
    "ExecuteTime": {
     "end_time": "2020-02-18T05:31:40.609401Z",
     "start_time": "2020-02-18T05:31:40.544522Z"
    }
   },
   "outputs": [
    {
     "name": "stdout",
     "output_type": "stream",
     "text": [
      "home\n"
     ]
    }
   ],
   "source": [
    "user = authenticate(username='home', password='home1234')\n",
    "print(user)"
   ]
  },
  {
   "cell_type": "markdown",
   "metadata": {},
   "source": [
    "일치할 경우 `유저명`을, 일치하지 않을 경우 `None`을 리턴한다."
   ]
  },
  {
   "cell_type": "code",
   "execution_count": 39,
   "metadata": {
    "ExecuteTime": {
     "end_time": "2020-02-18T05:37:16.726671Z",
     "start_time": "2020-02-18T05:37:16.661825Z"
    }
   },
   "outputs": [
    {
     "data": {
      "text/plain": [
       "<User: hong>"
      ]
     },
     "execution_count": 39,
     "metadata": {},
     "output_type": "execute_result"
    }
   ],
   "source": [
    "user = authenticate(username='hong', password='hong1234')\n",
    "user"
   ]
  },
  {
   "cell_type": "code",
   "execution_count": 40,
   "metadata": {
    "ExecuteTime": {
     "end_time": "2020-02-18T05:37:17.466403Z",
     "start_time": "2020-02-18T05:37:17.462358Z"
    }
   },
   "outputs": [
    {
     "data": {
      "text/plain": [
       "False"
      ]
     },
     "execution_count": 40,
     "metadata": {},
     "output_type": "execute_result"
    }
   ],
   "source": [
    "user == None"
   ]
  },
  {
   "cell_type": "code",
   "execution_count": null,
   "metadata": {},
   "outputs": [],
   "source": []
  }
 ],
 "metadata": {
  "kernelspec": {
   "display_name": "Django Shell-Plus",
   "language": "python",
   "name": "django_extensions"
  },
  "language_info": {
   "codemirror_mode": {
    "name": "ipython",
    "version": 3
   },
   "file_extension": ".py",
   "mimetype": "text/x-python",
   "name": "python",
   "nbconvert_exporter": "python",
   "pygments_lexer": "ipython3",
   "version": "3.6.10"
  },
  "varInspector": {
   "cols": {
    "lenName": 16,
    "lenType": 16,
    "lenVar": 40
   },
   "kernels_config": {
    "python": {
     "delete_cmd_postfix": "",
     "delete_cmd_prefix": "del ",
     "library": "var_list.py",
     "varRefreshCmd": "print(var_dic_list())"
    },
    "r": {
     "delete_cmd_postfix": ") ",
     "delete_cmd_prefix": "rm(",
     "library": "var_list.r",
     "varRefreshCmd": "cat(var_dic_list()) "
    }
   },
   "types_to_exclude": [
    "module",
    "function",
    "builtin_function_or_method",
    "instance",
    "_Feature"
   ],
   "window_display": false
  }
 },
 "nbformat": 4,
 "nbformat_minor": 4
}

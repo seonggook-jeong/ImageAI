{
 "cells": [
  {
   "cell_type": "markdown",
   "metadata": {
    "ExecuteTime": {
     "end_time": "2020-01-15T00:37:33.179650Z",
     "start_time": "2020-01-15T00:37:33.175661Z"
    }
   },
   "source": [
    "<컨테이너 구성 요소>\n",
    "\n",
    "1. 파일 시스템\n",
    "\n",
    "    - Go lang: dependency가 없다\n",
    "    - Docker: Go lang으로 되어있다 --> dependency가 없다\n",
    "    - **Overlay File System**: 통합 마운트 파일 시스템; 가상으로 덮어씀; 기존 아키텍쳐에 레이어를 덮어쓰기 때문에 아키텍쳐에 독립적인 구동을 가능하게 함\n",
    "    \n",
    "\n",
    "2. 컨트롤 그룹(C Group)\n",
    "\n",
    "    - 격리: 특정 컨테이너가 접근 가능한 cpu, memory, block, device, network 등을 지정할 수 있음\n",
    "        - 보안, 메모리 관리 등에 용이함\n",
    "        \n",
    "asciinema.org cli 녹화"
   ]
  },
  {
   "cell_type": "markdown",
   "metadata": {},
   "source": [
    "### Web request\n",
    "- Get\n",
    "> URL에 모든 데이터를 넘기는 방식\n",
    "\n",
    "    - 데이터가 너무 길어질 경우 잘림\n",
    "\n",
    "\n",
    "- Post\n",
    "> URL에 데이터를 넘기지 않고, request body에 데이터를 담는 방식\n",
    "\n",
    "    - 길이 무제한"
   ]
  },
  {
   "cell_type": "markdown",
   "metadata": {},
   "source": [
    "### Flask\n",
    "> 마이크로 서비스를 만들기 편리한 프레임워크\n",
    "\n",
    "- 파이썬의 대표적 두 프레임워크 중 하나이다. (다른 하나는 Django)\n",
    "- cmd에서 `pip install flask`로 설치한다.\n",
    "\n",
    "- 앱.py 파일 생성\n",
    "\n",
    "- cmd에서 FLASK_APP과 FLASK_ENV를 설정해준다.\n",
    "    - `set FLASK_APP=앱.py`\n",
    "    - `set FLASK_ENV=development`\n",
    "    \n",
    "- cmd에서 `flask run`으로 실행한다.\n",
    "    - 리턴되는 URL에 접속하여 앱이 실행되는 것을 확인할 수 있다.\n",
    "    - **주의** 앱.py와 cmd의 디렉토리가 일치해야 한다."
   ]
  },
  {
   "cell_type": "code",
   "execution_count": 8,
   "metadata": {
    "ExecuteTime": {
     "end_time": "2020-01-15T08:34:14.533010Z",
     "start_time": "2020-01-15T08:34:14.520045Z"
    }
   },
   "outputs": [],
   "source": [
    "#VSCode로 작성한 main.py 소스\n",
    "from flask import Flask, escape, request\n",
    "\n",
    "app = Flask(__name__)\n",
    "\n",
    "db = {}\n",
    "id = 0\n",
    "\n",
    "@app.route('/users', methods = ['POST'])\n",
    "def create_user():\n",
    "    global id\n",
    "    body = request.json   #Nonetype Error: POST할 내용을 json 형식으로 전달해야함\n",
    "    print(body)\n",
    "    body['id'] = id\n",
    "    db[str(id)] = body\n",
    "    id += 1\n",
    "    return body\n",
    "\n",
    "@app.route('/users/<id>', methods = ['GET', 'PUT', 'DELETE'])\n",
    "def select_user(id):\n",
    "    if id not in db:\n",
    "        return {}, 404\n",
    "    return db[id]\n",
    "\n",
    "def delete_user(id):\n",
    "    del db[id]\n",
    "    return {}\n",
    "\n",
    "def update_user(id):\n",
    "    new_body = request.json\n",
    "    db[id].update(new_body)\n",
    "    return db[id]\n",
    "\n",
    "@app.route('/')\n",
    "def hello():\n",
    "    name = request.args.get(\"name\", \"World\")\n",
    "    return f'Hello, {escape(name)}!'\n",
    "\n",
    "@app.route('/hi', methods = ['POST'])\n",
    "def hi():\n",
    "    return {\n",
    "        \"version\": \"2.0\",\n",
    "        \"template\": {\n",
    "            \"outputs\": [\n",
    "                {\n",
    "                    \"simpleText\": {\n",
    "                        \"text\": \"간단한 텍스트 요소입니다.\"\n",
    "                    }\n",
    "                }\n",
    "            ]\n",
    "        }\n",
    "    }"
   ]
  },
  {
   "cell_type": "markdown",
   "metadata": {},
   "source": [
    "VSCode, Postman 다운로드\n",
    "\n",
    "- VSCode\n",
    "    - 주피터노트북에 비해 py 파일 생성하기 편리하다.\n",
    "    \n",
    "- Postman\n",
    "    - Get, Post 두 가지의 리퀘스트를 번갈아 요청하기 용이하다.\n",
    "        - 브라우저는 Get 방식밖에 지원하지 않음."
   ]
  },
  {
   "cell_type": "code",
   "execution_count": null,
   "metadata": {},
   "outputs": [],
   "source": []
  }
 ],
 "metadata": {
  "kernelspec": {
   "display_name": "Python 3",
   "language": "python",
   "name": "python3"
  },
  "language_info": {
   "codemirror_mode": {
    "name": "ipython",
    "version": 3
   },
   "file_extension": ".py",
   "mimetype": "text/x-python",
   "name": "python",
   "nbconvert_exporter": "python",
   "pygments_lexer": "ipython3",
   "version": "3.7.4"
  },
  "varInspector": {
   "cols": {
    "lenName": 16,
    "lenType": 16,
    "lenVar": 40
   },
   "kernels_config": {
    "python": {
     "delete_cmd_postfix": "",
     "delete_cmd_prefix": "del ",
     "library": "var_list.py",
     "varRefreshCmd": "print(var_dic_list())"
    },
    "r": {
     "delete_cmd_postfix": ") ",
     "delete_cmd_prefix": "rm(",
     "library": "var_list.r",
     "varRefreshCmd": "cat(var_dic_list()) "
    }
   },
   "types_to_exclude": [
    "module",
    "function",
    "builtin_function_or_method",
    "instance",
    "_Feature"
   ],
   "window_display": false
  }
 },
 "nbformat": 4,
 "nbformat_minor": 2
}

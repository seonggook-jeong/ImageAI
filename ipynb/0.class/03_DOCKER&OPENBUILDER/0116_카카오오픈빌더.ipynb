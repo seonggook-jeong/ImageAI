{
 "cells": [
  {
   "attachments": {
    "image.png": {
     "image/png": "[encoded data removed]"
    }
   },
   "cell_type": "markdown",
   "metadata": {},
   "source": [
    "# 카카오 오픈빌더로 챗봇 만들기\n",
    "\n",
    "카카오 오픈빌더란?\n",
    "\n",
    "> 카카오톡 챗봇 만들 때 필요한 거\n",
    "\n",
    "카카오톡 챗봇은 크게 두가지 부분으로 동작한다. **챗봇 자체**와 챗봇을 사용자와 연결해주는 **카카오톡 채널**(구 플러스친구)이다. 그렇기 때문에 챗봇을 만드는 과정도 챗봇을 개발하는 것과 카카오톡 채널의 구색을 맞추는 두 부분으로 나뉜다. 개발은 전자에서만 이루어지기 때문에 이 문서에서는 주로 전자에 대해서만 다룬다.\n",
    "\n",
    "## 1. 필요한 계정들 만들기\n",
    "\n",
    "전술했듯이 카카오톡 챗봇은 두 부분으로 구동되기 때문에 웹사이트 두 곳에서 먼저 초기 작업을 해주어야 한다.\n",
    "\n",
    "### 1. 카카오 채널 파기\n",
    "1. https://accounts.kakao.com/login/kakaoforbusiness 로 가서 로그인한다. \n",
    "- 본인의 카카오톡 계정으로 로그인하면 된다. 만약 카카오 계정이 없다면 먼저 카카오 계정을 만들어야 한다.\n",
    "\n",
    "\n",
    "2. 오른쪽 상단의\n",
    "![image.png](attachment:image.png) \n",
    "버튼을 누르면 새로운 채널을 생성할 수 있다.\n",
    "\n",
    "\n",
    "3. 페이지에서 안내하는대로 채널을 판다.\n",
    "- https://center-pf.kakao.com/profiles 로 들어가서 제대로 파졌는지 확인할 수 있다.\n",
    "\n",
    "### 2. 카카오 i 등록하기\n"
   ]
  },
  {
   "cell_type": "code",
   "execution_count": null,
   "metadata": {},
   "outputs": [],
   "source": []
  }
 ],
 "metadata": {
  "kernelspec": {
   "display_name": "Python 3",
   "language": "python",
   "name": "python3"
  },
  "language_info": {
   "codemirror_mode": {
    "name": "ipython",
    "version": 3
   },
   "file_extension": ".py",
   "mimetype": "text/x-python",
   "name": "python",
   "nbconvert_exporter": "python",
   "pygments_lexer": "ipython3",
   "version": "3.7.4"
  },
  "varInspector": {
   "cols": {
    "lenName": 16,
    "lenType": 16,
    "lenVar": 40
   },
   "kernels_config": {
    "python": {
     "delete_cmd_postfix": "",
     "delete_cmd_prefix": "del ",
     "library": "var_list.py",
     "varRefreshCmd": "print(var_dic_list())"
    },
    "r": {
     "delete_cmd_postfix": ") ",
     "delete_cmd_prefix": "rm(",
     "library": "var_list.r",
     "varRefreshCmd": "cat(var_dic_list()) "
    }
   },
   "types_to_exclude": [
    "module",
    "function",
    "builtin_function_or_method",
    "instance",
    "_Feature"
   ],
   "window_display": false
  }
 },
 "nbformat": 4,
 "nbformat_minor": 2
}

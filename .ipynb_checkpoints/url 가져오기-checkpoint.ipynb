{
 "cells": [
  {
   "cell_type": "code",
   "execution_count": 1,
   "metadata": {},
   "outputs": [],
   "source": [
    "from selenium import webdriver\n",
    "from urllib.parse import quote\n",
    "from selenium.webdriver.common.keys import Keys\n",
    "import time\n",
    "import pandas as pd \n",
    "import re"
   ]
  },
  {
   "cell_type": "code",
   "execution_count": 2,
   "metadata": {},
   "outputs": [],
   "source": [
    "handle = 'sunnydopia@live.co.kr' #인스타그램 아이디\n",
    "pwd = '*helloimys90'  #인스타그램 비밀번호\n",
    "keyword= '치즈케이크'   #검색할 키워드\n",
    "num_of_pages = 1000 #몇 번 스크롤 할 건지; e.g. 200 --> 1730개 게시글 긁어짐"
   ]
  },
  {
   "cell_type": "code",
   "execution_count": 3,
   "metadata": {},
   "outputs": [],
   "source": [
    "def InstagramUrlFromKeyword (browser,keyword,num_of_pagedowns):\n",
    "    keyword_url_encode=quote(keyword)\n",
    "    url='https://www.instagram.com/explore/tags/'+keyword+'/?hl=ko'\n",
    "    browser.get(url)\n",
    "    time.sleep(3)\n",
    "    login = browser.find_element_by_xpath('//*[@id=\"react-root\"]/section/nav/div[2]/div/div/div[3]/div/span/a[1]/button')\n",
    "    login.click()\n",
    "    time.sleep(3)\n",
    "    user_id = browser.find_element_by_class_name('_2hvTZ.pexuQ.zyHYP')\n",
    "    pw = browser.find_element_by_xpath('//*[@id=\"react-root\"]/section/main/div/article/div/div[1]/div/form/div[3]/div/label/input')\n",
    "    user_id.send_keys(handle)\n",
    "    pw.send_keys(pwd)\n",
    "    button = browser.find_element_by_xpath('//*[@id=\"react-root\"]/section/main/div/article/div/div[1]/div/form/div[4]/button')\n",
    "    button.click()\n",
    "    time.sleep(3)\n",
    "    arr_href=[]\n",
    "    body=browser.find_element_by_tag_name('body')\n",
    "    for i in range(num_of_pagedowns):\n",
    "        body.send_keys(Keys.PAGE_DOWN)\n",
    "        time.sleep(1)\n",
    "        post=browser.find_elements_by_class_name('v1Nh3')\n",
    "        for j in post:\n",
    "            href_str=j.find_element_by_css_selector('a').get_attribute('href')\n",
    "            arr_href.append(href_str)\n",
    "    return set(arr_href)    \n"
   ]
  },
  {
   "cell_type": "code",
   "execution_count": null,
   "metadata": {},
   "outputs": [],
   "source": [
    "browser= webdriver.Chrome()\n",
    "arr=InstagramUrlFromKeyword(browser, keyword, num_of_pages)"
   ]
  },
  {
   "cell_type": "code",
   "execution_count": null,
   "metadata": {},
   "outputs": [],
   "source": [
    "threshold = len(arr) // 4"
   ]
  },
  {
   "cell_type": "code",
   "execution_count": null,
   "metadata": {},
   "outputs": [],
   "source": [
    "texts = [text1, text2, text3, text4]\n",
    "text1 = arr[:threshold]\n",
    "text2 = arr[threshold: 2*threshold]\n",
    "text3 = arr[2*threshold: 3*threshold]\n",
    "text4 = arr[3*threshold:]"
   ]
  },
  {
   "cell_type": "code",
   "execution_count": null,
   "metadata": {},
   "outputs": [],
   "source": [
    "for k in range(len(texts)):\n",
    "    with open('url_part' + str(k+1) + '.txt', 'w') as f:\n",
    "        for url in texts[k]:\n",
    "            f.write(url + '\\n')"
   ]
  }
 ],
 "metadata": {
  "kernelspec": {
   "display_name": "Python 3",
   "language": "python",
   "name": "python3"
  },
  "language_info": {
   "codemirror_mode": {
    "name": "ipython",
    "version": 3
   },
   "file_extension": ".py",
   "mimetype": "text/x-python",
   "name": "python",
   "nbconvert_exporter": "python",
   "pygments_lexer": "ipython3",
   "version": "3.7.4"
  }
 },
 "nbformat": 4,
 "nbformat_minor": 2
}

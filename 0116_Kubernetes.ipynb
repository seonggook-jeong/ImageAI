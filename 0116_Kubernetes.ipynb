{
 "cells": [
  {
   "cell_type": "markdown",
   "metadata": {},
   "source": [
    "# 쿠버네티스\n",
    "> 도커 오케스트레이션 플랫폼이다.\n",
    "\n",
    "이게 무슨 말이냐면...\n",
    "\n",
    "\n",
    "### 왜 필요할까? \n",
    "\n",
    "--> Pet이 아닌 Cattle로 다루기 위해!\n",
    "\n",
    "(Pet은 대체 불가능한 반면, Cattle은 쉽게 대체할 수 있다는 점에서 기원)\n",
    "\n",
    "1. 가동 중지 시간이 없는지 확인\n",
    "2. 다운되면 다른 컨테이너 다시 시작\n",
    "3. 분산 시스템을 탄력적으로 실행\n",
    "4. 애플리케이션의 확장과 장애 조치\n",
    "5. 배포 패턴 제공(카나리아 배포)\n",
    "    - 카나리아: 하나씩 하나씩\n",
    "    \n",
    "    \n",
    "### 기능\n",
    "\n",
    "1. 서비스 디스커버리와 로드 밸런싱\n",
    "2. 스토리지 오케스트레이션\n",
    "3. 자동화된 롤아웃과 롤백\n",
    "4. 자동화된 빈 패킹 (bin packing)\n",
    "5. 자동화된 복구 (self-healing)\n",
    "6. 시크릿과 구성 관리\n",
    "\n",
    "### \"쿠버네티스는 PaaS가 아니다\"\n",
    "> PaaS == Platform as a Service\n",
    "> 클라우드에서 제공되는 완전한 개발 및 배포 환경이다.\n",
    "\n",
    "    - PaaS는 개발 - 테스트 - 배포 - 운영에 이르는 라이프사이클을 전반적으로 제공한다.\n",
    "\n",
    "1. 지원하는 애플리케이션의 유형을 제약하지 않는다.\n",
    "2. 소스 코드를 배포하지 않으며 애플리케이션을 빌드하지 않는다.\n",
    "3. 애플리케이션 레벨의 서비스를 제공하지 않는다. (MQ, Spark, mysql...)\n",
    "4. 로깅, 모니터링 또는 경보 솔루션을 포함하지 않는다.\n",
    "5. 포괄적인 머신 설정, 유지보수, 관리, 자동 복구 시스템을 제공하거나 채택하지 않는다.\n",
    "\n",
    "\n",
    "\n",
    "### 기본 개념\n",
    "- Namespace\n",
    "\n",
    "- Node\n",
    "\n",
    "- Persistance Volume\n",
    "\n",
    "- Storage Plus\n",
    "\n",
    "- Workload\n",
    "> 작업 부하; 실행하는 모든 것이 wordload이다.\n",
    "\n",
    "- Pod\n",
    "> 쿠버네티스 앱의 기본 실행 및 배포 단위\n",
    "> 얘를 중심으로 모든 workload가 배치된다.\n",
    "\n",
    "    -yamL(야믈) 표현 방식을 쓴다; json에서 중괄호 없앤 느낌\n",
    "    \n",
    "- Deployment\n",
    "    - 롤아웃\n",
    "    - 롤백\n",
    "    - \n",
    "\n",
    "Daemon\n",
    "\n",
    "\n",
    "### CI(Continuous Integration)\n",
    "> 통합 형상/소스 저장소; e.g. 깃헙\n",
    "\n",
    "    1. 백업\n",
    "    2. 히스토리\n",
    "    3. 포트폴리오 관리\n",
    "\n",
    "\n",
    "### CD(Continuous Deployment)\n",
    "> CI로 통합한 소스를 지속적으로 배치하는 것\n",
    "\n",
    "\n",
    "### 로드밸런서\n",
    "> 서버 부하 분산 장치\n",
    "\n",
    "    - 서버 부하 분산이란?: 컴퓨터 자원들에게 작업을 나누는 것\n",
    "    \n",
    "- 운영체제 / 네트워크 로드밸런서가 있다\n",
    "    - 운영체제 로드밸런서: 물리적 프로세서 간에 작업을 스케줄링 한다.\n",
    "    - 네트워크 로드밸런서: 백엔드에서 네트워크 작업을 스케줄링 한다. L4와 L7은 네트워크 로드밸런서에 해당한다.\n",
    "    \n",
    "- L4와 L7\n",
    "    - 예전에는 L4를 많이 썼는데, 요즘은 L7을 많이 이용하는 추세라고.\n",
    "    \n"
   ]
  },
  {
   "cell_type": "markdown",
   "metadata": {
    "ExecuteTime": {
     "end_time": "2020-01-16T00:43:00.060575Z",
     "start_time": "2020-01-16T00:42:59.759057Z"
    }
   },
   "source": [
    "from flask import g\n",
    "\n",
    "g.id = 0\n",
    "g.db = {}\n",
    "\n",
    "전역 변수화한다!!\n",
    "\n",
    "def create_user():\n",
    "    g.id = ...   #global 명령어를 호출하지 않아도 된다. 이미 전역 변수화되었기 때문에!"
   ]
  },
  {
   "cell_type": "code",
   "execution_count": null,
   "metadata": {},
   "outputs": [],
   "source": []
  }
 ],
 "metadata": {
  "kernelspec": {
   "display_name": "Python 3",
   "language": "python",
   "name": "python3"
  },
  "language_info": {
   "codemirror_mode": {
    "name": "ipython",
    "version": 3
   },
   "file_extension": ".py",
   "mimetype": "text/x-python",
   "name": "python",
   "nbconvert_exporter": "python",
   "pygments_lexer": "ipython3",
   "version": "3.7.4"
  },
  "varInspector": {
   "cols": {
    "lenName": 16,
    "lenType": 16,
    "lenVar": 40
   },
   "kernels_config": {
    "python": {
     "delete_cmd_postfix": "",
     "delete_cmd_prefix": "del ",
     "library": "var_list.py",
     "varRefreshCmd": "print(var_dic_list())"
    },
    "r": {
     "delete_cmd_postfix": ") ",
     "delete_cmd_prefix": "rm(",
     "library": "var_list.r",
     "varRefreshCmd": "cat(var_dic_list()) "
    }
   },
   "types_to_exclude": [
    "module",
    "function",
    "builtin_function_or_method",
    "instance",
    "_Feature"
   ],
   "window_display": false
  }
 },
 "nbformat": 4,
 "nbformat_minor": 2
}
